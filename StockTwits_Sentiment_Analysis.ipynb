{
 "cells": [
  {
   "cell_type": "code",
   "execution_count": 1,
   "metadata": {
    "collapsed": true
   },
   "outputs": [],
   "source": [
    "import graphlab\n",
    "import re"
   ]
  },
  {
   "cell_type": "code",
   "execution_count": 2,
   "metadata": {
    "collapsed": false
   },
   "outputs": [
    {
     "name": "stderr",
     "output_type": "stream",
     "text": [
      "[INFO] graphlab.cython.cy_server: GraphLab Create v2.1 started. Logging: /tmp/graphlab_server_1502453972.log\n"
     ]
    },
    {
     "name": "stdout",
     "output_type": "stream",
     "text": [
      "This non-commercial license of GraphLab Create for academic use is assigned to quentin.picard@gmail.com and will expire on July 18, 2018.\n"
     ]
    }
   ],
   "source": [
    "# Limit number of worker processes. This preserves system memory, which prevents hosted notebooks from crashing.\n",
    "graphlab.set_runtime_config('GRAPHLAB_DEFAULT_NUM_PYLAMBDA_WORKERS', 4)"
   ]
  },
  {
   "cell_type": "code",
   "execution_count": 3,
   "metadata": {
    "collapsed": false
   },
   "outputs": [
    {
     "data": {
      "text/html": [
       "<pre>Unable to parse line \"pseng88,\"$AEG $AEG inverse head and shoulder on weekly chart. looking for a break above the 5.7x area \"</pre>"
      ],
      "text/plain": [
       "Unable to parse line \"pseng88,\"$AEG $AEG inverse head and shoulder on weekly chart. looking for a break above the 5.7x area \""
      ]
     },
     "metadata": {},
     "output_type": "display_data"
    },
    {
     "data": {
      "text/html": [
       "<pre>Unable to parse line \"low volatility and positi\",2017-08-04T20:43:21Z,91074294,Bullish,AEG,pseng88\"</pre>"
      ],
      "text/plain": [
       "Unable to parse line \"low volatility and positi\",2017-08-04T20:43:21Z,91074294,Bullish,AEG,pseng88\""
      ]
     },
     "metadata": {},
     "output_type": "display_data"
    },
    {
     "data": {
      "text/html": [
       "<pre>Unable to parse line \"Federico Rodenas,\"$MCP Molycorp Next contract : $AAPL $SSNLF $FSLR $TSLA $NSANY $TM $SHCAF\"</pre>"
      ],
      "text/plain": [
       "Unable to parse line \"Federico Rodenas,\"$MCP Molycorp Next contract : $AAPL $SSNLF $FSLR $TSLA $NSANY $TM $SHCAF\""
      ]
     },
     "metadata": {},
     "output_type": "display_data"
    },
    {
     "data": {
      "text/html": [
       "<pre>Unable to parse line \"Andrew Kreimer,\"$APF 89% Buy signal for the next 40 days\"</pre>"
      ],
      "text/plain": [
       "Unable to parse line \"Andrew Kreimer,\"$APF 89% Buy signal for the next 40 days\""
      ]
     },
     "metadata": {},
     "output_type": "display_data"
    },
    {
     "data": {
      "text/html": [
       "<pre>Unable to parse line \"More signals and data at http://www.algonell.com/ideas/\",2016-10-17T03:59:41Z,64830423,Bullish,APF,algonell\"</pre>"
      ],
      "text/plain": [
       "Unable to parse line \"More signals and data at http://www.algonell.com/ideas/\",2016-10-17T03:59:41Z,64830423,Bullish,APF,algonell\""
      ]
     },
     "metadata": {},
     "output_type": "display_data"
    },
    {
     "data": {
      "text/html": [
       "<pre>Unable to parse line \"Andrew Kreimer,\"$APF 84% Buy signal for the next 40 days\"</pre>"
      ],
      "text/plain": [
       "Unable to parse line \"Andrew Kreimer,\"$APF 84% Buy signal for the next 40 days\""
      ]
     },
     "metadata": {},
     "output_type": "display_data"
    },
    {
     "data": {
      "text/html": [
       "<pre>Unable to parse line \"More signals and data at http://www.algonell.com/ideas/\",2016-10-19T00:01:32Z,64988531,Bullish,APF,algonell\"</pre>"
      ],
      "text/plain": [
       "Unable to parse line \"More signals and data at http://www.algonell.com/ideas/\",2016-10-19T00:01:32Z,64988531,Bullish,APF,algonell\""
      ]
     },
     "metadata": {},
     "output_type": "display_data"
    },
    {
     "data": {
      "text/html": [
       "<pre>Unable to parse line \"Andrew Kreimer,\"$APF 70% Buy signal for the next 45 days\"</pre>"
      ],
      "text/plain": [
       "Unable to parse line \"Andrew Kreimer,\"$APF 70% Buy signal for the next 45 days\""
      ]
     },
     "metadata": {},
     "output_type": "display_data"
    },
    {
     "data": {
      "text/html": [
       "<pre>Unable to parse line \"More signals and data at http://www.algonell.com/ideas/\",2016-10-19T23:56:53Z,65089074,Bullish,APF,algonell\"</pre>"
      ],
      "text/plain": [
       "Unable to parse line \"More signals and data at http://www.algonell.com/ideas/\",2016-10-19T23:56:53Z,65089074,Bullish,APF,algonell\""
      ]
     },
     "metadata": {},
     "output_type": "display_data"
    },
    {
     "data": {
      "text/html": [
       "<pre>Unable to parse line \"Andrew Kreimer,\"$AMOV 97% Bullish signal for the next 60 days\"</pre>"
      ],
      "text/plain": [
       "Unable to parse line \"Andrew Kreimer,\"$AMOV 97% Bullish signal for the next 60 days\""
      ]
     },
     "metadata": {},
     "output_type": "display_data"
    },
    {
     "data": {
      "text/html": [
       "<pre>2162 lines failed to parse correctly</pre>"
      ],
      "text/plain": [
       "2162 lines failed to parse correctly"
      ]
     },
     "metadata": {},
     "output_type": "display_data"
    },
    {
     "data": {
      "text/html": [
       "<pre>Finished parsing file /Users/Quentin/Documents/StockTwits/stocktwits/twits.csv</pre>"
      ],
      "text/plain": [
       "Finished parsing file /Users/Quentin/Documents/StockTwits/stocktwits/twits.csv"
      ]
     },
     "metadata": {},
     "output_type": "display_data"
    },
    {
     "data": {
      "text/html": [
       "<pre>Parsing completed. Parsed 100 lines in 0.170655 secs.</pre>"
      ],
      "text/plain": [
       "Parsing completed. Parsed 100 lines in 0.170655 secs."
      ]
     },
     "metadata": {},
     "output_type": "display_data"
    },
    {
     "name": "stdout",
     "output_type": "stream",
     "text": [
      "------------------------------------------------------\n",
      "Inferred types from first 100 line(s) of file as \n",
      "column_type_hints=[str,str,str,int,str,str,str]\n",
      "If parsing fails due to incorrect types, you can correct\n",
      "the inferred type list above and pass it to read_csv in\n",
      "the column_type_hints argument\n",
      "------------------------------------------------------\n"
     ]
    },
    {
     "data": {
      "text/html": [
       "<pre>Unable to parse line \"Federico Rodenas,\"$MCP Molycorp Next contract : $AAPL $SSNLF $FSLR $TSLA $NSANY $TM $SHCAF\"</pre>"
      ],
      "text/plain": [
       "Unable to parse line \"Federico Rodenas,\"$MCP Molycorp Next contract : $AAPL $SSNLF $FSLR $TSLA $NSANY $TM $SHCAF\""
      ]
     },
     "metadata": {},
     "output_type": "display_data"
    },
    {
     "data": {
      "text/html": [
       "<pre>Unable to parse line \"pseng88,\"$AEG $AEG inverse head and shoulder on weekly chart. looking for a break above the 5.7x area \"</pre>"
      ],
      "text/plain": [
       "Unable to parse line \"pseng88,\"$AEG $AEG inverse head and shoulder on weekly chart. looking for a break above the 5.7x area \""
      ]
     },
     "metadata": {},
     "output_type": "display_data"
    },
    {
     "data": {
      "text/html": [
       "<pre>Unable to parse line \"low volatility and positi\",2017-08-04T20:43:21Z,91074294,Bullish,AEG,pseng88\"</pre>"
      ],
      "text/plain": [
       "Unable to parse line \"low volatility and positi\",2017-08-04T20:43:21Z,91074294,Bullish,AEG,pseng88\""
      ]
     },
     "metadata": {},
     "output_type": "display_data"
    },
    {
     "data": {
      "text/html": [
       "<pre>Unable to parse line \"Andrew Kreimer,\"$APF 89% Buy signal for the next 40 days\"</pre>"
      ],
      "text/plain": [
       "Unable to parse line \"Andrew Kreimer,\"$APF 89% Buy signal for the next 40 days\""
      ]
     },
     "metadata": {},
     "output_type": "display_data"
    },
    {
     "data": {
      "text/html": [
       "<pre>Unable to parse line \"More signals and data at http://www.algonell.com/ideas/\",2016-10-17T03:59:41Z,64830423,Bullish,APF,algonell\"</pre>"
      ],
      "text/plain": [
       "Unable to parse line \"More signals and data at http://www.algonell.com/ideas/\",2016-10-17T03:59:41Z,64830423,Bullish,APF,algonell\""
      ]
     },
     "metadata": {},
     "output_type": "display_data"
    },
    {
     "data": {
      "text/html": [
       "<pre>Unable to parse line \"Andrew Kreimer,\"$APF 84% Buy signal for the next 40 days\"</pre>"
      ],
      "text/plain": [
       "Unable to parse line \"Andrew Kreimer,\"$APF 84% Buy signal for the next 40 days\""
      ]
     },
     "metadata": {},
     "output_type": "display_data"
    },
    {
     "data": {
      "text/html": [
       "<pre>Unable to parse line \"More signals and data at http://www.algonell.com/ideas/\",2016-10-19T00:01:32Z,64988531,Bullish,APF,algonell\"</pre>"
      ],
      "text/plain": [
       "Unable to parse line \"More signals and data at http://www.algonell.com/ideas/\",2016-10-19T00:01:32Z,64988531,Bullish,APF,algonell\""
      ]
     },
     "metadata": {},
     "output_type": "display_data"
    },
    {
     "data": {
      "text/html": [
       "<pre>Unable to parse line \"Andrew Kreimer,\"$APF 70% Buy signal for the next 45 days\"</pre>"
      ],
      "text/plain": [
       "Unable to parse line \"Andrew Kreimer,\"$APF 70% Buy signal for the next 45 days\""
      ]
     },
     "metadata": {},
     "output_type": "display_data"
    },
    {
     "data": {
      "text/html": [
       "<pre>Unable to parse line \"More signals and data at http://www.algonell.com/ideas/\",2016-10-19T23:56:53Z,65089074,Bullish,APF,algonell\"</pre>"
      ],
      "text/plain": [
       "Unable to parse line \"More signals and data at http://www.algonell.com/ideas/\",2016-10-19T23:56:53Z,65089074,Bullish,APF,algonell\""
      ]
     },
     "metadata": {},
     "output_type": "display_data"
    },
    {
     "data": {
      "text/html": [
       "<pre>Unable to parse line \"Andrew Kreimer,\"$AMOV 97% Bullish signal for the next 60 days\"</pre>"
      ],
      "text/plain": [
       "Unable to parse line \"Andrew Kreimer,\"$AMOV 97% Bullish signal for the next 60 days\""
      ]
     },
     "metadata": {},
     "output_type": "display_data"
    },
    {
     "data": {
      "text/html": [
       "<pre>2163 lines failed to parse correctly</pre>"
      ],
      "text/plain": [
       "2163 lines failed to parse correctly"
      ]
     },
     "metadata": {},
     "output_type": "display_data"
    },
    {
     "data": {
      "text/html": [
       "<pre>Finished parsing file /Users/Quentin/Documents/StockTwits/stocktwits/twits.csv</pre>"
      ],
      "text/plain": [
       "Finished parsing file /Users/Quentin/Documents/StockTwits/stocktwits/twits.csv"
      ]
     },
     "metadata": {},
     "output_type": "display_data"
    },
    {
     "data": {
      "text/html": [
       "<pre>Parsing completed. Parsed 21280 lines in 0.113631 secs.</pre>"
      ],
      "text/plain": [
       "Parsing completed. Parsed 21280 lines in 0.113631 secs."
      ]
     },
     "metadata": {},
     "output_type": "display_data"
    }
   ],
   "source": [
    "twits = graphlab.SFrame.read_csv('twits.csv', double_quote=False) #ignoring the parsing errors"
   ]
  },
  {
   "cell_type": "code",
   "execution_count": 4,
   "metadata": {
    "collapsed": false
   },
   "outputs": [
    {
     "data": {
      "text/html": [
       "<div style=\"max-height:1000px;max-width:1500px;overflow:auto;\"><table frame=\"box\" rules=\"cols\">\n",
       "    <tr>\n",
       "        <th style=\"padding-left: 1em; padding-right: 1em; text-align: center\">User Name</th>\n",
       "        <th style=\"padding-left: 1em; padding-right: 1em; text-align: center\">body</th>\n",
       "        <th style=\"padding-left: 1em; padding-right: 1em; text-align: center\">created_at</th>\n",
       "        <th style=\"padding-left: 1em; padding-right: 1em; text-align: center\">id</th>\n",
       "        <th style=\"padding-left: 1em; padding-right: 1em; text-align: center\">sentiment</th>\n",
       "        <th style=\"padding-left: 1em; padding-right: 1em; text-align: center\">symbol</th>\n",
       "    </tr>\n",
       "    <tr>\n",
       "        <td style=\"padding-left: 1em; padding-right: 1em; text-align: center; vertical-align: top\">tactical</td>\n",
       "        <td style=\"padding-left: 1em; padding-right: 1em; text-align: center; vertical-align: top\">$AAUKF closing gap into<br>model purchase zone on ...</td>\n",
       "        <td style=\"padding-left: 1em; padding-right: 1em; text-align: center; vertical-align: top\">2012-09-20T09:53:00Z</td>\n",
       "        <td style=\"padding-left: 1em; padding-right: 1em; text-align: center; vertical-align: top\">9604105</td>\n",
       "        <td style=\"padding-left: 1em; padding-right: 1em; text-align: center; vertical-align: top\">Bullish</td>\n",
       "        <td style=\"padding-left: 1em; padding-right: 1em; text-align: center; vertical-align: top\">AAUKF</td>\n",
       "    </tr>\n",
       "    <tr>\n",
       "        <td style=\"padding-left: 1em; padding-right: 1em; text-align: center; vertical-align: top\">Aaron Jackson</td>\n",
       "        <td style=\"padding-left: 1em; padding-right: 1em; text-align: center; vertical-align: top\">Most japanese ADRs are<br>sitting near lows.  V ...</td>\n",
       "        <td style=\"padding-left: 1em; padding-right: 1em; text-align: center; vertical-align: top\">2012-10-06T01:03:13Z</td>\n",
       "        <td style=\"padding-left: 1em; padding-right: 1em; text-align: center; vertical-align: top\">9858821</td>\n",
       "        <td style=\"padding-left: 1em; padding-right: 1em; text-align: center; vertical-align: top\">Bearish</td>\n",
       "        <td style=\"padding-left: 1em; padding-right: 1em; text-align: center; vertical-align: top\">MITSY</td>\n",
       "    </tr>\n",
       "    <tr>\n",
       "        <td style=\"padding-left: 1em; padding-right: 1em; text-align: center; vertical-align: top\">Ian</td>\n",
       "        <td style=\"padding-left: 1em; padding-right: 1em; text-align: center; vertical-align: top\">$SLW $RGLD $TRX Are<br>Royalty Companies With ...</td>\n",
       "        <td style=\"padding-left: 1em; padding-right: 1em; text-align: center; vertical-align: top\">2013-06-27T00:42:21Z</td>\n",
       "        <td style=\"padding-left: 1em; padding-right: 1em; text-align: center; vertical-align: top\">14316534</td>\n",
       "        <td style=\"padding-left: 1em; padding-right: 1em; text-align: center; vertical-align: top\">Bullish</td>\n",
       "        <td style=\"padding-left: 1em; padding-right: 1em; text-align: center; vertical-align: top\">AAUKF</td>\n",
       "    </tr>\n",
       "    <tr>\n",
       "        <td style=\"padding-left: 1em; padding-right: 1em; text-align: center; vertical-align: top\">Market Impulses</td>\n",
       "        <td style=\"padding-left: 1em; padding-right: 1em; text-align: center; vertical-align: top\">$AXAHY  moving towards<br>the Objective after the ...</td>\n",
       "        <td style=\"padding-left: 1em; padding-right: 1em; text-align: center; vertical-align: top\">2014-04-08T09:30:12Z</td>\n",
       "        <td style=\"padding-left: 1em; padding-right: 1em; text-align: center; vertical-align: top\">21837298</td>\n",
       "        <td style=\"padding-left: 1em; padding-right: 1em; text-align: center; vertical-align: top\">Bearish</td>\n",
       "        <td style=\"padding-left: 1em; padding-right: 1em; text-align: center; vertical-align: top\">AXAHY</td>\n",
       "    </tr>\n",
       "    <tr>\n",
       "        <td style=\"padding-left: 1em; padding-right: 1em; text-align: center; vertical-align: top\">Marketmath</td>\n",
       "        <td style=\"padding-left: 1em; padding-right: 1em; text-align: center; vertical-align: top\">$AAUKF AAL.L , seems to<br>be forming a bearish ...</td>\n",
       "        <td style=\"padding-left: 1em; padding-right: 1em; text-align: center; vertical-align: top\">2014-08-04T11:05:10Z</td>\n",
       "        <td style=\"padding-left: 1em; padding-right: 1em; text-align: center; vertical-align: top\">25343226</td>\n",
       "        <td style=\"padding-left: 1em; padding-right: 1em; text-align: center; vertical-align: top\">Bearish</td>\n",
       "        <td style=\"padding-left: 1em; padding-right: 1em; text-align: center; vertical-align: top\">AAUKF</td>\n",
       "    </tr>\n",
       "    <tr>\n",
       "        <td style=\"padding-left: 1em; padding-right: 1em; text-align: center; vertical-align: top\">Michael Angelo Mustillo</td>\n",
       "        <td style=\"padding-left: 1em; padding-right: 1em; text-align: center; vertical-align: top\">Small bizjet orders<br>picking up. ...</td>\n",
       "        <td style=\"padding-left: 1em; padding-right: 1em; text-align: center; vertical-align: top\">2014-08-12T15:02:18Z</td>\n",
       "        <td style=\"padding-left: 1em; padding-right: 1em; text-align: center; vertical-align: top\">25646970</td>\n",
       "        <td style=\"padding-left: 1em; padding-right: 1em; text-align: center; vertical-align: top\">Bullish</td>\n",
       "        <td style=\"padding-left: 1em; padding-right: 1em; text-align: center; vertical-align: top\">DASTY</td>\n",
       "    </tr>\n",
       "    <tr>\n",
       "        <td style=\"padding-left: 1em; padding-right: 1em; text-align: center; vertical-align: top\">etradebaby</td>\n",
       "        <td style=\"padding-left: 1em; padding-right: 1em; text-align: center; vertical-align: top\">$MTLS I think $12.82<br>would be a good spot to ...</td>\n",
       "        <td style=\"padding-left: 1em; padding-right: 1em; text-align: center; vertical-align: top\">2014-08-19T20:54:50Z</td>\n",
       "        <td style=\"padding-left: 1em; padding-right: 1em; text-align: center; vertical-align: top\">25917338</td>\n",
       "        <td style=\"padding-left: 1em; padding-right: 1em; text-align: center; vertical-align: top\">Bullish</td>\n",
       "        <td style=\"padding-left: 1em; padding-right: 1em; text-align: center; vertical-align: top\">DASTY</td>\n",
       "    </tr>\n",
       "    <tr>\n",
       "        <td style=\"padding-left: 1em; padding-right: 1em; text-align: center; vertical-align: top\">TraderX82</td>\n",
       "        <td style=\"padding-left: 1em; padding-right: 1em; text-align: center; vertical-align: top\">$DASTY solid trend on the<br>weekly, like the setup ...</td>\n",
       "        <td style=\"padding-left: 1em; padding-right: 1em; text-align: center; vertical-align: top\">2014-09-17T00:12:26Z</td>\n",
       "        <td style=\"padding-left: 1em; padding-right: 1em; text-align: center; vertical-align: top\">26864030</td>\n",
       "        <td style=\"padding-left: 1em; padding-right: 1em; text-align: center; vertical-align: top\">Bullish</td>\n",
       "        <td style=\"padding-left: 1em; padding-right: 1em; text-align: center; vertical-align: top\">DASTY</td>\n",
       "    </tr>\n",
       "    <tr>\n",
       "        <td style=\"padding-left: 1em; padding-right: 1em; text-align: center; vertical-align: top\">SpecialSits101</td>\n",
       "        <td style=\"padding-left: 1em; padding-right: 1em; text-align: center; vertical-align: top\">Would&amp;#39;ve thought $FCX<br>is the natural buyer for ...</td>\n",
       "        <td style=\"padding-left: 1em; padding-right: 1em; text-align: center; vertical-align: top\">2014-09-20T23:24:32Z</td>\n",
       "        <td style=\"padding-left: 1em; padding-right: 1em; text-align: center; vertical-align: top\">27028346</td>\n",
       "        <td style=\"padding-left: 1em; padding-right: 1em; text-align: center; vertical-align: top\">Bullish</td>\n",
       "        <td style=\"padding-left: 1em; padding-right: 1em; text-align: center; vertical-align: top\">REPYY</td>\n",
       "    </tr>\n",
       "    <tr>\n",
       "        <td style=\"padding-left: 1em; padding-right: 1em; text-align: center; vertical-align: top\">D.R.</td>\n",
       "        <td style=\"padding-left: 1em; padding-right: 1em; text-align: center; vertical-align: top\">$BNPQY $AIG $BCS $AXAHY<br>$DB $SCGLY $OMVKY $EBKDY ...</td>\n",
       "        <td style=\"padding-left: 1em; padding-right: 1em; text-align: center; vertical-align: top\">2014-10-16T13:59:49Z</td>\n",
       "        <td style=\"padding-left: 1em; padding-right: 1em; text-align: center; vertical-align: top\">28059882</td>\n",
       "        <td style=\"padding-left: 1em; padding-right: 1em; text-align: center; vertical-align: top\">Bullish</td>\n",
       "        <td style=\"padding-left: 1em; padding-right: 1em; text-align: center; vertical-align: top\">AXAHY</td>\n",
       "    </tr>\n",
       "</table>\n",
       "<table frame=\"box\" rules=\"cols\">\n",
       "    <tr>\n",
       "        <th style=\"padding-left: 1em; padding-right: 1em; text-align: center\">username</th>\n",
       "    </tr>\n",
       "    <tr>\n",
       "        <td style=\"padding-left: 1em; padding-right: 1em; text-align: center; vertical-align: top\">TacticalQuant</td>\n",
       "    </tr>\n",
       "    <tr>\n",
       "        <td style=\"padding-left: 1em; padding-right: 1em; text-align: center; vertical-align: top\">ATMcharts</td>\n",
       "    </tr>\n",
       "    <tr>\n",
       "        <td style=\"padding-left: 1em; padding-right: 1em; text-align: center; vertical-align: top\">TheAmerican</td>\n",
       "    </tr>\n",
       "    <tr>\n",
       "        <td style=\"padding-left: 1em; padding-right: 1em; text-align: center; vertical-align: top\">Market_Impulses</td>\n",
       "    </tr>\n",
       "    <tr>\n",
       "        <td style=\"padding-left: 1em; padding-right: 1em; text-align: center; vertical-align: top\">marketmath</td>\n",
       "    </tr>\n",
       "    <tr>\n",
       "        <td style=\"padding-left: 1em; padding-right: 1em; text-align: center; vertical-align: top\">rocketPower</td>\n",
       "    </tr>\n",
       "    <tr>\n",
       "        <td style=\"padding-left: 1em; padding-right: 1em; text-align: center; vertical-align: top\">etradebaby</td>\n",
       "    </tr>\n",
       "    <tr>\n",
       "        <td style=\"padding-left: 1em; padding-right: 1em; text-align: center; vertical-align: top\">TraderX82</td>\n",
       "    </tr>\n",
       "    <tr>\n",
       "        <td style=\"padding-left: 1em; padding-right: 1em; text-align: center; vertical-align: top\">SpecialSits101</td>\n",
       "    </tr>\n",
       "    <tr>\n",
       "        <td style=\"padding-left: 1em; padding-right: 1em; text-align: center; vertical-align: top\">SFOscanner</td>\n",
       "    </tr>\n",
       "</table>\n",
       "[10 rows x 7 columns]<br/>\n",
       "</div>"
      ],
      "text/plain": [
       "Columns:\n",
       "\tUser Name\tstr\n",
       "\tbody\tstr\n",
       "\tcreated_at\tstr\n",
       "\tid\tint\n",
       "\tsentiment\tstr\n",
       "\tsymbol\tstr\n",
       "\tusername\tstr\n",
       "\n",
       "Rows: 10\n",
       "\n",
       "Data:\n",
       "+-------------------------+-------------------------------+----------------------+\n",
       "|        User Name        |              body             |      created_at      |\n",
       "+-------------------------+-------------------------------+----------------------+\n",
       "|         tactical        | $AAUKF closing gap into mo... | 2012-09-20T09:53:00Z |\n",
       "|      Aaron Jackson      | Most japanese ADRs are sit... | 2012-10-06T01:03:13Z |\n",
       "|           Ian           | $SLW $RGLD $TRX Are Royalt... | 2013-06-27T00:42:21Z |\n",
       "|     Market Impulses     | $AXAHY  moving towards the... | 2014-04-08T09:30:12Z |\n",
       "|        Marketmath       | $AAUKF AAL.L , seems to be... | 2014-08-04T11:05:10Z |\n",
       "| Michael Angelo Mustillo | Small bizjet orders pickin... | 2014-08-12T15:02:18Z |\n",
       "|        etradebaby       | $MTLS I think $12.82 would... | 2014-08-19T20:54:50Z |\n",
       "|        TraderX82        | $DASTY solid trend on the ... | 2014-09-17T00:12:26Z |\n",
       "|      SpecialSits101     | Would&#39;ve thought $FCX ... | 2014-09-20T23:24:32Z |\n",
       "|           D.R.          | $BNPQY $AIG $BCS $AXAHY $D... | 2014-10-16T13:59:49Z |\n",
       "+-------------------------+-------------------------------+----------------------+\n",
       "+----------+-----------+--------+-----------------+\n",
       "|    id    | sentiment | symbol |     username    |\n",
       "+----------+-----------+--------+-----------------+\n",
       "| 9604105  |  Bullish  | AAUKF  |  TacticalQuant  |\n",
       "| 9858821  |  Bearish  | MITSY  |    ATMcharts    |\n",
       "| 14316534 |  Bullish  | AAUKF  |   TheAmerican   |\n",
       "| 21837298 |  Bearish  | AXAHY  | Market_Impulses |\n",
       "| 25343226 |  Bearish  | AAUKF  |    marketmath   |\n",
       "| 25646970 |  Bullish  | DASTY  |   rocketPower   |\n",
       "| 25917338 |  Bullish  | DASTY  |    etradebaby   |\n",
       "| 26864030 |  Bullish  | DASTY  |    TraderX82    |\n",
       "| 27028346 |  Bullish  | REPYY  |  SpecialSits101 |\n",
       "| 28059882 |  Bullish  | AXAHY  |    SFOscanner   |\n",
       "+----------+-----------+--------+-----------------+\n",
       "[10 rows x 7 columns]"
      ]
     },
     "execution_count": 4,
     "metadata": {},
     "output_type": "execute_result"
    }
   ],
   "source": [
    "twits.head(10)"
   ]
  },
  {
   "cell_type": "code",
   "execution_count": 5,
   "metadata": {
    "collapsed": false
   },
   "outputs": [
    {
     "data": {
      "text/plain": [
       "21280"
      ]
     },
     "execution_count": 5,
     "metadata": {},
     "output_type": "execute_result"
    }
   ],
   "source": [
    "len(twits)"
   ]
  },
  {
   "cell_type": "code",
   "execution_count": 6,
   "metadata": {
    "collapsed": true
   },
   "outputs": [],
   "source": [
    "# remove English stopwords\n",
    "twits['word_count'] = graphlab.text_analytics.count_words(twits['body']).dict_trim_by_keys(graphlab.text_analytics.stopwords(), True)\n"
   ]
  },
  {
   "cell_type": "code",
   "execution_count": 7,
   "metadata": {
    "collapsed": true
   },
   "outputs": [],
   "source": [
    "def clean_words(dico):\n",
    "    for k, v in dico.items():\n",
    "        if re.search('[0-9]', k)!=None or re.search('/', k)!=None or re.search('\\$', k)!=None: #remove numbers/ stocks($) and http addresses\n",
    "            dico.pop(k)\n",
    "    return(dico)"
   ]
  },
  {
   "cell_type": "code",
   "execution_count": 8,
   "metadata": {
    "collapsed": false
   },
   "outputs": [],
   "source": [
    "twits['word_count'] = twits['word_count'].apply(clean_words)"
   ]
  },
  {
   "cell_type": "code",
   "execution_count": 9,
   "metadata": {
    "collapsed": false
   },
   "outputs": [
    {
     "data": {
      "text/html": [
       "<div style=\"max-height:1000px;max-width:1500px;overflow:auto;\"><table frame=\"box\" rules=\"cols\">\n",
       "    <tr>\n",
       "        <th style=\"padding-left: 1em; padding-right: 1em; text-align: center\">User Name</th>\n",
       "        <th style=\"padding-left: 1em; padding-right: 1em; text-align: center\">body</th>\n",
       "        <th style=\"padding-left: 1em; padding-right: 1em; text-align: center\">created_at</th>\n",
       "        <th style=\"padding-left: 1em; padding-right: 1em; text-align: center\">id</th>\n",
       "        <th style=\"padding-left: 1em; padding-right: 1em; text-align: center\">sentiment</th>\n",
       "        <th style=\"padding-left: 1em; padding-right: 1em; text-align: center\">symbol</th>\n",
       "    </tr>\n",
       "    <tr>\n",
       "        <td style=\"padding-left: 1em; padding-right: 1em; text-align: center; vertical-align: top\">tactical</td>\n",
       "        <td style=\"padding-left: 1em; padding-right: 1em; text-align: center; vertical-align: top\">$AAUKF closing gap into<br>model purchase zone on ...</td>\n",
       "        <td style=\"padding-left: 1em; padding-right: 1em; text-align: center; vertical-align: top\">2012-09-20T09:53:00Z</td>\n",
       "        <td style=\"padding-left: 1em; padding-right: 1em; text-align: center; vertical-align: top\">9604105</td>\n",
       "        <td style=\"padding-left: 1em; padding-right: 1em; text-align: center; vertical-align: top\">Bullish</td>\n",
       "        <td style=\"padding-left: 1em; padding-right: 1em; text-align: center; vertical-align: top\">AAUKF</td>\n",
       "    </tr>\n",
       "    <tr>\n",
       "        <td style=\"padding-left: 1em; padding-right: 1em; text-align: center; vertical-align: top\">Aaron Jackson</td>\n",
       "        <td style=\"padding-left: 1em; padding-right: 1em; text-align: center; vertical-align: top\">Most japanese ADRs are<br>sitting near lows.  V ...</td>\n",
       "        <td style=\"padding-left: 1em; padding-right: 1em; text-align: center; vertical-align: top\">2012-10-06T01:03:13Z</td>\n",
       "        <td style=\"padding-left: 1em; padding-right: 1em; text-align: center; vertical-align: top\">9858821</td>\n",
       "        <td style=\"padding-left: 1em; padding-right: 1em; text-align: center; vertical-align: top\">Bearish</td>\n",
       "        <td style=\"padding-left: 1em; padding-right: 1em; text-align: center; vertical-align: top\">MITSY</td>\n",
       "    </tr>\n",
       "    <tr>\n",
       "        <td style=\"padding-left: 1em; padding-right: 1em; text-align: center; vertical-align: top\">Ian</td>\n",
       "        <td style=\"padding-left: 1em; padding-right: 1em; text-align: center; vertical-align: top\">$SLW $RGLD $TRX Are<br>Royalty Companies With ...</td>\n",
       "        <td style=\"padding-left: 1em; padding-right: 1em; text-align: center; vertical-align: top\">2013-06-27T00:42:21Z</td>\n",
       "        <td style=\"padding-left: 1em; padding-right: 1em; text-align: center; vertical-align: top\">14316534</td>\n",
       "        <td style=\"padding-left: 1em; padding-right: 1em; text-align: center; vertical-align: top\">Bullish</td>\n",
       "        <td style=\"padding-left: 1em; padding-right: 1em; text-align: center; vertical-align: top\">AAUKF</td>\n",
       "    </tr>\n",
       "    <tr>\n",
       "        <td style=\"padding-left: 1em; padding-right: 1em; text-align: center; vertical-align: top\">Market Impulses</td>\n",
       "        <td style=\"padding-left: 1em; padding-right: 1em; text-align: center; vertical-align: top\">$AXAHY  moving towards<br>the Objective after the ...</td>\n",
       "        <td style=\"padding-left: 1em; padding-right: 1em; text-align: center; vertical-align: top\">2014-04-08T09:30:12Z</td>\n",
       "        <td style=\"padding-left: 1em; padding-right: 1em; text-align: center; vertical-align: top\">21837298</td>\n",
       "        <td style=\"padding-left: 1em; padding-right: 1em; text-align: center; vertical-align: top\">Bearish</td>\n",
       "        <td style=\"padding-left: 1em; padding-right: 1em; text-align: center; vertical-align: top\">AXAHY</td>\n",
       "    </tr>\n",
       "    <tr>\n",
       "        <td style=\"padding-left: 1em; padding-right: 1em; text-align: center; vertical-align: top\">Marketmath</td>\n",
       "        <td style=\"padding-left: 1em; padding-right: 1em; text-align: center; vertical-align: top\">$AAUKF AAL.L , seems to<br>be forming a bearish ...</td>\n",
       "        <td style=\"padding-left: 1em; padding-right: 1em; text-align: center; vertical-align: top\">2014-08-04T11:05:10Z</td>\n",
       "        <td style=\"padding-left: 1em; padding-right: 1em; text-align: center; vertical-align: top\">25343226</td>\n",
       "        <td style=\"padding-left: 1em; padding-right: 1em; text-align: center; vertical-align: top\">Bearish</td>\n",
       "        <td style=\"padding-left: 1em; padding-right: 1em; text-align: center; vertical-align: top\">AAUKF</td>\n",
       "    </tr>\n",
       "    <tr>\n",
       "        <td style=\"padding-left: 1em; padding-right: 1em; text-align: center; vertical-align: top\">Michael Angelo Mustillo</td>\n",
       "        <td style=\"padding-left: 1em; padding-right: 1em; text-align: center; vertical-align: top\">Small bizjet orders<br>picking up. ...</td>\n",
       "        <td style=\"padding-left: 1em; padding-right: 1em; text-align: center; vertical-align: top\">2014-08-12T15:02:18Z</td>\n",
       "        <td style=\"padding-left: 1em; padding-right: 1em; text-align: center; vertical-align: top\">25646970</td>\n",
       "        <td style=\"padding-left: 1em; padding-right: 1em; text-align: center; vertical-align: top\">Bullish</td>\n",
       "        <td style=\"padding-left: 1em; padding-right: 1em; text-align: center; vertical-align: top\">DASTY</td>\n",
       "    </tr>\n",
       "    <tr>\n",
       "        <td style=\"padding-left: 1em; padding-right: 1em; text-align: center; vertical-align: top\">etradebaby</td>\n",
       "        <td style=\"padding-left: 1em; padding-right: 1em; text-align: center; vertical-align: top\">$MTLS I think $12.82<br>would be a good spot to ...</td>\n",
       "        <td style=\"padding-left: 1em; padding-right: 1em; text-align: center; vertical-align: top\">2014-08-19T20:54:50Z</td>\n",
       "        <td style=\"padding-left: 1em; padding-right: 1em; text-align: center; vertical-align: top\">25917338</td>\n",
       "        <td style=\"padding-left: 1em; padding-right: 1em; text-align: center; vertical-align: top\">Bullish</td>\n",
       "        <td style=\"padding-left: 1em; padding-right: 1em; text-align: center; vertical-align: top\">DASTY</td>\n",
       "    </tr>\n",
       "    <tr>\n",
       "        <td style=\"padding-left: 1em; padding-right: 1em; text-align: center; vertical-align: top\">TraderX82</td>\n",
       "        <td style=\"padding-left: 1em; padding-right: 1em; text-align: center; vertical-align: top\">$DASTY solid trend on the<br>weekly, like the setup ...</td>\n",
       "        <td style=\"padding-left: 1em; padding-right: 1em; text-align: center; vertical-align: top\">2014-09-17T00:12:26Z</td>\n",
       "        <td style=\"padding-left: 1em; padding-right: 1em; text-align: center; vertical-align: top\">26864030</td>\n",
       "        <td style=\"padding-left: 1em; padding-right: 1em; text-align: center; vertical-align: top\">Bullish</td>\n",
       "        <td style=\"padding-left: 1em; padding-right: 1em; text-align: center; vertical-align: top\">DASTY</td>\n",
       "    </tr>\n",
       "    <tr>\n",
       "        <td style=\"padding-left: 1em; padding-right: 1em; text-align: center; vertical-align: top\">SpecialSits101</td>\n",
       "        <td style=\"padding-left: 1em; padding-right: 1em; text-align: center; vertical-align: top\">Would&amp;#39;ve thought $FCX<br>is the natural buyer for ...</td>\n",
       "        <td style=\"padding-left: 1em; padding-right: 1em; text-align: center; vertical-align: top\">2014-09-20T23:24:32Z</td>\n",
       "        <td style=\"padding-left: 1em; padding-right: 1em; text-align: center; vertical-align: top\">27028346</td>\n",
       "        <td style=\"padding-left: 1em; padding-right: 1em; text-align: center; vertical-align: top\">Bullish</td>\n",
       "        <td style=\"padding-left: 1em; padding-right: 1em; text-align: center; vertical-align: top\">REPYY</td>\n",
       "    </tr>\n",
       "    <tr>\n",
       "        <td style=\"padding-left: 1em; padding-right: 1em; text-align: center; vertical-align: top\">D.R.</td>\n",
       "        <td style=\"padding-left: 1em; padding-right: 1em; text-align: center; vertical-align: top\">$BNPQY $AIG $BCS $AXAHY<br>$DB $SCGLY $OMVKY $EBKDY ...</td>\n",
       "        <td style=\"padding-left: 1em; padding-right: 1em; text-align: center; vertical-align: top\">2014-10-16T13:59:49Z</td>\n",
       "        <td style=\"padding-left: 1em; padding-right: 1em; text-align: center; vertical-align: top\">28059882</td>\n",
       "        <td style=\"padding-left: 1em; padding-right: 1em; text-align: center; vertical-align: top\">Bullish</td>\n",
       "        <td style=\"padding-left: 1em; padding-right: 1em; text-align: center; vertical-align: top\">AXAHY</td>\n",
       "    </tr>\n",
       "</table>\n",
       "<table frame=\"box\" rules=\"cols\">\n",
       "    <tr>\n",
       "        <th style=\"padding-left: 1em; padding-right: 1em; text-align: center\">username</th>\n",
       "        <th style=\"padding-left: 1em; padding-right: 1em; text-align: center\">word_count</th>\n",
       "    </tr>\n",
       "    <tr>\n",
       "        <td style=\"padding-left: 1em; padding-right: 1em; text-align: center; vertical-align: top\">TacticalQuant</td>\n",
       "        <td style=\"padding-left: 1em; padding-right: 1em; text-align: center; vertical-align: top\">{'building': 1,<br>'purchase': 1, 'parti ...</td>\n",
       "    </tr>\n",
       "    <tr>\n",
       "        <td style=\"padding-left: 1em; padding-right: 1em; text-align: center; vertical-align: top\">ATMcharts</td>\n",
       "        <td style=\"padding-left: 1em; padding-right: 1em; text-align: center; vertical-align: top\">{'lows.': 1, 'trap?': 1,<br>'adrs': 1, 'japanese' ...</td>\n",
       "    </tr>\n",
       "    <tr>\n",
       "        <td style=\"padding-left: 1em; padding-right: 1em; text-align: center; vertical-align: top\">TheAmerican</td>\n",
       "        <td style=\"padding-left: 1em; padding-right: 1em; text-align: center; vertical-align: top\">{'form:': 1, 'royalty':<br>1, 'companies': 1, 'i ...</td>\n",
       "    </tr>\n",
       "    <tr>\n",
       "        <td style=\"padding-left: 1em; padding-right: 1em; text-align: center; vertical-align: top\">Market_Impulses</td>\n",
       "        <td style=\"padding-left: 1em; padding-right: 1em; text-align: center; vertical-align: top\">{'sell': 1, 'objective':<br>1, 'signal': 1, 'frid ...</td>\n",
       "    </tr>\n",
       "    <tr>\n",
       "        <td style=\"padding-left: 1em; padding-right: 1em; text-align: center; vertical-align: top\">marketmath</td>\n",
       "        <td style=\"padding-left: 1em; padding-right: 1em; text-align: center; vertical-align: top\">{'forming': 1, 'bearish':<br>1, ',': 1, 'scallop': 1, ...</td>\n",
       "    </tr>\n",
       "    <tr>\n",
       "        <td style=\"padding-left: 1em; padding-right: 1em; text-align: center; vertical-align: top\">rocketPower</td>\n",
       "        <td style=\"padding-left: 1em; padding-right: 1em; text-align: center; vertical-align: top\">{'up.': 1, 'small': 1,<br>'bizjet': 1, 'picking': ...</td>\n",
       "    </tr>\n",
       "    <tr>\n",
       "        <td style=\"padding-left: 1em; padding-right: 1em; text-align: center; vertical-align: top\">etradebaby</td>\n",
       "        <td style=\"padding-left: 1em; padding-right: 1em; text-align: center; vertical-align: top\">{'sell': 1, 'good': 1,<br>'spot': 1, 'short': 1, ...</td>\n",
       "    </tr>\n",
       "    <tr>\n",
       "        <td style=\"padding-left: 1em; padding-right: 1em; text-align: center; vertical-align: top\">TraderX82</td>\n",
       "        <td style=\"padding-left: 1em; padding-right: 1em; text-align: center; vertical-align: top\">{'sector': 1, 'weekly,':<br>1, 'trend': 1, ...</td>\n",
       "    </tr>\n",
       "    <tr>\n",
       "        <td style=\"padding-left: 1em; padding-right: 1em; text-align: center; vertical-align: top\">SpecialSits101</td>\n",
       "        <td style=\"padding-left: 1em; padding-right: 1em; text-align: center; vertical-align: top\">{'natural': 1, 'deep': 1,<br>'hearing': 1, 'thought': ...</td>\n",
       "    </tr>\n",
       "    <tr>\n",
       "        <td style=\"padding-left: 1em; padding-right: 1em; text-align: center; vertical-align: top\">SFOscanner</td>\n",
       "        <td style=\"padding-left: 1em; padding-right: 1em; text-align: center; vertical-align: top\">{'stockscan': 1,<br>'dividends': 1, ...</td>\n",
       "    </tr>\n",
       "</table>\n",
       "[20 rows x 8 columns]<br/>Note: Only the head of the SFrame is printed.<br/>You can use print_rows(num_rows=m, num_columns=n) to print more rows and columns.\n",
       "</div>"
      ],
      "text/plain": [
       "Columns:\n",
       "\tUser Name\tstr\n",
       "\tbody\tstr\n",
       "\tcreated_at\tstr\n",
       "\tid\tint\n",
       "\tsentiment\tstr\n",
       "\tsymbol\tstr\n",
       "\tusername\tstr\n",
       "\tword_count\tdict\n",
       "\n",
       "Rows: 20\n",
       "\n",
       "Data:\n",
       "+-------------------------+-------------------------------+----------------------+\n",
       "|        User Name        |              body             |      created_at      |\n",
       "+-------------------------+-------------------------------+----------------------+\n",
       "|         tactical        | $AAUKF closing gap into mo... | 2012-09-20T09:53:00Z |\n",
       "|      Aaron Jackson      | Most japanese ADRs are sit... | 2012-10-06T01:03:13Z |\n",
       "|           Ian           | $SLW $RGLD $TRX Are Royalt... | 2013-06-27T00:42:21Z |\n",
       "|     Market Impulses     | $AXAHY  moving towards the... | 2014-04-08T09:30:12Z |\n",
       "|        Marketmath       | $AAUKF AAL.L , seems to be... | 2014-08-04T11:05:10Z |\n",
       "| Michael Angelo Mustillo | Small bizjet orders pickin... | 2014-08-12T15:02:18Z |\n",
       "|        etradebaby       | $MTLS I think $12.82 would... | 2014-08-19T20:54:50Z |\n",
       "|        TraderX82        | $DASTY solid trend on the ... | 2014-09-17T00:12:26Z |\n",
       "|      SpecialSits101     | Would&#39;ve thought $FCX ... | 2014-09-20T23:24:32Z |\n",
       "|           D.R.          | $BNPQY $AIG $BCS $AXAHY $D... | 2014-10-16T13:59:49Z |\n",
       "+-------------------------+-------------------------------+----------------------+\n",
       "+----------+-----------+--------+-----------------+\n",
       "|    id    | sentiment | symbol |     username    |\n",
       "+----------+-----------+--------+-----------------+\n",
       "| 9604105  |  Bullish  | AAUKF  |  TacticalQuant  |\n",
       "| 9858821  |  Bearish  | MITSY  |    ATMcharts    |\n",
       "| 14316534 |  Bullish  | AAUKF  |   TheAmerican   |\n",
       "| 21837298 |  Bearish  | AXAHY  | Market_Impulses |\n",
       "| 25343226 |  Bearish  | AAUKF  |    marketmath   |\n",
       "| 25646970 |  Bullish  | DASTY  |   rocketPower   |\n",
       "| 25917338 |  Bullish  | DASTY  |    etradebaby   |\n",
       "| 26864030 |  Bullish  | DASTY  |    TraderX82    |\n",
       "| 27028346 |  Bullish  | REPYY  |  SpecialSits101 |\n",
       "| 28059882 |  Bullish  | AXAHY  |    SFOscanner   |\n",
       "+----------+-----------+--------+-----------------+\n",
       "+-------------------------------+\n",
       "|           word_count          |\n",
       "+-------------------------------+\n",
       "| {'building': 1, 'purchase'... |\n",
       "| {'lows.': 1, 'trap?': 1, '... |\n",
       "| {'form:': 1, 'royalty': 1,... |\n",
       "| {'sell': 1, 'objective': 1... |\n",
       "| {'forming': 1, 'bearish': ... |\n",
       "| {'up.': 1, 'small': 1, 'bi... |\n",
       "| {'sell': 1, 'good': 1, 'sp... |\n",
       "| {'sector': 1, 'weekly,': 1... |\n",
       "| {'natural': 1, 'deep': 1, ... |\n",
       "| {'stockscan': 1, 'dividend... |\n",
       "+-------------------------------+\n",
       "[20 rows x 8 columns]\n",
       "Note: Only the head of the SFrame is printed.\n",
       "You can use print_rows(num_rows=m, num_columns=n) to print more rows and columns."
      ]
     },
     "execution_count": 9,
     "metadata": {},
     "output_type": "execute_result"
    }
   ],
   "source": [
    "twits.head(20)"
   ]
  },
  {
   "cell_type": "code",
   "execution_count": 26,
   "metadata": {
    "collapsed": false
   },
   "outputs": [
    {
     "data": {
      "application/javascript": [
       "$(\"head\").append($(\"<link/>\").attr({\n",
       "  rel:  \"stylesheet\",\n",
       "  type: \"text/css\",\n",
       "  href: \"//cdnjs.cloudflare.com/ajax/libs/font-awesome/4.1.0/css/font-awesome.min.css\"\n",
       "}));\n",
       "$(\"head\").append($(\"<link/>\").attr({\n",
       "  rel:  \"stylesheet\",\n",
       "  type: \"text/css\",\n",
       "  href: \"https://static.turi.com/products/graphlab-create/2.1/canvas/css/canvas.css\"\n",
       "}));\n",
       "\n",
       "            (function(){\n",
       "\n",
       "                var e = null;\n",
       "                if (typeof element == 'undefined') {\n",
       "                    var scripts = document.getElementsByTagName('script');\n",
       "                    var thisScriptTag = scripts[scripts.length-1];\n",
       "                    var parentDiv = thisScriptTag.parentNode;\n",
       "                    e = document.createElement('div');\n",
       "                    parentDiv.appendChild(e);\n",
       "                } else {\n",
       "                    e = element[0];\n",
       "                }\n",
       "\n",
       "                if (typeof requirejs !== 'undefined') {\n",
       "                    // disable load timeout; ipython_app.js is large and can take a while to load.\n",
       "                    requirejs.config({waitSeconds: 0});\n",
       "                }\n",
       "\n",
       "                require(['https://static.turi.com/products/graphlab-create/2.1/canvas/js/ipython_app.js'], function(IPythonApp){\n",
       "                    var app = new IPythonApp();\n",
       "                    app.attachView('sarray','Categorical', {\"ipython\": true, \"sketch\": {\"complete\": true, \"numeric\": false, \"num_unique\": 2, \"num_undefined\": 0, \"progress\": 1.0, \"frequent_items\": {\"Bearish\": {\"frequency\": 5272, \"value\": \"Bearish\"}, \"Bullish\": {\"frequency\": 16008, \"value\": \"Bullish\"}}, \"size\": 21280}, \"selected_variable\": {\"name\": [\"<SArray>\"], \"dtype\": \"str\", \"view_component\": \"Categorical\", \"view_file\": \"sarray\", \"descriptives\": {\"rows\": 21280}, \"type\": \"SArray\", \"view_components\": [\"Categorical\"]}, \"histogram\": null}, e);\n",
       "                });\n",
       "            })();\n",
       "        "
      ]
     },
     "metadata": {},
     "output_type": "display_data"
    }
   ],
   "source": [
    "graphlab.canvas.set_target('ipynb')\n",
    "twits['sentiment'].show(view='Categorical')"
   ]
  },
  {
   "cell_type": "code",
   "execution_count": 11,
   "metadata": {
    "collapsed": true
   },
   "outputs": [],
   "source": [
    "train_data,test_data = twits.random_split(.8)"
   ]
  },
  {
   "cell_type": "code",
   "execution_count": 12,
   "metadata": {
    "collapsed": false
   },
   "outputs": [
    {
     "data": {
      "text/html": [
       "<pre>WARNING: The number of feature dimensions in this problem is very large in comparison with the number of examples. Unless an appropriate regularization value is set, this model may not provide accurate predictions for a validation/test set.</pre>"
      ],
      "text/plain": [
       "WARNING: The number of feature dimensions in this problem is very large in comparison with the number of examples. Unless an appropriate regularization value is set, this model may not provide accurate predictions for a validation/test set."
      ]
     },
     "metadata": {},
     "output_type": "display_data"
    },
    {
     "data": {
      "text/html": [
       "<pre>Logistic regression:</pre>"
      ],
      "text/plain": [
       "Logistic regression:"
      ]
     },
     "metadata": {},
     "output_type": "display_data"
    },
    {
     "data": {
      "text/html": [
       "<pre>--------------------------------------------------------</pre>"
      ],
      "text/plain": [
       "--------------------------------------------------------"
      ]
     },
     "metadata": {},
     "output_type": "display_data"
    },
    {
     "data": {
      "text/html": [
       "<pre>Number of examples          : 17064</pre>"
      ],
      "text/plain": [
       "Number of examples          : 17064"
      ]
     },
     "metadata": {},
     "output_type": "display_data"
    },
    {
     "data": {
      "text/html": [
       "<pre>Number of classes           : 2</pre>"
      ],
      "text/plain": [
       "Number of classes           : 2"
      ]
     },
     "metadata": {},
     "output_type": "display_data"
    },
    {
     "data": {
      "text/html": [
       "<pre>Number of feature columns   : 1</pre>"
      ],
      "text/plain": [
       "Number of feature columns   : 1"
      ]
     },
     "metadata": {},
     "output_type": "display_data"
    },
    {
     "data": {
      "text/html": [
       "<pre>Number of unpacked features : 19950</pre>"
      ],
      "text/plain": [
       "Number of unpacked features : 19950"
      ]
     },
     "metadata": {},
     "output_type": "display_data"
    },
    {
     "data": {
      "text/html": [
       "<pre>Number of coefficients    : 19951</pre>"
      ],
      "text/plain": [
       "Number of coefficients    : 19951"
      ]
     },
     "metadata": {},
     "output_type": "display_data"
    },
    {
     "data": {
      "text/html": [
       "<pre>Starting L-BFGS</pre>"
      ],
      "text/plain": [
       "Starting L-BFGS"
      ]
     },
     "metadata": {},
     "output_type": "display_data"
    },
    {
     "data": {
      "text/html": [
       "<pre>--------------------------------------------------------</pre>"
      ],
      "text/plain": [
       "--------------------------------------------------------"
      ]
     },
     "metadata": {},
     "output_type": "display_data"
    },
    {
     "data": {
      "text/html": [
       "<pre>+-----------+----------+-----------+--------------+-------------------+---------------------+</pre>"
      ],
      "text/plain": [
       "+-----------+----------+-----------+--------------+-------------------+---------------------+"
      ]
     },
     "metadata": {},
     "output_type": "display_data"
    },
    {
     "data": {
      "text/html": [
       "<pre>| Iteration | Passes   | Step size | Elapsed Time | Training-accuracy | Validation-accuracy |</pre>"
      ],
      "text/plain": [
       "| Iteration | Passes   | Step size | Elapsed Time | Training-accuracy | Validation-accuracy |"
      ]
     },
     "metadata": {},
     "output_type": "display_data"
    },
    {
     "data": {
      "text/html": [
       "<pre>+-----------+----------+-----------+--------------+-------------------+---------------------+</pre>"
      ],
      "text/plain": [
       "+-----------+----------+-----------+--------------+-------------------+---------------------+"
      ]
     },
     "metadata": {},
     "output_type": "display_data"
    }
   ],
   "source": [
    "sentiment_model = graphlab.logistic_classifier.create(train_data,\n",
    "                                                     target='sentiment',\n",
    "                                                     features=['word_count'],\n",
    "                                                     validation_set=test_data,\n",
    "                                                     max_iterations=20)"
   ]
  },
  {
   "cell_type": "code",
   "execution_count": 13,
   "metadata": {
    "collapsed": false
   },
   "outputs": [
    {
     "data": {
      "text/html": [
       "<pre>| 1         | 3        | 0.000059  | 1.044486     | 0.841245          | 0.796727            |</pre>"
      ],
      "text/plain": [
       "| 1         | 3        | 0.000059  | 1.044486     | 0.841245          | 0.796727            |"
      ]
     },
     "metadata": {},
     "output_type": "display_data"
    },
    {
     "data": {
      "text/html": [
       "<pre>| 2         | 5        | 1.000000  | 1.085878     | 0.934892          | 0.830171            |</pre>"
      ],
      "text/plain": [
       "| 2         | 5        | 1.000000  | 1.085878     | 0.934892          | 0.830171            |"
      ]
     },
     "metadata": {},
     "output_type": "display_data"
    },
    {
     "data": {
      "text/html": [
       "<pre>| 3         | 6        | 1.000000  | 1.110366     | 0.955169          | 0.831120            |</pre>"
      ],
      "text/plain": [
       "| 3         | 6        | 1.000000  | 1.110366     | 0.955169          | 0.831120            |"
      ]
     },
     "metadata": {},
     "output_type": "display_data"
    }
   ],
   "source": [
    "graphlab.canvas.set_target('ipynb')"
   ]
  },
  {
   "cell_type": "code",
   "execution_count": 14,
   "metadata": {
    "collapsed": false
   },
   "outputs": [
    {
     "data": {
      "text/html": [
       "<pre>| 4         | 7        | 1.000000  | 1.131759     | 0.964076          | 0.830171            |</pre>"
      ],
      "text/plain": [
       "| 4         | 7        | 1.000000  | 1.131759     | 0.964076          | 0.830171            |"
      ]
     },
     "metadata": {},
     "output_type": "display_data"
    },
    {
     "data": {
      "text/html": [
       "<pre>| 5         | 8        | 1.000000  | 1.158476     | 0.969702          | 0.835152            |</pre>"
      ],
      "text/plain": [
       "| 5         | 8        | 1.000000  | 1.158476     | 0.969702          | 0.835152            |"
      ]
     },
     "metadata": {},
     "output_type": "display_data"
    },
    {
     "data": {
      "text/html": [
       "<pre>| 6         | 9        | 1.000000  | 1.182279     | 0.973394          | 0.836101            |</pre>"
      ],
      "text/plain": [
       "| 6         | 9        | 1.000000  | 1.182279     | 0.973394          | 0.836101            |"
      ]
     },
     "metadata": {},
     "output_type": "display_data"
    },
    {
     "data": {
      "text/html": [
       "<pre>| 11        | 15       | 1.000000  | 1.343402     | 0.977848          | 0.839658            |</pre>"
      ],
      "text/plain": [
       "| 11        | 15       | 1.000000  | 1.343402     | 0.977848          | 0.839658            |"
      ]
     },
     "metadata": {},
     "output_type": "display_data"
    },
    {
     "data": {
      "text/html": [
       "<pre>+-----------+----------+-----------+--------------+-------------------+---------------------+</pre>"
      ],
      "text/plain": [
       "+-----------+----------+-----------+--------------+-------------------+---------------------+"
      ]
     },
     "metadata": {},
     "output_type": "display_data"
    },
    {
     "data": {
      "text/html": [
       "<pre>TERMINATED: Iteration limit reached.</pre>"
      ],
      "text/plain": [
       "TERMINATED: Iteration limit reached."
      ]
     },
     "metadata": {},
     "output_type": "display_data"
    },
    {
     "data": {
      "text/html": [
       "<pre>This model may not be optimal. To improve it, consider increasing `max_iterations`.</pre>"
      ],
      "text/plain": [
       "This model may not be optimal. To improve it, consider increasing `max_iterations`."
      ]
     },
     "metadata": {},
     "output_type": "display_data"
    },
    {
     "data": {
      "text/plain": [
       "{'roc_curve': Columns:\n",
       " \tthreshold\tfloat\n",
       " \tfpr\tfloat\n",
       " \ttpr\tfloat\n",
       " \tp\tint\n",
       " \tn\tint\n",
       " \n",
       " Rows: 100001\n",
       " \n",
       " Data:\n",
       " +-----------+----------------+----------------+------+-----+\n",
       " | threshold |      fpr       |      tpr       |  p   |  n  |\n",
       " +-----------+----------------+----------------+------+-----+\n",
       " |    0.0    |      1.0       |      1.0       | 3226 | 990 |\n",
       " |   1e-05   | 0.905050505051 | 0.992250464972 | 3226 | 990 |\n",
       " |   2e-05   | 0.880808080808 | 0.990700557967 | 3226 | 990 |\n",
       " |   3e-05   | 0.871717171717 | 0.989770613763 | 3226 | 990 |\n",
       " |   4e-05   | 0.860606060606 | 0.98884066956  | 3226 | 990 |\n",
       " |   5e-05   | 0.855555555556 | 0.988220706758 | 3226 | 990 |\n",
       " |   6e-05   | 0.854545454545 | 0.987910725356 | 3226 | 990 |\n",
       " |   7e-05   | 0.851515151515 | 0.987910725356 | 3226 | 990 |\n",
       " |   8e-05   | 0.847474747475 | 0.987600743955 | 3226 | 990 |\n",
       " |   9e-05   | 0.845454545455 | 0.987290762554 | 3226 | 990 |\n",
       " +-----------+----------------+----------------+------+-----+\n",
       " [100001 rows x 5 columns]\n",
       " Note: Only the head of the SFrame is printed.\n",
       " You can use print_rows(num_rows=m, num_columns=n) to print more rows and columns.}"
      ]
     },
     "execution_count": 14,
     "metadata": {},
     "output_type": "execute_result"
    }
   ],
   "source": [
    "sentiment_model.evaluate(test_data, metric='roc_curve')"
   ]
  },
  {
   "cell_type": "code",
   "execution_count": 15,
   "metadata": {
    "collapsed": false
   },
   "outputs": [
    {
     "data": {
      "application/javascript": [
       "$(\"head\").append($(\"<link/>\").attr({\n",
       "  rel:  \"stylesheet\",\n",
       "  type: \"text/css\",\n",
       "  href: \"//cdnjs.cloudflare.com/ajax/libs/font-awesome/4.1.0/css/font-awesome.min.css\"\n",
       "}));\n",
       "$(\"head\").append($(\"<link/>\").attr({\n",
       "  rel:  \"stylesheet\",\n",
       "  type: \"text/css\",\n",
       "  href: \"https://static.turi.com/products/graphlab-create/2.1/canvas/css/canvas.css\"\n",
       "}));\n",
       "\n",
       "            (function(){\n",
       "\n",
       "                var e = null;\n",
       "                if (typeof element == 'undefined') {\n",
       "                    var scripts = document.getElementsByTagName('script');\n",
       "                    var thisScriptTag = scripts[scripts.length-1];\n",
       "                    var parentDiv = thisScriptTag.parentNode;\n",
       "                    e = document.createElement('div');\n",
       "                    parentDiv.appendChild(e);\n",
       "                } else {\n",
       "                    e = element[0];\n",
       "                }\n",
       "\n",
       "                if (typeof requirejs !== 'undefined') {\n",
       "                    // disable load timeout; ipython_app.js is large and can take a while to load.\n",
       "                    requirejs.config({waitSeconds: 0});\n",
       "                }\n",
       "\n",
       "                require(['https://static.turi.com/products/graphlab-create/2.1/canvas/js/ipython_app.js'], function(IPythonApp){\n",
       "                    var app = new IPythonApp();\n",
       "                    app.attachView('model','Evaluation', {\"comparison\": null, \"selected_variable\": {\"comparison\": null, \"name\": [\"sentiment_model\"], \"view_file\": \"model\", \"view_component\": \"Evaluation\", \"view_params\": {\"model_type\": \"regression\", \"view\": \"Evaluation\"}, \"view_components\": [\"Summary\", \"Evaluation\", \"Comparison\"], \"model_type\": \"regression\", \"attributes\": {\"section_titles\": [\"Schema\", \"Hyperparameters\", \"Training Summary\", \"Settings\", \"Highest Positive Coefficients\", \"Lowest Negative Coefficients\"], \"sections\": [[[\"Number of coefficients\", 19951], [\"Number of examples\", 17064], [\"Number of classes\", 2], [\"Number of feature columns\", 1], [\"Number of unpacked features\", 19950]], [[\"L1 penalty\", 0.0], [\"L2 penalty\", 0.01]], [[\"Solver\", \"lbfgs\"], [\"Solver iterations\", 20], [\"Solver status\", \"TERMINATED: Iteration limit reached.\"], [\"Training time (sec)\", 1.593]], [[\"Log-likelihood\", 867.9765]], [[\"word_count[previously,]\", 37.5338], [\"word_count[rock...]\", 29.4572], [\"word_count[careful..]\", 22.6553], [\"word_count[games.]\", 22.0817], [\"word_count[@wolfscout]\", 21.1788]], [[\"word_count[lame,]\", -27.7018], [\"word_count[union.]\", -27.5428], [\"word_count[break?]\", -22.6424], [\"word_count[way...]\", -21.3186], [\"word_count[dividend,]\", -20.2503]]]}, \"evaluations\": [[\"test_data\", {\"roc_curve\": [{\"threshold\": 0.0, \"p\": 3226, \"fpr\": 1.0, \"tpr\": 1.0, \"n\": 990}, {\"threshold\": 0.001, \"p\": 3226, \"fpr\": 0.7515151515151515, \"tpr\": 0.9798512089274644, \"n\": 990}, {\"threshold\": 0.002, \"p\": 3226, \"fpr\": 0.697979797979798, \"tpr\": 0.9745815251084935, \"n\": 990}, {\"threshold\": 0.003, \"p\": 3226, \"fpr\": 0.6787878787878788, \"tpr\": 0.9733415995040298, \"n\": 990}, {\"threshold\": 0.004, \"p\": 3226, \"fpr\": 0.6636363636363637, \"tpr\": 0.972101673899566, \"n\": 990}, {\"threshold\": 0.005, \"p\": 3226, \"fpr\": 0.6434343434343435, \"tpr\": 0.9708617482951023, \"n\": 990}, {\"threshold\": 0.006, \"p\": 3226, \"fpr\": 0.6343434343434343, \"tpr\": 0.9699318040917545, \"n\": 990}, {\"threshold\": 0.007, \"p\": 3226, \"fpr\": 0.6262626262626263, \"tpr\": 0.9686918784872908, \"n\": 990}, {\"threshold\": 0.008, \"p\": 3226, \"fpr\": 0.6161616161616161, \"tpr\": 0.9686918784872908, \"n\": 990}, {\"threshold\": 0.009, \"p\": 3226, \"fpr\": 0.6111111111111112, \"tpr\": 0.9680719156850589, \"n\": 990}, {\"threshold\": 0.01, \"p\": 3226, \"fpr\": 0.604040404040404, \"tpr\": 0.9668319900805952, \"n\": 990}, {\"threshold\": 0.011, \"p\": 3226, \"fpr\": 0.598989898989899, \"tpr\": 0.9659020458772474, \"n\": 990}, {\"threshold\": 0.012, \"p\": 3226, \"fpr\": 0.5959595959595959, \"tpr\": 0.9649721016738996, \"n\": 990}, {\"threshold\": 0.013, \"p\": 3226, \"fpr\": 0.591919191919192, \"tpr\": 0.962802231866088, \"n\": 990}, {\"threshold\": 0.014, \"p\": 3226, \"fpr\": 0.5878787878787879, \"tpr\": 0.9621822690638562, \"n\": 990}, {\"threshold\": 0.015, \"p\": 3226, \"fpr\": 0.5848484848484848, \"tpr\": 0.9612523248605084, \"n\": 990}, {\"threshold\": 0.016, \"p\": 3226, \"fpr\": 0.5828282828282828, \"tpr\": 0.9609423434593924, \"n\": 990}, {\"threshold\": 0.017, \"p\": 3226, \"fpr\": 0.5737373737373738, \"tpr\": 0.9606323620582765, \"n\": 990}, {\"threshold\": 0.018, \"p\": 3226, \"fpr\": 0.5737373737373738, \"tpr\": 0.9597024178549287, \"n\": 990}, {\"threshold\": 0.019, \"p\": 3226, \"fpr\": 0.5696969696969697, \"tpr\": 0.9590824550526968, \"n\": 990}, {\"threshold\": 0.02, \"p\": 3226, \"fpr\": 0.5656565656565656, \"tpr\": 0.9587724736515809, \"n\": 990}, {\"threshold\": 0.021, \"p\": 3226, \"fpr\": 0.5646464646464646, \"tpr\": 0.9575325480471172, \"n\": 990}, {\"threshold\": 0.022, \"p\": 3226, \"fpr\": 0.5626262626262626, \"tpr\": 0.9575325480471172, \"n\": 990}, {\"threshold\": 0.023, \"p\": 3226, \"fpr\": 0.5595959595959596, \"tpr\": 0.9569125852448853, \"n\": 990}, {\"threshold\": 0.024, \"p\": 3226, \"fpr\": 0.5595959595959596, \"tpr\": 0.9566026038437694, \"n\": 990}, {\"threshold\": 0.025, \"p\": 3226, \"fpr\": 0.5585858585858586, \"tpr\": 0.9550526968381897, \"n\": 990}, {\"threshold\": 0.026, \"p\": 3226, \"fpr\": 0.5565656565656566, \"tpr\": 0.9544327340359579, \"n\": 990}, {\"threshold\": 0.027, \"p\": 3226, \"fpr\": 0.5535353535353535, \"tpr\": 0.9541227526348419, \"n\": 990}, {\"threshold\": 0.028, \"p\": 3226, \"fpr\": 0.5515151515151515, \"tpr\": 0.953812771233726, \"n\": 990}, {\"threshold\": 0.029, \"p\": 3226, \"fpr\": 0.5505050505050505, \"tpr\": 0.9528828270303782, \"n\": 990}, {\"threshold\": 0.03, \"p\": 3226, \"fpr\": 0.5505050505050505, \"tpr\": 0.9522628642281463, \"n\": 990}, {\"threshold\": 0.031, \"p\": 3226, \"fpr\": 0.5484848484848485, \"tpr\": 0.9516429014259145, \"n\": 990}, {\"threshold\": 0.032, \"p\": 3226, \"fpr\": 0.5474747474747474, \"tpr\": 0.9513329200247985, \"n\": 990}, {\"threshold\": 0.033, \"p\": 3226, \"fpr\": 0.5454545454545454, \"tpr\": 0.9507129572225667, \"n\": 990}, {\"threshold\": 0.034, \"p\": 3226, \"fpr\": 0.5454545454545454, \"tpr\": 0.9507129572225667, \"n\": 990}, {\"threshold\": 0.035, \"p\": 3226, \"fpr\": 0.5444444444444444, \"tpr\": 0.9497830130192189, \"n\": 990}, {\"threshold\": 0.036, \"p\": 3226, \"fpr\": 0.5444444444444444, \"tpr\": 0.949163050216987, \"n\": 990}, {\"threshold\": 0.037, \"p\": 3226, \"fpr\": 0.5424242424242425, \"tpr\": 0.949163050216987, \"n\": 990}, {\"threshold\": 0.038, \"p\": 3226, \"fpr\": 0.5404040404040404, \"tpr\": 0.9488530688158711, \"n\": 990}, {\"threshold\": 0.039, \"p\": 3226, \"fpr\": 0.5383838383838384, \"tpr\": 0.9482331060136392, \"n\": 990}, {\"threshold\": 0.04, \"p\": 3226, \"fpr\": 0.5373737373737374, \"tpr\": 0.9469931804091755, \"n\": 990}, {\"threshold\": 0.041, \"p\": 3226, \"fpr\": 0.5373737373737374, \"tpr\": 0.9466831990080595, \"n\": 990}, {\"threshold\": 0.042, \"p\": 3226, \"fpr\": 0.5363636363636364, \"tpr\": 0.9466831990080595, \"n\": 990}, {\"threshold\": 0.043, \"p\": 3226, \"fpr\": 0.5363636363636364, \"tpr\": 0.9460632362058277, \"n\": 990}, {\"threshold\": 0.044, \"p\": 3226, \"fpr\": 0.5343434343434343, \"tpr\": 0.9457532548047117, \"n\": 990}, {\"threshold\": 0.045, \"p\": 3226, \"fpr\": 0.5343434343434343, \"tpr\": 0.9454432734035958, \"n\": 990}, {\"threshold\": 0.046, \"p\": 3226, \"fpr\": 0.5323232323232323, \"tpr\": 0.9454432734035958, \"n\": 990}, {\"threshold\": 0.047, \"p\": 3226, \"fpr\": 0.5323232323232323, \"tpr\": 0.9454432734035958, \"n\": 990}, {\"threshold\": 0.048, \"p\": 3226, \"fpr\": 0.5313131313131313, \"tpr\": 0.9451332920024799, \"n\": 990}, {\"threshold\": 0.049, \"p\": 3226, \"fpr\": 0.5303030303030303, \"tpr\": 0.944513329200248, \"n\": 990}, {\"threshold\": 0.05, \"p\": 3226, \"fpr\": 0.5303030303030303, \"tpr\": 0.944513329200248, \"n\": 990}, {\"threshold\": 0.051, \"p\": 3226, \"fpr\": 0.5292929292929293, \"tpr\": 0.944513329200248, \"n\": 990}, {\"threshold\": 0.052, \"p\": 3226, \"fpr\": 0.5292929292929293, \"tpr\": 0.944513329200248, \"n\": 990}, {\"threshold\": 0.053, \"p\": 3226, \"fpr\": 0.5292929292929293, \"tpr\": 0.944513329200248, \"n\": 990}, {\"threshold\": 0.054, \"p\": 3226, \"fpr\": 0.5272727272727272, \"tpr\": 0.9442033477991321, \"n\": 990}, {\"threshold\": 0.055, \"p\": 3226, \"fpr\": 0.5262626262626262, \"tpr\": 0.9435833849969002, \"n\": 990}, {\"threshold\": 0.056, \"p\": 3226, \"fpr\": 0.5242424242424243, \"tpr\": 0.9432734035957843, \"n\": 990}, {\"threshold\": 0.057, \"p\": 3226, \"fpr\": 0.5202020202020202, \"tpr\": 0.9432734035957843, \"n\": 990}, {\"threshold\": 0.058, \"p\": 3226, \"fpr\": 0.5191919191919192, \"tpr\": 0.9432734035957843, \"n\": 990}, {\"threshold\": 0.059, \"p\": 3226, \"fpr\": 0.5181818181818182, \"tpr\": 0.9432734035957843, \"n\": 990}, {\"threshold\": 0.06, \"p\": 3226, \"fpr\": 0.5181818181818182, \"tpr\": 0.9429634221946683, \"n\": 990}, {\"threshold\": 0.061, \"p\": 3226, \"fpr\": 0.5181818181818182, \"tpr\": 0.9429634221946683, \"n\": 990}, {\"threshold\": 0.062, \"p\": 3226, \"fpr\": 0.5171717171717172, \"tpr\": 0.9429634221946683, \"n\": 990}, {\"threshold\": 0.063, \"p\": 3226, \"fpr\": 0.5171717171717172, \"tpr\": 0.9429634221946683, \"n\": 990}, {\"threshold\": 0.064, \"p\": 3226, \"fpr\": 0.5161616161616162, \"tpr\": 0.9426534407935524, \"n\": 990}, {\"threshold\": 0.065, \"p\": 3226, \"fpr\": 0.5151515151515151, \"tpr\": 0.9426534407935524, \"n\": 990}, {\"threshold\": 0.066, \"p\": 3226, \"fpr\": 0.5151515151515151, \"tpr\": 0.9426534407935524, \"n\": 990}, {\"threshold\": 0.067, \"p\": 3226, \"fpr\": 0.5151515151515151, \"tpr\": 0.9426534407935524, \"n\": 990}, {\"threshold\": 0.068, \"p\": 3226, \"fpr\": 0.5151515151515151, \"tpr\": 0.9426534407935524, \"n\": 990}, {\"threshold\": 0.069, \"p\": 3226, \"fpr\": 0.5151515151515151, \"tpr\": 0.9423434593924365, \"n\": 990}, {\"threshold\": 0.07, \"p\": 3226, \"fpr\": 0.5141414141414141, \"tpr\": 0.9423434593924365, \"n\": 990}, {\"threshold\": 0.071, \"p\": 3226, \"fpr\": 0.5131313131313131, \"tpr\": 0.9420334779913205, \"n\": 990}, {\"threshold\": 0.072, \"p\": 3226, \"fpr\": 0.51010101010101, \"tpr\": 0.9417234965902046, \"n\": 990}, {\"threshold\": 0.073, \"p\": 3226, \"fpr\": 0.509090909090909, \"tpr\": 0.9414135151890887, \"n\": 990}, {\"threshold\": 0.074, \"p\": 3226, \"fpr\": 0.5080808080808081, \"tpr\": 0.9414135151890887, \"n\": 990}, {\"threshold\": 0.075, \"p\": 3226, \"fpr\": 0.5060606060606061, \"tpr\": 0.9414135151890887, \"n\": 990}, {\"threshold\": 0.076, \"p\": 3226, \"fpr\": 0.5060606060606061, \"tpr\": 0.9414135151890887, \"n\": 990}, {\"threshold\": 0.077, \"p\": 3226, \"fpr\": 0.5040404040404041, \"tpr\": 0.9414135151890887, \"n\": 990}, {\"threshold\": 0.078, \"p\": 3226, \"fpr\": 0.5040404040404041, \"tpr\": 0.9414135151890887, \"n\": 990}, {\"threshold\": 0.079, \"p\": 3226, \"fpr\": 0.503030303030303, \"tpr\": 0.9411035337879727, \"n\": 990}, {\"threshold\": 0.08, \"p\": 3226, \"fpr\": 0.503030303030303, \"tpr\": 0.9407935523868568, \"n\": 990}, {\"threshold\": 0.081, \"p\": 3226, \"fpr\": 0.5, \"tpr\": 0.9407935523868568, \"n\": 990}, {\"threshold\": 0.082, \"p\": 3226, \"fpr\": 0.5, \"tpr\": 0.9407935523868568, \"n\": 990}, {\"threshold\": 0.083, \"p\": 3226, \"fpr\": 0.5, \"tpr\": 0.9404835709857409, \"n\": 990}, {\"threshold\": 0.084, \"p\": 3226, \"fpr\": 0.49696969696969695, \"tpr\": 0.9401735895846249, \"n\": 990}, {\"threshold\": 0.085, \"p\": 3226, \"fpr\": 0.49696969696969695, \"tpr\": 0.9401735895846249, \"n\": 990}, {\"threshold\": 0.086, \"p\": 3226, \"fpr\": 0.49696969696969695, \"tpr\": 0.939863608183509, \"n\": 990}, {\"threshold\": 0.087, \"p\": 3226, \"fpr\": 0.49696969696969695, \"tpr\": 0.939863608183509, \"n\": 990}, {\"threshold\": 0.088, \"p\": 3226, \"fpr\": 0.49696969696969695, \"tpr\": 0.939863608183509, \"n\": 990}, {\"threshold\": 0.089, \"p\": 3226, \"fpr\": 0.49595959595959593, \"tpr\": 0.939863608183509, \"n\": 990}, {\"threshold\": 0.09, \"p\": 3226, \"fpr\": 0.49595959595959593, \"tpr\": 0.9395536267823931, \"n\": 990}, {\"threshold\": 0.091, \"p\": 3226, \"fpr\": 0.49595959595959593, \"tpr\": 0.9395536267823931, \"n\": 990}, {\"threshold\": 0.092, \"p\": 3226, \"fpr\": 0.494949494949495, \"tpr\": 0.9395536267823931, \"n\": 990}, {\"threshold\": 0.093, \"p\": 3226, \"fpr\": 0.49393939393939396, \"tpr\": 0.9395536267823931, \"n\": 990}, {\"threshold\": 0.094, \"p\": 3226, \"fpr\": 0.49393939393939396, \"tpr\": 0.9395536267823931, \"n\": 990}, {\"threshold\": 0.095, \"p\": 3226, \"fpr\": 0.49292929292929294, \"tpr\": 0.9389336639801612, \"n\": 990}, {\"threshold\": 0.096, \"p\": 3226, \"fpr\": 0.49292929292929294, \"tpr\": 0.9386236825790453, \"n\": 990}, {\"threshold\": 0.097, \"p\": 3226, \"fpr\": 0.49292929292929294, \"tpr\": 0.9383137011779293, \"n\": 990}, {\"threshold\": 0.098, \"p\": 3226, \"fpr\": 0.49292929292929294, \"tpr\": 0.9383137011779293, \"n\": 990}, {\"threshold\": 0.099, \"p\": 3226, \"fpr\": 0.4919191919191919, \"tpr\": 0.9383137011779293, \"n\": 990}, {\"threshold\": 0.1, \"p\": 3226, \"fpr\": 0.4909090909090909, \"tpr\": 0.9383137011779293, \"n\": 990}, {\"threshold\": 0.101, \"p\": 3226, \"fpr\": 0.4898989898989899, \"tpr\": 0.9383137011779293, \"n\": 990}, {\"threshold\": 0.102, \"p\": 3226, \"fpr\": 0.4898989898989899, \"tpr\": 0.9383137011779293, \"n\": 990}, {\"threshold\": 0.103, \"p\": 3226, \"fpr\": 0.4898989898989899, \"tpr\": 0.9383137011779293, \"n\": 990}, {\"threshold\": 0.104, \"p\": 3226, \"fpr\": 0.4898989898989899, \"tpr\": 0.9383137011779293, \"n\": 990}, {\"threshold\": 0.105, \"p\": 3226, \"fpr\": 0.4898989898989899, \"tpr\": 0.9383137011779293, \"n\": 990}, {\"threshold\": 0.106, \"p\": 3226, \"fpr\": 0.4898989898989899, \"tpr\": 0.9383137011779293, \"n\": 990}, {\"threshold\": 0.107, \"p\": 3226, \"fpr\": 0.4898989898989899, \"tpr\": 0.9383137011779293, \"n\": 990}, {\"threshold\": 0.108, \"p\": 3226, \"fpr\": 0.4888888888888889, \"tpr\": 0.9376937383756975, \"n\": 990}, {\"threshold\": 0.109, \"p\": 3226, \"fpr\": 0.4868686868686869, \"tpr\": 0.9376937383756975, \"n\": 990}, {\"threshold\": 0.11, \"p\": 3226, \"fpr\": 0.4858585858585859, \"tpr\": 0.9370737755734656, \"n\": 990}, {\"threshold\": 0.111, \"p\": 3226, \"fpr\": 0.4858585858585859, \"tpr\": 0.9370737755734656, \"n\": 990}, {\"threshold\": 0.112, \"p\": 3226, \"fpr\": 0.4858585858585859, \"tpr\": 0.9367637941723497, \"n\": 990}, {\"threshold\": 0.113, \"p\": 3226, \"fpr\": 0.48383838383838385, \"tpr\": 0.9367637941723497, \"n\": 990}, {\"threshold\": 0.114, \"p\": 3226, \"fpr\": 0.48383838383838385, \"tpr\": 0.9367637941723497, \"n\": 990}, {\"threshold\": 0.115, \"p\": 3226, \"fpr\": 0.48282828282828283, \"tpr\": 0.9367637941723497, \"n\": 990}, {\"threshold\": 0.116, \"p\": 3226, \"fpr\": 0.48282828282828283, \"tpr\": 0.9367637941723497, \"n\": 990}, {\"threshold\": 0.117, \"p\": 3226, \"fpr\": 0.48282828282828283, \"tpr\": 0.9367637941723497, \"n\": 990}, {\"threshold\": 0.118, \"p\": 3226, \"fpr\": 0.48282828282828283, \"tpr\": 0.9367637941723497, \"n\": 990}, {\"threshold\": 0.119, \"p\": 3226, \"fpr\": 0.48282828282828283, \"tpr\": 0.9367637941723497, \"n\": 990}, {\"threshold\": 0.12, \"p\": 3226, \"fpr\": 0.48282828282828283, \"tpr\": 0.9367637941723497, \"n\": 990}, {\"threshold\": 0.121, \"p\": 3226, \"fpr\": 0.4818181818181818, \"tpr\": 0.9364538127712337, \"n\": 990}, {\"threshold\": 0.122, \"p\": 3226, \"fpr\": 0.4808080808080808, \"tpr\": 0.9364538127712337, \"n\": 990}, {\"threshold\": 0.123, \"p\": 3226, \"fpr\": 0.4797979797979798, \"tpr\": 0.9361438313701178, \"n\": 990}, {\"threshold\": 0.124, \"p\": 3226, \"fpr\": 0.47878787878787876, \"tpr\": 0.9358338499690019, \"n\": 990}, {\"threshold\": 0.125, \"p\": 3226, \"fpr\": 0.47878787878787876, \"tpr\": 0.9355238685678859, \"n\": 990}, {\"threshold\": 0.126, \"p\": 3226, \"fpr\": 0.47878787878787876, \"tpr\": 0.93521388716677, \"n\": 990}, {\"threshold\": 0.127, \"p\": 3226, \"fpr\": 0.47878787878787876, \"tpr\": 0.93521388716677, \"n\": 990}, {\"threshold\": 0.128, \"p\": 3226, \"fpr\": 0.47878787878787876, \"tpr\": 0.93521388716677, \"n\": 990}, {\"threshold\": 0.129, \"p\": 3226, \"fpr\": 0.4777777777777778, \"tpr\": 0.93521388716677, \"n\": 990}, {\"threshold\": 0.13, \"p\": 3226, \"fpr\": 0.47575757575757577, \"tpr\": 0.9345939243645381, \"n\": 990}, {\"threshold\": 0.131, \"p\": 3226, \"fpr\": 0.47575757575757577, \"tpr\": 0.9345939243645381, \"n\": 990}, {\"threshold\": 0.132, \"p\": 3226, \"fpr\": 0.47575757575757577, \"tpr\": 0.9345939243645381, \"n\": 990}, {\"threshold\": 0.133, \"p\": 3226, \"fpr\": 0.47474747474747475, \"tpr\": 0.9342839429634222, \"n\": 990}, {\"threshold\": 0.134, \"p\": 3226, \"fpr\": 0.47474747474747475, \"tpr\": 0.9342839429634222, \"n\": 990}, {\"threshold\": 0.135, \"p\": 3226, \"fpr\": 0.47474747474747475, \"tpr\": 0.9339739615623063, \"n\": 990}, {\"threshold\": 0.136, \"p\": 3226, \"fpr\": 0.47474747474747475, \"tpr\": 0.9339739615623063, \"n\": 990}, {\"threshold\": 0.137, \"p\": 3226, \"fpr\": 0.47373737373737373, \"tpr\": 0.9339739615623063, \"n\": 990}, {\"threshold\": 0.138, \"p\": 3226, \"fpr\": 0.47373737373737373, \"tpr\": 0.9336639801611903, \"n\": 990}, {\"threshold\": 0.139, \"p\": 3226, \"fpr\": 0.4727272727272727, \"tpr\": 0.9336639801611903, \"n\": 990}, {\"threshold\": 0.14, \"p\": 3226, \"fpr\": 0.4727272727272727, \"tpr\": 0.9333539987600744, \"n\": 990}, {\"threshold\": 0.141, \"p\": 3226, \"fpr\": 0.4717171717171717, \"tpr\": 0.9333539987600744, \"n\": 990}, {\"threshold\": 0.142, \"p\": 3226, \"fpr\": 0.4717171717171717, \"tpr\": 0.9333539987600744, \"n\": 990}, {\"threshold\": 0.143, \"p\": 3226, \"fpr\": 0.4717171717171717, \"tpr\": 0.9330440173589585, \"n\": 990}, {\"threshold\": 0.144, \"p\": 3226, \"fpr\": 0.4717171717171717, \"tpr\": 0.9327340359578425, \"n\": 990}, {\"threshold\": 0.145, \"p\": 3226, \"fpr\": 0.4717171717171717, \"tpr\": 0.9324240545567266, \"n\": 990}, {\"threshold\": 0.146, \"p\": 3226, \"fpr\": 0.4717171717171717, \"tpr\": 0.9324240545567266, \"n\": 990}, {\"threshold\": 0.147, \"p\": 3226, \"fpr\": 0.4707070707070707, \"tpr\": 0.9318040917544947, \"n\": 990}, {\"threshold\": 0.148, \"p\": 3226, \"fpr\": 0.4707070707070707, \"tpr\": 0.9314941103533788, \"n\": 990}, {\"threshold\": 0.149, \"p\": 3226, \"fpr\": 0.4707070707070707, \"tpr\": 0.9314941103533788, \"n\": 990}, {\"threshold\": 0.15, \"p\": 3226, \"fpr\": 0.4707070707070707, \"tpr\": 0.9314941103533788, \"n\": 990}, {\"threshold\": 0.151, \"p\": 3226, \"fpr\": 0.4686868686868687, \"tpr\": 0.9314941103533788, \"n\": 990}, {\"threshold\": 0.152, \"p\": 3226, \"fpr\": 0.4686868686868687, \"tpr\": 0.9314941103533788, \"n\": 990}, {\"threshold\": 0.153, \"p\": 3226, \"fpr\": 0.4686868686868687, \"tpr\": 0.9311841289522629, \"n\": 990}, {\"threshold\": 0.154, \"p\": 3226, \"fpr\": 0.4666666666666667, \"tpr\": 0.930874147551147, \"n\": 990}, {\"threshold\": 0.155, \"p\": 3226, \"fpr\": 0.46565656565656566, \"tpr\": 0.930874147551147, \"n\": 990}, {\"threshold\": 0.156, \"p\": 3226, \"fpr\": 0.46565656565656566, \"tpr\": 0.930874147551147, \"n\": 990}, {\"threshold\": 0.157, \"p\": 3226, \"fpr\": 0.46464646464646464, \"tpr\": 0.930564166150031, \"n\": 990}, {\"threshold\": 0.158, \"p\": 3226, \"fpr\": 0.46464646464646464, \"tpr\": 0.9302541847489151, \"n\": 990}, {\"threshold\": 0.159, \"p\": 3226, \"fpr\": 0.46464646464646464, \"tpr\": 0.9302541847489151, \"n\": 990}, {\"threshold\": 0.16, \"p\": 3226, \"fpr\": 0.46464646464646464, \"tpr\": 0.9302541847489151, \"n\": 990}, {\"threshold\": 0.161, \"p\": 3226, \"fpr\": 0.46464646464646464, \"tpr\": 0.9296342219466832, \"n\": 990}, {\"threshold\": 0.162, \"p\": 3226, \"fpr\": 0.46464646464646464, \"tpr\": 0.9296342219466832, \"n\": 990}, {\"threshold\": 0.163, \"p\": 3226, \"fpr\": 0.46464646464646464, \"tpr\": 0.9296342219466832, \"n\": 990}, {\"threshold\": 0.164, \"p\": 3226, \"fpr\": 0.4626262626262626, \"tpr\": 0.9293242405455673, \"n\": 990}, {\"threshold\": 0.165, \"p\": 3226, \"fpr\": 0.4616161616161616, \"tpr\": 0.9293242405455673, \"n\": 990}, {\"threshold\": 0.166, \"p\": 3226, \"fpr\": 0.4616161616161616, \"tpr\": 0.9293242405455673, \"n\": 990}, {\"threshold\": 0.167, \"p\": 3226, \"fpr\": 0.4616161616161616, \"tpr\": 0.9290142591444513, \"n\": 990}, {\"threshold\": 0.168, \"p\": 3226, \"fpr\": 0.4616161616161616, \"tpr\": 0.9287042777433354, \"n\": 990}, {\"threshold\": 0.169, \"p\": 3226, \"fpr\": 0.4616161616161616, \"tpr\": 0.9287042777433354, \"n\": 990}, {\"threshold\": 0.17, \"p\": 3226, \"fpr\": 0.4616161616161616, \"tpr\": 0.9287042777433354, \"n\": 990}, {\"threshold\": 0.171, \"p\": 3226, \"fpr\": 0.46060606060606063, \"tpr\": 0.9283942963422195, \"n\": 990}, {\"threshold\": 0.172, \"p\": 3226, \"fpr\": 0.46060606060606063, \"tpr\": 0.9280843149411035, \"n\": 990}, {\"threshold\": 0.173, \"p\": 3226, \"fpr\": 0.46060606060606063, \"tpr\": 0.9280843149411035, \"n\": 990}, {\"threshold\": 0.174, \"p\": 3226, \"fpr\": 0.4585858585858586, \"tpr\": 0.9277743335399876, \"n\": 990}, {\"threshold\": 0.175, \"p\": 3226, \"fpr\": 0.4585858585858586, \"tpr\": 0.9271543707377558, \"n\": 990}, {\"threshold\": 0.176, \"p\": 3226, \"fpr\": 0.4575757575757576, \"tpr\": 0.9271543707377558, \"n\": 990}, {\"threshold\": 0.177, \"p\": 3226, \"fpr\": 0.45656565656565656, \"tpr\": 0.9268443893366398, \"n\": 990}, {\"threshold\": 0.178, \"p\": 3226, \"fpr\": 0.45656565656565656, \"tpr\": 0.9265344079355239, \"n\": 990}, {\"threshold\": 0.179, \"p\": 3226, \"fpr\": 0.45656565656565656, \"tpr\": 0.925914445133292, \"n\": 990}, {\"threshold\": 0.18, \"p\": 3226, \"fpr\": 0.45656565656565656, \"tpr\": 0.925914445133292, \"n\": 990}, {\"threshold\": 0.181, \"p\": 3226, \"fpr\": 0.45555555555555555, \"tpr\": 0.925914445133292, \"n\": 990}, {\"threshold\": 0.182, \"p\": 3226, \"fpr\": 0.45555555555555555, \"tpr\": 0.925914445133292, \"n\": 990}, {\"threshold\": 0.183, \"p\": 3226, \"fpr\": 0.45555555555555555, \"tpr\": 0.9256044637321761, \"n\": 990}, {\"threshold\": 0.184, \"p\": 3226, \"fpr\": 0.45555555555555555, \"tpr\": 0.9256044637321761, \"n\": 990}, {\"threshold\": 0.185, \"p\": 3226, \"fpr\": 0.45555555555555555, \"tpr\": 0.9256044637321761, \"n\": 990}, {\"threshold\": 0.186, \"p\": 3226, \"fpr\": 0.45555555555555555, \"tpr\": 0.9256044637321761, \"n\": 990}, {\"threshold\": 0.187, \"p\": 3226, \"fpr\": 0.45555555555555555, \"tpr\": 0.9256044637321761, \"n\": 990}, {\"threshold\": 0.188, \"p\": 3226, \"fpr\": 0.45555555555555555, \"tpr\": 0.9256044637321761, \"n\": 990}, {\"threshold\": 0.189, \"p\": 3226, \"fpr\": 0.45555555555555555, \"tpr\": 0.9256044637321761, \"n\": 990}, {\"threshold\": 0.19, \"p\": 3226, \"fpr\": 0.45454545454545453, \"tpr\": 0.9252944823310602, \"n\": 990}, {\"threshold\": 0.191, \"p\": 3226, \"fpr\": 0.45454545454545453, \"tpr\": 0.9252944823310602, \"n\": 990}, {\"threshold\": 0.192, \"p\": 3226, \"fpr\": 0.45454545454545453, \"tpr\": 0.9252944823310602, \"n\": 990}, {\"threshold\": 0.193, \"p\": 3226, \"fpr\": 0.4535353535353535, \"tpr\": 0.9252944823310602, \"n\": 990}, {\"threshold\": 0.194, \"p\": 3226, \"fpr\": 0.4535353535353535, \"tpr\": 0.9252944823310602, \"n\": 990}, {\"threshold\": 0.195, \"p\": 3226, \"fpr\": 0.4535353535353535, \"tpr\": 0.9252944823310602, \"n\": 990}, {\"threshold\": 0.196, \"p\": 3226, \"fpr\": 0.4535353535353535, \"tpr\": 0.9252944823310602, \"n\": 990}, {\"threshold\": 0.197, \"p\": 3226, \"fpr\": 0.45151515151515154, \"tpr\": 0.9252944823310602, \"n\": 990}, {\"threshold\": 0.198, \"p\": 3226, \"fpr\": 0.45151515151515154, \"tpr\": 0.9249845009299442, \"n\": 990}, {\"threshold\": 0.199, \"p\": 3226, \"fpr\": 0.45151515151515154, \"tpr\": 0.9249845009299442, \"n\": 990}, {\"threshold\": 0.2, \"p\": 3226, \"fpr\": 0.45151515151515154, \"tpr\": 0.9249845009299442, \"n\": 990}, {\"threshold\": 0.201, \"p\": 3226, \"fpr\": 0.45151515151515154, \"tpr\": 0.9249845009299442, \"n\": 990}, {\"threshold\": 0.202, \"p\": 3226, \"fpr\": 0.45151515151515154, \"tpr\": 0.9249845009299442, \"n\": 990}, {\"threshold\": 0.203, \"p\": 3226, \"fpr\": 0.45151515151515154, \"tpr\": 0.9243645381277124, \"n\": 990}, {\"threshold\": 0.204, \"p\": 3226, \"fpr\": 0.4505050505050505, \"tpr\": 0.9240545567265964, \"n\": 990}, {\"threshold\": 0.205, \"p\": 3226, \"fpr\": 0.4494949494949495, \"tpr\": 0.9240545567265964, \"n\": 990}, {\"threshold\": 0.206, \"p\": 3226, \"fpr\": 0.4494949494949495, \"tpr\": 0.9240545567265964, \"n\": 990}, {\"threshold\": 0.207, \"p\": 3226, \"fpr\": 0.4494949494949495, \"tpr\": 0.9240545567265964, \"n\": 990}, {\"threshold\": 0.208, \"p\": 3226, \"fpr\": 0.4494949494949495, \"tpr\": 0.9240545567265964, \"n\": 990}, {\"threshold\": 0.209, \"p\": 3226, \"fpr\": 0.4484848484848485, \"tpr\": 0.9240545567265964, \"n\": 990}, {\"threshold\": 0.21, \"p\": 3226, \"fpr\": 0.4484848484848485, \"tpr\": 0.9237445753254805, \"n\": 990}, {\"threshold\": 0.211, \"p\": 3226, \"fpr\": 0.4484848484848485, \"tpr\": 0.9234345939243646, \"n\": 990}, {\"threshold\": 0.212, \"p\": 3226, \"fpr\": 0.4484848484848485, \"tpr\": 0.9234345939243646, \"n\": 990}, {\"threshold\": 0.213, \"p\": 3226, \"fpr\": 0.44747474747474747, \"tpr\": 0.9234345939243646, \"n\": 990}, {\"threshold\": 0.214, \"p\": 3226, \"fpr\": 0.44747474747474747, \"tpr\": 0.9234345939243646, \"n\": 990}, {\"threshold\": 0.215, \"p\": 3226, \"fpr\": 0.44747474747474747, \"tpr\": 0.9234345939243646, \"n\": 990}, {\"threshold\": 0.216, \"p\": 3226, \"fpr\": 0.44747474747474747, \"tpr\": 0.9234345939243646, \"n\": 990}, {\"threshold\": 0.217, \"p\": 3226, \"fpr\": 0.44747474747474747, \"tpr\": 0.9231246125232486, \"n\": 990}, {\"threshold\": 0.218, \"p\": 3226, \"fpr\": 0.44747474747474747, \"tpr\": 0.9231246125232486, \"n\": 990}, {\"threshold\": 0.219, \"p\": 3226, \"fpr\": 0.44747474747474747, \"tpr\": 0.9228146311221327, \"n\": 990}, {\"threshold\": 0.22, \"p\": 3226, \"fpr\": 0.44747474747474747, \"tpr\": 0.9228146311221327, \"n\": 990}, {\"threshold\": 0.221, \"p\": 3226, \"fpr\": 0.44747474747474747, \"tpr\": 0.9228146311221327, \"n\": 990}, {\"threshold\": 0.222, \"p\": 3226, \"fpr\": 0.44747474747474747, \"tpr\": 0.9228146311221327, \"n\": 990}, {\"threshold\": 0.223, \"p\": 3226, \"fpr\": 0.44747474747474747, \"tpr\": 0.9228146311221327, \"n\": 990}, {\"threshold\": 0.224, \"p\": 3226, \"fpr\": 0.44646464646464645, \"tpr\": 0.9228146311221327, \"n\": 990}, {\"threshold\": 0.225, \"p\": 3226, \"fpr\": 0.44646464646464645, \"tpr\": 0.9228146311221327, \"n\": 990}, {\"threshold\": 0.226, \"p\": 3226, \"fpr\": 0.44646464646464645, \"tpr\": 0.9228146311221327, \"n\": 990}, {\"threshold\": 0.227, \"p\": 3226, \"fpr\": 0.44646464646464645, \"tpr\": 0.9228146311221327, \"n\": 990}, {\"threshold\": 0.228, \"p\": 3226, \"fpr\": 0.44646464646464645, \"tpr\": 0.9228146311221327, \"n\": 990}, {\"threshold\": 0.229, \"p\": 3226, \"fpr\": 0.44646464646464645, \"tpr\": 0.9228146311221327, \"n\": 990}, {\"threshold\": 0.23, \"p\": 3226, \"fpr\": 0.44545454545454544, \"tpr\": 0.9228146311221327, \"n\": 990}, {\"threshold\": 0.231, \"p\": 3226, \"fpr\": 0.44545454545454544, \"tpr\": 0.9228146311221327, \"n\": 990}, {\"threshold\": 0.232, \"p\": 3226, \"fpr\": 0.44545454545454544, \"tpr\": 0.9228146311221327, \"n\": 990}, {\"threshold\": 0.233, \"p\": 3226, \"fpr\": 0.44545454545454544, \"tpr\": 0.9228146311221327, \"n\": 990}, {\"threshold\": 0.234, \"p\": 3226, \"fpr\": 0.44545454545454544, \"tpr\": 0.9228146311221327, \"n\": 990}, {\"threshold\": 0.235, \"p\": 3226, \"fpr\": 0.44545454545454544, \"tpr\": 0.9228146311221327, \"n\": 990}, {\"threshold\": 0.236, \"p\": 3226, \"fpr\": 0.44545454545454544, \"tpr\": 0.9228146311221327, \"n\": 990}, {\"threshold\": 0.237, \"p\": 3226, \"fpr\": 0.44545454545454544, \"tpr\": 0.9228146311221327, \"n\": 990}, {\"threshold\": 0.238, \"p\": 3226, \"fpr\": 0.44545454545454544, \"tpr\": 0.9228146311221327, \"n\": 990}, {\"threshold\": 0.239, \"p\": 3226, \"fpr\": 0.44545454545454544, \"tpr\": 0.9225046497210168, \"n\": 990}, {\"threshold\": 0.24, \"p\": 3226, \"fpr\": 0.44545454545454544, \"tpr\": 0.9225046497210168, \"n\": 990}, {\"threshold\": 0.241, \"p\": 3226, \"fpr\": 0.4444444444444444, \"tpr\": 0.9221946683199008, \"n\": 990}, {\"threshold\": 0.242, \"p\": 3226, \"fpr\": 0.44343434343434346, \"tpr\": 0.9218846869187849, \"n\": 990}, {\"threshold\": 0.243, \"p\": 3226, \"fpr\": 0.44343434343434346, \"tpr\": 0.921264724116553, \"n\": 990}, {\"threshold\": 0.244, \"p\": 3226, \"fpr\": 0.44242424242424244, \"tpr\": 0.921264724116553, \"n\": 990}, {\"threshold\": 0.245, \"p\": 3226, \"fpr\": 0.44242424242424244, \"tpr\": 0.921264724116553, \"n\": 990}, {\"threshold\": 0.246, \"p\": 3226, \"fpr\": 0.4414141414141414, \"tpr\": 0.921264724116553, \"n\": 990}, {\"threshold\": 0.247, \"p\": 3226, \"fpr\": 0.4414141414141414, \"tpr\": 0.921264724116553, \"n\": 990}, {\"threshold\": 0.248, \"p\": 3226, \"fpr\": 0.4404040404040404, \"tpr\": 0.921264724116553, \"n\": 990}, {\"threshold\": 0.249, \"p\": 3226, \"fpr\": 0.4404040404040404, \"tpr\": 0.921264724116553, \"n\": 990}, {\"threshold\": 0.25, \"p\": 3226, \"fpr\": 0.4404040404040404, \"tpr\": 0.9209547427154371, \"n\": 990}, {\"threshold\": 0.251, \"p\": 3226, \"fpr\": 0.4404040404040404, \"tpr\": 0.9209547427154371, \"n\": 990}, {\"threshold\": 0.252, \"p\": 3226, \"fpr\": 0.4404040404040404, \"tpr\": 0.9209547427154371, \"n\": 990}, {\"threshold\": 0.253, \"p\": 3226, \"fpr\": 0.4393939393939394, \"tpr\": 0.9206447613143212, \"n\": 990}, {\"threshold\": 0.254, \"p\": 3226, \"fpr\": 0.4393939393939394, \"tpr\": 0.9203347799132052, \"n\": 990}, {\"threshold\": 0.255, \"p\": 3226, \"fpr\": 0.4393939393939394, \"tpr\": 0.9203347799132052, \"n\": 990}, {\"threshold\": 0.256, \"p\": 3226, \"fpr\": 0.4383838383838384, \"tpr\": 0.9203347799132052, \"n\": 990}, {\"threshold\": 0.257, \"p\": 3226, \"fpr\": 0.4383838383838384, \"tpr\": 0.9200247985120893, \"n\": 990}, {\"threshold\": 0.258, \"p\": 3226, \"fpr\": 0.43636363636363634, \"tpr\": 0.9200247985120893, \"n\": 990}, {\"threshold\": 0.259, \"p\": 3226, \"fpr\": 0.43636363636363634, \"tpr\": 0.9200247985120893, \"n\": 990}, {\"threshold\": 0.26, \"p\": 3226, \"fpr\": 0.43636363636363634, \"tpr\": 0.9200247985120893, \"n\": 990}, {\"threshold\": 0.261, \"p\": 3226, \"fpr\": 0.43636363636363634, \"tpr\": 0.9197148171109734, \"n\": 990}, {\"threshold\": 0.262, \"p\": 3226, \"fpr\": 0.43636363636363634, \"tpr\": 0.9194048357098574, \"n\": 990}, {\"threshold\": 0.263, \"p\": 3226, \"fpr\": 0.43636363636363634, \"tpr\": 0.9194048357098574, \"n\": 990}, {\"threshold\": 0.264, \"p\": 3226, \"fpr\": 0.43636363636363634, \"tpr\": 0.9190948543087415, \"n\": 990}, {\"threshold\": 0.265, \"p\": 3226, \"fpr\": 0.4353535353535353, \"tpr\": 0.9190948543087415, \"n\": 990}, {\"threshold\": 0.266, \"p\": 3226, \"fpr\": 0.4353535353535353, \"tpr\": 0.9190948543087415, \"n\": 990}, {\"threshold\": 0.267, \"p\": 3226, \"fpr\": 0.4353535353535353, \"tpr\": 0.9190948543087415, \"n\": 990}, {\"threshold\": 0.268, \"p\": 3226, \"fpr\": 0.4353535353535353, \"tpr\": 0.9187848729076256, \"n\": 990}, {\"threshold\": 0.269, \"p\": 3226, \"fpr\": 0.4353535353535353, \"tpr\": 0.9184748915065096, \"n\": 990}, {\"threshold\": 0.27, \"p\": 3226, \"fpr\": 0.4353535353535353, \"tpr\": 0.9184748915065096, \"n\": 990}, {\"threshold\": 0.271, \"p\": 3226, \"fpr\": 0.4353535353535353, \"tpr\": 0.9181649101053937, \"n\": 990}, {\"threshold\": 0.272, \"p\": 3226, \"fpr\": 0.4353535353535353, \"tpr\": 0.9178549287042778, \"n\": 990}, {\"threshold\": 0.273, \"p\": 3226, \"fpr\": 0.4353535353535353, \"tpr\": 0.9178549287042778, \"n\": 990}, {\"threshold\": 0.274, \"p\": 3226, \"fpr\": 0.4353535353535353, \"tpr\": 0.9175449473031618, \"n\": 990}, {\"threshold\": 0.275, \"p\": 3226, \"fpr\": 0.4353535353535353, \"tpr\": 0.9175449473031618, \"n\": 990}, {\"threshold\": 0.276, \"p\": 3226, \"fpr\": 0.4353535353535353, \"tpr\": 0.9172349659020459, \"n\": 990}, {\"threshold\": 0.277, \"p\": 3226, \"fpr\": 0.4353535353535353, \"tpr\": 0.916615003099814, \"n\": 990}, {\"threshold\": 0.278, \"p\": 3226, \"fpr\": 0.4353535353535353, \"tpr\": 0.916615003099814, \"n\": 990}, {\"threshold\": 0.279, \"p\": 3226, \"fpr\": 0.43434343434343436, \"tpr\": 0.9163050216986981, \"n\": 990}, {\"threshold\": 0.28, \"p\": 3226, \"fpr\": 0.43333333333333335, \"tpr\": 0.9163050216986981, \"n\": 990}, {\"threshold\": 0.281, \"p\": 3226, \"fpr\": 0.43333333333333335, \"tpr\": 0.9156850588964662, \"n\": 990}, {\"threshold\": 0.282, \"p\": 3226, \"fpr\": 0.43232323232323233, \"tpr\": 0.9156850588964662, \"n\": 990}, {\"threshold\": 0.283, \"p\": 3226, \"fpr\": 0.43232323232323233, \"tpr\": 0.9153750774953503, \"n\": 990}, {\"threshold\": 0.284, \"p\": 3226, \"fpr\": 0.43232323232323233, \"tpr\": 0.9153750774953503, \"n\": 990}, {\"threshold\": 0.285, \"p\": 3226, \"fpr\": 0.43232323232323233, \"tpr\": 0.9153750774953503, \"n\": 990}, {\"threshold\": 0.286, \"p\": 3226, \"fpr\": 0.43232323232323233, \"tpr\": 0.9150650960942344, \"n\": 990}, {\"threshold\": 0.287, \"p\": 3226, \"fpr\": 0.43232323232323233, \"tpr\": 0.9147551146931184, \"n\": 990}, {\"threshold\": 0.288, \"p\": 3226, \"fpr\": 0.43232323232323233, \"tpr\": 0.9144451332920025, \"n\": 990}, {\"threshold\": 0.289, \"p\": 3226, \"fpr\": 0.43232323232323233, \"tpr\": 0.9144451332920025, \"n\": 990}, {\"threshold\": 0.29, \"p\": 3226, \"fpr\": 0.43232323232323233, \"tpr\": 0.9144451332920025, \"n\": 990}, {\"threshold\": 0.291, \"p\": 3226, \"fpr\": 0.43232323232323233, \"tpr\": 0.9141351518908866, \"n\": 990}, {\"threshold\": 0.292, \"p\": 3226, \"fpr\": 0.43232323232323233, \"tpr\": 0.9141351518908866, \"n\": 990}, {\"threshold\": 0.293, \"p\": 3226, \"fpr\": 0.43232323232323233, \"tpr\": 0.9138251704897706, \"n\": 990}, {\"threshold\": 0.294, \"p\": 3226, \"fpr\": 0.4313131313131313, \"tpr\": 0.9138251704897706, \"n\": 990}, {\"threshold\": 0.295, \"p\": 3226, \"fpr\": 0.4303030303030303, \"tpr\": 0.9138251704897706, \"n\": 990}, {\"threshold\": 0.296, \"p\": 3226, \"fpr\": 0.4303030303030303, \"tpr\": 0.9138251704897706, \"n\": 990}, {\"threshold\": 0.297, \"p\": 3226, \"fpr\": 0.4303030303030303, \"tpr\": 0.9138251704897706, \"n\": 990}, {\"threshold\": 0.298, \"p\": 3226, \"fpr\": 0.4303030303030303, \"tpr\": 0.9138251704897706, \"n\": 990}, {\"threshold\": 0.299, \"p\": 3226, \"fpr\": 0.4303030303030303, \"tpr\": 0.9138251704897706, \"n\": 990}, {\"threshold\": 0.3, \"p\": 3226, \"fpr\": 0.4303030303030303, \"tpr\": 0.9132052076875388, \"n\": 990}, {\"threshold\": 0.301, \"p\": 3226, \"fpr\": 0.4292929292929293, \"tpr\": 0.9128952262864228, \"n\": 990}, {\"threshold\": 0.302, \"p\": 3226, \"fpr\": 0.4292929292929293, \"tpr\": 0.9125852448853069, \"n\": 990}, {\"threshold\": 0.303, \"p\": 3226, \"fpr\": 0.4292929292929293, \"tpr\": 0.912275263484191, \"n\": 990}, {\"threshold\": 0.304, \"p\": 3226, \"fpr\": 0.4292929292929293, \"tpr\": 0.911965282083075, \"n\": 990}, {\"threshold\": 0.305, \"p\": 3226, \"fpr\": 0.4292929292929293, \"tpr\": 0.9116553006819591, \"n\": 990}, {\"threshold\": 0.306, \"p\": 3226, \"fpr\": 0.4292929292929293, \"tpr\": 0.9116553006819591, \"n\": 990}, {\"threshold\": 0.307, \"p\": 3226, \"fpr\": 0.4292929292929293, \"tpr\": 0.9116553006819591, \"n\": 990}, {\"threshold\": 0.308, \"p\": 3226, \"fpr\": 0.4292929292929293, \"tpr\": 0.9116553006819591, \"n\": 990}, {\"threshold\": 0.309, \"p\": 3226, \"fpr\": 0.4292929292929293, \"tpr\": 0.9116553006819591, \"n\": 990}, {\"threshold\": 0.31, \"p\": 3226, \"fpr\": 0.4292929292929293, \"tpr\": 0.9116553006819591, \"n\": 990}, {\"threshold\": 0.311, \"p\": 3226, \"fpr\": 0.42828282828282827, \"tpr\": 0.9116553006819591, \"n\": 990}, {\"threshold\": 0.312, \"p\": 3226, \"fpr\": 0.42828282828282827, \"tpr\": 0.9116553006819591, \"n\": 990}, {\"threshold\": 0.313, \"p\": 3226, \"fpr\": 0.42828282828282827, \"tpr\": 0.9113453192808432, \"n\": 990}, {\"threshold\": 0.314, \"p\": 3226, \"fpr\": 0.42828282828282827, \"tpr\": 0.9113453192808432, \"n\": 990}, {\"threshold\": 0.315, \"p\": 3226, \"fpr\": 0.42828282828282827, \"tpr\": 0.9113453192808432, \"n\": 990}, {\"threshold\": 0.316, \"p\": 3226, \"fpr\": 0.42828282828282827, \"tpr\": 0.9113453192808432, \"n\": 990}, {\"threshold\": 0.317, \"p\": 3226, \"fpr\": 0.42828282828282827, \"tpr\": 0.9107253564786113, \"n\": 990}, {\"threshold\": 0.318, \"p\": 3226, \"fpr\": 0.42727272727272725, \"tpr\": 0.9107253564786113, \"n\": 990}, {\"threshold\": 0.319, \"p\": 3226, \"fpr\": 0.42727272727272725, \"tpr\": 0.9104153750774954, \"n\": 990}, {\"threshold\": 0.32, \"p\": 3226, \"fpr\": 0.42727272727272725, \"tpr\": 0.9104153750774954, \"n\": 990}, {\"threshold\": 0.321, \"p\": 3226, \"fpr\": 0.4262626262626263, \"tpr\": 0.9104153750774954, \"n\": 990}, {\"threshold\": 0.322, \"p\": 3226, \"fpr\": 0.4262626262626263, \"tpr\": 0.9104153750774954, \"n\": 990}, {\"threshold\": 0.323, \"p\": 3226, \"fpr\": 0.42525252525252527, \"tpr\": 0.9104153750774954, \"n\": 990}, {\"threshold\": 0.324, \"p\": 3226, \"fpr\": 0.42525252525252527, \"tpr\": 0.9104153750774954, \"n\": 990}, {\"threshold\": 0.325, \"p\": 3226, \"fpr\": 0.42525252525252527, \"tpr\": 0.9104153750774954, \"n\": 990}, {\"threshold\": 0.326, \"p\": 3226, \"fpr\": 0.42525252525252527, \"tpr\": 0.9104153750774954, \"n\": 990}, {\"threshold\": 0.327, \"p\": 3226, \"fpr\": 0.42525252525252527, \"tpr\": 0.9104153750774954, \"n\": 990}, {\"threshold\": 0.328, \"p\": 3226, \"fpr\": 0.42525252525252527, \"tpr\": 0.9104153750774954, \"n\": 990}, {\"threshold\": 0.329, \"p\": 3226, \"fpr\": 0.42525252525252527, \"tpr\": 0.9104153750774954, \"n\": 990}, {\"threshold\": 0.33, \"p\": 3226, \"fpr\": 0.42525252525252527, \"tpr\": 0.9104153750774954, \"n\": 990}, {\"threshold\": 0.331, \"p\": 3226, \"fpr\": 0.42525252525252527, \"tpr\": 0.9101053936763794, \"n\": 990}, {\"threshold\": 0.332, \"p\": 3226, \"fpr\": 0.42525252525252527, \"tpr\": 0.9101053936763794, \"n\": 990}, {\"threshold\": 0.333, \"p\": 3226, \"fpr\": 0.42525252525252527, \"tpr\": 0.9097954122752635, \"n\": 990}, {\"threshold\": 0.334, \"p\": 3226, \"fpr\": 0.42525252525252527, \"tpr\": 0.9097954122752635, \"n\": 990}, {\"threshold\": 0.335, \"p\": 3226, \"fpr\": 0.42323232323232324, \"tpr\": 0.9097954122752635, \"n\": 990}, {\"threshold\": 0.336, \"p\": 3226, \"fpr\": 0.4222222222222222, \"tpr\": 0.9097954122752635, \"n\": 990}, {\"threshold\": 0.337, \"p\": 3226, \"fpr\": 0.4222222222222222, \"tpr\": 0.9097954122752635, \"n\": 990}, {\"threshold\": 0.338, \"p\": 3226, \"fpr\": 0.4222222222222222, \"tpr\": 0.9094854308741476, \"n\": 990}, {\"threshold\": 0.339, \"p\": 3226, \"fpr\": 0.4222222222222222, \"tpr\": 0.9094854308741476, \"n\": 990}, {\"threshold\": 0.34, \"p\": 3226, \"fpr\": 0.4212121212121212, \"tpr\": 0.9094854308741476, \"n\": 990}, {\"threshold\": 0.341, \"p\": 3226, \"fpr\": 0.4212121212121212, \"tpr\": 0.9094854308741476, \"n\": 990}, {\"threshold\": 0.342, \"p\": 3226, \"fpr\": 0.4212121212121212, \"tpr\": 0.9091754494730316, \"n\": 990}, {\"threshold\": 0.343, \"p\": 3226, \"fpr\": 0.4212121212121212, \"tpr\": 0.9091754494730316, \"n\": 990}, {\"threshold\": 0.344, \"p\": 3226, \"fpr\": 0.4212121212121212, \"tpr\": 0.9091754494730316, \"n\": 990}, {\"threshold\": 0.345, \"p\": 3226, \"fpr\": 0.4202020202020202, \"tpr\": 0.9091754494730316, \"n\": 990}, {\"threshold\": 0.346, \"p\": 3226, \"fpr\": 0.4202020202020202, \"tpr\": 0.9091754494730316, \"n\": 990}, {\"threshold\": 0.347, \"p\": 3226, \"fpr\": 0.4202020202020202, \"tpr\": 0.9088654680719157, \"n\": 990}, {\"threshold\": 0.348, \"p\": 3226, \"fpr\": 0.4202020202020202, \"tpr\": 0.9085554866707998, \"n\": 990}, {\"threshold\": 0.349, \"p\": 3226, \"fpr\": 0.4202020202020202, \"tpr\": 0.9085554866707998, \"n\": 990}, {\"threshold\": 0.35, \"p\": 3226, \"fpr\": 0.4202020202020202, \"tpr\": 0.9085554866707998, \"n\": 990}, {\"threshold\": 0.351, \"p\": 3226, \"fpr\": 0.4202020202020202, \"tpr\": 0.9085554866707998, \"n\": 990}, {\"threshold\": 0.352, \"p\": 3226, \"fpr\": 0.4202020202020202, \"tpr\": 0.9085554866707998, \"n\": 990}, {\"threshold\": 0.353, \"p\": 3226, \"fpr\": 0.41919191919191917, \"tpr\": 0.9085554866707998, \"n\": 990}, {\"threshold\": 0.354, \"p\": 3226, \"fpr\": 0.41919191919191917, \"tpr\": 0.9082455052696838, \"n\": 990}, {\"threshold\": 0.355, \"p\": 3226, \"fpr\": 0.41818181818181815, \"tpr\": 0.9082455052696838, \"n\": 990}, {\"threshold\": 0.356, \"p\": 3226, \"fpr\": 0.41818181818181815, \"tpr\": 0.9082455052696838, \"n\": 990}, {\"threshold\": 0.357, \"p\": 3226, \"fpr\": 0.41818181818181815, \"tpr\": 0.9082455052696838, \"n\": 990}, {\"threshold\": 0.358, \"p\": 3226, \"fpr\": 0.41818181818181815, \"tpr\": 0.9082455052696838, \"n\": 990}, {\"threshold\": 0.359, \"p\": 3226, \"fpr\": 0.41818181818181815, \"tpr\": 0.9082455052696838, \"n\": 990}, {\"threshold\": 0.36, \"p\": 3226, \"fpr\": 0.4171717171717172, \"tpr\": 0.9082455052696838, \"n\": 990}, {\"threshold\": 0.361, \"p\": 3226, \"fpr\": 0.4171717171717172, \"tpr\": 0.9082455052696838, \"n\": 990}, {\"threshold\": 0.362, \"p\": 3226, \"fpr\": 0.4171717171717172, \"tpr\": 0.9082455052696838, \"n\": 990}, {\"threshold\": 0.363, \"p\": 3226, \"fpr\": 0.4171717171717172, \"tpr\": 0.9082455052696838, \"n\": 990}, {\"threshold\": 0.364, \"p\": 3226, \"fpr\": 0.4171717171717172, \"tpr\": 0.9079355238685679, \"n\": 990}, {\"threshold\": 0.365, \"p\": 3226, \"fpr\": 0.4171717171717172, \"tpr\": 0.9079355238685679, \"n\": 990}, {\"threshold\": 0.366, \"p\": 3226, \"fpr\": 0.4171717171717172, \"tpr\": 0.9079355238685679, \"n\": 990}, {\"threshold\": 0.367, \"p\": 3226, \"fpr\": 0.4171717171717172, \"tpr\": 0.907625542467452, \"n\": 990}, {\"threshold\": 0.368, \"p\": 3226, \"fpr\": 0.4171717171717172, \"tpr\": 0.907625542467452, \"n\": 990}, {\"threshold\": 0.369, \"p\": 3226, \"fpr\": 0.4171717171717172, \"tpr\": 0.907315561066336, \"n\": 990}, {\"threshold\": 0.37, \"p\": 3226, \"fpr\": 0.4171717171717172, \"tpr\": 0.907315561066336, \"n\": 990}, {\"threshold\": 0.371, \"p\": 3226, \"fpr\": 0.4171717171717172, \"tpr\": 0.907315561066336, \"n\": 990}, {\"threshold\": 0.372, \"p\": 3226, \"fpr\": 0.4171717171717172, \"tpr\": 0.907315561066336, \"n\": 990}, {\"threshold\": 0.373, \"p\": 3226, \"fpr\": 0.4171717171717172, \"tpr\": 0.9070055796652201, \"n\": 990}, {\"threshold\": 0.374, \"p\": 3226, \"fpr\": 0.4171717171717172, \"tpr\": 0.9070055796652201, \"n\": 990}, {\"threshold\": 0.375, \"p\": 3226, \"fpr\": 0.4171717171717172, \"tpr\": 0.9070055796652201, \"n\": 990}, {\"threshold\": 0.376, \"p\": 3226, \"fpr\": 0.4171717171717172, \"tpr\": 0.9070055796652201, \"n\": 990}, {\"threshold\": 0.377, \"p\": 3226, \"fpr\": 0.4171717171717172, \"tpr\": 0.9070055796652201, \"n\": 990}, {\"threshold\": 0.378, \"p\": 3226, \"fpr\": 0.4171717171717172, \"tpr\": 0.9070055796652201, \"n\": 990}, {\"threshold\": 0.379, \"p\": 3226, \"fpr\": 0.4171717171717172, \"tpr\": 0.9070055796652201, \"n\": 990}, {\"threshold\": 0.38, \"p\": 3226, \"fpr\": 0.4171717171717172, \"tpr\": 0.9066955982641042, \"n\": 990}, {\"threshold\": 0.381, \"p\": 3226, \"fpr\": 0.4171717171717172, \"tpr\": 0.9066955982641042, \"n\": 990}, {\"threshold\": 0.382, \"p\": 3226, \"fpr\": 0.4161616161616162, \"tpr\": 0.9066955982641042, \"n\": 990}, {\"threshold\": 0.383, \"p\": 3226, \"fpr\": 0.4161616161616162, \"tpr\": 0.9066955982641042, \"n\": 990}, {\"threshold\": 0.384, \"p\": 3226, \"fpr\": 0.41414141414141414, \"tpr\": 0.9066955982641042, \"n\": 990}, {\"threshold\": 0.385, \"p\": 3226, \"fpr\": 0.41414141414141414, \"tpr\": 0.9063856168629882, \"n\": 990}, {\"threshold\": 0.386, \"p\": 3226, \"fpr\": 0.41414141414141414, \"tpr\": 0.9060756354618723, \"n\": 990}, {\"threshold\": 0.387, \"p\": 3226, \"fpr\": 0.41414141414141414, \"tpr\": 0.9060756354618723, \"n\": 990}, {\"threshold\": 0.388, \"p\": 3226, \"fpr\": 0.41414141414141414, \"tpr\": 0.9057656540607564, \"n\": 990}, {\"threshold\": 0.389, \"p\": 3226, \"fpr\": 0.41414141414141414, \"tpr\": 0.9057656540607564, \"n\": 990}, {\"threshold\": 0.39, \"p\": 3226, \"fpr\": 0.41414141414141414, \"tpr\": 0.9057656540607564, \"n\": 990}, {\"threshold\": 0.391, \"p\": 3226, \"fpr\": 0.41414141414141414, \"tpr\": 0.9054556726596404, \"n\": 990}, {\"threshold\": 0.392, \"p\": 3226, \"fpr\": 0.4131313131313131, \"tpr\": 0.9054556726596404, \"n\": 990}, {\"threshold\": 0.393, \"p\": 3226, \"fpr\": 0.4131313131313131, \"tpr\": 0.9054556726596404, \"n\": 990}, {\"threshold\": 0.394, \"p\": 3226, \"fpr\": 0.4131313131313131, \"tpr\": 0.9054556726596404, \"n\": 990}, {\"threshold\": 0.395, \"p\": 3226, \"fpr\": 0.4131313131313131, \"tpr\": 0.9054556726596404, \"n\": 990}, {\"threshold\": 0.396, \"p\": 3226, \"fpr\": 0.4131313131313131, \"tpr\": 0.9051456912585245, \"n\": 990}, {\"threshold\": 0.397, \"p\": 3226, \"fpr\": 0.4131313131313131, \"tpr\": 0.9048357098574086, \"n\": 990}, {\"threshold\": 0.398, \"p\": 3226, \"fpr\": 0.4131313131313131, \"tpr\": 0.9048357098574086, \"n\": 990}, {\"threshold\": 0.399, \"p\": 3226, \"fpr\": 0.4131313131313131, \"tpr\": 0.9045257284562926, \"n\": 990}, {\"threshold\": 0.4, \"p\": 3226, \"fpr\": 0.4131313131313131, \"tpr\": 0.9045257284562926, \"n\": 990}, {\"threshold\": 0.401, \"p\": 3226, \"fpr\": 0.4131313131313131, \"tpr\": 0.9045257284562926, \"n\": 990}, {\"threshold\": 0.402, \"p\": 3226, \"fpr\": 0.4131313131313131, \"tpr\": 0.9039057656540608, \"n\": 990}, {\"threshold\": 0.403, \"p\": 3226, \"fpr\": 0.4131313131313131, \"tpr\": 0.9039057656540608, \"n\": 990}, {\"threshold\": 0.404, \"p\": 3226, \"fpr\": 0.4131313131313131, \"tpr\": 0.9039057656540608, \"n\": 990}, {\"threshold\": 0.405, \"p\": 3226, \"fpr\": 0.4131313131313131, \"tpr\": 0.9039057656540608, \"n\": 990}, {\"threshold\": 0.406, \"p\": 3226, \"fpr\": 0.4131313131313131, \"tpr\": 0.9039057656540608, \"n\": 990}, {\"threshold\": 0.407, \"p\": 3226, \"fpr\": 0.4131313131313131, \"tpr\": 0.9039057656540608, \"n\": 990}, {\"threshold\": 0.408, \"p\": 3226, \"fpr\": 0.4131313131313131, \"tpr\": 0.9039057656540608, \"n\": 990}, {\"threshold\": 0.409, \"p\": 3226, \"fpr\": 0.4131313131313131, \"tpr\": 0.9039057656540608, \"n\": 990}, {\"threshold\": 0.41, \"p\": 3226, \"fpr\": 0.4131313131313131, \"tpr\": 0.9039057656540608, \"n\": 990}, {\"threshold\": 0.411, \"p\": 3226, \"fpr\": 0.4131313131313131, \"tpr\": 0.9039057656540608, \"n\": 990}, {\"threshold\": 0.412, \"p\": 3226, \"fpr\": 0.4131313131313131, \"tpr\": 0.9039057656540608, \"n\": 990}, {\"threshold\": 0.413, \"p\": 3226, \"fpr\": 0.4131313131313131, \"tpr\": 0.9039057656540608, \"n\": 990}, {\"threshold\": 0.414, \"p\": 3226, \"fpr\": 0.4131313131313131, \"tpr\": 0.9039057656540608, \"n\": 990}, {\"threshold\": 0.415, \"p\": 3226, \"fpr\": 0.4131313131313131, \"tpr\": 0.9035957842529448, \"n\": 990}, {\"threshold\": 0.416, \"p\": 3226, \"fpr\": 0.4121212121212121, \"tpr\": 0.9035957842529448, \"n\": 990}, {\"threshold\": 0.417, \"p\": 3226, \"fpr\": 0.4121212121212121, \"tpr\": 0.9035957842529448, \"n\": 990}, {\"threshold\": 0.418, \"p\": 3226, \"fpr\": 0.4121212121212121, \"tpr\": 0.9035957842529448, \"n\": 990}, {\"threshold\": 0.419, \"p\": 3226, \"fpr\": 0.4121212121212121, \"tpr\": 0.9035957842529448, \"n\": 990}, {\"threshold\": 0.42, \"p\": 3226, \"fpr\": 0.4121212121212121, \"tpr\": 0.9035957842529448, \"n\": 990}, {\"threshold\": 0.421, \"p\": 3226, \"fpr\": 0.4121212121212121, \"tpr\": 0.9035957842529448, \"n\": 990}, {\"threshold\": 0.422, \"p\": 3226, \"fpr\": 0.4121212121212121, \"tpr\": 0.9032858028518289, \"n\": 990}, {\"threshold\": 0.423, \"p\": 3226, \"fpr\": 0.4121212121212121, \"tpr\": 0.902975821450713, \"n\": 990}, {\"threshold\": 0.424, \"p\": 3226, \"fpr\": 0.4121212121212121, \"tpr\": 0.902975821450713, \"n\": 990}, {\"threshold\": 0.425, \"p\": 3226, \"fpr\": 0.4121212121212121, \"tpr\": 0.902665840049597, \"n\": 990}, {\"threshold\": 0.426, \"p\": 3226, \"fpr\": 0.4121212121212121, \"tpr\": 0.902665840049597, \"n\": 990}, {\"threshold\": 0.427, \"p\": 3226, \"fpr\": 0.4121212121212121, \"tpr\": 0.902665840049597, \"n\": 990}, {\"threshold\": 0.428, \"p\": 3226, \"fpr\": 0.4111111111111111, \"tpr\": 0.9023558586484811, \"n\": 990}, {\"threshold\": 0.429, \"p\": 3226, \"fpr\": 0.4111111111111111, \"tpr\": 0.9023558586484811, \"n\": 990}, {\"threshold\": 0.43, \"p\": 3226, \"fpr\": 0.4101010101010101, \"tpr\": 0.9023558586484811, \"n\": 990}, {\"threshold\": 0.431, \"p\": 3226, \"fpr\": 0.4090909090909091, \"tpr\": 0.9023558586484811, \"n\": 990}, {\"threshold\": 0.432, \"p\": 3226, \"fpr\": 0.4090909090909091, \"tpr\": 0.9017358958462492, \"n\": 990}, {\"threshold\": 0.433, \"p\": 3226, \"fpr\": 0.4080808080808081, \"tpr\": 0.9017358958462492, \"n\": 990}, {\"threshold\": 0.434, \"p\": 3226, \"fpr\": 0.4080808080808081, \"tpr\": 0.9017358958462492, \"n\": 990}, {\"threshold\": 0.435, \"p\": 3226, \"fpr\": 0.4080808080808081, \"tpr\": 0.9017358958462492, \"n\": 990}, {\"threshold\": 0.436, \"p\": 3226, \"fpr\": 0.4080808080808081, \"tpr\": 0.9017358958462492, \"n\": 990}, {\"threshold\": 0.437, \"p\": 3226, \"fpr\": 0.4080808080808081, \"tpr\": 0.9017358958462492, \"n\": 990}, {\"threshold\": 0.438, \"p\": 3226, \"fpr\": 0.40606060606060607, \"tpr\": 0.9014259144451333, \"n\": 990}, {\"threshold\": 0.439, \"p\": 3226, \"fpr\": 0.40606060606060607, \"tpr\": 0.9011159330440174, \"n\": 990}, {\"threshold\": 0.44, \"p\": 3226, \"fpr\": 0.40606060606060607, \"tpr\": 0.9011159330440174, \"n\": 990}, {\"threshold\": 0.441, \"p\": 3226, \"fpr\": 0.40606060606060607, \"tpr\": 0.9011159330440174, \"n\": 990}, {\"threshold\": 0.442, \"p\": 3226, \"fpr\": 0.40404040404040403, \"tpr\": 0.9011159330440174, \"n\": 990}, {\"threshold\": 0.443, \"p\": 3226, \"fpr\": 0.403030303030303, \"tpr\": 0.9011159330440174, \"n\": 990}, {\"threshold\": 0.444, \"p\": 3226, \"fpr\": 0.403030303030303, \"tpr\": 0.9011159330440174, \"n\": 990}, {\"threshold\": 0.445, \"p\": 3226, \"fpr\": 0.403030303030303, \"tpr\": 0.9011159330440174, \"n\": 990}, {\"threshold\": 0.446, \"p\": 3226, \"fpr\": 0.402020202020202, \"tpr\": 0.9011159330440174, \"n\": 990}, {\"threshold\": 0.447, \"p\": 3226, \"fpr\": 0.401010101010101, \"tpr\": 0.9011159330440174, \"n\": 990}, {\"threshold\": 0.448, \"p\": 3226, \"fpr\": 0.401010101010101, \"tpr\": 0.9011159330440174, \"n\": 990}, {\"threshold\": 0.449, \"p\": 3226, \"fpr\": 0.401010101010101, \"tpr\": 0.9011159330440174, \"n\": 990}, {\"threshold\": 0.45, \"p\": 3226, \"fpr\": 0.401010101010101, \"tpr\": 0.9011159330440174, \"n\": 990}, {\"threshold\": 0.451, \"p\": 3226, \"fpr\": 0.401010101010101, \"tpr\": 0.9011159330440174, \"n\": 990}, {\"threshold\": 0.452, \"p\": 3226, \"fpr\": 0.401010101010101, \"tpr\": 0.9011159330440174, \"n\": 990}, {\"threshold\": 0.453, \"p\": 3226, \"fpr\": 0.4, \"tpr\": 0.9011159330440174, \"n\": 990}, {\"threshold\": 0.454, \"p\": 3226, \"fpr\": 0.4, \"tpr\": 0.9011159330440174, \"n\": 990}, {\"threshold\": 0.455, \"p\": 3226, \"fpr\": 0.397979797979798, \"tpr\": 0.9011159330440174, \"n\": 990}, {\"threshold\": 0.456, \"p\": 3226, \"fpr\": 0.397979797979798, \"tpr\": 0.9011159330440174, \"n\": 990}, {\"threshold\": 0.457, \"p\": 3226, \"fpr\": 0.397979797979798, \"tpr\": 0.9011159330440174, \"n\": 990}, {\"threshold\": 0.458, \"p\": 3226, \"fpr\": 0.396969696969697, \"tpr\": 0.9011159330440174, \"n\": 990}, {\"threshold\": 0.459, \"p\": 3226, \"fpr\": 0.396969696969697, \"tpr\": 0.9011159330440174, \"n\": 990}, {\"threshold\": 0.46, \"p\": 3226, \"fpr\": 0.396969696969697, \"tpr\": 0.9011159330440174, \"n\": 990}, {\"threshold\": 0.461, \"p\": 3226, \"fpr\": 0.39595959595959596, \"tpr\": 0.9008059516429014, \"n\": 990}, {\"threshold\": 0.462, \"p\": 3226, \"fpr\": 0.39494949494949494, \"tpr\": 0.9004959702417855, \"n\": 990}, {\"threshold\": 0.463, \"p\": 3226, \"fpr\": 0.39494949494949494, \"tpr\": 0.9001859888406696, \"n\": 990}, {\"threshold\": 0.464, \"p\": 3226, \"fpr\": 0.39494949494949494, \"tpr\": 0.9001859888406696, \"n\": 990}, {\"threshold\": 0.465, \"p\": 3226, \"fpr\": 0.3939393939393939, \"tpr\": 0.9001859888406696, \"n\": 990}, {\"threshold\": 0.466, \"p\": 3226, \"fpr\": 0.3939393939393939, \"tpr\": 0.9001859888406696, \"n\": 990}, {\"threshold\": 0.467, \"p\": 3226, \"fpr\": 0.3939393939393939, \"tpr\": 0.8998760074395536, \"n\": 990}, {\"threshold\": 0.468, \"p\": 3226, \"fpr\": 0.3939393939393939, \"tpr\": 0.8995660260384377, \"n\": 990}, {\"threshold\": 0.469, \"p\": 3226, \"fpr\": 0.3939393939393939, \"tpr\": 0.8995660260384377, \"n\": 990}, {\"threshold\": 0.47, \"p\": 3226, \"fpr\": 0.3939393939393939, \"tpr\": 0.8995660260384377, \"n\": 990}, {\"threshold\": 0.471, \"p\": 3226, \"fpr\": 0.3929292929292929, \"tpr\": 0.8995660260384377, \"n\": 990}, {\"threshold\": 0.472, \"p\": 3226, \"fpr\": 0.3929292929292929, \"tpr\": 0.8995660260384377, \"n\": 990}, {\"threshold\": 0.473, \"p\": 3226, \"fpr\": 0.3929292929292929, \"tpr\": 0.8992560446373218, \"n\": 990}, {\"threshold\": 0.474, \"p\": 3226, \"fpr\": 0.3929292929292929, \"tpr\": 0.8992560446373218, \"n\": 990}, {\"threshold\": 0.475, \"p\": 3226, \"fpr\": 0.39191919191919194, \"tpr\": 0.8992560446373218, \"n\": 990}, {\"threshold\": 0.476, \"p\": 3226, \"fpr\": 0.39191919191919194, \"tpr\": 0.8992560446373218, \"n\": 990}, {\"threshold\": 0.477, \"p\": 3226, \"fpr\": 0.39090909090909093, \"tpr\": 0.8992560446373218, \"n\": 990}, {\"threshold\": 0.478, \"p\": 3226, \"fpr\": 0.39090909090909093, \"tpr\": 0.8992560446373218, \"n\": 990}, {\"threshold\": 0.479, \"p\": 3226, \"fpr\": 0.39090909090909093, \"tpr\": 0.8992560446373218, \"n\": 990}, {\"threshold\": 0.48, \"p\": 3226, \"fpr\": 0.39090909090909093, \"tpr\": 0.8992560446373218, \"n\": 990}, {\"threshold\": 0.481, \"p\": 3226, \"fpr\": 0.39090909090909093, \"tpr\": 0.8992560446373218, \"n\": 990}, {\"threshold\": 0.482, \"p\": 3226, \"fpr\": 0.39090909090909093, \"tpr\": 0.8989460632362059, \"n\": 990}, {\"threshold\": 0.483, \"p\": 3226, \"fpr\": 0.3898989898989899, \"tpr\": 0.8989460632362059, \"n\": 990}, {\"threshold\": 0.484, \"p\": 3226, \"fpr\": 0.3898989898989899, \"tpr\": 0.8989460632362059, \"n\": 990}, {\"threshold\": 0.485, \"p\": 3226, \"fpr\": 0.3898989898989899, \"tpr\": 0.8989460632362059, \"n\": 990}, {\"threshold\": 0.486, \"p\": 3226, \"fpr\": 0.3898989898989899, \"tpr\": 0.8989460632362059, \"n\": 990}, {\"threshold\": 0.487, \"p\": 3226, \"fpr\": 0.3898989898989899, \"tpr\": 0.8989460632362059, \"n\": 990}, {\"threshold\": 0.488, \"p\": 3226, \"fpr\": 0.3898989898989899, \"tpr\": 0.8989460632362059, \"n\": 990}, {\"threshold\": 0.489, \"p\": 3226, \"fpr\": 0.3898989898989899, \"tpr\": 0.8986360818350899, \"n\": 990}, {\"threshold\": 0.49, \"p\": 3226, \"fpr\": 0.3898989898989899, \"tpr\": 0.898016119032858, \"n\": 990}, {\"threshold\": 0.491, \"p\": 3226, \"fpr\": 0.3898989898989899, \"tpr\": 0.8977061376317421, \"n\": 990}, {\"threshold\": 0.492, \"p\": 3226, \"fpr\": 0.3898989898989899, \"tpr\": 0.8977061376317421, \"n\": 990}, {\"threshold\": 0.493, \"p\": 3226, \"fpr\": 0.3888888888888889, \"tpr\": 0.8977061376317421, \"n\": 990}, {\"threshold\": 0.494, \"p\": 3226, \"fpr\": 0.3888888888888889, \"tpr\": 0.8973961562306262, \"n\": 990}, {\"threshold\": 0.495, \"p\": 3226, \"fpr\": 0.3878787878787879, \"tpr\": 0.8970861748295103, \"n\": 990}, {\"threshold\": 0.496, \"p\": 3226, \"fpr\": 0.3878787878787879, \"tpr\": 0.8964662120272784, \"n\": 990}, {\"threshold\": 0.497, \"p\": 3226, \"fpr\": 0.3878787878787879, \"tpr\": 0.8964662120272784, \"n\": 990}, {\"threshold\": 0.498, \"p\": 3226, \"fpr\": 0.3878787878787879, \"tpr\": 0.8964662120272784, \"n\": 990}, {\"threshold\": 0.499, \"p\": 3226, \"fpr\": 0.3878787878787879, \"tpr\": 0.8964662120272784, \"n\": 990}, {\"threshold\": 0.5, \"p\": 3226, \"fpr\": 0.3878787878787879, \"tpr\": 0.8964662120272784, \"n\": 990}, {\"threshold\": 0.501, \"p\": 3226, \"fpr\": 0.3878787878787879, \"tpr\": 0.8958462492250465, \"n\": 990}, {\"threshold\": 0.502, \"p\": 3226, \"fpr\": 0.3878787878787879, \"tpr\": 0.8958462492250465, \"n\": 990}, {\"threshold\": 0.503, \"p\": 3226, \"fpr\": 0.3878787878787879, \"tpr\": 0.8958462492250465, \"n\": 990}, {\"threshold\": 0.504, \"p\": 3226, \"fpr\": 0.38686868686868686, \"tpr\": 0.8955362678239306, \"n\": 990}, {\"threshold\": 0.505, \"p\": 3226, \"fpr\": 0.38686868686868686, \"tpr\": 0.8955362678239306, \"n\": 990}, {\"threshold\": 0.506, \"p\": 3226, \"fpr\": 0.38585858585858585, \"tpr\": 0.8952262864228147, \"n\": 990}, {\"threshold\": 0.507, \"p\": 3226, \"fpr\": 0.38585858585858585, \"tpr\": 0.8952262864228147, \"n\": 990}, {\"threshold\": 0.508, \"p\": 3226, \"fpr\": 0.38585858585858585, \"tpr\": 0.8949163050216987, \"n\": 990}, {\"threshold\": 0.509, \"p\": 3226, \"fpr\": 0.38484848484848483, \"tpr\": 0.8949163050216987, \"n\": 990}, {\"threshold\": 0.51, \"p\": 3226, \"fpr\": 0.38484848484848483, \"tpr\": 0.8949163050216987, \"n\": 990}, {\"threshold\": 0.511, \"p\": 3226, \"fpr\": 0.38484848484848483, \"tpr\": 0.8942963422194669, \"n\": 990}, {\"threshold\": 0.512, \"p\": 3226, \"fpr\": 0.38484848484848483, \"tpr\": 0.8942963422194669, \"n\": 990}, {\"threshold\": 0.513, \"p\": 3226, \"fpr\": 0.38484848484848483, \"tpr\": 0.8942963422194669, \"n\": 990}, {\"threshold\": 0.514, \"p\": 3226, \"fpr\": 0.38484848484848483, \"tpr\": 0.8939863608183509, \"n\": 990}, {\"threshold\": 0.515, \"p\": 3226, \"fpr\": 0.3838383838383838, \"tpr\": 0.8939863608183509, \"n\": 990}, {\"threshold\": 0.516, \"p\": 3226, \"fpr\": 0.3838383838383838, \"tpr\": 0.893676379417235, \"n\": 990}, {\"threshold\": 0.517, \"p\": 3226, \"fpr\": 0.38282828282828285, \"tpr\": 0.8933663980161191, \"n\": 990}, {\"threshold\": 0.518, \"p\": 3226, \"fpr\": 0.38282828282828285, \"tpr\": 0.8933663980161191, \"n\": 990}, {\"threshold\": 0.519, \"p\": 3226, \"fpr\": 0.38181818181818183, \"tpr\": 0.8933663980161191, \"n\": 990}, {\"threshold\": 0.52, \"p\": 3226, \"fpr\": 0.38181818181818183, \"tpr\": 0.8933663980161191, \"n\": 990}, {\"threshold\": 0.521, \"p\": 3226, \"fpr\": 0.38181818181818183, \"tpr\": 0.8933663980161191, \"n\": 990}, {\"threshold\": 0.522, \"p\": 3226, \"fpr\": 0.38181818181818183, \"tpr\": 0.8930564166150031, \"n\": 990}, {\"threshold\": 0.523, \"p\": 3226, \"fpr\": 0.38181818181818183, \"tpr\": 0.8930564166150031, \"n\": 990}, {\"threshold\": 0.524, \"p\": 3226, \"fpr\": 0.38181818181818183, \"tpr\": 0.8930564166150031, \"n\": 990}, {\"threshold\": 0.525, \"p\": 3226, \"fpr\": 0.38181818181818183, \"tpr\": 0.8930564166150031, \"n\": 990}, {\"threshold\": 0.526, \"p\": 3226, \"fpr\": 0.38181818181818183, \"tpr\": 0.8930564166150031, \"n\": 990}, {\"threshold\": 0.527, \"p\": 3226, \"fpr\": 0.38181818181818183, \"tpr\": 0.8930564166150031, \"n\": 990}, {\"threshold\": 0.528, \"p\": 3226, \"fpr\": 0.38181818181818183, \"tpr\": 0.8930564166150031, \"n\": 990}, {\"threshold\": 0.529, \"p\": 3226, \"fpr\": 0.38181818181818183, \"tpr\": 0.8930564166150031, \"n\": 990}, {\"threshold\": 0.53, \"p\": 3226, \"fpr\": 0.38181818181818183, \"tpr\": 0.8930564166150031, \"n\": 990}, {\"threshold\": 0.531, \"p\": 3226, \"fpr\": 0.38181818181818183, \"tpr\": 0.8918164910105394, \"n\": 990}, {\"threshold\": 0.532, \"p\": 3226, \"fpr\": 0.38181818181818183, \"tpr\": 0.8918164910105394, \"n\": 990}, {\"threshold\": 0.533, \"p\": 3226, \"fpr\": 0.38181818181818183, \"tpr\": 0.8915065096094235, \"n\": 990}, {\"threshold\": 0.534, \"p\": 3226, \"fpr\": 0.38181818181818183, \"tpr\": 0.8915065096094235, \"n\": 990}, {\"threshold\": 0.535, \"p\": 3226, \"fpr\": 0.38181818181818183, \"tpr\": 0.8911965282083075, \"n\": 990}, {\"threshold\": 0.536, \"p\": 3226, \"fpr\": 0.38181818181818183, \"tpr\": 0.8911965282083075, \"n\": 990}, {\"threshold\": 0.537, \"p\": 3226, \"fpr\": 0.38181818181818183, \"tpr\": 0.8911965282083075, \"n\": 990}, {\"threshold\": 0.538, \"p\": 3226, \"fpr\": 0.38181818181818183, \"tpr\": 0.8911965282083075, \"n\": 990}, {\"threshold\": 0.539, \"p\": 3226, \"fpr\": 0.38181818181818183, \"tpr\": 0.8911965282083075, \"n\": 990}, {\"threshold\": 0.54, \"p\": 3226, \"fpr\": 0.38181818181818183, \"tpr\": 0.8911965282083075, \"n\": 990}, {\"threshold\": 0.541, \"p\": 3226, \"fpr\": 0.38181818181818183, \"tpr\": 0.8911965282083075, \"n\": 990}, {\"threshold\": 0.542, \"p\": 3226, \"fpr\": 0.38181818181818183, \"tpr\": 0.8911965282083075, \"n\": 990}, {\"threshold\": 0.543, \"p\": 3226, \"fpr\": 0.38181818181818183, \"tpr\": 0.8911965282083075, \"n\": 990}, {\"threshold\": 0.544, \"p\": 3226, \"fpr\": 0.3808080808080808, \"tpr\": 0.8911965282083075, \"n\": 990}, {\"threshold\": 0.545, \"p\": 3226, \"fpr\": 0.3797979797979798, \"tpr\": 0.8908865468071916, \"n\": 990}, {\"threshold\": 0.546, \"p\": 3226, \"fpr\": 0.3797979797979798, \"tpr\": 0.8902665840049597, \"n\": 990}, {\"threshold\": 0.547, \"p\": 3226, \"fpr\": 0.3797979797979798, \"tpr\": 0.8902665840049597, \"n\": 990}, {\"threshold\": 0.548, \"p\": 3226, \"fpr\": 0.3787878787878788, \"tpr\": 0.8902665840049597, \"n\": 990}, {\"threshold\": 0.549, \"p\": 3226, \"fpr\": 0.3787878787878788, \"tpr\": 0.8896466212027279, \"n\": 990}, {\"threshold\": 0.55, \"p\": 3226, \"fpr\": 0.3787878787878788, \"tpr\": 0.8896466212027279, \"n\": 990}, {\"threshold\": 0.551, \"p\": 3226, \"fpr\": 0.37777777777777777, \"tpr\": 0.8893366398016119, \"n\": 990}, {\"threshold\": 0.552, \"p\": 3226, \"fpr\": 0.37777777777777777, \"tpr\": 0.8893366398016119, \"n\": 990}, {\"threshold\": 0.553, \"p\": 3226, \"fpr\": 0.37777777777777777, \"tpr\": 0.8893366398016119, \"n\": 990}, {\"threshold\": 0.554, \"p\": 3226, \"fpr\": 0.37777777777777777, \"tpr\": 0.8893366398016119, \"n\": 990}, {\"threshold\": 0.555, \"p\": 3226, \"fpr\": 0.37777777777777777, \"tpr\": 0.8893366398016119, \"n\": 990}, {\"threshold\": 0.556, \"p\": 3226, \"fpr\": 0.37777777777777777, \"tpr\": 0.8893366398016119, \"n\": 990}, {\"threshold\": 0.557, \"p\": 3226, \"fpr\": 0.37777777777777777, \"tpr\": 0.889026658400496, \"n\": 990}, {\"threshold\": 0.558, \"p\": 3226, \"fpr\": 0.37777777777777777, \"tpr\": 0.8880967141971482, \"n\": 990}, {\"threshold\": 0.559, \"p\": 3226, \"fpr\": 0.37777777777777777, \"tpr\": 0.8880967141971482, \"n\": 990}, {\"threshold\": 0.56, \"p\": 3226, \"fpr\": 0.37777777777777777, \"tpr\": 0.8880967141971482, \"n\": 990}, {\"threshold\": 0.561, \"p\": 3226, \"fpr\": 0.37777777777777777, \"tpr\": 0.8880967141971482, \"n\": 990}, {\"threshold\": 0.562, \"p\": 3226, \"fpr\": 0.37777777777777777, \"tpr\": 0.8880967141971482, \"n\": 990}, {\"threshold\": 0.563, \"p\": 3226, \"fpr\": 0.37777777777777777, \"tpr\": 0.8880967141971482, \"n\": 990}, {\"threshold\": 0.564, \"p\": 3226, \"fpr\": 0.37777777777777777, \"tpr\": 0.8880967141971482, \"n\": 990}, {\"threshold\": 0.565, \"p\": 3226, \"fpr\": 0.37777777777777777, \"tpr\": 0.8880967141971482, \"n\": 990}, {\"threshold\": 0.566, \"p\": 3226, \"fpr\": 0.37676767676767675, \"tpr\": 0.8877867327960323, \"n\": 990}, {\"threshold\": 0.567, \"p\": 3226, \"fpr\": 0.37575757575757573, \"tpr\": 0.8871667699938004, \"n\": 990}, {\"threshold\": 0.568, \"p\": 3226, \"fpr\": 0.37575757575757573, \"tpr\": 0.8868567885926845, \"n\": 990}, {\"threshold\": 0.569, \"p\": 3226, \"fpr\": 0.3747474747474748, \"tpr\": 0.8865468071915685, \"n\": 990}, {\"threshold\": 0.57, \"p\": 3226, \"fpr\": 0.3747474747474748, \"tpr\": 0.8865468071915685, \"n\": 990}, {\"threshold\": 0.571, \"p\": 3226, \"fpr\": 0.3747474747474748, \"tpr\": 0.8865468071915685, \"n\": 990}, {\"threshold\": 0.572, \"p\": 3226, \"fpr\": 0.3747474747474748, \"tpr\": 0.8865468071915685, \"n\": 990}, {\"threshold\": 0.573, \"p\": 3226, \"fpr\": 0.3747474747474748, \"tpr\": 0.8865468071915685, \"n\": 990}, {\"threshold\": 0.574, \"p\": 3226, \"fpr\": 0.3747474747474748, \"tpr\": 0.8865468071915685, \"n\": 990}, {\"threshold\": 0.575, \"p\": 3226, \"fpr\": 0.3747474747474748, \"tpr\": 0.8865468071915685, \"n\": 990}, {\"threshold\": 0.576, \"p\": 3226, \"fpr\": 0.3747474747474748, \"tpr\": 0.8862368257904526, \"n\": 990}, {\"threshold\": 0.577, \"p\": 3226, \"fpr\": 0.37373737373737376, \"tpr\": 0.8862368257904526, \"n\": 990}, {\"threshold\": 0.578, \"p\": 3226, \"fpr\": 0.37373737373737376, \"tpr\": 0.8862368257904526, \"n\": 990}, {\"threshold\": 0.579, \"p\": 3226, \"fpr\": 0.37373737373737376, \"tpr\": 0.8859268443893367, \"n\": 990}, {\"threshold\": 0.58, \"p\": 3226, \"fpr\": 0.37373737373737376, \"tpr\": 0.8853068815871048, \"n\": 990}, {\"threshold\": 0.581, \"p\": 3226, \"fpr\": 0.37373737373737376, \"tpr\": 0.8853068815871048, \"n\": 990}, {\"threshold\": 0.582, \"p\": 3226, \"fpr\": 0.3717171717171717, \"tpr\": 0.8837569745815251, \"n\": 990}, {\"threshold\": 0.583, \"p\": 3226, \"fpr\": 0.3717171717171717, \"tpr\": 0.8834469931804092, \"n\": 990}, {\"threshold\": 0.584, \"p\": 3226, \"fpr\": 0.3717171717171717, \"tpr\": 0.8834469931804092, \"n\": 990}, {\"threshold\": 0.585, \"p\": 3226, \"fpr\": 0.3717171717171717, \"tpr\": 0.8834469931804092, \"n\": 990}, {\"threshold\": 0.586, \"p\": 3226, \"fpr\": 0.3717171717171717, \"tpr\": 0.8834469931804092, \"n\": 990}, {\"threshold\": 0.587, \"p\": 3226, \"fpr\": 0.3717171717171717, \"tpr\": 0.8834469931804092, \"n\": 990}, {\"threshold\": 0.588, \"p\": 3226, \"fpr\": 0.3717171717171717, \"tpr\": 0.8831370117792933, \"n\": 990}, {\"threshold\": 0.589, \"p\": 3226, \"fpr\": 0.3717171717171717, \"tpr\": 0.8831370117792933, \"n\": 990}, {\"threshold\": 0.59, \"p\": 3226, \"fpr\": 0.3717171717171717, \"tpr\": 0.8831370117792933, \"n\": 990}, {\"threshold\": 0.591, \"p\": 3226, \"fpr\": 0.3717171717171717, \"tpr\": 0.8831370117792933, \"n\": 990}, {\"threshold\": 0.592, \"p\": 3226, \"fpr\": 0.3717171717171717, \"tpr\": 0.8831370117792933, \"n\": 990}, {\"threshold\": 0.593, \"p\": 3226, \"fpr\": 0.3717171717171717, \"tpr\": 0.8831370117792933, \"n\": 990}, {\"threshold\": 0.594, \"p\": 3226, \"fpr\": 0.3717171717171717, \"tpr\": 0.8831370117792933, \"n\": 990}, {\"threshold\": 0.595, \"p\": 3226, \"fpr\": 0.3717171717171717, \"tpr\": 0.8831370117792933, \"n\": 990}, {\"threshold\": 0.596, \"p\": 3226, \"fpr\": 0.3717171717171717, \"tpr\": 0.8831370117792933, \"n\": 990}, {\"threshold\": 0.597, \"p\": 3226, \"fpr\": 0.3717171717171717, \"tpr\": 0.8831370117792933, \"n\": 990}, {\"threshold\": 0.598, \"p\": 3226, \"fpr\": 0.3717171717171717, \"tpr\": 0.8831370117792933, \"n\": 990}, {\"threshold\": 0.599, \"p\": 3226, \"fpr\": 0.3717171717171717, \"tpr\": 0.8831370117792933, \"n\": 990}, {\"threshold\": 0.6, \"p\": 3226, \"fpr\": 0.3717171717171717, \"tpr\": 0.8831370117792933, \"n\": 990}, {\"threshold\": 0.601, \"p\": 3226, \"fpr\": 0.3717171717171717, \"tpr\": 0.8828270303781773, \"n\": 990}, {\"threshold\": 0.602, \"p\": 3226, \"fpr\": 0.3717171717171717, \"tpr\": 0.8828270303781773, \"n\": 990}, {\"threshold\": 0.603, \"p\": 3226, \"fpr\": 0.3717171717171717, \"tpr\": 0.8828270303781773, \"n\": 990}, {\"threshold\": 0.604, \"p\": 3226, \"fpr\": 0.3717171717171717, \"tpr\": 0.8822070675759455, \"n\": 990}, {\"threshold\": 0.605, \"p\": 3226, \"fpr\": 0.3717171717171717, \"tpr\": 0.8822070675759455, \"n\": 990}, {\"threshold\": 0.606, \"p\": 3226, \"fpr\": 0.3717171717171717, \"tpr\": 0.8822070675759455, \"n\": 990}, {\"threshold\": 0.607, \"p\": 3226, \"fpr\": 0.3717171717171717, \"tpr\": 0.8822070675759455, \"n\": 990}, {\"threshold\": 0.608, \"p\": 3226, \"fpr\": 0.3717171717171717, \"tpr\": 0.8818970861748295, \"n\": 990}, {\"threshold\": 0.609, \"p\": 3226, \"fpr\": 0.3717171717171717, \"tpr\": 0.8818970861748295, \"n\": 990}, {\"threshold\": 0.61, \"p\": 3226, \"fpr\": 0.3707070707070707, \"tpr\": 0.8818970861748295, \"n\": 990}, {\"threshold\": 0.611, \"p\": 3226, \"fpr\": 0.3707070707070707, \"tpr\": 0.8815871047737136, \"n\": 990}, {\"threshold\": 0.612, \"p\": 3226, \"fpr\": 0.3707070707070707, \"tpr\": 0.8815871047737136, \"n\": 990}, {\"threshold\": 0.613, \"p\": 3226, \"fpr\": 0.3707070707070707, \"tpr\": 0.8815871047737136, \"n\": 990}, {\"threshold\": 0.614, \"p\": 3226, \"fpr\": 0.3707070707070707, \"tpr\": 0.8815871047737136, \"n\": 990}, {\"threshold\": 0.615, \"p\": 3226, \"fpr\": 0.3707070707070707, \"tpr\": 0.8812771233725977, \"n\": 990}, {\"threshold\": 0.616, \"p\": 3226, \"fpr\": 0.3707070707070707, \"tpr\": 0.8812771233725977, \"n\": 990}, {\"threshold\": 0.617, \"p\": 3226, \"fpr\": 0.3707070707070707, \"tpr\": 0.8809671419714817, \"n\": 990}, {\"threshold\": 0.618, \"p\": 3226, \"fpr\": 0.3707070707070707, \"tpr\": 0.8809671419714817, \"n\": 990}, {\"threshold\": 0.619, \"p\": 3226, \"fpr\": 0.3707070707070707, \"tpr\": 0.8809671419714817, \"n\": 990}, {\"threshold\": 0.62, \"p\": 3226, \"fpr\": 0.3707070707070707, \"tpr\": 0.8809671419714817, \"n\": 990}, {\"threshold\": 0.621, \"p\": 3226, \"fpr\": 0.3707070707070707, \"tpr\": 0.8806571605703658, \"n\": 990}, {\"threshold\": 0.622, \"p\": 3226, \"fpr\": 0.3707070707070707, \"tpr\": 0.8803471791692499, \"n\": 990}, {\"threshold\": 0.623, \"p\": 3226, \"fpr\": 0.3707070707070707, \"tpr\": 0.8803471791692499, \"n\": 990}, {\"threshold\": 0.624, \"p\": 3226, \"fpr\": 0.3696969696969697, \"tpr\": 0.8803471791692499, \"n\": 990}, {\"threshold\": 0.625, \"p\": 3226, \"fpr\": 0.3696969696969697, \"tpr\": 0.8800371977681339, \"n\": 990}, {\"threshold\": 0.626, \"p\": 3226, \"fpr\": 0.3696969696969697, \"tpr\": 0.879727216367018, \"n\": 990}, {\"threshold\": 0.627, \"p\": 3226, \"fpr\": 0.3696969696969697, \"tpr\": 0.879727216367018, \"n\": 990}, {\"threshold\": 0.628, \"p\": 3226, \"fpr\": 0.3696969696969697, \"tpr\": 0.879727216367018, \"n\": 990}, {\"threshold\": 0.629, \"p\": 3226, \"fpr\": 0.3696969696969697, \"tpr\": 0.8794172349659021, \"n\": 990}, {\"threshold\": 0.63, \"p\": 3226, \"fpr\": 0.3686868686868687, \"tpr\": 0.8794172349659021, \"n\": 990}, {\"threshold\": 0.631, \"p\": 3226, \"fpr\": 0.3686868686868687, \"tpr\": 0.8794172349659021, \"n\": 990}, {\"threshold\": 0.632, \"p\": 3226, \"fpr\": 0.3686868686868687, \"tpr\": 0.8794172349659021, \"n\": 990}, {\"threshold\": 0.633, \"p\": 3226, \"fpr\": 0.3686868686868687, \"tpr\": 0.8794172349659021, \"n\": 990}, {\"threshold\": 0.634, \"p\": 3226, \"fpr\": 0.3686868686868687, \"tpr\": 0.8794172349659021, \"n\": 990}, {\"threshold\": 0.635, \"p\": 3226, \"fpr\": 0.3686868686868687, \"tpr\": 0.8791072535647861, \"n\": 990}, {\"threshold\": 0.636, \"p\": 3226, \"fpr\": 0.3686868686868687, \"tpr\": 0.8787972721636702, \"n\": 990}, {\"threshold\": 0.637, \"p\": 3226, \"fpr\": 0.3686868686868687, \"tpr\": 0.8784872907625543, \"n\": 990}, {\"threshold\": 0.638, \"p\": 3226, \"fpr\": 0.3686868686868687, \"tpr\": 0.8784872907625543, \"n\": 990}, {\"threshold\": 0.639, \"p\": 3226, \"fpr\": 0.3686868686868687, \"tpr\": 0.8784872907625543, \"n\": 990}, {\"threshold\": 0.64, \"p\": 3226, \"fpr\": 0.3686868686868687, \"tpr\": 0.8784872907625543, \"n\": 990}, {\"threshold\": 0.641, \"p\": 3226, \"fpr\": 0.3686868686868687, \"tpr\": 0.8781773093614383, \"n\": 990}, {\"threshold\": 0.642, \"p\": 3226, \"fpr\": 0.3686868686868687, \"tpr\": 0.8781773093614383, \"n\": 990}, {\"threshold\": 0.643, \"p\": 3226, \"fpr\": 0.3686868686868687, \"tpr\": 0.8778673279603224, \"n\": 990}, {\"threshold\": 0.644, \"p\": 3226, \"fpr\": 0.3686868686868687, \"tpr\": 0.8778673279603224, \"n\": 990}, {\"threshold\": 0.645, \"p\": 3226, \"fpr\": 0.3686868686868687, \"tpr\": 0.8775573465592065, \"n\": 990}, {\"threshold\": 0.646, \"p\": 3226, \"fpr\": 0.3686868686868687, \"tpr\": 0.8775573465592065, \"n\": 990}, {\"threshold\": 0.647, \"p\": 3226, \"fpr\": 0.36666666666666664, \"tpr\": 0.8775573465592065, \"n\": 990}, {\"threshold\": 0.648, \"p\": 3226, \"fpr\": 0.3656565656565657, \"tpr\": 0.8775573465592065, \"n\": 990}, {\"threshold\": 0.649, \"p\": 3226, \"fpr\": 0.3656565656565657, \"tpr\": 0.8769373837569746, \"n\": 990}, {\"threshold\": 0.65, \"p\": 3226, \"fpr\": 0.3656565656565657, \"tpr\": 0.8766274023558587, \"n\": 990}, {\"threshold\": 0.651, \"p\": 3226, \"fpr\": 0.3656565656565657, \"tpr\": 0.8760074395536268, \"n\": 990}, {\"threshold\": 0.652, \"p\": 3226, \"fpr\": 0.3656565656565657, \"tpr\": 0.8756974581525109, \"n\": 990}, {\"threshold\": 0.653, \"p\": 3226, \"fpr\": 0.3656565656565657, \"tpr\": 0.8753874767513949, \"n\": 990}, {\"threshold\": 0.654, \"p\": 3226, \"fpr\": 0.36363636363636365, \"tpr\": 0.875077495350279, \"n\": 990}, {\"threshold\": 0.655, \"p\": 3226, \"fpr\": 0.36363636363636365, \"tpr\": 0.875077495350279, \"n\": 990}, {\"threshold\": 0.656, \"p\": 3226, \"fpr\": 0.36363636363636365, \"tpr\": 0.875077495350279, \"n\": 990}, {\"threshold\": 0.657, \"p\": 3226, \"fpr\": 0.36262626262626263, \"tpr\": 0.875077495350279, \"n\": 990}, {\"threshold\": 0.658, \"p\": 3226, \"fpr\": 0.36262626262626263, \"tpr\": 0.8738375697458153, \"n\": 990}, {\"threshold\": 0.659, \"p\": 3226, \"fpr\": 0.36262626262626263, \"tpr\": 0.8738375697458153, \"n\": 990}, {\"threshold\": 0.66, \"p\": 3226, \"fpr\": 0.3616161616161616, \"tpr\": 0.8738375697458153, \"n\": 990}, {\"threshold\": 0.661, \"p\": 3226, \"fpr\": 0.3616161616161616, \"tpr\": 0.8732176069435834, \"n\": 990}, {\"threshold\": 0.662, \"p\": 3226, \"fpr\": 0.3616161616161616, \"tpr\": 0.8729076255424675, \"n\": 990}, {\"threshold\": 0.663, \"p\": 3226, \"fpr\": 0.3616161616161616, \"tpr\": 0.8725976441413515, \"n\": 990}, {\"threshold\": 0.664, \"p\": 3226, \"fpr\": 0.3616161616161616, \"tpr\": 0.8725976441413515, \"n\": 990}, {\"threshold\": 0.665, \"p\": 3226, \"fpr\": 0.3616161616161616, \"tpr\": 0.8725976441413515, \"n\": 990}, {\"threshold\": 0.666, \"p\": 3226, \"fpr\": 0.3616161616161616, \"tpr\": 0.8725976441413515, \"n\": 990}, {\"threshold\": 0.667, \"p\": 3226, \"fpr\": 0.3616161616161616, \"tpr\": 0.8725976441413515, \"n\": 990}, {\"threshold\": 0.668, \"p\": 3226, \"fpr\": 0.3616161616161616, \"tpr\": 0.8725976441413515, \"n\": 990}, {\"threshold\": 0.669, \"p\": 3226, \"fpr\": 0.3616161616161616, \"tpr\": 0.8725976441413515, \"n\": 990}, {\"threshold\": 0.67, \"p\": 3226, \"fpr\": 0.3616161616161616, \"tpr\": 0.8725976441413515, \"n\": 990}, {\"threshold\": 0.671, \"p\": 3226, \"fpr\": 0.3606060606060606, \"tpr\": 0.8725976441413515, \"n\": 990}, {\"threshold\": 0.672, \"p\": 3226, \"fpr\": 0.3606060606060606, \"tpr\": 0.8725976441413515, \"n\": 990}, {\"threshold\": 0.673, \"p\": 3226, \"fpr\": 0.3606060606060606, \"tpr\": 0.8725976441413515, \"n\": 990}, {\"threshold\": 0.674, \"p\": 3226, \"fpr\": 0.3606060606060606, \"tpr\": 0.8725976441413515, \"n\": 990}, {\"threshold\": 0.675, \"p\": 3226, \"fpr\": 0.3606060606060606, \"tpr\": 0.8722876627402356, \"n\": 990}, {\"threshold\": 0.676, \"p\": 3226, \"fpr\": 0.3606060606060606, \"tpr\": 0.8722876627402356, \"n\": 990}, {\"threshold\": 0.677, \"p\": 3226, \"fpr\": 0.3606060606060606, \"tpr\": 0.8722876627402356, \"n\": 990}, {\"threshold\": 0.678, \"p\": 3226, \"fpr\": 0.3606060606060606, \"tpr\": 0.8719776813391197, \"n\": 990}, {\"threshold\": 0.679, \"p\": 3226, \"fpr\": 0.3595959595959596, \"tpr\": 0.8719776813391197, \"n\": 990}, {\"threshold\": 0.68, \"p\": 3226, \"fpr\": 0.3595959595959596, \"tpr\": 0.8719776813391197, \"n\": 990}, {\"threshold\": 0.681, \"p\": 3226, \"fpr\": 0.3595959595959596, \"tpr\": 0.8713577185368878, \"n\": 990}, {\"threshold\": 0.682, \"p\": 3226, \"fpr\": 0.3595959595959596, \"tpr\": 0.8713577185368878, \"n\": 990}, {\"threshold\": 0.683, \"p\": 3226, \"fpr\": 0.35858585858585856, \"tpr\": 0.8713577185368878, \"n\": 990}, {\"threshold\": 0.684, \"p\": 3226, \"fpr\": 0.35858585858585856, \"tpr\": 0.8713577185368878, \"n\": 990}, {\"threshold\": 0.685, \"p\": 3226, \"fpr\": 0.35858585858585856, \"tpr\": 0.8713577185368878, \"n\": 990}, {\"threshold\": 0.686, \"p\": 3226, \"fpr\": 0.35858585858585856, \"tpr\": 0.8710477371357719, \"n\": 990}, {\"threshold\": 0.687, \"p\": 3226, \"fpr\": 0.35858585858585856, \"tpr\": 0.8710477371357719, \"n\": 990}, {\"threshold\": 0.688, \"p\": 3226, \"fpr\": 0.35858585858585856, \"tpr\": 0.8710477371357719, \"n\": 990}, {\"threshold\": 0.689, \"p\": 3226, \"fpr\": 0.35858585858585856, \"tpr\": 0.8710477371357719, \"n\": 990}, {\"threshold\": 0.69, \"p\": 3226, \"fpr\": 0.3575757575757576, \"tpr\": 0.8710477371357719, \"n\": 990}, {\"threshold\": 0.691, \"p\": 3226, \"fpr\": 0.3575757575757576, \"tpr\": 0.8710477371357719, \"n\": 990}, {\"threshold\": 0.692, \"p\": 3226, \"fpr\": 0.3575757575757576, \"tpr\": 0.87042777433354, \"n\": 990}, {\"threshold\": 0.693, \"p\": 3226, \"fpr\": 0.3575757575757576, \"tpr\": 0.87042777433354, \"n\": 990}, {\"threshold\": 0.694, \"p\": 3226, \"fpr\": 0.3575757575757576, \"tpr\": 0.8698078115313082, \"n\": 990}, {\"threshold\": 0.695, \"p\": 3226, \"fpr\": 0.3575757575757576, \"tpr\": 0.8694978301301922, \"n\": 990}, {\"threshold\": 0.696, \"p\": 3226, \"fpr\": 0.3575757575757576, \"tpr\": 0.8694978301301922, \"n\": 990}, {\"threshold\": 0.697, \"p\": 3226, \"fpr\": 0.3575757575757576, \"tpr\": 0.8694978301301922, \"n\": 990}, {\"threshold\": 0.698, \"p\": 3226, \"fpr\": 0.3575757575757576, \"tpr\": 0.8688778673279604, \"n\": 990}, {\"threshold\": 0.699, \"p\": 3226, \"fpr\": 0.3575757575757576, \"tpr\": 0.8685678859268444, \"n\": 990}, {\"threshold\": 0.7, \"p\": 3226, \"fpr\": 0.3575757575757576, \"tpr\": 0.8676379417234966, \"n\": 990}, {\"threshold\": 0.701, \"p\": 3226, \"fpr\": 0.35353535353535354, \"tpr\": 0.8673279603223807, \"n\": 990}, {\"threshold\": 0.702, \"p\": 3226, \"fpr\": 0.3525252525252525, \"tpr\": 0.8670179789212648, \"n\": 990}, {\"threshold\": 0.703, \"p\": 3226, \"fpr\": 0.3525252525252525, \"tpr\": 0.8670179789212648, \"n\": 990}, {\"threshold\": 0.704, \"p\": 3226, \"fpr\": 0.3525252525252525, \"tpr\": 0.8670179789212648, \"n\": 990}, {\"threshold\": 0.705, \"p\": 3226, \"fpr\": 0.3515151515151515, \"tpr\": 0.8670179789212648, \"n\": 990}, {\"threshold\": 0.706, \"p\": 3226, \"fpr\": 0.3515151515151515, \"tpr\": 0.8670179789212648, \"n\": 990}, {\"threshold\": 0.707, \"p\": 3226, \"fpr\": 0.3515151515151515, \"tpr\": 0.8670179789212648, \"n\": 990}, {\"threshold\": 0.708, \"p\": 3226, \"fpr\": 0.3515151515151515, \"tpr\": 0.8670179789212648, \"n\": 990}, {\"threshold\": 0.709, \"p\": 3226, \"fpr\": 0.3505050505050505, \"tpr\": 0.8670179789212648, \"n\": 990}, {\"threshold\": 0.71, \"p\": 3226, \"fpr\": 0.3505050505050505, \"tpr\": 0.8670179789212648, \"n\": 990}, {\"threshold\": 0.711, \"p\": 3226, \"fpr\": 0.34949494949494947, \"tpr\": 0.8667079975201488, \"n\": 990}, {\"threshold\": 0.712, \"p\": 3226, \"fpr\": 0.3484848484848485, \"tpr\": 0.8663980161190329, \"n\": 990}, {\"threshold\": 0.713, \"p\": 3226, \"fpr\": 0.3484848484848485, \"tpr\": 0.866088034717917, \"n\": 990}, {\"threshold\": 0.714, \"p\": 3226, \"fpr\": 0.3484848484848485, \"tpr\": 0.866088034717917, \"n\": 990}, {\"threshold\": 0.715, \"p\": 3226, \"fpr\": 0.3484848484848485, \"tpr\": 0.865778053316801, \"n\": 990}, {\"threshold\": 0.716, \"p\": 3226, \"fpr\": 0.3484848484848485, \"tpr\": 0.8651580905145692, \"n\": 990}, {\"threshold\": 0.717, \"p\": 3226, \"fpr\": 0.3484848484848485, \"tpr\": 0.8648481091134532, \"n\": 990}, {\"threshold\": 0.718, \"p\": 3226, \"fpr\": 0.3484848484848485, \"tpr\": 0.8648481091134532, \"n\": 990}, {\"threshold\": 0.719, \"p\": 3226, \"fpr\": 0.3484848484848485, \"tpr\": 0.8648481091134532, \"n\": 990}, {\"threshold\": 0.72, \"p\": 3226, \"fpr\": 0.3474747474747475, \"tpr\": 0.8648481091134532, \"n\": 990}, {\"threshold\": 0.721, \"p\": 3226, \"fpr\": 0.3474747474747475, \"tpr\": 0.8648481091134532, \"n\": 990}, {\"threshold\": 0.722, \"p\": 3226, \"fpr\": 0.3474747474747475, \"tpr\": 0.8645381277123373, \"n\": 990}, {\"threshold\": 0.723, \"p\": 3226, \"fpr\": 0.3474747474747475, \"tpr\": 0.8645381277123373, \"n\": 990}, {\"threshold\": 0.724, \"p\": 3226, \"fpr\": 0.3474747474747475, \"tpr\": 0.8642281463112214, \"n\": 990}, {\"threshold\": 0.725, \"p\": 3226, \"fpr\": 0.3474747474747475, \"tpr\": 0.8642281463112214, \"n\": 990}, {\"threshold\": 0.726, \"p\": 3226, \"fpr\": 0.3474747474747475, \"tpr\": 0.8626782393056417, \"n\": 990}, {\"threshold\": 0.727, \"p\": 3226, \"fpr\": 0.3464646464646465, \"tpr\": 0.8623682579045258, \"n\": 990}, {\"threshold\": 0.728, \"p\": 3226, \"fpr\": 0.3464646464646465, \"tpr\": 0.8620582765034098, \"n\": 990}, {\"threshold\": 0.729, \"p\": 3226, \"fpr\": 0.3464646464646465, \"tpr\": 0.8620582765034098, \"n\": 990}, {\"threshold\": 0.73, \"p\": 3226, \"fpr\": 0.34545454545454546, \"tpr\": 0.8620582765034098, \"n\": 990}, {\"threshold\": 0.731, \"p\": 3226, \"fpr\": 0.34545454545454546, \"tpr\": 0.8620582765034098, \"n\": 990}, {\"threshold\": 0.732, \"p\": 3226, \"fpr\": 0.34444444444444444, \"tpr\": 0.861438313701178, \"n\": 990}, {\"threshold\": 0.733, \"p\": 3226, \"fpr\": 0.34444444444444444, \"tpr\": 0.861128332300062, \"n\": 990}, {\"threshold\": 0.734, \"p\": 3226, \"fpr\": 0.34444444444444444, \"tpr\": 0.861128332300062, \"n\": 990}, {\"threshold\": 0.735, \"p\": 3226, \"fpr\": 0.34444444444444444, \"tpr\": 0.861128332300062, \"n\": 990}, {\"threshold\": 0.736, \"p\": 3226, \"fpr\": 0.34444444444444444, \"tpr\": 0.861128332300062, \"n\": 990}, {\"threshold\": 0.737, \"p\": 3226, \"fpr\": 0.34444444444444444, \"tpr\": 0.8608183508989461, \"n\": 990}, {\"threshold\": 0.738, \"p\": 3226, \"fpr\": 0.34444444444444444, \"tpr\": 0.8605083694978302, \"n\": 990}, {\"threshold\": 0.739, \"p\": 3226, \"fpr\": 0.34444444444444444, \"tpr\": 0.8605083694978302, \"n\": 990}, {\"threshold\": 0.74, \"p\": 3226, \"fpr\": 0.34444444444444444, \"tpr\": 0.8605083694978302, \"n\": 990}, {\"threshold\": 0.741, \"p\": 3226, \"fpr\": 0.34444444444444444, \"tpr\": 0.8601983880967142, \"n\": 990}, {\"threshold\": 0.742, \"p\": 3226, \"fpr\": 0.34444444444444444, \"tpr\": 0.8598884066955983, \"n\": 990}, {\"threshold\": 0.743, \"p\": 3226, \"fpr\": 0.34444444444444444, \"tpr\": 0.8598884066955983, \"n\": 990}, {\"threshold\": 0.744, \"p\": 3226, \"fpr\": 0.34444444444444444, \"tpr\": 0.8598884066955983, \"n\": 990}, {\"threshold\": 0.745, \"p\": 3226, \"fpr\": 0.34444444444444444, \"tpr\": 0.8598884066955983, \"n\": 990}, {\"threshold\": 0.746, \"p\": 3226, \"fpr\": 0.34444444444444444, \"tpr\": 0.8598884066955983, \"n\": 990}, {\"threshold\": 0.747, \"p\": 3226, \"fpr\": 0.34444444444444444, \"tpr\": 0.8598884066955983, \"n\": 990}, {\"threshold\": 0.748, \"p\": 3226, \"fpr\": 0.34444444444444444, \"tpr\": 0.8595784252944824, \"n\": 990}, {\"threshold\": 0.749, \"p\": 3226, \"fpr\": 0.34444444444444444, \"tpr\": 0.8595784252944824, \"n\": 990}, {\"threshold\": 0.75, \"p\": 3226, \"fpr\": 0.34444444444444444, \"tpr\": 0.8595784252944824, \"n\": 990}, {\"threshold\": 0.751, \"p\": 3226, \"fpr\": 0.34444444444444444, \"tpr\": 0.8595784252944824, \"n\": 990}, {\"threshold\": 0.752, \"p\": 3226, \"fpr\": 0.34444444444444444, \"tpr\": 0.8595784252944824, \"n\": 990}, {\"threshold\": 0.753, \"p\": 3226, \"fpr\": 0.3434343434343434, \"tpr\": 0.8595784252944824, \"n\": 990}, {\"threshold\": 0.754, \"p\": 3226, \"fpr\": 0.3434343434343434, \"tpr\": 0.8595784252944824, \"n\": 990}, {\"threshold\": 0.755, \"p\": 3226, \"fpr\": 0.3434343434343434, \"tpr\": 0.8592684438933664, \"n\": 990}, {\"threshold\": 0.756, \"p\": 3226, \"fpr\": 0.3434343434343434, \"tpr\": 0.8592684438933664, \"n\": 990}, {\"threshold\": 0.757, \"p\": 3226, \"fpr\": 0.3383838383838384, \"tpr\": 0.8583384996900186, \"n\": 990}, {\"threshold\": 0.758, \"p\": 3226, \"fpr\": 0.3373737373737374, \"tpr\": 0.8577185368877868, \"n\": 990}, {\"threshold\": 0.759, \"p\": 3226, \"fpr\": 0.33636363636363636, \"tpr\": 0.8577185368877868, \"n\": 990}, {\"threshold\": 0.76, \"p\": 3226, \"fpr\": 0.33636363636363636, \"tpr\": 0.8574085554866708, \"n\": 990}, {\"threshold\": 0.761, \"p\": 3226, \"fpr\": 0.33636363636363636, \"tpr\": 0.8574085554866708, \"n\": 990}, {\"threshold\": 0.762, \"p\": 3226, \"fpr\": 0.33636363636363636, \"tpr\": 0.8574085554866708, \"n\": 990}, {\"threshold\": 0.763, \"p\": 3226, \"fpr\": 0.33636363636363636, \"tpr\": 0.8570985740855549, \"n\": 990}, {\"threshold\": 0.764, \"p\": 3226, \"fpr\": 0.33636363636363636, \"tpr\": 0.8570985740855549, \"n\": 990}, {\"threshold\": 0.765, \"p\": 3226, \"fpr\": 0.33535353535353535, \"tpr\": 0.856788592684439, \"n\": 990}, {\"threshold\": 0.766, \"p\": 3226, \"fpr\": 0.33535353535353535, \"tpr\": 0.8561686298822071, \"n\": 990}, {\"threshold\": 0.767, \"p\": 3226, \"fpr\": 0.33535353535353535, \"tpr\": 0.8561686298822071, \"n\": 990}, {\"threshold\": 0.768, \"p\": 3226, \"fpr\": 0.33535353535353535, \"tpr\": 0.8561686298822071, \"n\": 990}, {\"threshold\": 0.769, \"p\": 3226, \"fpr\": 0.3323232323232323, \"tpr\": 0.8561686298822071, \"n\": 990}, {\"threshold\": 0.77, \"p\": 3226, \"fpr\": 0.3323232323232323, \"tpr\": 0.8561686298822071, \"n\": 990}, {\"threshold\": 0.771, \"p\": 3226, \"fpr\": 0.3323232323232323, \"tpr\": 0.8558586484810912, \"n\": 990}, {\"threshold\": 0.772, \"p\": 3226, \"fpr\": 0.3323232323232323, \"tpr\": 0.8558586484810912, \"n\": 990}, {\"threshold\": 0.773, \"p\": 3226, \"fpr\": 0.3323232323232323, \"tpr\": 0.8549287042777434, \"n\": 990}, {\"threshold\": 0.774, \"p\": 3226, \"fpr\": 0.3323232323232323, \"tpr\": 0.8546187228766274, \"n\": 990}, {\"threshold\": 0.775, \"p\": 3226, \"fpr\": 0.3323232323232323, \"tpr\": 0.8539987600743956, \"n\": 990}, {\"threshold\": 0.776, \"p\": 3226, \"fpr\": 0.33131313131313134, \"tpr\": 0.8539987600743956, \"n\": 990}, {\"threshold\": 0.777, \"p\": 3226, \"fpr\": 0.33131313131313134, \"tpr\": 0.8539987600743956, \"n\": 990}, {\"threshold\": 0.778, \"p\": 3226, \"fpr\": 0.33131313131313134, \"tpr\": 0.8536887786732796, \"n\": 990}, {\"threshold\": 0.779, \"p\": 3226, \"fpr\": 0.33131313131313134, \"tpr\": 0.8536887786732796, \"n\": 990}, {\"threshold\": 0.78, \"p\": 3226, \"fpr\": 0.33131313131313134, \"tpr\": 0.8533787972721637, \"n\": 990}, {\"threshold\": 0.781, \"p\": 3226, \"fpr\": 0.3303030303030303, \"tpr\": 0.8533787972721637, \"n\": 990}, {\"threshold\": 0.782, \"p\": 3226, \"fpr\": 0.3303030303030303, \"tpr\": 0.8530688158710478, \"n\": 990}, {\"threshold\": 0.783, \"p\": 3226, \"fpr\": 0.3303030303030303, \"tpr\": 0.8527588344699318, \"n\": 990}, {\"threshold\": 0.784, \"p\": 3226, \"fpr\": 0.3303030303030303, \"tpr\": 0.8527588344699318, \"n\": 990}, {\"threshold\": 0.785, \"p\": 3226, \"fpr\": 0.3303030303030303, \"tpr\": 0.8527588344699318, \"n\": 990}, {\"threshold\": 0.786, \"p\": 3226, \"fpr\": 0.3303030303030303, \"tpr\": 0.8527588344699318, \"n\": 990}, {\"threshold\": 0.787, \"p\": 3226, \"fpr\": 0.3303030303030303, \"tpr\": 0.851828890266584, \"n\": 990}, {\"threshold\": 0.788, \"p\": 3226, \"fpr\": 0.3303030303030303, \"tpr\": 0.851828890266584, \"n\": 990}, {\"threshold\": 0.789, \"p\": 3226, \"fpr\": 0.3292929292929293, \"tpr\": 0.851828890266584, \"n\": 990}, {\"threshold\": 0.79, \"p\": 3226, \"fpr\": 0.3292929292929293, \"tpr\": 0.851828890266584, \"n\": 990}, {\"threshold\": 0.791, \"p\": 3226, \"fpr\": 0.3282828282828283, \"tpr\": 0.851828890266584, \"n\": 990}, {\"threshold\": 0.792, \"p\": 3226, \"fpr\": 0.3282828282828283, \"tpr\": 0.8515189088654681, \"n\": 990}, {\"threshold\": 0.793, \"p\": 3226, \"fpr\": 0.32727272727272727, \"tpr\": 0.8515189088654681, \"n\": 990}, {\"threshold\": 0.794, \"p\": 3226, \"fpr\": 0.32727272727272727, \"tpr\": 0.8515189088654681, \"n\": 990}, {\"threshold\": 0.795, \"p\": 3226, \"fpr\": 0.32727272727272727, \"tpr\": 0.8515189088654681, \"n\": 990}, {\"threshold\": 0.796, \"p\": 3226, \"fpr\": 0.32727272727272727, \"tpr\": 0.8512089274643522, \"n\": 990}, {\"threshold\": 0.797, \"p\": 3226, \"fpr\": 0.32727272727272727, \"tpr\": 0.8512089274643522, \"n\": 990}, {\"threshold\": 0.798, \"p\": 3226, \"fpr\": 0.32727272727272727, \"tpr\": 0.8508989460632362, \"n\": 990}, {\"threshold\": 0.799, \"p\": 3226, \"fpr\": 0.32626262626262625, \"tpr\": 0.8505889646621203, \"n\": 990}, {\"threshold\": 0.8, \"p\": 3226, \"fpr\": 0.32626262626262625, \"tpr\": 0.8499690018598884, \"n\": 990}, {\"threshold\": 0.801, \"p\": 3226, \"fpr\": 0.32626262626262625, \"tpr\": 0.8499690018598884, \"n\": 990}, {\"threshold\": 0.802, \"p\": 3226, \"fpr\": 0.32525252525252524, \"tpr\": 0.8490390576565406, \"n\": 990}, {\"threshold\": 0.803, \"p\": 3226, \"fpr\": 0.3242424242424242, \"tpr\": 0.8490390576565406, \"n\": 990}, {\"threshold\": 0.804, \"p\": 3226, \"fpr\": 0.3242424242424242, \"tpr\": 0.8487290762554247, \"n\": 990}, {\"threshold\": 0.805, \"p\": 3226, \"fpr\": 0.3242424242424242, \"tpr\": 0.8487290762554247, \"n\": 990}, {\"threshold\": 0.806, \"p\": 3226, \"fpr\": 0.3242424242424242, \"tpr\": 0.8487290762554247, \"n\": 990}, {\"threshold\": 0.807, \"p\": 3226, \"fpr\": 0.3242424242424242, \"tpr\": 0.8484190948543088, \"n\": 990}, {\"threshold\": 0.808, \"p\": 3226, \"fpr\": 0.3242424242424242, \"tpr\": 0.8481091134531928, \"n\": 990}, {\"threshold\": 0.809, \"p\": 3226, \"fpr\": 0.32323232323232326, \"tpr\": 0.847489150650961, \"n\": 990}, {\"threshold\": 0.81, \"p\": 3226, \"fpr\": 0.32323232323232326, \"tpr\": 0.847489150650961, \"n\": 990}, {\"threshold\": 0.811, \"p\": 3226, \"fpr\": 0.32323232323232326, \"tpr\": 0.847489150650961, \"n\": 990}, {\"threshold\": 0.812, \"p\": 3226, \"fpr\": 0.32323232323232326, \"tpr\": 0.8465592064476132, \"n\": 990}, {\"threshold\": 0.813, \"p\": 3226, \"fpr\": 0.32323232323232326, \"tpr\": 0.8465592064476132, \"n\": 990}, {\"threshold\": 0.814, \"p\": 3226, \"fpr\": 0.32323232323232326, \"tpr\": 0.8459392436453813, \"n\": 990}, {\"threshold\": 0.815, \"p\": 3226, \"fpr\": 0.32222222222222224, \"tpr\": 0.8459392436453813, \"n\": 990}, {\"threshold\": 0.816, \"p\": 3226, \"fpr\": 0.32222222222222224, \"tpr\": 0.8459392436453813, \"n\": 990}, {\"threshold\": 0.817, \"p\": 3226, \"fpr\": 0.32222222222222224, \"tpr\": 0.8459392436453813, \"n\": 990}, {\"threshold\": 0.818, \"p\": 3226, \"fpr\": 0.3212121212121212, \"tpr\": 0.8459392436453813, \"n\": 990}, {\"threshold\": 0.819, \"p\": 3226, \"fpr\": 0.3212121212121212, \"tpr\": 0.8456292622442654, \"n\": 990}, {\"threshold\": 0.82, \"p\": 3226, \"fpr\": 0.3191919191919192, \"tpr\": 0.8446993180409176, \"n\": 990}, {\"threshold\": 0.821, \"p\": 3226, \"fpr\": 0.3191919191919192, \"tpr\": 0.8443893366398016, \"n\": 990}, {\"threshold\": 0.822, \"p\": 3226, \"fpr\": 0.3191919191919192, \"tpr\": 0.8443893366398016, \"n\": 990}, {\"threshold\": 0.823, \"p\": 3226, \"fpr\": 0.31717171717171716, \"tpr\": 0.8431494110353379, \"n\": 990}, {\"threshold\": 0.824, \"p\": 3226, \"fpr\": 0.31717171717171716, \"tpr\": 0.842839429634222, \"n\": 990}, {\"threshold\": 0.825, \"p\": 3226, \"fpr\": 0.31717171717171716, \"tpr\": 0.842839429634222, \"n\": 990}, {\"threshold\": 0.826, \"p\": 3226, \"fpr\": 0.31717171717171716, \"tpr\": 0.842839429634222, \"n\": 990}, {\"threshold\": 0.827, \"p\": 3226, \"fpr\": 0.31717171717171716, \"tpr\": 0.8422194668319901, \"n\": 990}, {\"threshold\": 0.828, \"p\": 3226, \"fpr\": 0.31616161616161614, \"tpr\": 0.8422194668319901, \"n\": 990}, {\"threshold\": 0.829, \"p\": 3226, \"fpr\": 0.31616161616161614, \"tpr\": 0.8409795412275264, \"n\": 990}, {\"threshold\": 0.83, \"p\": 3226, \"fpr\": 0.31616161616161614, \"tpr\": 0.8409795412275264, \"n\": 990}, {\"threshold\": 0.831, \"p\": 3226, \"fpr\": 0.31616161616161614, \"tpr\": 0.8406695598264105, \"n\": 990}, {\"threshold\": 0.832, \"p\": 3226, \"fpr\": 0.3151515151515151, \"tpr\": 0.8397396156230627, \"n\": 990}, {\"threshold\": 0.833, \"p\": 3226, \"fpr\": 0.3151515151515151, \"tpr\": 0.8397396156230627, \"n\": 990}, {\"threshold\": 0.834, \"p\": 3226, \"fpr\": 0.3151515151515151, \"tpr\": 0.8394296342219467, \"n\": 990}, {\"threshold\": 0.835, \"p\": 3226, \"fpr\": 0.3151515151515151, \"tpr\": 0.8394296342219467, \"n\": 990}, {\"threshold\": 0.836, \"p\": 3226, \"fpr\": 0.31414141414141417, \"tpr\": 0.8394296342219467, \"n\": 990}, {\"threshold\": 0.837, \"p\": 3226, \"fpr\": 0.31313131313131315, \"tpr\": 0.8394296342219467, \"n\": 990}, {\"threshold\": 0.838, \"p\": 3226, \"fpr\": 0.31212121212121213, \"tpr\": 0.8394296342219467, \"n\": 990}, {\"threshold\": 0.839, \"p\": 3226, \"fpr\": 0.3111111111111111, \"tpr\": 0.8394296342219467, \"n\": 990}, {\"threshold\": 0.84, \"p\": 3226, \"fpr\": 0.3101010101010101, \"tpr\": 0.8391196528208308, \"n\": 990}, {\"threshold\": 0.841, \"p\": 3226, \"fpr\": 0.3101010101010101, \"tpr\": 0.8384996900185989, \"n\": 990}, {\"threshold\": 0.842, \"p\": 3226, \"fpr\": 0.3101010101010101, \"tpr\": 0.8384996900185989, \"n\": 990}, {\"threshold\": 0.843, \"p\": 3226, \"fpr\": 0.3101010101010101, \"tpr\": 0.8384996900185989, \"n\": 990}, {\"threshold\": 0.844, \"p\": 3226, \"fpr\": 0.3101010101010101, \"tpr\": 0.8384996900185989, \"n\": 990}, {\"threshold\": 0.845, \"p\": 3226, \"fpr\": 0.3101010101010101, \"tpr\": 0.837879727216367, \"n\": 990}, {\"threshold\": 0.846, \"p\": 3226, \"fpr\": 0.3101010101010101, \"tpr\": 0.8375697458152511, \"n\": 990}, {\"threshold\": 0.847, \"p\": 3226, \"fpr\": 0.3090909090909091, \"tpr\": 0.8369497830130193, \"n\": 990}, {\"threshold\": 0.848, \"p\": 3226, \"fpr\": 0.3090909090909091, \"tpr\": 0.8366398016119033, \"n\": 990}, {\"threshold\": 0.849, \"p\": 3226, \"fpr\": 0.3090909090909091, \"tpr\": 0.8350898946063237, \"n\": 990}, {\"threshold\": 0.85, \"p\": 3226, \"fpr\": 0.30707070707070705, \"tpr\": 0.8347799132052077, \"n\": 990}, {\"threshold\": 0.851, \"p\": 3226, \"fpr\": 0.30606060606060603, \"tpr\": 0.8338499690018599, \"n\": 990}, {\"threshold\": 0.852, \"p\": 3226, \"fpr\": 0.30606060606060603, \"tpr\": 0.8329200247985121, \"n\": 990}, {\"threshold\": 0.853, \"p\": 3226, \"fpr\": 0.30505050505050507, \"tpr\": 0.8326100433973962, \"n\": 990}, {\"threshold\": 0.854, \"p\": 3226, \"fpr\": 0.30505050505050507, \"tpr\": 0.8323000619962803, \"n\": 990}, {\"threshold\": 0.855, \"p\": 3226, \"fpr\": 0.30303030303030304, \"tpr\": 0.8316800991940484, \"n\": 990}, {\"threshold\": 0.856, \"p\": 3226, \"fpr\": 0.302020202020202, \"tpr\": 0.8313701177929325, \"n\": 990}, {\"threshold\": 0.857, \"p\": 3226, \"fpr\": 0.302020202020202, \"tpr\": 0.8313701177929325, \"n\": 990}, {\"threshold\": 0.858, \"p\": 3226, \"fpr\": 0.302020202020202, \"tpr\": 0.8310601363918165, \"n\": 990}, {\"threshold\": 0.859, \"p\": 3226, \"fpr\": 0.302020202020202, \"tpr\": 0.8310601363918165, \"n\": 990}, {\"threshold\": 0.86, \"p\": 3226, \"fpr\": 0.301010101010101, \"tpr\": 0.8310601363918165, \"n\": 990}, {\"threshold\": 0.861, \"p\": 3226, \"fpr\": 0.301010101010101, \"tpr\": 0.8304401735895847, \"n\": 990}, {\"threshold\": 0.862, \"p\": 3226, \"fpr\": 0.3, \"tpr\": 0.8304401735895847, \"n\": 990}, {\"threshold\": 0.863, \"p\": 3226, \"fpr\": 0.298989898989899, \"tpr\": 0.8301301921884687, \"n\": 990}, {\"threshold\": 0.864, \"p\": 3226, \"fpr\": 0.29797979797979796, \"tpr\": 0.8298202107873528, \"n\": 990}, {\"threshold\": 0.865, \"p\": 3226, \"fpr\": 0.29797979797979796, \"tpr\": 0.8295102293862369, \"n\": 990}, {\"threshold\": 0.866, \"p\": 3226, \"fpr\": 0.296969696969697, \"tpr\": 0.8295102293862369, \"n\": 990}, {\"threshold\": 0.867, \"p\": 3226, \"fpr\": 0.296969696969697, \"tpr\": 0.8292002479851209, \"n\": 990}, {\"threshold\": 0.868, \"p\": 3226, \"fpr\": 0.296969696969697, \"tpr\": 0.8292002479851209, \"n\": 990}, {\"threshold\": 0.869, \"p\": 3226, \"fpr\": 0.25252525252525254, \"tpr\": 0.7637941723496591, \"n\": 990}, {\"threshold\": 0.87, \"p\": 3226, \"fpr\": 0.25252525252525254, \"tpr\": 0.7628642281463113, \"n\": 990}, {\"threshold\": 0.871, \"p\": 3226, \"fpr\": 0.2515151515151515, \"tpr\": 0.7625542467451953, \"n\": 990}, {\"threshold\": 0.872, \"p\": 3226, \"fpr\": 0.2505050505050505, \"tpr\": 0.7606943583384997, \"n\": 990}, {\"threshold\": 0.873, \"p\": 3226, \"fpr\": 0.2494949494949495, \"tpr\": 0.7606943583384997, \"n\": 990}, {\"threshold\": 0.874, \"p\": 3226, \"fpr\": 0.2494949494949495, \"tpr\": 0.7603843769373838, \"n\": 990}, {\"threshold\": 0.875, \"p\": 3226, \"fpr\": 0.2494949494949495, \"tpr\": 0.759454432734036, \"n\": 990}, {\"threshold\": 0.876, \"p\": 3226, \"fpr\": 0.2494949494949495, \"tpr\": 0.7585244885306882, \"n\": 990}, {\"threshold\": 0.877, \"p\": 3226, \"fpr\": 0.2494949494949495, \"tpr\": 0.7585244885306882, \"n\": 990}, {\"threshold\": 0.878, \"p\": 3226, \"fpr\": 0.2494949494949495, \"tpr\": 0.7579045257284563, \"n\": 990}, {\"threshold\": 0.879, \"p\": 3226, \"fpr\": 0.2494949494949495, \"tpr\": 0.7575945443273404, \"n\": 990}, {\"threshold\": 0.88, \"p\": 3226, \"fpr\": 0.2494949494949495, \"tpr\": 0.7575945443273404, \"n\": 990}, {\"threshold\": 0.881, \"p\": 3226, \"fpr\": 0.2494949494949495, \"tpr\": 0.7569745815251085, \"n\": 990}, {\"threshold\": 0.882, \"p\": 3226, \"fpr\": 0.24848484848484848, \"tpr\": 0.7560446373217607, \"n\": 990}, {\"threshold\": 0.883, \"p\": 3226, \"fpr\": 0.24848484848484848, \"tpr\": 0.7560446373217607, \"n\": 990}, {\"threshold\": 0.884, \"p\": 3226, \"fpr\": 0.24848484848484848, \"tpr\": 0.7557346559206448, \"n\": 990}, {\"threshold\": 0.885, \"p\": 3226, \"fpr\": 0.24646464646464647, \"tpr\": 0.7557346559206448, \"n\": 990}, {\"threshold\": 0.886, \"p\": 3226, \"fpr\": 0.24545454545454545, \"tpr\": 0.7557346559206448, \"n\": 990}, {\"threshold\": 0.887, \"p\": 3226, \"fpr\": 0.24545454545454545, \"tpr\": 0.7557346559206448, \"n\": 990}, {\"threshold\": 0.888, \"p\": 3226, \"fpr\": 0.24545454545454545, \"tpr\": 0.7557346559206448, \"n\": 990}, {\"threshold\": 0.889, \"p\": 3226, \"fpr\": 0.24545454545454545, \"tpr\": 0.755114693118413, \"n\": 990}, {\"threshold\": 0.89, \"p\": 3226, \"fpr\": 0.24545454545454545, \"tpr\": 0.7544947303161811, \"n\": 990}, {\"threshold\": 0.891, \"p\": 3226, \"fpr\": 0.24444444444444444, \"tpr\": 0.7538747675139492, \"n\": 990}, {\"threshold\": 0.892, \"p\": 3226, \"fpr\": 0.24242424242424243, \"tpr\": 0.7535647861128333, \"n\": 990}, {\"threshold\": 0.893, \"p\": 3226, \"fpr\": 0.24242424242424243, \"tpr\": 0.7532548047117174, \"n\": 990}, {\"threshold\": 0.894, \"p\": 3226, \"fpr\": 0.24242424242424243, \"tpr\": 0.7529448233106014, \"n\": 990}, {\"threshold\": 0.895, \"p\": 3226, \"fpr\": 0.24242424242424243, \"tpr\": 0.7523248605083696, \"n\": 990}, {\"threshold\": 0.896, \"p\": 3226, \"fpr\": 0.24242424242424243, \"tpr\": 0.7523248605083696, \"n\": 990}, {\"threshold\": 0.897, \"p\": 3226, \"fpr\": 0.24242424242424243, \"tpr\": 0.7523248605083696, \"n\": 990}, {\"threshold\": 0.898, \"p\": 3226, \"fpr\": 0.24242424242424243, \"tpr\": 0.7520148791072536, \"n\": 990}, {\"threshold\": 0.899, \"p\": 3226, \"fpr\": 0.24242424242424243, \"tpr\": 0.7517048977061377, \"n\": 990}, {\"threshold\": 0.9, \"p\": 3226, \"fpr\": 0.24242424242424243, \"tpr\": 0.7510849349039058, \"n\": 990}, {\"threshold\": 0.901, \"p\": 3226, \"fpr\": 0.24141414141414141, \"tpr\": 0.7507749535027899, \"n\": 990}, {\"threshold\": 0.902, \"p\": 3226, \"fpr\": 0.24141414141414141, \"tpr\": 0.750464972101674, \"n\": 990}, {\"threshold\": 0.903, \"p\": 3226, \"fpr\": 0.2404040404040404, \"tpr\": 0.749845009299442, \"n\": 990}, {\"threshold\": 0.904, \"p\": 3226, \"fpr\": 0.2404040404040404, \"tpr\": 0.7489150650960942, \"n\": 990}, {\"threshold\": 0.905, \"p\": 3226, \"fpr\": 0.2404040404040404, \"tpr\": 0.7482951022938623, \"n\": 990}, {\"threshold\": 0.906, \"p\": 3226, \"fpr\": 0.23939393939393938, \"tpr\": 0.7476751394916304, \"n\": 990}, {\"threshold\": 0.907, \"p\": 3226, \"fpr\": 0.23939393939393938, \"tpr\": 0.7470551766893986, \"n\": 990}, {\"threshold\": 0.908, \"p\": 3226, \"fpr\": 0.23939393939393938, \"tpr\": 0.7467451952882826, \"n\": 990}, {\"threshold\": 0.909, \"p\": 3226, \"fpr\": 0.2383838383838384, \"tpr\": 0.7464352138871667, \"n\": 990}, {\"threshold\": 0.91, \"p\": 3226, \"fpr\": 0.2383838383838384, \"tpr\": 0.7461252324860508, \"n\": 990}, {\"threshold\": 0.911, \"p\": 3226, \"fpr\": 0.2383838383838384, \"tpr\": 0.7455052696838189, \"n\": 990}, {\"threshold\": 0.912, \"p\": 3226, \"fpr\": 0.2383838383838384, \"tpr\": 0.744885306881587, \"n\": 990}, {\"threshold\": 0.913, \"p\": 3226, \"fpr\": 0.23535353535353534, \"tpr\": 0.7436453812771233, \"n\": 990}, {\"threshold\": 0.914, \"p\": 3226, \"fpr\": 0.23434343434343435, \"tpr\": 0.7430254184748915, \"n\": 990}, {\"threshold\": 0.915, \"p\": 3226, \"fpr\": 0.23434343434343435, \"tpr\": 0.7424054556726596, \"n\": 990}, {\"threshold\": 0.916, \"p\": 3226, \"fpr\": 0.23434343434343435, \"tpr\": 0.7420954742715437, \"n\": 990}, {\"threshold\": 0.917, \"p\": 3226, \"fpr\": 0.23434343434343435, \"tpr\": 0.7420954742715437, \"n\": 990}, {\"threshold\": 0.918, \"p\": 3226, \"fpr\": 0.23434343434343435, \"tpr\": 0.7411655300681959, \"n\": 990}, {\"threshold\": 0.919, \"p\": 3226, \"fpr\": 0.23333333333333334, \"tpr\": 0.7408555486670799, \"n\": 990}, {\"threshold\": 0.92, \"p\": 3226, \"fpr\": 0.23232323232323232, \"tpr\": 0.7408555486670799, \"n\": 990}, {\"threshold\": 0.921, \"p\": 3226, \"fpr\": 0.23232323232323232, \"tpr\": 0.7402355858648481, \"n\": 990}, {\"threshold\": 0.922, \"p\": 3226, \"fpr\": 0.2313131313131313, \"tpr\": 0.7396156230626162, \"n\": 990}, {\"threshold\": 0.923, \"p\": 3226, \"fpr\": 0.2292929292929293, \"tpr\": 0.7383756974581525, \"n\": 990}, {\"threshold\": 0.924, \"p\": 3226, \"fpr\": 0.2292929292929293, \"tpr\": 0.7377557346559206, \"n\": 990}, {\"threshold\": 0.925, \"p\": 3226, \"fpr\": 0.2292929292929293, \"tpr\": 0.7377557346559206, \"n\": 990}, {\"threshold\": 0.926, \"p\": 3226, \"fpr\": 0.2292929292929293, \"tpr\": 0.7368257904525728, \"n\": 990}, {\"threshold\": 0.927, \"p\": 3226, \"fpr\": 0.2292929292929293, \"tpr\": 0.7365158090514569, \"n\": 990}, {\"threshold\": 0.928, \"p\": 3226, \"fpr\": 0.2292929292929293, \"tpr\": 0.7349659020458772, \"n\": 990}, {\"threshold\": 0.929, \"p\": 3226, \"fpr\": 0.22828282828282828, \"tpr\": 0.7349659020458772, \"n\": 990}, {\"threshold\": 0.93, \"p\": 3226, \"fpr\": 0.22828282828282828, \"tpr\": 0.7346559206447613, \"n\": 990}, {\"threshold\": 0.931, \"p\": 3226, \"fpr\": 0.22828282828282828, \"tpr\": 0.7337259764414135, \"n\": 990}, {\"threshold\": 0.932, \"p\": 3226, \"fpr\": 0.22828282828282828, \"tpr\": 0.7334159950402975, \"n\": 990}, {\"threshold\": 0.933, \"p\": 3226, \"fpr\": 0.22828282828282828, \"tpr\": 0.7334159950402975, \"n\": 990}, {\"threshold\": 0.934, \"p\": 3226, \"fpr\": 0.22727272727272727, \"tpr\": 0.7331060136391816, \"n\": 990}, {\"threshold\": 0.935, \"p\": 3226, \"fpr\": 0.22727272727272727, \"tpr\": 0.7315561066336019, \"n\": 990}, {\"threshold\": 0.936, \"p\": 3226, \"fpr\": 0.22525252525252526, \"tpr\": 0.7309361438313701, \"n\": 990}, {\"threshold\": 0.937, \"p\": 3226, \"fpr\": 0.22525252525252526, \"tpr\": 0.7303161810291382, \"n\": 990}, {\"threshold\": 0.938, \"p\": 3226, \"fpr\": 0.22424242424242424, \"tpr\": 0.7296962182269063, \"n\": 990}, {\"threshold\": 0.939, \"p\": 3226, \"fpr\": 0.2222222222222222, \"tpr\": 0.7296962182269063, \"n\": 990}, {\"threshold\": 0.94, \"p\": 3226, \"fpr\": 0.22121212121212122, \"tpr\": 0.7287662740235585, \"n\": 990}, {\"threshold\": 0.941, \"p\": 3226, \"fpr\": 0.2202020202020202, \"tpr\": 0.7284562926224426, \"n\": 990}, {\"threshold\": 0.942, \"p\": 3226, \"fpr\": 0.2202020202020202, \"tpr\": 0.7278363298202107, \"n\": 990}, {\"threshold\": 0.943, \"p\": 3226, \"fpr\": 0.2202020202020202, \"tpr\": 0.7269063856168629, \"n\": 990}, {\"threshold\": 0.944, \"p\": 3226, \"fpr\": 0.2202020202020202, \"tpr\": 0.7269063856168629, \"n\": 990}, {\"threshold\": 0.945, \"p\": 3226, \"fpr\": 0.2202020202020202, \"tpr\": 0.7262864228146311, \"n\": 990}, {\"threshold\": 0.946, \"p\": 3226, \"fpr\": 0.2202020202020202, \"tpr\": 0.7253564786112833, \"n\": 990}, {\"threshold\": 0.947, \"p\": 3226, \"fpr\": 0.2202020202020202, \"tpr\": 0.7244265344079355, \"n\": 990}, {\"threshold\": 0.948, \"p\": 3226, \"fpr\": 0.2202020202020202, \"tpr\": 0.7238065716057036, \"n\": 990}, {\"threshold\": 0.949, \"p\": 3226, \"fpr\": 0.2202020202020202, \"tpr\": 0.7234965902045877, \"n\": 990}, {\"threshold\": 0.95, \"p\": 3226, \"fpr\": 0.2191919191919192, \"tpr\": 0.7228766274023558, \"n\": 990}, {\"threshold\": 0.951, \"p\": 3226, \"fpr\": 0.2191919191919192, \"tpr\": 0.7222566646001239, \"n\": 990}, {\"threshold\": 0.952, \"p\": 3226, \"fpr\": 0.21818181818181817, \"tpr\": 0.7216367017978921, \"n\": 990}, {\"threshold\": 0.953, \"p\": 3226, \"fpr\": 0.21717171717171718, \"tpr\": 0.7213267203967761, \"n\": 990}, {\"threshold\": 0.954, \"p\": 3226, \"fpr\": 0.21616161616161617, \"tpr\": 0.7191568505889646, \"n\": 990}, {\"threshold\": 0.955, \"p\": 3226, \"fpr\": 0.21515151515151515, \"tpr\": 0.7166769993800371, \"n\": 990}, {\"threshold\": 0.956, \"p\": 3226, \"fpr\": 0.2111111111111111, \"tpr\": 0.7166769993800371, \"n\": 990}, {\"threshold\": 0.957, \"p\": 3226, \"fpr\": 0.2111111111111111, \"tpr\": 0.7145071295722256, \"n\": 990}, {\"threshold\": 0.958, \"p\": 3226, \"fpr\": 0.20909090909090908, \"tpr\": 0.7141971481711097, \"n\": 990}, {\"threshold\": 0.959, \"p\": 3226, \"fpr\": 0.2080808080808081, \"tpr\": 0.712957222566646, \"n\": 990}, {\"threshold\": 0.96, \"p\": 3226, \"fpr\": 0.2080808080808081, \"tpr\": 0.7104773713577185, \"n\": 990}, {\"threshold\": 0.961, \"p\": 3226, \"fpr\": 0.2080808080808081, \"tpr\": 0.7098574085554866, \"n\": 990}, {\"threshold\": 0.962, \"p\": 3226, \"fpr\": 0.20707070707070707, \"tpr\": 0.7086174829510229, \"n\": 990}, {\"threshold\": 0.963, \"p\": 3226, \"fpr\": 0.20505050505050504, \"tpr\": 0.7067575945443273, \"n\": 990}, {\"threshold\": 0.964, \"p\": 3226, \"fpr\": 0.20505050505050504, \"tpr\": 0.7042777433353998, \"n\": 990}, {\"threshold\": 0.965, \"p\": 3226, \"fpr\": 0.20404040404040405, \"tpr\": 0.7030378177309361, \"n\": 990}, {\"threshold\": 0.966, \"p\": 3226, \"fpr\": 0.20303030303030303, \"tpr\": 0.7024178549287042, \"n\": 990}, {\"threshold\": 0.967, \"p\": 3226, \"fpr\": 0.20202020202020202, \"tpr\": 0.6999380037197768, \"n\": 990}, {\"threshold\": 0.968, \"p\": 3226, \"fpr\": 0.201010101010101, \"tpr\": 0.6980781153130812, \"n\": 990}, {\"threshold\": 0.969, \"p\": 3226, \"fpr\": 0.19696969696969696, \"tpr\": 0.6962182269063856, \"n\": 990}, {\"threshold\": 0.97, \"p\": 3226, \"fpr\": 0.19696969696969696, \"tpr\": 0.694048357098574, \"n\": 990}, {\"threshold\": 0.971, \"p\": 3226, \"fpr\": 0.19292929292929292, \"tpr\": 0.6934283942963422, \"n\": 990}, {\"threshold\": 0.972, \"p\": 3226, \"fpr\": 0.18888888888888888, \"tpr\": 0.6915685058896466, \"n\": 990}, {\"threshold\": 0.973, \"p\": 3226, \"fpr\": 0.18787878787878787, \"tpr\": 0.6884686918784872, \"n\": 990}, {\"threshold\": 0.974, \"p\": 3226, \"fpr\": 0.18686868686868688, \"tpr\": 0.6862988220706757, \"n\": 990}, {\"threshold\": 0.975, \"p\": 3226, \"fpr\": 0.18484848484848485, \"tpr\": 0.6828890266584005, \"n\": 990}, {\"threshold\": 0.976, \"p\": 3226, \"fpr\": 0.18282828282828284, \"tpr\": 0.6813391196528208, \"n\": 990}, {\"threshold\": 0.977, \"p\": 3226, \"fpr\": 0.18181818181818182, \"tpr\": 0.6800991940483571, \"n\": 990}, {\"threshold\": 0.978, \"p\": 3226, \"fpr\": 0.18181818181818182, \"tpr\": 0.6766893986360818, \"n\": 990}, {\"threshold\": 0.979, \"p\": 3226, \"fpr\": 0.18181818181818182, \"tpr\": 0.6732796032238065, \"n\": 990}, {\"threshold\": 0.98, \"p\": 3226, \"fpr\": 0.18181818181818182, \"tpr\": 0.671109733415995, \"n\": 990}, {\"threshold\": 0.981, \"p\": 3226, \"fpr\": 0.1808080808080808, \"tpr\": 0.6649101053936763, \"n\": 990}, {\"threshold\": 0.982, \"p\": 3226, \"fpr\": 0.1797979797979798, \"tpr\": 0.6615003099814011, \"n\": 990}, {\"threshold\": 0.983, \"p\": 3226, \"fpr\": 0.17777777777777778, \"tpr\": 0.6596404215747055, \"n\": 990}, {\"threshold\": 0.984, \"p\": 3226, \"fpr\": 0.17777777777777778, \"tpr\": 0.6559206447613143, \"n\": 990}, {\"threshold\": 0.985, \"p\": 3226, \"fpr\": 0.17575757575757575, \"tpr\": 0.6543707377557346, \"n\": 990}, {\"threshold\": 0.986, \"p\": 3226, \"fpr\": 0.17373737373737375, \"tpr\": 0.6491010539367638, \"n\": 990}, {\"threshold\": 0.987, \"p\": 3226, \"fpr\": 0.17373737373737375, \"tpr\": 0.6441413515189088, \"n\": 990}, {\"threshold\": 0.988, \"p\": 3226, \"fpr\": 0.17272727272727273, \"tpr\": 0.6413515189088654, \"n\": 990}, {\"threshold\": 0.989, \"p\": 3226, \"fpr\": 0.1686868686868687, \"tpr\": 0.6363918164910105, \"n\": 990}, {\"threshold\": 0.99, \"p\": 3226, \"fpr\": 0.16565656565656567, \"tpr\": 0.6261624302541847, \"n\": 990}, {\"threshold\": 0.991, \"p\": 3226, \"fpr\": 0.16161616161616163, \"tpr\": 0.6187228766274023, \"n\": 990}, {\"threshold\": 0.992, \"p\": 3226, \"fpr\": 0.15858585858585858, \"tpr\": 0.6125232486050837, \"n\": 990}, {\"threshold\": 0.993, \"p\": 3226, \"fpr\": 0.15858585858585858, \"tpr\": 0.606323620582765, \"n\": 990}, {\"threshold\": 0.994, \"p\": 3226, \"fpr\": 0.15151515151515152, \"tpr\": 0.5957842529448233, \"n\": 990}, {\"threshold\": 0.995, \"p\": 3226, \"fpr\": 0.14747474747474748, \"tpr\": 0.5849349039057656, \"n\": 990}, {\"threshold\": 0.996, \"p\": 3226, \"fpr\": 0.1404040404040404, \"tpr\": 0.5669559826410415, \"n\": 990}, {\"threshold\": 0.997, \"p\": 3226, \"fpr\": 0.12525252525252525, \"tpr\": 0.5474271543707377, \"n\": 990}, {\"threshold\": 0.998, \"p\": 3226, \"fpr\": 0.11414141414141414, \"tpr\": 0.5164290142591444, \"n\": 990}, {\"threshold\": 0.999, \"p\": 3226, \"fpr\": 0.09898989898989899, \"tpr\": 0.47427154370737756, \"n\": 990}, {\"threshold\": 1.0, \"p\": 3226, \"fpr\": 0.0, \"tpr\": 0.0, \"n\": 990}]}]], \"type\": \"Model\"}, \"ipython\": true, \"view_params\": {\"model_type\": \"regression\", \"view\": \"Evaluation\"}, \"model_type\": \"regression\", \"attributes\": {\"section_titles\": [\"Schema\", \"Hyperparameters\", \"Training Summary\", \"Settings\", \"Highest Positive Coefficients\", \"Lowest Negative Coefficients\"], \"sections\": [[[\"Number of coefficients\", 19951], [\"Number of examples\", 17064], [\"Number of classes\", 2], [\"Number of feature columns\", 1], [\"Number of unpacked features\", 19950]], [[\"L1 penalty\", 0.0], [\"L2 penalty\", 0.01]], [[\"Solver\", \"lbfgs\"], [\"Solver iterations\", 20], [\"Solver status\", \"TERMINATED: Iteration limit reached.\"], [\"Training time (sec)\", 1.593]], [[\"Log-likelihood\", 867.9765]], [[\"word_count[previously,]\", 37.5338], [\"word_count[rock...]\", 29.4572], [\"word_count[careful..]\", 22.6553], [\"word_count[games.]\", 22.0817], [\"word_count[@wolfscout]\", 21.1788]], [[\"word_count[lame,]\", -27.7018], [\"word_count[union.]\", -27.5428], [\"word_count[break?]\", -22.6424], [\"word_count[way...]\", -21.3186], [\"word_count[dividend,]\", -20.2503]]]}, \"evaluations\": [[\"test_data\", {\"roc_curve\": [{\"threshold\": 0.0, \"p\": 3226, \"fpr\": 1.0, \"tpr\": 1.0, \"n\": 990}, {\"threshold\": 0.001, \"p\": 3226, \"fpr\": 0.7515151515151515, \"tpr\": 0.9798512089274644, \"n\": 990}, {\"threshold\": 0.002, \"p\": 3226, \"fpr\": 0.697979797979798, \"tpr\": 0.9745815251084935, \"n\": 990}, {\"threshold\": 0.003, \"p\": 3226, \"fpr\": 0.6787878787878788, \"tpr\": 0.9733415995040298, \"n\": 990}, {\"threshold\": 0.004, \"p\": 3226, \"fpr\": 0.6636363636363637, \"tpr\": 0.972101673899566, \"n\": 990}, {\"threshold\": 0.005, \"p\": 3226, \"fpr\": 0.6434343434343435, \"tpr\": 0.9708617482951023, \"n\": 990}, {\"threshold\": 0.006, \"p\": 3226, \"fpr\": 0.6343434343434343, \"tpr\": 0.9699318040917545, \"n\": 990}, {\"threshold\": 0.007, \"p\": 3226, \"fpr\": 0.6262626262626263, \"tpr\": 0.9686918784872908, \"n\": 990}, {\"threshold\": 0.008, \"p\": 3226, \"fpr\": 0.6161616161616161, \"tpr\": 0.9686918784872908, \"n\": 990}, {\"threshold\": 0.009, \"p\": 3226, \"fpr\": 0.6111111111111112, \"tpr\": 0.9680719156850589, \"n\": 990}, {\"threshold\": 0.01, \"p\": 3226, \"fpr\": 0.604040404040404, \"tpr\": 0.9668319900805952, \"n\": 990}, {\"threshold\": 0.011, \"p\": 3226, \"fpr\": 0.598989898989899, \"tpr\": 0.9659020458772474, \"n\": 990}, {\"threshold\": 0.012, \"p\": 3226, \"fpr\": 0.5959595959595959, \"tpr\": 0.9649721016738996, \"n\": 990}, {\"threshold\": 0.013, \"p\": 3226, \"fpr\": 0.591919191919192, \"tpr\": 0.962802231866088, \"n\": 990}, {\"threshold\": 0.014, \"p\": 3226, \"fpr\": 0.5878787878787879, \"tpr\": 0.9621822690638562, \"n\": 990}, {\"threshold\": 0.015, \"p\": 3226, \"fpr\": 0.5848484848484848, \"tpr\": 0.9612523248605084, \"n\": 990}, {\"threshold\": 0.016, \"p\": 3226, \"fpr\": 0.5828282828282828, \"tpr\": 0.9609423434593924, \"n\": 990}, {\"threshold\": 0.017, \"p\": 3226, \"fpr\": 0.5737373737373738, \"tpr\": 0.9606323620582765, \"n\": 990}, {\"threshold\": 0.018, \"p\": 3226, \"fpr\": 0.5737373737373738, \"tpr\": 0.9597024178549287, \"n\": 990}, {\"threshold\": 0.019, \"p\": 3226, \"fpr\": 0.5696969696969697, \"tpr\": 0.9590824550526968, \"n\": 990}, {\"threshold\": 0.02, \"p\": 3226, \"fpr\": 0.5656565656565656, \"tpr\": 0.9587724736515809, \"n\": 990}, {\"threshold\": 0.021, \"p\": 3226, \"fpr\": 0.5646464646464646, \"tpr\": 0.9575325480471172, \"n\": 990}, {\"threshold\": 0.022, \"p\": 3226, \"fpr\": 0.5626262626262626, \"tpr\": 0.9575325480471172, \"n\": 990}, {\"threshold\": 0.023, \"p\": 3226, \"fpr\": 0.5595959595959596, \"tpr\": 0.9569125852448853, \"n\": 990}, {\"threshold\": 0.024, \"p\": 3226, \"fpr\": 0.5595959595959596, \"tpr\": 0.9566026038437694, \"n\": 990}, {\"threshold\": 0.025, \"p\": 3226, \"fpr\": 0.5585858585858586, \"tpr\": 0.9550526968381897, \"n\": 990}, {\"threshold\": 0.026, \"p\": 3226, \"fpr\": 0.5565656565656566, \"tpr\": 0.9544327340359579, \"n\": 990}, {\"threshold\": 0.027, \"p\": 3226, \"fpr\": 0.5535353535353535, \"tpr\": 0.9541227526348419, \"n\": 990}, {\"threshold\": 0.028, \"p\": 3226, \"fpr\": 0.5515151515151515, \"tpr\": 0.953812771233726, \"n\": 990}, {\"threshold\": 0.029, \"p\": 3226, \"fpr\": 0.5505050505050505, \"tpr\": 0.9528828270303782, \"n\": 990}, {\"threshold\": 0.03, \"p\": 3226, \"fpr\": 0.5505050505050505, \"tpr\": 0.9522628642281463, \"n\": 990}, {\"threshold\": 0.031, \"p\": 3226, \"fpr\": 0.5484848484848485, \"tpr\": 0.9516429014259145, \"n\": 990}, {\"threshold\": 0.032, \"p\": 3226, \"fpr\": 0.5474747474747474, \"tpr\": 0.9513329200247985, \"n\": 990}, {\"threshold\": 0.033, \"p\": 3226, \"fpr\": 0.5454545454545454, \"tpr\": 0.9507129572225667, \"n\": 990}, {\"threshold\": 0.034, \"p\": 3226, \"fpr\": 0.5454545454545454, \"tpr\": 0.9507129572225667, \"n\": 990}, {\"threshold\": 0.035, \"p\": 3226, \"fpr\": 0.5444444444444444, \"tpr\": 0.9497830130192189, \"n\": 990}, {\"threshold\": 0.036, \"p\": 3226, \"fpr\": 0.5444444444444444, \"tpr\": 0.949163050216987, \"n\": 990}, {\"threshold\": 0.037, \"p\": 3226, \"fpr\": 0.5424242424242425, \"tpr\": 0.949163050216987, \"n\": 990}, {\"threshold\": 0.038, \"p\": 3226, \"fpr\": 0.5404040404040404, \"tpr\": 0.9488530688158711, \"n\": 990}, {\"threshold\": 0.039, \"p\": 3226, \"fpr\": 0.5383838383838384, \"tpr\": 0.9482331060136392, \"n\": 990}, {\"threshold\": 0.04, \"p\": 3226, \"fpr\": 0.5373737373737374, \"tpr\": 0.9469931804091755, \"n\": 990}, {\"threshold\": 0.041, \"p\": 3226, \"fpr\": 0.5373737373737374, \"tpr\": 0.9466831990080595, \"n\": 990}, {\"threshold\": 0.042, \"p\": 3226, \"fpr\": 0.5363636363636364, \"tpr\": 0.9466831990080595, \"n\": 990}, {\"threshold\": 0.043, \"p\": 3226, \"fpr\": 0.5363636363636364, \"tpr\": 0.9460632362058277, \"n\": 990}, {\"threshold\": 0.044, \"p\": 3226, \"fpr\": 0.5343434343434343, \"tpr\": 0.9457532548047117, \"n\": 990}, {\"threshold\": 0.045, \"p\": 3226, \"fpr\": 0.5343434343434343, \"tpr\": 0.9454432734035958, \"n\": 990}, {\"threshold\": 0.046, \"p\": 3226, \"fpr\": 0.5323232323232323, \"tpr\": 0.9454432734035958, \"n\": 990}, {\"threshold\": 0.047, \"p\": 3226, \"fpr\": 0.5323232323232323, \"tpr\": 0.9454432734035958, \"n\": 990}, {\"threshold\": 0.048, \"p\": 3226, \"fpr\": 0.5313131313131313, \"tpr\": 0.9451332920024799, \"n\": 990}, {\"threshold\": 0.049, \"p\": 3226, \"fpr\": 0.5303030303030303, \"tpr\": 0.944513329200248, \"n\": 990}, {\"threshold\": 0.05, \"p\": 3226, \"fpr\": 0.5303030303030303, \"tpr\": 0.944513329200248, \"n\": 990}, {\"threshold\": 0.051, \"p\": 3226, \"fpr\": 0.5292929292929293, \"tpr\": 0.944513329200248, \"n\": 990}, {\"threshold\": 0.052, \"p\": 3226, \"fpr\": 0.5292929292929293, \"tpr\": 0.944513329200248, \"n\": 990}, {\"threshold\": 0.053, \"p\": 3226, \"fpr\": 0.5292929292929293, \"tpr\": 0.944513329200248, \"n\": 990}, {\"threshold\": 0.054, \"p\": 3226, \"fpr\": 0.5272727272727272, \"tpr\": 0.9442033477991321, \"n\": 990}, {\"threshold\": 0.055, \"p\": 3226, \"fpr\": 0.5262626262626262, \"tpr\": 0.9435833849969002, \"n\": 990}, {\"threshold\": 0.056, \"p\": 3226, \"fpr\": 0.5242424242424243, \"tpr\": 0.9432734035957843, \"n\": 990}, {\"threshold\": 0.057, \"p\": 3226, \"fpr\": 0.5202020202020202, \"tpr\": 0.9432734035957843, \"n\": 990}, {\"threshold\": 0.058, \"p\": 3226, \"fpr\": 0.5191919191919192, \"tpr\": 0.9432734035957843, \"n\": 990}, {\"threshold\": 0.059, \"p\": 3226, \"fpr\": 0.5181818181818182, \"tpr\": 0.9432734035957843, \"n\": 990}, {\"threshold\": 0.06, \"p\": 3226, \"fpr\": 0.5181818181818182, \"tpr\": 0.9429634221946683, \"n\": 990}, {\"threshold\": 0.061, \"p\": 3226, \"fpr\": 0.5181818181818182, \"tpr\": 0.9429634221946683, \"n\": 990}, {\"threshold\": 0.062, \"p\": 3226, \"fpr\": 0.5171717171717172, \"tpr\": 0.9429634221946683, \"n\": 990}, {\"threshold\": 0.063, \"p\": 3226, \"fpr\": 0.5171717171717172, \"tpr\": 0.9429634221946683, \"n\": 990}, {\"threshold\": 0.064, \"p\": 3226, \"fpr\": 0.5161616161616162, \"tpr\": 0.9426534407935524, \"n\": 990}, {\"threshold\": 0.065, \"p\": 3226, \"fpr\": 0.5151515151515151, \"tpr\": 0.9426534407935524, \"n\": 990}, {\"threshold\": 0.066, \"p\": 3226, \"fpr\": 0.5151515151515151, \"tpr\": 0.9426534407935524, \"n\": 990}, {\"threshold\": 0.067, \"p\": 3226, \"fpr\": 0.5151515151515151, \"tpr\": 0.9426534407935524, \"n\": 990}, {\"threshold\": 0.068, \"p\": 3226, \"fpr\": 0.5151515151515151, \"tpr\": 0.9426534407935524, \"n\": 990}, {\"threshold\": 0.069, \"p\": 3226, \"fpr\": 0.5151515151515151, \"tpr\": 0.9423434593924365, \"n\": 990}, {\"threshold\": 0.07, \"p\": 3226, \"fpr\": 0.5141414141414141, \"tpr\": 0.9423434593924365, \"n\": 990}, {\"threshold\": 0.071, \"p\": 3226, \"fpr\": 0.5131313131313131, \"tpr\": 0.9420334779913205, \"n\": 990}, {\"threshold\": 0.072, \"p\": 3226, \"fpr\": 0.51010101010101, \"tpr\": 0.9417234965902046, \"n\": 990}, {\"threshold\": 0.073, \"p\": 3226, \"fpr\": 0.509090909090909, \"tpr\": 0.9414135151890887, \"n\": 990}, {\"threshold\": 0.074, \"p\": 3226, \"fpr\": 0.5080808080808081, \"tpr\": 0.9414135151890887, \"n\": 990}, {\"threshold\": 0.075, \"p\": 3226, \"fpr\": 0.5060606060606061, \"tpr\": 0.9414135151890887, \"n\": 990}, {\"threshold\": 0.076, \"p\": 3226, \"fpr\": 0.5060606060606061, \"tpr\": 0.9414135151890887, \"n\": 990}, {\"threshold\": 0.077, \"p\": 3226, \"fpr\": 0.5040404040404041, \"tpr\": 0.9414135151890887, \"n\": 990}, {\"threshold\": 0.078, \"p\": 3226, \"fpr\": 0.5040404040404041, \"tpr\": 0.9414135151890887, \"n\": 990}, {\"threshold\": 0.079, \"p\": 3226, \"fpr\": 0.503030303030303, \"tpr\": 0.9411035337879727, \"n\": 990}, {\"threshold\": 0.08, \"p\": 3226, \"fpr\": 0.503030303030303, \"tpr\": 0.9407935523868568, \"n\": 990}, {\"threshold\": 0.081, \"p\": 3226, \"fpr\": 0.5, \"tpr\": 0.9407935523868568, \"n\": 990}, {\"threshold\": 0.082, \"p\": 3226, \"fpr\": 0.5, \"tpr\": 0.9407935523868568, \"n\": 990}, {\"threshold\": 0.083, \"p\": 3226, \"fpr\": 0.5, \"tpr\": 0.9404835709857409, \"n\": 990}, {\"threshold\": 0.084, \"p\": 3226, \"fpr\": 0.49696969696969695, \"tpr\": 0.9401735895846249, \"n\": 990}, {\"threshold\": 0.085, \"p\": 3226, \"fpr\": 0.49696969696969695, \"tpr\": 0.9401735895846249, \"n\": 990}, {\"threshold\": 0.086, \"p\": 3226, \"fpr\": 0.49696969696969695, \"tpr\": 0.939863608183509, \"n\": 990}, {\"threshold\": 0.087, \"p\": 3226, \"fpr\": 0.49696969696969695, \"tpr\": 0.939863608183509, \"n\": 990}, {\"threshold\": 0.088, \"p\": 3226, \"fpr\": 0.49696969696969695, \"tpr\": 0.939863608183509, \"n\": 990}, {\"threshold\": 0.089, \"p\": 3226, \"fpr\": 0.49595959595959593, \"tpr\": 0.939863608183509, \"n\": 990}, {\"threshold\": 0.09, \"p\": 3226, \"fpr\": 0.49595959595959593, \"tpr\": 0.9395536267823931, \"n\": 990}, {\"threshold\": 0.091, \"p\": 3226, \"fpr\": 0.49595959595959593, \"tpr\": 0.9395536267823931, \"n\": 990}, {\"threshold\": 0.092, \"p\": 3226, \"fpr\": 0.494949494949495, \"tpr\": 0.9395536267823931, \"n\": 990}, {\"threshold\": 0.093, \"p\": 3226, \"fpr\": 0.49393939393939396, \"tpr\": 0.9395536267823931, \"n\": 990}, {\"threshold\": 0.094, \"p\": 3226, \"fpr\": 0.49393939393939396, \"tpr\": 0.9395536267823931, \"n\": 990}, {\"threshold\": 0.095, \"p\": 3226, \"fpr\": 0.49292929292929294, \"tpr\": 0.9389336639801612, \"n\": 990}, {\"threshold\": 0.096, \"p\": 3226, \"fpr\": 0.49292929292929294, \"tpr\": 0.9386236825790453, \"n\": 990}, {\"threshold\": 0.097, \"p\": 3226, \"fpr\": 0.49292929292929294, \"tpr\": 0.9383137011779293, \"n\": 990}, {\"threshold\": 0.098, \"p\": 3226, \"fpr\": 0.49292929292929294, \"tpr\": 0.9383137011779293, \"n\": 990}, {\"threshold\": 0.099, \"p\": 3226, \"fpr\": 0.4919191919191919, \"tpr\": 0.9383137011779293, \"n\": 990}, {\"threshold\": 0.1, \"p\": 3226, \"fpr\": 0.4909090909090909, \"tpr\": 0.9383137011779293, \"n\": 990}, {\"threshold\": 0.101, \"p\": 3226, \"fpr\": 0.4898989898989899, \"tpr\": 0.9383137011779293, \"n\": 990}, {\"threshold\": 0.102, \"p\": 3226, \"fpr\": 0.4898989898989899, \"tpr\": 0.9383137011779293, \"n\": 990}, {\"threshold\": 0.103, \"p\": 3226, \"fpr\": 0.4898989898989899, \"tpr\": 0.9383137011779293, \"n\": 990}, {\"threshold\": 0.104, \"p\": 3226, \"fpr\": 0.4898989898989899, \"tpr\": 0.9383137011779293, \"n\": 990}, {\"threshold\": 0.105, \"p\": 3226, \"fpr\": 0.4898989898989899, \"tpr\": 0.9383137011779293, \"n\": 990}, {\"threshold\": 0.106, \"p\": 3226, \"fpr\": 0.4898989898989899, \"tpr\": 0.9383137011779293, \"n\": 990}, {\"threshold\": 0.107, \"p\": 3226, \"fpr\": 0.4898989898989899, \"tpr\": 0.9383137011779293, \"n\": 990}, {\"threshold\": 0.108, \"p\": 3226, \"fpr\": 0.4888888888888889, \"tpr\": 0.9376937383756975, \"n\": 990}, {\"threshold\": 0.109, \"p\": 3226, \"fpr\": 0.4868686868686869, \"tpr\": 0.9376937383756975, \"n\": 990}, {\"threshold\": 0.11, \"p\": 3226, \"fpr\": 0.4858585858585859, \"tpr\": 0.9370737755734656, \"n\": 990}, {\"threshold\": 0.111, \"p\": 3226, \"fpr\": 0.4858585858585859, \"tpr\": 0.9370737755734656, \"n\": 990}, {\"threshold\": 0.112, \"p\": 3226, \"fpr\": 0.4858585858585859, \"tpr\": 0.9367637941723497, \"n\": 990}, {\"threshold\": 0.113, \"p\": 3226, \"fpr\": 0.48383838383838385, \"tpr\": 0.9367637941723497, \"n\": 990}, {\"threshold\": 0.114, \"p\": 3226, \"fpr\": 0.48383838383838385, \"tpr\": 0.9367637941723497, \"n\": 990}, {\"threshold\": 0.115, \"p\": 3226, \"fpr\": 0.48282828282828283, \"tpr\": 0.9367637941723497, \"n\": 990}, {\"threshold\": 0.116, \"p\": 3226, \"fpr\": 0.48282828282828283, \"tpr\": 0.9367637941723497, \"n\": 990}, {\"threshold\": 0.117, \"p\": 3226, \"fpr\": 0.48282828282828283, \"tpr\": 0.9367637941723497, \"n\": 990}, {\"threshold\": 0.118, \"p\": 3226, \"fpr\": 0.48282828282828283, \"tpr\": 0.9367637941723497, \"n\": 990}, {\"threshold\": 0.119, \"p\": 3226, \"fpr\": 0.48282828282828283, \"tpr\": 0.9367637941723497, \"n\": 990}, {\"threshold\": 0.12, \"p\": 3226, \"fpr\": 0.48282828282828283, \"tpr\": 0.9367637941723497, \"n\": 990}, {\"threshold\": 0.121, \"p\": 3226, \"fpr\": 0.4818181818181818, \"tpr\": 0.9364538127712337, \"n\": 990}, {\"threshold\": 0.122, \"p\": 3226, \"fpr\": 0.4808080808080808, \"tpr\": 0.9364538127712337, \"n\": 990}, {\"threshold\": 0.123, \"p\": 3226, \"fpr\": 0.4797979797979798, \"tpr\": 0.9361438313701178, \"n\": 990}, {\"threshold\": 0.124, \"p\": 3226, \"fpr\": 0.47878787878787876, \"tpr\": 0.9358338499690019, \"n\": 990}, {\"threshold\": 0.125, \"p\": 3226, \"fpr\": 0.47878787878787876, \"tpr\": 0.9355238685678859, \"n\": 990}, {\"threshold\": 0.126, \"p\": 3226, \"fpr\": 0.47878787878787876, \"tpr\": 0.93521388716677, \"n\": 990}, {\"threshold\": 0.127, \"p\": 3226, \"fpr\": 0.47878787878787876, \"tpr\": 0.93521388716677, \"n\": 990}, {\"threshold\": 0.128, \"p\": 3226, \"fpr\": 0.47878787878787876, \"tpr\": 0.93521388716677, \"n\": 990}, {\"threshold\": 0.129, \"p\": 3226, \"fpr\": 0.4777777777777778, \"tpr\": 0.93521388716677, \"n\": 990}, {\"threshold\": 0.13, \"p\": 3226, \"fpr\": 0.47575757575757577, \"tpr\": 0.9345939243645381, \"n\": 990}, {\"threshold\": 0.131, \"p\": 3226, \"fpr\": 0.47575757575757577, \"tpr\": 0.9345939243645381, \"n\": 990}, {\"threshold\": 0.132, \"p\": 3226, \"fpr\": 0.47575757575757577, \"tpr\": 0.9345939243645381, \"n\": 990}, {\"threshold\": 0.133, \"p\": 3226, \"fpr\": 0.47474747474747475, \"tpr\": 0.9342839429634222, \"n\": 990}, {\"threshold\": 0.134, \"p\": 3226, \"fpr\": 0.47474747474747475, \"tpr\": 0.9342839429634222, \"n\": 990}, {\"threshold\": 0.135, \"p\": 3226, \"fpr\": 0.47474747474747475, \"tpr\": 0.9339739615623063, \"n\": 990}, {\"threshold\": 0.136, \"p\": 3226, \"fpr\": 0.47474747474747475, \"tpr\": 0.9339739615623063, \"n\": 990}, {\"threshold\": 0.137, \"p\": 3226, \"fpr\": 0.47373737373737373, \"tpr\": 0.9339739615623063, \"n\": 990}, {\"threshold\": 0.138, \"p\": 3226, \"fpr\": 0.47373737373737373, \"tpr\": 0.9336639801611903, \"n\": 990}, {\"threshold\": 0.139, \"p\": 3226, \"fpr\": 0.4727272727272727, \"tpr\": 0.9336639801611903, \"n\": 990}, {\"threshold\": 0.14, \"p\": 3226, \"fpr\": 0.4727272727272727, \"tpr\": 0.9333539987600744, \"n\": 990}, {\"threshold\": 0.141, \"p\": 3226, \"fpr\": 0.4717171717171717, \"tpr\": 0.9333539987600744, \"n\": 990}, {\"threshold\": 0.142, \"p\": 3226, \"fpr\": 0.4717171717171717, \"tpr\": 0.9333539987600744, \"n\": 990}, {\"threshold\": 0.143, \"p\": 3226, \"fpr\": 0.4717171717171717, \"tpr\": 0.9330440173589585, \"n\": 990}, {\"threshold\": 0.144, \"p\": 3226, \"fpr\": 0.4717171717171717, \"tpr\": 0.9327340359578425, \"n\": 990}, {\"threshold\": 0.145, \"p\": 3226, \"fpr\": 0.4717171717171717, \"tpr\": 0.9324240545567266, \"n\": 990}, {\"threshold\": 0.146, \"p\": 3226, \"fpr\": 0.4717171717171717, \"tpr\": 0.9324240545567266, \"n\": 990}, {\"threshold\": 0.147, \"p\": 3226, \"fpr\": 0.4707070707070707, \"tpr\": 0.9318040917544947, \"n\": 990}, {\"threshold\": 0.148, \"p\": 3226, \"fpr\": 0.4707070707070707, \"tpr\": 0.9314941103533788, \"n\": 990}, {\"threshold\": 0.149, \"p\": 3226, \"fpr\": 0.4707070707070707, \"tpr\": 0.9314941103533788, \"n\": 990}, {\"threshold\": 0.15, \"p\": 3226, \"fpr\": 0.4707070707070707, \"tpr\": 0.9314941103533788, \"n\": 990}, {\"threshold\": 0.151, \"p\": 3226, \"fpr\": 0.4686868686868687, \"tpr\": 0.9314941103533788, \"n\": 990}, {\"threshold\": 0.152, \"p\": 3226, \"fpr\": 0.4686868686868687, \"tpr\": 0.9314941103533788, \"n\": 990}, {\"threshold\": 0.153, \"p\": 3226, \"fpr\": 0.4686868686868687, \"tpr\": 0.9311841289522629, \"n\": 990}, {\"threshold\": 0.154, \"p\": 3226, \"fpr\": 0.4666666666666667, \"tpr\": 0.930874147551147, \"n\": 990}, {\"threshold\": 0.155, \"p\": 3226, \"fpr\": 0.46565656565656566, \"tpr\": 0.930874147551147, \"n\": 990}, {\"threshold\": 0.156, \"p\": 3226, \"fpr\": 0.46565656565656566, \"tpr\": 0.930874147551147, \"n\": 990}, {\"threshold\": 0.157, \"p\": 3226, \"fpr\": 0.46464646464646464, \"tpr\": 0.930564166150031, \"n\": 990}, {\"threshold\": 0.158, \"p\": 3226, \"fpr\": 0.46464646464646464, \"tpr\": 0.9302541847489151, \"n\": 990}, {\"threshold\": 0.159, \"p\": 3226, \"fpr\": 0.46464646464646464, \"tpr\": 0.9302541847489151, \"n\": 990}, {\"threshold\": 0.16, \"p\": 3226, \"fpr\": 0.46464646464646464, \"tpr\": 0.9302541847489151, \"n\": 990}, {\"threshold\": 0.161, \"p\": 3226, \"fpr\": 0.46464646464646464, \"tpr\": 0.9296342219466832, \"n\": 990}, {\"threshold\": 0.162, \"p\": 3226, \"fpr\": 0.46464646464646464, \"tpr\": 0.9296342219466832, \"n\": 990}, {\"threshold\": 0.163, \"p\": 3226, \"fpr\": 0.46464646464646464, \"tpr\": 0.9296342219466832, \"n\": 990}, {\"threshold\": 0.164, \"p\": 3226, \"fpr\": 0.4626262626262626, \"tpr\": 0.9293242405455673, \"n\": 990}, {\"threshold\": 0.165, \"p\": 3226, \"fpr\": 0.4616161616161616, \"tpr\": 0.9293242405455673, \"n\": 990}, {\"threshold\": 0.166, \"p\": 3226, \"fpr\": 0.4616161616161616, \"tpr\": 0.9293242405455673, \"n\": 990}, {\"threshold\": 0.167, \"p\": 3226, \"fpr\": 0.4616161616161616, \"tpr\": 0.9290142591444513, \"n\": 990}, {\"threshold\": 0.168, \"p\": 3226, \"fpr\": 0.4616161616161616, \"tpr\": 0.9287042777433354, \"n\": 990}, {\"threshold\": 0.169, \"p\": 3226, \"fpr\": 0.4616161616161616, \"tpr\": 0.9287042777433354, \"n\": 990}, {\"threshold\": 0.17, \"p\": 3226, \"fpr\": 0.4616161616161616, \"tpr\": 0.9287042777433354, \"n\": 990}, {\"threshold\": 0.171, \"p\": 3226, \"fpr\": 0.46060606060606063, \"tpr\": 0.9283942963422195, \"n\": 990}, {\"threshold\": 0.172, \"p\": 3226, \"fpr\": 0.46060606060606063, \"tpr\": 0.9280843149411035, \"n\": 990}, {\"threshold\": 0.173, \"p\": 3226, \"fpr\": 0.46060606060606063, \"tpr\": 0.9280843149411035, \"n\": 990}, {\"threshold\": 0.174, \"p\": 3226, \"fpr\": 0.4585858585858586, \"tpr\": 0.9277743335399876, \"n\": 990}, {\"threshold\": 0.175, \"p\": 3226, \"fpr\": 0.4585858585858586, \"tpr\": 0.9271543707377558, \"n\": 990}, {\"threshold\": 0.176, \"p\": 3226, \"fpr\": 0.4575757575757576, \"tpr\": 0.9271543707377558, \"n\": 990}, {\"threshold\": 0.177, \"p\": 3226, \"fpr\": 0.45656565656565656, \"tpr\": 0.9268443893366398, \"n\": 990}, {\"threshold\": 0.178, \"p\": 3226, \"fpr\": 0.45656565656565656, \"tpr\": 0.9265344079355239, \"n\": 990}, {\"threshold\": 0.179, \"p\": 3226, \"fpr\": 0.45656565656565656, \"tpr\": 0.925914445133292, \"n\": 990}, {\"threshold\": 0.18, \"p\": 3226, \"fpr\": 0.45656565656565656, \"tpr\": 0.925914445133292, \"n\": 990}, {\"threshold\": 0.181, \"p\": 3226, \"fpr\": 0.45555555555555555, \"tpr\": 0.925914445133292, \"n\": 990}, {\"threshold\": 0.182, \"p\": 3226, \"fpr\": 0.45555555555555555, \"tpr\": 0.925914445133292, \"n\": 990}, {\"threshold\": 0.183, \"p\": 3226, \"fpr\": 0.45555555555555555, \"tpr\": 0.9256044637321761, \"n\": 990}, {\"threshold\": 0.184, \"p\": 3226, \"fpr\": 0.45555555555555555, \"tpr\": 0.9256044637321761, \"n\": 990}, {\"threshold\": 0.185, \"p\": 3226, \"fpr\": 0.45555555555555555, \"tpr\": 0.9256044637321761, \"n\": 990}, {\"threshold\": 0.186, \"p\": 3226, \"fpr\": 0.45555555555555555, \"tpr\": 0.9256044637321761, \"n\": 990}, {\"threshold\": 0.187, \"p\": 3226, \"fpr\": 0.45555555555555555, \"tpr\": 0.9256044637321761, \"n\": 990}, {\"threshold\": 0.188, \"p\": 3226, \"fpr\": 0.45555555555555555, \"tpr\": 0.9256044637321761, \"n\": 990}, {\"threshold\": 0.189, \"p\": 3226, \"fpr\": 0.45555555555555555, \"tpr\": 0.9256044637321761, \"n\": 990}, {\"threshold\": 0.19, \"p\": 3226, \"fpr\": 0.45454545454545453, \"tpr\": 0.9252944823310602, \"n\": 990}, {\"threshold\": 0.191, \"p\": 3226, \"fpr\": 0.45454545454545453, \"tpr\": 0.9252944823310602, \"n\": 990}, {\"threshold\": 0.192, \"p\": 3226, \"fpr\": 0.45454545454545453, \"tpr\": 0.9252944823310602, \"n\": 990}, {\"threshold\": 0.193, \"p\": 3226, \"fpr\": 0.4535353535353535, \"tpr\": 0.9252944823310602, \"n\": 990}, {\"threshold\": 0.194, \"p\": 3226, \"fpr\": 0.4535353535353535, \"tpr\": 0.9252944823310602, \"n\": 990}, {\"threshold\": 0.195, \"p\": 3226, \"fpr\": 0.4535353535353535, \"tpr\": 0.9252944823310602, \"n\": 990}, {\"threshold\": 0.196, \"p\": 3226, \"fpr\": 0.4535353535353535, \"tpr\": 0.9252944823310602, \"n\": 990}, {\"threshold\": 0.197, \"p\": 3226, \"fpr\": 0.45151515151515154, \"tpr\": 0.9252944823310602, \"n\": 990}, {\"threshold\": 0.198, \"p\": 3226, \"fpr\": 0.45151515151515154, \"tpr\": 0.9249845009299442, \"n\": 990}, {\"threshold\": 0.199, \"p\": 3226, \"fpr\": 0.45151515151515154, \"tpr\": 0.9249845009299442, \"n\": 990}, {\"threshold\": 0.2, \"p\": 3226, \"fpr\": 0.45151515151515154, \"tpr\": 0.9249845009299442, \"n\": 990}, {\"threshold\": 0.201, \"p\": 3226, \"fpr\": 0.45151515151515154, \"tpr\": 0.9249845009299442, \"n\": 990}, {\"threshold\": 0.202, \"p\": 3226, \"fpr\": 0.45151515151515154, \"tpr\": 0.9249845009299442, \"n\": 990}, {\"threshold\": 0.203, \"p\": 3226, \"fpr\": 0.45151515151515154, \"tpr\": 0.9243645381277124, \"n\": 990}, {\"threshold\": 0.204, \"p\": 3226, \"fpr\": 0.4505050505050505, \"tpr\": 0.9240545567265964, \"n\": 990}, {\"threshold\": 0.205, \"p\": 3226, \"fpr\": 0.4494949494949495, \"tpr\": 0.9240545567265964, \"n\": 990}, {\"threshold\": 0.206, \"p\": 3226, \"fpr\": 0.4494949494949495, \"tpr\": 0.9240545567265964, \"n\": 990}, {\"threshold\": 0.207, \"p\": 3226, \"fpr\": 0.4494949494949495, \"tpr\": 0.9240545567265964, \"n\": 990}, {\"threshold\": 0.208, \"p\": 3226, \"fpr\": 0.4494949494949495, \"tpr\": 0.9240545567265964, \"n\": 990}, {\"threshold\": 0.209, \"p\": 3226, \"fpr\": 0.4484848484848485, \"tpr\": 0.9240545567265964, \"n\": 990}, {\"threshold\": 0.21, \"p\": 3226, \"fpr\": 0.4484848484848485, \"tpr\": 0.9237445753254805, \"n\": 990}, {\"threshold\": 0.211, \"p\": 3226, \"fpr\": 0.4484848484848485, \"tpr\": 0.9234345939243646, \"n\": 990}, {\"threshold\": 0.212, \"p\": 3226, \"fpr\": 0.4484848484848485, \"tpr\": 0.9234345939243646, \"n\": 990}, {\"threshold\": 0.213, \"p\": 3226, \"fpr\": 0.44747474747474747, \"tpr\": 0.9234345939243646, \"n\": 990}, {\"threshold\": 0.214, \"p\": 3226, \"fpr\": 0.44747474747474747, \"tpr\": 0.9234345939243646, \"n\": 990}, {\"threshold\": 0.215, \"p\": 3226, \"fpr\": 0.44747474747474747, \"tpr\": 0.9234345939243646, \"n\": 990}, {\"threshold\": 0.216, \"p\": 3226, \"fpr\": 0.44747474747474747, \"tpr\": 0.9234345939243646, \"n\": 990}, {\"threshold\": 0.217, \"p\": 3226, \"fpr\": 0.44747474747474747, \"tpr\": 0.9231246125232486, \"n\": 990}, {\"threshold\": 0.218, \"p\": 3226, \"fpr\": 0.44747474747474747, \"tpr\": 0.9231246125232486, \"n\": 990}, {\"threshold\": 0.219, \"p\": 3226, \"fpr\": 0.44747474747474747, \"tpr\": 0.9228146311221327, \"n\": 990}, {\"threshold\": 0.22, \"p\": 3226, \"fpr\": 0.44747474747474747, \"tpr\": 0.9228146311221327, \"n\": 990}, {\"threshold\": 0.221, \"p\": 3226, \"fpr\": 0.44747474747474747, \"tpr\": 0.9228146311221327, \"n\": 990}, {\"threshold\": 0.222, \"p\": 3226, \"fpr\": 0.44747474747474747, \"tpr\": 0.9228146311221327, \"n\": 990}, {\"threshold\": 0.223, \"p\": 3226, \"fpr\": 0.44747474747474747, \"tpr\": 0.9228146311221327, \"n\": 990}, {\"threshold\": 0.224, \"p\": 3226, \"fpr\": 0.44646464646464645, \"tpr\": 0.9228146311221327, \"n\": 990}, {\"threshold\": 0.225, \"p\": 3226, \"fpr\": 0.44646464646464645, \"tpr\": 0.9228146311221327, \"n\": 990}, {\"threshold\": 0.226, \"p\": 3226, \"fpr\": 0.44646464646464645, \"tpr\": 0.9228146311221327, \"n\": 990}, {\"threshold\": 0.227, \"p\": 3226, \"fpr\": 0.44646464646464645, \"tpr\": 0.9228146311221327, \"n\": 990}, {\"threshold\": 0.228, \"p\": 3226, \"fpr\": 0.44646464646464645, \"tpr\": 0.9228146311221327, \"n\": 990}, {\"threshold\": 0.229, \"p\": 3226, \"fpr\": 0.44646464646464645, \"tpr\": 0.9228146311221327, \"n\": 990}, {\"threshold\": 0.23, \"p\": 3226, \"fpr\": 0.44545454545454544, \"tpr\": 0.9228146311221327, \"n\": 990}, {\"threshold\": 0.231, \"p\": 3226, \"fpr\": 0.44545454545454544, \"tpr\": 0.9228146311221327, \"n\": 990}, {\"threshold\": 0.232, \"p\": 3226, \"fpr\": 0.44545454545454544, \"tpr\": 0.9228146311221327, \"n\": 990}, {\"threshold\": 0.233, \"p\": 3226, \"fpr\": 0.44545454545454544, \"tpr\": 0.9228146311221327, \"n\": 990}, {\"threshold\": 0.234, \"p\": 3226, \"fpr\": 0.44545454545454544, \"tpr\": 0.9228146311221327, \"n\": 990}, {\"threshold\": 0.235, \"p\": 3226, \"fpr\": 0.44545454545454544, \"tpr\": 0.9228146311221327, \"n\": 990}, {\"threshold\": 0.236, \"p\": 3226, \"fpr\": 0.44545454545454544, \"tpr\": 0.9228146311221327, \"n\": 990}, {\"threshold\": 0.237, \"p\": 3226, \"fpr\": 0.44545454545454544, \"tpr\": 0.9228146311221327, \"n\": 990}, {\"threshold\": 0.238, \"p\": 3226, \"fpr\": 0.44545454545454544, \"tpr\": 0.9228146311221327, \"n\": 990}, {\"threshold\": 0.239, \"p\": 3226, \"fpr\": 0.44545454545454544, \"tpr\": 0.9225046497210168, \"n\": 990}, {\"threshold\": 0.24, \"p\": 3226, \"fpr\": 0.44545454545454544, \"tpr\": 0.9225046497210168, \"n\": 990}, {\"threshold\": 0.241, \"p\": 3226, \"fpr\": 0.4444444444444444, \"tpr\": 0.9221946683199008, \"n\": 990}, {\"threshold\": 0.242, \"p\": 3226, \"fpr\": 0.44343434343434346, \"tpr\": 0.9218846869187849, \"n\": 990}, {\"threshold\": 0.243, \"p\": 3226, \"fpr\": 0.44343434343434346, \"tpr\": 0.921264724116553, \"n\": 990}, {\"threshold\": 0.244, \"p\": 3226, \"fpr\": 0.44242424242424244, \"tpr\": 0.921264724116553, \"n\": 990}, {\"threshold\": 0.245, \"p\": 3226, \"fpr\": 0.44242424242424244, \"tpr\": 0.921264724116553, \"n\": 990}, {\"threshold\": 0.246, \"p\": 3226, \"fpr\": 0.4414141414141414, \"tpr\": 0.921264724116553, \"n\": 990}, {\"threshold\": 0.247, \"p\": 3226, \"fpr\": 0.4414141414141414, \"tpr\": 0.921264724116553, \"n\": 990}, {\"threshold\": 0.248, \"p\": 3226, \"fpr\": 0.4404040404040404, \"tpr\": 0.921264724116553, \"n\": 990}, {\"threshold\": 0.249, \"p\": 3226, \"fpr\": 0.4404040404040404, \"tpr\": 0.921264724116553, \"n\": 990}, {\"threshold\": 0.25, \"p\": 3226, \"fpr\": 0.4404040404040404, \"tpr\": 0.9209547427154371, \"n\": 990}, {\"threshold\": 0.251, \"p\": 3226, \"fpr\": 0.4404040404040404, \"tpr\": 0.9209547427154371, \"n\": 990}, {\"threshold\": 0.252, \"p\": 3226, \"fpr\": 0.4404040404040404, \"tpr\": 0.9209547427154371, \"n\": 990}, {\"threshold\": 0.253, \"p\": 3226, \"fpr\": 0.4393939393939394, \"tpr\": 0.9206447613143212, \"n\": 990}, {\"threshold\": 0.254, \"p\": 3226, \"fpr\": 0.4393939393939394, \"tpr\": 0.9203347799132052, \"n\": 990}, {\"threshold\": 0.255, \"p\": 3226, \"fpr\": 0.4393939393939394, \"tpr\": 0.9203347799132052, \"n\": 990}, {\"threshold\": 0.256, \"p\": 3226, \"fpr\": 0.4383838383838384, \"tpr\": 0.9203347799132052, \"n\": 990}, {\"threshold\": 0.257, \"p\": 3226, \"fpr\": 0.4383838383838384, \"tpr\": 0.9200247985120893, \"n\": 990}, {\"threshold\": 0.258, \"p\": 3226, \"fpr\": 0.43636363636363634, \"tpr\": 0.9200247985120893, \"n\": 990}, {\"threshold\": 0.259, \"p\": 3226, \"fpr\": 0.43636363636363634, \"tpr\": 0.9200247985120893, \"n\": 990}, {\"threshold\": 0.26, \"p\": 3226, \"fpr\": 0.43636363636363634, \"tpr\": 0.9200247985120893, \"n\": 990}, {\"threshold\": 0.261, \"p\": 3226, \"fpr\": 0.43636363636363634, \"tpr\": 0.9197148171109734, \"n\": 990}, {\"threshold\": 0.262, \"p\": 3226, \"fpr\": 0.43636363636363634, \"tpr\": 0.9194048357098574, \"n\": 990}, {\"threshold\": 0.263, \"p\": 3226, \"fpr\": 0.43636363636363634, \"tpr\": 0.9194048357098574, \"n\": 990}, {\"threshold\": 0.264, \"p\": 3226, \"fpr\": 0.43636363636363634, \"tpr\": 0.9190948543087415, \"n\": 990}, {\"threshold\": 0.265, \"p\": 3226, \"fpr\": 0.4353535353535353, \"tpr\": 0.9190948543087415, \"n\": 990}, {\"threshold\": 0.266, \"p\": 3226, \"fpr\": 0.4353535353535353, \"tpr\": 0.9190948543087415, \"n\": 990}, {\"threshold\": 0.267, \"p\": 3226, \"fpr\": 0.4353535353535353, \"tpr\": 0.9190948543087415, \"n\": 990}, {\"threshold\": 0.268, \"p\": 3226, \"fpr\": 0.4353535353535353, \"tpr\": 0.9187848729076256, \"n\": 990}, {\"threshold\": 0.269, \"p\": 3226, \"fpr\": 0.4353535353535353, \"tpr\": 0.9184748915065096, \"n\": 990}, {\"threshold\": 0.27, \"p\": 3226, \"fpr\": 0.4353535353535353, \"tpr\": 0.9184748915065096, \"n\": 990}, {\"threshold\": 0.271, \"p\": 3226, \"fpr\": 0.4353535353535353, \"tpr\": 0.9181649101053937, \"n\": 990}, {\"threshold\": 0.272, \"p\": 3226, \"fpr\": 0.4353535353535353, \"tpr\": 0.9178549287042778, \"n\": 990}, {\"threshold\": 0.273, \"p\": 3226, \"fpr\": 0.4353535353535353, \"tpr\": 0.9178549287042778, \"n\": 990}, {\"threshold\": 0.274, \"p\": 3226, \"fpr\": 0.4353535353535353, \"tpr\": 0.9175449473031618, \"n\": 990}, {\"threshold\": 0.275, \"p\": 3226, \"fpr\": 0.4353535353535353, \"tpr\": 0.9175449473031618, \"n\": 990}, {\"threshold\": 0.276, \"p\": 3226, \"fpr\": 0.4353535353535353, \"tpr\": 0.9172349659020459, \"n\": 990}, {\"threshold\": 0.277, \"p\": 3226, \"fpr\": 0.4353535353535353, \"tpr\": 0.916615003099814, \"n\": 990}, {\"threshold\": 0.278, \"p\": 3226, \"fpr\": 0.4353535353535353, \"tpr\": 0.916615003099814, \"n\": 990}, {\"threshold\": 0.279, \"p\": 3226, \"fpr\": 0.43434343434343436, \"tpr\": 0.9163050216986981, \"n\": 990}, {\"threshold\": 0.28, \"p\": 3226, \"fpr\": 0.43333333333333335, \"tpr\": 0.9163050216986981, \"n\": 990}, {\"threshold\": 0.281, \"p\": 3226, \"fpr\": 0.43333333333333335, \"tpr\": 0.9156850588964662, \"n\": 990}, {\"threshold\": 0.282, \"p\": 3226, \"fpr\": 0.43232323232323233, \"tpr\": 0.9156850588964662, \"n\": 990}, {\"threshold\": 0.283, \"p\": 3226, \"fpr\": 0.43232323232323233, \"tpr\": 0.9153750774953503, \"n\": 990}, {\"threshold\": 0.284, \"p\": 3226, \"fpr\": 0.43232323232323233, \"tpr\": 0.9153750774953503, \"n\": 990}, {\"threshold\": 0.285, \"p\": 3226, \"fpr\": 0.43232323232323233, \"tpr\": 0.9153750774953503, \"n\": 990}, {\"threshold\": 0.286, \"p\": 3226, \"fpr\": 0.43232323232323233, \"tpr\": 0.9150650960942344, \"n\": 990}, {\"threshold\": 0.287, \"p\": 3226, \"fpr\": 0.43232323232323233, \"tpr\": 0.9147551146931184, \"n\": 990}, {\"threshold\": 0.288, \"p\": 3226, \"fpr\": 0.43232323232323233, \"tpr\": 0.9144451332920025, \"n\": 990}, {\"threshold\": 0.289, \"p\": 3226, \"fpr\": 0.43232323232323233, \"tpr\": 0.9144451332920025, \"n\": 990}, {\"threshold\": 0.29, \"p\": 3226, \"fpr\": 0.43232323232323233, \"tpr\": 0.9144451332920025, \"n\": 990}, {\"threshold\": 0.291, \"p\": 3226, \"fpr\": 0.43232323232323233, \"tpr\": 0.9141351518908866, \"n\": 990}, {\"threshold\": 0.292, \"p\": 3226, \"fpr\": 0.43232323232323233, \"tpr\": 0.9141351518908866, \"n\": 990}, {\"threshold\": 0.293, \"p\": 3226, \"fpr\": 0.43232323232323233, \"tpr\": 0.9138251704897706, \"n\": 990}, {\"threshold\": 0.294, \"p\": 3226, \"fpr\": 0.4313131313131313, \"tpr\": 0.9138251704897706, \"n\": 990}, {\"threshold\": 0.295, \"p\": 3226, \"fpr\": 0.4303030303030303, \"tpr\": 0.9138251704897706, \"n\": 990}, {\"threshold\": 0.296, \"p\": 3226, \"fpr\": 0.4303030303030303, \"tpr\": 0.9138251704897706, \"n\": 990}, {\"threshold\": 0.297, \"p\": 3226, \"fpr\": 0.4303030303030303, \"tpr\": 0.9138251704897706, \"n\": 990}, {\"threshold\": 0.298, \"p\": 3226, \"fpr\": 0.4303030303030303, \"tpr\": 0.9138251704897706, \"n\": 990}, {\"threshold\": 0.299, \"p\": 3226, \"fpr\": 0.4303030303030303, \"tpr\": 0.9138251704897706, \"n\": 990}, {\"threshold\": 0.3, \"p\": 3226, \"fpr\": 0.4303030303030303, \"tpr\": 0.9132052076875388, \"n\": 990}, {\"threshold\": 0.301, \"p\": 3226, \"fpr\": 0.4292929292929293, \"tpr\": 0.9128952262864228, \"n\": 990}, {\"threshold\": 0.302, \"p\": 3226, \"fpr\": 0.4292929292929293, \"tpr\": 0.9125852448853069, \"n\": 990}, {\"threshold\": 0.303, \"p\": 3226, \"fpr\": 0.4292929292929293, \"tpr\": 0.912275263484191, \"n\": 990}, {\"threshold\": 0.304, \"p\": 3226, \"fpr\": 0.4292929292929293, \"tpr\": 0.911965282083075, \"n\": 990}, {\"threshold\": 0.305, \"p\": 3226, \"fpr\": 0.4292929292929293, \"tpr\": 0.9116553006819591, \"n\": 990}, {\"threshold\": 0.306, \"p\": 3226, \"fpr\": 0.4292929292929293, \"tpr\": 0.9116553006819591, \"n\": 990}, {\"threshold\": 0.307, \"p\": 3226, \"fpr\": 0.4292929292929293, \"tpr\": 0.9116553006819591, \"n\": 990}, {\"threshold\": 0.308, \"p\": 3226, \"fpr\": 0.4292929292929293, \"tpr\": 0.9116553006819591, \"n\": 990}, {\"threshold\": 0.309, \"p\": 3226, \"fpr\": 0.4292929292929293, \"tpr\": 0.9116553006819591, \"n\": 990}, {\"threshold\": 0.31, \"p\": 3226, \"fpr\": 0.4292929292929293, \"tpr\": 0.9116553006819591, \"n\": 990}, {\"threshold\": 0.311, \"p\": 3226, \"fpr\": 0.42828282828282827, \"tpr\": 0.9116553006819591, \"n\": 990}, {\"threshold\": 0.312, \"p\": 3226, \"fpr\": 0.42828282828282827, \"tpr\": 0.9116553006819591, \"n\": 990}, {\"threshold\": 0.313, \"p\": 3226, \"fpr\": 0.42828282828282827, \"tpr\": 0.9113453192808432, \"n\": 990}, {\"threshold\": 0.314, \"p\": 3226, \"fpr\": 0.42828282828282827, \"tpr\": 0.9113453192808432, \"n\": 990}, {\"threshold\": 0.315, \"p\": 3226, \"fpr\": 0.42828282828282827, \"tpr\": 0.9113453192808432, \"n\": 990}, {\"threshold\": 0.316, \"p\": 3226, \"fpr\": 0.42828282828282827, \"tpr\": 0.9113453192808432, \"n\": 990}, {\"threshold\": 0.317, \"p\": 3226, \"fpr\": 0.42828282828282827, \"tpr\": 0.9107253564786113, \"n\": 990}, {\"threshold\": 0.318, \"p\": 3226, \"fpr\": 0.42727272727272725, \"tpr\": 0.9107253564786113, \"n\": 990}, {\"threshold\": 0.319, \"p\": 3226, \"fpr\": 0.42727272727272725, \"tpr\": 0.9104153750774954, \"n\": 990}, {\"threshold\": 0.32, \"p\": 3226, \"fpr\": 0.42727272727272725, \"tpr\": 0.9104153750774954, \"n\": 990}, {\"threshold\": 0.321, \"p\": 3226, \"fpr\": 0.4262626262626263, \"tpr\": 0.9104153750774954, \"n\": 990}, {\"threshold\": 0.322, \"p\": 3226, \"fpr\": 0.4262626262626263, \"tpr\": 0.9104153750774954, \"n\": 990}, {\"threshold\": 0.323, \"p\": 3226, \"fpr\": 0.42525252525252527, \"tpr\": 0.9104153750774954, \"n\": 990}, {\"threshold\": 0.324, \"p\": 3226, \"fpr\": 0.42525252525252527, \"tpr\": 0.9104153750774954, \"n\": 990}, {\"threshold\": 0.325, \"p\": 3226, \"fpr\": 0.42525252525252527, \"tpr\": 0.9104153750774954, \"n\": 990}, {\"threshold\": 0.326, \"p\": 3226, \"fpr\": 0.42525252525252527, \"tpr\": 0.9104153750774954, \"n\": 990}, {\"threshold\": 0.327, \"p\": 3226, \"fpr\": 0.42525252525252527, \"tpr\": 0.9104153750774954, \"n\": 990}, {\"threshold\": 0.328, \"p\": 3226, \"fpr\": 0.42525252525252527, \"tpr\": 0.9104153750774954, \"n\": 990}, {\"threshold\": 0.329, \"p\": 3226, \"fpr\": 0.42525252525252527, \"tpr\": 0.9104153750774954, \"n\": 990}, {\"threshold\": 0.33, \"p\": 3226, \"fpr\": 0.42525252525252527, \"tpr\": 0.9104153750774954, \"n\": 990}, {\"threshold\": 0.331, \"p\": 3226, \"fpr\": 0.42525252525252527, \"tpr\": 0.9101053936763794, \"n\": 990}, {\"threshold\": 0.332, \"p\": 3226, \"fpr\": 0.42525252525252527, \"tpr\": 0.9101053936763794, \"n\": 990}, {\"threshold\": 0.333, \"p\": 3226, \"fpr\": 0.42525252525252527, \"tpr\": 0.9097954122752635, \"n\": 990}, {\"threshold\": 0.334, \"p\": 3226, \"fpr\": 0.42525252525252527, \"tpr\": 0.9097954122752635, \"n\": 990}, {\"threshold\": 0.335, \"p\": 3226, \"fpr\": 0.42323232323232324, \"tpr\": 0.9097954122752635, \"n\": 990}, {\"threshold\": 0.336, \"p\": 3226, \"fpr\": 0.4222222222222222, \"tpr\": 0.9097954122752635, \"n\": 990}, {\"threshold\": 0.337, \"p\": 3226, \"fpr\": 0.4222222222222222, \"tpr\": 0.9097954122752635, \"n\": 990}, {\"threshold\": 0.338, \"p\": 3226, \"fpr\": 0.4222222222222222, \"tpr\": 0.9094854308741476, \"n\": 990}, {\"threshold\": 0.339, \"p\": 3226, \"fpr\": 0.4222222222222222, \"tpr\": 0.9094854308741476, \"n\": 990}, {\"threshold\": 0.34, \"p\": 3226, \"fpr\": 0.4212121212121212, \"tpr\": 0.9094854308741476, \"n\": 990}, {\"threshold\": 0.341, \"p\": 3226, \"fpr\": 0.4212121212121212, \"tpr\": 0.9094854308741476, \"n\": 990}, {\"threshold\": 0.342, \"p\": 3226, \"fpr\": 0.4212121212121212, \"tpr\": 0.9091754494730316, \"n\": 990}, {\"threshold\": 0.343, \"p\": 3226, \"fpr\": 0.4212121212121212, \"tpr\": 0.9091754494730316, \"n\": 990}, {\"threshold\": 0.344, \"p\": 3226, \"fpr\": 0.4212121212121212, \"tpr\": 0.9091754494730316, \"n\": 990}, {\"threshold\": 0.345, \"p\": 3226, \"fpr\": 0.4202020202020202, \"tpr\": 0.9091754494730316, \"n\": 990}, {\"threshold\": 0.346, \"p\": 3226, \"fpr\": 0.4202020202020202, \"tpr\": 0.9091754494730316, \"n\": 990}, {\"threshold\": 0.347, \"p\": 3226, \"fpr\": 0.4202020202020202, \"tpr\": 0.9088654680719157, \"n\": 990}, {\"threshold\": 0.348, \"p\": 3226, \"fpr\": 0.4202020202020202, \"tpr\": 0.9085554866707998, \"n\": 990}, {\"threshold\": 0.349, \"p\": 3226, \"fpr\": 0.4202020202020202, \"tpr\": 0.9085554866707998, \"n\": 990}, {\"threshold\": 0.35, \"p\": 3226, \"fpr\": 0.4202020202020202, \"tpr\": 0.9085554866707998, \"n\": 990}, {\"threshold\": 0.351, \"p\": 3226, \"fpr\": 0.4202020202020202, \"tpr\": 0.9085554866707998, \"n\": 990}, {\"threshold\": 0.352, \"p\": 3226, \"fpr\": 0.4202020202020202, \"tpr\": 0.9085554866707998, \"n\": 990}, {\"threshold\": 0.353, \"p\": 3226, \"fpr\": 0.41919191919191917, \"tpr\": 0.9085554866707998, \"n\": 990}, {\"threshold\": 0.354, \"p\": 3226, \"fpr\": 0.41919191919191917, \"tpr\": 0.9082455052696838, \"n\": 990}, {\"threshold\": 0.355, \"p\": 3226, \"fpr\": 0.41818181818181815, \"tpr\": 0.9082455052696838, \"n\": 990}, {\"threshold\": 0.356, \"p\": 3226, \"fpr\": 0.41818181818181815, \"tpr\": 0.9082455052696838, \"n\": 990}, {\"threshold\": 0.357, \"p\": 3226, \"fpr\": 0.41818181818181815, \"tpr\": 0.9082455052696838, \"n\": 990}, {\"threshold\": 0.358, \"p\": 3226, \"fpr\": 0.41818181818181815, \"tpr\": 0.9082455052696838, \"n\": 990}, {\"threshold\": 0.359, \"p\": 3226, \"fpr\": 0.41818181818181815, \"tpr\": 0.9082455052696838, \"n\": 990}, {\"threshold\": 0.36, \"p\": 3226, \"fpr\": 0.4171717171717172, \"tpr\": 0.9082455052696838, \"n\": 990}, {\"threshold\": 0.361, \"p\": 3226, \"fpr\": 0.4171717171717172, \"tpr\": 0.9082455052696838, \"n\": 990}, {\"threshold\": 0.362, \"p\": 3226, \"fpr\": 0.4171717171717172, \"tpr\": 0.9082455052696838, \"n\": 990}, {\"threshold\": 0.363, \"p\": 3226, \"fpr\": 0.4171717171717172, \"tpr\": 0.9082455052696838, \"n\": 990}, {\"threshold\": 0.364, \"p\": 3226, \"fpr\": 0.4171717171717172, \"tpr\": 0.9079355238685679, \"n\": 990}, {\"threshold\": 0.365, \"p\": 3226, \"fpr\": 0.4171717171717172, \"tpr\": 0.9079355238685679, \"n\": 990}, {\"threshold\": 0.366, \"p\": 3226, \"fpr\": 0.4171717171717172, \"tpr\": 0.9079355238685679, \"n\": 990}, {\"threshold\": 0.367, \"p\": 3226, \"fpr\": 0.4171717171717172, \"tpr\": 0.907625542467452, \"n\": 990}, {\"threshold\": 0.368, \"p\": 3226, \"fpr\": 0.4171717171717172, \"tpr\": 0.907625542467452, \"n\": 990}, {\"threshold\": 0.369, \"p\": 3226, \"fpr\": 0.4171717171717172, \"tpr\": 0.907315561066336, \"n\": 990}, {\"threshold\": 0.37, \"p\": 3226, \"fpr\": 0.4171717171717172, \"tpr\": 0.907315561066336, \"n\": 990}, {\"threshold\": 0.371, \"p\": 3226, \"fpr\": 0.4171717171717172, \"tpr\": 0.907315561066336, \"n\": 990}, {\"threshold\": 0.372, \"p\": 3226, \"fpr\": 0.4171717171717172, \"tpr\": 0.907315561066336, \"n\": 990}, {\"threshold\": 0.373, \"p\": 3226, \"fpr\": 0.4171717171717172, \"tpr\": 0.9070055796652201, \"n\": 990}, {\"threshold\": 0.374, \"p\": 3226, \"fpr\": 0.4171717171717172, \"tpr\": 0.9070055796652201, \"n\": 990}, {\"threshold\": 0.375, \"p\": 3226, \"fpr\": 0.4171717171717172, \"tpr\": 0.9070055796652201, \"n\": 990}, {\"threshold\": 0.376, \"p\": 3226, \"fpr\": 0.4171717171717172, \"tpr\": 0.9070055796652201, \"n\": 990}, {\"threshold\": 0.377, \"p\": 3226, \"fpr\": 0.4171717171717172, \"tpr\": 0.9070055796652201, \"n\": 990}, {\"threshold\": 0.378, \"p\": 3226, \"fpr\": 0.4171717171717172, \"tpr\": 0.9070055796652201, \"n\": 990}, {\"threshold\": 0.379, \"p\": 3226, \"fpr\": 0.4171717171717172, \"tpr\": 0.9070055796652201, \"n\": 990}, {\"threshold\": 0.38, \"p\": 3226, \"fpr\": 0.4171717171717172, \"tpr\": 0.9066955982641042, \"n\": 990}, {\"threshold\": 0.381, \"p\": 3226, \"fpr\": 0.4171717171717172, \"tpr\": 0.9066955982641042, \"n\": 990}, {\"threshold\": 0.382, \"p\": 3226, \"fpr\": 0.4161616161616162, \"tpr\": 0.9066955982641042, \"n\": 990}, {\"threshold\": 0.383, \"p\": 3226, \"fpr\": 0.4161616161616162, \"tpr\": 0.9066955982641042, \"n\": 990}, {\"threshold\": 0.384, \"p\": 3226, \"fpr\": 0.41414141414141414, \"tpr\": 0.9066955982641042, \"n\": 990}, {\"threshold\": 0.385, \"p\": 3226, \"fpr\": 0.41414141414141414, \"tpr\": 0.9063856168629882, \"n\": 990}, {\"threshold\": 0.386, \"p\": 3226, \"fpr\": 0.41414141414141414, \"tpr\": 0.9060756354618723, \"n\": 990}, {\"threshold\": 0.387, \"p\": 3226, \"fpr\": 0.41414141414141414, \"tpr\": 0.9060756354618723, \"n\": 990}, {\"threshold\": 0.388, \"p\": 3226, \"fpr\": 0.41414141414141414, \"tpr\": 0.9057656540607564, \"n\": 990}, {\"threshold\": 0.389, \"p\": 3226, \"fpr\": 0.41414141414141414, \"tpr\": 0.9057656540607564, \"n\": 990}, {\"threshold\": 0.39, \"p\": 3226, \"fpr\": 0.41414141414141414, \"tpr\": 0.9057656540607564, \"n\": 990}, {\"threshold\": 0.391, \"p\": 3226, \"fpr\": 0.41414141414141414, \"tpr\": 0.9054556726596404, \"n\": 990}, {\"threshold\": 0.392, \"p\": 3226, \"fpr\": 0.4131313131313131, \"tpr\": 0.9054556726596404, \"n\": 990}, {\"threshold\": 0.393, \"p\": 3226, \"fpr\": 0.4131313131313131, \"tpr\": 0.9054556726596404, \"n\": 990}, {\"threshold\": 0.394, \"p\": 3226, \"fpr\": 0.4131313131313131, \"tpr\": 0.9054556726596404, \"n\": 990}, {\"threshold\": 0.395, \"p\": 3226, \"fpr\": 0.4131313131313131, \"tpr\": 0.9054556726596404, \"n\": 990}, {\"threshold\": 0.396, \"p\": 3226, \"fpr\": 0.4131313131313131, \"tpr\": 0.9051456912585245, \"n\": 990}, {\"threshold\": 0.397, \"p\": 3226, \"fpr\": 0.4131313131313131, \"tpr\": 0.9048357098574086, \"n\": 990}, {\"threshold\": 0.398, \"p\": 3226, \"fpr\": 0.4131313131313131, \"tpr\": 0.9048357098574086, \"n\": 990}, {\"threshold\": 0.399, \"p\": 3226, \"fpr\": 0.4131313131313131, \"tpr\": 0.9045257284562926, \"n\": 990}, {\"threshold\": 0.4, \"p\": 3226, \"fpr\": 0.4131313131313131, \"tpr\": 0.9045257284562926, \"n\": 990}, {\"threshold\": 0.401, \"p\": 3226, \"fpr\": 0.4131313131313131, \"tpr\": 0.9045257284562926, \"n\": 990}, {\"threshold\": 0.402, \"p\": 3226, \"fpr\": 0.4131313131313131, \"tpr\": 0.9039057656540608, \"n\": 990}, {\"threshold\": 0.403, \"p\": 3226, \"fpr\": 0.4131313131313131, \"tpr\": 0.9039057656540608, \"n\": 990}, {\"threshold\": 0.404, \"p\": 3226, \"fpr\": 0.4131313131313131, \"tpr\": 0.9039057656540608, \"n\": 990}, {\"threshold\": 0.405, \"p\": 3226, \"fpr\": 0.4131313131313131, \"tpr\": 0.9039057656540608, \"n\": 990}, {\"threshold\": 0.406, \"p\": 3226, \"fpr\": 0.4131313131313131, \"tpr\": 0.9039057656540608, \"n\": 990}, {\"threshold\": 0.407, \"p\": 3226, \"fpr\": 0.4131313131313131, \"tpr\": 0.9039057656540608, \"n\": 990}, {\"threshold\": 0.408, \"p\": 3226, \"fpr\": 0.4131313131313131, \"tpr\": 0.9039057656540608, \"n\": 990}, {\"threshold\": 0.409, \"p\": 3226, \"fpr\": 0.4131313131313131, \"tpr\": 0.9039057656540608, \"n\": 990}, {\"threshold\": 0.41, \"p\": 3226, \"fpr\": 0.4131313131313131, \"tpr\": 0.9039057656540608, \"n\": 990}, {\"threshold\": 0.411, \"p\": 3226, \"fpr\": 0.4131313131313131, \"tpr\": 0.9039057656540608, \"n\": 990}, {\"threshold\": 0.412, \"p\": 3226, \"fpr\": 0.4131313131313131, \"tpr\": 0.9039057656540608, \"n\": 990}, {\"threshold\": 0.413, \"p\": 3226, \"fpr\": 0.4131313131313131, \"tpr\": 0.9039057656540608, \"n\": 990}, {\"threshold\": 0.414, \"p\": 3226, \"fpr\": 0.4131313131313131, \"tpr\": 0.9039057656540608, \"n\": 990}, {\"threshold\": 0.415, \"p\": 3226, \"fpr\": 0.4131313131313131, \"tpr\": 0.9035957842529448, \"n\": 990}, {\"threshold\": 0.416, \"p\": 3226, \"fpr\": 0.4121212121212121, \"tpr\": 0.9035957842529448, \"n\": 990}, {\"threshold\": 0.417, \"p\": 3226, \"fpr\": 0.4121212121212121, \"tpr\": 0.9035957842529448, \"n\": 990}, {\"threshold\": 0.418, \"p\": 3226, \"fpr\": 0.4121212121212121, \"tpr\": 0.9035957842529448, \"n\": 990}, {\"threshold\": 0.419, \"p\": 3226, \"fpr\": 0.4121212121212121, \"tpr\": 0.9035957842529448, \"n\": 990}, {\"threshold\": 0.42, \"p\": 3226, \"fpr\": 0.4121212121212121, \"tpr\": 0.9035957842529448, \"n\": 990}, {\"threshold\": 0.421, \"p\": 3226, \"fpr\": 0.4121212121212121, \"tpr\": 0.9035957842529448, \"n\": 990}, {\"threshold\": 0.422, \"p\": 3226, \"fpr\": 0.4121212121212121, \"tpr\": 0.9032858028518289, \"n\": 990}, {\"threshold\": 0.423, \"p\": 3226, \"fpr\": 0.4121212121212121, \"tpr\": 0.902975821450713, \"n\": 990}, {\"threshold\": 0.424, \"p\": 3226, \"fpr\": 0.4121212121212121, \"tpr\": 0.902975821450713, \"n\": 990}, {\"threshold\": 0.425, \"p\": 3226, \"fpr\": 0.4121212121212121, \"tpr\": 0.902665840049597, \"n\": 990}, {\"threshold\": 0.426, \"p\": 3226, \"fpr\": 0.4121212121212121, \"tpr\": 0.902665840049597, \"n\": 990}, {\"threshold\": 0.427, \"p\": 3226, \"fpr\": 0.4121212121212121, \"tpr\": 0.902665840049597, \"n\": 990}, {\"threshold\": 0.428, \"p\": 3226, \"fpr\": 0.4111111111111111, \"tpr\": 0.9023558586484811, \"n\": 990}, {\"threshold\": 0.429, \"p\": 3226, \"fpr\": 0.4111111111111111, \"tpr\": 0.9023558586484811, \"n\": 990}, {\"threshold\": 0.43, \"p\": 3226, \"fpr\": 0.4101010101010101, \"tpr\": 0.9023558586484811, \"n\": 990}, {\"threshold\": 0.431, \"p\": 3226, \"fpr\": 0.4090909090909091, \"tpr\": 0.9023558586484811, \"n\": 990}, {\"threshold\": 0.432, \"p\": 3226, \"fpr\": 0.4090909090909091, \"tpr\": 0.9017358958462492, \"n\": 990}, {\"threshold\": 0.433, \"p\": 3226, \"fpr\": 0.4080808080808081, \"tpr\": 0.9017358958462492, \"n\": 990}, {\"threshold\": 0.434, \"p\": 3226, \"fpr\": 0.4080808080808081, \"tpr\": 0.9017358958462492, \"n\": 990}, {\"threshold\": 0.435, \"p\": 3226, \"fpr\": 0.4080808080808081, \"tpr\": 0.9017358958462492, \"n\": 990}, {\"threshold\": 0.436, \"p\": 3226, \"fpr\": 0.4080808080808081, \"tpr\": 0.9017358958462492, \"n\": 990}, {\"threshold\": 0.437, \"p\": 3226, \"fpr\": 0.4080808080808081, \"tpr\": 0.9017358958462492, \"n\": 990}, {\"threshold\": 0.438, \"p\": 3226, \"fpr\": 0.40606060606060607, \"tpr\": 0.9014259144451333, \"n\": 990}, {\"threshold\": 0.439, \"p\": 3226, \"fpr\": 0.40606060606060607, \"tpr\": 0.9011159330440174, \"n\": 990}, {\"threshold\": 0.44, \"p\": 3226, \"fpr\": 0.40606060606060607, \"tpr\": 0.9011159330440174, \"n\": 990}, {\"threshold\": 0.441, \"p\": 3226, \"fpr\": 0.40606060606060607, \"tpr\": 0.9011159330440174, \"n\": 990}, {\"threshold\": 0.442, \"p\": 3226, \"fpr\": 0.40404040404040403, \"tpr\": 0.9011159330440174, \"n\": 990}, {\"threshold\": 0.443, \"p\": 3226, \"fpr\": 0.403030303030303, \"tpr\": 0.9011159330440174, \"n\": 990}, {\"threshold\": 0.444, \"p\": 3226, \"fpr\": 0.403030303030303, \"tpr\": 0.9011159330440174, \"n\": 990}, {\"threshold\": 0.445, \"p\": 3226, \"fpr\": 0.403030303030303, \"tpr\": 0.9011159330440174, \"n\": 990}, {\"threshold\": 0.446, \"p\": 3226, \"fpr\": 0.402020202020202, \"tpr\": 0.9011159330440174, \"n\": 990}, {\"threshold\": 0.447, \"p\": 3226, \"fpr\": 0.401010101010101, \"tpr\": 0.9011159330440174, \"n\": 990}, {\"threshold\": 0.448, \"p\": 3226, \"fpr\": 0.401010101010101, \"tpr\": 0.9011159330440174, \"n\": 990}, {\"threshold\": 0.449, \"p\": 3226, \"fpr\": 0.401010101010101, \"tpr\": 0.9011159330440174, \"n\": 990}, {\"threshold\": 0.45, \"p\": 3226, \"fpr\": 0.401010101010101, \"tpr\": 0.9011159330440174, \"n\": 990}, {\"threshold\": 0.451, \"p\": 3226, \"fpr\": 0.401010101010101, \"tpr\": 0.9011159330440174, \"n\": 990}, {\"threshold\": 0.452, \"p\": 3226, \"fpr\": 0.401010101010101, \"tpr\": 0.9011159330440174, \"n\": 990}, {\"threshold\": 0.453, \"p\": 3226, \"fpr\": 0.4, \"tpr\": 0.9011159330440174, \"n\": 990}, {\"threshold\": 0.454, \"p\": 3226, \"fpr\": 0.4, \"tpr\": 0.9011159330440174, \"n\": 990}, {\"threshold\": 0.455, \"p\": 3226, \"fpr\": 0.397979797979798, \"tpr\": 0.9011159330440174, \"n\": 990}, {\"threshold\": 0.456, \"p\": 3226, \"fpr\": 0.397979797979798, \"tpr\": 0.9011159330440174, \"n\": 990}, {\"threshold\": 0.457, \"p\": 3226, \"fpr\": 0.397979797979798, \"tpr\": 0.9011159330440174, \"n\": 990}, {\"threshold\": 0.458, \"p\": 3226, \"fpr\": 0.396969696969697, \"tpr\": 0.9011159330440174, \"n\": 990}, {\"threshold\": 0.459, \"p\": 3226, \"fpr\": 0.396969696969697, \"tpr\": 0.9011159330440174, \"n\": 990}, {\"threshold\": 0.46, \"p\": 3226, \"fpr\": 0.396969696969697, \"tpr\": 0.9011159330440174, \"n\": 990}, {\"threshold\": 0.461, \"p\": 3226, \"fpr\": 0.39595959595959596, \"tpr\": 0.9008059516429014, \"n\": 990}, {\"threshold\": 0.462, \"p\": 3226, \"fpr\": 0.39494949494949494, \"tpr\": 0.9004959702417855, \"n\": 990}, {\"threshold\": 0.463, \"p\": 3226, \"fpr\": 0.39494949494949494, \"tpr\": 0.9001859888406696, \"n\": 990}, {\"threshold\": 0.464, \"p\": 3226, \"fpr\": 0.39494949494949494, \"tpr\": 0.9001859888406696, \"n\": 990}, {\"threshold\": 0.465, \"p\": 3226, \"fpr\": 0.3939393939393939, \"tpr\": 0.9001859888406696, \"n\": 990}, {\"threshold\": 0.466, \"p\": 3226, \"fpr\": 0.3939393939393939, \"tpr\": 0.9001859888406696, \"n\": 990}, {\"threshold\": 0.467, \"p\": 3226, \"fpr\": 0.3939393939393939, \"tpr\": 0.8998760074395536, \"n\": 990}, {\"threshold\": 0.468, \"p\": 3226, \"fpr\": 0.3939393939393939, \"tpr\": 0.8995660260384377, \"n\": 990}, {\"threshold\": 0.469, \"p\": 3226, \"fpr\": 0.3939393939393939, \"tpr\": 0.8995660260384377, \"n\": 990}, {\"threshold\": 0.47, \"p\": 3226, \"fpr\": 0.3939393939393939, \"tpr\": 0.8995660260384377, \"n\": 990}, {\"threshold\": 0.471, \"p\": 3226, \"fpr\": 0.3929292929292929, \"tpr\": 0.8995660260384377, \"n\": 990}, {\"threshold\": 0.472, \"p\": 3226, \"fpr\": 0.3929292929292929, \"tpr\": 0.8995660260384377, \"n\": 990}, {\"threshold\": 0.473, \"p\": 3226, \"fpr\": 0.3929292929292929, \"tpr\": 0.8992560446373218, \"n\": 990}, {\"threshold\": 0.474, \"p\": 3226, \"fpr\": 0.3929292929292929, \"tpr\": 0.8992560446373218, \"n\": 990}, {\"threshold\": 0.475, \"p\": 3226, \"fpr\": 0.39191919191919194, \"tpr\": 0.8992560446373218, \"n\": 990}, {\"threshold\": 0.476, \"p\": 3226, \"fpr\": 0.39191919191919194, \"tpr\": 0.8992560446373218, \"n\": 990}, {\"threshold\": 0.477, \"p\": 3226, \"fpr\": 0.39090909090909093, \"tpr\": 0.8992560446373218, \"n\": 990}, {\"threshold\": 0.478, \"p\": 3226, \"fpr\": 0.39090909090909093, \"tpr\": 0.8992560446373218, \"n\": 990}, {\"threshold\": 0.479, \"p\": 3226, \"fpr\": 0.39090909090909093, \"tpr\": 0.8992560446373218, \"n\": 990}, {\"threshold\": 0.48, \"p\": 3226, \"fpr\": 0.39090909090909093, \"tpr\": 0.8992560446373218, \"n\": 990}, {\"threshold\": 0.481, \"p\": 3226, \"fpr\": 0.39090909090909093, \"tpr\": 0.8992560446373218, \"n\": 990}, {\"threshold\": 0.482, \"p\": 3226, \"fpr\": 0.39090909090909093, \"tpr\": 0.8989460632362059, \"n\": 990}, {\"threshold\": 0.483, \"p\": 3226, \"fpr\": 0.3898989898989899, \"tpr\": 0.8989460632362059, \"n\": 990}, {\"threshold\": 0.484, \"p\": 3226, \"fpr\": 0.3898989898989899, \"tpr\": 0.8989460632362059, \"n\": 990}, {\"threshold\": 0.485, \"p\": 3226, \"fpr\": 0.3898989898989899, \"tpr\": 0.8989460632362059, \"n\": 990}, {\"threshold\": 0.486, \"p\": 3226, \"fpr\": 0.3898989898989899, \"tpr\": 0.8989460632362059, \"n\": 990}, {\"threshold\": 0.487, \"p\": 3226, \"fpr\": 0.3898989898989899, \"tpr\": 0.8989460632362059, \"n\": 990}, {\"threshold\": 0.488, \"p\": 3226, \"fpr\": 0.3898989898989899, \"tpr\": 0.8989460632362059, \"n\": 990}, {\"threshold\": 0.489, \"p\": 3226, \"fpr\": 0.3898989898989899, \"tpr\": 0.8986360818350899, \"n\": 990}, {\"threshold\": 0.49, \"p\": 3226, \"fpr\": 0.3898989898989899, \"tpr\": 0.898016119032858, \"n\": 990}, {\"threshold\": 0.491, \"p\": 3226, \"fpr\": 0.3898989898989899, \"tpr\": 0.8977061376317421, \"n\": 990}, {\"threshold\": 0.492, \"p\": 3226, \"fpr\": 0.3898989898989899, \"tpr\": 0.8977061376317421, \"n\": 990}, {\"threshold\": 0.493, \"p\": 3226, \"fpr\": 0.3888888888888889, \"tpr\": 0.8977061376317421, \"n\": 990}, {\"threshold\": 0.494, \"p\": 3226, \"fpr\": 0.3888888888888889, \"tpr\": 0.8973961562306262, \"n\": 990}, {\"threshold\": 0.495, \"p\": 3226, \"fpr\": 0.3878787878787879, \"tpr\": 0.8970861748295103, \"n\": 990}, {\"threshold\": 0.496, \"p\": 3226, \"fpr\": 0.3878787878787879, \"tpr\": 0.8964662120272784, \"n\": 990}, {\"threshold\": 0.497, \"p\": 3226, \"fpr\": 0.3878787878787879, \"tpr\": 0.8964662120272784, \"n\": 990}, {\"threshold\": 0.498, \"p\": 3226, \"fpr\": 0.3878787878787879, \"tpr\": 0.8964662120272784, \"n\": 990}, {\"threshold\": 0.499, \"p\": 3226, \"fpr\": 0.3878787878787879, \"tpr\": 0.8964662120272784, \"n\": 990}, {\"threshold\": 0.5, \"p\": 3226, \"fpr\": 0.3878787878787879, \"tpr\": 0.8964662120272784, \"n\": 990}, {\"threshold\": 0.501, \"p\": 3226, \"fpr\": 0.3878787878787879, \"tpr\": 0.8958462492250465, \"n\": 990}, {\"threshold\": 0.502, \"p\": 3226, \"fpr\": 0.3878787878787879, \"tpr\": 0.8958462492250465, \"n\": 990}, {\"threshold\": 0.503, \"p\": 3226, \"fpr\": 0.3878787878787879, \"tpr\": 0.8958462492250465, \"n\": 990}, {\"threshold\": 0.504, \"p\": 3226, \"fpr\": 0.38686868686868686, \"tpr\": 0.8955362678239306, \"n\": 990}, {\"threshold\": 0.505, \"p\": 3226, \"fpr\": 0.38686868686868686, \"tpr\": 0.8955362678239306, \"n\": 990}, {\"threshold\": 0.506, \"p\": 3226, \"fpr\": 0.38585858585858585, \"tpr\": 0.8952262864228147, \"n\": 990}, {\"threshold\": 0.507, \"p\": 3226, \"fpr\": 0.38585858585858585, \"tpr\": 0.8952262864228147, \"n\": 990}, {\"threshold\": 0.508, \"p\": 3226, \"fpr\": 0.38585858585858585, \"tpr\": 0.8949163050216987, \"n\": 990}, {\"threshold\": 0.509, \"p\": 3226, \"fpr\": 0.38484848484848483, \"tpr\": 0.8949163050216987, \"n\": 990}, {\"threshold\": 0.51, \"p\": 3226, \"fpr\": 0.38484848484848483, \"tpr\": 0.8949163050216987, \"n\": 990}, {\"threshold\": 0.511, \"p\": 3226, \"fpr\": 0.38484848484848483, \"tpr\": 0.8942963422194669, \"n\": 990}, {\"threshold\": 0.512, \"p\": 3226, \"fpr\": 0.38484848484848483, \"tpr\": 0.8942963422194669, \"n\": 990}, {\"threshold\": 0.513, \"p\": 3226, \"fpr\": 0.38484848484848483, \"tpr\": 0.8942963422194669, \"n\": 990}, {\"threshold\": 0.514, \"p\": 3226, \"fpr\": 0.38484848484848483, \"tpr\": 0.8939863608183509, \"n\": 990}, {\"threshold\": 0.515, \"p\": 3226, \"fpr\": 0.3838383838383838, \"tpr\": 0.8939863608183509, \"n\": 990}, {\"threshold\": 0.516, \"p\": 3226, \"fpr\": 0.3838383838383838, \"tpr\": 0.893676379417235, \"n\": 990}, {\"threshold\": 0.517, \"p\": 3226, \"fpr\": 0.38282828282828285, \"tpr\": 0.8933663980161191, \"n\": 990}, {\"threshold\": 0.518, \"p\": 3226, \"fpr\": 0.38282828282828285, \"tpr\": 0.8933663980161191, \"n\": 990}, {\"threshold\": 0.519, \"p\": 3226, \"fpr\": 0.38181818181818183, \"tpr\": 0.8933663980161191, \"n\": 990}, {\"threshold\": 0.52, \"p\": 3226, \"fpr\": 0.38181818181818183, \"tpr\": 0.8933663980161191, \"n\": 990}, {\"threshold\": 0.521, \"p\": 3226, \"fpr\": 0.38181818181818183, \"tpr\": 0.8933663980161191, \"n\": 990}, {\"threshold\": 0.522, \"p\": 3226, \"fpr\": 0.38181818181818183, \"tpr\": 0.8930564166150031, \"n\": 990}, {\"threshold\": 0.523, \"p\": 3226, \"fpr\": 0.38181818181818183, \"tpr\": 0.8930564166150031, \"n\": 990}, {\"threshold\": 0.524, \"p\": 3226, \"fpr\": 0.38181818181818183, \"tpr\": 0.8930564166150031, \"n\": 990}, {\"threshold\": 0.525, \"p\": 3226, \"fpr\": 0.38181818181818183, \"tpr\": 0.8930564166150031, \"n\": 990}, {\"threshold\": 0.526, \"p\": 3226, \"fpr\": 0.38181818181818183, \"tpr\": 0.8930564166150031, \"n\": 990}, {\"threshold\": 0.527, \"p\": 3226, \"fpr\": 0.38181818181818183, \"tpr\": 0.8930564166150031, \"n\": 990}, {\"threshold\": 0.528, \"p\": 3226, \"fpr\": 0.38181818181818183, \"tpr\": 0.8930564166150031, \"n\": 990}, {\"threshold\": 0.529, \"p\": 3226, \"fpr\": 0.38181818181818183, \"tpr\": 0.8930564166150031, \"n\": 990}, {\"threshold\": 0.53, \"p\": 3226, \"fpr\": 0.38181818181818183, \"tpr\": 0.8930564166150031, \"n\": 990}, {\"threshold\": 0.531, \"p\": 3226, \"fpr\": 0.38181818181818183, \"tpr\": 0.8918164910105394, \"n\": 990}, {\"threshold\": 0.532, \"p\": 3226, \"fpr\": 0.38181818181818183, \"tpr\": 0.8918164910105394, \"n\": 990}, {\"threshold\": 0.533, \"p\": 3226, \"fpr\": 0.38181818181818183, \"tpr\": 0.8915065096094235, \"n\": 990}, {\"threshold\": 0.534, \"p\": 3226, \"fpr\": 0.38181818181818183, \"tpr\": 0.8915065096094235, \"n\": 990}, {\"threshold\": 0.535, \"p\": 3226, \"fpr\": 0.38181818181818183, \"tpr\": 0.8911965282083075, \"n\": 990}, {\"threshold\": 0.536, \"p\": 3226, \"fpr\": 0.38181818181818183, \"tpr\": 0.8911965282083075, \"n\": 990}, {\"threshold\": 0.537, \"p\": 3226, \"fpr\": 0.38181818181818183, \"tpr\": 0.8911965282083075, \"n\": 990}, {\"threshold\": 0.538, \"p\": 3226, \"fpr\": 0.38181818181818183, \"tpr\": 0.8911965282083075, \"n\": 990}, {\"threshold\": 0.539, \"p\": 3226, \"fpr\": 0.38181818181818183, \"tpr\": 0.8911965282083075, \"n\": 990}, {\"threshold\": 0.54, \"p\": 3226, \"fpr\": 0.38181818181818183, \"tpr\": 0.8911965282083075, \"n\": 990}, {\"threshold\": 0.541, \"p\": 3226, \"fpr\": 0.38181818181818183, \"tpr\": 0.8911965282083075, \"n\": 990}, {\"threshold\": 0.542, \"p\": 3226, \"fpr\": 0.38181818181818183, \"tpr\": 0.8911965282083075, \"n\": 990}, {\"threshold\": 0.543, \"p\": 3226, \"fpr\": 0.38181818181818183, \"tpr\": 0.8911965282083075, \"n\": 990}, {\"threshold\": 0.544, \"p\": 3226, \"fpr\": 0.3808080808080808, \"tpr\": 0.8911965282083075, \"n\": 990}, {\"threshold\": 0.545, \"p\": 3226, \"fpr\": 0.3797979797979798, \"tpr\": 0.8908865468071916, \"n\": 990}, {\"threshold\": 0.546, \"p\": 3226, \"fpr\": 0.3797979797979798, \"tpr\": 0.8902665840049597, \"n\": 990}, {\"threshold\": 0.547, \"p\": 3226, \"fpr\": 0.3797979797979798, \"tpr\": 0.8902665840049597, \"n\": 990}, {\"threshold\": 0.548, \"p\": 3226, \"fpr\": 0.3787878787878788, \"tpr\": 0.8902665840049597, \"n\": 990}, {\"threshold\": 0.549, \"p\": 3226, \"fpr\": 0.3787878787878788, \"tpr\": 0.8896466212027279, \"n\": 990}, {\"threshold\": 0.55, \"p\": 3226, \"fpr\": 0.3787878787878788, \"tpr\": 0.8896466212027279, \"n\": 990}, {\"threshold\": 0.551, \"p\": 3226, \"fpr\": 0.37777777777777777, \"tpr\": 0.8893366398016119, \"n\": 990}, {\"threshold\": 0.552, \"p\": 3226, \"fpr\": 0.37777777777777777, \"tpr\": 0.8893366398016119, \"n\": 990}, {\"threshold\": 0.553, \"p\": 3226, \"fpr\": 0.37777777777777777, \"tpr\": 0.8893366398016119, \"n\": 990}, {\"threshold\": 0.554, \"p\": 3226, \"fpr\": 0.37777777777777777, \"tpr\": 0.8893366398016119, \"n\": 990}, {\"threshold\": 0.555, \"p\": 3226, \"fpr\": 0.37777777777777777, \"tpr\": 0.8893366398016119, \"n\": 990}, {\"threshold\": 0.556, \"p\": 3226, \"fpr\": 0.37777777777777777, \"tpr\": 0.8893366398016119, \"n\": 990}, {\"threshold\": 0.557, \"p\": 3226, \"fpr\": 0.37777777777777777, \"tpr\": 0.889026658400496, \"n\": 990}, {\"threshold\": 0.558, \"p\": 3226, \"fpr\": 0.37777777777777777, \"tpr\": 0.8880967141971482, \"n\": 990}, {\"threshold\": 0.559, \"p\": 3226, \"fpr\": 0.37777777777777777, \"tpr\": 0.8880967141971482, \"n\": 990}, {\"threshold\": 0.56, \"p\": 3226, \"fpr\": 0.37777777777777777, \"tpr\": 0.8880967141971482, \"n\": 990}, {\"threshold\": 0.561, \"p\": 3226, \"fpr\": 0.37777777777777777, \"tpr\": 0.8880967141971482, \"n\": 990}, {\"threshold\": 0.562, \"p\": 3226, \"fpr\": 0.37777777777777777, \"tpr\": 0.8880967141971482, \"n\": 990}, {\"threshold\": 0.563, \"p\": 3226, \"fpr\": 0.37777777777777777, \"tpr\": 0.8880967141971482, \"n\": 990}, {\"threshold\": 0.564, \"p\": 3226, \"fpr\": 0.37777777777777777, \"tpr\": 0.8880967141971482, \"n\": 990}, {\"threshold\": 0.565, \"p\": 3226, \"fpr\": 0.37777777777777777, \"tpr\": 0.8880967141971482, \"n\": 990}, {\"threshold\": 0.566, \"p\": 3226, \"fpr\": 0.37676767676767675, \"tpr\": 0.8877867327960323, \"n\": 990}, {\"threshold\": 0.567, \"p\": 3226, \"fpr\": 0.37575757575757573, \"tpr\": 0.8871667699938004, \"n\": 990}, {\"threshold\": 0.568, \"p\": 3226, \"fpr\": 0.37575757575757573, \"tpr\": 0.8868567885926845, \"n\": 990}, {\"threshold\": 0.569, \"p\": 3226, \"fpr\": 0.3747474747474748, \"tpr\": 0.8865468071915685, \"n\": 990}, {\"threshold\": 0.57, \"p\": 3226, \"fpr\": 0.3747474747474748, \"tpr\": 0.8865468071915685, \"n\": 990}, {\"threshold\": 0.571, \"p\": 3226, \"fpr\": 0.3747474747474748, \"tpr\": 0.8865468071915685, \"n\": 990}, {\"threshold\": 0.572, \"p\": 3226, \"fpr\": 0.3747474747474748, \"tpr\": 0.8865468071915685, \"n\": 990}, {\"threshold\": 0.573, \"p\": 3226, \"fpr\": 0.3747474747474748, \"tpr\": 0.8865468071915685, \"n\": 990}, {\"threshold\": 0.574, \"p\": 3226, \"fpr\": 0.3747474747474748, \"tpr\": 0.8865468071915685, \"n\": 990}, {\"threshold\": 0.575, \"p\": 3226, \"fpr\": 0.3747474747474748, \"tpr\": 0.8865468071915685, \"n\": 990}, {\"threshold\": 0.576, \"p\": 3226, \"fpr\": 0.3747474747474748, \"tpr\": 0.8862368257904526, \"n\": 990}, {\"threshold\": 0.577, \"p\": 3226, \"fpr\": 0.37373737373737376, \"tpr\": 0.8862368257904526, \"n\": 990}, {\"threshold\": 0.578, \"p\": 3226, \"fpr\": 0.37373737373737376, \"tpr\": 0.8862368257904526, \"n\": 990}, {\"threshold\": 0.579, \"p\": 3226, \"fpr\": 0.37373737373737376, \"tpr\": 0.8859268443893367, \"n\": 990}, {\"threshold\": 0.58, \"p\": 3226, \"fpr\": 0.37373737373737376, \"tpr\": 0.8853068815871048, \"n\": 990}, {\"threshold\": 0.581, \"p\": 3226, \"fpr\": 0.37373737373737376, \"tpr\": 0.8853068815871048, \"n\": 990}, {\"threshold\": 0.582, \"p\": 3226, \"fpr\": 0.3717171717171717, \"tpr\": 0.8837569745815251, \"n\": 990}, {\"threshold\": 0.583, \"p\": 3226, \"fpr\": 0.3717171717171717, \"tpr\": 0.8834469931804092, \"n\": 990}, {\"threshold\": 0.584, \"p\": 3226, \"fpr\": 0.3717171717171717, \"tpr\": 0.8834469931804092, \"n\": 990}, {\"threshold\": 0.585, \"p\": 3226, \"fpr\": 0.3717171717171717, \"tpr\": 0.8834469931804092, \"n\": 990}, {\"threshold\": 0.586, \"p\": 3226, \"fpr\": 0.3717171717171717, \"tpr\": 0.8834469931804092, \"n\": 990}, {\"threshold\": 0.587, \"p\": 3226, \"fpr\": 0.3717171717171717, \"tpr\": 0.8834469931804092, \"n\": 990}, {\"threshold\": 0.588, \"p\": 3226, \"fpr\": 0.3717171717171717, \"tpr\": 0.8831370117792933, \"n\": 990}, {\"threshold\": 0.589, \"p\": 3226, \"fpr\": 0.3717171717171717, \"tpr\": 0.8831370117792933, \"n\": 990}, {\"threshold\": 0.59, \"p\": 3226, \"fpr\": 0.3717171717171717, \"tpr\": 0.8831370117792933, \"n\": 990}, {\"threshold\": 0.591, \"p\": 3226, \"fpr\": 0.3717171717171717, \"tpr\": 0.8831370117792933, \"n\": 990}, {\"threshold\": 0.592, \"p\": 3226, \"fpr\": 0.3717171717171717, \"tpr\": 0.8831370117792933, \"n\": 990}, {\"threshold\": 0.593, \"p\": 3226, \"fpr\": 0.3717171717171717, \"tpr\": 0.8831370117792933, \"n\": 990}, {\"threshold\": 0.594, \"p\": 3226, \"fpr\": 0.3717171717171717, \"tpr\": 0.8831370117792933, \"n\": 990}, {\"threshold\": 0.595, \"p\": 3226, \"fpr\": 0.3717171717171717, \"tpr\": 0.8831370117792933, \"n\": 990}, {\"threshold\": 0.596, \"p\": 3226, \"fpr\": 0.3717171717171717, \"tpr\": 0.8831370117792933, \"n\": 990}, {\"threshold\": 0.597, \"p\": 3226, \"fpr\": 0.3717171717171717, \"tpr\": 0.8831370117792933, \"n\": 990}, {\"threshold\": 0.598, \"p\": 3226, \"fpr\": 0.3717171717171717, \"tpr\": 0.8831370117792933, \"n\": 990}, {\"threshold\": 0.599, \"p\": 3226, \"fpr\": 0.3717171717171717, \"tpr\": 0.8831370117792933, \"n\": 990}, {\"threshold\": 0.6, \"p\": 3226, \"fpr\": 0.3717171717171717, \"tpr\": 0.8831370117792933, \"n\": 990}, {\"threshold\": 0.601, \"p\": 3226, \"fpr\": 0.3717171717171717, \"tpr\": 0.8828270303781773, \"n\": 990}, {\"threshold\": 0.602, \"p\": 3226, \"fpr\": 0.3717171717171717, \"tpr\": 0.8828270303781773, \"n\": 990}, {\"threshold\": 0.603, \"p\": 3226, \"fpr\": 0.3717171717171717, \"tpr\": 0.8828270303781773, \"n\": 990}, {\"threshold\": 0.604, \"p\": 3226, \"fpr\": 0.3717171717171717, \"tpr\": 0.8822070675759455, \"n\": 990}, {\"threshold\": 0.605, \"p\": 3226, \"fpr\": 0.3717171717171717, \"tpr\": 0.8822070675759455, \"n\": 990}, {\"threshold\": 0.606, \"p\": 3226, \"fpr\": 0.3717171717171717, \"tpr\": 0.8822070675759455, \"n\": 990}, {\"threshold\": 0.607, \"p\": 3226, \"fpr\": 0.3717171717171717, \"tpr\": 0.8822070675759455, \"n\": 990}, {\"threshold\": 0.608, \"p\": 3226, \"fpr\": 0.3717171717171717, \"tpr\": 0.8818970861748295, \"n\": 990}, {\"threshold\": 0.609, \"p\": 3226, \"fpr\": 0.3717171717171717, \"tpr\": 0.8818970861748295, \"n\": 990}, {\"threshold\": 0.61, \"p\": 3226, \"fpr\": 0.3707070707070707, \"tpr\": 0.8818970861748295, \"n\": 990}, {\"threshold\": 0.611, \"p\": 3226, \"fpr\": 0.3707070707070707, \"tpr\": 0.8815871047737136, \"n\": 990}, {\"threshold\": 0.612, \"p\": 3226, \"fpr\": 0.3707070707070707, \"tpr\": 0.8815871047737136, \"n\": 990}, {\"threshold\": 0.613, \"p\": 3226, \"fpr\": 0.3707070707070707, \"tpr\": 0.8815871047737136, \"n\": 990}, {\"threshold\": 0.614, \"p\": 3226, \"fpr\": 0.3707070707070707, \"tpr\": 0.8815871047737136, \"n\": 990}, {\"threshold\": 0.615, \"p\": 3226, \"fpr\": 0.3707070707070707, \"tpr\": 0.8812771233725977, \"n\": 990}, {\"threshold\": 0.616, \"p\": 3226, \"fpr\": 0.3707070707070707, \"tpr\": 0.8812771233725977, \"n\": 990}, {\"threshold\": 0.617, \"p\": 3226, \"fpr\": 0.3707070707070707, \"tpr\": 0.8809671419714817, \"n\": 990}, {\"threshold\": 0.618, \"p\": 3226, \"fpr\": 0.3707070707070707, \"tpr\": 0.8809671419714817, \"n\": 990}, {\"threshold\": 0.619, \"p\": 3226, \"fpr\": 0.3707070707070707, \"tpr\": 0.8809671419714817, \"n\": 990}, {\"threshold\": 0.62, \"p\": 3226, \"fpr\": 0.3707070707070707, \"tpr\": 0.8809671419714817, \"n\": 990}, {\"threshold\": 0.621, \"p\": 3226, \"fpr\": 0.3707070707070707, \"tpr\": 0.8806571605703658, \"n\": 990}, {\"threshold\": 0.622, \"p\": 3226, \"fpr\": 0.3707070707070707, \"tpr\": 0.8803471791692499, \"n\": 990}, {\"threshold\": 0.623, \"p\": 3226, \"fpr\": 0.3707070707070707, \"tpr\": 0.8803471791692499, \"n\": 990}, {\"threshold\": 0.624, \"p\": 3226, \"fpr\": 0.3696969696969697, \"tpr\": 0.8803471791692499, \"n\": 990}, {\"threshold\": 0.625, \"p\": 3226, \"fpr\": 0.3696969696969697, \"tpr\": 0.8800371977681339, \"n\": 990}, {\"threshold\": 0.626, \"p\": 3226, \"fpr\": 0.3696969696969697, \"tpr\": 0.879727216367018, \"n\": 990}, {\"threshold\": 0.627, \"p\": 3226, \"fpr\": 0.3696969696969697, \"tpr\": 0.879727216367018, \"n\": 990}, {\"threshold\": 0.628, \"p\": 3226, \"fpr\": 0.3696969696969697, \"tpr\": 0.879727216367018, \"n\": 990}, {\"threshold\": 0.629, \"p\": 3226, \"fpr\": 0.3696969696969697, \"tpr\": 0.8794172349659021, \"n\": 990}, {\"threshold\": 0.63, \"p\": 3226, \"fpr\": 0.3686868686868687, \"tpr\": 0.8794172349659021, \"n\": 990}, {\"threshold\": 0.631, \"p\": 3226, \"fpr\": 0.3686868686868687, \"tpr\": 0.8794172349659021, \"n\": 990}, {\"threshold\": 0.632, \"p\": 3226, \"fpr\": 0.3686868686868687, \"tpr\": 0.8794172349659021, \"n\": 990}, {\"threshold\": 0.633, \"p\": 3226, \"fpr\": 0.3686868686868687, \"tpr\": 0.8794172349659021, \"n\": 990}, {\"threshold\": 0.634, \"p\": 3226, \"fpr\": 0.3686868686868687, \"tpr\": 0.8794172349659021, \"n\": 990}, {\"threshold\": 0.635, \"p\": 3226, \"fpr\": 0.3686868686868687, \"tpr\": 0.8791072535647861, \"n\": 990}, {\"threshold\": 0.636, \"p\": 3226, \"fpr\": 0.3686868686868687, \"tpr\": 0.8787972721636702, \"n\": 990}, {\"threshold\": 0.637, \"p\": 3226, \"fpr\": 0.3686868686868687, \"tpr\": 0.8784872907625543, \"n\": 990}, {\"threshold\": 0.638, \"p\": 3226, \"fpr\": 0.3686868686868687, \"tpr\": 0.8784872907625543, \"n\": 990}, {\"threshold\": 0.639, \"p\": 3226, \"fpr\": 0.3686868686868687, \"tpr\": 0.8784872907625543, \"n\": 990}, {\"threshold\": 0.64, \"p\": 3226, \"fpr\": 0.3686868686868687, \"tpr\": 0.8784872907625543, \"n\": 990}, {\"threshold\": 0.641, \"p\": 3226, \"fpr\": 0.3686868686868687, \"tpr\": 0.8781773093614383, \"n\": 990}, {\"threshold\": 0.642, \"p\": 3226, \"fpr\": 0.3686868686868687, \"tpr\": 0.8781773093614383, \"n\": 990}, {\"threshold\": 0.643, \"p\": 3226, \"fpr\": 0.3686868686868687, \"tpr\": 0.8778673279603224, \"n\": 990}, {\"threshold\": 0.644, \"p\": 3226, \"fpr\": 0.3686868686868687, \"tpr\": 0.8778673279603224, \"n\": 990}, {\"threshold\": 0.645, \"p\": 3226, \"fpr\": 0.3686868686868687, \"tpr\": 0.8775573465592065, \"n\": 990}, {\"threshold\": 0.646, \"p\": 3226, \"fpr\": 0.3686868686868687, \"tpr\": 0.8775573465592065, \"n\": 990}, {\"threshold\": 0.647, \"p\": 3226, \"fpr\": 0.36666666666666664, \"tpr\": 0.8775573465592065, \"n\": 990}, {\"threshold\": 0.648, \"p\": 3226, \"fpr\": 0.3656565656565657, \"tpr\": 0.8775573465592065, \"n\": 990}, {\"threshold\": 0.649, \"p\": 3226, \"fpr\": 0.3656565656565657, \"tpr\": 0.8769373837569746, \"n\": 990}, {\"threshold\": 0.65, \"p\": 3226, \"fpr\": 0.3656565656565657, \"tpr\": 0.8766274023558587, \"n\": 990}, {\"threshold\": 0.651, \"p\": 3226, \"fpr\": 0.3656565656565657, \"tpr\": 0.8760074395536268, \"n\": 990}, {\"threshold\": 0.652, \"p\": 3226, \"fpr\": 0.3656565656565657, \"tpr\": 0.8756974581525109, \"n\": 990}, {\"threshold\": 0.653, \"p\": 3226, \"fpr\": 0.3656565656565657, \"tpr\": 0.8753874767513949, \"n\": 990}, {\"threshold\": 0.654, \"p\": 3226, \"fpr\": 0.36363636363636365, \"tpr\": 0.875077495350279, \"n\": 990}, {\"threshold\": 0.655, \"p\": 3226, \"fpr\": 0.36363636363636365, \"tpr\": 0.875077495350279, \"n\": 990}, {\"threshold\": 0.656, \"p\": 3226, \"fpr\": 0.36363636363636365, \"tpr\": 0.875077495350279, \"n\": 990}, {\"threshold\": 0.657, \"p\": 3226, \"fpr\": 0.36262626262626263, \"tpr\": 0.875077495350279, \"n\": 990}, {\"threshold\": 0.658, \"p\": 3226, \"fpr\": 0.36262626262626263, \"tpr\": 0.8738375697458153, \"n\": 990}, {\"threshold\": 0.659, \"p\": 3226, \"fpr\": 0.36262626262626263, \"tpr\": 0.8738375697458153, \"n\": 990}, {\"threshold\": 0.66, \"p\": 3226, \"fpr\": 0.3616161616161616, \"tpr\": 0.8738375697458153, \"n\": 990}, {\"threshold\": 0.661, \"p\": 3226, \"fpr\": 0.3616161616161616, \"tpr\": 0.8732176069435834, \"n\": 990}, {\"threshold\": 0.662, \"p\": 3226, \"fpr\": 0.3616161616161616, \"tpr\": 0.8729076255424675, \"n\": 990}, {\"threshold\": 0.663, \"p\": 3226, \"fpr\": 0.3616161616161616, \"tpr\": 0.8725976441413515, \"n\": 990}, {\"threshold\": 0.664, \"p\": 3226, \"fpr\": 0.3616161616161616, \"tpr\": 0.8725976441413515, \"n\": 990}, {\"threshold\": 0.665, \"p\": 3226, \"fpr\": 0.3616161616161616, \"tpr\": 0.8725976441413515, \"n\": 990}, {\"threshold\": 0.666, \"p\": 3226, \"fpr\": 0.3616161616161616, \"tpr\": 0.8725976441413515, \"n\": 990}, {\"threshold\": 0.667, \"p\": 3226, \"fpr\": 0.3616161616161616, \"tpr\": 0.8725976441413515, \"n\": 990}, {\"threshold\": 0.668, \"p\": 3226, \"fpr\": 0.3616161616161616, \"tpr\": 0.8725976441413515, \"n\": 990}, {\"threshold\": 0.669, \"p\": 3226, \"fpr\": 0.3616161616161616, \"tpr\": 0.8725976441413515, \"n\": 990}, {\"threshold\": 0.67, \"p\": 3226, \"fpr\": 0.3616161616161616, \"tpr\": 0.8725976441413515, \"n\": 990}, {\"threshold\": 0.671, \"p\": 3226, \"fpr\": 0.3606060606060606, \"tpr\": 0.8725976441413515, \"n\": 990}, {\"threshold\": 0.672, \"p\": 3226, \"fpr\": 0.3606060606060606, \"tpr\": 0.8725976441413515, \"n\": 990}, {\"threshold\": 0.673, \"p\": 3226, \"fpr\": 0.3606060606060606, \"tpr\": 0.8725976441413515, \"n\": 990}, {\"threshold\": 0.674, \"p\": 3226, \"fpr\": 0.3606060606060606, \"tpr\": 0.8725976441413515, \"n\": 990}, {\"threshold\": 0.675, \"p\": 3226, \"fpr\": 0.3606060606060606, \"tpr\": 0.8722876627402356, \"n\": 990}, {\"threshold\": 0.676, \"p\": 3226, \"fpr\": 0.3606060606060606, \"tpr\": 0.8722876627402356, \"n\": 990}, {\"threshold\": 0.677, \"p\": 3226, \"fpr\": 0.3606060606060606, \"tpr\": 0.8722876627402356, \"n\": 990}, {\"threshold\": 0.678, \"p\": 3226, \"fpr\": 0.3606060606060606, \"tpr\": 0.8719776813391197, \"n\": 990}, {\"threshold\": 0.679, \"p\": 3226, \"fpr\": 0.3595959595959596, \"tpr\": 0.8719776813391197, \"n\": 990}, {\"threshold\": 0.68, \"p\": 3226, \"fpr\": 0.3595959595959596, \"tpr\": 0.8719776813391197, \"n\": 990}, {\"threshold\": 0.681, \"p\": 3226, \"fpr\": 0.3595959595959596, \"tpr\": 0.8713577185368878, \"n\": 990}, {\"threshold\": 0.682, \"p\": 3226, \"fpr\": 0.3595959595959596, \"tpr\": 0.8713577185368878, \"n\": 990}, {\"threshold\": 0.683, \"p\": 3226, \"fpr\": 0.35858585858585856, \"tpr\": 0.8713577185368878, \"n\": 990}, {\"threshold\": 0.684, \"p\": 3226, \"fpr\": 0.35858585858585856, \"tpr\": 0.8713577185368878, \"n\": 990}, {\"threshold\": 0.685, \"p\": 3226, \"fpr\": 0.35858585858585856, \"tpr\": 0.8713577185368878, \"n\": 990}, {\"threshold\": 0.686, \"p\": 3226, \"fpr\": 0.35858585858585856, \"tpr\": 0.8710477371357719, \"n\": 990}, {\"threshold\": 0.687, \"p\": 3226, \"fpr\": 0.35858585858585856, \"tpr\": 0.8710477371357719, \"n\": 990}, {\"threshold\": 0.688, \"p\": 3226, \"fpr\": 0.35858585858585856, \"tpr\": 0.8710477371357719, \"n\": 990}, {\"threshold\": 0.689, \"p\": 3226, \"fpr\": 0.35858585858585856, \"tpr\": 0.8710477371357719, \"n\": 990}, {\"threshold\": 0.69, \"p\": 3226, \"fpr\": 0.3575757575757576, \"tpr\": 0.8710477371357719, \"n\": 990}, {\"threshold\": 0.691, \"p\": 3226, \"fpr\": 0.3575757575757576, \"tpr\": 0.8710477371357719, \"n\": 990}, {\"threshold\": 0.692, \"p\": 3226, \"fpr\": 0.3575757575757576, \"tpr\": 0.87042777433354, \"n\": 990}, {\"threshold\": 0.693, \"p\": 3226, \"fpr\": 0.3575757575757576, \"tpr\": 0.87042777433354, \"n\": 990}, {\"threshold\": 0.694, \"p\": 3226, \"fpr\": 0.3575757575757576, \"tpr\": 0.8698078115313082, \"n\": 990}, {\"threshold\": 0.695, \"p\": 3226, \"fpr\": 0.3575757575757576, \"tpr\": 0.8694978301301922, \"n\": 990}, {\"threshold\": 0.696, \"p\": 3226, \"fpr\": 0.3575757575757576, \"tpr\": 0.8694978301301922, \"n\": 990}, {\"threshold\": 0.697, \"p\": 3226, \"fpr\": 0.3575757575757576, \"tpr\": 0.8694978301301922, \"n\": 990}, {\"threshold\": 0.698, \"p\": 3226, \"fpr\": 0.3575757575757576, \"tpr\": 0.8688778673279604, \"n\": 990}, {\"threshold\": 0.699, \"p\": 3226, \"fpr\": 0.3575757575757576, \"tpr\": 0.8685678859268444, \"n\": 990}, {\"threshold\": 0.7, \"p\": 3226, \"fpr\": 0.3575757575757576, \"tpr\": 0.8676379417234966, \"n\": 990}, {\"threshold\": 0.701, \"p\": 3226, \"fpr\": 0.35353535353535354, \"tpr\": 0.8673279603223807, \"n\": 990}, {\"threshold\": 0.702, \"p\": 3226, \"fpr\": 0.3525252525252525, \"tpr\": 0.8670179789212648, \"n\": 990}, {\"threshold\": 0.703, \"p\": 3226, \"fpr\": 0.3525252525252525, \"tpr\": 0.8670179789212648, \"n\": 990}, {\"threshold\": 0.704, \"p\": 3226, \"fpr\": 0.3525252525252525, \"tpr\": 0.8670179789212648, \"n\": 990}, {\"threshold\": 0.705, \"p\": 3226, \"fpr\": 0.3515151515151515, \"tpr\": 0.8670179789212648, \"n\": 990}, {\"threshold\": 0.706, \"p\": 3226, \"fpr\": 0.3515151515151515, \"tpr\": 0.8670179789212648, \"n\": 990}, {\"threshold\": 0.707, \"p\": 3226, \"fpr\": 0.3515151515151515, \"tpr\": 0.8670179789212648, \"n\": 990}, {\"threshold\": 0.708, \"p\": 3226, \"fpr\": 0.3515151515151515, \"tpr\": 0.8670179789212648, \"n\": 990}, {\"threshold\": 0.709, \"p\": 3226, \"fpr\": 0.3505050505050505, \"tpr\": 0.8670179789212648, \"n\": 990}, {\"threshold\": 0.71, \"p\": 3226, \"fpr\": 0.3505050505050505, \"tpr\": 0.8670179789212648, \"n\": 990}, {\"threshold\": 0.711, \"p\": 3226, \"fpr\": 0.34949494949494947, \"tpr\": 0.8667079975201488, \"n\": 990}, {\"threshold\": 0.712, \"p\": 3226, \"fpr\": 0.3484848484848485, \"tpr\": 0.8663980161190329, \"n\": 990}, {\"threshold\": 0.713, \"p\": 3226, \"fpr\": 0.3484848484848485, \"tpr\": 0.866088034717917, \"n\": 990}, {\"threshold\": 0.714, \"p\": 3226, \"fpr\": 0.3484848484848485, \"tpr\": 0.866088034717917, \"n\": 990}, {\"threshold\": 0.715, \"p\": 3226, \"fpr\": 0.3484848484848485, \"tpr\": 0.865778053316801, \"n\": 990}, {\"threshold\": 0.716, \"p\": 3226, \"fpr\": 0.3484848484848485, \"tpr\": 0.8651580905145692, \"n\": 990}, {\"threshold\": 0.717, \"p\": 3226, \"fpr\": 0.3484848484848485, \"tpr\": 0.8648481091134532, \"n\": 990}, {\"threshold\": 0.718, \"p\": 3226, \"fpr\": 0.3484848484848485, \"tpr\": 0.8648481091134532, \"n\": 990}, {\"threshold\": 0.719, \"p\": 3226, \"fpr\": 0.3484848484848485, \"tpr\": 0.8648481091134532, \"n\": 990}, {\"threshold\": 0.72, \"p\": 3226, \"fpr\": 0.3474747474747475, \"tpr\": 0.8648481091134532, \"n\": 990}, {\"threshold\": 0.721, \"p\": 3226, \"fpr\": 0.3474747474747475, \"tpr\": 0.8648481091134532, \"n\": 990}, {\"threshold\": 0.722, \"p\": 3226, \"fpr\": 0.3474747474747475, \"tpr\": 0.8645381277123373, \"n\": 990}, {\"threshold\": 0.723, \"p\": 3226, \"fpr\": 0.3474747474747475, \"tpr\": 0.8645381277123373, \"n\": 990}, {\"threshold\": 0.724, \"p\": 3226, \"fpr\": 0.3474747474747475, \"tpr\": 0.8642281463112214, \"n\": 990}, {\"threshold\": 0.725, \"p\": 3226, \"fpr\": 0.3474747474747475, \"tpr\": 0.8642281463112214, \"n\": 990}, {\"threshold\": 0.726, \"p\": 3226, \"fpr\": 0.3474747474747475, \"tpr\": 0.8626782393056417, \"n\": 990}, {\"threshold\": 0.727, \"p\": 3226, \"fpr\": 0.3464646464646465, \"tpr\": 0.8623682579045258, \"n\": 990}, {\"threshold\": 0.728, \"p\": 3226, \"fpr\": 0.3464646464646465, \"tpr\": 0.8620582765034098, \"n\": 990}, {\"threshold\": 0.729, \"p\": 3226, \"fpr\": 0.3464646464646465, \"tpr\": 0.8620582765034098, \"n\": 990}, {\"threshold\": 0.73, \"p\": 3226, \"fpr\": 0.34545454545454546, \"tpr\": 0.8620582765034098, \"n\": 990}, {\"threshold\": 0.731, \"p\": 3226, \"fpr\": 0.34545454545454546, \"tpr\": 0.8620582765034098, \"n\": 990}, {\"threshold\": 0.732, \"p\": 3226, \"fpr\": 0.34444444444444444, \"tpr\": 0.861438313701178, \"n\": 990}, {\"threshold\": 0.733, \"p\": 3226, \"fpr\": 0.34444444444444444, \"tpr\": 0.861128332300062, \"n\": 990}, {\"threshold\": 0.734, \"p\": 3226, \"fpr\": 0.34444444444444444, \"tpr\": 0.861128332300062, \"n\": 990}, {\"threshold\": 0.735, \"p\": 3226, \"fpr\": 0.34444444444444444, \"tpr\": 0.861128332300062, \"n\": 990}, {\"threshold\": 0.736, \"p\": 3226, \"fpr\": 0.34444444444444444, \"tpr\": 0.861128332300062, \"n\": 990}, {\"threshold\": 0.737, \"p\": 3226, \"fpr\": 0.34444444444444444, \"tpr\": 0.8608183508989461, \"n\": 990}, {\"threshold\": 0.738, \"p\": 3226, \"fpr\": 0.34444444444444444, \"tpr\": 0.8605083694978302, \"n\": 990}, {\"threshold\": 0.739, \"p\": 3226, \"fpr\": 0.34444444444444444, \"tpr\": 0.8605083694978302, \"n\": 990}, {\"threshold\": 0.74, \"p\": 3226, \"fpr\": 0.34444444444444444, \"tpr\": 0.8605083694978302, \"n\": 990}, {\"threshold\": 0.741, \"p\": 3226, \"fpr\": 0.34444444444444444, \"tpr\": 0.8601983880967142, \"n\": 990}, {\"threshold\": 0.742, \"p\": 3226, \"fpr\": 0.34444444444444444, \"tpr\": 0.8598884066955983, \"n\": 990}, {\"threshold\": 0.743, \"p\": 3226, \"fpr\": 0.34444444444444444, \"tpr\": 0.8598884066955983, \"n\": 990}, {\"threshold\": 0.744, \"p\": 3226, \"fpr\": 0.34444444444444444, \"tpr\": 0.8598884066955983, \"n\": 990}, {\"threshold\": 0.745, \"p\": 3226, \"fpr\": 0.34444444444444444, \"tpr\": 0.8598884066955983, \"n\": 990}, {\"threshold\": 0.746, \"p\": 3226, \"fpr\": 0.34444444444444444, \"tpr\": 0.8598884066955983, \"n\": 990}, {\"threshold\": 0.747, \"p\": 3226, \"fpr\": 0.34444444444444444, \"tpr\": 0.8598884066955983, \"n\": 990}, {\"threshold\": 0.748, \"p\": 3226, \"fpr\": 0.34444444444444444, \"tpr\": 0.8595784252944824, \"n\": 990}, {\"threshold\": 0.749, \"p\": 3226, \"fpr\": 0.34444444444444444, \"tpr\": 0.8595784252944824, \"n\": 990}, {\"threshold\": 0.75, \"p\": 3226, \"fpr\": 0.34444444444444444, \"tpr\": 0.8595784252944824, \"n\": 990}, {\"threshold\": 0.751, \"p\": 3226, \"fpr\": 0.34444444444444444, \"tpr\": 0.8595784252944824, \"n\": 990}, {\"threshold\": 0.752, \"p\": 3226, \"fpr\": 0.34444444444444444, \"tpr\": 0.8595784252944824, \"n\": 990}, {\"threshold\": 0.753, \"p\": 3226, \"fpr\": 0.3434343434343434, \"tpr\": 0.8595784252944824, \"n\": 990}, {\"threshold\": 0.754, \"p\": 3226, \"fpr\": 0.3434343434343434, \"tpr\": 0.8595784252944824, \"n\": 990}, {\"threshold\": 0.755, \"p\": 3226, \"fpr\": 0.3434343434343434, \"tpr\": 0.8592684438933664, \"n\": 990}, {\"threshold\": 0.756, \"p\": 3226, \"fpr\": 0.3434343434343434, \"tpr\": 0.8592684438933664, \"n\": 990}, {\"threshold\": 0.757, \"p\": 3226, \"fpr\": 0.3383838383838384, \"tpr\": 0.8583384996900186, \"n\": 990}, {\"threshold\": 0.758, \"p\": 3226, \"fpr\": 0.3373737373737374, \"tpr\": 0.8577185368877868, \"n\": 990}, {\"threshold\": 0.759, \"p\": 3226, \"fpr\": 0.33636363636363636, \"tpr\": 0.8577185368877868, \"n\": 990}, {\"threshold\": 0.76, \"p\": 3226, \"fpr\": 0.33636363636363636, \"tpr\": 0.8574085554866708, \"n\": 990}, {\"threshold\": 0.761, \"p\": 3226, \"fpr\": 0.33636363636363636, \"tpr\": 0.8574085554866708, \"n\": 990}, {\"threshold\": 0.762, \"p\": 3226, \"fpr\": 0.33636363636363636, \"tpr\": 0.8574085554866708, \"n\": 990}, {\"threshold\": 0.763, \"p\": 3226, \"fpr\": 0.33636363636363636, \"tpr\": 0.8570985740855549, \"n\": 990}, {\"threshold\": 0.764, \"p\": 3226, \"fpr\": 0.33636363636363636, \"tpr\": 0.8570985740855549, \"n\": 990}, {\"threshold\": 0.765, \"p\": 3226, \"fpr\": 0.33535353535353535, \"tpr\": 0.856788592684439, \"n\": 990}, {\"threshold\": 0.766, \"p\": 3226, \"fpr\": 0.33535353535353535, \"tpr\": 0.8561686298822071, \"n\": 990}, {\"threshold\": 0.767, \"p\": 3226, \"fpr\": 0.33535353535353535, \"tpr\": 0.8561686298822071, \"n\": 990}, {\"threshold\": 0.768, \"p\": 3226, \"fpr\": 0.33535353535353535, \"tpr\": 0.8561686298822071, \"n\": 990}, {\"threshold\": 0.769, \"p\": 3226, \"fpr\": 0.3323232323232323, \"tpr\": 0.8561686298822071, \"n\": 990}, {\"threshold\": 0.77, \"p\": 3226, \"fpr\": 0.3323232323232323, \"tpr\": 0.8561686298822071, \"n\": 990}, {\"threshold\": 0.771, \"p\": 3226, \"fpr\": 0.3323232323232323, \"tpr\": 0.8558586484810912, \"n\": 990}, {\"threshold\": 0.772, \"p\": 3226, \"fpr\": 0.3323232323232323, \"tpr\": 0.8558586484810912, \"n\": 990}, {\"threshold\": 0.773, \"p\": 3226, \"fpr\": 0.3323232323232323, \"tpr\": 0.8549287042777434, \"n\": 990}, {\"threshold\": 0.774, \"p\": 3226, \"fpr\": 0.3323232323232323, \"tpr\": 0.8546187228766274, \"n\": 990}, {\"threshold\": 0.775, \"p\": 3226, \"fpr\": 0.3323232323232323, \"tpr\": 0.8539987600743956, \"n\": 990}, {\"threshold\": 0.776, \"p\": 3226, \"fpr\": 0.33131313131313134, \"tpr\": 0.8539987600743956, \"n\": 990}, {\"threshold\": 0.777, \"p\": 3226, \"fpr\": 0.33131313131313134, \"tpr\": 0.8539987600743956, \"n\": 990}, {\"threshold\": 0.778, \"p\": 3226, \"fpr\": 0.33131313131313134, \"tpr\": 0.8536887786732796, \"n\": 990}, {\"threshold\": 0.779, \"p\": 3226, \"fpr\": 0.33131313131313134, \"tpr\": 0.8536887786732796, \"n\": 990}, {\"threshold\": 0.78, \"p\": 3226, \"fpr\": 0.33131313131313134, \"tpr\": 0.8533787972721637, \"n\": 990}, {\"threshold\": 0.781, \"p\": 3226, \"fpr\": 0.3303030303030303, \"tpr\": 0.8533787972721637, \"n\": 990}, {\"threshold\": 0.782, \"p\": 3226, \"fpr\": 0.3303030303030303, \"tpr\": 0.8530688158710478, \"n\": 990}, {\"threshold\": 0.783, \"p\": 3226, \"fpr\": 0.3303030303030303, \"tpr\": 0.8527588344699318, \"n\": 990}, {\"threshold\": 0.784, \"p\": 3226, \"fpr\": 0.3303030303030303, \"tpr\": 0.8527588344699318, \"n\": 990}, {\"threshold\": 0.785, \"p\": 3226, \"fpr\": 0.3303030303030303, \"tpr\": 0.8527588344699318, \"n\": 990}, {\"threshold\": 0.786, \"p\": 3226, \"fpr\": 0.3303030303030303, \"tpr\": 0.8527588344699318, \"n\": 990}, {\"threshold\": 0.787, \"p\": 3226, \"fpr\": 0.3303030303030303, \"tpr\": 0.851828890266584, \"n\": 990}, {\"threshold\": 0.788, \"p\": 3226, \"fpr\": 0.3303030303030303, \"tpr\": 0.851828890266584, \"n\": 990}, {\"threshold\": 0.789, \"p\": 3226, \"fpr\": 0.3292929292929293, \"tpr\": 0.851828890266584, \"n\": 990}, {\"threshold\": 0.79, \"p\": 3226, \"fpr\": 0.3292929292929293, \"tpr\": 0.851828890266584, \"n\": 990}, {\"threshold\": 0.791, \"p\": 3226, \"fpr\": 0.3282828282828283, \"tpr\": 0.851828890266584, \"n\": 990}, {\"threshold\": 0.792, \"p\": 3226, \"fpr\": 0.3282828282828283, \"tpr\": 0.8515189088654681, \"n\": 990}, {\"threshold\": 0.793, \"p\": 3226, \"fpr\": 0.32727272727272727, \"tpr\": 0.8515189088654681, \"n\": 990}, {\"threshold\": 0.794, \"p\": 3226, \"fpr\": 0.32727272727272727, \"tpr\": 0.8515189088654681, \"n\": 990}, {\"threshold\": 0.795, \"p\": 3226, \"fpr\": 0.32727272727272727, \"tpr\": 0.8515189088654681, \"n\": 990}, {\"threshold\": 0.796, \"p\": 3226, \"fpr\": 0.32727272727272727, \"tpr\": 0.8512089274643522, \"n\": 990}, {\"threshold\": 0.797, \"p\": 3226, \"fpr\": 0.32727272727272727, \"tpr\": 0.8512089274643522, \"n\": 990}, {\"threshold\": 0.798, \"p\": 3226, \"fpr\": 0.32727272727272727, \"tpr\": 0.8508989460632362, \"n\": 990}, {\"threshold\": 0.799, \"p\": 3226, \"fpr\": 0.32626262626262625, \"tpr\": 0.8505889646621203, \"n\": 990}, {\"threshold\": 0.8, \"p\": 3226, \"fpr\": 0.32626262626262625, \"tpr\": 0.8499690018598884, \"n\": 990}, {\"threshold\": 0.801, \"p\": 3226, \"fpr\": 0.32626262626262625, \"tpr\": 0.8499690018598884, \"n\": 990}, {\"threshold\": 0.802, \"p\": 3226, \"fpr\": 0.32525252525252524, \"tpr\": 0.8490390576565406, \"n\": 990}, {\"threshold\": 0.803, \"p\": 3226, \"fpr\": 0.3242424242424242, \"tpr\": 0.8490390576565406, \"n\": 990}, {\"threshold\": 0.804, \"p\": 3226, \"fpr\": 0.3242424242424242, \"tpr\": 0.8487290762554247, \"n\": 990}, {\"threshold\": 0.805, \"p\": 3226, \"fpr\": 0.3242424242424242, \"tpr\": 0.8487290762554247, \"n\": 990}, {\"threshold\": 0.806, \"p\": 3226, \"fpr\": 0.3242424242424242, \"tpr\": 0.8487290762554247, \"n\": 990}, {\"threshold\": 0.807, \"p\": 3226, \"fpr\": 0.3242424242424242, \"tpr\": 0.8484190948543088, \"n\": 990}, {\"threshold\": 0.808, \"p\": 3226, \"fpr\": 0.3242424242424242, \"tpr\": 0.8481091134531928, \"n\": 990}, {\"threshold\": 0.809, \"p\": 3226, \"fpr\": 0.32323232323232326, \"tpr\": 0.847489150650961, \"n\": 990}, {\"threshold\": 0.81, \"p\": 3226, \"fpr\": 0.32323232323232326, \"tpr\": 0.847489150650961, \"n\": 990}, {\"threshold\": 0.811, \"p\": 3226, \"fpr\": 0.32323232323232326, \"tpr\": 0.847489150650961, \"n\": 990}, {\"threshold\": 0.812, \"p\": 3226, \"fpr\": 0.32323232323232326, \"tpr\": 0.8465592064476132, \"n\": 990}, {\"threshold\": 0.813, \"p\": 3226, \"fpr\": 0.32323232323232326, \"tpr\": 0.8465592064476132, \"n\": 990}, {\"threshold\": 0.814, \"p\": 3226, \"fpr\": 0.32323232323232326, \"tpr\": 0.8459392436453813, \"n\": 990}, {\"threshold\": 0.815, \"p\": 3226, \"fpr\": 0.32222222222222224, \"tpr\": 0.8459392436453813, \"n\": 990}, {\"threshold\": 0.816, \"p\": 3226, \"fpr\": 0.32222222222222224, \"tpr\": 0.8459392436453813, \"n\": 990}, {\"threshold\": 0.817, \"p\": 3226, \"fpr\": 0.32222222222222224, \"tpr\": 0.8459392436453813, \"n\": 990}, {\"threshold\": 0.818, \"p\": 3226, \"fpr\": 0.3212121212121212, \"tpr\": 0.8459392436453813, \"n\": 990}, {\"threshold\": 0.819, \"p\": 3226, \"fpr\": 0.3212121212121212, \"tpr\": 0.8456292622442654, \"n\": 990}, {\"threshold\": 0.82, \"p\": 3226, \"fpr\": 0.3191919191919192, \"tpr\": 0.8446993180409176, \"n\": 990}, {\"threshold\": 0.821, \"p\": 3226, \"fpr\": 0.3191919191919192, \"tpr\": 0.8443893366398016, \"n\": 990}, {\"threshold\": 0.822, \"p\": 3226, \"fpr\": 0.3191919191919192, \"tpr\": 0.8443893366398016, \"n\": 990}, {\"threshold\": 0.823, \"p\": 3226, \"fpr\": 0.31717171717171716, \"tpr\": 0.8431494110353379, \"n\": 990}, {\"threshold\": 0.824, \"p\": 3226, \"fpr\": 0.31717171717171716, \"tpr\": 0.842839429634222, \"n\": 990}, {\"threshold\": 0.825, \"p\": 3226, \"fpr\": 0.31717171717171716, \"tpr\": 0.842839429634222, \"n\": 990}, {\"threshold\": 0.826, \"p\": 3226, \"fpr\": 0.31717171717171716, \"tpr\": 0.842839429634222, \"n\": 990}, {\"threshold\": 0.827, \"p\": 3226, \"fpr\": 0.31717171717171716, \"tpr\": 0.8422194668319901, \"n\": 990}, {\"threshold\": 0.828, \"p\": 3226, \"fpr\": 0.31616161616161614, \"tpr\": 0.8422194668319901, \"n\": 990}, {\"threshold\": 0.829, \"p\": 3226, \"fpr\": 0.31616161616161614, \"tpr\": 0.8409795412275264, \"n\": 990}, {\"threshold\": 0.83, \"p\": 3226, \"fpr\": 0.31616161616161614, \"tpr\": 0.8409795412275264, \"n\": 990}, {\"threshold\": 0.831, \"p\": 3226, \"fpr\": 0.31616161616161614, \"tpr\": 0.8406695598264105, \"n\": 990}, {\"threshold\": 0.832, \"p\": 3226, \"fpr\": 0.3151515151515151, \"tpr\": 0.8397396156230627, \"n\": 990}, {\"threshold\": 0.833, \"p\": 3226, \"fpr\": 0.3151515151515151, \"tpr\": 0.8397396156230627, \"n\": 990}, {\"threshold\": 0.834, \"p\": 3226, \"fpr\": 0.3151515151515151, \"tpr\": 0.8394296342219467, \"n\": 990}, {\"threshold\": 0.835, \"p\": 3226, \"fpr\": 0.3151515151515151, \"tpr\": 0.8394296342219467, \"n\": 990}, {\"threshold\": 0.836, \"p\": 3226, \"fpr\": 0.31414141414141417, \"tpr\": 0.8394296342219467, \"n\": 990}, {\"threshold\": 0.837, \"p\": 3226, \"fpr\": 0.31313131313131315, \"tpr\": 0.8394296342219467, \"n\": 990}, {\"threshold\": 0.838, \"p\": 3226, \"fpr\": 0.31212121212121213, \"tpr\": 0.8394296342219467, \"n\": 990}, {\"threshold\": 0.839, \"p\": 3226, \"fpr\": 0.3111111111111111, \"tpr\": 0.8394296342219467, \"n\": 990}, {\"threshold\": 0.84, \"p\": 3226, \"fpr\": 0.3101010101010101, \"tpr\": 0.8391196528208308, \"n\": 990}, {\"threshold\": 0.841, \"p\": 3226, \"fpr\": 0.3101010101010101, \"tpr\": 0.8384996900185989, \"n\": 990}, {\"threshold\": 0.842, \"p\": 3226, \"fpr\": 0.3101010101010101, \"tpr\": 0.8384996900185989, \"n\": 990}, {\"threshold\": 0.843, \"p\": 3226, \"fpr\": 0.3101010101010101, \"tpr\": 0.8384996900185989, \"n\": 990}, {\"threshold\": 0.844, \"p\": 3226, \"fpr\": 0.3101010101010101, \"tpr\": 0.8384996900185989, \"n\": 990}, {\"threshold\": 0.845, \"p\": 3226, \"fpr\": 0.3101010101010101, \"tpr\": 0.837879727216367, \"n\": 990}, {\"threshold\": 0.846, \"p\": 3226, \"fpr\": 0.3101010101010101, \"tpr\": 0.8375697458152511, \"n\": 990}, {\"threshold\": 0.847, \"p\": 3226, \"fpr\": 0.3090909090909091, \"tpr\": 0.8369497830130193, \"n\": 990}, {\"threshold\": 0.848, \"p\": 3226, \"fpr\": 0.3090909090909091, \"tpr\": 0.8366398016119033, \"n\": 990}, {\"threshold\": 0.849, \"p\": 3226, \"fpr\": 0.3090909090909091, \"tpr\": 0.8350898946063237, \"n\": 990}, {\"threshold\": 0.85, \"p\": 3226, \"fpr\": 0.30707070707070705, \"tpr\": 0.8347799132052077, \"n\": 990}, {\"threshold\": 0.851, \"p\": 3226, \"fpr\": 0.30606060606060603, \"tpr\": 0.8338499690018599, \"n\": 990}, {\"threshold\": 0.852, \"p\": 3226, \"fpr\": 0.30606060606060603, \"tpr\": 0.8329200247985121, \"n\": 990}, {\"threshold\": 0.853, \"p\": 3226, \"fpr\": 0.30505050505050507, \"tpr\": 0.8326100433973962, \"n\": 990}, {\"threshold\": 0.854, \"p\": 3226, \"fpr\": 0.30505050505050507, \"tpr\": 0.8323000619962803, \"n\": 990}, {\"threshold\": 0.855, \"p\": 3226, \"fpr\": 0.30303030303030304, \"tpr\": 0.8316800991940484, \"n\": 990}, {\"threshold\": 0.856, \"p\": 3226, \"fpr\": 0.302020202020202, \"tpr\": 0.8313701177929325, \"n\": 990}, {\"threshold\": 0.857, \"p\": 3226, \"fpr\": 0.302020202020202, \"tpr\": 0.8313701177929325, \"n\": 990}, {\"threshold\": 0.858, \"p\": 3226, \"fpr\": 0.302020202020202, \"tpr\": 0.8310601363918165, \"n\": 990}, {\"threshold\": 0.859, \"p\": 3226, \"fpr\": 0.302020202020202, \"tpr\": 0.8310601363918165, \"n\": 990}, {\"threshold\": 0.86, \"p\": 3226, \"fpr\": 0.301010101010101, \"tpr\": 0.8310601363918165, \"n\": 990}, {\"threshold\": 0.861, \"p\": 3226, \"fpr\": 0.301010101010101, \"tpr\": 0.8304401735895847, \"n\": 990}, {\"threshold\": 0.862, \"p\": 3226, \"fpr\": 0.3, \"tpr\": 0.8304401735895847, \"n\": 990}, {\"threshold\": 0.863, \"p\": 3226, \"fpr\": 0.298989898989899, \"tpr\": 0.8301301921884687, \"n\": 990}, {\"threshold\": 0.864, \"p\": 3226, \"fpr\": 0.29797979797979796, \"tpr\": 0.8298202107873528, \"n\": 990}, {\"threshold\": 0.865, \"p\": 3226, \"fpr\": 0.29797979797979796, \"tpr\": 0.8295102293862369, \"n\": 990}, {\"threshold\": 0.866, \"p\": 3226, \"fpr\": 0.296969696969697, \"tpr\": 0.8295102293862369, \"n\": 990}, {\"threshold\": 0.867, \"p\": 3226, \"fpr\": 0.296969696969697, \"tpr\": 0.8292002479851209, \"n\": 990}, {\"threshold\": 0.868, \"p\": 3226, \"fpr\": 0.296969696969697, \"tpr\": 0.8292002479851209, \"n\": 990}, {\"threshold\": 0.869, \"p\": 3226, \"fpr\": 0.25252525252525254, \"tpr\": 0.7637941723496591, \"n\": 990}, {\"threshold\": 0.87, \"p\": 3226, \"fpr\": 0.25252525252525254, \"tpr\": 0.7628642281463113, \"n\": 990}, {\"threshold\": 0.871, \"p\": 3226, \"fpr\": 0.2515151515151515, \"tpr\": 0.7625542467451953, \"n\": 990}, {\"threshold\": 0.872, \"p\": 3226, \"fpr\": 0.2505050505050505, \"tpr\": 0.7606943583384997, \"n\": 990}, {\"threshold\": 0.873, \"p\": 3226, \"fpr\": 0.2494949494949495, \"tpr\": 0.7606943583384997, \"n\": 990}, {\"threshold\": 0.874, \"p\": 3226, \"fpr\": 0.2494949494949495, \"tpr\": 0.7603843769373838, \"n\": 990}, {\"threshold\": 0.875, \"p\": 3226, \"fpr\": 0.2494949494949495, \"tpr\": 0.759454432734036, \"n\": 990}, {\"threshold\": 0.876, \"p\": 3226, \"fpr\": 0.2494949494949495, \"tpr\": 0.7585244885306882, \"n\": 990}, {\"threshold\": 0.877, \"p\": 3226, \"fpr\": 0.2494949494949495, \"tpr\": 0.7585244885306882, \"n\": 990}, {\"threshold\": 0.878, \"p\": 3226, \"fpr\": 0.2494949494949495, \"tpr\": 0.7579045257284563, \"n\": 990}, {\"threshold\": 0.879, \"p\": 3226, \"fpr\": 0.2494949494949495, \"tpr\": 0.7575945443273404, \"n\": 990}, {\"threshold\": 0.88, \"p\": 3226, \"fpr\": 0.2494949494949495, \"tpr\": 0.7575945443273404, \"n\": 990}, {\"threshold\": 0.881, \"p\": 3226, \"fpr\": 0.2494949494949495, \"tpr\": 0.7569745815251085, \"n\": 990}, {\"threshold\": 0.882, \"p\": 3226, \"fpr\": 0.24848484848484848, \"tpr\": 0.7560446373217607, \"n\": 990}, {\"threshold\": 0.883, \"p\": 3226, \"fpr\": 0.24848484848484848, \"tpr\": 0.7560446373217607, \"n\": 990}, {\"threshold\": 0.884, \"p\": 3226, \"fpr\": 0.24848484848484848, \"tpr\": 0.7557346559206448, \"n\": 990}, {\"threshold\": 0.885, \"p\": 3226, \"fpr\": 0.24646464646464647, \"tpr\": 0.7557346559206448, \"n\": 990}, {\"threshold\": 0.886, \"p\": 3226, \"fpr\": 0.24545454545454545, \"tpr\": 0.7557346559206448, \"n\": 990}, {\"threshold\": 0.887, \"p\": 3226, \"fpr\": 0.24545454545454545, \"tpr\": 0.7557346559206448, \"n\": 990}, {\"threshold\": 0.888, \"p\": 3226, \"fpr\": 0.24545454545454545, \"tpr\": 0.7557346559206448, \"n\": 990}, {\"threshold\": 0.889, \"p\": 3226, \"fpr\": 0.24545454545454545, \"tpr\": 0.755114693118413, \"n\": 990}, {\"threshold\": 0.89, \"p\": 3226, \"fpr\": 0.24545454545454545, \"tpr\": 0.7544947303161811, \"n\": 990}, {\"threshold\": 0.891, \"p\": 3226, \"fpr\": 0.24444444444444444, \"tpr\": 0.7538747675139492, \"n\": 990}, {\"threshold\": 0.892, \"p\": 3226, \"fpr\": 0.24242424242424243, \"tpr\": 0.7535647861128333, \"n\": 990}, {\"threshold\": 0.893, \"p\": 3226, \"fpr\": 0.24242424242424243, \"tpr\": 0.7532548047117174, \"n\": 990}, {\"threshold\": 0.894, \"p\": 3226, \"fpr\": 0.24242424242424243, \"tpr\": 0.7529448233106014, \"n\": 990}, {\"threshold\": 0.895, \"p\": 3226, \"fpr\": 0.24242424242424243, \"tpr\": 0.7523248605083696, \"n\": 990}, {\"threshold\": 0.896, \"p\": 3226, \"fpr\": 0.24242424242424243, \"tpr\": 0.7523248605083696, \"n\": 990}, {\"threshold\": 0.897, \"p\": 3226, \"fpr\": 0.24242424242424243, \"tpr\": 0.7523248605083696, \"n\": 990}, {\"threshold\": 0.898, \"p\": 3226, \"fpr\": 0.24242424242424243, \"tpr\": 0.7520148791072536, \"n\": 990}, {\"threshold\": 0.899, \"p\": 3226, \"fpr\": 0.24242424242424243, \"tpr\": 0.7517048977061377, \"n\": 990}, {\"threshold\": 0.9, \"p\": 3226, \"fpr\": 0.24242424242424243, \"tpr\": 0.7510849349039058, \"n\": 990}, {\"threshold\": 0.901, \"p\": 3226, \"fpr\": 0.24141414141414141, \"tpr\": 0.7507749535027899, \"n\": 990}, {\"threshold\": 0.902, \"p\": 3226, \"fpr\": 0.24141414141414141, \"tpr\": 0.750464972101674, \"n\": 990}, {\"threshold\": 0.903, \"p\": 3226, \"fpr\": 0.2404040404040404, \"tpr\": 0.749845009299442, \"n\": 990}, {\"threshold\": 0.904, \"p\": 3226, \"fpr\": 0.2404040404040404, \"tpr\": 0.7489150650960942, \"n\": 990}, {\"threshold\": 0.905, \"p\": 3226, \"fpr\": 0.2404040404040404, \"tpr\": 0.7482951022938623, \"n\": 990}, {\"threshold\": 0.906, \"p\": 3226, \"fpr\": 0.23939393939393938, \"tpr\": 0.7476751394916304, \"n\": 990}, {\"threshold\": 0.907, \"p\": 3226, \"fpr\": 0.23939393939393938, \"tpr\": 0.7470551766893986, \"n\": 990}, {\"threshold\": 0.908, \"p\": 3226, \"fpr\": 0.23939393939393938, \"tpr\": 0.7467451952882826, \"n\": 990}, {\"threshold\": 0.909, \"p\": 3226, \"fpr\": 0.2383838383838384, \"tpr\": 0.7464352138871667, \"n\": 990}, {\"threshold\": 0.91, \"p\": 3226, \"fpr\": 0.2383838383838384, \"tpr\": 0.7461252324860508, \"n\": 990}, {\"threshold\": 0.911, \"p\": 3226, \"fpr\": 0.2383838383838384, \"tpr\": 0.7455052696838189, \"n\": 990}, {\"threshold\": 0.912, \"p\": 3226, \"fpr\": 0.2383838383838384, \"tpr\": 0.744885306881587, \"n\": 990}, {\"threshold\": 0.913, \"p\": 3226, \"fpr\": 0.23535353535353534, \"tpr\": 0.7436453812771233, \"n\": 990}, {\"threshold\": 0.914, \"p\": 3226, \"fpr\": 0.23434343434343435, \"tpr\": 0.7430254184748915, \"n\": 990}, {\"threshold\": 0.915, \"p\": 3226, \"fpr\": 0.23434343434343435, \"tpr\": 0.7424054556726596, \"n\": 990}, {\"threshold\": 0.916, \"p\": 3226, \"fpr\": 0.23434343434343435, \"tpr\": 0.7420954742715437, \"n\": 990}, {\"threshold\": 0.917, \"p\": 3226, \"fpr\": 0.23434343434343435, \"tpr\": 0.7420954742715437, \"n\": 990}, {\"threshold\": 0.918, \"p\": 3226, \"fpr\": 0.23434343434343435, \"tpr\": 0.7411655300681959, \"n\": 990}, {\"threshold\": 0.919, \"p\": 3226, \"fpr\": 0.23333333333333334, \"tpr\": 0.7408555486670799, \"n\": 990}, {\"threshold\": 0.92, \"p\": 3226, \"fpr\": 0.23232323232323232, \"tpr\": 0.7408555486670799, \"n\": 990}, {\"threshold\": 0.921, \"p\": 3226, \"fpr\": 0.23232323232323232, \"tpr\": 0.7402355858648481, \"n\": 990}, {\"threshold\": 0.922, \"p\": 3226, \"fpr\": 0.2313131313131313, \"tpr\": 0.7396156230626162, \"n\": 990}, {\"threshold\": 0.923, \"p\": 3226, \"fpr\": 0.2292929292929293, \"tpr\": 0.7383756974581525, \"n\": 990}, {\"threshold\": 0.924, \"p\": 3226, \"fpr\": 0.2292929292929293, \"tpr\": 0.7377557346559206, \"n\": 990}, {\"threshold\": 0.925, \"p\": 3226, \"fpr\": 0.2292929292929293, \"tpr\": 0.7377557346559206, \"n\": 990}, {\"threshold\": 0.926, \"p\": 3226, \"fpr\": 0.2292929292929293, \"tpr\": 0.7368257904525728, \"n\": 990}, {\"threshold\": 0.927, \"p\": 3226, \"fpr\": 0.2292929292929293, \"tpr\": 0.7365158090514569, \"n\": 990}, {\"threshold\": 0.928, \"p\": 3226, \"fpr\": 0.2292929292929293, \"tpr\": 0.7349659020458772, \"n\": 990}, {\"threshold\": 0.929, \"p\": 3226, \"fpr\": 0.22828282828282828, \"tpr\": 0.7349659020458772, \"n\": 990}, {\"threshold\": 0.93, \"p\": 3226, \"fpr\": 0.22828282828282828, \"tpr\": 0.7346559206447613, \"n\": 990}, {\"threshold\": 0.931, \"p\": 3226, \"fpr\": 0.22828282828282828, \"tpr\": 0.7337259764414135, \"n\": 990}, {\"threshold\": 0.932, \"p\": 3226, \"fpr\": 0.22828282828282828, \"tpr\": 0.7334159950402975, \"n\": 990}, {\"threshold\": 0.933, \"p\": 3226, \"fpr\": 0.22828282828282828, \"tpr\": 0.7334159950402975, \"n\": 990}, {\"threshold\": 0.934, \"p\": 3226, \"fpr\": 0.22727272727272727, \"tpr\": 0.7331060136391816, \"n\": 990}, {\"threshold\": 0.935, \"p\": 3226, \"fpr\": 0.22727272727272727, \"tpr\": 0.7315561066336019, \"n\": 990}, {\"threshold\": 0.936, \"p\": 3226, \"fpr\": 0.22525252525252526, \"tpr\": 0.7309361438313701, \"n\": 990}, {\"threshold\": 0.937, \"p\": 3226, \"fpr\": 0.22525252525252526, \"tpr\": 0.7303161810291382, \"n\": 990}, {\"threshold\": 0.938, \"p\": 3226, \"fpr\": 0.22424242424242424, \"tpr\": 0.7296962182269063, \"n\": 990}, {\"threshold\": 0.939, \"p\": 3226, \"fpr\": 0.2222222222222222, \"tpr\": 0.7296962182269063, \"n\": 990}, {\"threshold\": 0.94, \"p\": 3226, \"fpr\": 0.22121212121212122, \"tpr\": 0.7287662740235585, \"n\": 990}, {\"threshold\": 0.941, \"p\": 3226, \"fpr\": 0.2202020202020202, \"tpr\": 0.7284562926224426, \"n\": 990}, {\"threshold\": 0.942, \"p\": 3226, \"fpr\": 0.2202020202020202, \"tpr\": 0.7278363298202107, \"n\": 990}, {\"threshold\": 0.943, \"p\": 3226, \"fpr\": 0.2202020202020202, \"tpr\": 0.7269063856168629, \"n\": 990}, {\"threshold\": 0.944, \"p\": 3226, \"fpr\": 0.2202020202020202, \"tpr\": 0.7269063856168629, \"n\": 990}, {\"threshold\": 0.945, \"p\": 3226, \"fpr\": 0.2202020202020202, \"tpr\": 0.7262864228146311, \"n\": 990}, {\"threshold\": 0.946, \"p\": 3226, \"fpr\": 0.2202020202020202, \"tpr\": 0.7253564786112833, \"n\": 990}, {\"threshold\": 0.947, \"p\": 3226, \"fpr\": 0.2202020202020202, \"tpr\": 0.7244265344079355, \"n\": 990}, {\"threshold\": 0.948, \"p\": 3226, \"fpr\": 0.2202020202020202, \"tpr\": 0.7238065716057036, \"n\": 990}, {\"threshold\": 0.949, \"p\": 3226, \"fpr\": 0.2202020202020202, \"tpr\": 0.7234965902045877, \"n\": 990}, {\"threshold\": 0.95, \"p\": 3226, \"fpr\": 0.2191919191919192, \"tpr\": 0.7228766274023558, \"n\": 990}, {\"threshold\": 0.951, \"p\": 3226, \"fpr\": 0.2191919191919192, \"tpr\": 0.7222566646001239, \"n\": 990}, {\"threshold\": 0.952, \"p\": 3226, \"fpr\": 0.21818181818181817, \"tpr\": 0.7216367017978921, \"n\": 990}, {\"threshold\": 0.953, \"p\": 3226, \"fpr\": 0.21717171717171718, \"tpr\": 0.7213267203967761, \"n\": 990}, {\"threshold\": 0.954, \"p\": 3226, \"fpr\": 0.21616161616161617, \"tpr\": 0.7191568505889646, \"n\": 990}, {\"threshold\": 0.955, \"p\": 3226, \"fpr\": 0.21515151515151515, \"tpr\": 0.7166769993800371, \"n\": 990}, {\"threshold\": 0.956, \"p\": 3226, \"fpr\": 0.2111111111111111, \"tpr\": 0.7166769993800371, \"n\": 990}, {\"threshold\": 0.957, \"p\": 3226, \"fpr\": 0.2111111111111111, \"tpr\": 0.7145071295722256, \"n\": 990}, {\"threshold\": 0.958, \"p\": 3226, \"fpr\": 0.20909090909090908, \"tpr\": 0.7141971481711097, \"n\": 990}, {\"threshold\": 0.959, \"p\": 3226, \"fpr\": 0.2080808080808081, \"tpr\": 0.712957222566646, \"n\": 990}, {\"threshold\": 0.96, \"p\": 3226, \"fpr\": 0.2080808080808081, \"tpr\": 0.7104773713577185, \"n\": 990}, {\"threshold\": 0.961, \"p\": 3226, \"fpr\": 0.2080808080808081, \"tpr\": 0.7098574085554866, \"n\": 990}, {\"threshold\": 0.962, \"p\": 3226, \"fpr\": 0.20707070707070707, \"tpr\": 0.7086174829510229, \"n\": 990}, {\"threshold\": 0.963, \"p\": 3226, \"fpr\": 0.20505050505050504, \"tpr\": 0.7067575945443273, \"n\": 990}, {\"threshold\": 0.964, \"p\": 3226, \"fpr\": 0.20505050505050504, \"tpr\": 0.7042777433353998, \"n\": 990}, {\"threshold\": 0.965, \"p\": 3226, \"fpr\": 0.20404040404040405, \"tpr\": 0.7030378177309361, \"n\": 990}, {\"threshold\": 0.966, \"p\": 3226, \"fpr\": 0.20303030303030303, \"tpr\": 0.7024178549287042, \"n\": 990}, {\"threshold\": 0.967, \"p\": 3226, \"fpr\": 0.20202020202020202, \"tpr\": 0.6999380037197768, \"n\": 990}, {\"threshold\": 0.968, \"p\": 3226, \"fpr\": 0.201010101010101, \"tpr\": 0.6980781153130812, \"n\": 990}, {\"threshold\": 0.969, \"p\": 3226, \"fpr\": 0.19696969696969696, \"tpr\": 0.6962182269063856, \"n\": 990}, {\"threshold\": 0.97, \"p\": 3226, \"fpr\": 0.19696969696969696, \"tpr\": 0.694048357098574, \"n\": 990}, {\"threshold\": 0.971, \"p\": 3226, \"fpr\": 0.19292929292929292, \"tpr\": 0.6934283942963422, \"n\": 990}, {\"threshold\": 0.972, \"p\": 3226, \"fpr\": 0.18888888888888888, \"tpr\": 0.6915685058896466, \"n\": 990}, {\"threshold\": 0.973, \"p\": 3226, \"fpr\": 0.18787878787878787, \"tpr\": 0.6884686918784872, \"n\": 990}, {\"threshold\": 0.974, \"p\": 3226, \"fpr\": 0.18686868686868688, \"tpr\": 0.6862988220706757, \"n\": 990}, {\"threshold\": 0.975, \"p\": 3226, \"fpr\": 0.18484848484848485, \"tpr\": 0.6828890266584005, \"n\": 990}, {\"threshold\": 0.976, \"p\": 3226, \"fpr\": 0.18282828282828284, \"tpr\": 0.6813391196528208, \"n\": 990}, {\"threshold\": 0.977, \"p\": 3226, \"fpr\": 0.18181818181818182, \"tpr\": 0.6800991940483571, \"n\": 990}, {\"threshold\": 0.978, \"p\": 3226, \"fpr\": 0.18181818181818182, \"tpr\": 0.6766893986360818, \"n\": 990}, {\"threshold\": 0.979, \"p\": 3226, \"fpr\": 0.18181818181818182, \"tpr\": 0.6732796032238065, \"n\": 990}, {\"threshold\": 0.98, \"p\": 3226, \"fpr\": 0.18181818181818182, \"tpr\": 0.671109733415995, \"n\": 990}, {\"threshold\": 0.981, \"p\": 3226, \"fpr\": 0.1808080808080808, \"tpr\": 0.6649101053936763, \"n\": 990}, {\"threshold\": 0.982, \"p\": 3226, \"fpr\": 0.1797979797979798, \"tpr\": 0.6615003099814011, \"n\": 990}, {\"threshold\": 0.983, \"p\": 3226, \"fpr\": 0.17777777777777778, \"tpr\": 0.6596404215747055, \"n\": 990}, {\"threshold\": 0.984, \"p\": 3226, \"fpr\": 0.17777777777777778, \"tpr\": 0.6559206447613143, \"n\": 990}, {\"threshold\": 0.985, \"p\": 3226, \"fpr\": 0.17575757575757575, \"tpr\": 0.6543707377557346, \"n\": 990}, {\"threshold\": 0.986, \"p\": 3226, \"fpr\": 0.17373737373737375, \"tpr\": 0.6491010539367638, \"n\": 990}, {\"threshold\": 0.987, \"p\": 3226, \"fpr\": 0.17373737373737375, \"tpr\": 0.6441413515189088, \"n\": 990}, {\"threshold\": 0.988, \"p\": 3226, \"fpr\": 0.17272727272727273, \"tpr\": 0.6413515189088654, \"n\": 990}, {\"threshold\": 0.989, \"p\": 3226, \"fpr\": 0.1686868686868687, \"tpr\": 0.6363918164910105, \"n\": 990}, {\"threshold\": 0.99, \"p\": 3226, \"fpr\": 0.16565656565656567, \"tpr\": 0.6261624302541847, \"n\": 990}, {\"threshold\": 0.991, \"p\": 3226, \"fpr\": 0.16161616161616163, \"tpr\": 0.6187228766274023, \"n\": 990}, {\"threshold\": 0.992, \"p\": 3226, \"fpr\": 0.15858585858585858, \"tpr\": 0.6125232486050837, \"n\": 990}, {\"threshold\": 0.993, \"p\": 3226, \"fpr\": 0.15858585858585858, \"tpr\": 0.606323620582765, \"n\": 990}, {\"threshold\": 0.994, \"p\": 3226, \"fpr\": 0.15151515151515152, \"tpr\": 0.5957842529448233, \"n\": 990}, {\"threshold\": 0.995, \"p\": 3226, \"fpr\": 0.14747474747474748, \"tpr\": 0.5849349039057656, \"n\": 990}, {\"threshold\": 0.996, \"p\": 3226, \"fpr\": 0.1404040404040404, \"tpr\": 0.5669559826410415, \"n\": 990}, {\"threshold\": 0.997, \"p\": 3226, \"fpr\": 0.12525252525252525, \"tpr\": 0.5474271543707377, \"n\": 990}, {\"threshold\": 0.998, \"p\": 3226, \"fpr\": 0.11414141414141414, \"tpr\": 0.5164290142591444, \"n\": 990}, {\"threshold\": 0.999, \"p\": 3226, \"fpr\": 0.09898989898989899, \"tpr\": 0.47427154370737756, \"n\": 990}, {\"threshold\": 1.0, \"p\": 3226, \"fpr\": 0.0, \"tpr\": 0.0, \"n\": 990}]}]]}, e);\n",
       "                });\n",
       "            })();\n",
       "        "
      ]
     },
     "metadata": {},
     "output_type": "display_data"
    }
   ],
   "source": [
    "sentiment_model.show(view='Evaluation')"
   ]
  },
  {
   "cell_type": "code",
   "execution_count": 16,
   "metadata": {
    "collapsed": true
   },
   "outputs": [],
   "source": [
    "twits['predicted_sentiment'] = sentiment_model.predict(twits, output_type='probability')"
   ]
  },
  {
   "cell_type": "code",
   "execution_count": 17,
   "metadata": {
    "collapsed": false
   },
   "outputs": [
    {
     "data": {
      "text/html": [
       "<div style=\"max-height:1000px;max-width:1500px;overflow:auto;\"><table frame=\"box\" rules=\"cols\">\n",
       "    <tr>\n",
       "        <th style=\"padding-left: 1em; padding-right: 1em; text-align: center\">User Name</th>\n",
       "        <th style=\"padding-left: 1em; padding-right: 1em; text-align: center\">body</th>\n",
       "        <th style=\"padding-left: 1em; padding-right: 1em; text-align: center\">created_at</th>\n",
       "        <th style=\"padding-left: 1em; padding-right: 1em; text-align: center\">id</th>\n",
       "        <th style=\"padding-left: 1em; padding-right: 1em; text-align: center\">sentiment</th>\n",
       "        <th style=\"padding-left: 1em; padding-right: 1em; text-align: center\">symbol</th>\n",
       "    </tr>\n",
       "    <tr>\n",
       "        <td style=\"padding-left: 1em; padding-right: 1em; text-align: center; vertical-align: top\">UseToBe4RingsPatsRule</td>\n",
       "        <td style=\"padding-left: 1em; padding-right: 1em; text-align: center; vertical-align: top\">$SGYP The usual games. A<br>Positive article on SA ...</td>\n",
       "        <td style=\"padding-left: 1em; padding-right: 1em; text-align: center; vertical-align: top\">2017-08-04T17:20:50Z</td>\n",
       "        <td style=\"padding-left: 1em; padding-right: 1em; text-align: center; vertical-align: top\">91037914</td>\n",
       "        <td style=\"padding-left: 1em; padding-right: 1em; text-align: center; vertical-align: top\">Bullish</td>\n",
       "        <td style=\"padding-left: 1em; padding-right: 1em; text-align: center; vertical-align: top\">IRWD</td>\n",
       "    </tr>\n",
       "    <tr>\n",
       "        <td style=\"padding-left: 1em; padding-right: 1em; text-align: center; vertical-align: top\">Stockflare Alerts</td>\n",
       "        <td style=\"padding-left: 1em; padding-right: 1em; text-align: center; vertical-align: top\">$ON: ON Semiconductor<br>Corp is now forecast to ...</td>\n",
       "        <td style=\"padding-left: 1em; padding-right: 1em; text-align: center; vertical-align: top\">2017-08-08T09:45:37Z</td>\n",
       "        <td style=\"padding-left: 1em; padding-right: 1em; text-align: center; vertical-align: top\">91291896</td>\n",
       "        <td style=\"padding-left: 1em; padding-right: 1em; text-align: center; vertical-align: top\">Bullish</td>\n",
       "        <td style=\"padding-left: 1em; padding-right: 1em; text-align: center; vertical-align: top\">ON</td>\n",
       "    </tr>\n",
       "    <tr>\n",
       "        <td style=\"padding-left: 1em; padding-right: 1em; text-align: center; vertical-align: top\">Kyle Becker</td>\n",
       "        <td style=\"padding-left: 1em; padding-right: 1em; text-align: center; vertical-align: top\">$AMZN Consolidate, grind<br>higher. Consolidate, ...</td>\n",
       "        <td style=\"padding-left: 1em; padding-right: 1em; text-align: center; vertical-align: top\">2017-08-03T15:22:02Z</td>\n",
       "        <td style=\"padding-left: 1em; padding-right: 1em; text-align: center; vertical-align: top\">90851803</td>\n",
       "        <td style=\"padding-left: 1em; padding-right: 1em; text-align: center; vertical-align: top\">Bullish</td>\n",
       "        <td style=\"padding-left: 1em; padding-right: 1em; text-align: center; vertical-align: top\">AMZN</td>\n",
       "    </tr>\n",
       "    <tr>\n",
       "        <td style=\"padding-left: 1em; padding-right: 1em; text-align: center; vertical-align: top\">Stockflare Alerts</td>\n",
       "        <td style=\"padding-left: 1em; padding-right: 1em; text-align: center; vertical-align: top\">$EDN: Empresa<br>Distribuidora y Cmrz Nrt ...</td>\n",
       "        <td style=\"padding-left: 1em; padding-right: 1em; text-align: center; vertical-align: top\">2017-06-23T09:30:15Z</td>\n",
       "        <td style=\"padding-left: 1em; padding-right: 1em; text-align: center; vertical-align: top\">86835974</td>\n",
       "        <td style=\"padding-left: 1em; padding-right: 1em; text-align: center; vertical-align: top\">Bullish</td>\n",
       "        <td style=\"padding-left: 1em; padding-right: 1em; text-align: center; vertical-align: top\">EDN</td>\n",
       "    </tr>\n",
       "    <tr>\n",
       "        <td style=\"padding-left: 1em; padding-right: 1em; text-align: center; vertical-align: top\">REALALOY</td>\n",
       "        <td style=\"padding-left: 1em; padding-right: 1em; text-align: center; vertical-align: top\">$BBRY Game of Pwns:<br>Security Lessons From ...</td>\n",
       "        <td style=\"padding-left: 1em; padding-right: 1em; text-align: center; vertical-align: top\">2017-08-08T02:20:46Z</td>\n",
       "        <td style=\"padding-left: 1em; padding-right: 1em; text-align: center; vertical-align: top\">91280330</td>\n",
       "        <td style=\"padding-left: 1em; padding-right: 1em; text-align: center; vertical-align: top\">Bullish</td>\n",
       "        <td style=\"padding-left: 1em; padding-right: 1em; text-align: center; vertical-align: top\">BBRY</td>\n",
       "    </tr>\n",
       "    <tr>\n",
       "        <td style=\"padding-left: 1em; padding-right: 1em; text-align: center; vertical-align: top\">AC</td>\n",
       "        <td style=\"padding-left: 1em; padding-right: 1em; text-align: center; vertical-align: top\">$AMD profit waves are<br>ramping up &amp;amp; the ...</td>\n",
       "        <td style=\"padding-left: 1em; padding-right: 1em; text-align: center; vertical-align: top\">2017-08-07T01:59:46Z</td>\n",
       "        <td style=\"padding-left: 1em; padding-right: 1em; text-align: center; vertical-align: top\">91162035</td>\n",
       "        <td style=\"padding-left: 1em; padding-right: 1em; text-align: center; vertical-align: top\">Bullish</td>\n",
       "        <td style=\"padding-left: 1em; padding-right: 1em; text-align: center; vertical-align: top\">AMD</td>\n",
       "    </tr>\n",
       "    <tr>\n",
       "        <td style=\"padding-left: 1em; padding-right: 1em; text-align: center; vertical-align: top\">Native Texan 777</td>\n",
       "        <td style=\"padding-left: 1em; padding-right: 1em; text-align: center; vertical-align: top\">$BBRY filling up, crispy<br>crunch getting blackb ...</td>\n",
       "        <td style=\"padding-left: 1em; padding-right: 1em; text-align: center; vertical-align: top\">2017-08-07T10:39:59Z</td>\n",
       "        <td style=\"padding-left: 1em; padding-right: 1em; text-align: center; vertical-align: top\">91172810</td>\n",
       "        <td style=\"padding-left: 1em; padding-right: 1em; text-align: center; vertical-align: top\">Bullish</td>\n",
       "        <td style=\"padding-left: 1em; padding-right: 1em; text-align: center; vertical-align: top\">BBRY</td>\n",
       "    </tr>\n",
       "    <tr>\n",
       "        <td style=\"padding-left: 1em; padding-right: 1em; text-align: center; vertical-align: top\">Fred Logan 2</td>\n",
       "        <td style=\"padding-left: 1em; padding-right: 1em; text-align: center; vertical-align: top\">$FB FB 📺 TV here! Next<br>event on tap; 3:1 split ...</td>\n",
       "        <td style=\"padding-left: 1em; padding-right: 1em; text-align: center; vertical-align: top\">2017-08-11T07:57:25Z</td>\n",
       "        <td style=\"padding-left: 1em; padding-right: 1em; text-align: center; vertical-align: top\">91750928</td>\n",
       "        <td style=\"padding-left: 1em; padding-right: 1em; text-align: center; vertical-align: top\">Bullish</td>\n",
       "        <td style=\"padding-left: 1em; padding-right: 1em; text-align: center; vertical-align: top\">FB</td>\n",
       "    </tr>\n",
       "    <tr>\n",
       "        <td style=\"padding-left: 1em; padding-right: 1em; text-align: center; vertical-align: top\">brascano</td>\n",
       "        <td style=\"padding-left: 1em; padding-right: 1em; text-align: center; vertical-align: top\">$ENDP assume mesh<br>payments end in 2019 and ...</td>\n",
       "        <td style=\"padding-left: 1em; padding-right: 1em; text-align: center; vertical-align: top\">2017-08-11T03:22:40Z</td>\n",
       "        <td style=\"padding-left: 1em; padding-right: 1em; text-align: center; vertical-align: top\">91742762</td>\n",
       "        <td style=\"padding-left: 1em; padding-right: 1em; text-align: center; vertical-align: top\">Bullish</td>\n",
       "        <td style=\"padding-left: 1em; padding-right: 1em; text-align: center; vertical-align: top\">ENDP</td>\n",
       "    </tr>\n",
       "    <tr>\n",
       "        <td style=\"padding-left: 1em; padding-right: 1em; text-align: center; vertical-align: top\">CorruptStreet</td>\n",
       "        <td style=\"padding-left: 1em; padding-right: 1em; text-align: center; vertical-align: top\">@upcnichol my belief.<br>Makes perfect sense.  ...</td>\n",
       "        <td style=\"padding-left: 1em; padding-right: 1em; text-align: center; vertical-align: top\">2017-08-04T20:24:53Z</td>\n",
       "        <td style=\"padding-left: 1em; padding-right: 1em; text-align: center; vertical-align: top\">91071652</td>\n",
       "        <td style=\"padding-left: 1em; padding-right: 1em; text-align: center; vertical-align: top\">Bullish</td>\n",
       "        <td style=\"padding-left: 1em; padding-right: 1em; text-align: center; vertical-align: top\">DIS</td>\n",
       "    </tr>\n",
       "</table>\n",
       "<table frame=\"box\" rules=\"cols\">\n",
       "    <tr>\n",
       "        <th style=\"padding-left: 1em; padding-right: 1em; text-align: center\">username</th>\n",
       "        <th style=\"padding-left: 1em; padding-right: 1em; text-align: center\">word_count</th>\n",
       "        <th style=\"padding-left: 1em; padding-right: 1em; text-align: center\">predicted_sentiment</th>\n",
       "    </tr>\n",
       "    <tr>\n",
       "        <td style=\"padding-left: 1em; padding-right: 1em; text-align: center; vertical-align: top\">5RingsPatsRule</td>\n",
       "        <td style=\"padding-left: 1em; padding-right: 1em; text-align: center; vertical-align: top\">{'later,': 1,<br>'outlook!!': 1, 'quote': ...</td>\n",
       "        <td style=\"padding-left: 1em; padding-right: 1em; text-align: center; vertical-align: top\">1.0</td>\n",
       "    </tr>\n",
       "    <tr>\n",
       "        <td style=\"padding-left: 1em; padding-right: 1em; text-align: center; vertical-align: top\">stockflare_alerts</td>\n",
       "        <td style=\"padding-left: 1em; padding-right: 1em; text-align: center; vertical-align: top\">{'previously,': 1, 'pay':<br>1, 'forecast': 1, ...</td>\n",
       "        <td style=\"padding-left: 1em; padding-right: 1em; text-align: center; vertical-align: top\">1.0</td>\n",
       "    </tr>\n",
       "    <tr>\n",
       "        <td style=\"padding-left: 1em; padding-right: 1em; text-align: center; vertical-align: top\">BossMoney</td>\n",
       "        <td style=\"padding-left: 1em; padding-right: 1em; text-align: center; vertical-align: top\">{'consolidate,': 2,<br>'higher.': 2, 'pattern': ...</td>\n",
       "        <td style=\"padding-left: 1em; padding-right: 1em; text-align: center; vertical-align: top\">1.0</td>\n",
       "    </tr>\n",
       "    <tr>\n",
       "        <td style=\"padding-left: 1em; padding-right: 1em; text-align: center; vertical-align: top\">stockflare_alerts</td>\n",
       "        <td style=\"padding-left: 1em; padding-right: 1em; text-align: center; vertical-align: top\">{'previously,': 1,<br>'empresa': 1, 'cmrz': 1, ...</td>\n",
       "        <td style=\"padding-left: 1em; padding-right: 1em; text-align: center; vertical-align: top\">1.0</td>\n",
       "    </tr>\n",
       "    <tr>\n",
       "        <td style=\"padding-left: 1em; padding-right: 1em; text-align: center; vertical-align: top\">REALALOY</td>\n",
       "        <td style=\"padding-left: 1em; padding-right: 1em; text-align: center; vertical-align: top\">{'lessons': 1, 'hbo': 1,<br>'alex': 1, 'bb': 1, ...</td>\n",
       "        <td style=\"padding-left: 1em; padding-right: 1em; text-align: center; vertical-align: top\">1.0</td>\n",
       "    </tr>\n",
       "    <tr>\n",
       "        <td style=\"padding-left: 1em; padding-right: 1em; text-align: center; vertical-align: top\">ACTech</td>\n",
       "        <td style=\"padding-left: 1em; padding-right: 1em; text-align: center; vertical-align: top\">{'intel': 1, 'waves': 3,<br>'profit': 1, 'say..': 1, ...</td>\n",
       "        <td style=\"padding-left: 1em; padding-right: 1em; text-align: center; vertical-align: top\">1.0</td>\n",
       "    </tr>\n",
       "    <tr>\n",
       "        <td style=\"padding-left: 1em; padding-right: 1em; text-align: center; vertical-align: top\">sharkyknows</td>\n",
       "        <td style=\"padding-left: 1em; padding-right: 1em; text-align: center; vertical-align: top\">{'crunch': 1, 'up,': 1,<br>'shorts': 1, 'money': 1, ...</td>\n",
       "        <td style=\"padding-left: 1em; padding-right: 1em; text-align: center; vertical-align: top\">1.0</td>\n",
       "    </tr>\n",
       "    <tr>\n",
       "        <td style=\"padding-left: 1em; padding-right: 1em; text-align: center; vertical-align: top\">fredlogan2</td>\n",
       "        <td style=\"padding-left: 1em; padding-right: 1em; text-align: center; vertical-align: top\">{'\\xf0\\x9f\\x93\\xba': 1,<br>'tv': 1, 'tap;': 1, ...</td>\n",
       "        <td style=\"padding-left: 1em; padding-right: 1em; text-align: center; vertical-align: top\">1.0</td>\n",
       "    </tr>\n",
       "    <tr>\n",
       "        <td style=\"padding-left: 1em; padding-right: 1em; text-align: center; vertical-align: top\">brascano</td>\n",
       "        <td style=\"padding-left: 1em; padding-right: 1em; text-align: center; vertical-align: top\">{'product': 1, 'end': 1,<br>'revenue': 1, 'mm': 1, ...</td>\n",
       "        <td style=\"padding-left: 1em; padding-right: 1em; text-align: center; vertical-align: top\">1.0</td>\n",
       "    </tr>\n",
       "    <tr>\n",
       "        <td style=\"padding-left: 1em; padding-right: 1em; text-align: center; vertical-align: top\">CorruptStreet</td>\n",
       "        <td style=\"padding-left: 1em; padding-right: 1em; text-align: center; vertical-align: top\">{'perfect': 1, 'belief.':<br>1, 'major': 1, ...</td>\n",
       "        <td style=\"padding-left: 1em; padding-right: 1em; text-align: center; vertical-align: top\">1.0</td>\n",
       "    </tr>\n",
       "</table>\n",
       "[10 rows x 9 columns]<br/>\n",
       "</div>"
      ],
      "text/plain": [
       "Columns:\n",
       "\tUser Name\tstr\n",
       "\tbody\tstr\n",
       "\tcreated_at\tstr\n",
       "\tid\tint\n",
       "\tsentiment\tstr\n",
       "\tsymbol\tstr\n",
       "\tusername\tstr\n",
       "\tword_count\tdict\n",
       "\tpredicted_sentiment\tfloat\n",
       "\n",
       "Rows: 10\n",
       "\n",
       "Data:\n",
       "+-----------------------+-------------------------------+----------------------+\n",
       "|       User Name       |              body             |      created_at      |\n",
       "+-----------------------+-------------------------------+----------------------+\n",
       "| UseToBe4RingsPatsRule | $SGYP The usual games. A P... | 2017-08-04T17:20:50Z |\n",
       "|   Stockflare Alerts   | $ON: ON Semiconductor Corp... | 2017-08-08T09:45:37Z |\n",
       "|      Kyle Becker      | $AMZN Consolidate, grind h... | 2017-08-03T15:22:02Z |\n",
       "|   Stockflare Alerts   | $EDN: Empresa Distribuidor... | 2017-06-23T09:30:15Z |\n",
       "|        REALALOY       | $BBRY Game of Pwns: Securi... | 2017-08-08T02:20:46Z |\n",
       "|           AC          | $AMD profit waves are ramp... | 2017-08-07T01:59:46Z |\n",
       "|    Native Texan 777   | $BBRY filling up, crispy c... | 2017-08-07T10:39:59Z |\n",
       "|      Fred Logan 2     | $FB FB 📺 TV here! Next ev... | 2017-08-11T07:57:25Z |\n",
       "|        brascano       | $ENDP assume mesh payments... | 2017-08-11T03:22:40Z |\n",
       "|     CorruptStreet     | @upcnichol my belief. Make... | 2017-08-04T20:24:53Z |\n",
       "+-----------------------+-------------------------------+----------------------+\n",
       "+----------+-----------+--------+-------------------+\n",
       "|    id    | sentiment | symbol |      username     |\n",
       "+----------+-----------+--------+-------------------+\n",
       "| 91037914 |  Bullish  |  IRWD  |   5RingsPatsRule  |\n",
       "| 91291896 |  Bullish  |   ON   | stockflare_alerts |\n",
       "| 90851803 |  Bullish  |  AMZN  |     BossMoney     |\n",
       "| 86835974 |  Bullish  |  EDN   | stockflare_alerts |\n",
       "| 91280330 |  Bullish  |  BBRY  |      REALALOY     |\n",
       "| 91162035 |  Bullish  |  AMD   |       ACTech      |\n",
       "| 91172810 |  Bullish  |  BBRY  |    sharkyknows    |\n",
       "| 91750928 |  Bullish  |   FB   |     fredlogan2    |\n",
       "| 91742762 |  Bullish  |  ENDP  |      brascano     |\n",
       "| 91071652 |  Bullish  |  DIS   |   CorruptStreet   |\n",
       "+----------+-----------+--------+-------------------+\n",
       "+-------------------------------+---------------------+\n",
       "|           word_count          | predicted_sentiment |\n",
       "+-------------------------------+---------------------+\n",
       "| {'later,': 1, 'outlook!!':... |         1.0         |\n",
       "| {'previously,': 1, 'pay': ... |         1.0         |\n",
       "| {'consolidate,': 2, 'highe... |         1.0         |\n",
       "| {'previously,': 1, 'empres... |         1.0         |\n",
       "| {'lessons': 1, 'hbo': 1, '... |         1.0         |\n",
       "| {'intel': 1, 'waves': 3, '... |         1.0         |\n",
       "| {'crunch': 1, 'up,': 1, 's... |         1.0         |\n",
       "| {'\\xf0\\x9f\\x93\\xba': 1, 't... |         1.0         |\n",
       "| {'product': 1, 'end': 1, '... |         1.0         |\n",
       "| {'perfect': 1, 'belief.': ... |         1.0         |\n",
       "+-------------------------------+---------------------+\n",
       "[10 rows x 9 columns]"
      ]
     },
     "execution_count": 17,
     "metadata": {},
     "output_type": "execute_result"
    }
   ],
   "source": [
    "twits = twits.sort('predicted_sentiment', ascending=False)\n",
    "twits.head()"
   ]
  },
  {
   "cell_type": "code",
   "execution_count": 18,
   "metadata": {
    "collapsed": false
   },
   "outputs": [
    {
     "data": {
      "text/plain": [
       "'$SGYP The usual games. A Positive article on SA yesterday, and of course, 24 hours later, a Quote More Realistic Outlook!! $IRWD is scared.'"
      ]
     },
     "execution_count": 18,
     "metadata": {},
     "output_type": "execute_result"
    }
   ],
   "source": [
    "#Most positive review\n",
    "twits[0]['body']"
   ]
  },
  {
   "cell_type": "code",
   "execution_count": 19,
   "metadata": {
    "collapsed": false
   },
   "outputs": [
    {
     "data": {
      "text/plain": [
       "'$ON: ON Semiconductor Corp is now forecast to pay a dividend of $0.43. Previously, no dividend was forecast. (https://stockflare.com/stock/ON.O)'"
      ]
     },
     "execution_count": 19,
     "metadata": {},
     "output_type": "execute_result"
    }
   ],
   "source": [
    "twits[1]['body']"
   ]
  },
  {
   "cell_type": "code",
   "execution_count": 20,
   "metadata": {
    "collapsed": false
   },
   "outputs": [
    {
     "data": {
      "text/plain": [
       "'$AMZN Consolidate, grind higher. Consolidate, grind higher. Easy pattern to spot. Will close green today.'"
      ]
     },
     "execution_count": 20,
     "metadata": {},
     "output_type": "execute_result"
    }
   ],
   "source": [
    "twits[2]['body']"
   ]
  },
  {
   "cell_type": "code",
   "execution_count": 21,
   "metadata": {
    "collapsed": false
   },
   "outputs": [
    {
     "data": {
      "text/plain": [
       "'$WFC gap insurance is a huge scam the dealership tells you it&#39;s mandatory to get the loan for subprime loans wfc  is a pos bank this is bad'"
      ]
     },
     "execution_count": 21,
     "metadata": {},
     "output_type": "execute_result"
    }
   ],
   "source": [
    "twits[-1]['body']"
   ]
  },
  {
   "cell_type": "code",
   "execution_count": 22,
   "metadata": {
    "collapsed": false
   },
   "outputs": [
    {
     "data": {
      "text/plain": [
       "'$TSLA Tesla will pull a Trivago very soon. The hype is over, Musk will find excuses and labor turning Union. Strong Sell all day long.'"
      ]
     },
     "execution_count": 22,
     "metadata": {},
     "output_type": "execute_result"
    }
   ],
   "source": [
    "twits[-2]['body']"
   ]
  },
  {
   "cell_type": "code",
   "execution_count": 23,
   "metadata": {
    "collapsed": false
   },
   "outputs": [
    {
     "data": {
      "text/plain": [
       "'$GDDY my sell short recommendation yesterday would have netted you +5% profit in one day. Sell short more $GDDY unsustainable neg EPS biz'"
      ]
     },
     "execution_count": 23,
     "metadata": {},
     "output_type": "execute_result"
    }
   ],
   "source": [
    "twits[-3]['body']"
   ]
  },
  {
   "cell_type": "code",
   "execution_count": 24,
   "metadata": {
    "collapsed": false
   },
   "outputs": [
    {
     "name": "stdout",
     "output_type": "stream",
     "text": [
      "+------------+----------------+---------+---------------+--------+\n",
      "|    name    |     index      |  class  |     value     | stderr |\n",
      "+------------+----------------+---------+---------------+--------+\n",
      "| word_count |  previously,   | Bullish |  37.533785801 |  None  |\n",
      "| word_count |    rock...     | Bullish | 29.4571836963 |  None  |\n",
      "| word_count |   careful..    | Bullish | 22.6552830374 |  None  |\n",
      "| word_count |     games.     | Bullish | 22.0816562532 |  None  |\n",
      "| word_count |   @wolfscout   | Bullish | 21.1788459232 |  None  |\n",
      "| word_count |   happened?    | Bullish | 20.9390921485 |  None  |\n",
      "| word_count |    freaked.    | Bullish | 19.4250209836 |  None  |\n",
      "| word_count | inexperienced  | Bullish | 18.7634260641 |  None  |\n",
      "| word_count |      dime      | Bullish | 17.4134512174 |  None  |\n",
      "| word_count |    yielded     | Bullish | 17.2189691088 |  None  |\n",
      "| word_count |     fear.      | Bullish | 17.1077630512 |  None  |\n",
      "| word_count |    #squeeze    | Bullish | 17.0339232642 |  None  |\n",
      "| word_count |     rolled     | Bullish | 16.9162695453 |  None  |\n",
      "| word_count |      pls?      | Bullish | 16.6890914589 |  None  |\n",
      "| word_count |     face!      | Bullish |  16.594263529 |  None  |\n",
      "| word_count |     sale,      | Bullish | 16.5658564652 |  None  |\n",
      "| word_count |     lrcx.      | Bullish | 16.4281523018 |  None  |\n",
      "| word_count |      set.      | Bullish | 16.2664852437 |  None  |\n",
      "| word_count |    change?     | Bullish | 15.8771267909 |  None  |\n",
      "| word_count |     wilts      | Bullish | 15.7383663271 |  None  |\n",
      "| word_count |  observation   | Bullish | 15.5767046359 |  None  |\n",
      "| word_count |     narrow     | Bullish | 15.5590790657 |  None  |\n",
      "| word_count | overreaction.  | Bullish | 15.5429536364 |  None  |\n",
      "| word_count |  yourselves!   | Bullish | 15.5025175594 |  None  |\n",
      "| word_count |     assume     | Bullish | 15.2602744162 |  None  |\n",
      "| word_count |    taking?     | Bullish | 15.2602331564 |  None  |\n",
      "| word_count |   squeeze...   | Bullish |  15.23370596  |  None  |\n",
      "| word_count |    blasting    | Bullish | 15.1727402772 |  None  |\n",
      "| word_count |   aftehours    | Bullish |  15.169169512 |  None  |\n",
      "| word_count |     wreck      | Bullish | 15.1121853643 |  None  |\n",
      "| word_count |   ivosidenib   | Bullish | 14.8424166369 |  None  |\n",
      "| word_count |      nada      | Bullish | 14.7684435388 |  None  |\n",
      "| word_count |    shouldve    | Bullish | 14.7647728249 |  None  |\n",
      "| word_count | shareholders?  | Bullish | 14.6799845193 |  None  |\n",
      "| word_count |    session     | Bullish | 14.6275860696 |  None  |\n",
      "| word_count |    nuclear.    | Bullish | 14.3382780166 |  None  |\n",
      "| word_count |     result     | Bullish | 14.3364285955 |  None  |\n",
      "| word_count |    🍀🍀🍀🍀    | Bullish | 14.2775195565 |  None  |\n",
      "| word_count |      nick      | Bullish | 14.1758415611 |  None  |\n",
      "| word_count |   secondary.   | Bullish | 14.1145267255 |  None  |\n",
      "| word_count |    scumbags    | Bullish | 13.9981869394 |  None  |\n",
      "| word_count |     wraps      | Bullish | 13.9793050898 |  None  |\n",
      "| word_count |     chaps!     | Bullish | 13.8097405122 |  None  |\n",
      "| word_count |   amazoned!!   | Bullish | 13.6894375206 |  None  |\n",
      "| word_count |    more...     | Bullish | 13.6694231991 |  None  |\n",
      "| word_count | here..oversold | Bullish | 13.6558259485 |  None  |\n",
      "| word_count |     cray!      | Bullish | 13.6543657707 |  None  |\n",
      "| word_count |      usa.      | Bullish | 13.5676597028 |  None  |\n",
      "| word_count |   hilarious,   | Bullish | 13.3233406334 |  None  |\n",
      "| word_count |       ny       | Bullish | 13.3077246942 |  None  |\n",
      "| word_count |    numbered    | Bullish | 13.2900557334 |  None  |\n",
      "| word_count |     bound?     | Bullish | 13.2837183857 |  None  |\n",
      "| word_count |    broader     | Bullish | 13.2440615228 |  None  |\n",
      "| word_count |    slowing,    | Bullish | 13.2196092072 |  None  |\n",
      "| word_count |     #opec      | Bullish | 13.1829073109 |  None  |\n",
      "| word_count |     many.      | Bullish | 12.9846016192 |  None  |\n",
      "| word_count |     price:     | Bullish | 12.9083417934 |  None  |\n",
      "| word_count |     tmmrw      | Bullish | 12.8159902088 |  None  |\n",
      "| word_count |   downward,    | Bullish | 12.7466080441 |  None  |\n",
      "| word_count |   turquoise    | Bullish | 12.7298674002 |  None  |\n",
      "| word_count |     dumpin     | Bullish | 12.6832756207 |  None  |\n",
      "| word_count |    @beekers    | Bullish | 12.6068684434 |  None  |\n",
      "| word_count |   overthink    | Bullish |  12.490168653 |  None  |\n",
      "| word_count | winner...this  | Bullish | 12.4624897046 |  None  |\n",
      "| word_count |      row.      | Bullish | 12.3400019159 |  None  |\n",
      "| word_count |    marriage    | Bullish | 12.2949921781 |  None  |\n",
      "| word_count |  oiiiiiiiiii   | Bullish | 12.2757217746 |  None  |\n",
      "| word_count |   release...   | Bullish | 12.2552890558 |  None  |\n",
      "| word_count |       ;(       | Bullish |  12.225506804 |  None  |\n",
      "| word_count |    @kblaker    | Bullish | 12.1761267125 |  None  |\n",
      "| word_count |   ezmonetyto   | Bullish | 12.0453881429 |  None  |\n",
      "| word_count |    breaks.     | Bullish | 12.0423326508 |  None  |\n",
      "| word_count |      diva      | Bullish | 12.0216201918 |  None  |\n",
      "| word_count |    costco.     | Bullish |  12.008846665 |  None  |\n",
      "| word_count |    explains    | Bullish | 11.9469579676 |  None  |\n",
      "| word_count |      fave      | Bullish |  11.944614239 |  None  |\n",
      "| word_count |     fire.      | Bullish | 11.9328265355 |  None  |\n",
      "| word_count |    hoarding    | Bullish | 11.8996743285 |  None  |\n",
      "| word_count |    buzz...     | Bullish | 11.8910657616 |  None  |\n",
      "| word_count |    million:    | Bullish | 11.8910657616 |  None  |\n",
      "| word_count |    misses,     | Bullish | 11.8868225013 |  None  |\n",
      "| word_count |       kt       | Bullish | 11.8372859265 |  None  |\n",
      "| word_count |    probable    | Bullish | 11.7017055936 |  None  |\n",
      "| word_count |   @upcnichol   | Bullish | 11.6938028224 |  None  |\n",
      "| word_count |      dare      | Bullish | 11.6734694814 |  None  |\n",
      "| word_count |      adds      | Bullish |  11.665369644 |  None  |\n",
      "| word_count |   beginner.    | Bullish | 11.6354582526 |  None  |\n",
      "| word_count |   scrambling   | Bullish | 11.6207568859 |  None  |\n",
      "| word_count |    stapler?    | Bullish | 11.6092825323 |  None  |\n",
      "| word_count |   meatheads    | Bullish | 11.5998748826 |  None  |\n",
      "| word_count |     dabble     | Bullish | 11.5441946875 |  None  |\n",
      "| word_count |    @jsling     | Bullish | 11.5332874917 |  None  |\n",
      "| word_count | #tradeyourplan | Bullish | 11.5332874917 |  None  |\n",
      "| word_count |    pharmacy    | Bullish | 11.5203443382 |  None  |\n",
      "| word_count |      goal      | Bullish | 11.5079053726 |  None  |\n",
      "| word_count |    ⬇️⬇️⬇️⬇️    | Bullish | 11.4581313987 |  None  |\n",
      "| word_count |    maniacs     | Bullish |  11.396527598 |  None  |\n",
      "| word_count |     asleep     | Bullish | 11.3568885167 |  None  |\n",
      "| word_count |    stable.     | Bullish | 11.3311367367 |  None  |\n",
      "| word_count |   initially    | Bullish | 11.3185739063 |  None  |\n",
      "+------------+----------------+---------+---------------+--------+\n",
      "[19951 rows x 5 columns]\n",
      "\n"
     ]
    }
   ],
   "source": [
    "#List of positive coefficients \n",
    "sentiment_model['coefficients'].sort('value', ascending=False).print_rows(num_rows=100)"
   ]
  },
  {
   "cell_type": "code",
   "execution_count": 25,
   "metadata": {
    "collapsed": false
   },
   "outputs": [
    {
     "name": "stdout",
     "output_type": "stream",
     "text": [
      "+------------+-----------------+---------+----------------+--------+\n",
      "|    name    |      index      |  class  |     value      | stderr |\n",
      "+------------+-----------------+---------+----------------+--------+\n",
      "| word_count |      lame,      | Bullish | -27.7017559806 |  None  |\n",
      "| word_count |      union.     | Bullish | -27.5428014442 |  None  |\n",
      "| word_count |      break?     | Bullish | -22.6423887241 |  None  |\n",
      "| word_count |      way...     | Bullish | -21.3185963409 |  None  |\n",
      "| word_count |    dividend,    | Bullish | -20.2502619365 |  None  |\n",
      "| word_count |     value!!     | Bullish | -20.0588181766 |  None  |\n",
      "| word_count |       shlt      | Bullish | -18.709532094  |  None  |\n",
      "| word_count |      hell.      | Bullish | -18.3426316165 |  None  |\n",
      "| word_count |     yiiikes,    | Bullish | -18.3089121038 |  None  |\n",
      "| word_count |      admit      | Bullish | -18.1633881891 |  None  |\n",
      "| word_count |    dreaming.    | Bullish | -18.1274606311 |  None  |\n",
      "| word_count |      dump!      | Bullish | -17.9056690079 |  None  |\n",
      "| word_count | what.......they | Bullish | -17.5629057747 |  None  |\n",
      "| word_count |      googl      | Bullish | -17.260781138  |  None  |\n",
      "| word_count |       mood      | Bullish | -17.0448373517 |  None  |\n",
      "| word_count |  capitulation.  | Bullish | -16.8179436311 |  None  |\n",
      "| word_count |       we.       | Bullish | -16.4982117459 |  None  |\n",
      "| word_count |    float....    | Bullish | -16.3564284157 |  None  |\n",
      "| word_count |       oooh      | Bullish | -16.3026071441 |  None  |\n",
      "| word_count |    struggles    | Bullish | -16.2431349817 |  None  |\n",
      "| word_count |     priced.     | Bullish | -16.2092726088 |  None  |\n",
      "| word_count |   commitment.   | Bullish | -16.1166520122 |  None  |\n",
      "| word_count |    managment    | Bullish | -16.0589532702 |  None  |\n",
      "| word_count |    outsiders    | Bullish | -16.0477001542 |  None  |\n",
      "| word_count |    mirroring    | Bullish | -16.047650885  |  None  |\n",
      "| word_count |       ema.      | Bullish | -15.9989836979 |  None  |\n",
      "| word_count |   red,,,,that   | Bullish | -15.9974630974 |  None  |\n",
      "| word_count |      becoz      | Bullish | -15.9363354909 |  None  |\n",
      "| word_count |       pat       | Bullish | -15.8703277289 |  None  |\n",
      "| word_count |     stepped     | Bullish | -15.8080880094 |  None  |\n",
      "| word_count |     wallets     | Bullish | -15.6598626006 |  None  |\n",
      "| word_count |      blake      | Bullish | -15.5516397423 |  None  |\n",
      "| word_count |      absurd     | Bullish | -15.479996037  |  None  |\n",
      "| word_count |      fines      | Bullish | -15.4502976513 |  None  |\n",
      "| word_count |      setup,     | Bullish | -15.3485531179 |  None  |\n",
      "| word_count |    thinking.    | Bullish | -15.3389684322 |  None  |\n",
      "| word_count |      those.     | Bullish | -15.2914998683 |  None  |\n",
      "| word_count |    pets.com?    | Bullish | -15.2908545349 |  None  |\n",
      "| word_count |        ob       | Bullish | -15.2587474517 |  None  |\n",
      "| word_count |     misses.     | Bullish | -15.1067696125 |  None  |\n",
      "| word_count |     delusion    | Bullish | -15.093680844  |  None  |\n",
      "| word_count |     dilution    | Bullish | -15.0701284419 |  None  |\n",
      "| word_count |      email      | Bullish | -15.0106725285 |  None  |\n",
      "| word_count |     puts...     | Bullish | -14.9844476338 |  None  |\n",
      "| word_count |    overblown    | Bullish | -14.9671913344 |  None  |\n",
      "| word_count |     message     | Bullish | -14.8188631608 |  None  |\n",
      "| word_count |      milion     | Bullish | -14.7842170106 |  None  |\n",
      "| word_count |   trade..with   | Bullish | -14.7604850519 |  None  |\n",
      "| word_count |     #advice     | Bullish | -14.7559421602 |  None  |\n",
      "| word_count |    oscillator   | Bullish | -14.7056559261 |  None  |\n",
      "| word_count |      fruit      | Bullish | -14.646927866  |  None  |\n",
      "| word_count |      minds      | Bullish | -14.6027114736 |  None  |\n",
      "| word_count |     winter?     | Bullish | -14.490575855  |  None  |\n",
      "| word_count |     regard,     | Bullish | -14.4265646474 |  None  |\n",
      "| word_count |   @dimitrovphx  | Bullish | -14.4075158918 |  None  |\n",
      "| word_count |    gullible.    | Bullish | -14.3659300322 |  None  |\n",
      "| word_count |     icahn..     | Bullish | -14.3616795402 |  None  |\n",
      "| word_count |     #thatsit    | Bullish | -14.2924134749 |  None  |\n",
      "| word_count |      mattel     | Bullish | -14.2923386023 |  None  |\n",
      "| word_count |      teflon     | Bullish | -14.2584805648 |  None  |\n",
      "| word_count |  lower+volume,  | Bullish | -14.1971630762 |  None  |\n",
      "| word_count |     garbage.    | Bullish | -14.1895756731 |  None  |\n",
      "| word_count |      whoop      | Bullish | -14.1318278921 |  None  |\n",
      "| word_count |     (shorts)    | Bullish | -14.1160426793 |  None  |\n",
      "| word_count |      close)     | Bullish | -14.0956247788 |  None  |\n",
      "| word_count |  trigger......  | Bullish | -14.0619544184 |  None  |\n",
      "| word_count |    indicators   | Bullish | -14.0607764362 |  None  |\n",
      "| word_count |      fakes      | Bullish | -14.0354040286 |  None  |\n",
      "| word_count |      over..     | Bullish | -14.021342594  |  None  |\n",
      "| word_count |     goodluck    | Bullish | -13.8210756419 |  None  |\n",
      "| word_count |      mocked     | Bullish | -13.8144808825 |  None  |\n",
      "| word_count |   ridiculous!   | Bullish | -13.7178797048 |  None  |\n",
      "| word_count |      aprox      | Bullish | -13.6925285603 |  None  |\n",
      "| word_count |      zero.      | Bullish | -13.6571891598 |  None  |\n",
      "| word_count |     keeps...    | Bullish | -13.5834900549 |  None  |\n",
      "| word_count |      link.      | Bullish | -13.570588326  |  None  |\n",
      "| word_count |       glmd      | Bullish | -13.5543563167 |  None  |\n",
      "| word_count |     ...wait     | Bullish | -13.5533912628 |  None  |\n",
      "| word_count |    short....    | Bullish |  -13.52362157  |  None  |\n",
      "| word_count |   unwarranted   | Bullish | -13.5122863074 |  None  |\n",
      "| word_count |     burning     | Bullish | -13.5028805369 |  None  |\n",
      "| word_count |     googles     | Bullish | -13.4788384268 |  None  |\n",
      "| word_count |       huh.      | Bullish | -13.4728691717 |  None  |\n",
      "| word_count |     moonshot    | Bullish | -13.4504273619 |  None  |\n",
      "| word_count |     topping     | Bullish | -13.3767709325 |  None  |\n",
      "| word_count |     cracking    | Bullish | -13.3186341406 |  None  |\n",
      "| word_count |      fade..     | Bullish | -13.2815883307 |  None  |\n",
      "| word_count |    probable),   | Bullish | -13.2698602361 |  None  |\n",
      "| word_count |      cash?      | Bullish | -13.2648039166 |  None  |\n",
      "| word_count |  repurchasing.  | Bullish | -13.1887626372 |  None  |\n",
      "| word_count |       car;      | Bullish | -13.183819666  |  None  |\n",
      "| word_count |    objective.   | Bullish | -13.1635876904 |  None  |\n",
      "| word_count |      week?      | Bullish | -13.1576238847 |  None  |\n",
      "| word_count |       snow      | Bullish | -13.1084237637 |  None  |\n",
      "| word_count |      long!!     | Bullish | -13.0928662696 |  None  |\n",
      "| word_count |    sideways.    | Bullish | -13.077060617  |  None  |\n",
      "| word_count |       eih!      | Bullish | -13.0675488102 |  None  |\n",
      "| word_count |    so...sorry   | Bullish | -13.0347246856 |  None  |\n",
      "| word_count |       em.       | Bullish | -12.995642816  |  None  |\n",
      "| word_count |    gravestone   | Bullish | -12.9841473843 |  None  |\n",
      "+------------+-----------------+---------+----------------+--------+\n",
      "[19951 rows x 5 columns]\n",
      "\n"
     ]
    }
   ],
   "source": [
    "sentiment_model['coefficients'].sort('value', ascending=True).print_rows(num_rows=100)"
   ]
  },
  {
   "cell_type": "code",
   "execution_count": null,
   "metadata": {
    "collapsed": true
   },
   "outputs": [],
   "source": []
  },
  {
   "cell_type": "code",
   "execution_count": null,
   "metadata": {
    "collapsed": true
   },
   "outputs": [],
   "source": []
  }
 ],
 "metadata": {
  "kernelspec": {
   "display_name": "Python 2",
   "language": "python",
   "name": "python2"
  },
  "language_info": {
   "codemirror_mode": {
    "name": "ipython",
    "version": 2
   },
   "file_extension": ".py",
   "mimetype": "text/x-python",
   "name": "python",
   "nbconvert_exporter": "python",
   "pygments_lexer": "ipython2",
   "version": "2.7.11"
  }
 },
 "nbformat": 4,
 "nbformat_minor": 0
}
