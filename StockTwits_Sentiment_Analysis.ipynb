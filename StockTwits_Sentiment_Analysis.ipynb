{
 "cells": [
  {
   "cell_type": "code",
   "execution_count": 1,
   "metadata": {
    "collapsed": true
   },
   "outputs": [],
   "source": [
    "import graphlab\n",
    "import re"
   ]
  },
  {
   "cell_type": "code",
   "execution_count": 2,
   "metadata": {
    "collapsed": false
   },
   "outputs": [
    {
     "name": "stdout",
     "output_type": "stream",
     "text": [
      "This non-commercial license of GraphLab Create for academic use is assigned to quentin.picard@gmail.com and will expire on July 18, 2018.\n"
     ]
    },
    {
     "name": "stderr",
     "output_type": "stream",
     "text": [
      "[INFO] graphlab.cython.cy_server: GraphLab Create v2.1 started. Logging: /tmp/graphlab_server_1501982981.log\n"
     ]
    }
   ],
   "source": [
    "# Limit number of worker processes. This preserves system memory, which prevents hosted notebooks from crashing.\n",
    "graphlab.set_runtime_config('GRAPHLAB_DEFAULT_NUM_PYLAMBDA_WORKERS', 4)"
   ]
  },
  {
   "cell_type": "code",
   "execution_count": 3,
   "metadata": {
    "collapsed": false
   },
   "outputs": [
    {
     "data": {
      "text/html": [
       "<pre>Unable to parse line \"Federico Rodenas,\"$MCP Molycorp Next contract : $AAPL $SSNLF $FSLR $TSLA $NSANY $TM $SHCAF\"</pre>"
      ],
      "text/plain": [
       "Unable to parse line \"Federico Rodenas,\"$MCP Molycorp Next contract : $AAPL $SSNLF $FSLR $TSLA $NSANY $TM $SHCAF\""
      ]
     },
     "metadata": {},
     "output_type": "display_data"
    },
    {
     "data": {
      "text/html": [
       "<pre>Unable to parse line \"Andrew Kreimer,\"$APF 89% Buy signal for the next 40 days\"</pre>"
      ],
      "text/plain": [
       "Unable to parse line \"Andrew Kreimer,\"$APF 89% Buy signal for the next 40 days\""
      ]
     },
     "metadata": {},
     "output_type": "display_data"
    },
    {
     "data": {
      "text/html": [
       "<pre>Unable to parse line \"More signals and data at http://www.algonell.com/ideas/\",2016-10-17T03:59:41Z,64830423,Bullish,APF,algonell\"</pre>"
      ],
      "text/plain": [
       "Unable to parse line \"More signals and data at http://www.algonell.com/ideas/\",2016-10-17T03:59:41Z,64830423,Bullish,APF,algonell\""
      ]
     },
     "metadata": {},
     "output_type": "display_data"
    },
    {
     "data": {
      "text/html": [
       "<pre>Unable to parse line \"Andrew Kreimer,\"$APF 84% Buy signal for the next 40 days\"</pre>"
      ],
      "text/plain": [
       "Unable to parse line \"Andrew Kreimer,\"$APF 84% Buy signal for the next 40 days\""
      ]
     },
     "metadata": {},
     "output_type": "display_data"
    },
    {
     "data": {
      "text/html": [
       "<pre>Unable to parse line \"More signals and data at http://www.algonell.com/ideas/\",2016-10-19T00:01:32Z,64988531,Bullish,APF,algonell\"</pre>"
      ],
      "text/plain": [
       "Unable to parse line \"More signals and data at http://www.algonell.com/ideas/\",2016-10-19T00:01:32Z,64988531,Bullish,APF,algonell\""
      ]
     },
     "metadata": {},
     "output_type": "display_data"
    },
    {
     "data": {
      "text/html": [
       "<pre>Unable to parse line \"Andrew Kreimer,\"$APF 70% Buy signal for the next 45 days\"</pre>"
      ],
      "text/plain": [
       "Unable to parse line \"Andrew Kreimer,\"$APF 70% Buy signal for the next 45 days\""
      ]
     },
     "metadata": {},
     "output_type": "display_data"
    },
    {
     "data": {
      "text/html": [
       "<pre>Unable to parse line \"More signals and data at http://www.algonell.com/ideas/\",2016-10-19T23:56:53Z,65089074,Bullish,APF,algonell\"</pre>"
      ],
      "text/plain": [
       "Unable to parse line \"More signals and data at http://www.algonell.com/ideas/\",2016-10-19T23:56:53Z,65089074,Bullish,APF,algonell\""
      ]
     },
     "metadata": {},
     "output_type": "display_data"
    },
    {
     "data": {
      "text/html": [
       "<pre>Unable to parse line \"Andrew Kreimer,\"$AMOV 97% Bullish signal for the next 60 days\"</pre>"
      ],
      "text/plain": [
       "Unable to parse line \"Andrew Kreimer,\"$AMOV 97% Bullish signal for the next 60 days\""
      ]
     },
     "metadata": {},
     "output_type": "display_data"
    },
    {
     "data": {
      "text/html": [
       "<pre>Unable to parse line \"Scientific Trading by http://www.algonell.com/\",2017-04-21T22:11:08Z,80869295,Bullish,AMOV,algonell\"</pre>"
      ],
      "text/plain": [
       "Unable to parse line \"Scientific Trading by http://www.algonell.com/\",2017-04-21T22:11:08Z,80869295,Bullish,AMOV,algonell\""
      ]
     },
     "metadata": {},
     "output_type": "display_data"
    },
    {
     "data": {
      "text/html": [
       "<pre>Unable to parse line \"a,\"Looking Inside The Market&#39;s Top Consumer Disc Fund: http://buff.ly/2tvhxr6\"</pre>"
      ],
      "text/plain": [
       "Unable to parse line \"a,\"Looking Inside The Market&#39;s Top Consumer Disc Fund: http://buff.ly/2tvhxr6\""
      ]
     },
     "metadata": {},
     "output_type": "display_data"
    },
    {
     "data": {
      "text/html": [
       "<pre>747 lines failed to parse correctly</pre>"
      ],
      "text/plain": [
       "747 lines failed to parse correctly"
      ]
     },
     "metadata": {},
     "output_type": "display_data"
    },
    {
     "data": {
      "text/html": [
       "<pre>Finished parsing file /Users/Quentin/Documents/StockTwits/stocktwits/twits.csv</pre>"
      ],
      "text/plain": [
       "Finished parsing file /Users/Quentin/Documents/StockTwits/stocktwits/twits.csv"
      ]
     },
     "metadata": {},
     "output_type": "display_data"
    },
    {
     "data": {
      "text/html": [
       "<pre>Parsing completed. Parsed 100 lines in 0.145342 secs.</pre>"
      ],
      "text/plain": [
       "Parsing completed. Parsed 100 lines in 0.145342 secs."
      ]
     },
     "metadata": {},
     "output_type": "display_data"
    },
    {
     "name": "stdout",
     "output_type": "stream",
     "text": [
      "------------------------------------------------------\n",
      "Inferred types from first 100 line(s) of file as \n",
      "column_type_hints=[str,str,str,int,str,str,str]\n",
      "If parsing fails due to incorrect types, you can correct\n",
      "the inferred type list above and pass it to read_csv in\n",
      "the column_type_hints argument\n",
      "------------------------------------------------------\n"
     ]
    },
    {
     "data": {
      "text/html": [
       "<pre>Unable to parse line \"Federico Rodenas,\"$MCP Molycorp Next contract : $AAPL $SSNLF $FSLR $TSLA $NSANY $TM $SHCAF\"</pre>"
      ],
      "text/plain": [
       "Unable to parse line \"Federico Rodenas,\"$MCP Molycorp Next contract : $AAPL $SSNLF $FSLR $TSLA $NSANY $TM $SHCAF\""
      ]
     },
     "metadata": {},
     "output_type": "display_data"
    },
    {
     "data": {
      "text/html": [
       "<pre>Unable to parse line \"Andrew Kreimer,\"$APF 89% Buy signal for the next 40 days\"</pre>"
      ],
      "text/plain": [
       "Unable to parse line \"Andrew Kreimer,\"$APF 89% Buy signal for the next 40 days\""
      ]
     },
     "metadata": {},
     "output_type": "display_data"
    },
    {
     "data": {
      "text/html": [
       "<pre>Unable to parse line \"More signals and data at http://www.algonell.com/ideas/\",2016-10-17T03:59:41Z,64830423,Bullish,APF,algonell\"</pre>"
      ],
      "text/plain": [
       "Unable to parse line \"More signals and data at http://www.algonell.com/ideas/\",2016-10-17T03:59:41Z,64830423,Bullish,APF,algonell\""
      ]
     },
     "metadata": {},
     "output_type": "display_data"
    },
    {
     "data": {
      "text/html": [
       "<pre>Unable to parse line \"Andrew Kreimer,\"$APF 84% Buy signal for the next 40 days\"</pre>"
      ],
      "text/plain": [
       "Unable to parse line \"Andrew Kreimer,\"$APF 84% Buy signal for the next 40 days\""
      ]
     },
     "metadata": {},
     "output_type": "display_data"
    },
    {
     "data": {
      "text/html": [
       "<pre>Unable to parse line \"More signals and data at http://www.algonell.com/ideas/\",2016-10-19T00:01:32Z,64988531,Bullish,APF,algonell\"</pre>"
      ],
      "text/plain": [
       "Unable to parse line \"More signals and data at http://www.algonell.com/ideas/\",2016-10-19T00:01:32Z,64988531,Bullish,APF,algonell\""
      ]
     },
     "metadata": {},
     "output_type": "display_data"
    },
    {
     "data": {
      "text/html": [
       "<pre>Unable to parse line \"Andrew Kreimer,\"$APF 70% Buy signal for the next 45 days\"</pre>"
      ],
      "text/plain": [
       "Unable to parse line \"Andrew Kreimer,\"$APF 70% Buy signal for the next 45 days\""
      ]
     },
     "metadata": {},
     "output_type": "display_data"
    },
    {
     "data": {
      "text/html": [
       "<pre>Unable to parse line \"Sreekanth,\"Prices of semiconductor memory chips are on the rise! $MU \"</pre>"
      ],
      "text/plain": [
       "Unable to parse line \"Sreekanth,\"Prices of semiconductor memory chips are on the rise! $MU \""
      ]
     },
     "metadata": {},
     "output_type": "display_data"
    },
    {
     "data": {
      "text/html": [
       "<pre>Unable to parse line \"More signals and data at http://www.algonell.com/ideas/\",2016-10-19T23:56:53Z,65089074,Bullish,APF,algonell\"</pre>"
      ],
      "text/plain": [
       "Unable to parse line \"More signals and data at http://www.algonell.com/ideas/\",2016-10-19T23:56:53Z,65089074,Bullish,APF,algonell\""
      ]
     },
     "metadata": {},
     "output_type": "display_data"
    },
    {
     "data": {
      "text/html": [
       "<pre>Unable to parse line \"https://asia.nikkei.com/print/article/283529\",2017-08-04T15:35:21Z,91018412,Bullish,MU,srvsr\"</pre>"
      ],
      "text/plain": [
       "Unable to parse line \"https://asia.nikkei.com/print/article/283529\",2017-08-04T15:35:21Z,91018412,Bullish,MU,srvsr\""
      ]
     },
     "metadata": {},
     "output_type": "display_data"
    },
    {
     "data": {
      "text/html": [
       "<pre>Unable to parse line \"Andrew Kreimer,\"$AMOV 97% Bullish signal for the next 60 days\"</pre>"
      ],
      "text/plain": [
       "Unable to parse line \"Andrew Kreimer,\"$AMOV 97% Bullish signal for the next 60 days\""
      ]
     },
     "metadata": {},
     "output_type": "display_data"
    },
    {
     "data": {
      "text/html": [
       "<pre>Unable to parse line \"Wilf Jaschinski,\"$OZRK Bank of the Ozarks (OZRK) Posts Earnings Results, Hits Expectations - Stock Observer\"</pre>"
      ],
      "text/plain": [
       "Unable to parse line \"Wilf Jaschinski,\"$OZRK Bank of the Ozarks (OZRK) Posts Earnings Results, Hits Expectations - Stock Observer\""
      ]
     },
     "metadata": {},
     "output_type": "display_data"
    },
    {
     "data": {
      "text/html": [
       "<pre>747 lines failed to parse correctly</pre>"
      ],
      "text/plain": [
       "747 lines failed to parse correctly"
      ]
     },
     "metadata": {},
     "output_type": "display_data"
    },
    {
     "data": {
      "text/html": [
       "<pre>Finished parsing file /Users/Quentin/Documents/StockTwits/stocktwits/twits.csv</pre>"
      ],
      "text/plain": [
       "Finished parsing file /Users/Quentin/Documents/StockTwits/stocktwits/twits.csv"
      ]
     },
     "metadata": {},
     "output_type": "display_data"
    },
    {
     "data": {
      "text/html": [
       "<pre>Parsing completed. Parsed 7273 lines in 0.092169 secs.</pre>"
      ],
      "text/plain": [
       "Parsing completed. Parsed 7273 lines in 0.092169 secs."
      ]
     },
     "metadata": {},
     "output_type": "display_data"
    }
   ],
   "source": [
    "twits = graphlab.SFrame.read_csv('twits.csv', double_quote=False) #ignoring the parsing errors"
   ]
  },
  {
   "cell_type": "code",
   "execution_count": 4,
   "metadata": {
    "collapsed": false
   },
   "outputs": [
    {
     "data": {
      "text/html": [
       "<div style=\"max-height:1000px;max-width:1500px;overflow:auto;\"><table frame=\"box\" rules=\"cols\">\n",
       "    <tr>\n",
       "        <th style=\"padding-left: 1em; padding-right: 1em; text-align: center\">User Name</th>\n",
       "        <th style=\"padding-left: 1em; padding-right: 1em; text-align: center\">body</th>\n",
       "        <th style=\"padding-left: 1em; padding-right: 1em; text-align: center\">created_at</th>\n",
       "        <th style=\"padding-left: 1em; padding-right: 1em; text-align: center\">id</th>\n",
       "        <th style=\"padding-left: 1em; padding-right: 1em; text-align: center\">sentiment</th>\n",
       "        <th style=\"padding-left: 1em; padding-right: 1em; text-align: center\">symbol</th>\n",
       "    </tr>\n",
       "    <tr>\n",
       "        <td style=\"padding-left: 1em; padding-right: 1em; text-align: center; vertical-align: top\">tactical</td>\n",
       "        <td style=\"padding-left: 1em; padding-right: 1em; text-align: center; vertical-align: top\">$AAUKF closing gap into<br>model purchase zone on ...</td>\n",
       "        <td style=\"padding-left: 1em; padding-right: 1em; text-align: center; vertical-align: top\">2012-09-20T09:53:00Z</td>\n",
       "        <td style=\"padding-left: 1em; padding-right: 1em; text-align: center; vertical-align: top\">9604105</td>\n",
       "        <td style=\"padding-left: 1em; padding-right: 1em; text-align: center; vertical-align: top\">Bullish</td>\n",
       "        <td style=\"padding-left: 1em; padding-right: 1em; text-align: center; vertical-align: top\">AAUKF</td>\n",
       "    </tr>\n",
       "    <tr>\n",
       "        <td style=\"padding-left: 1em; padding-right: 1em; text-align: center; vertical-align: top\">Aaron Jackson</td>\n",
       "        <td style=\"padding-left: 1em; padding-right: 1em; text-align: center; vertical-align: top\">Most japanese ADRs are<br>sitting near lows.  V ...</td>\n",
       "        <td style=\"padding-left: 1em; padding-right: 1em; text-align: center; vertical-align: top\">2012-10-06T01:03:13Z</td>\n",
       "        <td style=\"padding-left: 1em; padding-right: 1em; text-align: center; vertical-align: top\">9858821</td>\n",
       "        <td style=\"padding-left: 1em; padding-right: 1em; text-align: center; vertical-align: top\">Bearish</td>\n",
       "        <td style=\"padding-left: 1em; padding-right: 1em; text-align: center; vertical-align: top\">MITSY</td>\n",
       "    </tr>\n",
       "    <tr>\n",
       "        <td style=\"padding-left: 1em; padding-right: 1em; text-align: center; vertical-align: top\">Ian</td>\n",
       "        <td style=\"padding-left: 1em; padding-right: 1em; text-align: center; vertical-align: top\">$SLW $RGLD $TRX Are<br>Royalty Companies With ...</td>\n",
       "        <td style=\"padding-left: 1em; padding-right: 1em; text-align: center; vertical-align: top\">2013-06-27T00:42:21Z</td>\n",
       "        <td style=\"padding-left: 1em; padding-right: 1em; text-align: center; vertical-align: top\">14316534</td>\n",
       "        <td style=\"padding-left: 1em; padding-right: 1em; text-align: center; vertical-align: top\">Bullish</td>\n",
       "        <td style=\"padding-left: 1em; padding-right: 1em; text-align: center; vertical-align: top\">AAUKF</td>\n",
       "    </tr>\n",
       "    <tr>\n",
       "        <td style=\"padding-left: 1em; padding-right: 1em; text-align: center; vertical-align: top\">Market Impulses</td>\n",
       "        <td style=\"padding-left: 1em; padding-right: 1em; text-align: center; vertical-align: top\">$AXAHY  moving towards<br>the Objective after the ...</td>\n",
       "        <td style=\"padding-left: 1em; padding-right: 1em; text-align: center; vertical-align: top\">2014-04-08T09:30:12Z</td>\n",
       "        <td style=\"padding-left: 1em; padding-right: 1em; text-align: center; vertical-align: top\">21837298</td>\n",
       "        <td style=\"padding-left: 1em; padding-right: 1em; text-align: center; vertical-align: top\">Bearish</td>\n",
       "        <td style=\"padding-left: 1em; padding-right: 1em; text-align: center; vertical-align: top\">AXAHY</td>\n",
       "    </tr>\n",
       "    <tr>\n",
       "        <td style=\"padding-left: 1em; padding-right: 1em; text-align: center; vertical-align: top\">Marketmath</td>\n",
       "        <td style=\"padding-left: 1em; padding-right: 1em; text-align: center; vertical-align: top\">$AAUKF AAL.L , seems to<br>be forming a bearish ...</td>\n",
       "        <td style=\"padding-left: 1em; padding-right: 1em; text-align: center; vertical-align: top\">2014-08-04T11:05:10Z</td>\n",
       "        <td style=\"padding-left: 1em; padding-right: 1em; text-align: center; vertical-align: top\">25343226</td>\n",
       "        <td style=\"padding-left: 1em; padding-right: 1em; text-align: center; vertical-align: top\">Bearish</td>\n",
       "        <td style=\"padding-left: 1em; padding-right: 1em; text-align: center; vertical-align: top\">AAUKF</td>\n",
       "    </tr>\n",
       "    <tr>\n",
       "        <td style=\"padding-left: 1em; padding-right: 1em; text-align: center; vertical-align: top\">Michael Angelo Mustillo</td>\n",
       "        <td style=\"padding-left: 1em; padding-right: 1em; text-align: center; vertical-align: top\">Small bizjet orders<br>picking up. ...</td>\n",
       "        <td style=\"padding-left: 1em; padding-right: 1em; text-align: center; vertical-align: top\">2014-08-12T15:02:18Z</td>\n",
       "        <td style=\"padding-left: 1em; padding-right: 1em; text-align: center; vertical-align: top\">25646970</td>\n",
       "        <td style=\"padding-left: 1em; padding-right: 1em; text-align: center; vertical-align: top\">Bullish</td>\n",
       "        <td style=\"padding-left: 1em; padding-right: 1em; text-align: center; vertical-align: top\">DASTY</td>\n",
       "    </tr>\n",
       "    <tr>\n",
       "        <td style=\"padding-left: 1em; padding-right: 1em; text-align: center; vertical-align: top\">etradebaby</td>\n",
       "        <td style=\"padding-left: 1em; padding-right: 1em; text-align: center; vertical-align: top\">$MTLS I think $12.82<br>would be a good spot to ...</td>\n",
       "        <td style=\"padding-left: 1em; padding-right: 1em; text-align: center; vertical-align: top\">2014-08-19T20:54:50Z</td>\n",
       "        <td style=\"padding-left: 1em; padding-right: 1em; text-align: center; vertical-align: top\">25917338</td>\n",
       "        <td style=\"padding-left: 1em; padding-right: 1em; text-align: center; vertical-align: top\">Bullish</td>\n",
       "        <td style=\"padding-left: 1em; padding-right: 1em; text-align: center; vertical-align: top\">DASTY</td>\n",
       "    </tr>\n",
       "    <tr>\n",
       "        <td style=\"padding-left: 1em; padding-right: 1em; text-align: center; vertical-align: top\">TraderX82</td>\n",
       "        <td style=\"padding-left: 1em; padding-right: 1em; text-align: center; vertical-align: top\">$DASTY solid trend on the<br>weekly, like the setup ...</td>\n",
       "        <td style=\"padding-left: 1em; padding-right: 1em; text-align: center; vertical-align: top\">2014-09-17T00:12:26Z</td>\n",
       "        <td style=\"padding-left: 1em; padding-right: 1em; text-align: center; vertical-align: top\">26864030</td>\n",
       "        <td style=\"padding-left: 1em; padding-right: 1em; text-align: center; vertical-align: top\">Bullish</td>\n",
       "        <td style=\"padding-left: 1em; padding-right: 1em; text-align: center; vertical-align: top\">DASTY</td>\n",
       "    </tr>\n",
       "    <tr>\n",
       "        <td style=\"padding-left: 1em; padding-right: 1em; text-align: center; vertical-align: top\">SpecialSits101</td>\n",
       "        <td style=\"padding-left: 1em; padding-right: 1em; text-align: center; vertical-align: top\">Would&amp;#39;ve thought $FCX<br>is the natural buyer for ...</td>\n",
       "        <td style=\"padding-left: 1em; padding-right: 1em; text-align: center; vertical-align: top\">2014-09-20T23:24:32Z</td>\n",
       "        <td style=\"padding-left: 1em; padding-right: 1em; text-align: center; vertical-align: top\">27028346</td>\n",
       "        <td style=\"padding-left: 1em; padding-right: 1em; text-align: center; vertical-align: top\">Bullish</td>\n",
       "        <td style=\"padding-left: 1em; padding-right: 1em; text-align: center; vertical-align: top\">REPYY</td>\n",
       "    </tr>\n",
       "    <tr>\n",
       "        <td style=\"padding-left: 1em; padding-right: 1em; text-align: center; vertical-align: top\">D.R.</td>\n",
       "        <td style=\"padding-left: 1em; padding-right: 1em; text-align: center; vertical-align: top\">$BNPQY $AIG $BCS $AXAHY<br>$DB $SCGLY $OMVKY $EBKDY ...</td>\n",
       "        <td style=\"padding-left: 1em; padding-right: 1em; text-align: center; vertical-align: top\">2014-10-16T13:59:49Z</td>\n",
       "        <td style=\"padding-left: 1em; padding-right: 1em; text-align: center; vertical-align: top\">28059882</td>\n",
       "        <td style=\"padding-left: 1em; padding-right: 1em; text-align: center; vertical-align: top\">Bullish</td>\n",
       "        <td style=\"padding-left: 1em; padding-right: 1em; text-align: center; vertical-align: top\">AXAHY</td>\n",
       "    </tr>\n",
       "</table>\n",
       "<table frame=\"box\" rules=\"cols\">\n",
       "    <tr>\n",
       "        <th style=\"padding-left: 1em; padding-right: 1em; text-align: center\">username</th>\n",
       "    </tr>\n",
       "    <tr>\n",
       "        <td style=\"padding-left: 1em; padding-right: 1em; text-align: center; vertical-align: top\">TacticalQuant</td>\n",
       "    </tr>\n",
       "    <tr>\n",
       "        <td style=\"padding-left: 1em; padding-right: 1em; text-align: center; vertical-align: top\">ATMcharts</td>\n",
       "    </tr>\n",
       "    <tr>\n",
       "        <td style=\"padding-left: 1em; padding-right: 1em; text-align: center; vertical-align: top\">TheAmerican</td>\n",
       "    </tr>\n",
       "    <tr>\n",
       "        <td style=\"padding-left: 1em; padding-right: 1em; text-align: center; vertical-align: top\">Market_Impulses</td>\n",
       "    </tr>\n",
       "    <tr>\n",
       "        <td style=\"padding-left: 1em; padding-right: 1em; text-align: center; vertical-align: top\">marketmath</td>\n",
       "    </tr>\n",
       "    <tr>\n",
       "        <td style=\"padding-left: 1em; padding-right: 1em; text-align: center; vertical-align: top\">rocketPower</td>\n",
       "    </tr>\n",
       "    <tr>\n",
       "        <td style=\"padding-left: 1em; padding-right: 1em; text-align: center; vertical-align: top\">etradebaby</td>\n",
       "    </tr>\n",
       "    <tr>\n",
       "        <td style=\"padding-left: 1em; padding-right: 1em; text-align: center; vertical-align: top\">TraderX82</td>\n",
       "    </tr>\n",
       "    <tr>\n",
       "        <td style=\"padding-left: 1em; padding-right: 1em; text-align: center; vertical-align: top\">SpecialSits101</td>\n",
       "    </tr>\n",
       "    <tr>\n",
       "        <td style=\"padding-left: 1em; padding-right: 1em; text-align: center; vertical-align: top\">SFOscanner</td>\n",
       "    </tr>\n",
       "</table>\n",
       "[10 rows x 7 columns]<br/>\n",
       "</div>"
      ],
      "text/plain": [
       "Columns:\n",
       "\tUser Name\tstr\n",
       "\tbody\tstr\n",
       "\tcreated_at\tstr\n",
       "\tid\tint\n",
       "\tsentiment\tstr\n",
       "\tsymbol\tstr\n",
       "\tusername\tstr\n",
       "\n",
       "Rows: 10\n",
       "\n",
       "Data:\n",
       "+-------------------------+-------------------------------+----------------------+\n",
       "|        User Name        |              body             |      created_at      |\n",
       "+-------------------------+-------------------------------+----------------------+\n",
       "|         tactical        | $AAUKF closing gap into mo... | 2012-09-20T09:53:00Z |\n",
       "|      Aaron Jackson      | Most japanese ADRs are sit... | 2012-10-06T01:03:13Z |\n",
       "|           Ian           | $SLW $RGLD $TRX Are Royalt... | 2013-06-27T00:42:21Z |\n",
       "|     Market Impulses     | $AXAHY  moving towards the... | 2014-04-08T09:30:12Z |\n",
       "|        Marketmath       | $AAUKF AAL.L , seems to be... | 2014-08-04T11:05:10Z |\n",
       "| Michael Angelo Mustillo | Small bizjet orders pickin... | 2014-08-12T15:02:18Z |\n",
       "|        etradebaby       | $MTLS I think $12.82 would... | 2014-08-19T20:54:50Z |\n",
       "|        TraderX82        | $DASTY solid trend on the ... | 2014-09-17T00:12:26Z |\n",
       "|      SpecialSits101     | Would&#39;ve thought $FCX ... | 2014-09-20T23:24:32Z |\n",
       "|           D.R.          | $BNPQY $AIG $BCS $AXAHY $D... | 2014-10-16T13:59:49Z |\n",
       "+-------------------------+-------------------------------+----------------------+\n",
       "+----------+-----------+--------+-----------------+\n",
       "|    id    | sentiment | symbol |     username    |\n",
       "+----------+-----------+--------+-----------------+\n",
       "| 9604105  |  Bullish  | AAUKF  |  TacticalQuant  |\n",
       "| 9858821  |  Bearish  | MITSY  |    ATMcharts    |\n",
       "| 14316534 |  Bullish  | AAUKF  |   TheAmerican   |\n",
       "| 21837298 |  Bearish  | AXAHY  | Market_Impulses |\n",
       "| 25343226 |  Bearish  | AAUKF  |    marketmath   |\n",
       "| 25646970 |  Bullish  | DASTY  |   rocketPower   |\n",
       "| 25917338 |  Bullish  | DASTY  |    etradebaby   |\n",
       "| 26864030 |  Bullish  | DASTY  |    TraderX82    |\n",
       "| 27028346 |  Bullish  | REPYY  |  SpecialSits101 |\n",
       "| 28059882 |  Bullish  | AXAHY  |    SFOscanner   |\n",
       "+----------+-----------+--------+-----------------+\n",
       "[10 rows x 7 columns]"
      ]
     },
     "execution_count": 4,
     "metadata": {},
     "output_type": "execute_result"
    }
   ],
   "source": [
    "twits.head(10)"
   ]
  },
  {
   "cell_type": "code",
   "execution_count": 5,
   "metadata": {
    "collapsed": false
   },
   "outputs": [
    {
     "data": {
      "text/plain": [
       "7273"
      ]
     },
     "execution_count": 5,
     "metadata": {},
     "output_type": "execute_result"
    }
   ],
   "source": [
    "len(twits)"
   ]
  },
  {
   "cell_type": "code",
   "execution_count": 6,
   "metadata": {
    "collapsed": true
   },
   "outputs": [],
   "source": [
    "# remove English stopwords\n",
    "twits['word_count'] = graphlab.text_analytics.count_words(twits['body']).dict_trim_by_keys(graphlab.text_analytics.stopwords(), True)\n"
   ]
  },
  {
   "cell_type": "code",
   "execution_count": 7,
   "metadata": {
    "collapsed": true
   },
   "outputs": [],
   "source": [
    "def clean_words(dico):\n",
    "    for k, v in dico.items():\n",
    "        if re.search('[0-9]', k)!=None or re.search('/', k)!=None or re.search('\\$', k)!=None: #remove numbers/ stocks($) and http addresses\n",
    "            dico.pop(k)\n",
    "    return(dico)"
   ]
  },
  {
   "cell_type": "code",
   "execution_count": 8,
   "metadata": {
    "collapsed": false
   },
   "outputs": [],
   "source": [
    "twits['word_count'] = twits['word_count'].apply(clean_words)"
   ]
  },
  {
   "cell_type": "code",
   "execution_count": 9,
   "metadata": {
    "collapsed": false
   },
   "outputs": [
    {
     "data": {
      "text/html": [
       "<div style=\"max-height:1000px;max-width:1500px;overflow:auto;\"><table frame=\"box\" rules=\"cols\">\n",
       "    <tr>\n",
       "        <th style=\"padding-left: 1em; padding-right: 1em; text-align: center\">User Name</th>\n",
       "        <th style=\"padding-left: 1em; padding-right: 1em; text-align: center\">body</th>\n",
       "        <th style=\"padding-left: 1em; padding-right: 1em; text-align: center\">created_at</th>\n",
       "        <th style=\"padding-left: 1em; padding-right: 1em; text-align: center\">id</th>\n",
       "        <th style=\"padding-left: 1em; padding-right: 1em; text-align: center\">sentiment</th>\n",
       "        <th style=\"padding-left: 1em; padding-right: 1em; text-align: center\">symbol</th>\n",
       "    </tr>\n",
       "    <tr>\n",
       "        <td style=\"padding-left: 1em; padding-right: 1em; text-align: center; vertical-align: top\">tactical</td>\n",
       "        <td style=\"padding-left: 1em; padding-right: 1em; text-align: center; vertical-align: top\">$AAUKF closing gap into<br>model purchase zone on ...</td>\n",
       "        <td style=\"padding-left: 1em; padding-right: 1em; text-align: center; vertical-align: top\">2012-09-20T09:53:00Z</td>\n",
       "        <td style=\"padding-left: 1em; padding-right: 1em; text-align: center; vertical-align: top\">9604105</td>\n",
       "        <td style=\"padding-left: 1em; padding-right: 1em; text-align: center; vertical-align: top\">Bullish</td>\n",
       "        <td style=\"padding-left: 1em; padding-right: 1em; text-align: center; vertical-align: top\">AAUKF</td>\n",
       "    </tr>\n",
       "    <tr>\n",
       "        <td style=\"padding-left: 1em; padding-right: 1em; text-align: center; vertical-align: top\">Aaron Jackson</td>\n",
       "        <td style=\"padding-left: 1em; padding-right: 1em; text-align: center; vertical-align: top\">Most japanese ADRs are<br>sitting near lows.  V ...</td>\n",
       "        <td style=\"padding-left: 1em; padding-right: 1em; text-align: center; vertical-align: top\">2012-10-06T01:03:13Z</td>\n",
       "        <td style=\"padding-left: 1em; padding-right: 1em; text-align: center; vertical-align: top\">9858821</td>\n",
       "        <td style=\"padding-left: 1em; padding-right: 1em; text-align: center; vertical-align: top\">Bearish</td>\n",
       "        <td style=\"padding-left: 1em; padding-right: 1em; text-align: center; vertical-align: top\">MITSY</td>\n",
       "    </tr>\n",
       "    <tr>\n",
       "        <td style=\"padding-left: 1em; padding-right: 1em; text-align: center; vertical-align: top\">Ian</td>\n",
       "        <td style=\"padding-left: 1em; padding-right: 1em; text-align: center; vertical-align: top\">$SLW $RGLD $TRX Are<br>Royalty Companies With ...</td>\n",
       "        <td style=\"padding-left: 1em; padding-right: 1em; text-align: center; vertical-align: top\">2013-06-27T00:42:21Z</td>\n",
       "        <td style=\"padding-left: 1em; padding-right: 1em; text-align: center; vertical-align: top\">14316534</td>\n",
       "        <td style=\"padding-left: 1em; padding-right: 1em; text-align: center; vertical-align: top\">Bullish</td>\n",
       "        <td style=\"padding-left: 1em; padding-right: 1em; text-align: center; vertical-align: top\">AAUKF</td>\n",
       "    </tr>\n",
       "    <tr>\n",
       "        <td style=\"padding-left: 1em; padding-right: 1em; text-align: center; vertical-align: top\">Market Impulses</td>\n",
       "        <td style=\"padding-left: 1em; padding-right: 1em; text-align: center; vertical-align: top\">$AXAHY  moving towards<br>the Objective after the ...</td>\n",
       "        <td style=\"padding-left: 1em; padding-right: 1em; text-align: center; vertical-align: top\">2014-04-08T09:30:12Z</td>\n",
       "        <td style=\"padding-left: 1em; padding-right: 1em; text-align: center; vertical-align: top\">21837298</td>\n",
       "        <td style=\"padding-left: 1em; padding-right: 1em; text-align: center; vertical-align: top\">Bearish</td>\n",
       "        <td style=\"padding-left: 1em; padding-right: 1em; text-align: center; vertical-align: top\">AXAHY</td>\n",
       "    </tr>\n",
       "    <tr>\n",
       "        <td style=\"padding-left: 1em; padding-right: 1em; text-align: center; vertical-align: top\">Marketmath</td>\n",
       "        <td style=\"padding-left: 1em; padding-right: 1em; text-align: center; vertical-align: top\">$AAUKF AAL.L , seems to<br>be forming a bearish ...</td>\n",
       "        <td style=\"padding-left: 1em; padding-right: 1em; text-align: center; vertical-align: top\">2014-08-04T11:05:10Z</td>\n",
       "        <td style=\"padding-left: 1em; padding-right: 1em; text-align: center; vertical-align: top\">25343226</td>\n",
       "        <td style=\"padding-left: 1em; padding-right: 1em; text-align: center; vertical-align: top\">Bearish</td>\n",
       "        <td style=\"padding-left: 1em; padding-right: 1em; text-align: center; vertical-align: top\">AAUKF</td>\n",
       "    </tr>\n",
       "    <tr>\n",
       "        <td style=\"padding-left: 1em; padding-right: 1em; text-align: center; vertical-align: top\">Michael Angelo Mustillo</td>\n",
       "        <td style=\"padding-left: 1em; padding-right: 1em; text-align: center; vertical-align: top\">Small bizjet orders<br>picking up. ...</td>\n",
       "        <td style=\"padding-left: 1em; padding-right: 1em; text-align: center; vertical-align: top\">2014-08-12T15:02:18Z</td>\n",
       "        <td style=\"padding-left: 1em; padding-right: 1em; text-align: center; vertical-align: top\">25646970</td>\n",
       "        <td style=\"padding-left: 1em; padding-right: 1em; text-align: center; vertical-align: top\">Bullish</td>\n",
       "        <td style=\"padding-left: 1em; padding-right: 1em; text-align: center; vertical-align: top\">DASTY</td>\n",
       "    </tr>\n",
       "    <tr>\n",
       "        <td style=\"padding-left: 1em; padding-right: 1em; text-align: center; vertical-align: top\">etradebaby</td>\n",
       "        <td style=\"padding-left: 1em; padding-right: 1em; text-align: center; vertical-align: top\">$MTLS I think $12.82<br>would be a good spot to ...</td>\n",
       "        <td style=\"padding-left: 1em; padding-right: 1em; text-align: center; vertical-align: top\">2014-08-19T20:54:50Z</td>\n",
       "        <td style=\"padding-left: 1em; padding-right: 1em; text-align: center; vertical-align: top\">25917338</td>\n",
       "        <td style=\"padding-left: 1em; padding-right: 1em; text-align: center; vertical-align: top\">Bullish</td>\n",
       "        <td style=\"padding-left: 1em; padding-right: 1em; text-align: center; vertical-align: top\">DASTY</td>\n",
       "    </tr>\n",
       "    <tr>\n",
       "        <td style=\"padding-left: 1em; padding-right: 1em; text-align: center; vertical-align: top\">TraderX82</td>\n",
       "        <td style=\"padding-left: 1em; padding-right: 1em; text-align: center; vertical-align: top\">$DASTY solid trend on the<br>weekly, like the setup ...</td>\n",
       "        <td style=\"padding-left: 1em; padding-right: 1em; text-align: center; vertical-align: top\">2014-09-17T00:12:26Z</td>\n",
       "        <td style=\"padding-left: 1em; padding-right: 1em; text-align: center; vertical-align: top\">26864030</td>\n",
       "        <td style=\"padding-left: 1em; padding-right: 1em; text-align: center; vertical-align: top\">Bullish</td>\n",
       "        <td style=\"padding-left: 1em; padding-right: 1em; text-align: center; vertical-align: top\">DASTY</td>\n",
       "    </tr>\n",
       "    <tr>\n",
       "        <td style=\"padding-left: 1em; padding-right: 1em; text-align: center; vertical-align: top\">SpecialSits101</td>\n",
       "        <td style=\"padding-left: 1em; padding-right: 1em; text-align: center; vertical-align: top\">Would&amp;#39;ve thought $FCX<br>is the natural buyer for ...</td>\n",
       "        <td style=\"padding-left: 1em; padding-right: 1em; text-align: center; vertical-align: top\">2014-09-20T23:24:32Z</td>\n",
       "        <td style=\"padding-left: 1em; padding-right: 1em; text-align: center; vertical-align: top\">27028346</td>\n",
       "        <td style=\"padding-left: 1em; padding-right: 1em; text-align: center; vertical-align: top\">Bullish</td>\n",
       "        <td style=\"padding-left: 1em; padding-right: 1em; text-align: center; vertical-align: top\">REPYY</td>\n",
       "    </tr>\n",
       "    <tr>\n",
       "        <td style=\"padding-left: 1em; padding-right: 1em; text-align: center; vertical-align: top\">D.R.</td>\n",
       "        <td style=\"padding-left: 1em; padding-right: 1em; text-align: center; vertical-align: top\">$BNPQY $AIG $BCS $AXAHY<br>$DB $SCGLY $OMVKY $EBKDY ...</td>\n",
       "        <td style=\"padding-left: 1em; padding-right: 1em; text-align: center; vertical-align: top\">2014-10-16T13:59:49Z</td>\n",
       "        <td style=\"padding-left: 1em; padding-right: 1em; text-align: center; vertical-align: top\">28059882</td>\n",
       "        <td style=\"padding-left: 1em; padding-right: 1em; text-align: center; vertical-align: top\">Bullish</td>\n",
       "        <td style=\"padding-left: 1em; padding-right: 1em; text-align: center; vertical-align: top\">AXAHY</td>\n",
       "    </tr>\n",
       "</table>\n",
       "<table frame=\"box\" rules=\"cols\">\n",
       "    <tr>\n",
       "        <th style=\"padding-left: 1em; padding-right: 1em; text-align: center\">username</th>\n",
       "        <th style=\"padding-left: 1em; padding-right: 1em; text-align: center\">word_count</th>\n",
       "    </tr>\n",
       "    <tr>\n",
       "        <td style=\"padding-left: 1em; padding-right: 1em; text-align: center; vertical-align: top\">TacticalQuant</td>\n",
       "        <td style=\"padding-left: 1em; padding-right: 1em; text-align: center; vertical-align: top\">{'building': 1,<br>'purchase': 1, 'parti ...</td>\n",
       "    </tr>\n",
       "    <tr>\n",
       "        <td style=\"padding-left: 1em; padding-right: 1em; text-align: center; vertical-align: top\">ATMcharts</td>\n",
       "        <td style=\"padding-left: 1em; padding-right: 1em; text-align: center; vertical-align: top\">{'lows.': 1, 'trap?': 1,<br>'adrs': 1, 'japanese' ...</td>\n",
       "    </tr>\n",
       "    <tr>\n",
       "        <td style=\"padding-left: 1em; padding-right: 1em; text-align: center; vertical-align: top\">TheAmerican</td>\n",
       "        <td style=\"padding-left: 1em; padding-right: 1em; text-align: center; vertical-align: top\">{'form:': 1, 'royalty':<br>1, 'companies': 1, 'i ...</td>\n",
       "    </tr>\n",
       "    <tr>\n",
       "        <td style=\"padding-left: 1em; padding-right: 1em; text-align: center; vertical-align: top\">Market_Impulses</td>\n",
       "        <td style=\"padding-left: 1em; padding-right: 1em; text-align: center; vertical-align: top\">{'sell': 1, 'objective':<br>1, 'signal': 1, 'frid ...</td>\n",
       "    </tr>\n",
       "    <tr>\n",
       "        <td style=\"padding-left: 1em; padding-right: 1em; text-align: center; vertical-align: top\">marketmath</td>\n",
       "        <td style=\"padding-left: 1em; padding-right: 1em; text-align: center; vertical-align: top\">{'forming': 1, 'bearish':<br>1, ',': 1, 'scallop': 1, ...</td>\n",
       "    </tr>\n",
       "    <tr>\n",
       "        <td style=\"padding-left: 1em; padding-right: 1em; text-align: center; vertical-align: top\">rocketPower</td>\n",
       "        <td style=\"padding-left: 1em; padding-right: 1em; text-align: center; vertical-align: top\">{'up.': 1, 'small': 1,<br>'bizjet': 1, 'picking': ...</td>\n",
       "    </tr>\n",
       "    <tr>\n",
       "        <td style=\"padding-left: 1em; padding-right: 1em; text-align: center; vertical-align: top\">etradebaby</td>\n",
       "        <td style=\"padding-left: 1em; padding-right: 1em; text-align: center; vertical-align: top\">{'sell': 1, 'good': 1,<br>'spot': 1, 'short': 1, ...</td>\n",
       "    </tr>\n",
       "    <tr>\n",
       "        <td style=\"padding-left: 1em; padding-right: 1em; text-align: center; vertical-align: top\">TraderX82</td>\n",
       "        <td style=\"padding-left: 1em; padding-right: 1em; text-align: center; vertical-align: top\">{'sector': 1, 'weekly,':<br>1, 'trend': 1, ...</td>\n",
       "    </tr>\n",
       "    <tr>\n",
       "        <td style=\"padding-left: 1em; padding-right: 1em; text-align: center; vertical-align: top\">SpecialSits101</td>\n",
       "        <td style=\"padding-left: 1em; padding-right: 1em; text-align: center; vertical-align: top\">{'natural': 1, 'deep': 1,<br>'hearing': 1, 'thought': ...</td>\n",
       "    </tr>\n",
       "    <tr>\n",
       "        <td style=\"padding-left: 1em; padding-right: 1em; text-align: center; vertical-align: top\">SFOscanner</td>\n",
       "        <td style=\"padding-left: 1em; padding-right: 1em; text-align: center; vertical-align: top\">{'stockscan': 1,<br>'dividends': 1, ...</td>\n",
       "    </tr>\n",
       "</table>\n",
       "[20 rows x 8 columns]<br/>Note: Only the head of the SFrame is printed.<br/>You can use print_rows(num_rows=m, num_columns=n) to print more rows and columns.\n",
       "</div>"
      ],
      "text/plain": [
       "Columns:\n",
       "\tUser Name\tstr\n",
       "\tbody\tstr\n",
       "\tcreated_at\tstr\n",
       "\tid\tint\n",
       "\tsentiment\tstr\n",
       "\tsymbol\tstr\n",
       "\tusername\tstr\n",
       "\tword_count\tdict\n",
       "\n",
       "Rows: 20\n",
       "\n",
       "Data:\n",
       "+-------------------------+-------------------------------+----------------------+\n",
       "|        User Name        |              body             |      created_at      |\n",
       "+-------------------------+-------------------------------+----------------------+\n",
       "|         tactical        | $AAUKF closing gap into mo... | 2012-09-20T09:53:00Z |\n",
       "|      Aaron Jackson      | Most japanese ADRs are sit... | 2012-10-06T01:03:13Z |\n",
       "|           Ian           | $SLW $RGLD $TRX Are Royalt... | 2013-06-27T00:42:21Z |\n",
       "|     Market Impulses     | $AXAHY  moving towards the... | 2014-04-08T09:30:12Z |\n",
       "|        Marketmath       | $AAUKF AAL.L , seems to be... | 2014-08-04T11:05:10Z |\n",
       "| Michael Angelo Mustillo | Small bizjet orders pickin... | 2014-08-12T15:02:18Z |\n",
       "|        etradebaby       | $MTLS I think $12.82 would... | 2014-08-19T20:54:50Z |\n",
       "|        TraderX82        | $DASTY solid trend on the ... | 2014-09-17T00:12:26Z |\n",
       "|      SpecialSits101     | Would&#39;ve thought $FCX ... | 2014-09-20T23:24:32Z |\n",
       "|           D.R.          | $BNPQY $AIG $BCS $AXAHY $D... | 2014-10-16T13:59:49Z |\n",
       "+-------------------------+-------------------------------+----------------------+\n",
       "+----------+-----------+--------+-----------------+\n",
       "|    id    | sentiment | symbol |     username    |\n",
       "+----------+-----------+--------+-----------------+\n",
       "| 9604105  |  Bullish  | AAUKF  |  TacticalQuant  |\n",
       "| 9858821  |  Bearish  | MITSY  |    ATMcharts    |\n",
       "| 14316534 |  Bullish  | AAUKF  |   TheAmerican   |\n",
       "| 21837298 |  Bearish  | AXAHY  | Market_Impulses |\n",
       "| 25343226 |  Bearish  | AAUKF  |    marketmath   |\n",
       "| 25646970 |  Bullish  | DASTY  |   rocketPower   |\n",
       "| 25917338 |  Bullish  | DASTY  |    etradebaby   |\n",
       "| 26864030 |  Bullish  | DASTY  |    TraderX82    |\n",
       "| 27028346 |  Bullish  | REPYY  |  SpecialSits101 |\n",
       "| 28059882 |  Bullish  | AXAHY  |    SFOscanner   |\n",
       "+----------+-----------+--------+-----------------+\n",
       "+-------------------------------+\n",
       "|           word_count          |\n",
       "+-------------------------------+\n",
       "| {'building': 1, 'purchase'... |\n",
       "| {'lows.': 1, 'trap?': 1, '... |\n",
       "| {'form:': 1, 'royalty': 1,... |\n",
       "| {'sell': 1, 'objective': 1... |\n",
       "| {'forming': 1, 'bearish': ... |\n",
       "| {'up.': 1, 'small': 1, 'bi... |\n",
       "| {'sell': 1, 'good': 1, 'sp... |\n",
       "| {'sector': 1, 'weekly,': 1... |\n",
       "| {'natural': 1, 'deep': 1, ... |\n",
       "| {'stockscan': 1, 'dividend... |\n",
       "+-------------------------------+\n",
       "[20 rows x 8 columns]\n",
       "Note: Only the head of the SFrame is printed.\n",
       "You can use print_rows(num_rows=m, num_columns=n) to print more rows and columns."
      ]
     },
     "execution_count": 9,
     "metadata": {},
     "output_type": "execute_result"
    }
   ],
   "source": [
    "twits.head(20)"
   ]
  },
  {
   "cell_type": "code",
   "execution_count": 10,
   "metadata": {
    "collapsed": false
   },
   "outputs": [
    {
     "name": "stdout",
     "output_type": "stream",
     "text": [
      "Canvas is accessible via web browser at the URL: http://localhost:55527/index.html\n",
      "Opening Canvas in default web browser.\n"
     ]
    }
   ],
   "source": [
    "twits['sentiment'].show(view='Categorical')"
   ]
  },
  {
   "cell_type": "code",
   "execution_count": 11,
   "metadata": {
    "collapsed": true
   },
   "outputs": [],
   "source": [
    "train_data,test_data = twits.random_split(.8)"
   ]
  },
  {
   "cell_type": "code",
   "execution_count": 12,
   "metadata": {
    "collapsed": false
   },
   "outputs": [
    {
     "data": {
      "text/html": [
       "<pre>WARNING: The number of feature dimensions in this problem is very large in comparison with the number of examples. Unless an appropriate regularization value is set, this model may not provide accurate predictions for a validation/test set.</pre>"
      ],
      "text/plain": [
       "WARNING: The number of feature dimensions in this problem is very large in comparison with the number of examples. Unless an appropriate regularization value is set, this model may not provide accurate predictions for a validation/test set."
      ]
     },
     "metadata": {},
     "output_type": "display_data"
    },
    {
     "data": {
      "text/html": [
       "<pre>Logistic regression:</pre>"
      ],
      "text/plain": [
       "Logistic regression:"
      ]
     },
     "metadata": {},
     "output_type": "display_data"
    },
    {
     "data": {
      "text/html": [
       "<pre>--------------------------------------------------------</pre>"
      ],
      "text/plain": [
       "--------------------------------------------------------"
      ]
     },
     "metadata": {},
     "output_type": "display_data"
    },
    {
     "data": {
      "text/html": [
       "<pre>Number of examples          : 5772</pre>"
      ],
      "text/plain": [
       "Number of examples          : 5772"
      ]
     },
     "metadata": {},
     "output_type": "display_data"
    },
    {
     "data": {
      "text/html": [
       "<pre>Number of classes           : 2</pre>"
      ],
      "text/plain": [
       "Number of classes           : 2"
      ]
     },
     "metadata": {},
     "output_type": "display_data"
    },
    {
     "data": {
      "text/html": [
       "<pre>Number of feature columns   : 1</pre>"
      ],
      "text/plain": [
       "Number of feature columns   : 1"
      ]
     },
     "metadata": {},
     "output_type": "display_data"
    },
    {
     "data": {
      "text/html": [
       "<pre>Number of unpacked features : 9244</pre>"
      ],
      "text/plain": [
       "Number of unpacked features : 9244"
      ]
     },
     "metadata": {},
     "output_type": "display_data"
    },
    {
     "data": {
      "text/html": [
       "<pre>Number of coefficients    : 9245</pre>"
      ],
      "text/plain": [
       "Number of coefficients    : 9245"
      ]
     },
     "metadata": {},
     "output_type": "display_data"
    },
    {
     "data": {
      "text/html": [
       "<pre>Starting L-BFGS</pre>"
      ],
      "text/plain": [
       "Starting L-BFGS"
      ]
     },
     "metadata": {},
     "output_type": "display_data"
    },
    {
     "data": {
      "text/html": [
       "<pre>--------------------------------------------------------</pre>"
      ],
      "text/plain": [
       "--------------------------------------------------------"
      ]
     },
     "metadata": {},
     "output_type": "display_data"
    },
    {
     "data": {
      "text/html": [
       "<pre>+-----------+----------+-----------+--------------+-------------------+---------------------+</pre>"
      ],
      "text/plain": [
       "+-----------+----------+-----------+--------------+-------------------+---------------------+"
      ]
     },
     "metadata": {},
     "output_type": "display_data"
    },
    {
     "data": {
      "text/html": [
       "<pre>| Iteration | Passes   | Step size | Elapsed Time | Training-accuracy | Validation-accuracy |</pre>"
      ],
      "text/plain": [
       "| Iteration | Passes   | Step size | Elapsed Time | Training-accuracy | Validation-accuracy |"
      ]
     },
     "metadata": {},
     "output_type": "display_data"
    },
    {
     "data": {
      "text/html": [
       "<pre>+-----------+----------+-----------+--------------+-------------------+---------------------+</pre>"
      ],
      "text/plain": [
       "+-----------+----------+-----------+--------------+-------------------+---------------------+"
      ]
     },
     "metadata": {},
     "output_type": "display_data"
    }
   ],
   "source": [
    "sentiment_model = graphlab.logistic_classifier.create(train_data,\n",
    "                                                     target='sentiment',\n",
    "                                                     features=['word_count'],\n",
    "                                                     validation_set=test_data,\n",
    "                                                     max_iterations=20)"
   ]
  },
  {
   "cell_type": "code",
   "execution_count": 13,
   "metadata": {
    "collapsed": false
   },
   "outputs": [
    {
     "data": {
      "text/html": [
       "<pre>| 1         | 3        | 0.000173  | 1.031245     | 0.889120          | 0.797468            |</pre>"
      ],
      "text/plain": [
       "| 1         | 3        | 0.000173  | 1.031245     | 0.889120          | 0.797468            |"
      ]
     },
     "metadata": {},
     "output_type": "display_data"
    },
    {
     "data": {
      "text/html": [
       "<pre>| 2         | 5        | 1.000000  | 1.057746     | 0.956687          | 0.834111            |</pre>"
      ],
      "text/plain": [
       "| 2         | 5        | 1.000000  | 1.057746     | 0.956687          | 0.834111            |"
      ]
     },
     "metadata": {},
     "output_type": "display_data"
    },
    {
     "data": {
      "text/html": [
       "<pre>| 3         | 6        | 1.000000  | 1.076734     | 0.972800          | 0.836775            |</pre>"
      ],
      "text/plain": [
       "| 3         | 6        | 1.000000  | 1.076734     | 0.972800          | 0.836775            |"
      ]
     },
     "metadata": {},
     "output_type": "display_data"
    },
    {
     "data": {
      "text/html": [
       "<pre>| 4         | 7        | 1.000000  | 1.094108     | 0.975398          | 0.848767            |</pre>"
      ],
      "text/plain": [
       "| 4         | 7        | 1.000000  | 1.094108     | 0.975398          | 0.848767            |"
      ]
     },
     "metadata": {},
     "output_type": "display_data"
    },
    {
     "data": {
      "text/html": [
       "<pre>| 5         | 8        | 1.000000  | 1.109326     | 0.982328          | 0.849434            |</pre>"
      ],
      "text/plain": [
       "| 5         | 8        | 1.000000  | 1.109326     | 0.982328          | 0.849434            |"
      ]
     },
     "metadata": {},
     "output_type": "display_data"
    },
    {
     "data": {
      "text/html": [
       "<pre>| 6         | 9        | 1.000000  | 1.129227     | 0.984927          | 0.853431            |</pre>"
      ],
      "text/plain": [
       "| 6         | 9        | 1.000000  | 1.129227     | 0.984927          | 0.853431            |"
      ]
     },
     "metadata": {},
     "output_type": "display_data"
    }
   ],
   "source": [
    "graphlab.canvas.set_target('ipynb')"
   ]
  },
  {
   "cell_type": "code",
   "execution_count": 14,
   "metadata": {
    "collapsed": false
   },
   "outputs": [
    {
     "data": {
      "text/html": [
       "<pre>| 11        | 14       | 1.000000  | 1.233929     | 0.988392          | 0.852099            |</pre>"
      ],
      "text/plain": [
       "| 11        | 14       | 1.000000  | 1.233929     | 0.988392          | 0.852099            |"
      ]
     },
     "metadata": {},
     "output_type": "display_data"
    },
    {
     "data": {
      "text/html": [
       "<pre>+-----------+----------+-----------+--------------+-------------------+---------------------+</pre>"
      ],
      "text/plain": [
       "+-----------+----------+-----------+--------------+-------------------+---------------------+"
      ]
     },
     "metadata": {},
     "output_type": "display_data"
    },
    {
     "data": {
      "text/html": [
       "<pre>TERMINATED: Iteration limit reached.</pre>"
      ],
      "text/plain": [
       "TERMINATED: Iteration limit reached."
      ]
     },
     "metadata": {},
     "output_type": "display_data"
    },
    {
     "data": {
      "text/html": [
       "<pre>This model may not be optimal. To improve it, consider increasing `max_iterations`.</pre>"
      ],
      "text/plain": [
       "This model may not be optimal. To improve it, consider increasing `max_iterations`."
      ]
     },
     "metadata": {},
     "output_type": "display_data"
    },
    {
     "data": {
      "text/plain": [
       "{'roc_curve': Columns:\n",
       " \tthreshold\tfloat\n",
       " \tfpr\tfloat\n",
       " \ttpr\tfloat\n",
       " \tp\tint\n",
       " \tn\tint\n",
       " \n",
       " Rows: 100001\n",
       " \n",
       " Data:\n",
       " +-----------+----------------+----------------+------+-----+\n",
       " | threshold |      fpr       |      tpr       |  p   |  n  |\n",
       " +-----------+----------------+----------------+------+-----+\n",
       " |    0.0    |      1.0       |      1.0       | 1142 | 359 |\n",
       " |   1e-05   | 0.841225626741 | 0.994746059545 | 1142 | 359 |\n",
       " |   2e-05   | 0.821727019499 | 0.993870402802 | 1142 | 359 |\n",
       " |   3e-05   | 0.807799442897 | 0.99299474606  | 1142 | 359 |\n",
       " |   4e-05   | 0.796657381616 | 0.99299474606  | 1142 | 359 |\n",
       " |   5e-05   | 0.796657381616 | 0.99299474606  | 1142 | 359 |\n",
       " |   6e-05   | 0.788300835655 | 0.990367775832 | 1142 | 359 |\n",
       " |   7e-05   | 0.779944289694 | 0.989492119089 | 1142 | 359 |\n",
       " |   8e-05   | 0.779944289694 | 0.989492119089 | 1142 | 359 |\n",
       " |   9e-05   | 0.774373259053 | 0.988616462347 | 1142 | 359 |\n",
       " +-----------+----------------+----------------+------+-----+\n",
       " [100001 rows x 5 columns]\n",
       " Note: Only the head of the SFrame is printed.\n",
       " You can use print_rows(num_rows=m, num_columns=n) to print more rows and columns.}"
      ]
     },
     "execution_count": 14,
     "metadata": {},
     "output_type": "execute_result"
    }
   ],
   "source": [
    "sentiment_model.evaluate(test_data, metric='roc_curve')"
   ]
  },
  {
   "cell_type": "code",
   "execution_count": 15,
   "metadata": {
    "collapsed": false
   },
   "outputs": [
    {
     "data": {
      "application/javascript": [
       "$(\"head\").append($(\"<link/>\").attr({\n",
       "  rel:  \"stylesheet\",\n",
       "  type: \"text/css\",\n",
       "  href: \"//cdnjs.cloudflare.com/ajax/libs/font-awesome/4.1.0/css/font-awesome.min.css\"\n",
       "}));\n",
       "$(\"head\").append($(\"<link/>\").attr({\n",
       "  rel:  \"stylesheet\",\n",
       "  type: \"text/css\",\n",
       "  href: \"https://static.turi.com/products/graphlab-create/2.1/canvas/css/canvas.css\"\n",
       "}));\n",
       "\n",
       "            (function(){\n",
       "\n",
       "                var e = null;\n",
       "                if (typeof element == 'undefined') {\n",
       "                    var scripts = document.getElementsByTagName('script');\n",
       "                    var thisScriptTag = scripts[scripts.length-1];\n",
       "                    var parentDiv = thisScriptTag.parentNode;\n",
       "                    e = document.createElement('div');\n",
       "                    parentDiv.appendChild(e);\n",
       "                } else {\n",
       "                    e = element[0];\n",
       "                }\n",
       "\n",
       "                if (typeof requirejs !== 'undefined') {\n",
       "                    // disable load timeout; ipython_app.js is large and can take a while to load.\n",
       "                    requirejs.config({waitSeconds: 0});\n",
       "                }\n",
       "\n",
       "                require(['https://static.turi.com/products/graphlab-create/2.1/canvas/js/ipython_app.js'], function(IPythonApp){\n",
       "                    var app = new IPythonApp();\n",
       "                    app.attachView('model','Evaluation', {\"comparison\": null, \"selected_variable\": {\"comparison\": null, \"name\": [\"sentiment_model\"], \"view_file\": \"model\", \"view_component\": \"Evaluation\", \"view_params\": {\"model_type\": \"regression\", \"view\": \"Evaluation\"}, \"view_components\": [\"Summary\", \"Evaluation\", \"Comparison\"], \"model_type\": \"regression\", \"attributes\": {\"section_titles\": [\"Schema\", \"Hyperparameters\", \"Training Summary\", \"Settings\", \"Highest Positive Coefficients\", \"Lowest Negative Coefficients\"], \"sections\": [[[\"Number of coefficients\", 9245], [\"Number of examples\", 5772], [\"Number of classes\", 2], [\"Number of feature columns\", 1], [\"Number of unpacked features\", 9244]], [[\"L1 penalty\", 0.0], [\"L2 penalty\", 0.01]], [[\"Solver\", \"lbfgs\"], [\"Solver iterations\", 20], [\"Solver status\", \"TERMINATED: Iteration limit reached.\"], [\"Training time (sec)\", 1.4196]], [[\"Log-likelihood\", 166.4934]], [[\"word_count[previously,]\", 23.7833], [\"word_count[this.....]\", 22.6908], [\"word_count[chaps!]\", 19.097], [\"word_count[price:]\", 16.1137], [\"word_count[otm]\", 15.489]], [[\"word_count[today....]\", -22.6081], [\"word_count[puts!]\", -21.9633], [\"word_count[(shorts)]\", -19.4759], [\"word_count[accenture]\", -19.2603], [\"word_count[aprox]\", -19.1244]]]}, \"evaluations\": [[\"test_data\", {\"roc_curve\": [{\"threshold\": 0.0, \"p\": 1142, \"fpr\": 1.0, \"tpr\": 1.0, \"n\": 359}, {\"threshold\": 0.001, \"p\": 1142, \"fpr\": 0.6824512534818942, \"tpr\": 0.9824868651488616, \"n\": 359}, {\"threshold\": 0.002, \"p\": 1142, \"fpr\": 0.637883008356546, \"tpr\": 0.9798598949211909, \"n\": 359}, {\"threshold\": 0.003, \"p\": 1142, \"fpr\": 0.6295264623955432, \"tpr\": 0.9763572679509632, \"n\": 359}, {\"threshold\": 0.004, \"p\": 1142, \"fpr\": 0.6211699164345403, \"tpr\": 0.9746059544658494, \"n\": 359}, {\"threshold\": 0.005, \"p\": 1142, \"fpr\": 0.6128133704735376, \"tpr\": 0.9737302977232924, \"n\": 359}, {\"threshold\": 0.006, \"p\": 1142, \"fpr\": 0.6100278551532033, \"tpr\": 0.9737302977232924, \"n\": 359}, {\"threshold\": 0.007, \"p\": 1142, \"fpr\": 0.6016713091922006, \"tpr\": 0.9737302977232924, \"n\": 359}, {\"threshold\": 0.008, \"p\": 1142, \"fpr\": 0.596100278551532, \"tpr\": 0.9737302977232924, \"n\": 359}, {\"threshold\": 0.009, \"p\": 1142, \"fpr\": 0.5905292479108635, \"tpr\": 0.9728546409807356, \"n\": 359}, {\"threshold\": 0.01, \"p\": 1142, \"fpr\": 0.5793871866295265, \"tpr\": 0.9719789842381786, \"n\": 359}, {\"threshold\": 0.011, \"p\": 1142, \"fpr\": 0.5654596100278552, \"tpr\": 0.9711033274956217, \"n\": 359}, {\"threshold\": 0.012, \"p\": 1142, \"fpr\": 0.5571030640668524, \"tpr\": 0.9702276707530648, \"n\": 359}, {\"threshold\": 0.013, \"p\": 1142, \"fpr\": 0.5543175487465181, \"tpr\": 0.967600700525394, \"n\": 359}, {\"threshold\": 0.014, \"p\": 1142, \"fpr\": 0.5431754874651811, \"tpr\": 0.967600700525394, \"n\": 359}, {\"threshold\": 0.015, \"p\": 1142, \"fpr\": 0.5376044568245125, \"tpr\": 0.967600700525394, \"n\": 359}, {\"threshold\": 0.016, \"p\": 1142, \"fpr\": 0.5376044568245125, \"tpr\": 0.967600700525394, \"n\": 359}, {\"threshold\": 0.017, \"p\": 1142, \"fpr\": 0.5376044568245125, \"tpr\": 0.9667250437828371, \"n\": 359}, {\"threshold\": 0.018, \"p\": 1142, \"fpr\": 0.5376044568245125, \"tpr\": 0.9649737302977233, \"n\": 359}, {\"threshold\": 0.019, \"p\": 1142, \"fpr\": 0.5348189415041783, \"tpr\": 0.9632224168126094, \"n\": 359}, {\"threshold\": 0.02, \"p\": 1142, \"fpr\": 0.5348189415041783, \"tpr\": 0.9605954465849387, \"n\": 359}, {\"threshold\": 0.021, \"p\": 1142, \"fpr\": 0.532033426183844, \"tpr\": 0.9597197898423818, \"n\": 359}, {\"threshold\": 0.022, \"p\": 1142, \"fpr\": 0.532033426183844, \"tpr\": 0.9597197898423818, \"n\": 359}, {\"threshold\": 0.023, \"p\": 1142, \"fpr\": 0.532033426183844, \"tpr\": 0.9597197898423818, \"n\": 359}, {\"threshold\": 0.024, \"p\": 1142, \"fpr\": 0.5264623955431755, \"tpr\": 0.9588441330998249, \"n\": 359}, {\"threshold\": 0.025, \"p\": 1142, \"fpr\": 0.5264623955431755, \"tpr\": 0.9588441330998249, \"n\": 359}, {\"threshold\": 0.026, \"p\": 1142, \"fpr\": 0.5236768802228412, \"tpr\": 0.957092819614711, \"n\": 359}, {\"threshold\": 0.027, \"p\": 1142, \"fpr\": 0.5181058495821727, \"tpr\": 0.9562171628721541, \"n\": 359}, {\"threshold\": 0.028, \"p\": 1142, \"fpr\": 0.5181058495821727, \"tpr\": 0.9562171628721541, \"n\": 359}, {\"threshold\": 0.029, \"p\": 1142, \"fpr\": 0.5153203342618384, \"tpr\": 0.9562171628721541, \"n\": 359}, {\"threshold\": 0.03, \"p\": 1142, \"fpr\": 0.5153203342618384, \"tpr\": 0.9562171628721541, \"n\": 359}, {\"threshold\": 0.031, \"p\": 1142, \"fpr\": 0.5153203342618384, \"tpr\": 0.9562171628721541, \"n\": 359}, {\"threshold\": 0.032, \"p\": 1142, \"fpr\": 0.5153203342618384, \"tpr\": 0.9562171628721541, \"n\": 359}, {\"threshold\": 0.033, \"p\": 1142, \"fpr\": 0.5153203342618384, \"tpr\": 0.9562171628721541, \"n\": 359}, {\"threshold\": 0.034, \"p\": 1142, \"fpr\": 0.5125348189415042, \"tpr\": 0.9562171628721541, \"n\": 359}, {\"threshold\": 0.035, \"p\": 1142, \"fpr\": 0.5125348189415042, \"tpr\": 0.9562171628721541, \"n\": 359}, {\"threshold\": 0.036, \"p\": 1142, \"fpr\": 0.5097493036211699, \"tpr\": 0.9544658493870403, \"n\": 359}, {\"threshold\": 0.037, \"p\": 1142, \"fpr\": 0.5069637883008357, \"tpr\": 0.9535901926444834, \"n\": 359}, {\"threshold\": 0.038, \"p\": 1142, \"fpr\": 0.5069637883008357, \"tpr\": 0.9535901926444834, \"n\": 359}, {\"threshold\": 0.039, \"p\": 1142, \"fpr\": 0.5041782729805014, \"tpr\": 0.9535901926444834, \"n\": 359}, {\"threshold\": 0.04, \"p\": 1142, \"fpr\": 0.5013927576601671, \"tpr\": 0.9535901926444834, \"n\": 359}, {\"threshold\": 0.041, \"p\": 1142, \"fpr\": 0.5013927576601671, \"tpr\": 0.9535901926444834, \"n\": 359}, {\"threshold\": 0.042, \"p\": 1142, \"fpr\": 0.5013927576601671, \"tpr\": 0.9535901926444834, \"n\": 359}, {\"threshold\": 0.043, \"p\": 1142, \"fpr\": 0.5013927576601671, \"tpr\": 0.9535901926444834, \"n\": 359}, {\"threshold\": 0.044, \"p\": 1142, \"fpr\": 0.5013927576601671, \"tpr\": 0.9535901926444834, \"n\": 359}, {\"threshold\": 0.045, \"p\": 1142, \"fpr\": 0.5013927576601671, \"tpr\": 0.9535901926444834, \"n\": 359}, {\"threshold\": 0.046, \"p\": 1142, \"fpr\": 0.4958217270194986, \"tpr\": 0.9535901926444834, \"n\": 359}, {\"threshold\": 0.047, \"p\": 1142, \"fpr\": 0.4958217270194986, \"tpr\": 0.9527145359019265, \"n\": 359}, {\"threshold\": 0.048, \"p\": 1142, \"fpr\": 0.4958217270194986, \"tpr\": 0.9527145359019265, \"n\": 359}, {\"threshold\": 0.049, \"p\": 1142, \"fpr\": 0.4958217270194986, \"tpr\": 0.9527145359019265, \"n\": 359}, {\"threshold\": 0.05, \"p\": 1142, \"fpr\": 0.4958217270194986, \"tpr\": 0.9527145359019265, \"n\": 359}, {\"threshold\": 0.051, \"p\": 1142, \"fpr\": 0.4958217270194986, \"tpr\": 0.9527145359019265, \"n\": 359}, {\"threshold\": 0.052, \"p\": 1142, \"fpr\": 0.4958217270194986, \"tpr\": 0.9518388791593695, \"n\": 359}, {\"threshold\": 0.053, \"p\": 1142, \"fpr\": 0.4958217270194986, \"tpr\": 0.9518388791593695, \"n\": 359}, {\"threshold\": 0.054, \"p\": 1142, \"fpr\": 0.4958217270194986, \"tpr\": 0.9518388791593695, \"n\": 359}, {\"threshold\": 0.055, \"p\": 1142, \"fpr\": 0.4958217270194986, \"tpr\": 0.9518388791593695, \"n\": 359}, {\"threshold\": 0.056, \"p\": 1142, \"fpr\": 0.49303621169916434, \"tpr\": 0.9518388791593695, \"n\": 359}, {\"threshold\": 0.057, \"p\": 1142, \"fpr\": 0.49025069637883006, \"tpr\": 0.9518388791593695, \"n\": 359}, {\"threshold\": 0.058, \"p\": 1142, \"fpr\": 0.49025069637883006, \"tpr\": 0.9518388791593695, \"n\": 359}, {\"threshold\": 0.059, \"p\": 1142, \"fpr\": 0.48746518105849584, \"tpr\": 0.9518388791593695, \"n\": 359}, {\"threshold\": 0.06, \"p\": 1142, \"fpr\": 0.48746518105849584, \"tpr\": 0.9518388791593695, \"n\": 359}, {\"threshold\": 0.061, \"p\": 1142, \"fpr\": 0.48746518105849584, \"tpr\": 0.9518388791593695, \"n\": 359}, {\"threshold\": 0.062, \"p\": 1142, \"fpr\": 0.48746518105849584, \"tpr\": 0.9518388791593695, \"n\": 359}, {\"threshold\": 0.063, \"p\": 1142, \"fpr\": 0.48467966573816157, \"tpr\": 0.9518388791593695, \"n\": 359}, {\"threshold\": 0.064, \"p\": 1142, \"fpr\": 0.479108635097493, \"tpr\": 0.9518388791593695, \"n\": 359}, {\"threshold\": 0.065, \"p\": 1142, \"fpr\": 0.479108635097493, \"tpr\": 0.9518388791593695, \"n\": 359}, {\"threshold\": 0.066, \"p\": 1142, \"fpr\": 0.479108635097493, \"tpr\": 0.9518388791593695, \"n\": 359}, {\"threshold\": 0.067, \"p\": 1142, \"fpr\": 0.479108635097493, \"tpr\": 0.9518388791593695, \"n\": 359}, {\"threshold\": 0.068, \"p\": 1142, \"fpr\": 0.4735376044568245, \"tpr\": 0.9518388791593695, \"n\": 359}, {\"threshold\": 0.069, \"p\": 1142, \"fpr\": 0.4735376044568245, \"tpr\": 0.9518388791593695, \"n\": 359}, {\"threshold\": 0.07, \"p\": 1142, \"fpr\": 0.47075208913649025, \"tpr\": 0.9518388791593695, \"n\": 359}, {\"threshold\": 0.071, \"p\": 1142, \"fpr\": 0.47075208913649025, \"tpr\": 0.9518388791593695, \"n\": 359}, {\"threshold\": 0.072, \"p\": 1142, \"fpr\": 0.467966573816156, \"tpr\": 0.9518388791593695, \"n\": 359}, {\"threshold\": 0.073, \"p\": 1142, \"fpr\": 0.467966573816156, \"tpr\": 0.9518388791593695, \"n\": 359}, {\"threshold\": 0.074, \"p\": 1142, \"fpr\": 0.46518105849582175, \"tpr\": 0.9518388791593695, \"n\": 359}, {\"threshold\": 0.075, \"p\": 1142, \"fpr\": 0.46518105849582175, \"tpr\": 0.9518388791593695, \"n\": 359}, {\"threshold\": 0.076, \"p\": 1142, \"fpr\": 0.46518105849582175, \"tpr\": 0.9518388791593695, \"n\": 359}, {\"threshold\": 0.077, \"p\": 1142, \"fpr\": 0.46518105849582175, \"tpr\": 0.9518388791593695, \"n\": 359}, {\"threshold\": 0.078, \"p\": 1142, \"fpr\": 0.46518105849582175, \"tpr\": 0.9518388791593695, \"n\": 359}, {\"threshold\": 0.079, \"p\": 1142, \"fpr\": 0.46518105849582175, \"tpr\": 0.9518388791593695, \"n\": 359}, {\"threshold\": 0.08, \"p\": 1142, \"fpr\": 0.46518105849582175, \"tpr\": 0.9518388791593695, \"n\": 359}, {\"threshold\": 0.081, \"p\": 1142, \"fpr\": 0.4623955431754875, \"tpr\": 0.9518388791593695, \"n\": 359}, {\"threshold\": 0.082, \"p\": 1142, \"fpr\": 0.4623955431754875, \"tpr\": 0.9518388791593695, \"n\": 359}, {\"threshold\": 0.083, \"p\": 1142, \"fpr\": 0.4623955431754875, \"tpr\": 0.9518388791593695, \"n\": 359}, {\"threshold\": 0.084, \"p\": 1142, \"fpr\": 0.4623955431754875, \"tpr\": 0.9518388791593695, \"n\": 359}, {\"threshold\": 0.085, \"p\": 1142, \"fpr\": 0.4623955431754875, \"tpr\": 0.9518388791593695, \"n\": 359}, {\"threshold\": 0.086, \"p\": 1142, \"fpr\": 0.4596100278551532, \"tpr\": 0.9518388791593695, \"n\": 359}, {\"threshold\": 0.087, \"p\": 1142, \"fpr\": 0.4596100278551532, \"tpr\": 0.9509632224168126, \"n\": 359}, {\"threshold\": 0.088, \"p\": 1142, \"fpr\": 0.4596100278551532, \"tpr\": 0.9509632224168126, \"n\": 359}, {\"threshold\": 0.089, \"p\": 1142, \"fpr\": 0.4596100278551532, \"tpr\": 0.9509632224168126, \"n\": 359}, {\"threshold\": 0.09, \"p\": 1142, \"fpr\": 0.4596100278551532, \"tpr\": 0.9500875656742557, \"n\": 359}, {\"threshold\": 0.091, \"p\": 1142, \"fpr\": 0.4596100278551532, \"tpr\": 0.9492119089316988, \"n\": 359}, {\"threshold\": 0.092, \"p\": 1142, \"fpr\": 0.4596100278551532, \"tpr\": 0.9492119089316988, \"n\": 359}, {\"threshold\": 0.093, \"p\": 1142, \"fpr\": 0.4596100278551532, \"tpr\": 0.9492119089316988, \"n\": 359}, {\"threshold\": 0.094, \"p\": 1142, \"fpr\": 0.4596100278551532, \"tpr\": 0.9492119089316988, \"n\": 359}, {\"threshold\": 0.095, \"p\": 1142, \"fpr\": 0.4596100278551532, \"tpr\": 0.9492119089316988, \"n\": 359}, {\"threshold\": 0.096, \"p\": 1142, \"fpr\": 0.4596100278551532, \"tpr\": 0.9492119089316988, \"n\": 359}, {\"threshold\": 0.097, \"p\": 1142, \"fpr\": 0.4596100278551532, \"tpr\": 0.9492119089316988, \"n\": 359}, {\"threshold\": 0.098, \"p\": 1142, \"fpr\": 0.4596100278551532, \"tpr\": 0.9492119089316988, \"n\": 359}, {\"threshold\": 0.099, \"p\": 1142, \"fpr\": 0.4596100278551532, \"tpr\": 0.9492119089316988, \"n\": 359}, {\"threshold\": 0.1, \"p\": 1142, \"fpr\": 0.4596100278551532, \"tpr\": 0.9483362521891419, \"n\": 359}, {\"threshold\": 0.101, \"p\": 1142, \"fpr\": 0.4596100278551532, \"tpr\": 0.9483362521891419, \"n\": 359}, {\"threshold\": 0.102, \"p\": 1142, \"fpr\": 0.4596100278551532, \"tpr\": 0.9483362521891419, \"n\": 359}, {\"threshold\": 0.103, \"p\": 1142, \"fpr\": 0.4568245125348189, \"tpr\": 0.9483362521891419, \"n\": 359}, {\"threshold\": 0.104, \"p\": 1142, \"fpr\": 0.4568245125348189, \"tpr\": 0.9483362521891419, \"n\": 359}, {\"threshold\": 0.105, \"p\": 1142, \"fpr\": 0.4568245125348189, \"tpr\": 0.9483362521891419, \"n\": 359}, {\"threshold\": 0.106, \"p\": 1142, \"fpr\": 0.4568245125348189, \"tpr\": 0.9483362521891419, \"n\": 359}, {\"threshold\": 0.107, \"p\": 1142, \"fpr\": 0.4568245125348189, \"tpr\": 0.9483362521891419, \"n\": 359}, {\"threshold\": 0.108, \"p\": 1142, \"fpr\": 0.4568245125348189, \"tpr\": 0.9483362521891419, \"n\": 359}, {\"threshold\": 0.109, \"p\": 1142, \"fpr\": 0.4568245125348189, \"tpr\": 0.9483362521891419, \"n\": 359}, {\"threshold\": 0.11, \"p\": 1142, \"fpr\": 0.4568245125348189, \"tpr\": 0.9483362521891419, \"n\": 359}, {\"threshold\": 0.111, \"p\": 1142, \"fpr\": 0.4568245125348189, \"tpr\": 0.9483362521891419, \"n\": 359}, {\"threshold\": 0.112, \"p\": 1142, \"fpr\": 0.4568245125348189, \"tpr\": 0.9483362521891419, \"n\": 359}, {\"threshold\": 0.113, \"p\": 1142, \"fpr\": 0.4568245125348189, \"tpr\": 0.9483362521891419, \"n\": 359}, {\"threshold\": 0.114, \"p\": 1142, \"fpr\": 0.4568245125348189, \"tpr\": 0.9483362521891419, \"n\": 359}, {\"threshold\": 0.115, \"p\": 1142, \"fpr\": 0.4568245125348189, \"tpr\": 0.9483362521891419, \"n\": 359}, {\"threshold\": 0.116, \"p\": 1142, \"fpr\": 0.4568245125348189, \"tpr\": 0.9483362521891419, \"n\": 359}, {\"threshold\": 0.117, \"p\": 1142, \"fpr\": 0.4568245125348189, \"tpr\": 0.9474605954465849, \"n\": 359}, {\"threshold\": 0.118, \"p\": 1142, \"fpr\": 0.4568245125348189, \"tpr\": 0.9474605954465849, \"n\": 359}, {\"threshold\": 0.119, \"p\": 1142, \"fpr\": 0.45403899721448465, \"tpr\": 0.9474605954465849, \"n\": 359}, {\"threshold\": 0.12, \"p\": 1142, \"fpr\": 0.45403899721448465, \"tpr\": 0.9474605954465849, \"n\": 359}, {\"threshold\": 0.121, \"p\": 1142, \"fpr\": 0.45125348189415043, \"tpr\": 0.9474605954465849, \"n\": 359}, {\"threshold\": 0.122, \"p\": 1142, \"fpr\": 0.44846796657381616, \"tpr\": 0.946584938704028, \"n\": 359}, {\"threshold\": 0.123, \"p\": 1142, \"fpr\": 0.44846796657381616, \"tpr\": 0.946584938704028, \"n\": 359}, {\"threshold\": 0.124, \"p\": 1142, \"fpr\": 0.44846796657381616, \"tpr\": 0.946584938704028, \"n\": 359}, {\"threshold\": 0.125, \"p\": 1142, \"fpr\": 0.44846796657381616, \"tpr\": 0.946584938704028, \"n\": 359}, {\"threshold\": 0.126, \"p\": 1142, \"fpr\": 0.44846796657381616, \"tpr\": 0.9457092819614711, \"n\": 359}, {\"threshold\": 0.127, \"p\": 1142, \"fpr\": 0.44846796657381616, \"tpr\": 0.9457092819614711, \"n\": 359}, {\"threshold\": 0.128, \"p\": 1142, \"fpr\": 0.44846796657381616, \"tpr\": 0.9457092819614711, \"n\": 359}, {\"threshold\": 0.129, \"p\": 1142, \"fpr\": 0.44846796657381616, \"tpr\": 0.9457092819614711, \"n\": 359}, {\"threshold\": 0.13, \"p\": 1142, \"fpr\": 0.44846796657381616, \"tpr\": 0.9448336252189142, \"n\": 359}, {\"threshold\": 0.131, \"p\": 1142, \"fpr\": 0.44846796657381616, \"tpr\": 0.9448336252189142, \"n\": 359}, {\"threshold\": 0.132, \"p\": 1142, \"fpr\": 0.44846796657381616, \"tpr\": 0.9448336252189142, \"n\": 359}, {\"threshold\": 0.133, \"p\": 1142, \"fpr\": 0.44846796657381616, \"tpr\": 0.9448336252189142, \"n\": 359}, {\"threshold\": 0.134, \"p\": 1142, \"fpr\": 0.44846796657381616, \"tpr\": 0.9448336252189142, \"n\": 359}, {\"threshold\": 0.135, \"p\": 1142, \"fpr\": 0.44846796657381616, \"tpr\": 0.9448336252189142, \"n\": 359}, {\"threshold\": 0.136, \"p\": 1142, \"fpr\": 0.44846796657381616, \"tpr\": 0.9448336252189142, \"n\": 359}, {\"threshold\": 0.137, \"p\": 1142, \"fpr\": 0.44846796657381616, \"tpr\": 0.9448336252189142, \"n\": 359}, {\"threshold\": 0.138, \"p\": 1142, \"fpr\": 0.44846796657381616, \"tpr\": 0.9448336252189142, \"n\": 359}, {\"threshold\": 0.139, \"p\": 1142, \"fpr\": 0.4456824512534819, \"tpr\": 0.9448336252189142, \"n\": 359}, {\"threshold\": 0.14, \"p\": 1142, \"fpr\": 0.4456824512534819, \"tpr\": 0.9448336252189142, \"n\": 359}, {\"threshold\": 0.141, \"p\": 1142, \"fpr\": 0.4456824512534819, \"tpr\": 0.9439579684763573, \"n\": 359}, {\"threshold\": 0.142, \"p\": 1142, \"fpr\": 0.4456824512534819, \"tpr\": 0.9439579684763573, \"n\": 359}, {\"threshold\": 0.143, \"p\": 1142, \"fpr\": 0.4456824512534819, \"tpr\": 0.9439579684763573, \"n\": 359}, {\"threshold\": 0.144, \"p\": 1142, \"fpr\": 0.4456824512534819, \"tpr\": 0.9439579684763573, \"n\": 359}, {\"threshold\": 0.145, \"p\": 1142, \"fpr\": 0.4456824512534819, \"tpr\": 0.9439579684763573, \"n\": 359}, {\"threshold\": 0.146, \"p\": 1142, \"fpr\": 0.4456824512534819, \"tpr\": 0.9439579684763573, \"n\": 359}, {\"threshold\": 0.147, \"p\": 1142, \"fpr\": 0.4456824512534819, \"tpr\": 0.9439579684763573, \"n\": 359}, {\"threshold\": 0.148, \"p\": 1142, \"fpr\": 0.4456824512534819, \"tpr\": 0.9439579684763573, \"n\": 359}, {\"threshold\": 0.149, \"p\": 1142, \"fpr\": 0.4456824512534819, \"tpr\": 0.9439579684763573, \"n\": 359}, {\"threshold\": 0.15, \"p\": 1142, \"fpr\": 0.4456824512534819, \"tpr\": 0.9439579684763573, \"n\": 359}, {\"threshold\": 0.151, \"p\": 1142, \"fpr\": 0.4456824512534819, \"tpr\": 0.9439579684763573, \"n\": 359}, {\"threshold\": 0.152, \"p\": 1142, \"fpr\": 0.4456824512534819, \"tpr\": 0.9439579684763573, \"n\": 359}, {\"threshold\": 0.153, \"p\": 1142, \"fpr\": 0.4456824512534819, \"tpr\": 0.9439579684763573, \"n\": 359}, {\"threshold\": 0.154, \"p\": 1142, \"fpr\": 0.4456824512534819, \"tpr\": 0.9439579684763573, \"n\": 359}, {\"threshold\": 0.155, \"p\": 1142, \"fpr\": 0.4456824512534819, \"tpr\": 0.9439579684763573, \"n\": 359}, {\"threshold\": 0.156, \"p\": 1142, \"fpr\": 0.4456824512534819, \"tpr\": 0.9430823117338003, \"n\": 359}, {\"threshold\": 0.157, \"p\": 1142, \"fpr\": 0.4456824512534819, \"tpr\": 0.9430823117338003, \"n\": 359}, {\"threshold\": 0.158, \"p\": 1142, \"fpr\": 0.4456824512534819, \"tpr\": 0.9430823117338003, \"n\": 359}, {\"threshold\": 0.159, \"p\": 1142, \"fpr\": 0.4456824512534819, \"tpr\": 0.9430823117338003, \"n\": 359}, {\"threshold\": 0.16, \"p\": 1142, \"fpr\": 0.4428969359331476, \"tpr\": 0.9430823117338003, \"n\": 359}, {\"threshold\": 0.161, \"p\": 1142, \"fpr\": 0.4428969359331476, \"tpr\": 0.9422066549912435, \"n\": 359}, {\"threshold\": 0.162, \"p\": 1142, \"fpr\": 0.4428969359331476, \"tpr\": 0.9422066549912435, \"n\": 359}, {\"threshold\": 0.163, \"p\": 1142, \"fpr\": 0.4428969359331476, \"tpr\": 0.9422066549912435, \"n\": 359}, {\"threshold\": 0.164, \"p\": 1142, \"fpr\": 0.4428969359331476, \"tpr\": 0.9422066549912435, \"n\": 359}, {\"threshold\": 0.165, \"p\": 1142, \"fpr\": 0.4428969359331476, \"tpr\": 0.9422066549912435, \"n\": 359}, {\"threshold\": 0.166, \"p\": 1142, \"fpr\": 0.4428969359331476, \"tpr\": 0.9413309982486865, \"n\": 359}, {\"threshold\": 0.167, \"p\": 1142, \"fpr\": 0.4401114206128134, \"tpr\": 0.9413309982486865, \"n\": 359}, {\"threshold\": 0.168, \"p\": 1142, \"fpr\": 0.4401114206128134, \"tpr\": 0.9413309982486865, \"n\": 359}, {\"threshold\": 0.169, \"p\": 1142, \"fpr\": 0.4401114206128134, \"tpr\": 0.9413309982486865, \"n\": 359}, {\"threshold\": 0.17, \"p\": 1142, \"fpr\": 0.4401114206128134, \"tpr\": 0.9413309982486865, \"n\": 359}, {\"threshold\": 0.171, \"p\": 1142, \"fpr\": 0.4401114206128134, \"tpr\": 0.9413309982486865, \"n\": 359}, {\"threshold\": 0.172, \"p\": 1142, \"fpr\": 0.4401114206128134, \"tpr\": 0.9413309982486865, \"n\": 359}, {\"threshold\": 0.173, \"p\": 1142, \"fpr\": 0.4401114206128134, \"tpr\": 0.9413309982486865, \"n\": 359}, {\"threshold\": 0.174, \"p\": 1142, \"fpr\": 0.4401114206128134, \"tpr\": 0.9413309982486865, \"n\": 359}, {\"threshold\": 0.175, \"p\": 1142, \"fpr\": 0.4401114206128134, \"tpr\": 0.9413309982486865, \"n\": 359}, {\"threshold\": 0.176, \"p\": 1142, \"fpr\": 0.4401114206128134, \"tpr\": 0.9413309982486865, \"n\": 359}, {\"threshold\": 0.177, \"p\": 1142, \"fpr\": 0.4401114206128134, \"tpr\": 0.9413309982486865, \"n\": 359}, {\"threshold\": 0.178, \"p\": 1142, \"fpr\": 0.4401114206128134, \"tpr\": 0.9413309982486865, \"n\": 359}, {\"threshold\": 0.179, \"p\": 1142, \"fpr\": 0.4401114206128134, \"tpr\": 0.9413309982486865, \"n\": 359}, {\"threshold\": 0.18, \"p\": 1142, \"fpr\": 0.4401114206128134, \"tpr\": 0.9413309982486865, \"n\": 359}, {\"threshold\": 0.181, \"p\": 1142, \"fpr\": 0.4373259052924791, \"tpr\": 0.9413309982486865, \"n\": 359}, {\"threshold\": 0.182, \"p\": 1142, \"fpr\": 0.4373259052924791, \"tpr\": 0.9413309982486865, \"n\": 359}, {\"threshold\": 0.183, \"p\": 1142, \"fpr\": 0.4373259052924791, \"tpr\": 0.9413309982486865, \"n\": 359}, {\"threshold\": 0.184, \"p\": 1142, \"fpr\": 0.4373259052924791, \"tpr\": 0.9413309982486865, \"n\": 359}, {\"threshold\": 0.185, \"p\": 1142, \"fpr\": 0.4373259052924791, \"tpr\": 0.9413309982486865, \"n\": 359}, {\"threshold\": 0.186, \"p\": 1142, \"fpr\": 0.4373259052924791, \"tpr\": 0.9413309982486865, \"n\": 359}, {\"threshold\": 0.187, \"p\": 1142, \"fpr\": 0.4373259052924791, \"tpr\": 0.9413309982486865, \"n\": 359}, {\"threshold\": 0.188, \"p\": 1142, \"fpr\": 0.4373259052924791, \"tpr\": 0.9413309982486865, \"n\": 359}, {\"threshold\": 0.189, \"p\": 1142, \"fpr\": 0.4373259052924791, \"tpr\": 0.9413309982486865, \"n\": 359}, {\"threshold\": 0.19, \"p\": 1142, \"fpr\": 0.4373259052924791, \"tpr\": 0.9404553415061296, \"n\": 359}, {\"threshold\": 0.191, \"p\": 1142, \"fpr\": 0.4373259052924791, \"tpr\": 0.9404553415061296, \"n\": 359}, {\"threshold\": 0.192, \"p\": 1142, \"fpr\": 0.4373259052924791, \"tpr\": 0.9404553415061296, \"n\": 359}, {\"threshold\": 0.193, \"p\": 1142, \"fpr\": 0.4373259052924791, \"tpr\": 0.9404553415061296, \"n\": 359}, {\"threshold\": 0.194, \"p\": 1142, \"fpr\": 0.4373259052924791, \"tpr\": 0.9404553415061296, \"n\": 359}, {\"threshold\": 0.195, \"p\": 1142, \"fpr\": 0.4373259052924791, \"tpr\": 0.9404553415061296, \"n\": 359}, {\"threshold\": 0.196, \"p\": 1142, \"fpr\": 0.43454038997214484, \"tpr\": 0.9404553415061296, \"n\": 359}, {\"threshold\": 0.197, \"p\": 1142, \"fpr\": 0.43454038997214484, \"tpr\": 0.9404553415061296, \"n\": 359}, {\"threshold\": 0.198, \"p\": 1142, \"fpr\": 0.43454038997214484, \"tpr\": 0.9404553415061296, \"n\": 359}, {\"threshold\": 0.199, \"p\": 1142, \"fpr\": 0.43454038997214484, \"tpr\": 0.9404553415061296, \"n\": 359}, {\"threshold\": 0.2, \"p\": 1142, \"fpr\": 0.43454038997214484, \"tpr\": 0.9404553415061296, \"n\": 359}, {\"threshold\": 0.201, \"p\": 1142, \"fpr\": 0.43454038997214484, \"tpr\": 0.9404553415061296, \"n\": 359}, {\"threshold\": 0.202, \"p\": 1142, \"fpr\": 0.43454038997214484, \"tpr\": 0.9404553415061296, \"n\": 359}, {\"threshold\": 0.203, \"p\": 1142, \"fpr\": 0.43454038997214484, \"tpr\": 0.9404553415061296, \"n\": 359}, {\"threshold\": 0.204, \"p\": 1142, \"fpr\": 0.43454038997214484, \"tpr\": 0.9404553415061296, \"n\": 359}, {\"threshold\": 0.205, \"p\": 1142, \"fpr\": 0.43454038997214484, \"tpr\": 0.9404553415061296, \"n\": 359}, {\"threshold\": 0.206, \"p\": 1142, \"fpr\": 0.43454038997214484, \"tpr\": 0.9404553415061296, \"n\": 359}, {\"threshold\": 0.207, \"p\": 1142, \"fpr\": 0.43454038997214484, \"tpr\": 0.9404553415061296, \"n\": 359}, {\"threshold\": 0.208, \"p\": 1142, \"fpr\": 0.43454038997214484, \"tpr\": 0.9404553415061296, \"n\": 359}, {\"threshold\": 0.209, \"p\": 1142, \"fpr\": 0.43454038997214484, \"tpr\": 0.9404553415061296, \"n\": 359}, {\"threshold\": 0.21, \"p\": 1142, \"fpr\": 0.43454038997214484, \"tpr\": 0.9404553415061296, \"n\": 359}, {\"threshold\": 0.211, \"p\": 1142, \"fpr\": 0.43454038997214484, \"tpr\": 0.9404553415061296, \"n\": 359}, {\"threshold\": 0.212, \"p\": 1142, \"fpr\": 0.43454038997214484, \"tpr\": 0.9404553415061296, \"n\": 359}, {\"threshold\": 0.213, \"p\": 1142, \"fpr\": 0.43454038997214484, \"tpr\": 0.9395796847635727, \"n\": 359}, {\"threshold\": 0.214, \"p\": 1142, \"fpr\": 0.43454038997214484, \"tpr\": 0.9395796847635727, \"n\": 359}, {\"threshold\": 0.215, \"p\": 1142, \"fpr\": 0.43454038997214484, \"tpr\": 0.9395796847635727, \"n\": 359}, {\"threshold\": 0.216, \"p\": 1142, \"fpr\": 0.43454038997214484, \"tpr\": 0.9395796847635727, \"n\": 359}, {\"threshold\": 0.217, \"p\": 1142, \"fpr\": 0.43454038997214484, \"tpr\": 0.9387040280210157, \"n\": 359}, {\"threshold\": 0.218, \"p\": 1142, \"fpr\": 0.43454038997214484, \"tpr\": 0.9387040280210157, \"n\": 359}, {\"threshold\": 0.219, \"p\": 1142, \"fpr\": 0.43454038997214484, \"tpr\": 0.9387040280210157, \"n\": 359}, {\"threshold\": 0.22, \"p\": 1142, \"fpr\": 0.43454038997214484, \"tpr\": 0.9387040280210157, \"n\": 359}, {\"threshold\": 0.221, \"p\": 1142, \"fpr\": 0.43454038997214484, \"tpr\": 0.9387040280210157, \"n\": 359}, {\"threshold\": 0.222, \"p\": 1142, \"fpr\": 0.43454038997214484, \"tpr\": 0.9387040280210157, \"n\": 359}, {\"threshold\": 0.223, \"p\": 1142, \"fpr\": 0.43175487465181056, \"tpr\": 0.9387040280210157, \"n\": 359}, {\"threshold\": 0.224, \"p\": 1142, \"fpr\": 0.43175487465181056, \"tpr\": 0.9387040280210157, \"n\": 359}, {\"threshold\": 0.225, \"p\": 1142, \"fpr\": 0.43175487465181056, \"tpr\": 0.9378283712784589, \"n\": 359}, {\"threshold\": 0.226, \"p\": 1142, \"fpr\": 0.43175487465181056, \"tpr\": 0.9378283712784589, \"n\": 359}, {\"threshold\": 0.227, \"p\": 1142, \"fpr\": 0.43175487465181056, \"tpr\": 0.9378283712784589, \"n\": 359}, {\"threshold\": 0.228, \"p\": 1142, \"fpr\": 0.43175487465181056, \"tpr\": 0.9378283712784589, \"n\": 359}, {\"threshold\": 0.229, \"p\": 1142, \"fpr\": 0.43175487465181056, \"tpr\": 0.9378283712784589, \"n\": 359}, {\"threshold\": 0.23, \"p\": 1142, \"fpr\": 0.43175487465181056, \"tpr\": 0.9378283712784589, \"n\": 359}, {\"threshold\": 0.231, \"p\": 1142, \"fpr\": 0.43175487465181056, \"tpr\": 0.9378283712784589, \"n\": 359}, {\"threshold\": 0.232, \"p\": 1142, \"fpr\": 0.43175487465181056, \"tpr\": 0.9378283712784589, \"n\": 359}, {\"threshold\": 0.233, \"p\": 1142, \"fpr\": 0.43175487465181056, \"tpr\": 0.9378283712784589, \"n\": 359}, {\"threshold\": 0.234, \"p\": 1142, \"fpr\": 0.43175487465181056, \"tpr\": 0.9369527145359019, \"n\": 359}, {\"threshold\": 0.235, \"p\": 1142, \"fpr\": 0.43175487465181056, \"tpr\": 0.9369527145359019, \"n\": 359}, {\"threshold\": 0.236, \"p\": 1142, \"fpr\": 0.43175487465181056, \"tpr\": 0.9369527145359019, \"n\": 359}, {\"threshold\": 0.237, \"p\": 1142, \"fpr\": 0.43175487465181056, \"tpr\": 0.9352014010507881, \"n\": 359}, {\"threshold\": 0.238, \"p\": 1142, \"fpr\": 0.43175487465181056, \"tpr\": 0.9352014010507881, \"n\": 359}, {\"threshold\": 0.239, \"p\": 1142, \"fpr\": 0.43175487465181056, \"tpr\": 0.9352014010507881, \"n\": 359}, {\"threshold\": 0.24, \"p\": 1142, \"fpr\": 0.43175487465181056, \"tpr\": 0.9352014010507881, \"n\": 359}, {\"threshold\": 0.241, \"p\": 1142, \"fpr\": 0.43175487465181056, \"tpr\": 0.9352014010507881, \"n\": 359}, {\"threshold\": 0.242, \"p\": 1142, \"fpr\": 0.43175487465181056, \"tpr\": 0.9352014010507881, \"n\": 359}, {\"threshold\": 0.243, \"p\": 1142, \"fpr\": 0.43175487465181056, \"tpr\": 0.9352014010507881, \"n\": 359}, {\"threshold\": 0.244, \"p\": 1142, \"fpr\": 0.43175487465181056, \"tpr\": 0.9352014010507881, \"n\": 359}, {\"threshold\": 0.245, \"p\": 1142, \"fpr\": 0.43175487465181056, \"tpr\": 0.9352014010507881, \"n\": 359}, {\"threshold\": 0.246, \"p\": 1142, \"fpr\": 0.43175487465181056, \"tpr\": 0.9352014010507881, \"n\": 359}, {\"threshold\": 0.247, \"p\": 1142, \"fpr\": 0.43175487465181056, \"tpr\": 0.9352014010507881, \"n\": 359}, {\"threshold\": 0.248, \"p\": 1142, \"fpr\": 0.43175487465181056, \"tpr\": 0.9352014010507881, \"n\": 359}, {\"threshold\": 0.249, \"p\": 1142, \"fpr\": 0.43175487465181056, \"tpr\": 0.9352014010507881, \"n\": 359}, {\"threshold\": 0.25, \"p\": 1142, \"fpr\": 0.43175487465181056, \"tpr\": 0.9352014010507881, \"n\": 359}, {\"threshold\": 0.251, \"p\": 1142, \"fpr\": 0.43175487465181056, \"tpr\": 0.9352014010507881, \"n\": 359}, {\"threshold\": 0.252, \"p\": 1142, \"fpr\": 0.43175487465181056, \"tpr\": 0.9352014010507881, \"n\": 359}, {\"threshold\": 0.253, \"p\": 1142, \"fpr\": 0.43175487465181056, \"tpr\": 0.9352014010507881, \"n\": 359}, {\"threshold\": 0.254, \"p\": 1142, \"fpr\": 0.43175487465181056, \"tpr\": 0.9352014010507881, \"n\": 359}, {\"threshold\": 0.255, \"p\": 1142, \"fpr\": 0.43175487465181056, \"tpr\": 0.9352014010507881, \"n\": 359}, {\"threshold\": 0.256, \"p\": 1142, \"fpr\": 0.42896935933147634, \"tpr\": 0.9352014010507881, \"n\": 359}, {\"threshold\": 0.257, \"p\": 1142, \"fpr\": 0.42896935933147634, \"tpr\": 0.9343257443082311, \"n\": 359}, {\"threshold\": 0.258, \"p\": 1142, \"fpr\": 0.42896935933147634, \"tpr\": 0.9343257443082311, \"n\": 359}, {\"threshold\": 0.259, \"p\": 1142, \"fpr\": 0.42896935933147634, \"tpr\": 0.9343257443082311, \"n\": 359}, {\"threshold\": 0.26, \"p\": 1142, \"fpr\": 0.42618384401114207, \"tpr\": 0.9343257443082311, \"n\": 359}, {\"threshold\": 0.261, \"p\": 1142, \"fpr\": 0.42618384401114207, \"tpr\": 0.9343257443082311, \"n\": 359}, {\"threshold\": 0.262, \"p\": 1142, \"fpr\": 0.42618384401114207, \"tpr\": 0.9343257443082311, \"n\": 359}, {\"threshold\": 0.263, \"p\": 1142, \"fpr\": 0.42618384401114207, \"tpr\": 0.9343257443082311, \"n\": 359}, {\"threshold\": 0.264, \"p\": 1142, \"fpr\": 0.42618384401114207, \"tpr\": 0.9343257443082311, \"n\": 359}, {\"threshold\": 0.265, \"p\": 1142, \"fpr\": 0.42618384401114207, \"tpr\": 0.9343257443082311, \"n\": 359}, {\"threshold\": 0.266, \"p\": 1142, \"fpr\": 0.42618384401114207, \"tpr\": 0.9343257443082311, \"n\": 359}, {\"threshold\": 0.267, \"p\": 1142, \"fpr\": 0.42618384401114207, \"tpr\": 0.9343257443082311, \"n\": 359}, {\"threshold\": 0.268, \"p\": 1142, \"fpr\": 0.42618384401114207, \"tpr\": 0.9343257443082311, \"n\": 359}, {\"threshold\": 0.269, \"p\": 1142, \"fpr\": 0.42618384401114207, \"tpr\": 0.9343257443082311, \"n\": 359}, {\"threshold\": 0.27, \"p\": 1142, \"fpr\": 0.42618384401114207, \"tpr\": 0.9343257443082311, \"n\": 359}, {\"threshold\": 0.271, \"p\": 1142, \"fpr\": 0.42618384401114207, \"tpr\": 0.9343257443082311, \"n\": 359}, {\"threshold\": 0.272, \"p\": 1142, \"fpr\": 0.42618384401114207, \"tpr\": 0.9343257443082311, \"n\": 359}, {\"threshold\": 0.273, \"p\": 1142, \"fpr\": 0.42618384401114207, \"tpr\": 0.9343257443082311, \"n\": 359}, {\"threshold\": 0.274, \"p\": 1142, \"fpr\": 0.42618384401114207, \"tpr\": 0.9343257443082311, \"n\": 359}, {\"threshold\": 0.275, \"p\": 1142, \"fpr\": 0.42618384401114207, \"tpr\": 0.9343257443082311, \"n\": 359}, {\"threshold\": 0.276, \"p\": 1142, \"fpr\": 0.42618384401114207, \"tpr\": 0.9343257443082311, \"n\": 359}, {\"threshold\": 0.277, \"p\": 1142, \"fpr\": 0.42618384401114207, \"tpr\": 0.9343257443082311, \"n\": 359}, {\"threshold\": 0.278, \"p\": 1142, \"fpr\": 0.42618384401114207, \"tpr\": 0.9343257443082311, \"n\": 359}, {\"threshold\": 0.279, \"p\": 1142, \"fpr\": 0.42618384401114207, \"tpr\": 0.9343257443082311, \"n\": 359}, {\"threshold\": 0.28, \"p\": 1142, \"fpr\": 0.42618384401114207, \"tpr\": 0.9343257443082311, \"n\": 359}, {\"threshold\": 0.281, \"p\": 1142, \"fpr\": 0.42618384401114207, \"tpr\": 0.9343257443082311, \"n\": 359}, {\"threshold\": 0.282, \"p\": 1142, \"fpr\": 0.42618384401114207, \"tpr\": 0.9343257443082311, \"n\": 359}, {\"threshold\": 0.283, \"p\": 1142, \"fpr\": 0.42618384401114207, \"tpr\": 0.9343257443082311, \"n\": 359}, {\"threshold\": 0.284, \"p\": 1142, \"fpr\": 0.42618384401114207, \"tpr\": 0.9334500875656743, \"n\": 359}, {\"threshold\": 0.285, \"p\": 1142, \"fpr\": 0.42618384401114207, \"tpr\": 0.9334500875656743, \"n\": 359}, {\"threshold\": 0.286, \"p\": 1142, \"fpr\": 0.42618384401114207, \"tpr\": 0.9334500875656743, \"n\": 359}, {\"threshold\": 0.287, \"p\": 1142, \"fpr\": 0.42618384401114207, \"tpr\": 0.9334500875656743, \"n\": 359}, {\"threshold\": 0.288, \"p\": 1142, \"fpr\": 0.42618384401114207, \"tpr\": 0.9334500875656743, \"n\": 359}, {\"threshold\": 0.289, \"p\": 1142, \"fpr\": 0.42618384401114207, \"tpr\": 0.9325744308231173, \"n\": 359}, {\"threshold\": 0.29, \"p\": 1142, \"fpr\": 0.42618384401114207, \"tpr\": 0.9325744308231173, \"n\": 359}, {\"threshold\": 0.291, \"p\": 1142, \"fpr\": 0.42618384401114207, \"tpr\": 0.9325744308231173, \"n\": 359}, {\"threshold\": 0.292, \"p\": 1142, \"fpr\": 0.42618384401114207, \"tpr\": 0.9325744308231173, \"n\": 359}, {\"threshold\": 0.293, \"p\": 1142, \"fpr\": 0.4233983286908078, \"tpr\": 0.9325744308231173, \"n\": 359}, {\"threshold\": 0.294, \"p\": 1142, \"fpr\": 0.4233983286908078, \"tpr\": 0.9325744308231173, \"n\": 359}, {\"threshold\": 0.295, \"p\": 1142, \"fpr\": 0.4233983286908078, \"tpr\": 0.9325744308231173, \"n\": 359}, {\"threshold\": 0.296, \"p\": 1142, \"fpr\": 0.4233983286908078, \"tpr\": 0.9325744308231173, \"n\": 359}, {\"threshold\": 0.297, \"p\": 1142, \"fpr\": 0.4233983286908078, \"tpr\": 0.9325744308231173, \"n\": 359}, {\"threshold\": 0.298, \"p\": 1142, \"fpr\": 0.4233983286908078, \"tpr\": 0.9325744308231173, \"n\": 359}, {\"threshold\": 0.299, \"p\": 1142, \"fpr\": 0.4233983286908078, \"tpr\": 0.9325744308231173, \"n\": 359}, {\"threshold\": 0.3, \"p\": 1142, \"fpr\": 0.4233983286908078, \"tpr\": 0.9325744308231173, \"n\": 359}, {\"threshold\": 0.301, \"p\": 1142, \"fpr\": 0.4233983286908078, \"tpr\": 0.9325744308231173, \"n\": 359}, {\"threshold\": 0.302, \"p\": 1142, \"fpr\": 0.4233983286908078, \"tpr\": 0.9325744308231173, \"n\": 359}, {\"threshold\": 0.303, \"p\": 1142, \"fpr\": 0.4233983286908078, \"tpr\": 0.9325744308231173, \"n\": 359}, {\"threshold\": 0.304, \"p\": 1142, \"fpr\": 0.4233983286908078, \"tpr\": 0.9325744308231173, \"n\": 359}, {\"threshold\": 0.305, \"p\": 1142, \"fpr\": 0.4233983286908078, \"tpr\": 0.9325744308231173, \"n\": 359}, {\"threshold\": 0.306, \"p\": 1142, \"fpr\": 0.4233983286908078, \"tpr\": 0.9325744308231173, \"n\": 359}, {\"threshold\": 0.307, \"p\": 1142, \"fpr\": 0.4233983286908078, \"tpr\": 0.9316987740805605, \"n\": 359}, {\"threshold\": 0.308, \"p\": 1142, \"fpr\": 0.4233983286908078, \"tpr\": 0.9316987740805605, \"n\": 359}, {\"threshold\": 0.309, \"p\": 1142, \"fpr\": 0.4233983286908078, \"tpr\": 0.9316987740805605, \"n\": 359}, {\"threshold\": 0.31, \"p\": 1142, \"fpr\": 0.4233983286908078, \"tpr\": 0.9316987740805605, \"n\": 359}, {\"threshold\": 0.311, \"p\": 1142, \"fpr\": 0.4233983286908078, \"tpr\": 0.9316987740805605, \"n\": 359}, {\"threshold\": 0.312, \"p\": 1142, \"fpr\": 0.4233983286908078, \"tpr\": 0.9316987740805605, \"n\": 359}, {\"threshold\": 0.313, \"p\": 1142, \"fpr\": 0.4233983286908078, \"tpr\": 0.9308231173380035, \"n\": 359}, {\"threshold\": 0.314, \"p\": 1142, \"fpr\": 0.4233983286908078, \"tpr\": 0.9308231173380035, \"n\": 359}, {\"threshold\": 0.315, \"p\": 1142, \"fpr\": 0.4233983286908078, \"tpr\": 0.9308231173380035, \"n\": 359}, {\"threshold\": 0.316, \"p\": 1142, \"fpr\": 0.4233983286908078, \"tpr\": 0.9308231173380035, \"n\": 359}, {\"threshold\": 0.317, \"p\": 1142, \"fpr\": 0.4233983286908078, \"tpr\": 0.9299474605954466, \"n\": 359}, {\"threshold\": 0.318, \"p\": 1142, \"fpr\": 0.4233983286908078, \"tpr\": 0.9299474605954466, \"n\": 359}, {\"threshold\": 0.319, \"p\": 1142, \"fpr\": 0.4233983286908078, \"tpr\": 0.9299474605954466, \"n\": 359}, {\"threshold\": 0.32, \"p\": 1142, \"fpr\": 0.4233983286908078, \"tpr\": 0.9299474605954466, \"n\": 359}, {\"threshold\": 0.321, \"p\": 1142, \"fpr\": 0.4233983286908078, \"tpr\": 0.9299474605954466, \"n\": 359}, {\"threshold\": 0.322, \"p\": 1142, \"fpr\": 0.4233983286908078, \"tpr\": 0.9299474605954466, \"n\": 359}, {\"threshold\": 0.323, \"p\": 1142, \"fpr\": 0.4233983286908078, \"tpr\": 0.9299474605954466, \"n\": 359}, {\"threshold\": 0.324, \"p\": 1142, \"fpr\": 0.4233983286908078, \"tpr\": 0.9299474605954466, \"n\": 359}, {\"threshold\": 0.325, \"p\": 1142, \"fpr\": 0.4233983286908078, \"tpr\": 0.9299474605954466, \"n\": 359}, {\"threshold\": 0.326, \"p\": 1142, \"fpr\": 0.4233983286908078, \"tpr\": 0.9299474605954466, \"n\": 359}, {\"threshold\": 0.327, \"p\": 1142, \"fpr\": 0.4233983286908078, \"tpr\": 0.9299474605954466, \"n\": 359}, {\"threshold\": 0.328, \"p\": 1142, \"fpr\": 0.4233983286908078, \"tpr\": 0.9290718038528897, \"n\": 359}, {\"threshold\": 0.329, \"p\": 1142, \"fpr\": 0.4233983286908078, \"tpr\": 0.9290718038528897, \"n\": 359}, {\"threshold\": 0.33, \"p\": 1142, \"fpr\": 0.4233983286908078, \"tpr\": 0.9290718038528897, \"n\": 359}, {\"threshold\": 0.331, \"p\": 1142, \"fpr\": 0.4206128133704735, \"tpr\": 0.9290718038528897, \"n\": 359}, {\"threshold\": 0.332, \"p\": 1142, \"fpr\": 0.4206128133704735, \"tpr\": 0.9290718038528897, \"n\": 359}, {\"threshold\": 0.333, \"p\": 1142, \"fpr\": 0.4206128133704735, \"tpr\": 0.9290718038528897, \"n\": 359}, {\"threshold\": 0.334, \"p\": 1142, \"fpr\": 0.4206128133704735, \"tpr\": 0.9290718038528897, \"n\": 359}, {\"threshold\": 0.335, \"p\": 1142, \"fpr\": 0.4206128133704735, \"tpr\": 0.9290718038528897, \"n\": 359}, {\"threshold\": 0.336, \"p\": 1142, \"fpr\": 0.4206128133704735, \"tpr\": 0.9290718038528897, \"n\": 359}, {\"threshold\": 0.337, \"p\": 1142, \"fpr\": 0.4206128133704735, \"tpr\": 0.9290718038528897, \"n\": 359}, {\"threshold\": 0.338, \"p\": 1142, \"fpr\": 0.4206128133704735, \"tpr\": 0.9290718038528897, \"n\": 359}, {\"threshold\": 0.339, \"p\": 1142, \"fpr\": 0.4206128133704735, \"tpr\": 0.9290718038528897, \"n\": 359}, {\"threshold\": 0.34, \"p\": 1142, \"fpr\": 0.4206128133704735, \"tpr\": 0.9290718038528897, \"n\": 359}, {\"threshold\": 0.341, \"p\": 1142, \"fpr\": 0.4206128133704735, \"tpr\": 0.9290718038528897, \"n\": 359}, {\"threshold\": 0.342, \"p\": 1142, \"fpr\": 0.4206128133704735, \"tpr\": 0.9290718038528897, \"n\": 359}, {\"threshold\": 0.343, \"p\": 1142, \"fpr\": 0.4206128133704735, \"tpr\": 0.9290718038528897, \"n\": 359}, {\"threshold\": 0.344, \"p\": 1142, \"fpr\": 0.4206128133704735, \"tpr\": 0.9290718038528897, \"n\": 359}, {\"threshold\": 0.345, \"p\": 1142, \"fpr\": 0.4206128133704735, \"tpr\": 0.9290718038528897, \"n\": 359}, {\"threshold\": 0.346, \"p\": 1142, \"fpr\": 0.4206128133704735, \"tpr\": 0.9290718038528897, \"n\": 359}, {\"threshold\": 0.347, \"p\": 1142, \"fpr\": 0.4206128133704735, \"tpr\": 0.9290718038528897, \"n\": 359}, {\"threshold\": 0.348, \"p\": 1142, \"fpr\": 0.4206128133704735, \"tpr\": 0.9290718038528897, \"n\": 359}, {\"threshold\": 0.349, \"p\": 1142, \"fpr\": 0.4206128133704735, \"tpr\": 0.9290718038528897, \"n\": 359}, {\"threshold\": 0.35, \"p\": 1142, \"fpr\": 0.4206128133704735, \"tpr\": 0.9290718038528897, \"n\": 359}, {\"threshold\": 0.351, \"p\": 1142, \"fpr\": 0.4206128133704735, \"tpr\": 0.9290718038528897, \"n\": 359}, {\"threshold\": 0.352, \"p\": 1142, \"fpr\": 0.4206128133704735, \"tpr\": 0.9290718038528897, \"n\": 359}, {\"threshold\": 0.353, \"p\": 1142, \"fpr\": 0.4206128133704735, \"tpr\": 0.9290718038528897, \"n\": 359}, {\"threshold\": 0.354, \"p\": 1142, \"fpr\": 0.4206128133704735, \"tpr\": 0.9290718038528897, \"n\": 359}, {\"threshold\": 0.355, \"p\": 1142, \"fpr\": 0.4206128133704735, \"tpr\": 0.9290718038528897, \"n\": 359}, {\"threshold\": 0.356, \"p\": 1142, \"fpr\": 0.4206128133704735, \"tpr\": 0.9281961471103327, \"n\": 359}, {\"threshold\": 0.357, \"p\": 1142, \"fpr\": 0.4206128133704735, \"tpr\": 0.9281961471103327, \"n\": 359}, {\"threshold\": 0.358, \"p\": 1142, \"fpr\": 0.4178272980501393, \"tpr\": 0.9281961471103327, \"n\": 359}, {\"threshold\": 0.359, \"p\": 1142, \"fpr\": 0.4178272980501393, \"tpr\": 0.9281961471103327, \"n\": 359}, {\"threshold\": 0.36, \"p\": 1142, \"fpr\": 0.4178272980501393, \"tpr\": 0.9281961471103327, \"n\": 359}, {\"threshold\": 0.361, \"p\": 1142, \"fpr\": 0.4178272980501393, \"tpr\": 0.9281961471103327, \"n\": 359}, {\"threshold\": 0.362, \"p\": 1142, \"fpr\": 0.4178272980501393, \"tpr\": 0.9281961471103327, \"n\": 359}, {\"threshold\": 0.363, \"p\": 1142, \"fpr\": 0.4178272980501393, \"tpr\": 0.9273204903677759, \"n\": 359}, {\"threshold\": 0.364, \"p\": 1142, \"fpr\": 0.4178272980501393, \"tpr\": 0.9273204903677759, \"n\": 359}, {\"threshold\": 0.365, \"p\": 1142, \"fpr\": 0.4178272980501393, \"tpr\": 0.9273204903677759, \"n\": 359}, {\"threshold\": 0.366, \"p\": 1142, \"fpr\": 0.4178272980501393, \"tpr\": 0.9273204903677759, \"n\": 359}, {\"threshold\": 0.367, \"p\": 1142, \"fpr\": 0.4178272980501393, \"tpr\": 0.9273204903677759, \"n\": 359}, {\"threshold\": 0.368, \"p\": 1142, \"fpr\": 0.4178272980501393, \"tpr\": 0.9273204903677759, \"n\": 359}, {\"threshold\": 0.369, \"p\": 1142, \"fpr\": 0.4178272980501393, \"tpr\": 0.9273204903677759, \"n\": 359}, {\"threshold\": 0.37, \"p\": 1142, \"fpr\": 0.4178272980501393, \"tpr\": 0.9273204903677759, \"n\": 359}, {\"threshold\": 0.371, \"p\": 1142, \"fpr\": 0.4178272980501393, \"tpr\": 0.9273204903677759, \"n\": 359}, {\"threshold\": 0.372, \"p\": 1142, \"fpr\": 0.4178272980501393, \"tpr\": 0.9273204903677759, \"n\": 359}, {\"threshold\": 0.373, \"p\": 1142, \"fpr\": 0.4178272980501393, \"tpr\": 0.9273204903677759, \"n\": 359}, {\"threshold\": 0.374, \"p\": 1142, \"fpr\": 0.4178272980501393, \"tpr\": 0.9273204903677759, \"n\": 359}, {\"threshold\": 0.375, \"p\": 1142, \"fpr\": 0.4178272980501393, \"tpr\": 0.9273204903677759, \"n\": 359}, {\"threshold\": 0.376, \"p\": 1142, \"fpr\": 0.4178272980501393, \"tpr\": 0.9264448336252189, \"n\": 359}, {\"threshold\": 0.377, \"p\": 1142, \"fpr\": 0.415041782729805, \"tpr\": 0.9264448336252189, \"n\": 359}, {\"threshold\": 0.378, \"p\": 1142, \"fpr\": 0.415041782729805, \"tpr\": 0.9264448336252189, \"n\": 359}, {\"threshold\": 0.379, \"p\": 1142, \"fpr\": 0.415041782729805, \"tpr\": 0.9264448336252189, \"n\": 359}, {\"threshold\": 0.38, \"p\": 1142, \"fpr\": 0.415041782729805, \"tpr\": 0.9264448336252189, \"n\": 359}, {\"threshold\": 0.381, \"p\": 1142, \"fpr\": 0.415041782729805, \"tpr\": 0.9264448336252189, \"n\": 359}, {\"threshold\": 0.382, \"p\": 1142, \"fpr\": 0.415041782729805, \"tpr\": 0.9264448336252189, \"n\": 359}, {\"threshold\": 0.383, \"p\": 1142, \"fpr\": 0.415041782729805, \"tpr\": 0.9264448336252189, \"n\": 359}, {\"threshold\": 0.384, \"p\": 1142, \"fpr\": 0.415041782729805, \"tpr\": 0.9264448336252189, \"n\": 359}, {\"threshold\": 0.385, \"p\": 1142, \"fpr\": 0.415041782729805, \"tpr\": 0.9264448336252189, \"n\": 359}, {\"threshold\": 0.386, \"p\": 1142, \"fpr\": 0.415041782729805, \"tpr\": 0.9264448336252189, \"n\": 359}, {\"threshold\": 0.387, \"p\": 1142, \"fpr\": 0.415041782729805, \"tpr\": 0.9264448336252189, \"n\": 359}, {\"threshold\": 0.388, \"p\": 1142, \"fpr\": 0.415041782729805, \"tpr\": 0.9264448336252189, \"n\": 359}, {\"threshold\": 0.389, \"p\": 1142, \"fpr\": 0.415041782729805, \"tpr\": 0.9264448336252189, \"n\": 359}, {\"threshold\": 0.39, \"p\": 1142, \"fpr\": 0.41225626740947074, \"tpr\": 0.9264448336252189, \"n\": 359}, {\"threshold\": 0.391, \"p\": 1142, \"fpr\": 0.41225626740947074, \"tpr\": 0.9264448336252189, \"n\": 359}, {\"threshold\": 0.392, \"p\": 1142, \"fpr\": 0.41225626740947074, \"tpr\": 0.9264448336252189, \"n\": 359}, {\"threshold\": 0.393, \"p\": 1142, \"fpr\": 0.41225626740947074, \"tpr\": 0.9264448336252189, \"n\": 359}, {\"threshold\": 0.394, \"p\": 1142, \"fpr\": 0.41225626740947074, \"tpr\": 0.9264448336252189, \"n\": 359}, {\"threshold\": 0.395, \"p\": 1142, \"fpr\": 0.41225626740947074, \"tpr\": 0.9264448336252189, \"n\": 359}, {\"threshold\": 0.396, \"p\": 1142, \"fpr\": 0.41225626740947074, \"tpr\": 0.9264448336252189, \"n\": 359}, {\"threshold\": 0.397, \"p\": 1142, \"fpr\": 0.41225626740947074, \"tpr\": 0.9264448336252189, \"n\": 359}, {\"threshold\": 0.398, \"p\": 1142, \"fpr\": 0.41225626740947074, \"tpr\": 0.9264448336252189, \"n\": 359}, {\"threshold\": 0.399, \"p\": 1142, \"fpr\": 0.41225626740947074, \"tpr\": 0.9264448336252189, \"n\": 359}, {\"threshold\": 0.4, \"p\": 1142, \"fpr\": 0.41225626740947074, \"tpr\": 0.9264448336252189, \"n\": 359}, {\"threshold\": 0.401, \"p\": 1142, \"fpr\": 0.41225626740947074, \"tpr\": 0.9264448336252189, \"n\": 359}, {\"threshold\": 0.402, \"p\": 1142, \"fpr\": 0.41225626740947074, \"tpr\": 0.9264448336252189, \"n\": 359}, {\"threshold\": 0.403, \"p\": 1142, \"fpr\": 0.41225626740947074, \"tpr\": 0.9264448336252189, \"n\": 359}, {\"threshold\": 0.404, \"p\": 1142, \"fpr\": 0.41225626740947074, \"tpr\": 0.9264448336252189, \"n\": 359}, {\"threshold\": 0.405, \"p\": 1142, \"fpr\": 0.41225626740947074, \"tpr\": 0.9264448336252189, \"n\": 359}, {\"threshold\": 0.406, \"p\": 1142, \"fpr\": 0.41225626740947074, \"tpr\": 0.9264448336252189, \"n\": 359}, {\"threshold\": 0.407, \"p\": 1142, \"fpr\": 0.41225626740947074, \"tpr\": 0.9264448336252189, \"n\": 359}, {\"threshold\": 0.408, \"p\": 1142, \"fpr\": 0.41225626740947074, \"tpr\": 0.9264448336252189, \"n\": 359}, {\"threshold\": 0.409, \"p\": 1142, \"fpr\": 0.41225626740947074, \"tpr\": 0.9264448336252189, \"n\": 359}, {\"threshold\": 0.41, \"p\": 1142, \"fpr\": 0.41225626740947074, \"tpr\": 0.9264448336252189, \"n\": 359}, {\"threshold\": 0.411, \"p\": 1142, \"fpr\": 0.41225626740947074, \"tpr\": 0.9264448336252189, \"n\": 359}, {\"threshold\": 0.412, \"p\": 1142, \"fpr\": 0.41225626740947074, \"tpr\": 0.925569176882662, \"n\": 359}, {\"threshold\": 0.413, \"p\": 1142, \"fpr\": 0.41225626740947074, \"tpr\": 0.925569176882662, \"n\": 359}, {\"threshold\": 0.414, \"p\": 1142, \"fpr\": 0.41225626740947074, \"tpr\": 0.925569176882662, \"n\": 359}, {\"threshold\": 0.415, \"p\": 1142, \"fpr\": 0.41225626740947074, \"tpr\": 0.925569176882662, \"n\": 359}, {\"threshold\": 0.416, \"p\": 1142, \"fpr\": 0.41225626740947074, \"tpr\": 0.925569176882662, \"n\": 359}, {\"threshold\": 0.417, \"p\": 1142, \"fpr\": 0.41225626740947074, \"tpr\": 0.925569176882662, \"n\": 359}, {\"threshold\": 0.418, \"p\": 1142, \"fpr\": 0.41225626740947074, \"tpr\": 0.925569176882662, \"n\": 359}, {\"threshold\": 0.419, \"p\": 1142, \"fpr\": 0.41225626740947074, \"tpr\": 0.925569176882662, \"n\": 359}, {\"threshold\": 0.42, \"p\": 1142, \"fpr\": 0.41225626740947074, \"tpr\": 0.925569176882662, \"n\": 359}, {\"threshold\": 0.421, \"p\": 1142, \"fpr\": 0.41225626740947074, \"tpr\": 0.925569176882662, \"n\": 359}, {\"threshold\": 0.422, \"p\": 1142, \"fpr\": 0.41225626740947074, \"tpr\": 0.925569176882662, \"n\": 359}, {\"threshold\": 0.423, \"p\": 1142, \"fpr\": 0.40947075208913647, \"tpr\": 0.925569176882662, \"n\": 359}, {\"threshold\": 0.424, \"p\": 1142, \"fpr\": 0.40947075208913647, \"tpr\": 0.925569176882662, \"n\": 359}, {\"threshold\": 0.425, \"p\": 1142, \"fpr\": 0.40947075208913647, \"tpr\": 0.925569176882662, \"n\": 359}, {\"threshold\": 0.426, \"p\": 1142, \"fpr\": 0.40947075208913647, \"tpr\": 0.925569176882662, \"n\": 359}, {\"threshold\": 0.427, \"p\": 1142, \"fpr\": 0.40947075208913647, \"tpr\": 0.925569176882662, \"n\": 359}, {\"threshold\": 0.428, \"p\": 1142, \"fpr\": 0.40947075208913647, \"tpr\": 0.925569176882662, \"n\": 359}, {\"threshold\": 0.429, \"p\": 1142, \"fpr\": 0.40947075208913647, \"tpr\": 0.925569176882662, \"n\": 359}, {\"threshold\": 0.43, \"p\": 1142, \"fpr\": 0.40947075208913647, \"tpr\": 0.9246935201401051, \"n\": 359}, {\"threshold\": 0.431, \"p\": 1142, \"fpr\": 0.40947075208913647, \"tpr\": 0.9246935201401051, \"n\": 359}, {\"threshold\": 0.432, \"p\": 1142, \"fpr\": 0.40947075208913647, \"tpr\": 0.9246935201401051, \"n\": 359}, {\"threshold\": 0.433, \"p\": 1142, \"fpr\": 0.40947075208913647, \"tpr\": 0.9246935201401051, \"n\": 359}, {\"threshold\": 0.434, \"p\": 1142, \"fpr\": 0.40947075208913647, \"tpr\": 0.9246935201401051, \"n\": 359}, {\"threshold\": 0.435, \"p\": 1142, \"fpr\": 0.40947075208913647, \"tpr\": 0.9246935201401051, \"n\": 359}, {\"threshold\": 0.436, \"p\": 1142, \"fpr\": 0.40947075208913647, \"tpr\": 0.9246935201401051, \"n\": 359}, {\"threshold\": 0.437, \"p\": 1142, \"fpr\": 0.40947075208913647, \"tpr\": 0.9246935201401051, \"n\": 359}, {\"threshold\": 0.438, \"p\": 1142, \"fpr\": 0.40947075208913647, \"tpr\": 0.9246935201401051, \"n\": 359}, {\"threshold\": 0.439, \"p\": 1142, \"fpr\": 0.40947075208913647, \"tpr\": 0.9246935201401051, \"n\": 359}, {\"threshold\": 0.44, \"p\": 1142, \"fpr\": 0.40947075208913647, \"tpr\": 0.9246935201401051, \"n\": 359}, {\"threshold\": 0.441, \"p\": 1142, \"fpr\": 0.40947075208913647, \"tpr\": 0.9246935201401051, \"n\": 359}, {\"threshold\": 0.442, \"p\": 1142, \"fpr\": 0.40947075208913647, \"tpr\": 0.9246935201401051, \"n\": 359}, {\"threshold\": 0.443, \"p\": 1142, \"fpr\": 0.40947075208913647, \"tpr\": 0.9246935201401051, \"n\": 359}, {\"threshold\": 0.444, \"p\": 1142, \"fpr\": 0.40668523676880225, \"tpr\": 0.9246935201401051, \"n\": 359}, {\"threshold\": 0.445, \"p\": 1142, \"fpr\": 0.40668523676880225, \"tpr\": 0.9246935201401051, \"n\": 359}, {\"threshold\": 0.446, \"p\": 1142, \"fpr\": 0.40668523676880225, \"tpr\": 0.9246935201401051, \"n\": 359}, {\"threshold\": 0.447, \"p\": 1142, \"fpr\": 0.40668523676880225, \"tpr\": 0.9246935201401051, \"n\": 359}, {\"threshold\": 0.448, \"p\": 1142, \"fpr\": 0.40668523676880225, \"tpr\": 0.9246935201401051, \"n\": 359}, {\"threshold\": 0.449, \"p\": 1142, \"fpr\": 0.40668523676880225, \"tpr\": 0.9246935201401051, \"n\": 359}, {\"threshold\": 0.45, \"p\": 1142, \"fpr\": 0.40668523676880225, \"tpr\": 0.9246935201401051, \"n\": 359}, {\"threshold\": 0.451, \"p\": 1142, \"fpr\": 0.40668523676880225, \"tpr\": 0.9246935201401051, \"n\": 359}, {\"threshold\": 0.452, \"p\": 1142, \"fpr\": 0.40668523676880225, \"tpr\": 0.9246935201401051, \"n\": 359}, {\"threshold\": 0.453, \"p\": 1142, \"fpr\": 0.40668523676880225, \"tpr\": 0.9246935201401051, \"n\": 359}, {\"threshold\": 0.454, \"p\": 1142, \"fpr\": 0.40668523676880225, \"tpr\": 0.9246935201401051, \"n\": 359}, {\"threshold\": 0.455, \"p\": 1142, \"fpr\": 0.40668523676880225, \"tpr\": 0.9246935201401051, \"n\": 359}, {\"threshold\": 0.456, \"p\": 1142, \"fpr\": 0.40668523676880225, \"tpr\": 0.9246935201401051, \"n\": 359}, {\"threshold\": 0.457, \"p\": 1142, \"fpr\": 0.40668523676880225, \"tpr\": 0.9246935201401051, \"n\": 359}, {\"threshold\": 0.458, \"p\": 1142, \"fpr\": 0.40668523676880225, \"tpr\": 0.9246935201401051, \"n\": 359}, {\"threshold\": 0.459, \"p\": 1142, \"fpr\": 0.403899721448468, \"tpr\": 0.9246935201401051, \"n\": 359}, {\"threshold\": 0.46, \"p\": 1142, \"fpr\": 0.403899721448468, \"tpr\": 0.9246935201401051, \"n\": 359}, {\"threshold\": 0.461, \"p\": 1142, \"fpr\": 0.403899721448468, \"tpr\": 0.9246935201401051, \"n\": 359}, {\"threshold\": 0.462, \"p\": 1142, \"fpr\": 0.403899721448468, \"tpr\": 0.9246935201401051, \"n\": 359}, {\"threshold\": 0.463, \"p\": 1142, \"fpr\": 0.403899721448468, \"tpr\": 0.9246935201401051, \"n\": 359}, {\"threshold\": 0.464, \"p\": 1142, \"fpr\": 0.403899721448468, \"tpr\": 0.9246935201401051, \"n\": 359}, {\"threshold\": 0.465, \"p\": 1142, \"fpr\": 0.403899721448468, \"tpr\": 0.9246935201401051, \"n\": 359}, {\"threshold\": 0.466, \"p\": 1142, \"fpr\": 0.403899721448468, \"tpr\": 0.9246935201401051, \"n\": 359}, {\"threshold\": 0.467, \"p\": 1142, \"fpr\": 0.403899721448468, \"tpr\": 0.9246935201401051, \"n\": 359}, {\"threshold\": 0.468, \"p\": 1142, \"fpr\": 0.403899721448468, \"tpr\": 0.9246935201401051, \"n\": 359}, {\"threshold\": 0.469, \"p\": 1142, \"fpr\": 0.403899721448468, \"tpr\": 0.9246935201401051, \"n\": 359}, {\"threshold\": 0.47, \"p\": 1142, \"fpr\": 0.403899721448468, \"tpr\": 0.9246935201401051, \"n\": 359}, {\"threshold\": 0.471, \"p\": 1142, \"fpr\": 0.403899721448468, \"tpr\": 0.9246935201401051, \"n\": 359}, {\"threshold\": 0.472, \"p\": 1142, \"fpr\": 0.403899721448468, \"tpr\": 0.9246935201401051, \"n\": 359}, {\"threshold\": 0.473, \"p\": 1142, \"fpr\": 0.403899721448468, \"tpr\": 0.9246935201401051, \"n\": 359}, {\"threshold\": 0.474, \"p\": 1142, \"fpr\": 0.403899721448468, \"tpr\": 0.9246935201401051, \"n\": 359}, {\"threshold\": 0.475, \"p\": 1142, \"fpr\": 0.403899721448468, \"tpr\": 0.9246935201401051, \"n\": 359}, {\"threshold\": 0.476, \"p\": 1142, \"fpr\": 0.403899721448468, \"tpr\": 0.9246935201401051, \"n\": 359}, {\"threshold\": 0.477, \"p\": 1142, \"fpr\": 0.403899721448468, \"tpr\": 0.9238178633975481, \"n\": 359}, {\"threshold\": 0.478, \"p\": 1142, \"fpr\": 0.403899721448468, \"tpr\": 0.9238178633975481, \"n\": 359}, {\"threshold\": 0.479, \"p\": 1142, \"fpr\": 0.403899721448468, \"tpr\": 0.9238178633975481, \"n\": 359}, {\"threshold\": 0.48, \"p\": 1142, \"fpr\": 0.403899721448468, \"tpr\": 0.9238178633975481, \"n\": 359}, {\"threshold\": 0.481, \"p\": 1142, \"fpr\": 0.403899721448468, \"tpr\": 0.9238178633975481, \"n\": 359}, {\"threshold\": 0.482, \"p\": 1142, \"fpr\": 0.403899721448468, \"tpr\": 0.9238178633975481, \"n\": 359}, {\"threshold\": 0.483, \"p\": 1142, \"fpr\": 0.403899721448468, \"tpr\": 0.9238178633975481, \"n\": 359}, {\"threshold\": 0.484, \"p\": 1142, \"fpr\": 0.403899721448468, \"tpr\": 0.9238178633975481, \"n\": 359}, {\"threshold\": 0.485, \"p\": 1142, \"fpr\": 0.403899721448468, \"tpr\": 0.9238178633975481, \"n\": 359}, {\"threshold\": 0.486, \"p\": 1142, \"fpr\": 0.403899721448468, \"tpr\": 0.9238178633975481, \"n\": 359}, {\"threshold\": 0.487, \"p\": 1142, \"fpr\": 0.4011142061281337, \"tpr\": 0.9238178633975481, \"n\": 359}, {\"threshold\": 0.488, \"p\": 1142, \"fpr\": 0.4011142061281337, \"tpr\": 0.9238178633975481, \"n\": 359}, {\"threshold\": 0.489, \"p\": 1142, \"fpr\": 0.4011142061281337, \"tpr\": 0.9238178633975481, \"n\": 359}, {\"threshold\": 0.49, \"p\": 1142, \"fpr\": 0.4011142061281337, \"tpr\": 0.9238178633975481, \"n\": 359}, {\"threshold\": 0.491, \"p\": 1142, \"fpr\": 0.4011142061281337, \"tpr\": 0.9238178633975481, \"n\": 359}, {\"threshold\": 0.492, \"p\": 1142, \"fpr\": 0.4011142061281337, \"tpr\": 0.9238178633975481, \"n\": 359}, {\"threshold\": 0.493, \"p\": 1142, \"fpr\": 0.4011142061281337, \"tpr\": 0.9238178633975481, \"n\": 359}, {\"threshold\": 0.494, \"p\": 1142, \"fpr\": 0.4011142061281337, \"tpr\": 0.9238178633975481, \"n\": 359}, {\"threshold\": 0.495, \"p\": 1142, \"fpr\": 0.4011142061281337, \"tpr\": 0.9238178633975481, \"n\": 359}, {\"threshold\": 0.496, \"p\": 1142, \"fpr\": 0.4011142061281337, \"tpr\": 0.9238178633975481, \"n\": 359}, {\"threshold\": 0.497, \"p\": 1142, \"fpr\": 0.4011142061281337, \"tpr\": 0.9238178633975481, \"n\": 359}, {\"threshold\": 0.498, \"p\": 1142, \"fpr\": 0.3983286908077994, \"tpr\": 0.9238178633975481, \"n\": 359}, {\"threshold\": 0.499, \"p\": 1142, \"fpr\": 0.3955431754874652, \"tpr\": 0.9238178633975481, \"n\": 359}, {\"threshold\": 0.5, \"p\": 1142, \"fpr\": 0.3955431754874652, \"tpr\": 0.9238178633975481, \"n\": 359}, {\"threshold\": 0.501, \"p\": 1142, \"fpr\": 0.3955431754874652, \"tpr\": 0.9229422066549913, \"n\": 359}, {\"threshold\": 0.502, \"p\": 1142, \"fpr\": 0.3955431754874652, \"tpr\": 0.9229422066549913, \"n\": 359}, {\"threshold\": 0.503, \"p\": 1142, \"fpr\": 0.3955431754874652, \"tpr\": 0.9229422066549913, \"n\": 359}, {\"threshold\": 0.504, \"p\": 1142, \"fpr\": 0.3955431754874652, \"tpr\": 0.9229422066549913, \"n\": 359}, {\"threshold\": 0.505, \"p\": 1142, \"fpr\": 0.3955431754874652, \"tpr\": 0.9229422066549913, \"n\": 359}, {\"threshold\": 0.506, \"p\": 1142, \"fpr\": 0.3955431754874652, \"tpr\": 0.9229422066549913, \"n\": 359}, {\"threshold\": 0.507, \"p\": 1142, \"fpr\": 0.3955431754874652, \"tpr\": 0.9229422066549913, \"n\": 359}, {\"threshold\": 0.508, \"p\": 1142, \"fpr\": 0.3955431754874652, \"tpr\": 0.9229422066549913, \"n\": 359}, {\"threshold\": 0.509, \"p\": 1142, \"fpr\": 0.3955431754874652, \"tpr\": 0.9229422066549913, \"n\": 359}, {\"threshold\": 0.51, \"p\": 1142, \"fpr\": 0.3955431754874652, \"tpr\": 0.9229422066549913, \"n\": 359}, {\"threshold\": 0.511, \"p\": 1142, \"fpr\": 0.3955431754874652, \"tpr\": 0.9229422066549913, \"n\": 359}, {\"threshold\": 0.512, \"p\": 1142, \"fpr\": 0.3955431754874652, \"tpr\": 0.9229422066549913, \"n\": 359}, {\"threshold\": 0.513, \"p\": 1142, \"fpr\": 0.3955431754874652, \"tpr\": 0.9229422066549913, \"n\": 359}, {\"threshold\": 0.514, \"p\": 1142, \"fpr\": 0.3955431754874652, \"tpr\": 0.9229422066549913, \"n\": 359}, {\"threshold\": 0.515, \"p\": 1142, \"fpr\": 0.3955431754874652, \"tpr\": 0.9229422066549913, \"n\": 359}, {\"threshold\": 0.516, \"p\": 1142, \"fpr\": 0.3955431754874652, \"tpr\": 0.9229422066549913, \"n\": 359}, {\"threshold\": 0.517, \"p\": 1142, \"fpr\": 0.3955431754874652, \"tpr\": 0.9229422066549913, \"n\": 359}, {\"threshold\": 0.518, \"p\": 1142, \"fpr\": 0.3955431754874652, \"tpr\": 0.9229422066549913, \"n\": 359}, {\"threshold\": 0.519, \"p\": 1142, \"fpr\": 0.3955431754874652, \"tpr\": 0.9220665499124343, \"n\": 359}, {\"threshold\": 0.52, \"p\": 1142, \"fpr\": 0.3955431754874652, \"tpr\": 0.9220665499124343, \"n\": 359}, {\"threshold\": 0.521, \"p\": 1142, \"fpr\": 0.3955431754874652, \"tpr\": 0.9220665499124343, \"n\": 359}, {\"threshold\": 0.522, \"p\": 1142, \"fpr\": 0.3955431754874652, \"tpr\": 0.9220665499124343, \"n\": 359}, {\"threshold\": 0.523, \"p\": 1142, \"fpr\": 0.3955431754874652, \"tpr\": 0.9220665499124343, \"n\": 359}, {\"threshold\": 0.524, \"p\": 1142, \"fpr\": 0.3955431754874652, \"tpr\": 0.9220665499124343, \"n\": 359}, {\"threshold\": 0.525, \"p\": 1142, \"fpr\": 0.3955431754874652, \"tpr\": 0.9220665499124343, \"n\": 359}, {\"threshold\": 0.526, \"p\": 1142, \"fpr\": 0.3955431754874652, \"tpr\": 0.9220665499124343, \"n\": 359}, {\"threshold\": 0.527, \"p\": 1142, \"fpr\": 0.3955431754874652, \"tpr\": 0.9220665499124343, \"n\": 359}, {\"threshold\": 0.528, \"p\": 1142, \"fpr\": 0.3955431754874652, \"tpr\": 0.9220665499124343, \"n\": 359}, {\"threshold\": 0.529, \"p\": 1142, \"fpr\": 0.3955431754874652, \"tpr\": 0.9220665499124343, \"n\": 359}, {\"threshold\": 0.53, \"p\": 1142, \"fpr\": 0.3955431754874652, \"tpr\": 0.9220665499124343, \"n\": 359}, {\"threshold\": 0.531, \"p\": 1142, \"fpr\": 0.3955431754874652, \"tpr\": 0.9220665499124343, \"n\": 359}, {\"threshold\": 0.532, \"p\": 1142, \"fpr\": 0.3955431754874652, \"tpr\": 0.9220665499124343, \"n\": 359}, {\"threshold\": 0.533, \"p\": 1142, \"fpr\": 0.3955431754874652, \"tpr\": 0.9220665499124343, \"n\": 359}, {\"threshold\": 0.534, \"p\": 1142, \"fpr\": 0.3955431754874652, \"tpr\": 0.9220665499124343, \"n\": 359}, {\"threshold\": 0.535, \"p\": 1142, \"fpr\": 0.3955431754874652, \"tpr\": 0.9220665499124343, \"n\": 359}, {\"threshold\": 0.536, \"p\": 1142, \"fpr\": 0.3955431754874652, \"tpr\": 0.9211908931698775, \"n\": 359}, {\"threshold\": 0.537, \"p\": 1142, \"fpr\": 0.3955431754874652, \"tpr\": 0.9211908931698775, \"n\": 359}, {\"threshold\": 0.538, \"p\": 1142, \"fpr\": 0.3955431754874652, \"tpr\": 0.9194395796847635, \"n\": 359}, {\"threshold\": 0.539, \"p\": 1142, \"fpr\": 0.3955431754874652, \"tpr\": 0.9194395796847635, \"n\": 359}, {\"threshold\": 0.54, \"p\": 1142, \"fpr\": 0.3955431754874652, \"tpr\": 0.9194395796847635, \"n\": 359}, {\"threshold\": 0.541, \"p\": 1142, \"fpr\": 0.3955431754874652, \"tpr\": 0.9194395796847635, \"n\": 359}, {\"threshold\": 0.542, \"p\": 1142, \"fpr\": 0.3955431754874652, \"tpr\": 0.9194395796847635, \"n\": 359}, {\"threshold\": 0.543, \"p\": 1142, \"fpr\": 0.3955431754874652, \"tpr\": 0.9194395796847635, \"n\": 359}, {\"threshold\": 0.544, \"p\": 1142, \"fpr\": 0.3955431754874652, \"tpr\": 0.9194395796847635, \"n\": 359}, {\"threshold\": 0.545, \"p\": 1142, \"fpr\": 0.3955431754874652, \"tpr\": 0.9194395796847635, \"n\": 359}, {\"threshold\": 0.546, \"p\": 1142, \"fpr\": 0.3955431754874652, \"tpr\": 0.9194395796847635, \"n\": 359}, {\"threshold\": 0.547, \"p\": 1142, \"fpr\": 0.3955431754874652, \"tpr\": 0.9194395796847635, \"n\": 359}, {\"threshold\": 0.548, \"p\": 1142, \"fpr\": 0.3955431754874652, \"tpr\": 0.9194395796847635, \"n\": 359}, {\"threshold\": 0.549, \"p\": 1142, \"fpr\": 0.3955431754874652, \"tpr\": 0.9194395796847635, \"n\": 359}, {\"threshold\": 0.55, \"p\": 1142, \"fpr\": 0.3955431754874652, \"tpr\": 0.9194395796847635, \"n\": 359}, {\"threshold\": 0.551, \"p\": 1142, \"fpr\": 0.3955431754874652, \"tpr\": 0.9194395796847635, \"n\": 359}, {\"threshold\": 0.552, \"p\": 1142, \"fpr\": 0.3955431754874652, \"tpr\": 0.9194395796847635, \"n\": 359}, {\"threshold\": 0.553, \"p\": 1142, \"fpr\": 0.3955431754874652, \"tpr\": 0.9194395796847635, \"n\": 359}, {\"threshold\": 0.554, \"p\": 1142, \"fpr\": 0.3955431754874652, \"tpr\": 0.9194395796847635, \"n\": 359}, {\"threshold\": 0.555, \"p\": 1142, \"fpr\": 0.3955431754874652, \"tpr\": 0.9194395796847635, \"n\": 359}, {\"threshold\": 0.556, \"p\": 1142, \"fpr\": 0.39275766016713093, \"tpr\": 0.9194395796847635, \"n\": 359}, {\"threshold\": 0.557, \"p\": 1142, \"fpr\": 0.39275766016713093, \"tpr\": 0.9194395796847635, \"n\": 359}, {\"threshold\": 0.558, \"p\": 1142, \"fpr\": 0.39275766016713093, \"tpr\": 0.9194395796847635, \"n\": 359}, {\"threshold\": 0.559, \"p\": 1142, \"fpr\": 0.39275766016713093, \"tpr\": 0.9194395796847635, \"n\": 359}, {\"threshold\": 0.56, \"p\": 1142, \"fpr\": 0.39275766016713093, \"tpr\": 0.9194395796847635, \"n\": 359}, {\"threshold\": 0.561, \"p\": 1142, \"fpr\": 0.38997214484679665, \"tpr\": 0.9194395796847635, \"n\": 359}, {\"threshold\": 0.562, \"p\": 1142, \"fpr\": 0.3871866295264624, \"tpr\": 0.9194395796847635, \"n\": 359}, {\"threshold\": 0.563, \"p\": 1142, \"fpr\": 0.3871866295264624, \"tpr\": 0.9194395796847635, \"n\": 359}, {\"threshold\": 0.564, \"p\": 1142, \"fpr\": 0.3871866295264624, \"tpr\": 0.9194395796847635, \"n\": 359}, {\"threshold\": 0.565, \"p\": 1142, \"fpr\": 0.3871866295264624, \"tpr\": 0.9194395796847635, \"n\": 359}, {\"threshold\": 0.566, \"p\": 1142, \"fpr\": 0.3871866295264624, \"tpr\": 0.9194395796847635, \"n\": 359}, {\"threshold\": 0.567, \"p\": 1142, \"fpr\": 0.3871866295264624, \"tpr\": 0.9194395796847635, \"n\": 359}, {\"threshold\": 0.568, \"p\": 1142, \"fpr\": 0.3871866295264624, \"tpr\": 0.9194395796847635, \"n\": 359}, {\"threshold\": 0.569, \"p\": 1142, \"fpr\": 0.3871866295264624, \"tpr\": 0.9194395796847635, \"n\": 359}, {\"threshold\": 0.57, \"p\": 1142, \"fpr\": 0.3871866295264624, \"tpr\": 0.9194395796847635, \"n\": 359}, {\"threshold\": 0.571, \"p\": 1142, \"fpr\": 0.3871866295264624, \"tpr\": 0.9194395796847635, \"n\": 359}, {\"threshold\": 0.572, \"p\": 1142, \"fpr\": 0.3871866295264624, \"tpr\": 0.9194395796847635, \"n\": 359}, {\"threshold\": 0.573, \"p\": 1142, \"fpr\": 0.3871866295264624, \"tpr\": 0.9194395796847635, \"n\": 359}, {\"threshold\": 0.574, \"p\": 1142, \"fpr\": 0.3871866295264624, \"tpr\": 0.9194395796847635, \"n\": 359}, {\"threshold\": 0.575, \"p\": 1142, \"fpr\": 0.3871866295264624, \"tpr\": 0.9194395796847635, \"n\": 359}, {\"threshold\": 0.576, \"p\": 1142, \"fpr\": 0.3871866295264624, \"tpr\": 0.9194395796847635, \"n\": 359}, {\"threshold\": 0.577, \"p\": 1142, \"fpr\": 0.3871866295264624, \"tpr\": 0.9194395796847635, \"n\": 359}, {\"threshold\": 0.578, \"p\": 1142, \"fpr\": 0.3871866295264624, \"tpr\": 0.9194395796847635, \"n\": 359}, {\"threshold\": 0.579, \"p\": 1142, \"fpr\": 0.3871866295264624, \"tpr\": 0.9185639229422067, \"n\": 359}, {\"threshold\": 0.58, \"p\": 1142, \"fpr\": 0.3871866295264624, \"tpr\": 0.9185639229422067, \"n\": 359}, {\"threshold\": 0.581, \"p\": 1142, \"fpr\": 0.3871866295264624, \"tpr\": 0.9185639229422067, \"n\": 359}, {\"threshold\": 0.582, \"p\": 1142, \"fpr\": 0.3871866295264624, \"tpr\": 0.9185639229422067, \"n\": 359}, {\"threshold\": 0.583, \"p\": 1142, \"fpr\": 0.3871866295264624, \"tpr\": 0.9185639229422067, \"n\": 359}, {\"threshold\": 0.584, \"p\": 1142, \"fpr\": 0.3871866295264624, \"tpr\": 0.9185639229422067, \"n\": 359}, {\"threshold\": 0.585, \"p\": 1142, \"fpr\": 0.3871866295264624, \"tpr\": 0.9185639229422067, \"n\": 359}, {\"threshold\": 0.586, \"p\": 1142, \"fpr\": 0.3871866295264624, \"tpr\": 0.9185639229422067, \"n\": 359}, {\"threshold\": 0.587, \"p\": 1142, \"fpr\": 0.3871866295264624, \"tpr\": 0.9176882661996497, \"n\": 359}, {\"threshold\": 0.588, \"p\": 1142, \"fpr\": 0.3871866295264624, \"tpr\": 0.9176882661996497, \"n\": 359}, {\"threshold\": 0.589, \"p\": 1142, \"fpr\": 0.3871866295264624, \"tpr\": 0.9176882661996497, \"n\": 359}, {\"threshold\": 0.59, \"p\": 1142, \"fpr\": 0.38440111420612816, \"tpr\": 0.9176882661996497, \"n\": 359}, {\"threshold\": 0.591, \"p\": 1142, \"fpr\": 0.38440111420612816, \"tpr\": 0.9176882661996497, \"n\": 359}, {\"threshold\": 0.592, \"p\": 1142, \"fpr\": 0.38440111420612816, \"tpr\": 0.9176882661996497, \"n\": 359}, {\"threshold\": 0.593, \"p\": 1142, \"fpr\": 0.38440111420612816, \"tpr\": 0.9176882661996497, \"n\": 359}, {\"threshold\": 0.594, \"p\": 1142, \"fpr\": 0.38440111420612816, \"tpr\": 0.9176882661996497, \"n\": 359}, {\"threshold\": 0.595, \"p\": 1142, \"fpr\": 0.38440111420612816, \"tpr\": 0.9176882661996497, \"n\": 359}, {\"threshold\": 0.596, \"p\": 1142, \"fpr\": 0.38440111420612816, \"tpr\": 0.9176882661996497, \"n\": 359}, {\"threshold\": 0.597, \"p\": 1142, \"fpr\": 0.38440111420612816, \"tpr\": 0.9176882661996497, \"n\": 359}, {\"threshold\": 0.598, \"p\": 1142, \"fpr\": 0.38440111420612816, \"tpr\": 0.9176882661996497, \"n\": 359}, {\"threshold\": 0.599, \"p\": 1142, \"fpr\": 0.38440111420612816, \"tpr\": 0.9176882661996497, \"n\": 359}, {\"threshold\": 0.6, \"p\": 1142, \"fpr\": 0.38440111420612816, \"tpr\": 0.9176882661996497, \"n\": 359}, {\"threshold\": 0.601, \"p\": 1142, \"fpr\": 0.38440111420612816, \"tpr\": 0.9176882661996497, \"n\": 359}, {\"threshold\": 0.602, \"p\": 1142, \"fpr\": 0.38440111420612816, \"tpr\": 0.9176882661996497, \"n\": 359}, {\"threshold\": 0.603, \"p\": 1142, \"fpr\": 0.38440111420612816, \"tpr\": 0.9176882661996497, \"n\": 359}, {\"threshold\": 0.604, \"p\": 1142, \"fpr\": 0.38440111420612816, \"tpr\": 0.9168126094570929, \"n\": 359}, {\"threshold\": 0.605, \"p\": 1142, \"fpr\": 0.38440111420612816, \"tpr\": 0.9168126094570929, \"n\": 359}, {\"threshold\": 0.606, \"p\": 1142, \"fpr\": 0.38440111420612816, \"tpr\": 0.9168126094570929, \"n\": 359}, {\"threshold\": 0.607, \"p\": 1142, \"fpr\": 0.38440111420612816, \"tpr\": 0.9168126094570929, \"n\": 359}, {\"threshold\": 0.608, \"p\": 1142, \"fpr\": 0.38440111420612816, \"tpr\": 0.9168126094570929, \"n\": 359}, {\"threshold\": 0.609, \"p\": 1142, \"fpr\": 0.38440111420612816, \"tpr\": 0.9168126094570929, \"n\": 359}, {\"threshold\": 0.61, \"p\": 1142, \"fpr\": 0.38440111420612816, \"tpr\": 0.9168126094570929, \"n\": 359}, {\"threshold\": 0.611, \"p\": 1142, \"fpr\": 0.38440111420612816, \"tpr\": 0.9168126094570929, \"n\": 359}, {\"threshold\": 0.612, \"p\": 1142, \"fpr\": 0.38440111420612816, \"tpr\": 0.9168126094570929, \"n\": 359}, {\"threshold\": 0.613, \"p\": 1142, \"fpr\": 0.38440111420612816, \"tpr\": 0.9168126094570929, \"n\": 359}, {\"threshold\": 0.614, \"p\": 1142, \"fpr\": 0.38440111420612816, \"tpr\": 0.9168126094570929, \"n\": 359}, {\"threshold\": 0.615, \"p\": 1142, \"fpr\": 0.38440111420612816, \"tpr\": 0.9168126094570929, \"n\": 359}, {\"threshold\": 0.616, \"p\": 1142, \"fpr\": 0.38440111420612816, \"tpr\": 0.9168126094570929, \"n\": 359}, {\"threshold\": 0.617, \"p\": 1142, \"fpr\": 0.38440111420612816, \"tpr\": 0.9159369527145359, \"n\": 359}, {\"threshold\": 0.618, \"p\": 1142, \"fpr\": 0.38440111420612816, \"tpr\": 0.9159369527145359, \"n\": 359}, {\"threshold\": 0.619, \"p\": 1142, \"fpr\": 0.38440111420612816, \"tpr\": 0.9159369527145359, \"n\": 359}, {\"threshold\": 0.62, \"p\": 1142, \"fpr\": 0.38440111420612816, \"tpr\": 0.9159369527145359, \"n\": 359}, {\"threshold\": 0.621, \"p\": 1142, \"fpr\": 0.38440111420612816, \"tpr\": 0.9159369527145359, \"n\": 359}, {\"threshold\": 0.622, \"p\": 1142, \"fpr\": 0.38440111420612816, \"tpr\": 0.9159369527145359, \"n\": 359}, {\"threshold\": 0.623, \"p\": 1142, \"fpr\": 0.38440111420612816, \"tpr\": 0.9159369527145359, \"n\": 359}, {\"threshold\": 0.624, \"p\": 1142, \"fpr\": 0.38440111420612816, \"tpr\": 0.9159369527145359, \"n\": 359}, {\"threshold\": 0.625, \"p\": 1142, \"fpr\": 0.38440111420612816, \"tpr\": 0.9159369527145359, \"n\": 359}, {\"threshold\": 0.626, \"p\": 1142, \"fpr\": 0.38440111420612816, \"tpr\": 0.9159369527145359, \"n\": 359}, {\"threshold\": 0.627, \"p\": 1142, \"fpr\": 0.38440111420612816, \"tpr\": 0.9150612959719789, \"n\": 359}, {\"threshold\": 0.628, \"p\": 1142, \"fpr\": 0.38440111420612816, \"tpr\": 0.9150612959719789, \"n\": 359}, {\"threshold\": 0.629, \"p\": 1142, \"fpr\": 0.38440111420612816, \"tpr\": 0.9150612959719789, \"n\": 359}, {\"threshold\": 0.63, \"p\": 1142, \"fpr\": 0.38440111420612816, \"tpr\": 0.9150612959719789, \"n\": 359}, {\"threshold\": 0.631, \"p\": 1142, \"fpr\": 0.38440111420612816, \"tpr\": 0.9150612959719789, \"n\": 359}, {\"threshold\": 0.632, \"p\": 1142, \"fpr\": 0.38440111420612816, \"tpr\": 0.9150612959719789, \"n\": 359}, {\"threshold\": 0.633, \"p\": 1142, \"fpr\": 0.38440111420612816, \"tpr\": 0.9150612959719789, \"n\": 359}, {\"threshold\": 0.634, \"p\": 1142, \"fpr\": 0.38440111420612816, \"tpr\": 0.9141856392294221, \"n\": 359}, {\"threshold\": 0.635, \"p\": 1142, \"fpr\": 0.38440111420612816, \"tpr\": 0.9141856392294221, \"n\": 359}, {\"threshold\": 0.636, \"p\": 1142, \"fpr\": 0.38440111420612816, \"tpr\": 0.9141856392294221, \"n\": 359}, {\"threshold\": 0.637, \"p\": 1142, \"fpr\": 0.38440111420612816, \"tpr\": 0.9141856392294221, \"n\": 359}, {\"threshold\": 0.638, \"p\": 1142, \"fpr\": 0.38440111420612816, \"tpr\": 0.9141856392294221, \"n\": 359}, {\"threshold\": 0.639, \"p\": 1142, \"fpr\": 0.38440111420612816, \"tpr\": 0.9141856392294221, \"n\": 359}, {\"threshold\": 0.64, \"p\": 1142, \"fpr\": 0.38440111420612816, \"tpr\": 0.9141856392294221, \"n\": 359}, {\"threshold\": 0.641, \"p\": 1142, \"fpr\": 0.38440111420612816, \"tpr\": 0.9141856392294221, \"n\": 359}, {\"threshold\": 0.642, \"p\": 1142, \"fpr\": 0.38440111420612816, \"tpr\": 0.9133099824868651, \"n\": 359}, {\"threshold\": 0.643, \"p\": 1142, \"fpr\": 0.38440111420612816, \"tpr\": 0.9133099824868651, \"n\": 359}, {\"threshold\": 0.644, \"p\": 1142, \"fpr\": 0.38440111420612816, \"tpr\": 0.9133099824868651, \"n\": 359}, {\"threshold\": 0.645, \"p\": 1142, \"fpr\": 0.38440111420612816, \"tpr\": 0.9133099824868651, \"n\": 359}, {\"threshold\": 0.646, \"p\": 1142, \"fpr\": 0.38440111420612816, \"tpr\": 0.9133099824868651, \"n\": 359}, {\"threshold\": 0.647, \"p\": 1142, \"fpr\": 0.38440111420612816, \"tpr\": 0.9133099824868651, \"n\": 359}, {\"threshold\": 0.648, \"p\": 1142, \"fpr\": 0.38440111420612816, \"tpr\": 0.9133099824868651, \"n\": 359}, {\"threshold\": 0.649, \"p\": 1142, \"fpr\": 0.38440111420612816, \"tpr\": 0.9133099824868651, \"n\": 359}, {\"threshold\": 0.65, \"p\": 1142, \"fpr\": 0.38440111420612816, \"tpr\": 0.9124343257443083, \"n\": 359}, {\"threshold\": 0.651, \"p\": 1142, \"fpr\": 0.38440111420612816, \"tpr\": 0.9124343257443083, \"n\": 359}, {\"threshold\": 0.652, \"p\": 1142, \"fpr\": 0.38440111420612816, \"tpr\": 0.9124343257443083, \"n\": 359}, {\"threshold\": 0.653, \"p\": 1142, \"fpr\": 0.38440111420612816, \"tpr\": 0.9124343257443083, \"n\": 359}, {\"threshold\": 0.654, \"p\": 1142, \"fpr\": 0.38440111420612816, \"tpr\": 0.9124343257443083, \"n\": 359}, {\"threshold\": 0.655, \"p\": 1142, \"fpr\": 0.38440111420612816, \"tpr\": 0.9124343257443083, \"n\": 359}, {\"threshold\": 0.656, \"p\": 1142, \"fpr\": 0.38440111420612816, \"tpr\": 0.9124343257443083, \"n\": 359}, {\"threshold\": 0.657, \"p\": 1142, \"fpr\": 0.38440111420612816, \"tpr\": 0.9124343257443083, \"n\": 359}, {\"threshold\": 0.658, \"p\": 1142, \"fpr\": 0.38440111420612816, \"tpr\": 0.9124343257443083, \"n\": 359}, {\"threshold\": 0.659, \"p\": 1142, \"fpr\": 0.38440111420612816, \"tpr\": 0.9124343257443083, \"n\": 359}, {\"threshold\": 0.66, \"p\": 1142, \"fpr\": 0.38440111420612816, \"tpr\": 0.9124343257443083, \"n\": 359}, {\"threshold\": 0.661, \"p\": 1142, \"fpr\": 0.38440111420612816, \"tpr\": 0.9124343257443083, \"n\": 359}, {\"threshold\": 0.662, \"p\": 1142, \"fpr\": 0.38440111420612816, \"tpr\": 0.9124343257443083, \"n\": 359}, {\"threshold\": 0.663, \"p\": 1142, \"fpr\": 0.38440111420612816, \"tpr\": 0.9124343257443083, \"n\": 359}, {\"threshold\": 0.664, \"p\": 1142, \"fpr\": 0.38440111420612816, \"tpr\": 0.9124343257443083, \"n\": 359}, {\"threshold\": 0.665, \"p\": 1142, \"fpr\": 0.38440111420612816, \"tpr\": 0.9124343257443083, \"n\": 359}, {\"threshold\": 0.666, \"p\": 1142, \"fpr\": 0.38440111420612816, \"tpr\": 0.9124343257443083, \"n\": 359}, {\"threshold\": 0.667, \"p\": 1142, \"fpr\": 0.38440111420612816, \"tpr\": 0.9124343257443083, \"n\": 359}, {\"threshold\": 0.668, \"p\": 1142, \"fpr\": 0.3816155988857939, \"tpr\": 0.9124343257443083, \"n\": 359}, {\"threshold\": 0.669, \"p\": 1142, \"fpr\": 0.3816155988857939, \"tpr\": 0.9124343257443083, \"n\": 359}, {\"threshold\": 0.67, \"p\": 1142, \"fpr\": 0.3816155988857939, \"tpr\": 0.9124343257443083, \"n\": 359}, {\"threshold\": 0.671, \"p\": 1142, \"fpr\": 0.3816155988857939, \"tpr\": 0.9124343257443083, \"n\": 359}, {\"threshold\": 0.672, \"p\": 1142, \"fpr\": 0.3816155988857939, \"tpr\": 0.9124343257443083, \"n\": 359}, {\"threshold\": 0.673, \"p\": 1142, \"fpr\": 0.3816155988857939, \"tpr\": 0.9124343257443083, \"n\": 359}, {\"threshold\": 0.674, \"p\": 1142, \"fpr\": 0.3816155988857939, \"tpr\": 0.9124343257443083, \"n\": 359}, {\"threshold\": 0.675, \"p\": 1142, \"fpr\": 0.3788300835654596, \"tpr\": 0.9115586690017513, \"n\": 359}, {\"threshold\": 0.676, \"p\": 1142, \"fpr\": 0.3788300835654596, \"tpr\": 0.9115586690017513, \"n\": 359}, {\"threshold\": 0.677, \"p\": 1142, \"fpr\": 0.3788300835654596, \"tpr\": 0.9115586690017513, \"n\": 359}, {\"threshold\": 0.678, \"p\": 1142, \"fpr\": 0.3788300835654596, \"tpr\": 0.9115586690017513, \"n\": 359}, {\"threshold\": 0.679, \"p\": 1142, \"fpr\": 0.3788300835654596, \"tpr\": 0.9106830122591943, \"n\": 359}, {\"threshold\": 0.68, \"p\": 1142, \"fpr\": 0.3788300835654596, \"tpr\": 0.9106830122591943, \"n\": 359}, {\"threshold\": 0.681, \"p\": 1142, \"fpr\": 0.3788300835654596, \"tpr\": 0.9106830122591943, \"n\": 359}, {\"threshold\": 0.682, \"p\": 1142, \"fpr\": 0.3788300835654596, \"tpr\": 0.9106830122591943, \"n\": 359}, {\"threshold\": 0.683, \"p\": 1142, \"fpr\": 0.3788300835654596, \"tpr\": 0.9106830122591943, \"n\": 359}, {\"threshold\": 0.684, \"p\": 1142, \"fpr\": 0.3788300835654596, \"tpr\": 0.9106830122591943, \"n\": 359}, {\"threshold\": 0.685, \"p\": 1142, \"fpr\": 0.3788300835654596, \"tpr\": 0.9106830122591943, \"n\": 359}, {\"threshold\": 0.686, \"p\": 1142, \"fpr\": 0.3788300835654596, \"tpr\": 0.9106830122591943, \"n\": 359}, {\"threshold\": 0.687, \"p\": 1142, \"fpr\": 0.3788300835654596, \"tpr\": 0.9098073555166375, \"n\": 359}, {\"threshold\": 0.688, \"p\": 1142, \"fpr\": 0.3788300835654596, \"tpr\": 0.9098073555166375, \"n\": 359}, {\"threshold\": 0.689, \"p\": 1142, \"fpr\": 0.3788300835654596, \"tpr\": 0.9098073555166375, \"n\": 359}, {\"threshold\": 0.69, \"p\": 1142, \"fpr\": 0.3788300835654596, \"tpr\": 0.9098073555166375, \"n\": 359}, {\"threshold\": 0.691, \"p\": 1142, \"fpr\": 0.3788300835654596, \"tpr\": 0.9089316987740805, \"n\": 359}, {\"threshold\": 0.692, \"p\": 1142, \"fpr\": 0.3788300835654596, \"tpr\": 0.9089316987740805, \"n\": 359}, {\"threshold\": 0.693, \"p\": 1142, \"fpr\": 0.3788300835654596, \"tpr\": 0.9089316987740805, \"n\": 359}, {\"threshold\": 0.694, \"p\": 1142, \"fpr\": 0.37604456824512533, \"tpr\": 0.9089316987740805, \"n\": 359}, {\"threshold\": 0.695, \"p\": 1142, \"fpr\": 0.37604456824512533, \"tpr\": 0.9080560420315237, \"n\": 359}, {\"threshold\": 0.696, \"p\": 1142, \"fpr\": 0.37604456824512533, \"tpr\": 0.9080560420315237, \"n\": 359}, {\"threshold\": 0.697, \"p\": 1142, \"fpr\": 0.37604456824512533, \"tpr\": 0.9080560420315237, \"n\": 359}, {\"threshold\": 0.698, \"p\": 1142, \"fpr\": 0.37604456824512533, \"tpr\": 0.9080560420315237, \"n\": 359}, {\"threshold\": 0.699, \"p\": 1142, \"fpr\": 0.37604456824512533, \"tpr\": 0.9080560420315237, \"n\": 359}, {\"threshold\": 0.7, \"p\": 1142, \"fpr\": 0.37604456824512533, \"tpr\": 0.9080560420315237, \"n\": 359}, {\"threshold\": 0.701, \"p\": 1142, \"fpr\": 0.37604456824512533, \"tpr\": 0.9080560420315237, \"n\": 359}, {\"threshold\": 0.702, \"p\": 1142, \"fpr\": 0.37604456824512533, \"tpr\": 0.9080560420315237, \"n\": 359}, {\"threshold\": 0.703, \"p\": 1142, \"fpr\": 0.37604456824512533, \"tpr\": 0.9080560420315237, \"n\": 359}, {\"threshold\": 0.704, \"p\": 1142, \"fpr\": 0.37604456824512533, \"tpr\": 0.9080560420315237, \"n\": 359}, {\"threshold\": 0.705, \"p\": 1142, \"fpr\": 0.37604456824512533, \"tpr\": 0.9080560420315237, \"n\": 359}, {\"threshold\": 0.706, \"p\": 1142, \"fpr\": 0.37604456824512533, \"tpr\": 0.9080560420315237, \"n\": 359}, {\"threshold\": 0.707, \"p\": 1142, \"fpr\": 0.37604456824512533, \"tpr\": 0.9080560420315237, \"n\": 359}, {\"threshold\": 0.708, \"p\": 1142, \"fpr\": 0.37604456824512533, \"tpr\": 0.9071803852889667, \"n\": 359}, {\"threshold\": 0.709, \"p\": 1142, \"fpr\": 0.37604456824512533, \"tpr\": 0.9071803852889667, \"n\": 359}, {\"threshold\": 0.71, \"p\": 1142, \"fpr\": 0.37604456824512533, \"tpr\": 0.9071803852889667, \"n\": 359}, {\"threshold\": 0.711, \"p\": 1142, \"fpr\": 0.37604456824512533, \"tpr\": 0.9071803852889667, \"n\": 359}, {\"threshold\": 0.712, \"p\": 1142, \"fpr\": 0.37604456824512533, \"tpr\": 0.9071803852889667, \"n\": 359}, {\"threshold\": 0.713, \"p\": 1142, \"fpr\": 0.37604456824512533, \"tpr\": 0.9071803852889667, \"n\": 359}, {\"threshold\": 0.714, \"p\": 1142, \"fpr\": 0.37604456824512533, \"tpr\": 0.9071803852889667, \"n\": 359}, {\"threshold\": 0.715, \"p\": 1142, \"fpr\": 0.37604456824512533, \"tpr\": 0.9063047285464098, \"n\": 359}, {\"threshold\": 0.716, \"p\": 1142, \"fpr\": 0.3732590529247911, \"tpr\": 0.9054290718038529, \"n\": 359}, {\"threshold\": 0.717, \"p\": 1142, \"fpr\": 0.3732590529247911, \"tpr\": 0.9054290718038529, \"n\": 359}, {\"threshold\": 0.718, \"p\": 1142, \"fpr\": 0.3732590529247911, \"tpr\": 0.9054290718038529, \"n\": 359}, {\"threshold\": 0.719, \"p\": 1142, \"fpr\": 0.3732590529247911, \"tpr\": 0.9054290718038529, \"n\": 359}, {\"threshold\": 0.72, \"p\": 1142, \"fpr\": 0.3732590529247911, \"tpr\": 0.9054290718038529, \"n\": 359}, {\"threshold\": 0.721, \"p\": 1142, \"fpr\": 0.3732590529247911, \"tpr\": 0.9054290718038529, \"n\": 359}, {\"threshold\": 0.722, \"p\": 1142, \"fpr\": 0.3732590529247911, \"tpr\": 0.9054290718038529, \"n\": 359}, {\"threshold\": 0.723, \"p\": 1142, \"fpr\": 0.3732590529247911, \"tpr\": 0.9054290718038529, \"n\": 359}, {\"threshold\": 0.724, \"p\": 1142, \"fpr\": 0.3732590529247911, \"tpr\": 0.9054290718038529, \"n\": 359}, {\"threshold\": 0.725, \"p\": 1142, \"fpr\": 0.3732590529247911, \"tpr\": 0.9054290718038529, \"n\": 359}, {\"threshold\": 0.726, \"p\": 1142, \"fpr\": 0.3732590529247911, \"tpr\": 0.9054290718038529, \"n\": 359}, {\"threshold\": 0.727, \"p\": 1142, \"fpr\": 0.3732590529247911, \"tpr\": 0.9054290718038529, \"n\": 359}, {\"threshold\": 0.728, \"p\": 1142, \"fpr\": 0.3732590529247911, \"tpr\": 0.9054290718038529, \"n\": 359}, {\"threshold\": 0.729, \"p\": 1142, \"fpr\": 0.3732590529247911, \"tpr\": 0.9054290718038529, \"n\": 359}, {\"threshold\": 0.73, \"p\": 1142, \"fpr\": 0.3732590529247911, \"tpr\": 0.9054290718038529, \"n\": 359}, {\"threshold\": 0.731, \"p\": 1142, \"fpr\": 0.3732590529247911, \"tpr\": 0.9054290718038529, \"n\": 359}, {\"threshold\": 0.732, \"p\": 1142, \"fpr\": 0.37047353760445684, \"tpr\": 0.9054290718038529, \"n\": 359}, {\"threshold\": 0.733, \"p\": 1142, \"fpr\": 0.37047353760445684, \"tpr\": 0.9054290718038529, \"n\": 359}, {\"threshold\": 0.734, \"p\": 1142, \"fpr\": 0.37047353760445684, \"tpr\": 0.9054290718038529, \"n\": 359}, {\"threshold\": 0.735, \"p\": 1142, \"fpr\": 0.37047353760445684, \"tpr\": 0.9054290718038529, \"n\": 359}, {\"threshold\": 0.736, \"p\": 1142, \"fpr\": 0.37047353760445684, \"tpr\": 0.9054290718038529, \"n\": 359}, {\"threshold\": 0.737, \"p\": 1142, \"fpr\": 0.37047353760445684, \"tpr\": 0.9045534150612959, \"n\": 359}, {\"threshold\": 0.738, \"p\": 1142, \"fpr\": 0.37047353760445684, \"tpr\": 0.9045534150612959, \"n\": 359}, {\"threshold\": 0.739, \"p\": 1142, \"fpr\": 0.37047353760445684, \"tpr\": 0.9045534150612959, \"n\": 359}, {\"threshold\": 0.74, \"p\": 1142, \"fpr\": 0.37047353760445684, \"tpr\": 0.9045534150612959, \"n\": 359}, {\"threshold\": 0.741, \"p\": 1142, \"fpr\": 0.37047353760445684, \"tpr\": 0.9045534150612959, \"n\": 359}, {\"threshold\": 0.742, \"p\": 1142, \"fpr\": 0.37047353760445684, \"tpr\": 0.9028021015761821, \"n\": 359}, {\"threshold\": 0.743, \"p\": 1142, \"fpr\": 0.37047353760445684, \"tpr\": 0.9028021015761821, \"n\": 359}, {\"threshold\": 0.744, \"p\": 1142, \"fpr\": 0.37047353760445684, \"tpr\": 0.9028021015761821, \"n\": 359}, {\"threshold\": 0.745, \"p\": 1142, \"fpr\": 0.37047353760445684, \"tpr\": 0.9028021015761821, \"n\": 359}, {\"threshold\": 0.746, \"p\": 1142, \"fpr\": 0.37047353760445684, \"tpr\": 0.9019264448336253, \"n\": 359}, {\"threshold\": 0.747, \"p\": 1142, \"fpr\": 0.37047353760445684, \"tpr\": 0.9019264448336253, \"n\": 359}, {\"threshold\": 0.748, \"p\": 1142, \"fpr\": 0.37047353760445684, \"tpr\": 0.9019264448336253, \"n\": 359}, {\"threshold\": 0.749, \"p\": 1142, \"fpr\": 0.37047353760445684, \"tpr\": 0.9019264448336253, \"n\": 359}, {\"threshold\": 0.75, \"p\": 1142, \"fpr\": 0.37047353760445684, \"tpr\": 0.9019264448336253, \"n\": 359}, {\"threshold\": 0.751, \"p\": 1142, \"fpr\": 0.37047353760445684, \"tpr\": 0.9019264448336253, \"n\": 359}, {\"threshold\": 0.752, \"p\": 1142, \"fpr\": 0.37047353760445684, \"tpr\": 0.9019264448336253, \"n\": 359}, {\"threshold\": 0.753, \"p\": 1142, \"fpr\": 0.37047353760445684, \"tpr\": 0.9019264448336253, \"n\": 359}, {\"threshold\": 0.754, \"p\": 1142, \"fpr\": 0.37047353760445684, \"tpr\": 0.9019264448336253, \"n\": 359}, {\"threshold\": 0.755, \"p\": 1142, \"fpr\": 0.37047353760445684, \"tpr\": 0.9019264448336253, \"n\": 359}, {\"threshold\": 0.756, \"p\": 1142, \"fpr\": 0.37047353760445684, \"tpr\": 0.9019264448336253, \"n\": 359}, {\"threshold\": 0.757, \"p\": 1142, \"fpr\": 0.37047353760445684, \"tpr\": 0.9019264448336253, \"n\": 359}, {\"threshold\": 0.758, \"p\": 1142, \"fpr\": 0.37047353760445684, \"tpr\": 0.9019264448336253, \"n\": 359}, {\"threshold\": 0.759, \"p\": 1142, \"fpr\": 0.37047353760445684, \"tpr\": 0.9019264448336253, \"n\": 359}, {\"threshold\": 0.76, \"p\": 1142, \"fpr\": 0.37047353760445684, \"tpr\": 0.9019264448336253, \"n\": 359}, {\"threshold\": 0.761, \"p\": 1142, \"fpr\": 0.37047353760445684, \"tpr\": 0.9019264448336253, \"n\": 359}, {\"threshold\": 0.762, \"p\": 1142, \"fpr\": 0.37047353760445684, \"tpr\": 0.9019264448336253, \"n\": 359}, {\"threshold\": 0.763, \"p\": 1142, \"fpr\": 0.37047353760445684, \"tpr\": 0.9019264448336253, \"n\": 359}, {\"threshold\": 0.764, \"p\": 1142, \"fpr\": 0.37047353760445684, \"tpr\": 0.9019264448336253, \"n\": 359}, {\"threshold\": 0.765, \"p\": 1142, \"fpr\": 0.37047353760445684, \"tpr\": 0.9019264448336253, \"n\": 359}, {\"threshold\": 0.766, \"p\": 1142, \"fpr\": 0.37047353760445684, \"tpr\": 0.9019264448336253, \"n\": 359}, {\"threshold\": 0.767, \"p\": 1142, \"fpr\": 0.37047353760445684, \"tpr\": 0.9019264448336253, \"n\": 359}, {\"threshold\": 0.768, \"p\": 1142, \"fpr\": 0.37047353760445684, \"tpr\": 0.9019264448336253, \"n\": 359}, {\"threshold\": 0.769, \"p\": 1142, \"fpr\": 0.37047353760445684, \"tpr\": 0.9019264448336253, \"n\": 359}, {\"threshold\": 0.77, \"p\": 1142, \"fpr\": 0.37047353760445684, \"tpr\": 0.9010507880910683, \"n\": 359}, {\"threshold\": 0.771, \"p\": 1142, \"fpr\": 0.37047353760445684, \"tpr\": 0.9010507880910683, \"n\": 359}, {\"threshold\": 0.772, \"p\": 1142, \"fpr\": 0.36768802228412256, \"tpr\": 0.9001751313485113, \"n\": 359}, {\"threshold\": 0.773, \"p\": 1142, \"fpr\": 0.36768802228412256, \"tpr\": 0.9001751313485113, \"n\": 359}, {\"threshold\": 0.774, \"p\": 1142, \"fpr\": 0.36768802228412256, \"tpr\": 0.9001751313485113, \"n\": 359}, {\"threshold\": 0.775, \"p\": 1142, \"fpr\": 0.36768802228412256, \"tpr\": 0.9001751313485113, \"n\": 359}, {\"threshold\": 0.776, \"p\": 1142, \"fpr\": 0.36768802228412256, \"tpr\": 0.9001751313485113, \"n\": 359}, {\"threshold\": 0.777, \"p\": 1142, \"fpr\": 0.36768802228412256, \"tpr\": 0.8992994746059545, \"n\": 359}, {\"threshold\": 0.778, \"p\": 1142, \"fpr\": 0.36768802228412256, \"tpr\": 0.8992994746059545, \"n\": 359}, {\"threshold\": 0.779, \"p\": 1142, \"fpr\": 0.36768802228412256, \"tpr\": 0.8992994746059545, \"n\": 359}, {\"threshold\": 0.78, \"p\": 1142, \"fpr\": 0.3649025069637883, \"tpr\": 0.8992994746059545, \"n\": 359}, {\"threshold\": 0.781, \"p\": 1142, \"fpr\": 0.3649025069637883, \"tpr\": 0.8992994746059545, \"n\": 359}, {\"threshold\": 0.782, \"p\": 1142, \"fpr\": 0.3649025069637883, \"tpr\": 0.8992994746059545, \"n\": 359}, {\"threshold\": 0.783, \"p\": 1142, \"fpr\": 0.3649025069637883, \"tpr\": 0.8992994746059545, \"n\": 359}, {\"threshold\": 0.784, \"p\": 1142, \"fpr\": 0.3649025069637883, \"tpr\": 0.8992994746059545, \"n\": 359}, {\"threshold\": 0.785, \"p\": 1142, \"fpr\": 0.3649025069637883, \"tpr\": 0.8992994746059545, \"n\": 359}, {\"threshold\": 0.786, \"p\": 1142, \"fpr\": 0.3649025069637883, \"tpr\": 0.8992994746059545, \"n\": 359}, {\"threshold\": 0.787, \"p\": 1142, \"fpr\": 0.3649025069637883, \"tpr\": 0.8992994746059545, \"n\": 359}, {\"threshold\": 0.788, \"p\": 1142, \"fpr\": 0.3649025069637883, \"tpr\": 0.8992994746059545, \"n\": 359}, {\"threshold\": 0.789, \"p\": 1142, \"fpr\": 0.3649025069637883, \"tpr\": 0.8992994746059545, \"n\": 359}, {\"threshold\": 0.79, \"p\": 1142, \"fpr\": 0.3649025069637883, \"tpr\": 0.8992994746059545, \"n\": 359}, {\"threshold\": 0.791, \"p\": 1142, \"fpr\": 0.3649025069637883, \"tpr\": 0.8975481611208407, \"n\": 359}, {\"threshold\": 0.792, \"p\": 1142, \"fpr\": 0.3649025069637883, \"tpr\": 0.8975481611208407, \"n\": 359}, {\"threshold\": 0.793, \"p\": 1142, \"fpr\": 0.3649025069637883, \"tpr\": 0.8949211908931699, \"n\": 359}, {\"threshold\": 0.794, \"p\": 1142, \"fpr\": 0.3649025069637883, \"tpr\": 0.8949211908931699, \"n\": 359}, {\"threshold\": 0.795, \"p\": 1142, \"fpr\": 0.3649025069637883, \"tpr\": 0.8949211908931699, \"n\": 359}, {\"threshold\": 0.796, \"p\": 1142, \"fpr\": 0.3649025069637883, \"tpr\": 0.8940455341506129, \"n\": 359}, {\"threshold\": 0.797, \"p\": 1142, \"fpr\": 0.3649025069637883, \"tpr\": 0.8940455341506129, \"n\": 359}, {\"threshold\": 0.798, \"p\": 1142, \"fpr\": 0.3649025069637883, \"tpr\": 0.8940455341506129, \"n\": 359}, {\"threshold\": 0.799, \"p\": 1142, \"fpr\": 0.3649025069637883, \"tpr\": 0.8940455341506129, \"n\": 359}, {\"threshold\": 0.8, \"p\": 1142, \"fpr\": 0.3649025069637883, \"tpr\": 0.8922942206654991, \"n\": 359}, {\"threshold\": 0.801, \"p\": 1142, \"fpr\": 0.3649025069637883, \"tpr\": 0.8922942206654991, \"n\": 359}, {\"threshold\": 0.802, \"p\": 1142, \"fpr\": 0.362116991643454, \"tpr\": 0.8914185639229422, \"n\": 359}, {\"threshold\": 0.803, \"p\": 1142, \"fpr\": 0.362116991643454, \"tpr\": 0.8914185639229422, \"n\": 359}, {\"threshold\": 0.804, \"p\": 1142, \"fpr\": 0.362116991643454, \"tpr\": 0.8914185639229422, \"n\": 359}, {\"threshold\": 0.805, \"p\": 1142, \"fpr\": 0.362116991643454, \"tpr\": 0.8914185639229422, \"n\": 359}, {\"threshold\": 0.806, \"p\": 1142, \"fpr\": 0.362116991643454, \"tpr\": 0.8914185639229422, \"n\": 359}, {\"threshold\": 0.807, \"p\": 1142, \"fpr\": 0.362116991643454, \"tpr\": 0.8914185639229422, \"n\": 359}, {\"threshold\": 0.808, \"p\": 1142, \"fpr\": 0.3593314763231198, \"tpr\": 0.8914185639229422, \"n\": 359}, {\"threshold\": 0.809, \"p\": 1142, \"fpr\": 0.3593314763231198, \"tpr\": 0.8914185639229422, \"n\": 359}, {\"threshold\": 0.81, \"p\": 1142, \"fpr\": 0.3593314763231198, \"tpr\": 0.8914185639229422, \"n\": 359}, {\"threshold\": 0.811, \"p\": 1142, \"fpr\": 0.3593314763231198, \"tpr\": 0.8914185639229422, \"n\": 359}, {\"threshold\": 0.812, \"p\": 1142, \"fpr\": 0.3593314763231198, \"tpr\": 0.8914185639229422, \"n\": 359}, {\"threshold\": 0.813, \"p\": 1142, \"fpr\": 0.3593314763231198, \"tpr\": 0.8914185639229422, \"n\": 359}, {\"threshold\": 0.814, \"p\": 1142, \"fpr\": 0.3593314763231198, \"tpr\": 0.8914185639229422, \"n\": 359}, {\"threshold\": 0.815, \"p\": 1142, \"fpr\": 0.3593314763231198, \"tpr\": 0.8914185639229422, \"n\": 359}, {\"threshold\": 0.816, \"p\": 1142, \"fpr\": 0.3593314763231198, \"tpr\": 0.8914185639229422, \"n\": 359}, {\"threshold\": 0.817, \"p\": 1142, \"fpr\": 0.3593314763231198, \"tpr\": 0.8914185639229422, \"n\": 359}, {\"threshold\": 0.818, \"p\": 1142, \"fpr\": 0.3593314763231198, \"tpr\": 0.8914185639229422, \"n\": 359}, {\"threshold\": 0.819, \"p\": 1142, \"fpr\": 0.3593314763231198, \"tpr\": 0.8914185639229422, \"n\": 359}, {\"threshold\": 0.82, \"p\": 1142, \"fpr\": 0.3593314763231198, \"tpr\": 0.8914185639229422, \"n\": 359}, {\"threshold\": 0.821, \"p\": 1142, \"fpr\": 0.3593314763231198, \"tpr\": 0.8887915936952715, \"n\": 359}, {\"threshold\": 0.822, \"p\": 1142, \"fpr\": 0.3593314763231198, \"tpr\": 0.8887915936952715, \"n\": 359}, {\"threshold\": 0.823, \"p\": 1142, \"fpr\": 0.3593314763231198, \"tpr\": 0.8879159369527145, \"n\": 359}, {\"threshold\": 0.824, \"p\": 1142, \"fpr\": 0.3593314763231198, \"tpr\": 0.8879159369527145, \"n\": 359}, {\"threshold\": 0.825, \"p\": 1142, \"fpr\": 0.3593314763231198, \"tpr\": 0.8879159369527145, \"n\": 359}, {\"threshold\": 0.826, \"p\": 1142, \"fpr\": 0.35376044568245124, \"tpr\": 0.8835376532399299, \"n\": 359}, {\"threshold\": 0.827, \"p\": 1142, \"fpr\": 0.35376044568245124, \"tpr\": 0.882661996497373, \"n\": 359}, {\"threshold\": 0.828, \"p\": 1142, \"fpr\": 0.35376044568245124, \"tpr\": 0.882661996497373, \"n\": 359}, {\"threshold\": 0.829, \"p\": 1142, \"fpr\": 0.35376044568245124, \"tpr\": 0.882661996497373, \"n\": 359}, {\"threshold\": 0.83, \"p\": 1142, \"fpr\": 0.35376044568245124, \"tpr\": 0.882661996497373, \"n\": 359}, {\"threshold\": 0.831, \"p\": 1142, \"fpr\": 0.35376044568245124, \"tpr\": 0.882661996497373, \"n\": 359}, {\"threshold\": 0.832, \"p\": 1142, \"fpr\": 0.35376044568245124, \"tpr\": 0.8817863397548161, \"n\": 359}, {\"threshold\": 0.833, \"p\": 1142, \"fpr\": 0.35376044568245124, \"tpr\": 0.8817863397548161, \"n\": 359}, {\"threshold\": 0.834, \"p\": 1142, \"fpr\": 0.35376044568245124, \"tpr\": 0.8817863397548161, \"n\": 359}, {\"threshold\": 0.835, \"p\": 1142, \"fpr\": 0.35097493036211697, \"tpr\": 0.8817863397548161, \"n\": 359}, {\"threshold\": 0.836, \"p\": 1142, \"fpr\": 0.35097493036211697, \"tpr\": 0.8817863397548161, \"n\": 359}, {\"threshold\": 0.837, \"p\": 1142, \"fpr\": 0.35097493036211697, \"tpr\": 0.8809106830122592, \"n\": 359}, {\"threshold\": 0.838, \"p\": 1142, \"fpr\": 0.35097493036211697, \"tpr\": 0.8800350262697023, \"n\": 359}, {\"threshold\": 0.839, \"p\": 1142, \"fpr\": 0.35097493036211697, \"tpr\": 0.8800350262697023, \"n\": 359}, {\"threshold\": 0.84, \"p\": 1142, \"fpr\": 0.35097493036211697, \"tpr\": 0.8800350262697023, \"n\": 359}, {\"threshold\": 0.841, \"p\": 1142, \"fpr\": 0.35097493036211697, \"tpr\": 0.8791593695271454, \"n\": 359}, {\"threshold\": 0.842, \"p\": 1142, \"fpr\": 0.35097493036211697, \"tpr\": 0.8791593695271454, \"n\": 359}, {\"threshold\": 0.843, \"p\": 1142, \"fpr\": 0.35097493036211697, \"tpr\": 0.8791593695271454, \"n\": 359}, {\"threshold\": 0.844, \"p\": 1142, \"fpr\": 0.35097493036211697, \"tpr\": 0.8782837127845884, \"n\": 359}, {\"threshold\": 0.845, \"p\": 1142, \"fpr\": 0.35097493036211697, \"tpr\": 0.8782837127845884, \"n\": 359}, {\"threshold\": 0.846, \"p\": 1142, \"fpr\": 0.35097493036211697, \"tpr\": 0.8782837127845884, \"n\": 359}, {\"threshold\": 0.847, \"p\": 1142, \"fpr\": 0.35097493036211697, \"tpr\": 0.8782837127845884, \"n\": 359}, {\"threshold\": 0.848, \"p\": 1142, \"fpr\": 0.35097493036211697, \"tpr\": 0.8782837127845884, \"n\": 359}, {\"threshold\": 0.849, \"p\": 1142, \"fpr\": 0.35097493036211697, \"tpr\": 0.8774080560420315, \"n\": 359}, {\"threshold\": 0.85, \"p\": 1142, \"fpr\": 0.34818941504178275, \"tpr\": 0.8774080560420315, \"n\": 359}, {\"threshold\": 0.851, \"p\": 1142, \"fpr\": 0.34818941504178275, \"tpr\": 0.8765323992994746, \"n\": 359}, {\"threshold\": 0.852, \"p\": 1142, \"fpr\": 0.34818941504178275, \"tpr\": 0.8765323992994746, \"n\": 359}, {\"threshold\": 0.853, \"p\": 1142, \"fpr\": 0.34818941504178275, \"tpr\": 0.8756567425569177, \"n\": 359}, {\"threshold\": 0.854, \"p\": 1142, \"fpr\": 0.34818941504178275, \"tpr\": 0.8747810858143608, \"n\": 359}, {\"threshold\": 0.855, \"p\": 1142, \"fpr\": 0.34818941504178275, \"tpr\": 0.8747810858143608, \"n\": 359}, {\"threshold\": 0.856, \"p\": 1142, \"fpr\": 0.34818941504178275, \"tpr\": 0.8747810858143608, \"n\": 359}, {\"threshold\": 0.857, \"p\": 1142, \"fpr\": 0.34818941504178275, \"tpr\": 0.8747810858143608, \"n\": 359}, {\"threshold\": 0.858, \"p\": 1142, \"fpr\": 0.34818941504178275, \"tpr\": 0.8747810858143608, \"n\": 359}, {\"threshold\": 0.859, \"p\": 1142, \"fpr\": 0.34818941504178275, \"tpr\": 0.8739054290718039, \"n\": 359}, {\"threshold\": 0.86, \"p\": 1142, \"fpr\": 0.34818941504178275, \"tpr\": 0.87215411558669, \"n\": 359}, {\"threshold\": 0.861, \"p\": 1142, \"fpr\": 0.34818941504178275, \"tpr\": 0.87215411558669, \"n\": 359}, {\"threshold\": 0.862, \"p\": 1142, \"fpr\": 0.34540389972144847, \"tpr\": 0.8712784588441331, \"n\": 359}, {\"threshold\": 0.863, \"p\": 1142, \"fpr\": 0.34540389972144847, \"tpr\": 0.8712784588441331, \"n\": 359}, {\"threshold\": 0.864, \"p\": 1142, \"fpr\": 0.34540389972144847, \"tpr\": 0.8712784588441331, \"n\": 359}, {\"threshold\": 0.865, \"p\": 1142, \"fpr\": 0.34540389972144847, \"tpr\": 0.8712784588441331, \"n\": 359}, {\"threshold\": 0.866, \"p\": 1142, \"fpr\": 0.34540389972144847, \"tpr\": 0.8712784588441331, \"n\": 359}, {\"threshold\": 0.867, \"p\": 1142, \"fpr\": 0.34540389972144847, \"tpr\": 0.8704028021015762, \"n\": 359}, {\"threshold\": 0.868, \"p\": 1142, \"fpr\": 0.34540389972144847, \"tpr\": 0.8704028021015762, \"n\": 359}, {\"threshold\": 0.869, \"p\": 1142, \"fpr\": 0.34540389972144847, \"tpr\": 0.8704028021015762, \"n\": 359}, {\"threshold\": 0.87, \"p\": 1142, \"fpr\": 0.3426183844011142, \"tpr\": 0.8704028021015762, \"n\": 359}, {\"threshold\": 0.871, \"p\": 1142, \"fpr\": 0.3426183844011142, \"tpr\": 0.8704028021015762, \"n\": 359}, {\"threshold\": 0.872, \"p\": 1142, \"fpr\": 0.3426183844011142, \"tpr\": 0.8704028021015762, \"n\": 359}, {\"threshold\": 0.873, \"p\": 1142, \"fpr\": 0.3426183844011142, \"tpr\": 0.8695271453590193, \"n\": 359}, {\"threshold\": 0.874, \"p\": 1142, \"fpr\": 0.3426183844011142, \"tpr\": 0.8695271453590193, \"n\": 359}, {\"threshold\": 0.875, \"p\": 1142, \"fpr\": 0.3398328690807799, \"tpr\": 0.8695271453590193, \"n\": 359}, {\"threshold\": 0.876, \"p\": 1142, \"fpr\": 0.3398328690807799, \"tpr\": 0.8695271453590193, \"n\": 359}, {\"threshold\": 0.877, \"p\": 1142, \"fpr\": 0.3398328690807799, \"tpr\": 0.8695271453590193, \"n\": 359}, {\"threshold\": 0.878, \"p\": 1142, \"fpr\": 0.3398328690807799, \"tpr\": 0.8695271453590193, \"n\": 359}, {\"threshold\": 0.879, \"p\": 1142, \"fpr\": 0.3398328690807799, \"tpr\": 0.8677758318739054, \"n\": 359}, {\"threshold\": 0.88, \"p\": 1142, \"fpr\": 0.3370473537604457, \"tpr\": 0.8677758318739054, \"n\": 359}, {\"threshold\": 0.881, \"p\": 1142, \"fpr\": 0.3370473537604457, \"tpr\": 0.8669001751313485, \"n\": 359}, {\"threshold\": 0.882, \"p\": 1142, \"fpr\": 0.3370473537604457, \"tpr\": 0.8660245183887916, \"n\": 359}, {\"threshold\": 0.883, \"p\": 1142, \"fpr\": 0.3370473537604457, \"tpr\": 0.8660245183887916, \"n\": 359}, {\"threshold\": 0.884, \"p\": 1142, \"fpr\": 0.3370473537604457, \"tpr\": 0.8660245183887916, \"n\": 359}, {\"threshold\": 0.885, \"p\": 1142, \"fpr\": 0.3370473537604457, \"tpr\": 0.8660245183887916, \"n\": 359}, {\"threshold\": 0.886, \"p\": 1142, \"fpr\": 0.3370473537604457, \"tpr\": 0.8660245183887916, \"n\": 359}, {\"threshold\": 0.887, \"p\": 1142, \"fpr\": 0.3370473537604457, \"tpr\": 0.8660245183887916, \"n\": 359}, {\"threshold\": 0.888, \"p\": 1142, \"fpr\": 0.3370473537604457, \"tpr\": 0.8660245183887916, \"n\": 359}, {\"threshold\": 0.889, \"p\": 1142, \"fpr\": 0.3370473537604457, \"tpr\": 0.8660245183887916, \"n\": 359}, {\"threshold\": 0.89, \"p\": 1142, \"fpr\": 0.3370473537604457, \"tpr\": 0.8651488616462347, \"n\": 359}, {\"threshold\": 0.891, \"p\": 1142, \"fpr\": 0.3370473537604457, \"tpr\": 0.8651488616462347, \"n\": 359}, {\"threshold\": 0.892, \"p\": 1142, \"fpr\": 0.3370473537604457, \"tpr\": 0.8642732049036778, \"n\": 359}, {\"threshold\": 0.893, \"p\": 1142, \"fpr\": 0.3370473537604457, \"tpr\": 0.8642732049036778, \"n\": 359}, {\"threshold\": 0.894, \"p\": 1142, \"fpr\": 0.3370473537604457, \"tpr\": 0.8642732049036778, \"n\": 359}, {\"threshold\": 0.895, \"p\": 1142, \"fpr\": 0.298050139275766, \"tpr\": 0.7740805604203153, \"n\": 359}, {\"threshold\": 0.896, \"p\": 1142, \"fpr\": 0.298050139275766, \"tpr\": 0.7732049036777583, \"n\": 359}, {\"threshold\": 0.897, \"p\": 1142, \"fpr\": 0.298050139275766, \"tpr\": 0.7732049036777583, \"n\": 359}, {\"threshold\": 0.898, \"p\": 1142, \"fpr\": 0.298050139275766, \"tpr\": 0.7705779334500875, \"n\": 359}, {\"threshold\": 0.899, \"p\": 1142, \"fpr\": 0.29526462395543174, \"tpr\": 0.7705779334500875, \"n\": 359}, {\"threshold\": 0.9, \"p\": 1142, \"fpr\": 0.29526462395543174, \"tpr\": 0.7697022767075307, \"n\": 359}, {\"threshold\": 0.901, \"p\": 1142, \"fpr\": 0.29526462395543174, \"tpr\": 0.7688266199649737, \"n\": 359}, {\"threshold\": 0.902, \"p\": 1142, \"fpr\": 0.29526462395543174, \"tpr\": 0.7688266199649737, \"n\": 359}, {\"threshold\": 0.903, \"p\": 1142, \"fpr\": 0.29526462395543174, \"tpr\": 0.7688266199649737, \"n\": 359}, {\"threshold\": 0.904, \"p\": 1142, \"fpr\": 0.29526462395543174, \"tpr\": 0.7679509632224168, \"n\": 359}, {\"threshold\": 0.905, \"p\": 1142, \"fpr\": 0.29526462395543174, \"tpr\": 0.7679509632224168, \"n\": 359}, {\"threshold\": 0.906, \"p\": 1142, \"fpr\": 0.29526462395543174, \"tpr\": 0.7679509632224168, \"n\": 359}, {\"threshold\": 0.907, \"p\": 1142, \"fpr\": 0.2924791086350975, \"tpr\": 0.7679509632224168, \"n\": 359}, {\"threshold\": 0.908, \"p\": 1142, \"fpr\": 0.2924791086350975, \"tpr\": 0.7679509632224168, \"n\": 359}, {\"threshold\": 0.909, \"p\": 1142, \"fpr\": 0.28969359331476324, \"tpr\": 0.7679509632224168, \"n\": 359}, {\"threshold\": 0.91, \"p\": 1142, \"fpr\": 0.28969359331476324, \"tpr\": 0.7679509632224168, \"n\": 359}, {\"threshold\": 0.911, \"p\": 1142, \"fpr\": 0.28969359331476324, \"tpr\": 0.7679509632224168, \"n\": 359}, {\"threshold\": 0.912, \"p\": 1142, \"fpr\": 0.28969359331476324, \"tpr\": 0.7679509632224168, \"n\": 359}, {\"threshold\": 0.913, \"p\": 1142, \"fpr\": 0.28969359331476324, \"tpr\": 0.7679509632224168, \"n\": 359}, {\"threshold\": 0.914, \"p\": 1142, \"fpr\": 0.28969359331476324, \"tpr\": 0.7679509632224168, \"n\": 359}, {\"threshold\": 0.915, \"p\": 1142, \"fpr\": 0.28969359331476324, \"tpr\": 0.7679509632224168, \"n\": 359}, {\"threshold\": 0.916, \"p\": 1142, \"fpr\": 0.28969359331476324, \"tpr\": 0.7670753064798599, \"n\": 359}, {\"threshold\": 0.917, \"p\": 1142, \"fpr\": 0.28969359331476324, \"tpr\": 0.7670753064798599, \"n\": 359}, {\"threshold\": 0.918, \"p\": 1142, \"fpr\": 0.28969359331476324, \"tpr\": 0.7670753064798599, \"n\": 359}, {\"threshold\": 0.919, \"p\": 1142, \"fpr\": 0.28969359331476324, \"tpr\": 0.7670753064798599, \"n\": 359}, {\"threshold\": 0.92, \"p\": 1142, \"fpr\": 0.28969359331476324, \"tpr\": 0.7661996497373029, \"n\": 359}, {\"threshold\": 0.921, \"p\": 1142, \"fpr\": 0.28969359331476324, \"tpr\": 0.7661996497373029, \"n\": 359}, {\"threshold\": 0.922, \"p\": 1142, \"fpr\": 0.28690807799442897, \"tpr\": 0.7661996497373029, \"n\": 359}, {\"threshold\": 0.923, \"p\": 1142, \"fpr\": 0.28690807799442897, \"tpr\": 0.7661996497373029, \"n\": 359}, {\"threshold\": 0.924, \"p\": 1142, \"fpr\": 0.28690807799442897, \"tpr\": 0.7661996497373029, \"n\": 359}, {\"threshold\": 0.925, \"p\": 1142, \"fpr\": 0.28690807799442897, \"tpr\": 0.7661996497373029, \"n\": 359}, {\"threshold\": 0.926, \"p\": 1142, \"fpr\": 0.28690807799442897, \"tpr\": 0.7661996497373029, \"n\": 359}, {\"threshold\": 0.927, \"p\": 1142, \"fpr\": 0.28690807799442897, \"tpr\": 0.7653239929947461, \"n\": 359}, {\"threshold\": 0.928, \"p\": 1142, \"fpr\": 0.28690807799442897, \"tpr\": 0.7653239929947461, \"n\": 359}, {\"threshold\": 0.929, \"p\": 1142, \"fpr\": 0.28690807799442897, \"tpr\": 0.7653239929947461, \"n\": 359}, {\"threshold\": 0.93, \"p\": 1142, \"fpr\": 0.28690807799442897, \"tpr\": 0.7653239929947461, \"n\": 359}, {\"threshold\": 0.931, \"p\": 1142, \"fpr\": 0.28690807799442897, \"tpr\": 0.7635726795096323, \"n\": 359}, {\"threshold\": 0.932, \"p\": 1142, \"fpr\": 0.2841225626740947, \"tpr\": 0.7626970227670753, \"n\": 359}, {\"threshold\": 0.933, \"p\": 1142, \"fpr\": 0.2841225626740947, \"tpr\": 0.7626970227670753, \"n\": 359}, {\"threshold\": 0.934, \"p\": 1142, \"fpr\": 0.2841225626740947, \"tpr\": 0.7626970227670753, \"n\": 359}, {\"threshold\": 0.935, \"p\": 1142, \"fpr\": 0.2841225626740947, \"tpr\": 0.7609457092819615, \"n\": 359}, {\"threshold\": 0.936, \"p\": 1142, \"fpr\": 0.2841225626740947, \"tpr\": 0.7609457092819615, \"n\": 359}, {\"threshold\": 0.937, \"p\": 1142, \"fpr\": 0.2841225626740947, \"tpr\": 0.7609457092819615, \"n\": 359}, {\"threshold\": 0.938, \"p\": 1142, \"fpr\": 0.2841225626740947, \"tpr\": 0.7600700525394045, \"n\": 359}, {\"threshold\": 0.939, \"p\": 1142, \"fpr\": 0.2841225626740947, \"tpr\": 0.7591943957968477, \"n\": 359}, {\"threshold\": 0.94, \"p\": 1142, \"fpr\": 0.2841225626740947, \"tpr\": 0.7591943957968477, \"n\": 359}, {\"threshold\": 0.941, \"p\": 1142, \"fpr\": 0.28133704735376047, \"tpr\": 0.7583187390542907, \"n\": 359}, {\"threshold\": 0.942, \"p\": 1142, \"fpr\": 0.28133704735376047, \"tpr\": 0.7583187390542907, \"n\": 359}, {\"threshold\": 0.943, \"p\": 1142, \"fpr\": 0.28133704735376047, \"tpr\": 0.7565674255691769, \"n\": 359}, {\"threshold\": 0.944, \"p\": 1142, \"fpr\": 0.28133704735376047, \"tpr\": 0.7548161120840631, \"n\": 359}, {\"threshold\": 0.945, \"p\": 1142, \"fpr\": 0.28133704735376047, \"tpr\": 0.7539404553415061, \"n\": 359}, {\"threshold\": 0.946, \"p\": 1142, \"fpr\": 0.28133704735376047, \"tpr\": 0.7530647985989493, \"n\": 359}, {\"threshold\": 0.947, \"p\": 1142, \"fpr\": 0.2785515320334262, \"tpr\": 0.7521891418563923, \"n\": 359}, {\"threshold\": 0.948, \"p\": 1142, \"fpr\": 0.2785515320334262, \"tpr\": 0.7495621716287215, \"n\": 359}, {\"threshold\": 0.949, \"p\": 1142, \"fpr\": 0.2785515320334262, \"tpr\": 0.7486865148861647, \"n\": 359}, {\"threshold\": 0.95, \"p\": 1142, \"fpr\": 0.2757660167130919, \"tpr\": 0.7460595446584939, \"n\": 359}, {\"threshold\": 0.951, \"p\": 1142, \"fpr\": 0.2757660167130919, \"tpr\": 0.7460595446584939, \"n\": 359}, {\"threshold\": 0.952, \"p\": 1142, \"fpr\": 0.2757660167130919, \"tpr\": 0.7443082311733801, \"n\": 359}, {\"threshold\": 0.953, \"p\": 1142, \"fpr\": 0.2757660167130919, \"tpr\": 0.7443082311733801, \"n\": 359}, {\"threshold\": 0.954, \"p\": 1142, \"fpr\": 0.2757660167130919, \"tpr\": 0.7425569176882661, \"n\": 359}, {\"threshold\": 0.955, \"p\": 1142, \"fpr\": 0.2757660167130919, \"tpr\": 0.7425569176882661, \"n\": 359}, {\"threshold\": 0.956, \"p\": 1142, \"fpr\": 0.2757660167130919, \"tpr\": 0.7399299474605955, \"n\": 359}, {\"threshold\": 0.957, \"p\": 1142, \"fpr\": 0.2757660167130919, \"tpr\": 0.7399299474605955, \"n\": 359}, {\"threshold\": 0.958, \"p\": 1142, \"fpr\": 0.27298050139275765, \"tpr\": 0.7373029772329247, \"n\": 359}, {\"threshold\": 0.959, \"p\": 1142, \"fpr\": 0.27298050139275765, \"tpr\": 0.7364273204903677, \"n\": 359}, {\"threshold\": 0.96, \"p\": 1142, \"fpr\": 0.27298050139275765, \"tpr\": 0.7364273204903677, \"n\": 359}, {\"threshold\": 0.961, \"p\": 1142, \"fpr\": 0.27298050139275765, \"tpr\": 0.7346760070052539, \"n\": 359}, {\"threshold\": 0.962, \"p\": 1142, \"fpr\": 0.27298050139275765, \"tpr\": 0.7338003502626971, \"n\": 359}, {\"threshold\": 0.963, \"p\": 1142, \"fpr\": 0.27298050139275765, \"tpr\": 0.7311733800350263, \"n\": 359}, {\"threshold\": 0.964, \"p\": 1142, \"fpr\": 0.27298050139275765, \"tpr\": 0.7302977232924693, \"n\": 359}, {\"threshold\": 0.965, \"p\": 1142, \"fpr\": 0.26740947075208915, \"tpr\": 0.7294220665499125, \"n\": 359}, {\"threshold\": 0.966, \"p\": 1142, \"fpr\": 0.26740947075208915, \"tpr\": 0.7267950963222417, \"n\": 359}, {\"threshold\": 0.967, \"p\": 1142, \"fpr\": 0.26740947075208915, \"tpr\": 0.7267950963222417, \"n\": 359}, {\"threshold\": 0.968, \"p\": 1142, \"fpr\": 0.2646239554317549, \"tpr\": 0.7259194395796847, \"n\": 359}, {\"threshold\": 0.969, \"p\": 1142, \"fpr\": 0.2618384401114206, \"tpr\": 0.7250437828371279, \"n\": 359}, {\"threshold\": 0.97, \"p\": 1142, \"fpr\": 0.2562674094707521, \"tpr\": 0.7206654991243433, \"n\": 359}, {\"threshold\": 0.971, \"p\": 1142, \"fpr\": 0.25348189415041783, \"tpr\": 0.7180385288966725, \"n\": 359}, {\"threshold\": 0.972, \"p\": 1142, \"fpr\": 0.25348189415041783, \"tpr\": 0.7162872154115587, \"n\": 359}, {\"threshold\": 0.973, \"p\": 1142, \"fpr\": 0.25348189415041783, \"tpr\": 0.7162872154115587, \"n\": 359}, {\"threshold\": 0.974, \"p\": 1142, \"fpr\": 0.25348189415041783, \"tpr\": 0.7136602451838879, \"n\": 359}, {\"threshold\": 0.975, \"p\": 1142, \"fpr\": 0.25069637883008355, \"tpr\": 0.7101576182136602, \"n\": 359}, {\"threshold\": 0.976, \"p\": 1142, \"fpr\": 0.25069637883008355, \"tpr\": 0.7092819614711033, \"n\": 359}, {\"threshold\": 0.977, \"p\": 1142, \"fpr\": 0.25069637883008355, \"tpr\": 0.7049036777583187, \"n\": 359}, {\"threshold\": 0.978, \"p\": 1142, \"fpr\": 0.2479108635097493, \"tpr\": 0.702276707530648, \"n\": 359}, {\"threshold\": 0.979, \"p\": 1142, \"fpr\": 0.24512534818941503, \"tpr\": 0.7005253940455342, \"n\": 359}, {\"threshold\": 0.98, \"p\": 1142, \"fpr\": 0.24233983286908078, \"tpr\": 0.6996497373029772, \"n\": 359}, {\"threshold\": 0.981, \"p\": 1142, \"fpr\": 0.2395543175487465, \"tpr\": 0.6952714535901926, \"n\": 359}, {\"threshold\": 0.982, \"p\": 1142, \"fpr\": 0.2395543175487465, \"tpr\": 0.6926444833625219, \"n\": 359}, {\"threshold\": 0.983, \"p\": 1142, \"fpr\": 0.23676880222841226, \"tpr\": 0.6891418563922942, \"n\": 359}, {\"threshold\": 0.984, \"p\": 1142, \"fpr\": 0.23676880222841226, \"tpr\": 0.6865148861646234, \"n\": 359}, {\"threshold\": 0.985, \"p\": 1142, \"fpr\": 0.23676880222841226, \"tpr\": 0.6838879159369528, \"n\": 359}, {\"threshold\": 0.986, \"p\": 1142, \"fpr\": 0.23676880222841226, \"tpr\": 0.6786339754816112, \"n\": 359}, {\"threshold\": 0.987, \"p\": 1142, \"fpr\": 0.23676880222841226, \"tpr\": 0.6760070052539404, \"n\": 359}, {\"threshold\": 0.988, \"p\": 1142, \"fpr\": 0.23676880222841226, \"tpr\": 0.6733800350262698, \"n\": 359}, {\"threshold\": 0.989, \"p\": 1142, \"fpr\": 0.233983286908078, \"tpr\": 0.6690017513134852, \"n\": 359}, {\"threshold\": 0.99, \"p\": 1142, \"fpr\": 0.233983286908078, \"tpr\": 0.6646234676007006, \"n\": 359}, {\"threshold\": 0.991, \"p\": 1142, \"fpr\": 0.22562674094707522, \"tpr\": 0.660245183887916, \"n\": 359}, {\"threshold\": 0.992, \"p\": 1142, \"fpr\": 0.22562674094707522, \"tpr\": 0.6549912434325744, \"n\": 359}, {\"threshold\": 0.993, \"p\": 1142, \"fpr\": 0.22284122562674094, \"tpr\": 0.649737302977233, \"n\": 359}, {\"threshold\": 0.994, \"p\": 1142, \"fpr\": 0.22284122562674094, \"tpr\": 0.6436077057793345, \"n\": 359}, {\"threshold\": 0.995, \"p\": 1142, \"fpr\": 0.2200557103064067, \"tpr\": 0.62784588441331, \"n\": 359}, {\"threshold\": 0.996, \"p\": 1142, \"fpr\": 0.20891364902506965, \"tpr\": 0.617338003502627, \"n\": 359}, {\"threshold\": 0.997, \"p\": 1142, \"fpr\": 0.20334261838440112, \"tpr\": 0.5954465849387041, \"n\": 359}, {\"threshold\": 0.998, \"p\": 1142, \"fpr\": 0.1894150417827298, \"tpr\": 0.5709281961471103, \"n\": 359}, {\"threshold\": 0.999, \"p\": 1142, \"fpr\": 0.16991643454038996, \"tpr\": 0.5359019264448336, \"n\": 359}, {\"threshold\": 1.0, \"p\": 1142, \"fpr\": 0.0, \"tpr\": 0.0, \"n\": 359}]}]], \"type\": \"Model\"}, \"ipython\": true, \"view_params\": {\"model_type\": \"regression\", \"view\": \"Evaluation\"}, \"model_type\": \"regression\", \"attributes\": {\"section_titles\": [\"Schema\", \"Hyperparameters\", \"Training Summary\", \"Settings\", \"Highest Positive Coefficients\", \"Lowest Negative Coefficients\"], \"sections\": [[[\"Number of coefficients\", 9245], [\"Number of examples\", 5772], [\"Number of classes\", 2], [\"Number of feature columns\", 1], [\"Number of unpacked features\", 9244]], [[\"L1 penalty\", 0.0], [\"L2 penalty\", 0.01]], [[\"Solver\", \"lbfgs\"], [\"Solver iterations\", 20], [\"Solver status\", \"TERMINATED: Iteration limit reached.\"], [\"Training time (sec)\", 1.4196]], [[\"Log-likelihood\", 166.4934]], [[\"word_count[previously,]\", 23.7833], [\"word_count[this.....]\", 22.6908], [\"word_count[chaps!]\", 19.097], [\"word_count[price:]\", 16.1137], [\"word_count[otm]\", 15.489]], [[\"word_count[today....]\", -22.6081], [\"word_count[puts!]\", -21.9633], [\"word_count[(shorts)]\", -19.4759], [\"word_count[accenture]\", -19.2603], [\"word_count[aprox]\", -19.1244]]]}, \"evaluations\": [[\"test_data\", {\"roc_curve\": [{\"threshold\": 0.0, \"p\": 1142, \"fpr\": 1.0, \"tpr\": 1.0, \"n\": 359}, {\"threshold\": 0.001, \"p\": 1142, \"fpr\": 0.6824512534818942, \"tpr\": 0.9824868651488616, \"n\": 359}, {\"threshold\": 0.002, \"p\": 1142, \"fpr\": 0.637883008356546, \"tpr\": 0.9798598949211909, \"n\": 359}, {\"threshold\": 0.003, \"p\": 1142, \"fpr\": 0.6295264623955432, \"tpr\": 0.9763572679509632, \"n\": 359}, {\"threshold\": 0.004, \"p\": 1142, \"fpr\": 0.6211699164345403, \"tpr\": 0.9746059544658494, \"n\": 359}, {\"threshold\": 0.005, \"p\": 1142, \"fpr\": 0.6128133704735376, \"tpr\": 0.9737302977232924, \"n\": 359}, {\"threshold\": 0.006, \"p\": 1142, \"fpr\": 0.6100278551532033, \"tpr\": 0.9737302977232924, \"n\": 359}, {\"threshold\": 0.007, \"p\": 1142, \"fpr\": 0.6016713091922006, \"tpr\": 0.9737302977232924, \"n\": 359}, {\"threshold\": 0.008, \"p\": 1142, \"fpr\": 0.596100278551532, \"tpr\": 0.9737302977232924, \"n\": 359}, {\"threshold\": 0.009, \"p\": 1142, \"fpr\": 0.5905292479108635, \"tpr\": 0.9728546409807356, \"n\": 359}, {\"threshold\": 0.01, \"p\": 1142, \"fpr\": 0.5793871866295265, \"tpr\": 0.9719789842381786, \"n\": 359}, {\"threshold\": 0.011, \"p\": 1142, \"fpr\": 0.5654596100278552, \"tpr\": 0.9711033274956217, \"n\": 359}, {\"threshold\": 0.012, \"p\": 1142, \"fpr\": 0.5571030640668524, \"tpr\": 0.9702276707530648, \"n\": 359}, {\"threshold\": 0.013, \"p\": 1142, \"fpr\": 0.5543175487465181, \"tpr\": 0.967600700525394, \"n\": 359}, {\"threshold\": 0.014, \"p\": 1142, \"fpr\": 0.5431754874651811, \"tpr\": 0.967600700525394, \"n\": 359}, {\"threshold\": 0.015, \"p\": 1142, \"fpr\": 0.5376044568245125, \"tpr\": 0.967600700525394, \"n\": 359}, {\"threshold\": 0.016, \"p\": 1142, \"fpr\": 0.5376044568245125, \"tpr\": 0.967600700525394, \"n\": 359}, {\"threshold\": 0.017, \"p\": 1142, \"fpr\": 0.5376044568245125, \"tpr\": 0.9667250437828371, \"n\": 359}, {\"threshold\": 0.018, \"p\": 1142, \"fpr\": 0.5376044568245125, \"tpr\": 0.9649737302977233, \"n\": 359}, {\"threshold\": 0.019, \"p\": 1142, \"fpr\": 0.5348189415041783, \"tpr\": 0.9632224168126094, \"n\": 359}, {\"threshold\": 0.02, \"p\": 1142, \"fpr\": 0.5348189415041783, \"tpr\": 0.9605954465849387, \"n\": 359}, {\"threshold\": 0.021, \"p\": 1142, \"fpr\": 0.532033426183844, \"tpr\": 0.9597197898423818, \"n\": 359}, {\"threshold\": 0.022, \"p\": 1142, \"fpr\": 0.532033426183844, \"tpr\": 0.9597197898423818, \"n\": 359}, {\"threshold\": 0.023, \"p\": 1142, \"fpr\": 0.532033426183844, \"tpr\": 0.9597197898423818, \"n\": 359}, {\"threshold\": 0.024, \"p\": 1142, \"fpr\": 0.5264623955431755, \"tpr\": 0.9588441330998249, \"n\": 359}, {\"threshold\": 0.025, \"p\": 1142, \"fpr\": 0.5264623955431755, \"tpr\": 0.9588441330998249, \"n\": 359}, {\"threshold\": 0.026, \"p\": 1142, \"fpr\": 0.5236768802228412, \"tpr\": 0.957092819614711, \"n\": 359}, {\"threshold\": 0.027, \"p\": 1142, \"fpr\": 0.5181058495821727, \"tpr\": 0.9562171628721541, \"n\": 359}, {\"threshold\": 0.028, \"p\": 1142, \"fpr\": 0.5181058495821727, \"tpr\": 0.9562171628721541, \"n\": 359}, {\"threshold\": 0.029, \"p\": 1142, \"fpr\": 0.5153203342618384, \"tpr\": 0.9562171628721541, \"n\": 359}, {\"threshold\": 0.03, \"p\": 1142, \"fpr\": 0.5153203342618384, \"tpr\": 0.9562171628721541, \"n\": 359}, {\"threshold\": 0.031, \"p\": 1142, \"fpr\": 0.5153203342618384, \"tpr\": 0.9562171628721541, \"n\": 359}, {\"threshold\": 0.032, \"p\": 1142, \"fpr\": 0.5153203342618384, \"tpr\": 0.9562171628721541, \"n\": 359}, {\"threshold\": 0.033, \"p\": 1142, \"fpr\": 0.5153203342618384, \"tpr\": 0.9562171628721541, \"n\": 359}, {\"threshold\": 0.034, \"p\": 1142, \"fpr\": 0.5125348189415042, \"tpr\": 0.9562171628721541, \"n\": 359}, {\"threshold\": 0.035, \"p\": 1142, \"fpr\": 0.5125348189415042, \"tpr\": 0.9562171628721541, \"n\": 359}, {\"threshold\": 0.036, \"p\": 1142, \"fpr\": 0.5097493036211699, \"tpr\": 0.9544658493870403, \"n\": 359}, {\"threshold\": 0.037, \"p\": 1142, \"fpr\": 0.5069637883008357, \"tpr\": 0.9535901926444834, \"n\": 359}, {\"threshold\": 0.038, \"p\": 1142, \"fpr\": 0.5069637883008357, \"tpr\": 0.9535901926444834, \"n\": 359}, {\"threshold\": 0.039, \"p\": 1142, \"fpr\": 0.5041782729805014, \"tpr\": 0.9535901926444834, \"n\": 359}, {\"threshold\": 0.04, \"p\": 1142, \"fpr\": 0.5013927576601671, \"tpr\": 0.9535901926444834, \"n\": 359}, {\"threshold\": 0.041, \"p\": 1142, \"fpr\": 0.5013927576601671, \"tpr\": 0.9535901926444834, \"n\": 359}, {\"threshold\": 0.042, \"p\": 1142, \"fpr\": 0.5013927576601671, \"tpr\": 0.9535901926444834, \"n\": 359}, {\"threshold\": 0.043, \"p\": 1142, \"fpr\": 0.5013927576601671, \"tpr\": 0.9535901926444834, \"n\": 359}, {\"threshold\": 0.044, \"p\": 1142, \"fpr\": 0.5013927576601671, \"tpr\": 0.9535901926444834, \"n\": 359}, {\"threshold\": 0.045, \"p\": 1142, \"fpr\": 0.5013927576601671, \"tpr\": 0.9535901926444834, \"n\": 359}, {\"threshold\": 0.046, \"p\": 1142, \"fpr\": 0.4958217270194986, \"tpr\": 0.9535901926444834, \"n\": 359}, {\"threshold\": 0.047, \"p\": 1142, \"fpr\": 0.4958217270194986, \"tpr\": 0.9527145359019265, \"n\": 359}, {\"threshold\": 0.048, \"p\": 1142, \"fpr\": 0.4958217270194986, \"tpr\": 0.9527145359019265, \"n\": 359}, {\"threshold\": 0.049, \"p\": 1142, \"fpr\": 0.4958217270194986, \"tpr\": 0.9527145359019265, \"n\": 359}, {\"threshold\": 0.05, \"p\": 1142, \"fpr\": 0.4958217270194986, \"tpr\": 0.9527145359019265, \"n\": 359}, {\"threshold\": 0.051, \"p\": 1142, \"fpr\": 0.4958217270194986, \"tpr\": 0.9527145359019265, \"n\": 359}, {\"threshold\": 0.052, \"p\": 1142, \"fpr\": 0.4958217270194986, \"tpr\": 0.9518388791593695, \"n\": 359}, {\"threshold\": 0.053, \"p\": 1142, \"fpr\": 0.4958217270194986, \"tpr\": 0.9518388791593695, \"n\": 359}, {\"threshold\": 0.054, \"p\": 1142, \"fpr\": 0.4958217270194986, \"tpr\": 0.9518388791593695, \"n\": 359}, {\"threshold\": 0.055, \"p\": 1142, \"fpr\": 0.4958217270194986, \"tpr\": 0.9518388791593695, \"n\": 359}, {\"threshold\": 0.056, \"p\": 1142, \"fpr\": 0.49303621169916434, \"tpr\": 0.9518388791593695, \"n\": 359}, {\"threshold\": 0.057, \"p\": 1142, \"fpr\": 0.49025069637883006, \"tpr\": 0.9518388791593695, \"n\": 359}, {\"threshold\": 0.058, \"p\": 1142, \"fpr\": 0.49025069637883006, \"tpr\": 0.9518388791593695, \"n\": 359}, {\"threshold\": 0.059, \"p\": 1142, \"fpr\": 0.48746518105849584, \"tpr\": 0.9518388791593695, \"n\": 359}, {\"threshold\": 0.06, \"p\": 1142, \"fpr\": 0.48746518105849584, \"tpr\": 0.9518388791593695, \"n\": 359}, {\"threshold\": 0.061, \"p\": 1142, \"fpr\": 0.48746518105849584, \"tpr\": 0.9518388791593695, \"n\": 359}, {\"threshold\": 0.062, \"p\": 1142, \"fpr\": 0.48746518105849584, \"tpr\": 0.9518388791593695, \"n\": 359}, {\"threshold\": 0.063, \"p\": 1142, \"fpr\": 0.48467966573816157, \"tpr\": 0.9518388791593695, \"n\": 359}, {\"threshold\": 0.064, \"p\": 1142, \"fpr\": 0.479108635097493, \"tpr\": 0.9518388791593695, \"n\": 359}, {\"threshold\": 0.065, \"p\": 1142, \"fpr\": 0.479108635097493, \"tpr\": 0.9518388791593695, \"n\": 359}, {\"threshold\": 0.066, \"p\": 1142, \"fpr\": 0.479108635097493, \"tpr\": 0.9518388791593695, \"n\": 359}, {\"threshold\": 0.067, \"p\": 1142, \"fpr\": 0.479108635097493, \"tpr\": 0.9518388791593695, \"n\": 359}, {\"threshold\": 0.068, \"p\": 1142, \"fpr\": 0.4735376044568245, \"tpr\": 0.9518388791593695, \"n\": 359}, {\"threshold\": 0.069, \"p\": 1142, \"fpr\": 0.4735376044568245, \"tpr\": 0.9518388791593695, \"n\": 359}, {\"threshold\": 0.07, \"p\": 1142, \"fpr\": 0.47075208913649025, \"tpr\": 0.9518388791593695, \"n\": 359}, {\"threshold\": 0.071, \"p\": 1142, \"fpr\": 0.47075208913649025, \"tpr\": 0.9518388791593695, \"n\": 359}, {\"threshold\": 0.072, \"p\": 1142, \"fpr\": 0.467966573816156, \"tpr\": 0.9518388791593695, \"n\": 359}, {\"threshold\": 0.073, \"p\": 1142, \"fpr\": 0.467966573816156, \"tpr\": 0.9518388791593695, \"n\": 359}, {\"threshold\": 0.074, \"p\": 1142, \"fpr\": 0.46518105849582175, \"tpr\": 0.9518388791593695, \"n\": 359}, {\"threshold\": 0.075, \"p\": 1142, \"fpr\": 0.46518105849582175, \"tpr\": 0.9518388791593695, \"n\": 359}, {\"threshold\": 0.076, \"p\": 1142, \"fpr\": 0.46518105849582175, \"tpr\": 0.9518388791593695, \"n\": 359}, {\"threshold\": 0.077, \"p\": 1142, \"fpr\": 0.46518105849582175, \"tpr\": 0.9518388791593695, \"n\": 359}, {\"threshold\": 0.078, \"p\": 1142, \"fpr\": 0.46518105849582175, \"tpr\": 0.9518388791593695, \"n\": 359}, {\"threshold\": 0.079, \"p\": 1142, \"fpr\": 0.46518105849582175, \"tpr\": 0.9518388791593695, \"n\": 359}, {\"threshold\": 0.08, \"p\": 1142, \"fpr\": 0.46518105849582175, \"tpr\": 0.9518388791593695, \"n\": 359}, {\"threshold\": 0.081, \"p\": 1142, \"fpr\": 0.4623955431754875, \"tpr\": 0.9518388791593695, \"n\": 359}, {\"threshold\": 0.082, \"p\": 1142, \"fpr\": 0.4623955431754875, \"tpr\": 0.9518388791593695, \"n\": 359}, {\"threshold\": 0.083, \"p\": 1142, \"fpr\": 0.4623955431754875, \"tpr\": 0.9518388791593695, \"n\": 359}, {\"threshold\": 0.084, \"p\": 1142, \"fpr\": 0.4623955431754875, \"tpr\": 0.9518388791593695, \"n\": 359}, {\"threshold\": 0.085, \"p\": 1142, \"fpr\": 0.4623955431754875, \"tpr\": 0.9518388791593695, \"n\": 359}, {\"threshold\": 0.086, \"p\": 1142, \"fpr\": 0.4596100278551532, \"tpr\": 0.9518388791593695, \"n\": 359}, {\"threshold\": 0.087, \"p\": 1142, \"fpr\": 0.4596100278551532, \"tpr\": 0.9509632224168126, \"n\": 359}, {\"threshold\": 0.088, \"p\": 1142, \"fpr\": 0.4596100278551532, \"tpr\": 0.9509632224168126, \"n\": 359}, {\"threshold\": 0.089, \"p\": 1142, \"fpr\": 0.4596100278551532, \"tpr\": 0.9509632224168126, \"n\": 359}, {\"threshold\": 0.09, \"p\": 1142, \"fpr\": 0.4596100278551532, \"tpr\": 0.9500875656742557, \"n\": 359}, {\"threshold\": 0.091, \"p\": 1142, \"fpr\": 0.4596100278551532, \"tpr\": 0.9492119089316988, \"n\": 359}, {\"threshold\": 0.092, \"p\": 1142, \"fpr\": 0.4596100278551532, \"tpr\": 0.9492119089316988, \"n\": 359}, {\"threshold\": 0.093, \"p\": 1142, \"fpr\": 0.4596100278551532, \"tpr\": 0.9492119089316988, \"n\": 359}, {\"threshold\": 0.094, \"p\": 1142, \"fpr\": 0.4596100278551532, \"tpr\": 0.9492119089316988, \"n\": 359}, {\"threshold\": 0.095, \"p\": 1142, \"fpr\": 0.4596100278551532, \"tpr\": 0.9492119089316988, \"n\": 359}, {\"threshold\": 0.096, \"p\": 1142, \"fpr\": 0.4596100278551532, \"tpr\": 0.9492119089316988, \"n\": 359}, {\"threshold\": 0.097, \"p\": 1142, \"fpr\": 0.4596100278551532, \"tpr\": 0.9492119089316988, \"n\": 359}, {\"threshold\": 0.098, \"p\": 1142, \"fpr\": 0.4596100278551532, \"tpr\": 0.9492119089316988, \"n\": 359}, {\"threshold\": 0.099, \"p\": 1142, \"fpr\": 0.4596100278551532, \"tpr\": 0.9492119089316988, \"n\": 359}, {\"threshold\": 0.1, \"p\": 1142, \"fpr\": 0.4596100278551532, \"tpr\": 0.9483362521891419, \"n\": 359}, {\"threshold\": 0.101, \"p\": 1142, \"fpr\": 0.4596100278551532, \"tpr\": 0.9483362521891419, \"n\": 359}, {\"threshold\": 0.102, \"p\": 1142, \"fpr\": 0.4596100278551532, \"tpr\": 0.9483362521891419, \"n\": 359}, {\"threshold\": 0.103, \"p\": 1142, \"fpr\": 0.4568245125348189, \"tpr\": 0.9483362521891419, \"n\": 359}, {\"threshold\": 0.104, \"p\": 1142, \"fpr\": 0.4568245125348189, \"tpr\": 0.9483362521891419, \"n\": 359}, {\"threshold\": 0.105, \"p\": 1142, \"fpr\": 0.4568245125348189, \"tpr\": 0.9483362521891419, \"n\": 359}, {\"threshold\": 0.106, \"p\": 1142, \"fpr\": 0.4568245125348189, \"tpr\": 0.9483362521891419, \"n\": 359}, {\"threshold\": 0.107, \"p\": 1142, \"fpr\": 0.4568245125348189, \"tpr\": 0.9483362521891419, \"n\": 359}, {\"threshold\": 0.108, \"p\": 1142, \"fpr\": 0.4568245125348189, \"tpr\": 0.9483362521891419, \"n\": 359}, {\"threshold\": 0.109, \"p\": 1142, \"fpr\": 0.4568245125348189, \"tpr\": 0.9483362521891419, \"n\": 359}, {\"threshold\": 0.11, \"p\": 1142, \"fpr\": 0.4568245125348189, \"tpr\": 0.9483362521891419, \"n\": 359}, {\"threshold\": 0.111, \"p\": 1142, \"fpr\": 0.4568245125348189, \"tpr\": 0.9483362521891419, \"n\": 359}, {\"threshold\": 0.112, \"p\": 1142, \"fpr\": 0.4568245125348189, \"tpr\": 0.9483362521891419, \"n\": 359}, {\"threshold\": 0.113, \"p\": 1142, \"fpr\": 0.4568245125348189, \"tpr\": 0.9483362521891419, \"n\": 359}, {\"threshold\": 0.114, \"p\": 1142, \"fpr\": 0.4568245125348189, \"tpr\": 0.9483362521891419, \"n\": 359}, {\"threshold\": 0.115, \"p\": 1142, \"fpr\": 0.4568245125348189, \"tpr\": 0.9483362521891419, \"n\": 359}, {\"threshold\": 0.116, \"p\": 1142, \"fpr\": 0.4568245125348189, \"tpr\": 0.9483362521891419, \"n\": 359}, {\"threshold\": 0.117, \"p\": 1142, \"fpr\": 0.4568245125348189, \"tpr\": 0.9474605954465849, \"n\": 359}, {\"threshold\": 0.118, \"p\": 1142, \"fpr\": 0.4568245125348189, \"tpr\": 0.9474605954465849, \"n\": 359}, {\"threshold\": 0.119, \"p\": 1142, \"fpr\": 0.45403899721448465, \"tpr\": 0.9474605954465849, \"n\": 359}, {\"threshold\": 0.12, \"p\": 1142, \"fpr\": 0.45403899721448465, \"tpr\": 0.9474605954465849, \"n\": 359}, {\"threshold\": 0.121, \"p\": 1142, \"fpr\": 0.45125348189415043, \"tpr\": 0.9474605954465849, \"n\": 359}, {\"threshold\": 0.122, \"p\": 1142, \"fpr\": 0.44846796657381616, \"tpr\": 0.946584938704028, \"n\": 359}, {\"threshold\": 0.123, \"p\": 1142, \"fpr\": 0.44846796657381616, \"tpr\": 0.946584938704028, \"n\": 359}, {\"threshold\": 0.124, \"p\": 1142, \"fpr\": 0.44846796657381616, \"tpr\": 0.946584938704028, \"n\": 359}, {\"threshold\": 0.125, \"p\": 1142, \"fpr\": 0.44846796657381616, \"tpr\": 0.946584938704028, \"n\": 359}, {\"threshold\": 0.126, \"p\": 1142, \"fpr\": 0.44846796657381616, \"tpr\": 0.9457092819614711, \"n\": 359}, {\"threshold\": 0.127, \"p\": 1142, \"fpr\": 0.44846796657381616, \"tpr\": 0.9457092819614711, \"n\": 359}, {\"threshold\": 0.128, \"p\": 1142, \"fpr\": 0.44846796657381616, \"tpr\": 0.9457092819614711, \"n\": 359}, {\"threshold\": 0.129, \"p\": 1142, \"fpr\": 0.44846796657381616, \"tpr\": 0.9457092819614711, \"n\": 359}, {\"threshold\": 0.13, \"p\": 1142, \"fpr\": 0.44846796657381616, \"tpr\": 0.9448336252189142, \"n\": 359}, {\"threshold\": 0.131, \"p\": 1142, \"fpr\": 0.44846796657381616, \"tpr\": 0.9448336252189142, \"n\": 359}, {\"threshold\": 0.132, \"p\": 1142, \"fpr\": 0.44846796657381616, \"tpr\": 0.9448336252189142, \"n\": 359}, {\"threshold\": 0.133, \"p\": 1142, \"fpr\": 0.44846796657381616, \"tpr\": 0.9448336252189142, \"n\": 359}, {\"threshold\": 0.134, \"p\": 1142, \"fpr\": 0.44846796657381616, \"tpr\": 0.9448336252189142, \"n\": 359}, {\"threshold\": 0.135, \"p\": 1142, \"fpr\": 0.44846796657381616, \"tpr\": 0.9448336252189142, \"n\": 359}, {\"threshold\": 0.136, \"p\": 1142, \"fpr\": 0.44846796657381616, \"tpr\": 0.9448336252189142, \"n\": 359}, {\"threshold\": 0.137, \"p\": 1142, \"fpr\": 0.44846796657381616, \"tpr\": 0.9448336252189142, \"n\": 359}, {\"threshold\": 0.138, \"p\": 1142, \"fpr\": 0.44846796657381616, \"tpr\": 0.9448336252189142, \"n\": 359}, {\"threshold\": 0.139, \"p\": 1142, \"fpr\": 0.4456824512534819, \"tpr\": 0.9448336252189142, \"n\": 359}, {\"threshold\": 0.14, \"p\": 1142, \"fpr\": 0.4456824512534819, \"tpr\": 0.9448336252189142, \"n\": 359}, {\"threshold\": 0.141, \"p\": 1142, \"fpr\": 0.4456824512534819, \"tpr\": 0.9439579684763573, \"n\": 359}, {\"threshold\": 0.142, \"p\": 1142, \"fpr\": 0.4456824512534819, \"tpr\": 0.9439579684763573, \"n\": 359}, {\"threshold\": 0.143, \"p\": 1142, \"fpr\": 0.4456824512534819, \"tpr\": 0.9439579684763573, \"n\": 359}, {\"threshold\": 0.144, \"p\": 1142, \"fpr\": 0.4456824512534819, \"tpr\": 0.9439579684763573, \"n\": 359}, {\"threshold\": 0.145, \"p\": 1142, \"fpr\": 0.4456824512534819, \"tpr\": 0.9439579684763573, \"n\": 359}, {\"threshold\": 0.146, \"p\": 1142, \"fpr\": 0.4456824512534819, \"tpr\": 0.9439579684763573, \"n\": 359}, {\"threshold\": 0.147, \"p\": 1142, \"fpr\": 0.4456824512534819, \"tpr\": 0.9439579684763573, \"n\": 359}, {\"threshold\": 0.148, \"p\": 1142, \"fpr\": 0.4456824512534819, \"tpr\": 0.9439579684763573, \"n\": 359}, {\"threshold\": 0.149, \"p\": 1142, \"fpr\": 0.4456824512534819, \"tpr\": 0.9439579684763573, \"n\": 359}, {\"threshold\": 0.15, \"p\": 1142, \"fpr\": 0.4456824512534819, \"tpr\": 0.9439579684763573, \"n\": 359}, {\"threshold\": 0.151, \"p\": 1142, \"fpr\": 0.4456824512534819, \"tpr\": 0.9439579684763573, \"n\": 359}, {\"threshold\": 0.152, \"p\": 1142, \"fpr\": 0.4456824512534819, \"tpr\": 0.9439579684763573, \"n\": 359}, {\"threshold\": 0.153, \"p\": 1142, \"fpr\": 0.4456824512534819, \"tpr\": 0.9439579684763573, \"n\": 359}, {\"threshold\": 0.154, \"p\": 1142, \"fpr\": 0.4456824512534819, \"tpr\": 0.9439579684763573, \"n\": 359}, {\"threshold\": 0.155, \"p\": 1142, \"fpr\": 0.4456824512534819, \"tpr\": 0.9439579684763573, \"n\": 359}, {\"threshold\": 0.156, \"p\": 1142, \"fpr\": 0.4456824512534819, \"tpr\": 0.9430823117338003, \"n\": 359}, {\"threshold\": 0.157, \"p\": 1142, \"fpr\": 0.4456824512534819, \"tpr\": 0.9430823117338003, \"n\": 359}, {\"threshold\": 0.158, \"p\": 1142, \"fpr\": 0.4456824512534819, \"tpr\": 0.9430823117338003, \"n\": 359}, {\"threshold\": 0.159, \"p\": 1142, \"fpr\": 0.4456824512534819, \"tpr\": 0.9430823117338003, \"n\": 359}, {\"threshold\": 0.16, \"p\": 1142, \"fpr\": 0.4428969359331476, \"tpr\": 0.9430823117338003, \"n\": 359}, {\"threshold\": 0.161, \"p\": 1142, \"fpr\": 0.4428969359331476, \"tpr\": 0.9422066549912435, \"n\": 359}, {\"threshold\": 0.162, \"p\": 1142, \"fpr\": 0.4428969359331476, \"tpr\": 0.9422066549912435, \"n\": 359}, {\"threshold\": 0.163, \"p\": 1142, \"fpr\": 0.4428969359331476, \"tpr\": 0.9422066549912435, \"n\": 359}, {\"threshold\": 0.164, \"p\": 1142, \"fpr\": 0.4428969359331476, \"tpr\": 0.9422066549912435, \"n\": 359}, {\"threshold\": 0.165, \"p\": 1142, \"fpr\": 0.4428969359331476, \"tpr\": 0.9422066549912435, \"n\": 359}, {\"threshold\": 0.166, \"p\": 1142, \"fpr\": 0.4428969359331476, \"tpr\": 0.9413309982486865, \"n\": 359}, {\"threshold\": 0.167, \"p\": 1142, \"fpr\": 0.4401114206128134, \"tpr\": 0.9413309982486865, \"n\": 359}, {\"threshold\": 0.168, \"p\": 1142, \"fpr\": 0.4401114206128134, \"tpr\": 0.9413309982486865, \"n\": 359}, {\"threshold\": 0.169, \"p\": 1142, \"fpr\": 0.4401114206128134, \"tpr\": 0.9413309982486865, \"n\": 359}, {\"threshold\": 0.17, \"p\": 1142, \"fpr\": 0.4401114206128134, \"tpr\": 0.9413309982486865, \"n\": 359}, {\"threshold\": 0.171, \"p\": 1142, \"fpr\": 0.4401114206128134, \"tpr\": 0.9413309982486865, \"n\": 359}, {\"threshold\": 0.172, \"p\": 1142, \"fpr\": 0.4401114206128134, \"tpr\": 0.9413309982486865, \"n\": 359}, {\"threshold\": 0.173, \"p\": 1142, \"fpr\": 0.4401114206128134, \"tpr\": 0.9413309982486865, \"n\": 359}, {\"threshold\": 0.174, \"p\": 1142, \"fpr\": 0.4401114206128134, \"tpr\": 0.9413309982486865, \"n\": 359}, {\"threshold\": 0.175, \"p\": 1142, \"fpr\": 0.4401114206128134, \"tpr\": 0.9413309982486865, \"n\": 359}, {\"threshold\": 0.176, \"p\": 1142, \"fpr\": 0.4401114206128134, \"tpr\": 0.9413309982486865, \"n\": 359}, {\"threshold\": 0.177, \"p\": 1142, \"fpr\": 0.4401114206128134, \"tpr\": 0.9413309982486865, \"n\": 359}, {\"threshold\": 0.178, \"p\": 1142, \"fpr\": 0.4401114206128134, \"tpr\": 0.9413309982486865, \"n\": 359}, {\"threshold\": 0.179, \"p\": 1142, \"fpr\": 0.4401114206128134, \"tpr\": 0.9413309982486865, \"n\": 359}, {\"threshold\": 0.18, \"p\": 1142, \"fpr\": 0.4401114206128134, \"tpr\": 0.9413309982486865, \"n\": 359}, {\"threshold\": 0.181, \"p\": 1142, \"fpr\": 0.4373259052924791, \"tpr\": 0.9413309982486865, \"n\": 359}, {\"threshold\": 0.182, \"p\": 1142, \"fpr\": 0.4373259052924791, \"tpr\": 0.9413309982486865, \"n\": 359}, {\"threshold\": 0.183, \"p\": 1142, \"fpr\": 0.4373259052924791, \"tpr\": 0.9413309982486865, \"n\": 359}, {\"threshold\": 0.184, \"p\": 1142, \"fpr\": 0.4373259052924791, \"tpr\": 0.9413309982486865, \"n\": 359}, {\"threshold\": 0.185, \"p\": 1142, \"fpr\": 0.4373259052924791, \"tpr\": 0.9413309982486865, \"n\": 359}, {\"threshold\": 0.186, \"p\": 1142, \"fpr\": 0.4373259052924791, \"tpr\": 0.9413309982486865, \"n\": 359}, {\"threshold\": 0.187, \"p\": 1142, \"fpr\": 0.4373259052924791, \"tpr\": 0.9413309982486865, \"n\": 359}, {\"threshold\": 0.188, \"p\": 1142, \"fpr\": 0.4373259052924791, \"tpr\": 0.9413309982486865, \"n\": 359}, {\"threshold\": 0.189, \"p\": 1142, \"fpr\": 0.4373259052924791, \"tpr\": 0.9413309982486865, \"n\": 359}, {\"threshold\": 0.19, \"p\": 1142, \"fpr\": 0.4373259052924791, \"tpr\": 0.9404553415061296, \"n\": 359}, {\"threshold\": 0.191, \"p\": 1142, \"fpr\": 0.4373259052924791, \"tpr\": 0.9404553415061296, \"n\": 359}, {\"threshold\": 0.192, \"p\": 1142, \"fpr\": 0.4373259052924791, \"tpr\": 0.9404553415061296, \"n\": 359}, {\"threshold\": 0.193, \"p\": 1142, \"fpr\": 0.4373259052924791, \"tpr\": 0.9404553415061296, \"n\": 359}, {\"threshold\": 0.194, \"p\": 1142, \"fpr\": 0.4373259052924791, \"tpr\": 0.9404553415061296, \"n\": 359}, {\"threshold\": 0.195, \"p\": 1142, \"fpr\": 0.4373259052924791, \"tpr\": 0.9404553415061296, \"n\": 359}, {\"threshold\": 0.196, \"p\": 1142, \"fpr\": 0.43454038997214484, \"tpr\": 0.9404553415061296, \"n\": 359}, {\"threshold\": 0.197, \"p\": 1142, \"fpr\": 0.43454038997214484, \"tpr\": 0.9404553415061296, \"n\": 359}, {\"threshold\": 0.198, \"p\": 1142, \"fpr\": 0.43454038997214484, \"tpr\": 0.9404553415061296, \"n\": 359}, {\"threshold\": 0.199, \"p\": 1142, \"fpr\": 0.43454038997214484, \"tpr\": 0.9404553415061296, \"n\": 359}, {\"threshold\": 0.2, \"p\": 1142, \"fpr\": 0.43454038997214484, \"tpr\": 0.9404553415061296, \"n\": 359}, {\"threshold\": 0.201, \"p\": 1142, \"fpr\": 0.43454038997214484, \"tpr\": 0.9404553415061296, \"n\": 359}, {\"threshold\": 0.202, \"p\": 1142, \"fpr\": 0.43454038997214484, \"tpr\": 0.9404553415061296, \"n\": 359}, {\"threshold\": 0.203, \"p\": 1142, \"fpr\": 0.43454038997214484, \"tpr\": 0.9404553415061296, \"n\": 359}, {\"threshold\": 0.204, \"p\": 1142, \"fpr\": 0.43454038997214484, \"tpr\": 0.9404553415061296, \"n\": 359}, {\"threshold\": 0.205, \"p\": 1142, \"fpr\": 0.43454038997214484, \"tpr\": 0.9404553415061296, \"n\": 359}, {\"threshold\": 0.206, \"p\": 1142, \"fpr\": 0.43454038997214484, \"tpr\": 0.9404553415061296, \"n\": 359}, {\"threshold\": 0.207, \"p\": 1142, \"fpr\": 0.43454038997214484, \"tpr\": 0.9404553415061296, \"n\": 359}, {\"threshold\": 0.208, \"p\": 1142, \"fpr\": 0.43454038997214484, \"tpr\": 0.9404553415061296, \"n\": 359}, {\"threshold\": 0.209, \"p\": 1142, \"fpr\": 0.43454038997214484, \"tpr\": 0.9404553415061296, \"n\": 359}, {\"threshold\": 0.21, \"p\": 1142, \"fpr\": 0.43454038997214484, \"tpr\": 0.9404553415061296, \"n\": 359}, {\"threshold\": 0.211, \"p\": 1142, \"fpr\": 0.43454038997214484, \"tpr\": 0.9404553415061296, \"n\": 359}, {\"threshold\": 0.212, \"p\": 1142, \"fpr\": 0.43454038997214484, \"tpr\": 0.9404553415061296, \"n\": 359}, {\"threshold\": 0.213, \"p\": 1142, \"fpr\": 0.43454038997214484, \"tpr\": 0.9395796847635727, \"n\": 359}, {\"threshold\": 0.214, \"p\": 1142, \"fpr\": 0.43454038997214484, \"tpr\": 0.9395796847635727, \"n\": 359}, {\"threshold\": 0.215, \"p\": 1142, \"fpr\": 0.43454038997214484, \"tpr\": 0.9395796847635727, \"n\": 359}, {\"threshold\": 0.216, \"p\": 1142, \"fpr\": 0.43454038997214484, \"tpr\": 0.9395796847635727, \"n\": 359}, {\"threshold\": 0.217, \"p\": 1142, \"fpr\": 0.43454038997214484, \"tpr\": 0.9387040280210157, \"n\": 359}, {\"threshold\": 0.218, \"p\": 1142, \"fpr\": 0.43454038997214484, \"tpr\": 0.9387040280210157, \"n\": 359}, {\"threshold\": 0.219, \"p\": 1142, \"fpr\": 0.43454038997214484, \"tpr\": 0.9387040280210157, \"n\": 359}, {\"threshold\": 0.22, \"p\": 1142, \"fpr\": 0.43454038997214484, \"tpr\": 0.9387040280210157, \"n\": 359}, {\"threshold\": 0.221, \"p\": 1142, \"fpr\": 0.43454038997214484, \"tpr\": 0.9387040280210157, \"n\": 359}, {\"threshold\": 0.222, \"p\": 1142, \"fpr\": 0.43454038997214484, \"tpr\": 0.9387040280210157, \"n\": 359}, {\"threshold\": 0.223, \"p\": 1142, \"fpr\": 0.43175487465181056, \"tpr\": 0.9387040280210157, \"n\": 359}, {\"threshold\": 0.224, \"p\": 1142, \"fpr\": 0.43175487465181056, \"tpr\": 0.9387040280210157, \"n\": 359}, {\"threshold\": 0.225, \"p\": 1142, \"fpr\": 0.43175487465181056, \"tpr\": 0.9378283712784589, \"n\": 359}, {\"threshold\": 0.226, \"p\": 1142, \"fpr\": 0.43175487465181056, \"tpr\": 0.9378283712784589, \"n\": 359}, {\"threshold\": 0.227, \"p\": 1142, \"fpr\": 0.43175487465181056, \"tpr\": 0.9378283712784589, \"n\": 359}, {\"threshold\": 0.228, \"p\": 1142, \"fpr\": 0.43175487465181056, \"tpr\": 0.9378283712784589, \"n\": 359}, {\"threshold\": 0.229, \"p\": 1142, \"fpr\": 0.43175487465181056, \"tpr\": 0.9378283712784589, \"n\": 359}, {\"threshold\": 0.23, \"p\": 1142, \"fpr\": 0.43175487465181056, \"tpr\": 0.9378283712784589, \"n\": 359}, {\"threshold\": 0.231, \"p\": 1142, \"fpr\": 0.43175487465181056, \"tpr\": 0.9378283712784589, \"n\": 359}, {\"threshold\": 0.232, \"p\": 1142, \"fpr\": 0.43175487465181056, \"tpr\": 0.9378283712784589, \"n\": 359}, {\"threshold\": 0.233, \"p\": 1142, \"fpr\": 0.43175487465181056, \"tpr\": 0.9378283712784589, \"n\": 359}, {\"threshold\": 0.234, \"p\": 1142, \"fpr\": 0.43175487465181056, \"tpr\": 0.9369527145359019, \"n\": 359}, {\"threshold\": 0.235, \"p\": 1142, \"fpr\": 0.43175487465181056, \"tpr\": 0.9369527145359019, \"n\": 359}, {\"threshold\": 0.236, \"p\": 1142, \"fpr\": 0.43175487465181056, \"tpr\": 0.9369527145359019, \"n\": 359}, {\"threshold\": 0.237, \"p\": 1142, \"fpr\": 0.43175487465181056, \"tpr\": 0.9352014010507881, \"n\": 359}, {\"threshold\": 0.238, \"p\": 1142, \"fpr\": 0.43175487465181056, \"tpr\": 0.9352014010507881, \"n\": 359}, {\"threshold\": 0.239, \"p\": 1142, \"fpr\": 0.43175487465181056, \"tpr\": 0.9352014010507881, \"n\": 359}, {\"threshold\": 0.24, \"p\": 1142, \"fpr\": 0.43175487465181056, \"tpr\": 0.9352014010507881, \"n\": 359}, {\"threshold\": 0.241, \"p\": 1142, \"fpr\": 0.43175487465181056, \"tpr\": 0.9352014010507881, \"n\": 359}, {\"threshold\": 0.242, \"p\": 1142, \"fpr\": 0.43175487465181056, \"tpr\": 0.9352014010507881, \"n\": 359}, {\"threshold\": 0.243, \"p\": 1142, \"fpr\": 0.43175487465181056, \"tpr\": 0.9352014010507881, \"n\": 359}, {\"threshold\": 0.244, \"p\": 1142, \"fpr\": 0.43175487465181056, \"tpr\": 0.9352014010507881, \"n\": 359}, {\"threshold\": 0.245, \"p\": 1142, \"fpr\": 0.43175487465181056, \"tpr\": 0.9352014010507881, \"n\": 359}, {\"threshold\": 0.246, \"p\": 1142, \"fpr\": 0.43175487465181056, \"tpr\": 0.9352014010507881, \"n\": 359}, {\"threshold\": 0.247, \"p\": 1142, \"fpr\": 0.43175487465181056, \"tpr\": 0.9352014010507881, \"n\": 359}, {\"threshold\": 0.248, \"p\": 1142, \"fpr\": 0.43175487465181056, \"tpr\": 0.9352014010507881, \"n\": 359}, {\"threshold\": 0.249, \"p\": 1142, \"fpr\": 0.43175487465181056, \"tpr\": 0.9352014010507881, \"n\": 359}, {\"threshold\": 0.25, \"p\": 1142, \"fpr\": 0.43175487465181056, \"tpr\": 0.9352014010507881, \"n\": 359}, {\"threshold\": 0.251, \"p\": 1142, \"fpr\": 0.43175487465181056, \"tpr\": 0.9352014010507881, \"n\": 359}, {\"threshold\": 0.252, \"p\": 1142, \"fpr\": 0.43175487465181056, \"tpr\": 0.9352014010507881, \"n\": 359}, {\"threshold\": 0.253, \"p\": 1142, \"fpr\": 0.43175487465181056, \"tpr\": 0.9352014010507881, \"n\": 359}, {\"threshold\": 0.254, \"p\": 1142, \"fpr\": 0.43175487465181056, \"tpr\": 0.9352014010507881, \"n\": 359}, {\"threshold\": 0.255, \"p\": 1142, \"fpr\": 0.43175487465181056, \"tpr\": 0.9352014010507881, \"n\": 359}, {\"threshold\": 0.256, \"p\": 1142, \"fpr\": 0.42896935933147634, \"tpr\": 0.9352014010507881, \"n\": 359}, {\"threshold\": 0.257, \"p\": 1142, \"fpr\": 0.42896935933147634, \"tpr\": 0.9343257443082311, \"n\": 359}, {\"threshold\": 0.258, \"p\": 1142, \"fpr\": 0.42896935933147634, \"tpr\": 0.9343257443082311, \"n\": 359}, {\"threshold\": 0.259, \"p\": 1142, \"fpr\": 0.42896935933147634, \"tpr\": 0.9343257443082311, \"n\": 359}, {\"threshold\": 0.26, \"p\": 1142, \"fpr\": 0.42618384401114207, \"tpr\": 0.9343257443082311, \"n\": 359}, {\"threshold\": 0.261, \"p\": 1142, \"fpr\": 0.42618384401114207, \"tpr\": 0.9343257443082311, \"n\": 359}, {\"threshold\": 0.262, \"p\": 1142, \"fpr\": 0.42618384401114207, \"tpr\": 0.9343257443082311, \"n\": 359}, {\"threshold\": 0.263, \"p\": 1142, \"fpr\": 0.42618384401114207, \"tpr\": 0.9343257443082311, \"n\": 359}, {\"threshold\": 0.264, \"p\": 1142, \"fpr\": 0.42618384401114207, \"tpr\": 0.9343257443082311, \"n\": 359}, {\"threshold\": 0.265, \"p\": 1142, \"fpr\": 0.42618384401114207, \"tpr\": 0.9343257443082311, \"n\": 359}, {\"threshold\": 0.266, \"p\": 1142, \"fpr\": 0.42618384401114207, \"tpr\": 0.9343257443082311, \"n\": 359}, {\"threshold\": 0.267, \"p\": 1142, \"fpr\": 0.42618384401114207, \"tpr\": 0.9343257443082311, \"n\": 359}, {\"threshold\": 0.268, \"p\": 1142, \"fpr\": 0.42618384401114207, \"tpr\": 0.9343257443082311, \"n\": 359}, {\"threshold\": 0.269, \"p\": 1142, \"fpr\": 0.42618384401114207, \"tpr\": 0.9343257443082311, \"n\": 359}, {\"threshold\": 0.27, \"p\": 1142, \"fpr\": 0.42618384401114207, \"tpr\": 0.9343257443082311, \"n\": 359}, {\"threshold\": 0.271, \"p\": 1142, \"fpr\": 0.42618384401114207, \"tpr\": 0.9343257443082311, \"n\": 359}, {\"threshold\": 0.272, \"p\": 1142, \"fpr\": 0.42618384401114207, \"tpr\": 0.9343257443082311, \"n\": 359}, {\"threshold\": 0.273, \"p\": 1142, \"fpr\": 0.42618384401114207, \"tpr\": 0.9343257443082311, \"n\": 359}, {\"threshold\": 0.274, \"p\": 1142, \"fpr\": 0.42618384401114207, \"tpr\": 0.9343257443082311, \"n\": 359}, {\"threshold\": 0.275, \"p\": 1142, \"fpr\": 0.42618384401114207, \"tpr\": 0.9343257443082311, \"n\": 359}, {\"threshold\": 0.276, \"p\": 1142, \"fpr\": 0.42618384401114207, \"tpr\": 0.9343257443082311, \"n\": 359}, {\"threshold\": 0.277, \"p\": 1142, \"fpr\": 0.42618384401114207, \"tpr\": 0.9343257443082311, \"n\": 359}, {\"threshold\": 0.278, \"p\": 1142, \"fpr\": 0.42618384401114207, \"tpr\": 0.9343257443082311, \"n\": 359}, {\"threshold\": 0.279, \"p\": 1142, \"fpr\": 0.42618384401114207, \"tpr\": 0.9343257443082311, \"n\": 359}, {\"threshold\": 0.28, \"p\": 1142, \"fpr\": 0.42618384401114207, \"tpr\": 0.9343257443082311, \"n\": 359}, {\"threshold\": 0.281, \"p\": 1142, \"fpr\": 0.42618384401114207, \"tpr\": 0.9343257443082311, \"n\": 359}, {\"threshold\": 0.282, \"p\": 1142, \"fpr\": 0.42618384401114207, \"tpr\": 0.9343257443082311, \"n\": 359}, {\"threshold\": 0.283, \"p\": 1142, \"fpr\": 0.42618384401114207, \"tpr\": 0.9343257443082311, \"n\": 359}, {\"threshold\": 0.284, \"p\": 1142, \"fpr\": 0.42618384401114207, \"tpr\": 0.9334500875656743, \"n\": 359}, {\"threshold\": 0.285, \"p\": 1142, \"fpr\": 0.42618384401114207, \"tpr\": 0.9334500875656743, \"n\": 359}, {\"threshold\": 0.286, \"p\": 1142, \"fpr\": 0.42618384401114207, \"tpr\": 0.9334500875656743, \"n\": 359}, {\"threshold\": 0.287, \"p\": 1142, \"fpr\": 0.42618384401114207, \"tpr\": 0.9334500875656743, \"n\": 359}, {\"threshold\": 0.288, \"p\": 1142, \"fpr\": 0.42618384401114207, \"tpr\": 0.9334500875656743, \"n\": 359}, {\"threshold\": 0.289, \"p\": 1142, \"fpr\": 0.42618384401114207, \"tpr\": 0.9325744308231173, \"n\": 359}, {\"threshold\": 0.29, \"p\": 1142, \"fpr\": 0.42618384401114207, \"tpr\": 0.9325744308231173, \"n\": 359}, {\"threshold\": 0.291, \"p\": 1142, \"fpr\": 0.42618384401114207, \"tpr\": 0.9325744308231173, \"n\": 359}, {\"threshold\": 0.292, \"p\": 1142, \"fpr\": 0.42618384401114207, \"tpr\": 0.9325744308231173, \"n\": 359}, {\"threshold\": 0.293, \"p\": 1142, \"fpr\": 0.4233983286908078, \"tpr\": 0.9325744308231173, \"n\": 359}, {\"threshold\": 0.294, \"p\": 1142, \"fpr\": 0.4233983286908078, \"tpr\": 0.9325744308231173, \"n\": 359}, {\"threshold\": 0.295, \"p\": 1142, \"fpr\": 0.4233983286908078, \"tpr\": 0.9325744308231173, \"n\": 359}, {\"threshold\": 0.296, \"p\": 1142, \"fpr\": 0.4233983286908078, \"tpr\": 0.9325744308231173, \"n\": 359}, {\"threshold\": 0.297, \"p\": 1142, \"fpr\": 0.4233983286908078, \"tpr\": 0.9325744308231173, \"n\": 359}, {\"threshold\": 0.298, \"p\": 1142, \"fpr\": 0.4233983286908078, \"tpr\": 0.9325744308231173, \"n\": 359}, {\"threshold\": 0.299, \"p\": 1142, \"fpr\": 0.4233983286908078, \"tpr\": 0.9325744308231173, \"n\": 359}, {\"threshold\": 0.3, \"p\": 1142, \"fpr\": 0.4233983286908078, \"tpr\": 0.9325744308231173, \"n\": 359}, {\"threshold\": 0.301, \"p\": 1142, \"fpr\": 0.4233983286908078, \"tpr\": 0.9325744308231173, \"n\": 359}, {\"threshold\": 0.302, \"p\": 1142, \"fpr\": 0.4233983286908078, \"tpr\": 0.9325744308231173, \"n\": 359}, {\"threshold\": 0.303, \"p\": 1142, \"fpr\": 0.4233983286908078, \"tpr\": 0.9325744308231173, \"n\": 359}, {\"threshold\": 0.304, \"p\": 1142, \"fpr\": 0.4233983286908078, \"tpr\": 0.9325744308231173, \"n\": 359}, {\"threshold\": 0.305, \"p\": 1142, \"fpr\": 0.4233983286908078, \"tpr\": 0.9325744308231173, \"n\": 359}, {\"threshold\": 0.306, \"p\": 1142, \"fpr\": 0.4233983286908078, \"tpr\": 0.9325744308231173, \"n\": 359}, {\"threshold\": 0.307, \"p\": 1142, \"fpr\": 0.4233983286908078, \"tpr\": 0.9316987740805605, \"n\": 359}, {\"threshold\": 0.308, \"p\": 1142, \"fpr\": 0.4233983286908078, \"tpr\": 0.9316987740805605, \"n\": 359}, {\"threshold\": 0.309, \"p\": 1142, \"fpr\": 0.4233983286908078, \"tpr\": 0.9316987740805605, \"n\": 359}, {\"threshold\": 0.31, \"p\": 1142, \"fpr\": 0.4233983286908078, \"tpr\": 0.9316987740805605, \"n\": 359}, {\"threshold\": 0.311, \"p\": 1142, \"fpr\": 0.4233983286908078, \"tpr\": 0.9316987740805605, \"n\": 359}, {\"threshold\": 0.312, \"p\": 1142, \"fpr\": 0.4233983286908078, \"tpr\": 0.9316987740805605, \"n\": 359}, {\"threshold\": 0.313, \"p\": 1142, \"fpr\": 0.4233983286908078, \"tpr\": 0.9308231173380035, \"n\": 359}, {\"threshold\": 0.314, \"p\": 1142, \"fpr\": 0.4233983286908078, \"tpr\": 0.9308231173380035, \"n\": 359}, {\"threshold\": 0.315, \"p\": 1142, \"fpr\": 0.4233983286908078, \"tpr\": 0.9308231173380035, \"n\": 359}, {\"threshold\": 0.316, \"p\": 1142, \"fpr\": 0.4233983286908078, \"tpr\": 0.9308231173380035, \"n\": 359}, {\"threshold\": 0.317, \"p\": 1142, \"fpr\": 0.4233983286908078, \"tpr\": 0.9299474605954466, \"n\": 359}, {\"threshold\": 0.318, \"p\": 1142, \"fpr\": 0.4233983286908078, \"tpr\": 0.9299474605954466, \"n\": 359}, {\"threshold\": 0.319, \"p\": 1142, \"fpr\": 0.4233983286908078, \"tpr\": 0.9299474605954466, \"n\": 359}, {\"threshold\": 0.32, \"p\": 1142, \"fpr\": 0.4233983286908078, \"tpr\": 0.9299474605954466, \"n\": 359}, {\"threshold\": 0.321, \"p\": 1142, \"fpr\": 0.4233983286908078, \"tpr\": 0.9299474605954466, \"n\": 359}, {\"threshold\": 0.322, \"p\": 1142, \"fpr\": 0.4233983286908078, \"tpr\": 0.9299474605954466, \"n\": 359}, {\"threshold\": 0.323, \"p\": 1142, \"fpr\": 0.4233983286908078, \"tpr\": 0.9299474605954466, \"n\": 359}, {\"threshold\": 0.324, \"p\": 1142, \"fpr\": 0.4233983286908078, \"tpr\": 0.9299474605954466, \"n\": 359}, {\"threshold\": 0.325, \"p\": 1142, \"fpr\": 0.4233983286908078, \"tpr\": 0.9299474605954466, \"n\": 359}, {\"threshold\": 0.326, \"p\": 1142, \"fpr\": 0.4233983286908078, \"tpr\": 0.9299474605954466, \"n\": 359}, {\"threshold\": 0.327, \"p\": 1142, \"fpr\": 0.4233983286908078, \"tpr\": 0.9299474605954466, \"n\": 359}, {\"threshold\": 0.328, \"p\": 1142, \"fpr\": 0.4233983286908078, \"tpr\": 0.9290718038528897, \"n\": 359}, {\"threshold\": 0.329, \"p\": 1142, \"fpr\": 0.4233983286908078, \"tpr\": 0.9290718038528897, \"n\": 359}, {\"threshold\": 0.33, \"p\": 1142, \"fpr\": 0.4233983286908078, \"tpr\": 0.9290718038528897, \"n\": 359}, {\"threshold\": 0.331, \"p\": 1142, \"fpr\": 0.4206128133704735, \"tpr\": 0.9290718038528897, \"n\": 359}, {\"threshold\": 0.332, \"p\": 1142, \"fpr\": 0.4206128133704735, \"tpr\": 0.9290718038528897, \"n\": 359}, {\"threshold\": 0.333, \"p\": 1142, \"fpr\": 0.4206128133704735, \"tpr\": 0.9290718038528897, \"n\": 359}, {\"threshold\": 0.334, \"p\": 1142, \"fpr\": 0.4206128133704735, \"tpr\": 0.9290718038528897, \"n\": 359}, {\"threshold\": 0.335, \"p\": 1142, \"fpr\": 0.4206128133704735, \"tpr\": 0.9290718038528897, \"n\": 359}, {\"threshold\": 0.336, \"p\": 1142, \"fpr\": 0.4206128133704735, \"tpr\": 0.9290718038528897, \"n\": 359}, {\"threshold\": 0.337, \"p\": 1142, \"fpr\": 0.4206128133704735, \"tpr\": 0.9290718038528897, \"n\": 359}, {\"threshold\": 0.338, \"p\": 1142, \"fpr\": 0.4206128133704735, \"tpr\": 0.9290718038528897, \"n\": 359}, {\"threshold\": 0.339, \"p\": 1142, \"fpr\": 0.4206128133704735, \"tpr\": 0.9290718038528897, \"n\": 359}, {\"threshold\": 0.34, \"p\": 1142, \"fpr\": 0.4206128133704735, \"tpr\": 0.9290718038528897, \"n\": 359}, {\"threshold\": 0.341, \"p\": 1142, \"fpr\": 0.4206128133704735, \"tpr\": 0.9290718038528897, \"n\": 359}, {\"threshold\": 0.342, \"p\": 1142, \"fpr\": 0.4206128133704735, \"tpr\": 0.9290718038528897, \"n\": 359}, {\"threshold\": 0.343, \"p\": 1142, \"fpr\": 0.4206128133704735, \"tpr\": 0.9290718038528897, \"n\": 359}, {\"threshold\": 0.344, \"p\": 1142, \"fpr\": 0.4206128133704735, \"tpr\": 0.9290718038528897, \"n\": 359}, {\"threshold\": 0.345, \"p\": 1142, \"fpr\": 0.4206128133704735, \"tpr\": 0.9290718038528897, \"n\": 359}, {\"threshold\": 0.346, \"p\": 1142, \"fpr\": 0.4206128133704735, \"tpr\": 0.9290718038528897, \"n\": 359}, {\"threshold\": 0.347, \"p\": 1142, \"fpr\": 0.4206128133704735, \"tpr\": 0.9290718038528897, \"n\": 359}, {\"threshold\": 0.348, \"p\": 1142, \"fpr\": 0.4206128133704735, \"tpr\": 0.9290718038528897, \"n\": 359}, {\"threshold\": 0.349, \"p\": 1142, \"fpr\": 0.4206128133704735, \"tpr\": 0.9290718038528897, \"n\": 359}, {\"threshold\": 0.35, \"p\": 1142, \"fpr\": 0.4206128133704735, \"tpr\": 0.9290718038528897, \"n\": 359}, {\"threshold\": 0.351, \"p\": 1142, \"fpr\": 0.4206128133704735, \"tpr\": 0.9290718038528897, \"n\": 359}, {\"threshold\": 0.352, \"p\": 1142, \"fpr\": 0.4206128133704735, \"tpr\": 0.9290718038528897, \"n\": 359}, {\"threshold\": 0.353, \"p\": 1142, \"fpr\": 0.4206128133704735, \"tpr\": 0.9290718038528897, \"n\": 359}, {\"threshold\": 0.354, \"p\": 1142, \"fpr\": 0.4206128133704735, \"tpr\": 0.9290718038528897, \"n\": 359}, {\"threshold\": 0.355, \"p\": 1142, \"fpr\": 0.4206128133704735, \"tpr\": 0.9290718038528897, \"n\": 359}, {\"threshold\": 0.356, \"p\": 1142, \"fpr\": 0.4206128133704735, \"tpr\": 0.9281961471103327, \"n\": 359}, {\"threshold\": 0.357, \"p\": 1142, \"fpr\": 0.4206128133704735, \"tpr\": 0.9281961471103327, \"n\": 359}, {\"threshold\": 0.358, \"p\": 1142, \"fpr\": 0.4178272980501393, \"tpr\": 0.9281961471103327, \"n\": 359}, {\"threshold\": 0.359, \"p\": 1142, \"fpr\": 0.4178272980501393, \"tpr\": 0.9281961471103327, \"n\": 359}, {\"threshold\": 0.36, \"p\": 1142, \"fpr\": 0.4178272980501393, \"tpr\": 0.9281961471103327, \"n\": 359}, {\"threshold\": 0.361, \"p\": 1142, \"fpr\": 0.4178272980501393, \"tpr\": 0.9281961471103327, \"n\": 359}, {\"threshold\": 0.362, \"p\": 1142, \"fpr\": 0.4178272980501393, \"tpr\": 0.9281961471103327, \"n\": 359}, {\"threshold\": 0.363, \"p\": 1142, \"fpr\": 0.4178272980501393, \"tpr\": 0.9273204903677759, \"n\": 359}, {\"threshold\": 0.364, \"p\": 1142, \"fpr\": 0.4178272980501393, \"tpr\": 0.9273204903677759, \"n\": 359}, {\"threshold\": 0.365, \"p\": 1142, \"fpr\": 0.4178272980501393, \"tpr\": 0.9273204903677759, \"n\": 359}, {\"threshold\": 0.366, \"p\": 1142, \"fpr\": 0.4178272980501393, \"tpr\": 0.9273204903677759, \"n\": 359}, {\"threshold\": 0.367, \"p\": 1142, \"fpr\": 0.4178272980501393, \"tpr\": 0.9273204903677759, \"n\": 359}, {\"threshold\": 0.368, \"p\": 1142, \"fpr\": 0.4178272980501393, \"tpr\": 0.9273204903677759, \"n\": 359}, {\"threshold\": 0.369, \"p\": 1142, \"fpr\": 0.4178272980501393, \"tpr\": 0.9273204903677759, \"n\": 359}, {\"threshold\": 0.37, \"p\": 1142, \"fpr\": 0.4178272980501393, \"tpr\": 0.9273204903677759, \"n\": 359}, {\"threshold\": 0.371, \"p\": 1142, \"fpr\": 0.4178272980501393, \"tpr\": 0.9273204903677759, \"n\": 359}, {\"threshold\": 0.372, \"p\": 1142, \"fpr\": 0.4178272980501393, \"tpr\": 0.9273204903677759, \"n\": 359}, {\"threshold\": 0.373, \"p\": 1142, \"fpr\": 0.4178272980501393, \"tpr\": 0.9273204903677759, \"n\": 359}, {\"threshold\": 0.374, \"p\": 1142, \"fpr\": 0.4178272980501393, \"tpr\": 0.9273204903677759, \"n\": 359}, {\"threshold\": 0.375, \"p\": 1142, \"fpr\": 0.4178272980501393, \"tpr\": 0.9273204903677759, \"n\": 359}, {\"threshold\": 0.376, \"p\": 1142, \"fpr\": 0.4178272980501393, \"tpr\": 0.9264448336252189, \"n\": 359}, {\"threshold\": 0.377, \"p\": 1142, \"fpr\": 0.415041782729805, \"tpr\": 0.9264448336252189, \"n\": 359}, {\"threshold\": 0.378, \"p\": 1142, \"fpr\": 0.415041782729805, \"tpr\": 0.9264448336252189, \"n\": 359}, {\"threshold\": 0.379, \"p\": 1142, \"fpr\": 0.415041782729805, \"tpr\": 0.9264448336252189, \"n\": 359}, {\"threshold\": 0.38, \"p\": 1142, \"fpr\": 0.415041782729805, \"tpr\": 0.9264448336252189, \"n\": 359}, {\"threshold\": 0.381, \"p\": 1142, \"fpr\": 0.415041782729805, \"tpr\": 0.9264448336252189, \"n\": 359}, {\"threshold\": 0.382, \"p\": 1142, \"fpr\": 0.415041782729805, \"tpr\": 0.9264448336252189, \"n\": 359}, {\"threshold\": 0.383, \"p\": 1142, \"fpr\": 0.415041782729805, \"tpr\": 0.9264448336252189, \"n\": 359}, {\"threshold\": 0.384, \"p\": 1142, \"fpr\": 0.415041782729805, \"tpr\": 0.9264448336252189, \"n\": 359}, {\"threshold\": 0.385, \"p\": 1142, \"fpr\": 0.415041782729805, \"tpr\": 0.9264448336252189, \"n\": 359}, {\"threshold\": 0.386, \"p\": 1142, \"fpr\": 0.415041782729805, \"tpr\": 0.9264448336252189, \"n\": 359}, {\"threshold\": 0.387, \"p\": 1142, \"fpr\": 0.415041782729805, \"tpr\": 0.9264448336252189, \"n\": 359}, {\"threshold\": 0.388, \"p\": 1142, \"fpr\": 0.415041782729805, \"tpr\": 0.9264448336252189, \"n\": 359}, {\"threshold\": 0.389, \"p\": 1142, \"fpr\": 0.415041782729805, \"tpr\": 0.9264448336252189, \"n\": 359}, {\"threshold\": 0.39, \"p\": 1142, \"fpr\": 0.41225626740947074, \"tpr\": 0.9264448336252189, \"n\": 359}, {\"threshold\": 0.391, \"p\": 1142, \"fpr\": 0.41225626740947074, \"tpr\": 0.9264448336252189, \"n\": 359}, {\"threshold\": 0.392, \"p\": 1142, \"fpr\": 0.41225626740947074, \"tpr\": 0.9264448336252189, \"n\": 359}, {\"threshold\": 0.393, \"p\": 1142, \"fpr\": 0.41225626740947074, \"tpr\": 0.9264448336252189, \"n\": 359}, {\"threshold\": 0.394, \"p\": 1142, \"fpr\": 0.41225626740947074, \"tpr\": 0.9264448336252189, \"n\": 359}, {\"threshold\": 0.395, \"p\": 1142, \"fpr\": 0.41225626740947074, \"tpr\": 0.9264448336252189, \"n\": 359}, {\"threshold\": 0.396, \"p\": 1142, \"fpr\": 0.41225626740947074, \"tpr\": 0.9264448336252189, \"n\": 359}, {\"threshold\": 0.397, \"p\": 1142, \"fpr\": 0.41225626740947074, \"tpr\": 0.9264448336252189, \"n\": 359}, {\"threshold\": 0.398, \"p\": 1142, \"fpr\": 0.41225626740947074, \"tpr\": 0.9264448336252189, \"n\": 359}, {\"threshold\": 0.399, \"p\": 1142, \"fpr\": 0.41225626740947074, \"tpr\": 0.9264448336252189, \"n\": 359}, {\"threshold\": 0.4, \"p\": 1142, \"fpr\": 0.41225626740947074, \"tpr\": 0.9264448336252189, \"n\": 359}, {\"threshold\": 0.401, \"p\": 1142, \"fpr\": 0.41225626740947074, \"tpr\": 0.9264448336252189, \"n\": 359}, {\"threshold\": 0.402, \"p\": 1142, \"fpr\": 0.41225626740947074, \"tpr\": 0.9264448336252189, \"n\": 359}, {\"threshold\": 0.403, \"p\": 1142, \"fpr\": 0.41225626740947074, \"tpr\": 0.9264448336252189, \"n\": 359}, {\"threshold\": 0.404, \"p\": 1142, \"fpr\": 0.41225626740947074, \"tpr\": 0.9264448336252189, \"n\": 359}, {\"threshold\": 0.405, \"p\": 1142, \"fpr\": 0.41225626740947074, \"tpr\": 0.9264448336252189, \"n\": 359}, {\"threshold\": 0.406, \"p\": 1142, \"fpr\": 0.41225626740947074, \"tpr\": 0.9264448336252189, \"n\": 359}, {\"threshold\": 0.407, \"p\": 1142, \"fpr\": 0.41225626740947074, \"tpr\": 0.9264448336252189, \"n\": 359}, {\"threshold\": 0.408, \"p\": 1142, \"fpr\": 0.41225626740947074, \"tpr\": 0.9264448336252189, \"n\": 359}, {\"threshold\": 0.409, \"p\": 1142, \"fpr\": 0.41225626740947074, \"tpr\": 0.9264448336252189, \"n\": 359}, {\"threshold\": 0.41, \"p\": 1142, \"fpr\": 0.41225626740947074, \"tpr\": 0.9264448336252189, \"n\": 359}, {\"threshold\": 0.411, \"p\": 1142, \"fpr\": 0.41225626740947074, \"tpr\": 0.9264448336252189, \"n\": 359}, {\"threshold\": 0.412, \"p\": 1142, \"fpr\": 0.41225626740947074, \"tpr\": 0.925569176882662, \"n\": 359}, {\"threshold\": 0.413, \"p\": 1142, \"fpr\": 0.41225626740947074, \"tpr\": 0.925569176882662, \"n\": 359}, {\"threshold\": 0.414, \"p\": 1142, \"fpr\": 0.41225626740947074, \"tpr\": 0.925569176882662, \"n\": 359}, {\"threshold\": 0.415, \"p\": 1142, \"fpr\": 0.41225626740947074, \"tpr\": 0.925569176882662, \"n\": 359}, {\"threshold\": 0.416, \"p\": 1142, \"fpr\": 0.41225626740947074, \"tpr\": 0.925569176882662, \"n\": 359}, {\"threshold\": 0.417, \"p\": 1142, \"fpr\": 0.41225626740947074, \"tpr\": 0.925569176882662, \"n\": 359}, {\"threshold\": 0.418, \"p\": 1142, \"fpr\": 0.41225626740947074, \"tpr\": 0.925569176882662, \"n\": 359}, {\"threshold\": 0.419, \"p\": 1142, \"fpr\": 0.41225626740947074, \"tpr\": 0.925569176882662, \"n\": 359}, {\"threshold\": 0.42, \"p\": 1142, \"fpr\": 0.41225626740947074, \"tpr\": 0.925569176882662, \"n\": 359}, {\"threshold\": 0.421, \"p\": 1142, \"fpr\": 0.41225626740947074, \"tpr\": 0.925569176882662, \"n\": 359}, {\"threshold\": 0.422, \"p\": 1142, \"fpr\": 0.41225626740947074, \"tpr\": 0.925569176882662, \"n\": 359}, {\"threshold\": 0.423, \"p\": 1142, \"fpr\": 0.40947075208913647, \"tpr\": 0.925569176882662, \"n\": 359}, {\"threshold\": 0.424, \"p\": 1142, \"fpr\": 0.40947075208913647, \"tpr\": 0.925569176882662, \"n\": 359}, {\"threshold\": 0.425, \"p\": 1142, \"fpr\": 0.40947075208913647, \"tpr\": 0.925569176882662, \"n\": 359}, {\"threshold\": 0.426, \"p\": 1142, \"fpr\": 0.40947075208913647, \"tpr\": 0.925569176882662, \"n\": 359}, {\"threshold\": 0.427, \"p\": 1142, \"fpr\": 0.40947075208913647, \"tpr\": 0.925569176882662, \"n\": 359}, {\"threshold\": 0.428, \"p\": 1142, \"fpr\": 0.40947075208913647, \"tpr\": 0.925569176882662, \"n\": 359}, {\"threshold\": 0.429, \"p\": 1142, \"fpr\": 0.40947075208913647, \"tpr\": 0.925569176882662, \"n\": 359}, {\"threshold\": 0.43, \"p\": 1142, \"fpr\": 0.40947075208913647, \"tpr\": 0.9246935201401051, \"n\": 359}, {\"threshold\": 0.431, \"p\": 1142, \"fpr\": 0.40947075208913647, \"tpr\": 0.9246935201401051, \"n\": 359}, {\"threshold\": 0.432, \"p\": 1142, \"fpr\": 0.40947075208913647, \"tpr\": 0.9246935201401051, \"n\": 359}, {\"threshold\": 0.433, \"p\": 1142, \"fpr\": 0.40947075208913647, \"tpr\": 0.9246935201401051, \"n\": 359}, {\"threshold\": 0.434, \"p\": 1142, \"fpr\": 0.40947075208913647, \"tpr\": 0.9246935201401051, \"n\": 359}, {\"threshold\": 0.435, \"p\": 1142, \"fpr\": 0.40947075208913647, \"tpr\": 0.9246935201401051, \"n\": 359}, {\"threshold\": 0.436, \"p\": 1142, \"fpr\": 0.40947075208913647, \"tpr\": 0.9246935201401051, \"n\": 359}, {\"threshold\": 0.437, \"p\": 1142, \"fpr\": 0.40947075208913647, \"tpr\": 0.9246935201401051, \"n\": 359}, {\"threshold\": 0.438, \"p\": 1142, \"fpr\": 0.40947075208913647, \"tpr\": 0.9246935201401051, \"n\": 359}, {\"threshold\": 0.439, \"p\": 1142, \"fpr\": 0.40947075208913647, \"tpr\": 0.9246935201401051, \"n\": 359}, {\"threshold\": 0.44, \"p\": 1142, \"fpr\": 0.40947075208913647, \"tpr\": 0.9246935201401051, \"n\": 359}, {\"threshold\": 0.441, \"p\": 1142, \"fpr\": 0.40947075208913647, \"tpr\": 0.9246935201401051, \"n\": 359}, {\"threshold\": 0.442, \"p\": 1142, \"fpr\": 0.40947075208913647, \"tpr\": 0.9246935201401051, \"n\": 359}, {\"threshold\": 0.443, \"p\": 1142, \"fpr\": 0.40947075208913647, \"tpr\": 0.9246935201401051, \"n\": 359}, {\"threshold\": 0.444, \"p\": 1142, \"fpr\": 0.40668523676880225, \"tpr\": 0.9246935201401051, \"n\": 359}, {\"threshold\": 0.445, \"p\": 1142, \"fpr\": 0.40668523676880225, \"tpr\": 0.9246935201401051, \"n\": 359}, {\"threshold\": 0.446, \"p\": 1142, \"fpr\": 0.40668523676880225, \"tpr\": 0.9246935201401051, \"n\": 359}, {\"threshold\": 0.447, \"p\": 1142, \"fpr\": 0.40668523676880225, \"tpr\": 0.9246935201401051, \"n\": 359}, {\"threshold\": 0.448, \"p\": 1142, \"fpr\": 0.40668523676880225, \"tpr\": 0.9246935201401051, \"n\": 359}, {\"threshold\": 0.449, \"p\": 1142, \"fpr\": 0.40668523676880225, \"tpr\": 0.9246935201401051, \"n\": 359}, {\"threshold\": 0.45, \"p\": 1142, \"fpr\": 0.40668523676880225, \"tpr\": 0.9246935201401051, \"n\": 359}, {\"threshold\": 0.451, \"p\": 1142, \"fpr\": 0.40668523676880225, \"tpr\": 0.9246935201401051, \"n\": 359}, {\"threshold\": 0.452, \"p\": 1142, \"fpr\": 0.40668523676880225, \"tpr\": 0.9246935201401051, \"n\": 359}, {\"threshold\": 0.453, \"p\": 1142, \"fpr\": 0.40668523676880225, \"tpr\": 0.9246935201401051, \"n\": 359}, {\"threshold\": 0.454, \"p\": 1142, \"fpr\": 0.40668523676880225, \"tpr\": 0.9246935201401051, \"n\": 359}, {\"threshold\": 0.455, \"p\": 1142, \"fpr\": 0.40668523676880225, \"tpr\": 0.9246935201401051, \"n\": 359}, {\"threshold\": 0.456, \"p\": 1142, \"fpr\": 0.40668523676880225, \"tpr\": 0.9246935201401051, \"n\": 359}, {\"threshold\": 0.457, \"p\": 1142, \"fpr\": 0.40668523676880225, \"tpr\": 0.9246935201401051, \"n\": 359}, {\"threshold\": 0.458, \"p\": 1142, \"fpr\": 0.40668523676880225, \"tpr\": 0.9246935201401051, \"n\": 359}, {\"threshold\": 0.459, \"p\": 1142, \"fpr\": 0.403899721448468, \"tpr\": 0.9246935201401051, \"n\": 359}, {\"threshold\": 0.46, \"p\": 1142, \"fpr\": 0.403899721448468, \"tpr\": 0.9246935201401051, \"n\": 359}, {\"threshold\": 0.461, \"p\": 1142, \"fpr\": 0.403899721448468, \"tpr\": 0.9246935201401051, \"n\": 359}, {\"threshold\": 0.462, \"p\": 1142, \"fpr\": 0.403899721448468, \"tpr\": 0.9246935201401051, \"n\": 359}, {\"threshold\": 0.463, \"p\": 1142, \"fpr\": 0.403899721448468, \"tpr\": 0.9246935201401051, \"n\": 359}, {\"threshold\": 0.464, \"p\": 1142, \"fpr\": 0.403899721448468, \"tpr\": 0.9246935201401051, \"n\": 359}, {\"threshold\": 0.465, \"p\": 1142, \"fpr\": 0.403899721448468, \"tpr\": 0.9246935201401051, \"n\": 359}, {\"threshold\": 0.466, \"p\": 1142, \"fpr\": 0.403899721448468, \"tpr\": 0.9246935201401051, \"n\": 359}, {\"threshold\": 0.467, \"p\": 1142, \"fpr\": 0.403899721448468, \"tpr\": 0.9246935201401051, \"n\": 359}, {\"threshold\": 0.468, \"p\": 1142, \"fpr\": 0.403899721448468, \"tpr\": 0.9246935201401051, \"n\": 359}, {\"threshold\": 0.469, \"p\": 1142, \"fpr\": 0.403899721448468, \"tpr\": 0.9246935201401051, \"n\": 359}, {\"threshold\": 0.47, \"p\": 1142, \"fpr\": 0.403899721448468, \"tpr\": 0.9246935201401051, \"n\": 359}, {\"threshold\": 0.471, \"p\": 1142, \"fpr\": 0.403899721448468, \"tpr\": 0.9246935201401051, \"n\": 359}, {\"threshold\": 0.472, \"p\": 1142, \"fpr\": 0.403899721448468, \"tpr\": 0.9246935201401051, \"n\": 359}, {\"threshold\": 0.473, \"p\": 1142, \"fpr\": 0.403899721448468, \"tpr\": 0.9246935201401051, \"n\": 359}, {\"threshold\": 0.474, \"p\": 1142, \"fpr\": 0.403899721448468, \"tpr\": 0.9246935201401051, \"n\": 359}, {\"threshold\": 0.475, \"p\": 1142, \"fpr\": 0.403899721448468, \"tpr\": 0.9246935201401051, \"n\": 359}, {\"threshold\": 0.476, \"p\": 1142, \"fpr\": 0.403899721448468, \"tpr\": 0.9246935201401051, \"n\": 359}, {\"threshold\": 0.477, \"p\": 1142, \"fpr\": 0.403899721448468, \"tpr\": 0.9238178633975481, \"n\": 359}, {\"threshold\": 0.478, \"p\": 1142, \"fpr\": 0.403899721448468, \"tpr\": 0.9238178633975481, \"n\": 359}, {\"threshold\": 0.479, \"p\": 1142, \"fpr\": 0.403899721448468, \"tpr\": 0.9238178633975481, \"n\": 359}, {\"threshold\": 0.48, \"p\": 1142, \"fpr\": 0.403899721448468, \"tpr\": 0.9238178633975481, \"n\": 359}, {\"threshold\": 0.481, \"p\": 1142, \"fpr\": 0.403899721448468, \"tpr\": 0.9238178633975481, \"n\": 359}, {\"threshold\": 0.482, \"p\": 1142, \"fpr\": 0.403899721448468, \"tpr\": 0.9238178633975481, \"n\": 359}, {\"threshold\": 0.483, \"p\": 1142, \"fpr\": 0.403899721448468, \"tpr\": 0.9238178633975481, \"n\": 359}, {\"threshold\": 0.484, \"p\": 1142, \"fpr\": 0.403899721448468, \"tpr\": 0.9238178633975481, \"n\": 359}, {\"threshold\": 0.485, \"p\": 1142, \"fpr\": 0.403899721448468, \"tpr\": 0.9238178633975481, \"n\": 359}, {\"threshold\": 0.486, \"p\": 1142, \"fpr\": 0.403899721448468, \"tpr\": 0.9238178633975481, \"n\": 359}, {\"threshold\": 0.487, \"p\": 1142, \"fpr\": 0.4011142061281337, \"tpr\": 0.9238178633975481, \"n\": 359}, {\"threshold\": 0.488, \"p\": 1142, \"fpr\": 0.4011142061281337, \"tpr\": 0.9238178633975481, \"n\": 359}, {\"threshold\": 0.489, \"p\": 1142, \"fpr\": 0.4011142061281337, \"tpr\": 0.9238178633975481, \"n\": 359}, {\"threshold\": 0.49, \"p\": 1142, \"fpr\": 0.4011142061281337, \"tpr\": 0.9238178633975481, \"n\": 359}, {\"threshold\": 0.491, \"p\": 1142, \"fpr\": 0.4011142061281337, \"tpr\": 0.9238178633975481, \"n\": 359}, {\"threshold\": 0.492, \"p\": 1142, \"fpr\": 0.4011142061281337, \"tpr\": 0.9238178633975481, \"n\": 359}, {\"threshold\": 0.493, \"p\": 1142, \"fpr\": 0.4011142061281337, \"tpr\": 0.9238178633975481, \"n\": 359}, {\"threshold\": 0.494, \"p\": 1142, \"fpr\": 0.4011142061281337, \"tpr\": 0.9238178633975481, \"n\": 359}, {\"threshold\": 0.495, \"p\": 1142, \"fpr\": 0.4011142061281337, \"tpr\": 0.9238178633975481, \"n\": 359}, {\"threshold\": 0.496, \"p\": 1142, \"fpr\": 0.4011142061281337, \"tpr\": 0.9238178633975481, \"n\": 359}, {\"threshold\": 0.497, \"p\": 1142, \"fpr\": 0.4011142061281337, \"tpr\": 0.9238178633975481, \"n\": 359}, {\"threshold\": 0.498, \"p\": 1142, \"fpr\": 0.3983286908077994, \"tpr\": 0.9238178633975481, \"n\": 359}, {\"threshold\": 0.499, \"p\": 1142, \"fpr\": 0.3955431754874652, \"tpr\": 0.9238178633975481, \"n\": 359}, {\"threshold\": 0.5, \"p\": 1142, \"fpr\": 0.3955431754874652, \"tpr\": 0.9238178633975481, \"n\": 359}, {\"threshold\": 0.501, \"p\": 1142, \"fpr\": 0.3955431754874652, \"tpr\": 0.9229422066549913, \"n\": 359}, {\"threshold\": 0.502, \"p\": 1142, \"fpr\": 0.3955431754874652, \"tpr\": 0.9229422066549913, \"n\": 359}, {\"threshold\": 0.503, \"p\": 1142, \"fpr\": 0.3955431754874652, \"tpr\": 0.9229422066549913, \"n\": 359}, {\"threshold\": 0.504, \"p\": 1142, \"fpr\": 0.3955431754874652, \"tpr\": 0.9229422066549913, \"n\": 359}, {\"threshold\": 0.505, \"p\": 1142, \"fpr\": 0.3955431754874652, \"tpr\": 0.9229422066549913, \"n\": 359}, {\"threshold\": 0.506, \"p\": 1142, \"fpr\": 0.3955431754874652, \"tpr\": 0.9229422066549913, \"n\": 359}, {\"threshold\": 0.507, \"p\": 1142, \"fpr\": 0.3955431754874652, \"tpr\": 0.9229422066549913, \"n\": 359}, {\"threshold\": 0.508, \"p\": 1142, \"fpr\": 0.3955431754874652, \"tpr\": 0.9229422066549913, \"n\": 359}, {\"threshold\": 0.509, \"p\": 1142, \"fpr\": 0.3955431754874652, \"tpr\": 0.9229422066549913, \"n\": 359}, {\"threshold\": 0.51, \"p\": 1142, \"fpr\": 0.3955431754874652, \"tpr\": 0.9229422066549913, \"n\": 359}, {\"threshold\": 0.511, \"p\": 1142, \"fpr\": 0.3955431754874652, \"tpr\": 0.9229422066549913, \"n\": 359}, {\"threshold\": 0.512, \"p\": 1142, \"fpr\": 0.3955431754874652, \"tpr\": 0.9229422066549913, \"n\": 359}, {\"threshold\": 0.513, \"p\": 1142, \"fpr\": 0.3955431754874652, \"tpr\": 0.9229422066549913, \"n\": 359}, {\"threshold\": 0.514, \"p\": 1142, \"fpr\": 0.3955431754874652, \"tpr\": 0.9229422066549913, \"n\": 359}, {\"threshold\": 0.515, \"p\": 1142, \"fpr\": 0.3955431754874652, \"tpr\": 0.9229422066549913, \"n\": 359}, {\"threshold\": 0.516, \"p\": 1142, \"fpr\": 0.3955431754874652, \"tpr\": 0.9229422066549913, \"n\": 359}, {\"threshold\": 0.517, \"p\": 1142, \"fpr\": 0.3955431754874652, \"tpr\": 0.9229422066549913, \"n\": 359}, {\"threshold\": 0.518, \"p\": 1142, \"fpr\": 0.3955431754874652, \"tpr\": 0.9229422066549913, \"n\": 359}, {\"threshold\": 0.519, \"p\": 1142, \"fpr\": 0.3955431754874652, \"tpr\": 0.9220665499124343, \"n\": 359}, {\"threshold\": 0.52, \"p\": 1142, \"fpr\": 0.3955431754874652, \"tpr\": 0.9220665499124343, \"n\": 359}, {\"threshold\": 0.521, \"p\": 1142, \"fpr\": 0.3955431754874652, \"tpr\": 0.9220665499124343, \"n\": 359}, {\"threshold\": 0.522, \"p\": 1142, \"fpr\": 0.3955431754874652, \"tpr\": 0.9220665499124343, \"n\": 359}, {\"threshold\": 0.523, \"p\": 1142, \"fpr\": 0.3955431754874652, \"tpr\": 0.9220665499124343, \"n\": 359}, {\"threshold\": 0.524, \"p\": 1142, \"fpr\": 0.3955431754874652, \"tpr\": 0.9220665499124343, \"n\": 359}, {\"threshold\": 0.525, \"p\": 1142, \"fpr\": 0.3955431754874652, \"tpr\": 0.9220665499124343, \"n\": 359}, {\"threshold\": 0.526, \"p\": 1142, \"fpr\": 0.3955431754874652, \"tpr\": 0.9220665499124343, \"n\": 359}, {\"threshold\": 0.527, \"p\": 1142, \"fpr\": 0.3955431754874652, \"tpr\": 0.9220665499124343, \"n\": 359}, {\"threshold\": 0.528, \"p\": 1142, \"fpr\": 0.3955431754874652, \"tpr\": 0.9220665499124343, \"n\": 359}, {\"threshold\": 0.529, \"p\": 1142, \"fpr\": 0.3955431754874652, \"tpr\": 0.9220665499124343, \"n\": 359}, {\"threshold\": 0.53, \"p\": 1142, \"fpr\": 0.3955431754874652, \"tpr\": 0.9220665499124343, \"n\": 359}, {\"threshold\": 0.531, \"p\": 1142, \"fpr\": 0.3955431754874652, \"tpr\": 0.9220665499124343, \"n\": 359}, {\"threshold\": 0.532, \"p\": 1142, \"fpr\": 0.3955431754874652, \"tpr\": 0.9220665499124343, \"n\": 359}, {\"threshold\": 0.533, \"p\": 1142, \"fpr\": 0.3955431754874652, \"tpr\": 0.9220665499124343, \"n\": 359}, {\"threshold\": 0.534, \"p\": 1142, \"fpr\": 0.3955431754874652, \"tpr\": 0.9220665499124343, \"n\": 359}, {\"threshold\": 0.535, \"p\": 1142, \"fpr\": 0.3955431754874652, \"tpr\": 0.9220665499124343, \"n\": 359}, {\"threshold\": 0.536, \"p\": 1142, \"fpr\": 0.3955431754874652, \"tpr\": 0.9211908931698775, \"n\": 359}, {\"threshold\": 0.537, \"p\": 1142, \"fpr\": 0.3955431754874652, \"tpr\": 0.9211908931698775, \"n\": 359}, {\"threshold\": 0.538, \"p\": 1142, \"fpr\": 0.3955431754874652, \"tpr\": 0.9194395796847635, \"n\": 359}, {\"threshold\": 0.539, \"p\": 1142, \"fpr\": 0.3955431754874652, \"tpr\": 0.9194395796847635, \"n\": 359}, {\"threshold\": 0.54, \"p\": 1142, \"fpr\": 0.3955431754874652, \"tpr\": 0.9194395796847635, \"n\": 359}, {\"threshold\": 0.541, \"p\": 1142, \"fpr\": 0.3955431754874652, \"tpr\": 0.9194395796847635, \"n\": 359}, {\"threshold\": 0.542, \"p\": 1142, \"fpr\": 0.3955431754874652, \"tpr\": 0.9194395796847635, \"n\": 359}, {\"threshold\": 0.543, \"p\": 1142, \"fpr\": 0.3955431754874652, \"tpr\": 0.9194395796847635, \"n\": 359}, {\"threshold\": 0.544, \"p\": 1142, \"fpr\": 0.3955431754874652, \"tpr\": 0.9194395796847635, \"n\": 359}, {\"threshold\": 0.545, \"p\": 1142, \"fpr\": 0.3955431754874652, \"tpr\": 0.9194395796847635, \"n\": 359}, {\"threshold\": 0.546, \"p\": 1142, \"fpr\": 0.3955431754874652, \"tpr\": 0.9194395796847635, \"n\": 359}, {\"threshold\": 0.547, \"p\": 1142, \"fpr\": 0.3955431754874652, \"tpr\": 0.9194395796847635, \"n\": 359}, {\"threshold\": 0.548, \"p\": 1142, \"fpr\": 0.3955431754874652, \"tpr\": 0.9194395796847635, \"n\": 359}, {\"threshold\": 0.549, \"p\": 1142, \"fpr\": 0.3955431754874652, \"tpr\": 0.9194395796847635, \"n\": 359}, {\"threshold\": 0.55, \"p\": 1142, \"fpr\": 0.3955431754874652, \"tpr\": 0.9194395796847635, \"n\": 359}, {\"threshold\": 0.551, \"p\": 1142, \"fpr\": 0.3955431754874652, \"tpr\": 0.9194395796847635, \"n\": 359}, {\"threshold\": 0.552, \"p\": 1142, \"fpr\": 0.3955431754874652, \"tpr\": 0.9194395796847635, \"n\": 359}, {\"threshold\": 0.553, \"p\": 1142, \"fpr\": 0.3955431754874652, \"tpr\": 0.9194395796847635, \"n\": 359}, {\"threshold\": 0.554, \"p\": 1142, \"fpr\": 0.3955431754874652, \"tpr\": 0.9194395796847635, \"n\": 359}, {\"threshold\": 0.555, \"p\": 1142, \"fpr\": 0.3955431754874652, \"tpr\": 0.9194395796847635, \"n\": 359}, {\"threshold\": 0.556, \"p\": 1142, \"fpr\": 0.39275766016713093, \"tpr\": 0.9194395796847635, \"n\": 359}, {\"threshold\": 0.557, \"p\": 1142, \"fpr\": 0.39275766016713093, \"tpr\": 0.9194395796847635, \"n\": 359}, {\"threshold\": 0.558, \"p\": 1142, \"fpr\": 0.39275766016713093, \"tpr\": 0.9194395796847635, \"n\": 359}, {\"threshold\": 0.559, \"p\": 1142, \"fpr\": 0.39275766016713093, \"tpr\": 0.9194395796847635, \"n\": 359}, {\"threshold\": 0.56, \"p\": 1142, \"fpr\": 0.39275766016713093, \"tpr\": 0.9194395796847635, \"n\": 359}, {\"threshold\": 0.561, \"p\": 1142, \"fpr\": 0.38997214484679665, \"tpr\": 0.9194395796847635, \"n\": 359}, {\"threshold\": 0.562, \"p\": 1142, \"fpr\": 0.3871866295264624, \"tpr\": 0.9194395796847635, \"n\": 359}, {\"threshold\": 0.563, \"p\": 1142, \"fpr\": 0.3871866295264624, \"tpr\": 0.9194395796847635, \"n\": 359}, {\"threshold\": 0.564, \"p\": 1142, \"fpr\": 0.3871866295264624, \"tpr\": 0.9194395796847635, \"n\": 359}, {\"threshold\": 0.565, \"p\": 1142, \"fpr\": 0.3871866295264624, \"tpr\": 0.9194395796847635, \"n\": 359}, {\"threshold\": 0.566, \"p\": 1142, \"fpr\": 0.3871866295264624, \"tpr\": 0.9194395796847635, \"n\": 359}, {\"threshold\": 0.567, \"p\": 1142, \"fpr\": 0.3871866295264624, \"tpr\": 0.9194395796847635, \"n\": 359}, {\"threshold\": 0.568, \"p\": 1142, \"fpr\": 0.3871866295264624, \"tpr\": 0.9194395796847635, \"n\": 359}, {\"threshold\": 0.569, \"p\": 1142, \"fpr\": 0.3871866295264624, \"tpr\": 0.9194395796847635, \"n\": 359}, {\"threshold\": 0.57, \"p\": 1142, \"fpr\": 0.3871866295264624, \"tpr\": 0.9194395796847635, \"n\": 359}, {\"threshold\": 0.571, \"p\": 1142, \"fpr\": 0.3871866295264624, \"tpr\": 0.9194395796847635, \"n\": 359}, {\"threshold\": 0.572, \"p\": 1142, \"fpr\": 0.3871866295264624, \"tpr\": 0.9194395796847635, \"n\": 359}, {\"threshold\": 0.573, \"p\": 1142, \"fpr\": 0.3871866295264624, \"tpr\": 0.9194395796847635, \"n\": 359}, {\"threshold\": 0.574, \"p\": 1142, \"fpr\": 0.3871866295264624, \"tpr\": 0.9194395796847635, \"n\": 359}, {\"threshold\": 0.575, \"p\": 1142, \"fpr\": 0.3871866295264624, \"tpr\": 0.9194395796847635, \"n\": 359}, {\"threshold\": 0.576, \"p\": 1142, \"fpr\": 0.3871866295264624, \"tpr\": 0.9194395796847635, \"n\": 359}, {\"threshold\": 0.577, \"p\": 1142, \"fpr\": 0.3871866295264624, \"tpr\": 0.9194395796847635, \"n\": 359}, {\"threshold\": 0.578, \"p\": 1142, \"fpr\": 0.3871866295264624, \"tpr\": 0.9194395796847635, \"n\": 359}, {\"threshold\": 0.579, \"p\": 1142, \"fpr\": 0.3871866295264624, \"tpr\": 0.9185639229422067, \"n\": 359}, {\"threshold\": 0.58, \"p\": 1142, \"fpr\": 0.3871866295264624, \"tpr\": 0.9185639229422067, \"n\": 359}, {\"threshold\": 0.581, \"p\": 1142, \"fpr\": 0.3871866295264624, \"tpr\": 0.9185639229422067, \"n\": 359}, {\"threshold\": 0.582, \"p\": 1142, \"fpr\": 0.3871866295264624, \"tpr\": 0.9185639229422067, \"n\": 359}, {\"threshold\": 0.583, \"p\": 1142, \"fpr\": 0.3871866295264624, \"tpr\": 0.9185639229422067, \"n\": 359}, {\"threshold\": 0.584, \"p\": 1142, \"fpr\": 0.3871866295264624, \"tpr\": 0.9185639229422067, \"n\": 359}, {\"threshold\": 0.585, \"p\": 1142, \"fpr\": 0.3871866295264624, \"tpr\": 0.9185639229422067, \"n\": 359}, {\"threshold\": 0.586, \"p\": 1142, \"fpr\": 0.3871866295264624, \"tpr\": 0.9185639229422067, \"n\": 359}, {\"threshold\": 0.587, \"p\": 1142, \"fpr\": 0.3871866295264624, \"tpr\": 0.9176882661996497, \"n\": 359}, {\"threshold\": 0.588, \"p\": 1142, \"fpr\": 0.3871866295264624, \"tpr\": 0.9176882661996497, \"n\": 359}, {\"threshold\": 0.589, \"p\": 1142, \"fpr\": 0.3871866295264624, \"tpr\": 0.9176882661996497, \"n\": 359}, {\"threshold\": 0.59, \"p\": 1142, \"fpr\": 0.38440111420612816, \"tpr\": 0.9176882661996497, \"n\": 359}, {\"threshold\": 0.591, \"p\": 1142, \"fpr\": 0.38440111420612816, \"tpr\": 0.9176882661996497, \"n\": 359}, {\"threshold\": 0.592, \"p\": 1142, \"fpr\": 0.38440111420612816, \"tpr\": 0.9176882661996497, \"n\": 359}, {\"threshold\": 0.593, \"p\": 1142, \"fpr\": 0.38440111420612816, \"tpr\": 0.9176882661996497, \"n\": 359}, {\"threshold\": 0.594, \"p\": 1142, \"fpr\": 0.38440111420612816, \"tpr\": 0.9176882661996497, \"n\": 359}, {\"threshold\": 0.595, \"p\": 1142, \"fpr\": 0.38440111420612816, \"tpr\": 0.9176882661996497, \"n\": 359}, {\"threshold\": 0.596, \"p\": 1142, \"fpr\": 0.38440111420612816, \"tpr\": 0.9176882661996497, \"n\": 359}, {\"threshold\": 0.597, \"p\": 1142, \"fpr\": 0.38440111420612816, \"tpr\": 0.9176882661996497, \"n\": 359}, {\"threshold\": 0.598, \"p\": 1142, \"fpr\": 0.38440111420612816, \"tpr\": 0.9176882661996497, \"n\": 359}, {\"threshold\": 0.599, \"p\": 1142, \"fpr\": 0.38440111420612816, \"tpr\": 0.9176882661996497, \"n\": 359}, {\"threshold\": 0.6, \"p\": 1142, \"fpr\": 0.38440111420612816, \"tpr\": 0.9176882661996497, \"n\": 359}, {\"threshold\": 0.601, \"p\": 1142, \"fpr\": 0.38440111420612816, \"tpr\": 0.9176882661996497, \"n\": 359}, {\"threshold\": 0.602, \"p\": 1142, \"fpr\": 0.38440111420612816, \"tpr\": 0.9176882661996497, \"n\": 359}, {\"threshold\": 0.603, \"p\": 1142, \"fpr\": 0.38440111420612816, \"tpr\": 0.9176882661996497, \"n\": 359}, {\"threshold\": 0.604, \"p\": 1142, \"fpr\": 0.38440111420612816, \"tpr\": 0.9168126094570929, \"n\": 359}, {\"threshold\": 0.605, \"p\": 1142, \"fpr\": 0.38440111420612816, \"tpr\": 0.9168126094570929, \"n\": 359}, {\"threshold\": 0.606, \"p\": 1142, \"fpr\": 0.38440111420612816, \"tpr\": 0.9168126094570929, \"n\": 359}, {\"threshold\": 0.607, \"p\": 1142, \"fpr\": 0.38440111420612816, \"tpr\": 0.9168126094570929, \"n\": 359}, {\"threshold\": 0.608, \"p\": 1142, \"fpr\": 0.38440111420612816, \"tpr\": 0.9168126094570929, \"n\": 359}, {\"threshold\": 0.609, \"p\": 1142, \"fpr\": 0.38440111420612816, \"tpr\": 0.9168126094570929, \"n\": 359}, {\"threshold\": 0.61, \"p\": 1142, \"fpr\": 0.38440111420612816, \"tpr\": 0.9168126094570929, \"n\": 359}, {\"threshold\": 0.611, \"p\": 1142, \"fpr\": 0.38440111420612816, \"tpr\": 0.9168126094570929, \"n\": 359}, {\"threshold\": 0.612, \"p\": 1142, \"fpr\": 0.38440111420612816, \"tpr\": 0.9168126094570929, \"n\": 359}, {\"threshold\": 0.613, \"p\": 1142, \"fpr\": 0.38440111420612816, \"tpr\": 0.9168126094570929, \"n\": 359}, {\"threshold\": 0.614, \"p\": 1142, \"fpr\": 0.38440111420612816, \"tpr\": 0.9168126094570929, \"n\": 359}, {\"threshold\": 0.615, \"p\": 1142, \"fpr\": 0.38440111420612816, \"tpr\": 0.9168126094570929, \"n\": 359}, {\"threshold\": 0.616, \"p\": 1142, \"fpr\": 0.38440111420612816, \"tpr\": 0.9168126094570929, \"n\": 359}, {\"threshold\": 0.617, \"p\": 1142, \"fpr\": 0.38440111420612816, \"tpr\": 0.9159369527145359, \"n\": 359}, {\"threshold\": 0.618, \"p\": 1142, \"fpr\": 0.38440111420612816, \"tpr\": 0.9159369527145359, \"n\": 359}, {\"threshold\": 0.619, \"p\": 1142, \"fpr\": 0.38440111420612816, \"tpr\": 0.9159369527145359, \"n\": 359}, {\"threshold\": 0.62, \"p\": 1142, \"fpr\": 0.38440111420612816, \"tpr\": 0.9159369527145359, \"n\": 359}, {\"threshold\": 0.621, \"p\": 1142, \"fpr\": 0.38440111420612816, \"tpr\": 0.9159369527145359, \"n\": 359}, {\"threshold\": 0.622, \"p\": 1142, \"fpr\": 0.38440111420612816, \"tpr\": 0.9159369527145359, \"n\": 359}, {\"threshold\": 0.623, \"p\": 1142, \"fpr\": 0.38440111420612816, \"tpr\": 0.9159369527145359, \"n\": 359}, {\"threshold\": 0.624, \"p\": 1142, \"fpr\": 0.38440111420612816, \"tpr\": 0.9159369527145359, \"n\": 359}, {\"threshold\": 0.625, \"p\": 1142, \"fpr\": 0.38440111420612816, \"tpr\": 0.9159369527145359, \"n\": 359}, {\"threshold\": 0.626, \"p\": 1142, \"fpr\": 0.38440111420612816, \"tpr\": 0.9159369527145359, \"n\": 359}, {\"threshold\": 0.627, \"p\": 1142, \"fpr\": 0.38440111420612816, \"tpr\": 0.9150612959719789, \"n\": 359}, {\"threshold\": 0.628, \"p\": 1142, \"fpr\": 0.38440111420612816, \"tpr\": 0.9150612959719789, \"n\": 359}, {\"threshold\": 0.629, \"p\": 1142, \"fpr\": 0.38440111420612816, \"tpr\": 0.9150612959719789, \"n\": 359}, {\"threshold\": 0.63, \"p\": 1142, \"fpr\": 0.38440111420612816, \"tpr\": 0.9150612959719789, \"n\": 359}, {\"threshold\": 0.631, \"p\": 1142, \"fpr\": 0.38440111420612816, \"tpr\": 0.9150612959719789, \"n\": 359}, {\"threshold\": 0.632, \"p\": 1142, \"fpr\": 0.38440111420612816, \"tpr\": 0.9150612959719789, \"n\": 359}, {\"threshold\": 0.633, \"p\": 1142, \"fpr\": 0.38440111420612816, \"tpr\": 0.9150612959719789, \"n\": 359}, {\"threshold\": 0.634, \"p\": 1142, \"fpr\": 0.38440111420612816, \"tpr\": 0.9141856392294221, \"n\": 359}, {\"threshold\": 0.635, \"p\": 1142, \"fpr\": 0.38440111420612816, \"tpr\": 0.9141856392294221, \"n\": 359}, {\"threshold\": 0.636, \"p\": 1142, \"fpr\": 0.38440111420612816, \"tpr\": 0.9141856392294221, \"n\": 359}, {\"threshold\": 0.637, \"p\": 1142, \"fpr\": 0.38440111420612816, \"tpr\": 0.9141856392294221, \"n\": 359}, {\"threshold\": 0.638, \"p\": 1142, \"fpr\": 0.38440111420612816, \"tpr\": 0.9141856392294221, \"n\": 359}, {\"threshold\": 0.639, \"p\": 1142, \"fpr\": 0.38440111420612816, \"tpr\": 0.9141856392294221, \"n\": 359}, {\"threshold\": 0.64, \"p\": 1142, \"fpr\": 0.38440111420612816, \"tpr\": 0.9141856392294221, \"n\": 359}, {\"threshold\": 0.641, \"p\": 1142, \"fpr\": 0.38440111420612816, \"tpr\": 0.9141856392294221, \"n\": 359}, {\"threshold\": 0.642, \"p\": 1142, \"fpr\": 0.38440111420612816, \"tpr\": 0.9133099824868651, \"n\": 359}, {\"threshold\": 0.643, \"p\": 1142, \"fpr\": 0.38440111420612816, \"tpr\": 0.9133099824868651, \"n\": 359}, {\"threshold\": 0.644, \"p\": 1142, \"fpr\": 0.38440111420612816, \"tpr\": 0.9133099824868651, \"n\": 359}, {\"threshold\": 0.645, \"p\": 1142, \"fpr\": 0.38440111420612816, \"tpr\": 0.9133099824868651, \"n\": 359}, {\"threshold\": 0.646, \"p\": 1142, \"fpr\": 0.38440111420612816, \"tpr\": 0.9133099824868651, \"n\": 359}, {\"threshold\": 0.647, \"p\": 1142, \"fpr\": 0.38440111420612816, \"tpr\": 0.9133099824868651, \"n\": 359}, {\"threshold\": 0.648, \"p\": 1142, \"fpr\": 0.38440111420612816, \"tpr\": 0.9133099824868651, \"n\": 359}, {\"threshold\": 0.649, \"p\": 1142, \"fpr\": 0.38440111420612816, \"tpr\": 0.9133099824868651, \"n\": 359}, {\"threshold\": 0.65, \"p\": 1142, \"fpr\": 0.38440111420612816, \"tpr\": 0.9124343257443083, \"n\": 359}, {\"threshold\": 0.651, \"p\": 1142, \"fpr\": 0.38440111420612816, \"tpr\": 0.9124343257443083, \"n\": 359}, {\"threshold\": 0.652, \"p\": 1142, \"fpr\": 0.38440111420612816, \"tpr\": 0.9124343257443083, \"n\": 359}, {\"threshold\": 0.653, \"p\": 1142, \"fpr\": 0.38440111420612816, \"tpr\": 0.9124343257443083, \"n\": 359}, {\"threshold\": 0.654, \"p\": 1142, \"fpr\": 0.38440111420612816, \"tpr\": 0.9124343257443083, \"n\": 359}, {\"threshold\": 0.655, \"p\": 1142, \"fpr\": 0.38440111420612816, \"tpr\": 0.9124343257443083, \"n\": 359}, {\"threshold\": 0.656, \"p\": 1142, \"fpr\": 0.38440111420612816, \"tpr\": 0.9124343257443083, \"n\": 359}, {\"threshold\": 0.657, \"p\": 1142, \"fpr\": 0.38440111420612816, \"tpr\": 0.9124343257443083, \"n\": 359}, {\"threshold\": 0.658, \"p\": 1142, \"fpr\": 0.38440111420612816, \"tpr\": 0.9124343257443083, \"n\": 359}, {\"threshold\": 0.659, \"p\": 1142, \"fpr\": 0.38440111420612816, \"tpr\": 0.9124343257443083, \"n\": 359}, {\"threshold\": 0.66, \"p\": 1142, \"fpr\": 0.38440111420612816, \"tpr\": 0.9124343257443083, \"n\": 359}, {\"threshold\": 0.661, \"p\": 1142, \"fpr\": 0.38440111420612816, \"tpr\": 0.9124343257443083, \"n\": 359}, {\"threshold\": 0.662, \"p\": 1142, \"fpr\": 0.38440111420612816, \"tpr\": 0.9124343257443083, \"n\": 359}, {\"threshold\": 0.663, \"p\": 1142, \"fpr\": 0.38440111420612816, \"tpr\": 0.9124343257443083, \"n\": 359}, {\"threshold\": 0.664, \"p\": 1142, \"fpr\": 0.38440111420612816, \"tpr\": 0.9124343257443083, \"n\": 359}, {\"threshold\": 0.665, \"p\": 1142, \"fpr\": 0.38440111420612816, \"tpr\": 0.9124343257443083, \"n\": 359}, {\"threshold\": 0.666, \"p\": 1142, \"fpr\": 0.38440111420612816, \"tpr\": 0.9124343257443083, \"n\": 359}, {\"threshold\": 0.667, \"p\": 1142, \"fpr\": 0.38440111420612816, \"tpr\": 0.9124343257443083, \"n\": 359}, {\"threshold\": 0.668, \"p\": 1142, \"fpr\": 0.3816155988857939, \"tpr\": 0.9124343257443083, \"n\": 359}, {\"threshold\": 0.669, \"p\": 1142, \"fpr\": 0.3816155988857939, \"tpr\": 0.9124343257443083, \"n\": 359}, {\"threshold\": 0.67, \"p\": 1142, \"fpr\": 0.3816155988857939, \"tpr\": 0.9124343257443083, \"n\": 359}, {\"threshold\": 0.671, \"p\": 1142, \"fpr\": 0.3816155988857939, \"tpr\": 0.9124343257443083, \"n\": 359}, {\"threshold\": 0.672, \"p\": 1142, \"fpr\": 0.3816155988857939, \"tpr\": 0.9124343257443083, \"n\": 359}, {\"threshold\": 0.673, \"p\": 1142, \"fpr\": 0.3816155988857939, \"tpr\": 0.9124343257443083, \"n\": 359}, {\"threshold\": 0.674, \"p\": 1142, \"fpr\": 0.3816155988857939, \"tpr\": 0.9124343257443083, \"n\": 359}, {\"threshold\": 0.675, \"p\": 1142, \"fpr\": 0.3788300835654596, \"tpr\": 0.9115586690017513, \"n\": 359}, {\"threshold\": 0.676, \"p\": 1142, \"fpr\": 0.3788300835654596, \"tpr\": 0.9115586690017513, \"n\": 359}, {\"threshold\": 0.677, \"p\": 1142, \"fpr\": 0.3788300835654596, \"tpr\": 0.9115586690017513, \"n\": 359}, {\"threshold\": 0.678, \"p\": 1142, \"fpr\": 0.3788300835654596, \"tpr\": 0.9115586690017513, \"n\": 359}, {\"threshold\": 0.679, \"p\": 1142, \"fpr\": 0.3788300835654596, \"tpr\": 0.9106830122591943, \"n\": 359}, {\"threshold\": 0.68, \"p\": 1142, \"fpr\": 0.3788300835654596, \"tpr\": 0.9106830122591943, \"n\": 359}, {\"threshold\": 0.681, \"p\": 1142, \"fpr\": 0.3788300835654596, \"tpr\": 0.9106830122591943, \"n\": 359}, {\"threshold\": 0.682, \"p\": 1142, \"fpr\": 0.3788300835654596, \"tpr\": 0.9106830122591943, \"n\": 359}, {\"threshold\": 0.683, \"p\": 1142, \"fpr\": 0.3788300835654596, \"tpr\": 0.9106830122591943, \"n\": 359}, {\"threshold\": 0.684, \"p\": 1142, \"fpr\": 0.3788300835654596, \"tpr\": 0.9106830122591943, \"n\": 359}, {\"threshold\": 0.685, \"p\": 1142, \"fpr\": 0.3788300835654596, \"tpr\": 0.9106830122591943, \"n\": 359}, {\"threshold\": 0.686, \"p\": 1142, \"fpr\": 0.3788300835654596, \"tpr\": 0.9106830122591943, \"n\": 359}, {\"threshold\": 0.687, \"p\": 1142, \"fpr\": 0.3788300835654596, \"tpr\": 0.9098073555166375, \"n\": 359}, {\"threshold\": 0.688, \"p\": 1142, \"fpr\": 0.3788300835654596, \"tpr\": 0.9098073555166375, \"n\": 359}, {\"threshold\": 0.689, \"p\": 1142, \"fpr\": 0.3788300835654596, \"tpr\": 0.9098073555166375, \"n\": 359}, {\"threshold\": 0.69, \"p\": 1142, \"fpr\": 0.3788300835654596, \"tpr\": 0.9098073555166375, \"n\": 359}, {\"threshold\": 0.691, \"p\": 1142, \"fpr\": 0.3788300835654596, \"tpr\": 0.9089316987740805, \"n\": 359}, {\"threshold\": 0.692, \"p\": 1142, \"fpr\": 0.3788300835654596, \"tpr\": 0.9089316987740805, \"n\": 359}, {\"threshold\": 0.693, \"p\": 1142, \"fpr\": 0.3788300835654596, \"tpr\": 0.9089316987740805, \"n\": 359}, {\"threshold\": 0.694, \"p\": 1142, \"fpr\": 0.37604456824512533, \"tpr\": 0.9089316987740805, \"n\": 359}, {\"threshold\": 0.695, \"p\": 1142, \"fpr\": 0.37604456824512533, \"tpr\": 0.9080560420315237, \"n\": 359}, {\"threshold\": 0.696, \"p\": 1142, \"fpr\": 0.37604456824512533, \"tpr\": 0.9080560420315237, \"n\": 359}, {\"threshold\": 0.697, \"p\": 1142, \"fpr\": 0.37604456824512533, \"tpr\": 0.9080560420315237, \"n\": 359}, {\"threshold\": 0.698, \"p\": 1142, \"fpr\": 0.37604456824512533, \"tpr\": 0.9080560420315237, \"n\": 359}, {\"threshold\": 0.699, \"p\": 1142, \"fpr\": 0.37604456824512533, \"tpr\": 0.9080560420315237, \"n\": 359}, {\"threshold\": 0.7, \"p\": 1142, \"fpr\": 0.37604456824512533, \"tpr\": 0.9080560420315237, \"n\": 359}, {\"threshold\": 0.701, \"p\": 1142, \"fpr\": 0.37604456824512533, \"tpr\": 0.9080560420315237, \"n\": 359}, {\"threshold\": 0.702, \"p\": 1142, \"fpr\": 0.37604456824512533, \"tpr\": 0.9080560420315237, \"n\": 359}, {\"threshold\": 0.703, \"p\": 1142, \"fpr\": 0.37604456824512533, \"tpr\": 0.9080560420315237, \"n\": 359}, {\"threshold\": 0.704, \"p\": 1142, \"fpr\": 0.37604456824512533, \"tpr\": 0.9080560420315237, \"n\": 359}, {\"threshold\": 0.705, \"p\": 1142, \"fpr\": 0.37604456824512533, \"tpr\": 0.9080560420315237, \"n\": 359}, {\"threshold\": 0.706, \"p\": 1142, \"fpr\": 0.37604456824512533, \"tpr\": 0.9080560420315237, \"n\": 359}, {\"threshold\": 0.707, \"p\": 1142, \"fpr\": 0.37604456824512533, \"tpr\": 0.9080560420315237, \"n\": 359}, {\"threshold\": 0.708, \"p\": 1142, \"fpr\": 0.37604456824512533, \"tpr\": 0.9071803852889667, \"n\": 359}, {\"threshold\": 0.709, \"p\": 1142, \"fpr\": 0.37604456824512533, \"tpr\": 0.9071803852889667, \"n\": 359}, {\"threshold\": 0.71, \"p\": 1142, \"fpr\": 0.37604456824512533, \"tpr\": 0.9071803852889667, \"n\": 359}, {\"threshold\": 0.711, \"p\": 1142, \"fpr\": 0.37604456824512533, \"tpr\": 0.9071803852889667, \"n\": 359}, {\"threshold\": 0.712, \"p\": 1142, \"fpr\": 0.37604456824512533, \"tpr\": 0.9071803852889667, \"n\": 359}, {\"threshold\": 0.713, \"p\": 1142, \"fpr\": 0.37604456824512533, \"tpr\": 0.9071803852889667, \"n\": 359}, {\"threshold\": 0.714, \"p\": 1142, \"fpr\": 0.37604456824512533, \"tpr\": 0.9071803852889667, \"n\": 359}, {\"threshold\": 0.715, \"p\": 1142, \"fpr\": 0.37604456824512533, \"tpr\": 0.9063047285464098, \"n\": 359}, {\"threshold\": 0.716, \"p\": 1142, \"fpr\": 0.3732590529247911, \"tpr\": 0.9054290718038529, \"n\": 359}, {\"threshold\": 0.717, \"p\": 1142, \"fpr\": 0.3732590529247911, \"tpr\": 0.9054290718038529, \"n\": 359}, {\"threshold\": 0.718, \"p\": 1142, \"fpr\": 0.3732590529247911, \"tpr\": 0.9054290718038529, \"n\": 359}, {\"threshold\": 0.719, \"p\": 1142, \"fpr\": 0.3732590529247911, \"tpr\": 0.9054290718038529, \"n\": 359}, {\"threshold\": 0.72, \"p\": 1142, \"fpr\": 0.3732590529247911, \"tpr\": 0.9054290718038529, \"n\": 359}, {\"threshold\": 0.721, \"p\": 1142, \"fpr\": 0.3732590529247911, \"tpr\": 0.9054290718038529, \"n\": 359}, {\"threshold\": 0.722, \"p\": 1142, \"fpr\": 0.3732590529247911, \"tpr\": 0.9054290718038529, \"n\": 359}, {\"threshold\": 0.723, \"p\": 1142, \"fpr\": 0.3732590529247911, \"tpr\": 0.9054290718038529, \"n\": 359}, {\"threshold\": 0.724, \"p\": 1142, \"fpr\": 0.3732590529247911, \"tpr\": 0.9054290718038529, \"n\": 359}, {\"threshold\": 0.725, \"p\": 1142, \"fpr\": 0.3732590529247911, \"tpr\": 0.9054290718038529, \"n\": 359}, {\"threshold\": 0.726, \"p\": 1142, \"fpr\": 0.3732590529247911, \"tpr\": 0.9054290718038529, \"n\": 359}, {\"threshold\": 0.727, \"p\": 1142, \"fpr\": 0.3732590529247911, \"tpr\": 0.9054290718038529, \"n\": 359}, {\"threshold\": 0.728, \"p\": 1142, \"fpr\": 0.3732590529247911, \"tpr\": 0.9054290718038529, \"n\": 359}, {\"threshold\": 0.729, \"p\": 1142, \"fpr\": 0.3732590529247911, \"tpr\": 0.9054290718038529, \"n\": 359}, {\"threshold\": 0.73, \"p\": 1142, \"fpr\": 0.3732590529247911, \"tpr\": 0.9054290718038529, \"n\": 359}, {\"threshold\": 0.731, \"p\": 1142, \"fpr\": 0.3732590529247911, \"tpr\": 0.9054290718038529, \"n\": 359}, {\"threshold\": 0.732, \"p\": 1142, \"fpr\": 0.37047353760445684, \"tpr\": 0.9054290718038529, \"n\": 359}, {\"threshold\": 0.733, \"p\": 1142, \"fpr\": 0.37047353760445684, \"tpr\": 0.9054290718038529, \"n\": 359}, {\"threshold\": 0.734, \"p\": 1142, \"fpr\": 0.37047353760445684, \"tpr\": 0.9054290718038529, \"n\": 359}, {\"threshold\": 0.735, \"p\": 1142, \"fpr\": 0.37047353760445684, \"tpr\": 0.9054290718038529, \"n\": 359}, {\"threshold\": 0.736, \"p\": 1142, \"fpr\": 0.37047353760445684, \"tpr\": 0.9054290718038529, \"n\": 359}, {\"threshold\": 0.737, \"p\": 1142, \"fpr\": 0.37047353760445684, \"tpr\": 0.9045534150612959, \"n\": 359}, {\"threshold\": 0.738, \"p\": 1142, \"fpr\": 0.37047353760445684, \"tpr\": 0.9045534150612959, \"n\": 359}, {\"threshold\": 0.739, \"p\": 1142, \"fpr\": 0.37047353760445684, \"tpr\": 0.9045534150612959, \"n\": 359}, {\"threshold\": 0.74, \"p\": 1142, \"fpr\": 0.37047353760445684, \"tpr\": 0.9045534150612959, \"n\": 359}, {\"threshold\": 0.741, \"p\": 1142, \"fpr\": 0.37047353760445684, \"tpr\": 0.9045534150612959, \"n\": 359}, {\"threshold\": 0.742, \"p\": 1142, \"fpr\": 0.37047353760445684, \"tpr\": 0.9028021015761821, \"n\": 359}, {\"threshold\": 0.743, \"p\": 1142, \"fpr\": 0.37047353760445684, \"tpr\": 0.9028021015761821, \"n\": 359}, {\"threshold\": 0.744, \"p\": 1142, \"fpr\": 0.37047353760445684, \"tpr\": 0.9028021015761821, \"n\": 359}, {\"threshold\": 0.745, \"p\": 1142, \"fpr\": 0.37047353760445684, \"tpr\": 0.9028021015761821, \"n\": 359}, {\"threshold\": 0.746, \"p\": 1142, \"fpr\": 0.37047353760445684, \"tpr\": 0.9019264448336253, \"n\": 359}, {\"threshold\": 0.747, \"p\": 1142, \"fpr\": 0.37047353760445684, \"tpr\": 0.9019264448336253, \"n\": 359}, {\"threshold\": 0.748, \"p\": 1142, \"fpr\": 0.37047353760445684, \"tpr\": 0.9019264448336253, \"n\": 359}, {\"threshold\": 0.749, \"p\": 1142, \"fpr\": 0.37047353760445684, \"tpr\": 0.9019264448336253, \"n\": 359}, {\"threshold\": 0.75, \"p\": 1142, \"fpr\": 0.37047353760445684, \"tpr\": 0.9019264448336253, \"n\": 359}, {\"threshold\": 0.751, \"p\": 1142, \"fpr\": 0.37047353760445684, \"tpr\": 0.9019264448336253, \"n\": 359}, {\"threshold\": 0.752, \"p\": 1142, \"fpr\": 0.37047353760445684, \"tpr\": 0.9019264448336253, \"n\": 359}, {\"threshold\": 0.753, \"p\": 1142, \"fpr\": 0.37047353760445684, \"tpr\": 0.9019264448336253, \"n\": 359}, {\"threshold\": 0.754, \"p\": 1142, \"fpr\": 0.37047353760445684, \"tpr\": 0.9019264448336253, \"n\": 359}, {\"threshold\": 0.755, \"p\": 1142, \"fpr\": 0.37047353760445684, \"tpr\": 0.9019264448336253, \"n\": 359}, {\"threshold\": 0.756, \"p\": 1142, \"fpr\": 0.37047353760445684, \"tpr\": 0.9019264448336253, \"n\": 359}, {\"threshold\": 0.757, \"p\": 1142, \"fpr\": 0.37047353760445684, \"tpr\": 0.9019264448336253, \"n\": 359}, {\"threshold\": 0.758, \"p\": 1142, \"fpr\": 0.37047353760445684, \"tpr\": 0.9019264448336253, \"n\": 359}, {\"threshold\": 0.759, \"p\": 1142, \"fpr\": 0.37047353760445684, \"tpr\": 0.9019264448336253, \"n\": 359}, {\"threshold\": 0.76, \"p\": 1142, \"fpr\": 0.37047353760445684, \"tpr\": 0.9019264448336253, \"n\": 359}, {\"threshold\": 0.761, \"p\": 1142, \"fpr\": 0.37047353760445684, \"tpr\": 0.9019264448336253, \"n\": 359}, {\"threshold\": 0.762, \"p\": 1142, \"fpr\": 0.37047353760445684, \"tpr\": 0.9019264448336253, \"n\": 359}, {\"threshold\": 0.763, \"p\": 1142, \"fpr\": 0.37047353760445684, \"tpr\": 0.9019264448336253, \"n\": 359}, {\"threshold\": 0.764, \"p\": 1142, \"fpr\": 0.37047353760445684, \"tpr\": 0.9019264448336253, \"n\": 359}, {\"threshold\": 0.765, \"p\": 1142, \"fpr\": 0.37047353760445684, \"tpr\": 0.9019264448336253, \"n\": 359}, {\"threshold\": 0.766, \"p\": 1142, \"fpr\": 0.37047353760445684, \"tpr\": 0.9019264448336253, \"n\": 359}, {\"threshold\": 0.767, \"p\": 1142, \"fpr\": 0.37047353760445684, \"tpr\": 0.9019264448336253, \"n\": 359}, {\"threshold\": 0.768, \"p\": 1142, \"fpr\": 0.37047353760445684, \"tpr\": 0.9019264448336253, \"n\": 359}, {\"threshold\": 0.769, \"p\": 1142, \"fpr\": 0.37047353760445684, \"tpr\": 0.9019264448336253, \"n\": 359}, {\"threshold\": 0.77, \"p\": 1142, \"fpr\": 0.37047353760445684, \"tpr\": 0.9010507880910683, \"n\": 359}, {\"threshold\": 0.771, \"p\": 1142, \"fpr\": 0.37047353760445684, \"tpr\": 0.9010507880910683, \"n\": 359}, {\"threshold\": 0.772, \"p\": 1142, \"fpr\": 0.36768802228412256, \"tpr\": 0.9001751313485113, \"n\": 359}, {\"threshold\": 0.773, \"p\": 1142, \"fpr\": 0.36768802228412256, \"tpr\": 0.9001751313485113, \"n\": 359}, {\"threshold\": 0.774, \"p\": 1142, \"fpr\": 0.36768802228412256, \"tpr\": 0.9001751313485113, \"n\": 359}, {\"threshold\": 0.775, \"p\": 1142, \"fpr\": 0.36768802228412256, \"tpr\": 0.9001751313485113, \"n\": 359}, {\"threshold\": 0.776, \"p\": 1142, \"fpr\": 0.36768802228412256, \"tpr\": 0.9001751313485113, \"n\": 359}, {\"threshold\": 0.777, \"p\": 1142, \"fpr\": 0.36768802228412256, \"tpr\": 0.8992994746059545, \"n\": 359}, {\"threshold\": 0.778, \"p\": 1142, \"fpr\": 0.36768802228412256, \"tpr\": 0.8992994746059545, \"n\": 359}, {\"threshold\": 0.779, \"p\": 1142, \"fpr\": 0.36768802228412256, \"tpr\": 0.8992994746059545, \"n\": 359}, {\"threshold\": 0.78, \"p\": 1142, \"fpr\": 0.3649025069637883, \"tpr\": 0.8992994746059545, \"n\": 359}, {\"threshold\": 0.781, \"p\": 1142, \"fpr\": 0.3649025069637883, \"tpr\": 0.8992994746059545, \"n\": 359}, {\"threshold\": 0.782, \"p\": 1142, \"fpr\": 0.3649025069637883, \"tpr\": 0.8992994746059545, \"n\": 359}, {\"threshold\": 0.783, \"p\": 1142, \"fpr\": 0.3649025069637883, \"tpr\": 0.8992994746059545, \"n\": 359}, {\"threshold\": 0.784, \"p\": 1142, \"fpr\": 0.3649025069637883, \"tpr\": 0.8992994746059545, \"n\": 359}, {\"threshold\": 0.785, \"p\": 1142, \"fpr\": 0.3649025069637883, \"tpr\": 0.8992994746059545, \"n\": 359}, {\"threshold\": 0.786, \"p\": 1142, \"fpr\": 0.3649025069637883, \"tpr\": 0.8992994746059545, \"n\": 359}, {\"threshold\": 0.787, \"p\": 1142, \"fpr\": 0.3649025069637883, \"tpr\": 0.8992994746059545, \"n\": 359}, {\"threshold\": 0.788, \"p\": 1142, \"fpr\": 0.3649025069637883, \"tpr\": 0.8992994746059545, \"n\": 359}, {\"threshold\": 0.789, \"p\": 1142, \"fpr\": 0.3649025069637883, \"tpr\": 0.8992994746059545, \"n\": 359}, {\"threshold\": 0.79, \"p\": 1142, \"fpr\": 0.3649025069637883, \"tpr\": 0.8992994746059545, \"n\": 359}, {\"threshold\": 0.791, \"p\": 1142, \"fpr\": 0.3649025069637883, \"tpr\": 0.8975481611208407, \"n\": 359}, {\"threshold\": 0.792, \"p\": 1142, \"fpr\": 0.3649025069637883, \"tpr\": 0.8975481611208407, \"n\": 359}, {\"threshold\": 0.793, \"p\": 1142, \"fpr\": 0.3649025069637883, \"tpr\": 0.8949211908931699, \"n\": 359}, {\"threshold\": 0.794, \"p\": 1142, \"fpr\": 0.3649025069637883, \"tpr\": 0.8949211908931699, \"n\": 359}, {\"threshold\": 0.795, \"p\": 1142, \"fpr\": 0.3649025069637883, \"tpr\": 0.8949211908931699, \"n\": 359}, {\"threshold\": 0.796, \"p\": 1142, \"fpr\": 0.3649025069637883, \"tpr\": 0.8940455341506129, \"n\": 359}, {\"threshold\": 0.797, \"p\": 1142, \"fpr\": 0.3649025069637883, \"tpr\": 0.8940455341506129, \"n\": 359}, {\"threshold\": 0.798, \"p\": 1142, \"fpr\": 0.3649025069637883, \"tpr\": 0.8940455341506129, \"n\": 359}, {\"threshold\": 0.799, \"p\": 1142, \"fpr\": 0.3649025069637883, \"tpr\": 0.8940455341506129, \"n\": 359}, {\"threshold\": 0.8, \"p\": 1142, \"fpr\": 0.3649025069637883, \"tpr\": 0.8922942206654991, \"n\": 359}, {\"threshold\": 0.801, \"p\": 1142, \"fpr\": 0.3649025069637883, \"tpr\": 0.8922942206654991, \"n\": 359}, {\"threshold\": 0.802, \"p\": 1142, \"fpr\": 0.362116991643454, \"tpr\": 0.8914185639229422, \"n\": 359}, {\"threshold\": 0.803, \"p\": 1142, \"fpr\": 0.362116991643454, \"tpr\": 0.8914185639229422, \"n\": 359}, {\"threshold\": 0.804, \"p\": 1142, \"fpr\": 0.362116991643454, \"tpr\": 0.8914185639229422, \"n\": 359}, {\"threshold\": 0.805, \"p\": 1142, \"fpr\": 0.362116991643454, \"tpr\": 0.8914185639229422, \"n\": 359}, {\"threshold\": 0.806, \"p\": 1142, \"fpr\": 0.362116991643454, \"tpr\": 0.8914185639229422, \"n\": 359}, {\"threshold\": 0.807, \"p\": 1142, \"fpr\": 0.362116991643454, \"tpr\": 0.8914185639229422, \"n\": 359}, {\"threshold\": 0.808, \"p\": 1142, \"fpr\": 0.3593314763231198, \"tpr\": 0.8914185639229422, \"n\": 359}, {\"threshold\": 0.809, \"p\": 1142, \"fpr\": 0.3593314763231198, \"tpr\": 0.8914185639229422, \"n\": 359}, {\"threshold\": 0.81, \"p\": 1142, \"fpr\": 0.3593314763231198, \"tpr\": 0.8914185639229422, \"n\": 359}, {\"threshold\": 0.811, \"p\": 1142, \"fpr\": 0.3593314763231198, \"tpr\": 0.8914185639229422, \"n\": 359}, {\"threshold\": 0.812, \"p\": 1142, \"fpr\": 0.3593314763231198, \"tpr\": 0.8914185639229422, \"n\": 359}, {\"threshold\": 0.813, \"p\": 1142, \"fpr\": 0.3593314763231198, \"tpr\": 0.8914185639229422, \"n\": 359}, {\"threshold\": 0.814, \"p\": 1142, \"fpr\": 0.3593314763231198, \"tpr\": 0.8914185639229422, \"n\": 359}, {\"threshold\": 0.815, \"p\": 1142, \"fpr\": 0.3593314763231198, \"tpr\": 0.8914185639229422, \"n\": 359}, {\"threshold\": 0.816, \"p\": 1142, \"fpr\": 0.3593314763231198, \"tpr\": 0.8914185639229422, \"n\": 359}, {\"threshold\": 0.817, \"p\": 1142, \"fpr\": 0.3593314763231198, \"tpr\": 0.8914185639229422, \"n\": 359}, {\"threshold\": 0.818, \"p\": 1142, \"fpr\": 0.3593314763231198, \"tpr\": 0.8914185639229422, \"n\": 359}, {\"threshold\": 0.819, \"p\": 1142, \"fpr\": 0.3593314763231198, \"tpr\": 0.8914185639229422, \"n\": 359}, {\"threshold\": 0.82, \"p\": 1142, \"fpr\": 0.3593314763231198, \"tpr\": 0.8914185639229422, \"n\": 359}, {\"threshold\": 0.821, \"p\": 1142, \"fpr\": 0.3593314763231198, \"tpr\": 0.8887915936952715, \"n\": 359}, {\"threshold\": 0.822, \"p\": 1142, \"fpr\": 0.3593314763231198, \"tpr\": 0.8887915936952715, \"n\": 359}, {\"threshold\": 0.823, \"p\": 1142, \"fpr\": 0.3593314763231198, \"tpr\": 0.8879159369527145, \"n\": 359}, {\"threshold\": 0.824, \"p\": 1142, \"fpr\": 0.3593314763231198, \"tpr\": 0.8879159369527145, \"n\": 359}, {\"threshold\": 0.825, \"p\": 1142, \"fpr\": 0.3593314763231198, \"tpr\": 0.8879159369527145, \"n\": 359}, {\"threshold\": 0.826, \"p\": 1142, \"fpr\": 0.35376044568245124, \"tpr\": 0.8835376532399299, \"n\": 359}, {\"threshold\": 0.827, \"p\": 1142, \"fpr\": 0.35376044568245124, \"tpr\": 0.882661996497373, \"n\": 359}, {\"threshold\": 0.828, \"p\": 1142, \"fpr\": 0.35376044568245124, \"tpr\": 0.882661996497373, \"n\": 359}, {\"threshold\": 0.829, \"p\": 1142, \"fpr\": 0.35376044568245124, \"tpr\": 0.882661996497373, \"n\": 359}, {\"threshold\": 0.83, \"p\": 1142, \"fpr\": 0.35376044568245124, \"tpr\": 0.882661996497373, \"n\": 359}, {\"threshold\": 0.831, \"p\": 1142, \"fpr\": 0.35376044568245124, \"tpr\": 0.882661996497373, \"n\": 359}, {\"threshold\": 0.832, \"p\": 1142, \"fpr\": 0.35376044568245124, \"tpr\": 0.8817863397548161, \"n\": 359}, {\"threshold\": 0.833, \"p\": 1142, \"fpr\": 0.35376044568245124, \"tpr\": 0.8817863397548161, \"n\": 359}, {\"threshold\": 0.834, \"p\": 1142, \"fpr\": 0.35376044568245124, \"tpr\": 0.8817863397548161, \"n\": 359}, {\"threshold\": 0.835, \"p\": 1142, \"fpr\": 0.35097493036211697, \"tpr\": 0.8817863397548161, \"n\": 359}, {\"threshold\": 0.836, \"p\": 1142, \"fpr\": 0.35097493036211697, \"tpr\": 0.8817863397548161, \"n\": 359}, {\"threshold\": 0.837, \"p\": 1142, \"fpr\": 0.35097493036211697, \"tpr\": 0.8809106830122592, \"n\": 359}, {\"threshold\": 0.838, \"p\": 1142, \"fpr\": 0.35097493036211697, \"tpr\": 0.8800350262697023, \"n\": 359}, {\"threshold\": 0.839, \"p\": 1142, \"fpr\": 0.35097493036211697, \"tpr\": 0.8800350262697023, \"n\": 359}, {\"threshold\": 0.84, \"p\": 1142, \"fpr\": 0.35097493036211697, \"tpr\": 0.8800350262697023, \"n\": 359}, {\"threshold\": 0.841, \"p\": 1142, \"fpr\": 0.35097493036211697, \"tpr\": 0.8791593695271454, \"n\": 359}, {\"threshold\": 0.842, \"p\": 1142, \"fpr\": 0.35097493036211697, \"tpr\": 0.8791593695271454, \"n\": 359}, {\"threshold\": 0.843, \"p\": 1142, \"fpr\": 0.35097493036211697, \"tpr\": 0.8791593695271454, \"n\": 359}, {\"threshold\": 0.844, \"p\": 1142, \"fpr\": 0.35097493036211697, \"tpr\": 0.8782837127845884, \"n\": 359}, {\"threshold\": 0.845, \"p\": 1142, \"fpr\": 0.35097493036211697, \"tpr\": 0.8782837127845884, \"n\": 359}, {\"threshold\": 0.846, \"p\": 1142, \"fpr\": 0.35097493036211697, \"tpr\": 0.8782837127845884, \"n\": 359}, {\"threshold\": 0.847, \"p\": 1142, \"fpr\": 0.35097493036211697, \"tpr\": 0.8782837127845884, \"n\": 359}, {\"threshold\": 0.848, \"p\": 1142, \"fpr\": 0.35097493036211697, \"tpr\": 0.8782837127845884, \"n\": 359}, {\"threshold\": 0.849, \"p\": 1142, \"fpr\": 0.35097493036211697, \"tpr\": 0.8774080560420315, \"n\": 359}, {\"threshold\": 0.85, \"p\": 1142, \"fpr\": 0.34818941504178275, \"tpr\": 0.8774080560420315, \"n\": 359}, {\"threshold\": 0.851, \"p\": 1142, \"fpr\": 0.34818941504178275, \"tpr\": 0.8765323992994746, \"n\": 359}, {\"threshold\": 0.852, \"p\": 1142, \"fpr\": 0.34818941504178275, \"tpr\": 0.8765323992994746, \"n\": 359}, {\"threshold\": 0.853, \"p\": 1142, \"fpr\": 0.34818941504178275, \"tpr\": 0.8756567425569177, \"n\": 359}, {\"threshold\": 0.854, \"p\": 1142, \"fpr\": 0.34818941504178275, \"tpr\": 0.8747810858143608, \"n\": 359}, {\"threshold\": 0.855, \"p\": 1142, \"fpr\": 0.34818941504178275, \"tpr\": 0.8747810858143608, \"n\": 359}, {\"threshold\": 0.856, \"p\": 1142, \"fpr\": 0.34818941504178275, \"tpr\": 0.8747810858143608, \"n\": 359}, {\"threshold\": 0.857, \"p\": 1142, \"fpr\": 0.34818941504178275, \"tpr\": 0.8747810858143608, \"n\": 359}, {\"threshold\": 0.858, \"p\": 1142, \"fpr\": 0.34818941504178275, \"tpr\": 0.8747810858143608, \"n\": 359}, {\"threshold\": 0.859, \"p\": 1142, \"fpr\": 0.34818941504178275, \"tpr\": 0.8739054290718039, \"n\": 359}, {\"threshold\": 0.86, \"p\": 1142, \"fpr\": 0.34818941504178275, \"tpr\": 0.87215411558669, \"n\": 359}, {\"threshold\": 0.861, \"p\": 1142, \"fpr\": 0.34818941504178275, \"tpr\": 0.87215411558669, \"n\": 359}, {\"threshold\": 0.862, \"p\": 1142, \"fpr\": 0.34540389972144847, \"tpr\": 0.8712784588441331, \"n\": 359}, {\"threshold\": 0.863, \"p\": 1142, \"fpr\": 0.34540389972144847, \"tpr\": 0.8712784588441331, \"n\": 359}, {\"threshold\": 0.864, \"p\": 1142, \"fpr\": 0.34540389972144847, \"tpr\": 0.8712784588441331, \"n\": 359}, {\"threshold\": 0.865, \"p\": 1142, \"fpr\": 0.34540389972144847, \"tpr\": 0.8712784588441331, \"n\": 359}, {\"threshold\": 0.866, \"p\": 1142, \"fpr\": 0.34540389972144847, \"tpr\": 0.8712784588441331, \"n\": 359}, {\"threshold\": 0.867, \"p\": 1142, \"fpr\": 0.34540389972144847, \"tpr\": 0.8704028021015762, \"n\": 359}, {\"threshold\": 0.868, \"p\": 1142, \"fpr\": 0.34540389972144847, \"tpr\": 0.8704028021015762, \"n\": 359}, {\"threshold\": 0.869, \"p\": 1142, \"fpr\": 0.34540389972144847, \"tpr\": 0.8704028021015762, \"n\": 359}, {\"threshold\": 0.87, \"p\": 1142, \"fpr\": 0.3426183844011142, \"tpr\": 0.8704028021015762, \"n\": 359}, {\"threshold\": 0.871, \"p\": 1142, \"fpr\": 0.3426183844011142, \"tpr\": 0.8704028021015762, \"n\": 359}, {\"threshold\": 0.872, \"p\": 1142, \"fpr\": 0.3426183844011142, \"tpr\": 0.8704028021015762, \"n\": 359}, {\"threshold\": 0.873, \"p\": 1142, \"fpr\": 0.3426183844011142, \"tpr\": 0.8695271453590193, \"n\": 359}, {\"threshold\": 0.874, \"p\": 1142, \"fpr\": 0.3426183844011142, \"tpr\": 0.8695271453590193, \"n\": 359}, {\"threshold\": 0.875, \"p\": 1142, \"fpr\": 0.3398328690807799, \"tpr\": 0.8695271453590193, \"n\": 359}, {\"threshold\": 0.876, \"p\": 1142, \"fpr\": 0.3398328690807799, \"tpr\": 0.8695271453590193, \"n\": 359}, {\"threshold\": 0.877, \"p\": 1142, \"fpr\": 0.3398328690807799, \"tpr\": 0.8695271453590193, \"n\": 359}, {\"threshold\": 0.878, \"p\": 1142, \"fpr\": 0.3398328690807799, \"tpr\": 0.8695271453590193, \"n\": 359}, {\"threshold\": 0.879, \"p\": 1142, \"fpr\": 0.3398328690807799, \"tpr\": 0.8677758318739054, \"n\": 359}, {\"threshold\": 0.88, \"p\": 1142, \"fpr\": 0.3370473537604457, \"tpr\": 0.8677758318739054, \"n\": 359}, {\"threshold\": 0.881, \"p\": 1142, \"fpr\": 0.3370473537604457, \"tpr\": 0.8669001751313485, \"n\": 359}, {\"threshold\": 0.882, \"p\": 1142, \"fpr\": 0.3370473537604457, \"tpr\": 0.8660245183887916, \"n\": 359}, {\"threshold\": 0.883, \"p\": 1142, \"fpr\": 0.3370473537604457, \"tpr\": 0.8660245183887916, \"n\": 359}, {\"threshold\": 0.884, \"p\": 1142, \"fpr\": 0.3370473537604457, \"tpr\": 0.8660245183887916, \"n\": 359}, {\"threshold\": 0.885, \"p\": 1142, \"fpr\": 0.3370473537604457, \"tpr\": 0.8660245183887916, \"n\": 359}, {\"threshold\": 0.886, \"p\": 1142, \"fpr\": 0.3370473537604457, \"tpr\": 0.8660245183887916, \"n\": 359}, {\"threshold\": 0.887, \"p\": 1142, \"fpr\": 0.3370473537604457, \"tpr\": 0.8660245183887916, \"n\": 359}, {\"threshold\": 0.888, \"p\": 1142, \"fpr\": 0.3370473537604457, \"tpr\": 0.8660245183887916, \"n\": 359}, {\"threshold\": 0.889, \"p\": 1142, \"fpr\": 0.3370473537604457, \"tpr\": 0.8660245183887916, \"n\": 359}, {\"threshold\": 0.89, \"p\": 1142, \"fpr\": 0.3370473537604457, \"tpr\": 0.8651488616462347, \"n\": 359}, {\"threshold\": 0.891, \"p\": 1142, \"fpr\": 0.3370473537604457, \"tpr\": 0.8651488616462347, \"n\": 359}, {\"threshold\": 0.892, \"p\": 1142, \"fpr\": 0.3370473537604457, \"tpr\": 0.8642732049036778, \"n\": 359}, {\"threshold\": 0.893, \"p\": 1142, \"fpr\": 0.3370473537604457, \"tpr\": 0.8642732049036778, \"n\": 359}, {\"threshold\": 0.894, \"p\": 1142, \"fpr\": 0.3370473537604457, \"tpr\": 0.8642732049036778, \"n\": 359}, {\"threshold\": 0.895, \"p\": 1142, \"fpr\": 0.298050139275766, \"tpr\": 0.7740805604203153, \"n\": 359}, {\"threshold\": 0.896, \"p\": 1142, \"fpr\": 0.298050139275766, \"tpr\": 0.7732049036777583, \"n\": 359}, {\"threshold\": 0.897, \"p\": 1142, \"fpr\": 0.298050139275766, \"tpr\": 0.7732049036777583, \"n\": 359}, {\"threshold\": 0.898, \"p\": 1142, \"fpr\": 0.298050139275766, \"tpr\": 0.7705779334500875, \"n\": 359}, {\"threshold\": 0.899, \"p\": 1142, \"fpr\": 0.29526462395543174, \"tpr\": 0.7705779334500875, \"n\": 359}, {\"threshold\": 0.9, \"p\": 1142, \"fpr\": 0.29526462395543174, \"tpr\": 0.7697022767075307, \"n\": 359}, {\"threshold\": 0.901, \"p\": 1142, \"fpr\": 0.29526462395543174, \"tpr\": 0.7688266199649737, \"n\": 359}, {\"threshold\": 0.902, \"p\": 1142, \"fpr\": 0.29526462395543174, \"tpr\": 0.7688266199649737, \"n\": 359}, {\"threshold\": 0.903, \"p\": 1142, \"fpr\": 0.29526462395543174, \"tpr\": 0.7688266199649737, \"n\": 359}, {\"threshold\": 0.904, \"p\": 1142, \"fpr\": 0.29526462395543174, \"tpr\": 0.7679509632224168, \"n\": 359}, {\"threshold\": 0.905, \"p\": 1142, \"fpr\": 0.29526462395543174, \"tpr\": 0.7679509632224168, \"n\": 359}, {\"threshold\": 0.906, \"p\": 1142, \"fpr\": 0.29526462395543174, \"tpr\": 0.7679509632224168, \"n\": 359}, {\"threshold\": 0.907, \"p\": 1142, \"fpr\": 0.2924791086350975, \"tpr\": 0.7679509632224168, \"n\": 359}, {\"threshold\": 0.908, \"p\": 1142, \"fpr\": 0.2924791086350975, \"tpr\": 0.7679509632224168, \"n\": 359}, {\"threshold\": 0.909, \"p\": 1142, \"fpr\": 0.28969359331476324, \"tpr\": 0.7679509632224168, \"n\": 359}, {\"threshold\": 0.91, \"p\": 1142, \"fpr\": 0.28969359331476324, \"tpr\": 0.7679509632224168, \"n\": 359}, {\"threshold\": 0.911, \"p\": 1142, \"fpr\": 0.28969359331476324, \"tpr\": 0.7679509632224168, \"n\": 359}, {\"threshold\": 0.912, \"p\": 1142, \"fpr\": 0.28969359331476324, \"tpr\": 0.7679509632224168, \"n\": 359}, {\"threshold\": 0.913, \"p\": 1142, \"fpr\": 0.28969359331476324, \"tpr\": 0.7679509632224168, \"n\": 359}, {\"threshold\": 0.914, \"p\": 1142, \"fpr\": 0.28969359331476324, \"tpr\": 0.7679509632224168, \"n\": 359}, {\"threshold\": 0.915, \"p\": 1142, \"fpr\": 0.28969359331476324, \"tpr\": 0.7679509632224168, \"n\": 359}, {\"threshold\": 0.916, \"p\": 1142, \"fpr\": 0.28969359331476324, \"tpr\": 0.7670753064798599, \"n\": 359}, {\"threshold\": 0.917, \"p\": 1142, \"fpr\": 0.28969359331476324, \"tpr\": 0.7670753064798599, \"n\": 359}, {\"threshold\": 0.918, \"p\": 1142, \"fpr\": 0.28969359331476324, \"tpr\": 0.7670753064798599, \"n\": 359}, {\"threshold\": 0.919, \"p\": 1142, \"fpr\": 0.28969359331476324, \"tpr\": 0.7670753064798599, \"n\": 359}, {\"threshold\": 0.92, \"p\": 1142, \"fpr\": 0.28969359331476324, \"tpr\": 0.7661996497373029, \"n\": 359}, {\"threshold\": 0.921, \"p\": 1142, \"fpr\": 0.28969359331476324, \"tpr\": 0.7661996497373029, \"n\": 359}, {\"threshold\": 0.922, \"p\": 1142, \"fpr\": 0.28690807799442897, \"tpr\": 0.7661996497373029, \"n\": 359}, {\"threshold\": 0.923, \"p\": 1142, \"fpr\": 0.28690807799442897, \"tpr\": 0.7661996497373029, \"n\": 359}, {\"threshold\": 0.924, \"p\": 1142, \"fpr\": 0.28690807799442897, \"tpr\": 0.7661996497373029, \"n\": 359}, {\"threshold\": 0.925, \"p\": 1142, \"fpr\": 0.28690807799442897, \"tpr\": 0.7661996497373029, \"n\": 359}, {\"threshold\": 0.926, \"p\": 1142, \"fpr\": 0.28690807799442897, \"tpr\": 0.7661996497373029, \"n\": 359}, {\"threshold\": 0.927, \"p\": 1142, \"fpr\": 0.28690807799442897, \"tpr\": 0.7653239929947461, \"n\": 359}, {\"threshold\": 0.928, \"p\": 1142, \"fpr\": 0.28690807799442897, \"tpr\": 0.7653239929947461, \"n\": 359}, {\"threshold\": 0.929, \"p\": 1142, \"fpr\": 0.28690807799442897, \"tpr\": 0.7653239929947461, \"n\": 359}, {\"threshold\": 0.93, \"p\": 1142, \"fpr\": 0.28690807799442897, \"tpr\": 0.7653239929947461, \"n\": 359}, {\"threshold\": 0.931, \"p\": 1142, \"fpr\": 0.28690807799442897, \"tpr\": 0.7635726795096323, \"n\": 359}, {\"threshold\": 0.932, \"p\": 1142, \"fpr\": 0.2841225626740947, \"tpr\": 0.7626970227670753, \"n\": 359}, {\"threshold\": 0.933, \"p\": 1142, \"fpr\": 0.2841225626740947, \"tpr\": 0.7626970227670753, \"n\": 359}, {\"threshold\": 0.934, \"p\": 1142, \"fpr\": 0.2841225626740947, \"tpr\": 0.7626970227670753, \"n\": 359}, {\"threshold\": 0.935, \"p\": 1142, \"fpr\": 0.2841225626740947, \"tpr\": 0.7609457092819615, \"n\": 359}, {\"threshold\": 0.936, \"p\": 1142, \"fpr\": 0.2841225626740947, \"tpr\": 0.7609457092819615, \"n\": 359}, {\"threshold\": 0.937, \"p\": 1142, \"fpr\": 0.2841225626740947, \"tpr\": 0.7609457092819615, \"n\": 359}, {\"threshold\": 0.938, \"p\": 1142, \"fpr\": 0.2841225626740947, \"tpr\": 0.7600700525394045, \"n\": 359}, {\"threshold\": 0.939, \"p\": 1142, \"fpr\": 0.2841225626740947, \"tpr\": 0.7591943957968477, \"n\": 359}, {\"threshold\": 0.94, \"p\": 1142, \"fpr\": 0.2841225626740947, \"tpr\": 0.7591943957968477, \"n\": 359}, {\"threshold\": 0.941, \"p\": 1142, \"fpr\": 0.28133704735376047, \"tpr\": 0.7583187390542907, \"n\": 359}, {\"threshold\": 0.942, \"p\": 1142, \"fpr\": 0.28133704735376047, \"tpr\": 0.7583187390542907, \"n\": 359}, {\"threshold\": 0.943, \"p\": 1142, \"fpr\": 0.28133704735376047, \"tpr\": 0.7565674255691769, \"n\": 359}, {\"threshold\": 0.944, \"p\": 1142, \"fpr\": 0.28133704735376047, \"tpr\": 0.7548161120840631, \"n\": 359}, {\"threshold\": 0.945, \"p\": 1142, \"fpr\": 0.28133704735376047, \"tpr\": 0.7539404553415061, \"n\": 359}, {\"threshold\": 0.946, \"p\": 1142, \"fpr\": 0.28133704735376047, \"tpr\": 0.7530647985989493, \"n\": 359}, {\"threshold\": 0.947, \"p\": 1142, \"fpr\": 0.2785515320334262, \"tpr\": 0.7521891418563923, \"n\": 359}, {\"threshold\": 0.948, \"p\": 1142, \"fpr\": 0.2785515320334262, \"tpr\": 0.7495621716287215, \"n\": 359}, {\"threshold\": 0.949, \"p\": 1142, \"fpr\": 0.2785515320334262, \"tpr\": 0.7486865148861647, \"n\": 359}, {\"threshold\": 0.95, \"p\": 1142, \"fpr\": 0.2757660167130919, \"tpr\": 0.7460595446584939, \"n\": 359}, {\"threshold\": 0.951, \"p\": 1142, \"fpr\": 0.2757660167130919, \"tpr\": 0.7460595446584939, \"n\": 359}, {\"threshold\": 0.952, \"p\": 1142, \"fpr\": 0.2757660167130919, \"tpr\": 0.7443082311733801, \"n\": 359}, {\"threshold\": 0.953, \"p\": 1142, \"fpr\": 0.2757660167130919, \"tpr\": 0.7443082311733801, \"n\": 359}, {\"threshold\": 0.954, \"p\": 1142, \"fpr\": 0.2757660167130919, \"tpr\": 0.7425569176882661, \"n\": 359}, {\"threshold\": 0.955, \"p\": 1142, \"fpr\": 0.2757660167130919, \"tpr\": 0.7425569176882661, \"n\": 359}, {\"threshold\": 0.956, \"p\": 1142, \"fpr\": 0.2757660167130919, \"tpr\": 0.7399299474605955, \"n\": 359}, {\"threshold\": 0.957, \"p\": 1142, \"fpr\": 0.2757660167130919, \"tpr\": 0.7399299474605955, \"n\": 359}, {\"threshold\": 0.958, \"p\": 1142, \"fpr\": 0.27298050139275765, \"tpr\": 0.7373029772329247, \"n\": 359}, {\"threshold\": 0.959, \"p\": 1142, \"fpr\": 0.27298050139275765, \"tpr\": 0.7364273204903677, \"n\": 359}, {\"threshold\": 0.96, \"p\": 1142, \"fpr\": 0.27298050139275765, \"tpr\": 0.7364273204903677, \"n\": 359}, {\"threshold\": 0.961, \"p\": 1142, \"fpr\": 0.27298050139275765, \"tpr\": 0.7346760070052539, \"n\": 359}, {\"threshold\": 0.962, \"p\": 1142, \"fpr\": 0.27298050139275765, \"tpr\": 0.7338003502626971, \"n\": 359}, {\"threshold\": 0.963, \"p\": 1142, \"fpr\": 0.27298050139275765, \"tpr\": 0.7311733800350263, \"n\": 359}, {\"threshold\": 0.964, \"p\": 1142, \"fpr\": 0.27298050139275765, \"tpr\": 0.7302977232924693, \"n\": 359}, {\"threshold\": 0.965, \"p\": 1142, \"fpr\": 0.26740947075208915, \"tpr\": 0.7294220665499125, \"n\": 359}, {\"threshold\": 0.966, \"p\": 1142, \"fpr\": 0.26740947075208915, \"tpr\": 0.7267950963222417, \"n\": 359}, {\"threshold\": 0.967, \"p\": 1142, \"fpr\": 0.26740947075208915, \"tpr\": 0.7267950963222417, \"n\": 359}, {\"threshold\": 0.968, \"p\": 1142, \"fpr\": 0.2646239554317549, \"tpr\": 0.7259194395796847, \"n\": 359}, {\"threshold\": 0.969, \"p\": 1142, \"fpr\": 0.2618384401114206, \"tpr\": 0.7250437828371279, \"n\": 359}, {\"threshold\": 0.97, \"p\": 1142, \"fpr\": 0.2562674094707521, \"tpr\": 0.7206654991243433, \"n\": 359}, {\"threshold\": 0.971, \"p\": 1142, \"fpr\": 0.25348189415041783, \"tpr\": 0.7180385288966725, \"n\": 359}, {\"threshold\": 0.972, \"p\": 1142, \"fpr\": 0.25348189415041783, \"tpr\": 0.7162872154115587, \"n\": 359}, {\"threshold\": 0.973, \"p\": 1142, \"fpr\": 0.25348189415041783, \"tpr\": 0.7162872154115587, \"n\": 359}, {\"threshold\": 0.974, \"p\": 1142, \"fpr\": 0.25348189415041783, \"tpr\": 0.7136602451838879, \"n\": 359}, {\"threshold\": 0.975, \"p\": 1142, \"fpr\": 0.25069637883008355, \"tpr\": 0.7101576182136602, \"n\": 359}, {\"threshold\": 0.976, \"p\": 1142, \"fpr\": 0.25069637883008355, \"tpr\": 0.7092819614711033, \"n\": 359}, {\"threshold\": 0.977, \"p\": 1142, \"fpr\": 0.25069637883008355, \"tpr\": 0.7049036777583187, \"n\": 359}, {\"threshold\": 0.978, \"p\": 1142, \"fpr\": 0.2479108635097493, \"tpr\": 0.702276707530648, \"n\": 359}, {\"threshold\": 0.979, \"p\": 1142, \"fpr\": 0.24512534818941503, \"tpr\": 0.7005253940455342, \"n\": 359}, {\"threshold\": 0.98, \"p\": 1142, \"fpr\": 0.24233983286908078, \"tpr\": 0.6996497373029772, \"n\": 359}, {\"threshold\": 0.981, \"p\": 1142, \"fpr\": 0.2395543175487465, \"tpr\": 0.6952714535901926, \"n\": 359}, {\"threshold\": 0.982, \"p\": 1142, \"fpr\": 0.2395543175487465, \"tpr\": 0.6926444833625219, \"n\": 359}, {\"threshold\": 0.983, \"p\": 1142, \"fpr\": 0.23676880222841226, \"tpr\": 0.6891418563922942, \"n\": 359}, {\"threshold\": 0.984, \"p\": 1142, \"fpr\": 0.23676880222841226, \"tpr\": 0.6865148861646234, \"n\": 359}, {\"threshold\": 0.985, \"p\": 1142, \"fpr\": 0.23676880222841226, \"tpr\": 0.6838879159369528, \"n\": 359}, {\"threshold\": 0.986, \"p\": 1142, \"fpr\": 0.23676880222841226, \"tpr\": 0.6786339754816112, \"n\": 359}, {\"threshold\": 0.987, \"p\": 1142, \"fpr\": 0.23676880222841226, \"tpr\": 0.6760070052539404, \"n\": 359}, {\"threshold\": 0.988, \"p\": 1142, \"fpr\": 0.23676880222841226, \"tpr\": 0.6733800350262698, \"n\": 359}, {\"threshold\": 0.989, \"p\": 1142, \"fpr\": 0.233983286908078, \"tpr\": 0.6690017513134852, \"n\": 359}, {\"threshold\": 0.99, \"p\": 1142, \"fpr\": 0.233983286908078, \"tpr\": 0.6646234676007006, \"n\": 359}, {\"threshold\": 0.991, \"p\": 1142, \"fpr\": 0.22562674094707522, \"tpr\": 0.660245183887916, \"n\": 359}, {\"threshold\": 0.992, \"p\": 1142, \"fpr\": 0.22562674094707522, \"tpr\": 0.6549912434325744, \"n\": 359}, {\"threshold\": 0.993, \"p\": 1142, \"fpr\": 0.22284122562674094, \"tpr\": 0.649737302977233, \"n\": 359}, {\"threshold\": 0.994, \"p\": 1142, \"fpr\": 0.22284122562674094, \"tpr\": 0.6436077057793345, \"n\": 359}, {\"threshold\": 0.995, \"p\": 1142, \"fpr\": 0.2200557103064067, \"tpr\": 0.62784588441331, \"n\": 359}, {\"threshold\": 0.996, \"p\": 1142, \"fpr\": 0.20891364902506965, \"tpr\": 0.617338003502627, \"n\": 359}, {\"threshold\": 0.997, \"p\": 1142, \"fpr\": 0.20334261838440112, \"tpr\": 0.5954465849387041, \"n\": 359}, {\"threshold\": 0.998, \"p\": 1142, \"fpr\": 0.1894150417827298, \"tpr\": 0.5709281961471103, \"n\": 359}, {\"threshold\": 0.999, \"p\": 1142, \"fpr\": 0.16991643454038996, \"tpr\": 0.5359019264448336, \"n\": 359}, {\"threshold\": 1.0, \"p\": 1142, \"fpr\": 0.0, \"tpr\": 0.0, \"n\": 359}]}]]}, e);\n",
       "                });\n",
       "            })();\n",
       "        "
      ]
     },
     "metadata": {},
     "output_type": "display_data"
    }
   ],
   "source": [
    "sentiment_model.show(view='Evaluation')"
   ]
  },
  {
   "cell_type": "code",
   "execution_count": 16,
   "metadata": {
    "collapsed": true
   },
   "outputs": [],
   "source": [
    "twits['predicted_sentiment'] = sentiment_model.predict(twits, output_type='probability')"
   ]
  },
  {
   "cell_type": "code",
   "execution_count": 17,
   "metadata": {
    "collapsed": false
   },
   "outputs": [
    {
     "data": {
      "text/html": [
       "<div style=\"max-height:1000px;max-width:1500px;overflow:auto;\"><table frame=\"box\" rules=\"cols\">\n",
       "    <tr>\n",
       "        <th style=\"padding-left: 1em; padding-right: 1em; text-align: center\">User Name</th>\n",
       "        <th style=\"padding-left: 1em; padding-right: 1em; text-align: center\">body</th>\n",
       "        <th style=\"padding-left: 1em; padding-right: 1em; text-align: center\">created_at</th>\n",
       "        <th style=\"padding-left: 1em; padding-right: 1em; text-align: center\">id</th>\n",
       "        <th style=\"padding-left: 1em; padding-right: 1em; text-align: center\">sentiment</th>\n",
       "        <th style=\"padding-left: 1em; padding-right: 1em; text-align: center\">symbol</th>\n",
       "        <th style=\"padding-left: 1em; padding-right: 1em; text-align: center\">username</th>\n",
       "    </tr>\n",
       "    <tr>\n",
       "        <td style=\"padding-left: 1em; padding-right: 1em; text-align: center; vertical-align: top\">Chris Waage</td>\n",
       "        <td style=\"padding-left: 1em; padding-right: 1em; text-align: center; vertical-align: top\">$TDOC solid growth, solid<br>market share, solid ...</td>\n",
       "        <td style=\"padding-left: 1em; padding-right: 1em; text-align: center; vertical-align: top\">2017-08-04T18:27:50Z</td>\n",
       "        <td style=\"padding-left: 1em; padding-right: 1em; text-align: center; vertical-align: top\">91050434</td>\n",
       "        <td style=\"padding-left: 1em; padding-right: 1em; text-align: center; vertical-align: top\">Bullish</td>\n",
       "        <td style=\"padding-left: 1em; padding-right: 1em; text-align: center; vertical-align: top\">TDOC</td>\n",
       "        <td style=\"padding-left: 1em; padding-right: 1em; text-align: center; vertical-align: top\">Waage</td>\n",
       "    </tr>\n",
       "    <tr>\n",
       "        <td style=\"padding-left: 1em; padding-right: 1em; text-align: center; vertical-align: top\">KC</td>\n",
       "        <td style=\"padding-left: 1em; padding-right: 1em; text-align: center; vertical-align: top\">$RAD one day we will wake<br>up to the news of an PE ...</td>\n",
       "        <td style=\"padding-left: 1em; padding-right: 1em; text-align: center; vertical-align: top\">2017-08-02T17:05:17Z</td>\n",
       "        <td style=\"padding-left: 1em; padding-right: 1em; text-align: center; vertical-align: top\">90711828</td>\n",
       "        <td style=\"padding-left: 1em; padding-right: 1em; text-align: center; vertical-align: top\">Bullish</td>\n",
       "        <td style=\"padding-left: 1em; padding-right: 1em; text-align: center; vertical-align: top\">WBA</td>\n",
       "        <td style=\"padding-left: 1em; padding-right: 1em; text-align: center; vertical-align: top\">kcphaeton</td>\n",
       "    </tr>\n",
       "    <tr>\n",
       "        <td style=\"padding-left: 1em; padding-right: 1em; text-align: center; vertical-align: top\">Brian</td>\n",
       "        <td style=\"padding-left: 1em; padding-right: 1em; text-align: center; vertical-align: top\">$GES made a pretty penny.<br>Still a LOT of room to ...</td>\n",
       "        <td style=\"padding-left: 1em; padding-right: 1em; text-align: center; vertical-align: top\">2017-08-04T08:18:26Z</td>\n",
       "        <td style=\"padding-left: 1em; padding-right: 1em; text-align: center; vertical-align: top\">90969776</td>\n",
       "        <td style=\"padding-left: 1em; padding-right: 1em; text-align: center; vertical-align: top\">Bullish</td>\n",
       "        <td style=\"padding-left: 1em; padding-right: 1em; text-align: center; vertical-align: top\">KR</td>\n",
       "        <td style=\"padding-left: 1em; padding-right: 1em; text-align: center; vertical-align: top\">brianq</td>\n",
       "    </tr>\n",
       "    <tr>\n",
       "        <td style=\"padding-left: 1em; padding-right: 1em; text-align: center; vertical-align: top\">Stefan</td>\n",
       "        <td style=\"padding-left: 1em; padding-right: 1em; text-align: center; vertical-align: top\">$ATVI Grabbing a bunch of<br>calls tomorrow for an ...</td>\n",
       "        <td style=\"padding-left: 1em; padding-right: 1em; text-align: center; vertical-align: top\">2017-08-02T19:11:44Z</td>\n",
       "        <td style=\"padding-left: 1em; padding-right: 1em; text-align: center; vertical-align: top\">90734920</td>\n",
       "        <td style=\"padding-left: 1em; padding-right: 1em; text-align: center; vertical-align: top\">Bullish</td>\n",
       "        <td style=\"padding-left: 1em; padding-right: 1em; text-align: center; vertical-align: top\">ATVI</td>\n",
       "        <td style=\"padding-left: 1em; padding-right: 1em; text-align: center; vertical-align: top\">2Black2Strong</td>\n",
       "    </tr>\n",
       "    <tr>\n",
       "        <td style=\"padding-left: 1em; padding-right: 1em; text-align: center; vertical-align: top\">Bob</td>\n",
       "        <td style=\"padding-left: 1em; padding-right: 1em; text-align: center; vertical-align: top\">$QCOM Good News For<br>Qualcomm. NXPI Reported ...</td>\n",
       "        <td style=\"padding-left: 1em; padding-right: 1em; text-align: center; vertical-align: top\">2017-08-04T12:57:53Z</td>\n",
       "        <td style=\"padding-left: 1em; padding-right: 1em; text-align: center; vertical-align: top\">90983676</td>\n",
       "        <td style=\"padding-left: 1em; padding-right: 1em; text-align: center; vertical-align: top\">Bullish</td>\n",
       "        <td style=\"padding-left: 1em; padding-right: 1em; text-align: center; vertical-align: top\">QCOM</td>\n",
       "        <td style=\"padding-left: 1em; padding-right: 1em; text-align: center; vertical-align: top\">HarvardGrad</td>\n",
       "    </tr>\n",
       "    <tr>\n",
       "        <td style=\"padding-left: 1em; padding-right: 1em; text-align: center; vertical-align: top\">Scott Price</td>\n",
       "        <td style=\"padding-left: 1em; padding-right: 1em; text-align: center; vertical-align: top\">$PANW huge move tomorrow<br>up 5 bucks AH due CNBC ...</td>\n",
       "        <td style=\"padding-left: 1em; padding-right: 1em; text-align: center; vertical-align: top\">2017-08-03T22:06:34Z</td>\n",
       "        <td style=\"padding-left: 1em; padding-right: 1em; text-align: center; vertical-align: top\">90933840</td>\n",
       "        <td style=\"padding-left: 1em; padding-right: 1em; text-align: center; vertical-align: top\">Bullish</td>\n",
       "        <td style=\"padding-left: 1em; padding-right: 1em; text-align: center; vertical-align: top\">PANW</td>\n",
       "        <td style=\"padding-left: 1em; padding-right: 1em; text-align: center; vertical-align: top\">Nbeach</td>\n",
       "    </tr>\n",
       "    <tr>\n",
       "        <td style=\"padding-left: 1em; padding-right: 1em; text-align: center; vertical-align: top\">Ray Guardado</td>\n",
       "        <td style=\"padding-left: 1em; padding-right: 1em; text-align: center; vertical-align: top\">$BBBY a lot of bullish<br>indicators, bullish ...</td>\n",
       "        <td style=\"padding-left: 1em; padding-right: 1em; text-align: center; vertical-align: top\">2017-08-03T22:33:55Z</td>\n",
       "        <td style=\"padding-left: 1em; padding-right: 1em; text-align: center; vertical-align: top\">90936823</td>\n",
       "        <td style=\"padding-left: 1em; padding-right: 1em; text-align: center; vertical-align: top\">Bullish</td>\n",
       "        <td style=\"padding-left: 1em; padding-right: 1em; text-align: center; vertical-align: top\">BBBY</td>\n",
       "        <td style=\"padding-left: 1em; padding-right: 1em; text-align: center; vertical-align: top\">GuardCapital</td>\n",
       "    </tr>\n",
       "    <tr>\n",
       "        <td style=\"padding-left: 1em; padding-right: 1em; text-align: center; vertical-align: top\">Anthony Jones</td>\n",
       "        <td style=\"padding-left: 1em; padding-right: 1em; text-align: center; vertical-align: top\">$ATVI I normally<br>don&amp;#39;t bash stocks ...</td>\n",
       "        <td style=\"padding-left: 1em; padding-right: 1em; text-align: center; vertical-align: top\">2017-08-04T17:12:52Z</td>\n",
       "        <td style=\"padding-left: 1em; padding-right: 1em; text-align: center; vertical-align: top\">91036486</td>\n",
       "        <td style=\"padding-left: 1em; padding-right: 1em; text-align: center; vertical-align: top\">Bullish</td>\n",
       "        <td style=\"padding-left: 1em; padding-right: 1em; text-align: center; vertical-align: top\">ATVI</td>\n",
       "        <td style=\"padding-left: 1em; padding-right: 1em; text-align: center; vertical-align: top\">IamJ0NES</td>\n",
       "    </tr>\n",
       "    <tr>\n",
       "        <td style=\"padding-left: 1em; padding-right: 1em; text-align: center; vertical-align: top\">Bob</td>\n",
       "        <td style=\"padding-left: 1em; padding-right: 1em; text-align: center; vertical-align: top\">$QCOM Good News For<br>Qualcomm. NXPI Reported ...</td>\n",
       "        <td style=\"padding-left: 1em; padding-right: 1em; text-align: center; vertical-align: top\">2017-08-03T22:49:49Z</td>\n",
       "        <td style=\"padding-left: 1em; padding-right: 1em; text-align: center; vertical-align: top\">90938465</td>\n",
       "        <td style=\"padding-left: 1em; padding-right: 1em; text-align: center; vertical-align: top\">Bullish</td>\n",
       "        <td style=\"padding-left: 1em; padding-right: 1em; text-align: center; vertical-align: top\">QCOM</td>\n",
       "        <td style=\"padding-left: 1em; padding-right: 1em; text-align: center; vertical-align: top\">HarvardGrad</td>\n",
       "    </tr>\n",
       "    <tr>\n",
       "        <td style=\"padding-left: 1em; padding-right: 1em; text-align: center; vertical-align: top\">Scott Gordon</td>\n",
       "        <td style=\"padding-left: 1em; padding-right: 1em; text-align: center; vertical-align: top\">$MSG Added ti position<br>today (second add in 5 ...</td>\n",
       "        <td style=\"padding-left: 1em; padding-right: 1em; text-align: center; vertical-align: top\">2017-07-31T18:37:40Z</td>\n",
       "        <td style=\"padding-left: 1em; padding-right: 1em; text-align: center; vertical-align: top\">90448568</td>\n",
       "        <td style=\"padding-left: 1em; padding-right: 1em; text-align: center; vertical-align: top\">Bullish</td>\n",
       "        <td style=\"padding-left: 1em; padding-right: 1em; text-align: center; vertical-align: top\">MSG</td>\n",
       "        <td style=\"padding-left: 1em; padding-right: 1em; text-align: center; vertical-align: top\">scottagordon</td>\n",
       "    </tr>\n",
       "</table>\n",
       "<table frame=\"box\" rules=\"cols\">\n",
       "    <tr>\n",
       "        <th style=\"padding-left: 1em; padding-right: 1em; text-align: center\">word_count</th>\n",
       "        <th style=\"padding-left: 1em; padding-right: 1em; text-align: center\">predicted_sentiment</th>\n",
       "    </tr>\n",
       "    <tr>\n",
       "        <td style=\"padding-left: 1em; padding-right: 1em; text-align: center; vertical-align: top\">{'company.': 1, 'scoop':<br>1, 'solid': 3, 'ride' ...</td>\n",
       "        <td style=\"padding-left: 1em; padding-right: 1em; text-align: center; vertical-align: top\">1.0</td>\n",
       "    </tr>\n",
       "    <tr>\n",
       "        <td style=\"padding-left: 1em; padding-right: 1em; text-align: center; vertical-align: top\">{'purchase': 1, 'rad': 1,<br>'position': 1, 'deal' ...</td>\n",
       "        <td style=\"padding-left: 1em; padding-right: 1em; text-align: center; vertical-align: top\">1.0</td>\n",
       "    </tr>\n",
       "    <tr>\n",
       "        <td style=\"padding-left: 1em; padding-right: 1em; text-align: center; vertical-align: top\">{'grow.': 1, 'penny.': 1,<br>'made': 1, 'room': 1, ...</td>\n",
       "        <td style=\"padding-left: 1em; padding-right: 1em; text-align: center; vertical-align: top\">1.0</td>\n",
       "    </tr>\n",
       "    <tr>\n",
       "        <td style=\"padding-left: 1em; padding-right: 1em; text-align: center; vertical-align: top\">{'sentiment': 1, 'calls':<br>1, 'grabbing': 1, ...</td>\n",
       "        <td style=\"padding-left: 1em; padding-right: 1em; text-align: center; vertical-align: top\">1.0</td>\n",
       "    </tr>\n",
       "    <tr>\n",
       "        <td style=\"padding-left: 1em; padding-right: 1em; text-align: center; vertical-align: top\">{'confirmed': 1, 'good':<br>1, 'financial': 1, ...</td>\n",
       "        <td style=\"padding-left: 1em; padding-right: 1em; text-align: center; vertical-align: top\">1.0</td>\n",
       "    </tr>\n",
       "    <tr>\n",
       "        <td style=\"padding-left: 1em; padding-right: 1em; text-align: center; vertical-align: top\">{'target.': 1, 'huge': 1,<br>'cnbc': 1, 'goldman': 1, ...</td>\n",
       "        <td style=\"padding-left: 1em; padding-right: 1em; text-align: center; vertical-align: top\">1.0</td>\n",
       "    </tr>\n",
       "    <tr>\n",
       "        <td style=\"padding-left: 1em; padding-right: 1em; text-align: center; vertical-align: top\">{'full': 1,<br>'accumulation;': 1, ...</td>\n",
       "        <td style=\"padding-left: 1em; padding-right: 1em; text-align: center; vertical-align: top\">1.0</td>\n",
       "    </tr>\n",
       "    <tr>\n",
       "        <td style=\"padding-left: 1em; padding-right: 1em; text-align: center; vertical-align: top\">{'investment.': 1,<br>'overwatch': 1, 'gold': ...</td>\n",
       "        <td style=\"padding-left: 1em; padding-right: 1em; text-align: center; vertical-align: top\">1.0</td>\n",
       "    </tr>\n",
       "    <tr>\n",
       "        <td style=\"padding-left: 1em; padding-right: 1em; text-align: center; vertical-align: top\">{'confirmed': 1, 'good':<br>1, 'financial': 1, ...</td>\n",
       "        <td style=\"padding-left: 1em; padding-right: 1em; text-align: center; vertical-align: top\">1.0</td>\n",
       "    </tr>\n",
       "    <tr>\n",
       "        <td style=\"padding-left: 1em; padding-right: 1em; text-align: center; vertical-align: top\">{'days).': 1, 'great': 1,<br>'added': 1, 'price': 1, ...</td>\n",
       "        <td style=\"padding-left: 1em; padding-right: 1em; text-align: center; vertical-align: top\">1.0</td>\n",
       "    </tr>\n",
       "</table>\n",
       "[10 rows x 9 columns]<br/>\n",
       "</div>"
      ],
      "text/plain": [
       "Columns:\n",
       "\tUser Name\tstr\n",
       "\tbody\tstr\n",
       "\tcreated_at\tstr\n",
       "\tid\tint\n",
       "\tsentiment\tstr\n",
       "\tsymbol\tstr\n",
       "\tusername\tstr\n",
       "\tword_count\tdict\n",
       "\tpredicted_sentiment\tfloat\n",
       "\n",
       "Rows: 10\n",
       "\n",
       "Data:\n",
       "+---------------+-------------------------------+----------------------+\n",
       "|   User Name   |              body             |      created_at      |\n",
       "+---------------+-------------------------------+----------------------+\n",
       "|  Chris Waage  | $TDOC solid growth, solid ... | 2017-08-04T18:27:50Z |\n",
       "|       KC      | $RAD one day we will wake ... | 2017-08-02T17:05:17Z |\n",
       "|     Brian     | $GES made a pretty penny. ... | 2017-08-04T08:18:26Z |\n",
       "|     Stefan    | $ATVI Grabbing a bunch of ... | 2017-08-02T19:11:44Z |\n",
       "|      Bob      | $QCOM Good News For Qualco... | 2017-08-04T12:57:53Z |\n",
       "|  Scott Price  | $PANW huge move tomorrow u... | 2017-08-03T22:06:34Z |\n",
       "|  Ray Guardado | $BBBY a lot of bullish ind... | 2017-08-03T22:33:55Z |\n",
       "| Anthony Jones | $ATVI I normally don&#39;t... | 2017-08-04T17:12:52Z |\n",
       "|      Bob      | $QCOM Good News For Qualco... | 2017-08-03T22:49:49Z |\n",
       "|  Scott Gordon | $MSG Added ti position tod... | 2017-07-31T18:37:40Z |\n",
       "+---------------+-------------------------------+----------------------+\n",
       "+----------+-----------+--------+---------------+-------------------------------+\n",
       "|    id    | sentiment | symbol |    username   |           word_count          |\n",
       "+----------+-----------+--------+---------------+-------------------------------+\n",
       "| 91050434 |  Bullish  |  TDOC  |     Waage     | {'company.': 1, 'scoop': 1... |\n",
       "| 90711828 |  Bullish  |  WBA   |   kcphaeton   | {'purchase': 1, 'rad': 1, ... |\n",
       "| 90969776 |  Bullish  |   KR   |     brianq    | {'grow.': 1, 'penny.': 1, ... |\n",
       "| 90734920 |  Bullish  |  ATVI  | 2Black2Strong | {'sentiment': 1, 'calls': ... |\n",
       "| 90983676 |  Bullish  |  QCOM  |  HarvardGrad  | {'confirmed': 1, 'good': 1... |\n",
       "| 90933840 |  Bullish  |  PANW  |     Nbeach    | {'target.': 1, 'huge': 1, ... |\n",
       "| 90936823 |  Bullish  |  BBBY  |  GuardCapital | {'full': 1, 'accumulation;... |\n",
       "| 91036486 |  Bullish  |  ATVI  |    IamJ0NES   | {'investment.': 1, 'overwa... |\n",
       "| 90938465 |  Bullish  |  QCOM  |  HarvardGrad  | {'confirmed': 1, 'good': 1... |\n",
       "| 90448568 |  Bullish  |  MSG   |  scottagordon | {'days).': 1, 'great': 1, ... |\n",
       "+----------+-----------+--------+---------------+-------------------------------+\n",
       "+---------------------+\n",
       "| predicted_sentiment |\n",
       "+---------------------+\n",
       "|         1.0         |\n",
       "|         1.0         |\n",
       "|         1.0         |\n",
       "|         1.0         |\n",
       "|         1.0         |\n",
       "|         1.0         |\n",
       "|         1.0         |\n",
       "|         1.0         |\n",
       "|         1.0         |\n",
       "|         1.0         |\n",
       "+---------------------+\n",
       "[10 rows x 9 columns]"
      ]
     },
     "execution_count": 17,
     "metadata": {},
     "output_type": "execute_result"
    }
   ],
   "source": [
    "twits = twits.sort('predicted_sentiment', ascending=False)\n",
    "twits.head()"
   ]
  },
  {
   "cell_type": "code",
   "execution_count": 18,
   "metadata": {
    "collapsed": false
   },
   "outputs": [
    {
     "data": {
      "text/plain": [
       "'$TDOC solid growth, solid market share, solid company. Scoop up your shares now and ride the wave up!'"
      ]
     },
     "execution_count": 18,
     "metadata": {},
     "output_type": "execute_result"
    }
   ],
   "source": [
    "#Most positive review\n",
    "twits[0]['body']"
   ]
  },
  {
   "cell_type": "code",
   "execution_count": 19,
   "metadata": {
    "collapsed": false
   },
   "outputs": [
    {
     "data": {
      "text/plain": [
       "'$RAD one day we will wake up to the news of an PE deal or Activist taking a position to get Rad on Track prior to $WBA closing on Purchase'"
      ]
     },
     "execution_count": 19,
     "metadata": {},
     "output_type": "execute_result"
    }
   ],
   "source": [
    "twits[1]['body']"
   ]
  },
  {
   "cell_type": "code",
   "execution_count": 20,
   "metadata": {
    "collapsed": false
   },
   "outputs": [
    {
     "data": {
      "text/plain": [
       "'$GES made a pretty penny. Still a LOT of room to grow. Follow me for the best retail picks of the year. $AMC $VSI $GNC $KR $M all Extremely'"
      ]
     },
     "execution_count": 20,
     "metadata": {},
     "output_type": "execute_result"
    }
   ],
   "source": [
    "twits[2]['body']"
   ]
  },
  {
   "cell_type": "code",
   "execution_count": 21,
   "metadata": {
    "collapsed": false
   },
   "outputs": [
    {
     "data": {
      "text/plain": [
       "'$BA the Only thing that keeps this up is the war threat. Nobody is selling, I understand. But the longer peace remains the lower it goes'"
      ]
     },
     "execution_count": 21,
     "metadata": {},
     "output_type": "execute_result"
    }
   ],
   "source": [
    "twits[-1]['body']"
   ]
  },
  {
   "cell_type": "code",
   "execution_count": 22,
   "metadata": {
    "collapsed": false
   },
   "outputs": [
    {
     "data": {
      "text/plain": [
       "'$AMAT This is a continuation from june 9th tech selloff. I understand but still painful with LRCX. Will take many weeks to get before june 9'"
      ]
     },
     "execution_count": 22,
     "metadata": {},
     "output_type": "execute_result"
    }
   ],
   "source": [
    "twits[-2]['body']"
   ]
  },
  {
   "cell_type": "code",
   "execution_count": 23,
   "metadata": {
    "collapsed": false
   },
   "outputs": [
    {
     "data": {
      "text/plain": [
       "'$RIO misses on earnings, under investigation for fraudulent business behavior and we gap up to 52 wk high? Lmao short this POS'"
      ]
     },
     "execution_count": 23,
     "metadata": {},
     "output_type": "execute_result"
    }
   ],
   "source": [
    "twits[-3]['body']"
   ]
  },
  {
   "cell_type": "code",
   "execution_count": 24,
   "metadata": {
    "collapsed": false
   },
   "outputs": [
    {
     "name": "stdout",
     "output_type": "stream",
     "text": [
      "+------------+--------------------------+---------+---------------+--------+\n",
      "|    name    |          index           |  class  |     value     | stderr |\n",
      "+------------+--------------------------+---------+---------------+--------+\n",
      "| word_count |       previously,        | Bullish | 23.7832550364 |  None  |\n",
      "| word_count |        this.....         | Bullish | 22.6907712729 |  None  |\n",
      "| word_count |          chaps!          | Bullish | 19.0970342535 |  None  |\n",
      "| word_count |          price:          | Bullish | 16.1137038214 |  None  |\n",
      "| word_count |           otm            | Bullish | 15.4890290972 |  None  |\n",
      "| word_count |          assume          | Bullish | 15.1786835995 |  None  |\n",
      "| word_count |         breaks.          | Bullish | 14.5724305951 |  None  |\n",
      "| word_count |           moon           | Bullish | 13.3346974578 |  None  |\n",
      "| word_count |          asked           | Bullish | 13.0524817306 |  None  |\n",
      "| word_count |          queues          | Bullish | 12.5021495496 |  None  |\n",
      "| word_count |          reason          | Bullish | 12.4886833321 |  None  |\n",
      "| word_count |         @kblaker         | Bullish | 12.2353589771 |  None  |\n",
      "| word_count |        trendline         | Bullish | 12.1681268128 |  None  |\n",
      "| word_count |            ny            | Bullish | 12.1198273444 |  None  |\n",
      "| word_count |       disappears?        | Bullish | 12.0343703926 |  None  |\n",
      "| word_count |        #cheapadrs        | Bullish | 11.9919880931 |  None  |\n",
      "| word_count |           panw           | Bullish | 11.9747820122 |  None  |\n",
      "| word_count |           tied           | Bullish | 11.9436684514 |  None  |\n",
      "| word_count |        stocks...         | Bullish | 11.9436684514 |  None  |\n",
      "| word_count | #mergersandacquisitions  | Bullish | 11.7640243762 |  None  |\n",
      "| word_count |          white           | Bullish | 11.6316822465 |  None  |\n",
      "| word_count |            😬            | Bullish | 11.5552143562 |  None  |\n",
      "| word_count |         limits?          | Bullish | 11.5304274844 |  None  |\n",
      "| word_count |         overdone         | Bullish |  11.468445484 |  None  |\n",
      "| word_count |          damnit          | Bullish |  11.468109816 |  None  |\n",
      "| word_count |         again...         | Bullish | 11.4649208634 |  None  |\n",
      "| word_count | &quot;@daily_stock_plays | Bullish | 11.1531776191 |  None  |\n",
      "| word_count |         today..          | Bullish | 11.0227011906 |  None  |\n",
      "| word_count |    monday....sideways    | Bullish | 10.9027415226 |  None  |\n",
      "| word_count |         averages         | Bullish | 10.8829043759 |  None  |\n",
      "| word_count |          lmao?           | Bullish | 10.7261971376 |  None  |\n",
      "| word_count |           fslr           | Bullish | 10.7250417153 |  None  |\n",
      "| word_count |          swing.          | Bullish |  10.694174578 |  None  |\n",
      "| word_count |        overwatch         | Bullish |  10.650558923 |  None  |\n",
      "| word_count |           of.            | Bullish | 10.4566646808 |  None  |\n",
      "| word_count |          bound?          | Bullish |  10.440974494 |  None  |\n",
      "| word_count |          gains.          | Bullish | 10.4088433007 |  None  |\n",
      "| word_count |         painful.         | Bullish | 10.2818663635 |  None  |\n",
      "| word_count |           is:            | Bullish | 10.2498083102 |  None  |\n",
      "| word_count |          stigma          | Bullish | 10.2022400182 |  None  |\n",
      "| word_count |        outpacing         | Bullish |  10.152085839 |  None  |\n",
      "| word_count |         filling          | Bullish | 10.0089557729 |  None  |\n",
      "| word_count |           mad            | Bullish | 9.88827335854 |  None  |\n",
      "| word_count |          that?\"          | Bullish | 9.81662101388 |  None  |\n",
      "| word_count |       constructive       | Bullish | 9.66946444525 |  None  |\n",
      "| word_count |          movers          | Bullish | 9.60179320462 |  None  |\n",
      "| word_count |      @twickertrades      | Bullish | 9.54163295223 |  None  |\n",
      "| word_count |          idiot           | Bullish | 9.54163295223 |  None  |\n",
      "| word_count |         rock...          | Bullish | 9.54163295223 |  None  |\n",
      "| word_count |          darts           | Bullish | 9.51095130968 |  None  |\n",
      "| word_count |        kerrisdale        | Bullish | 9.50144205115 |  None  |\n",
      "| word_count |        orderflow         | Bullish | 9.47509929874 |  None  |\n",
      "| word_count |         cheaper          | Bullish | 9.45711339288 |  None  |\n",
      "| word_count |         cowards.         | Bullish | 9.45210839735 |  None  |\n",
      "| word_count |           bus            | Bullish | 9.44416459836 |  None  |\n",
      "| word_count |        tomorrow?!        | Bullish | 9.36151503766 |  None  |\n",
      "| word_count |       high🤑🤑👍👍       | Bullish | 9.36004592636 |  None  |\n",
      "| word_count |         high🤑💵         | Bullish | 9.36004592636 |  None  |\n",
      "| word_count |          #opec           | Bullish | 9.26603998007 |  None  |\n",
      "| word_count |           ---            | Bullish | 9.21333170617 |  None  |\n",
      "| word_count |        indicator,        | Bullish | 9.18477742204 |  None  |\n",
      "| word_count |         squeezy.         | Bullish | 9.18477742204 |  None  |\n",
      "| word_count |       --------keep       | Bullish | 9.17877423737 |  None  |\n",
      "| word_count |           boat           | Bullish | 9.17344735852 |  None  |\n",
      "| word_count |         welcomes         | Bullish | 9.16542547942 |  None  |\n",
      "| word_count |         market?          | Bullish | 9.11446489011 |  None  |\n",
      "| word_count |          think?          | Bullish | 9.06805428696 |  None  |\n",
      "| word_count |          shorty          | Bullish | 9.06210505794 |  None  |\n",
      "| word_count |          backs           | Bullish | 9.04364986055 |  None  |\n",
      "| word_count |          golden          | Bullish | 9.03871993824 |  None  |\n",
      "| word_count |          good?           | Bullish | 9.01221448001 |  None  |\n",
      "| word_count |          flow.           | Bullish | 8.94653993614 |  None  |\n",
      "| word_count |          hoping          | Bullish | 8.92856729461 |  None  |\n",
      "| word_count |         israeli          | Bullish | 8.85838516811 |  None  |\n",
      "| word_count |        washington        | Bullish | 8.84642212892 |  None  |\n",
      "| word_count |        release...        | Bullish | 8.80996609254 |  None  |\n",
      "| word_count |   weeeeeeeeeeeeeeeeee    | Bullish | 8.74426991805 |  None  |\n",
      "| word_count |          bears:          | Bullish | 8.72357885178 |  None  |\n",
      "| word_count |       turnaround.        | Bullish | 8.71699241112 |  None  |\n",
      "| word_count |        thoughts?         | Bullish | 8.66646081427 |  None  |\n",
      "| word_count |        quarter...        | Bullish | 8.66223517463 |  None  |\n",
      "| word_count |           is.            | Bullish | 8.63161701249 |  None  |\n",
      "| word_count |       (livermore)        | Bullish | 8.60839741715 |  None  |\n",
      "| word_count |           👌🏼           | Bullish | 8.60082642296 |  None  |\n",
      "| word_count |        reasonable        | Bullish | 8.59829168209 |  None  |\n",
      "| word_count |         homies!!         | Bullish | 8.59829164306 |  None  |\n",
      "| word_count |          wincy           | Bullish | 8.59829164306 |  None  |\n",
      "| word_count |          bummer          | Bullish | 8.59829164306 |  None  |\n",
      "| word_count |        cupnhandle        | Bullish | 8.59829164306 |  None  |\n",
      "| word_count |         peapods          | Bullish | 8.59829164306 |  None  |\n",
      "| word_count |    @luckynumberslevin    | Bullish | 8.59829164306 |  None  |\n",
      "| word_count |        chipotle!         | Bullish | 8.59829164306 |  None  |\n",
      "| word_count |      accumulating..      | Bullish | 8.59829164306 |  None  |\n",
      "| word_count |          days!           | Bullish | 8.59829164306 |  None  |\n",
      "| word_count |          woah!           | Bullish | 8.59829164306 |  None  |\n",
      "| word_count |         spectrum         | Bullish | 8.59829164306 |  None  |\n",
      "| word_count |           🙏🏼           | Bullish | 8.59829164306 |  None  |\n",
      "| word_count |            😎            | Bullish | 8.59829164306 |  None  |\n",
      "| word_count |         shabby.          | Bullish | 8.59829164306 |  None  |\n",
      "| word_count |          in...           | Bullish | 8.59829164306 |  None  |\n",
      "+------------+--------------------------+---------+---------------+--------+\n",
      "[9245 rows x 5 columns]\n",
      "\n"
     ]
    }
   ],
   "source": [
    "#List of positive coefficients \n",
    "sentiment_model['coefficients'].sort('value', ascending=False).print_rows(num_rows=100)"
   ]
  },
  {
   "cell_type": "code",
   "execution_count": 25,
   "metadata": {
    "collapsed": false
   },
   "outputs": [
    {
     "name": "stdout",
     "output_type": "stream",
     "text": [
      "+------------+----------------------------+---------+----------------+--------+\n",
      "|    name    |           index            |  class  |     value      | stderr |\n",
      "+------------+----------------------------+---------+----------------+--------+\n",
      "| word_count |         today....          | Bullish | -22.6080938591 |  None  |\n",
      "| word_count |           puts!            | Bullish | -21.9632710639 |  None  |\n",
      "| word_count |          (shorts)          | Bullish | -19.4759414035 |  None  |\n",
      "| word_count |         accenture          | Bullish | -19.2602712699 |  None  |\n",
      "| word_count |           aprox            | Bullish | -19.124431912  |  None  |\n",
      "| word_count |            cvs             | Bullish | -18.7999192704 |  None  |\n",
      "| word_count |          burning           | Bullish | -18.403781807  |  None  |\n",
      "| word_count |         sideways.          | Bullish | -18.4019551156 |  None  |\n",
      "| word_count |           risen            | Bullish | -17.4817210978 |  None  |\n",
      "| word_count |           blame            | Bullish | -17.0130555339 |  None  |\n",
      "| word_count |          googles           | Bullish | -17.001158499  |  None  |\n",
      "| word_count |          ...wait           | Bullish | -16.6762774782 |  None  |\n",
      "| word_count |          today???          | Bullish | -16.6515576275 |  None  |\n",
      "| word_count |          selloff.          | Bullish | -16.4378546575 |  None  |\n",
      "| word_count |            ☟☟☟             | Bullish | -16.3178113804 |  None  |\n",
      "| word_count |      well.....markets      | Bullish | -16.2603314196 |  None  |\n",
      "| word_count |        financials.         | Bullish | -16.1545674334 |  None  |\n",
      "| word_count |           exact            | Bullish | -16.0854755592 |  None  |\n",
      "| word_count |          rotting           | Bullish | -15.902112245  |  None  |\n",
      "| word_count |         position,          | Bullish | -15.8645279257 |  None  |\n",
      "| word_count |           worst            | Bullish | -15.5798323037 |  None  |\n",
      "| word_count |          weeeeeee          | Bullish | -15.4977811423 |  None  |\n",
      "| word_count |         overvalued         | Bullish | -15.4675885543 |  None  |\n",
      "| word_count |            crap            | Bullish | -15.4462685064 |  None  |\n",
      "| word_count |         himself??          | Bullish | -15.4119999403 |  None  |\n",
      "| word_count |           close)           | Bullish | -15.2205153607 |  None  |\n",
      "| word_count |           toppy.           | Bullish | -15.0807786769 |  None  |\n",
      "| word_count |            ugly            | Bullish | -14.9375231222 |  None  |\n",
      "| word_count |            qep             | Bullish | -14.8175468957 |  None  |\n",
      "| word_count |          regard,           | Bullish | -14.7779953508 |  None  |\n",
      "| word_count |          clearest          | Bullish | -14.7760496725 |  None  |\n",
      "| word_count |           top,we           | Bullish | -14.7024937456 |  None  |\n",
      "| word_count |             gg             | Bullish | -14.7024937456 |  None  |\n",
      "| word_count |         day..down          | Bullish | -14.6931456238 |  None  |\n",
      "| word_count |          guys...           | Bullish | -14.6787427783 |  None  |\n",
      "| word_count |            sea             | Bullish | -14.6223462194 |  None  |\n",
      "| word_count |         crossdown          | Bullish | -14.6067106147 |  None  |\n",
      "| word_count |           lower,           | Bullish | -14.6014908534 |  None  |\n",
      "| word_count |          shorts:           | Bullish |  -14.35101223  |  None  |\n",
      "| word_count |           short:           | Bullish |  -14.35101223  |  None  |\n",
      "| word_count |        trapped..he         | Bullish | -14.3451679648 |  None  |\n",
      "| word_count |           half,            | Bullish | -14.2998541088 |  None  |\n",
      "| word_count |          yiiikes,          | Bullish | -14.1595016622 |  None  |\n",
      "| word_count |          explain           | Bullish | -14.1175919971 |  None  |\n",
      "| word_count |         ascention          | Bullish | -14.1097929941 |  None  |\n",
      "| word_count |          mcplunge          | Bullish | -14.1074268165 |  None  |\n",
      "| word_count |           tomrw            | Bullish | -14.0902140254 |  None  |\n",
      "| word_count |          belong.           | Bullish | -13.8207620285 |  None  |\n",
      "| word_count |           same.            | Bullish | -13.8122094209 |  None  |\n",
      "| word_count |         gravestone         | Bullish | -13.8110631916 |  None  |\n",
      "| word_count |           beatin           | Bullish | -13.7932385992 |  None  |\n",
      "| word_count |            dog             | Bullish | -13.7563647681 |  None  |\n",
      "| word_count |          crosses           | Bullish | -13.5994746042 |  None  |\n",
      "| word_count |           googl            | Bullish | -13.5306844907 |  None  |\n",
      "| word_count |           unwind           | Bullish | -13.5095322076 |  None  |\n",
      "| word_count |            mgmt            | Bullish | -13.4997703749 |  None  |\n",
      "| word_count |       bull...bearish       | Bullish | -13.4458998311 |  None  |\n",
      "| word_count |         breached.          | Bullish | -13.4253054976 |  None  |\n",
      "| word_count |           trash            | Bullish | -13.4049213433 |  None  |\n",
      "| word_count |         bearish..          | Bullish | -13.3556919781 |  None  |\n",
      "| word_count |        encouraging!        | Bullish | -13.3556919781 |  None  |\n",
      "| word_count |      @estimizealerts       | Bullish | -13.2428199121 |  None  |\n",
      "| word_count |           minds            | Bullish | -13.2289901642 |  None  |\n",
      "| word_count |         thrusting          | Bullish | -13.1565174574 |  None  |\n",
      "| word_count |          support.          | Bullish | -13.1486394042 |  None  |\n",
      "| word_count |          credit.           | Bullish | -13.1158939638 |  None  |\n",
      "| word_count |           doesnt           | Bullish | -13.1059528701 |  None  |\n",
      "| word_count |             ss             | Bullish | -12.9114568096 |  None  |\n",
      "| word_count |        (conviction)        | Bullish | -12.9114567884 |  None  |\n",
      "| word_count |        place...lets        | Bullish | -12.9114567778 |  None  |\n",
      "| word_count |           burp.            | Bullish | -12.9114567778 |  None  |\n",
      "| word_count |           red-%            | Bullish | -12.9114567778 |  None  |\n",
      "| word_count |           hopes            | Bullish | -12.9114567778 |  None  |\n",
      "| word_count |           cover,           | Bullish | -12.9114567778 |  None  |\n",
      "| word_count |           redrum           | Bullish | -12.9114567778 |  None  |\n",
      "| word_count |          storm..           | Bullish | -12.9114567778 |  None  |\n",
      "| word_count |            pin?            | Bullish | -12.9114567778 |  None  |\n",
      "| word_count |        blockbuster         | Bullish | -12.9114567778 |  None  |\n",
      "| word_count |           bailed           | Bullish | -12.9114567778 |  None  |\n",
      "| word_count |           hurry            | Bullish | -12.9114567778 |  None  |\n",
      "| word_count |          (bonus)           | Bullish | -12.9114567778 |  None  |\n",
      "| word_count |          goingto           | Bullish | -12.9114567778 |  None  |\n",
      "| word_count |           sucks            | Bullish | -12.9114567778 |  None  |\n",
      "| word_count |         shorthing          | Bullish | -12.9114567778 |  None  |\n",
      "| word_count |             🖕             | Bullish | -12.9114567778 |  None  |\n",
      "| word_count |            hick            | Bullish | -12.9114567778 |  None  |\n",
      "| word_count |         @ewhispers         | Bullish | -12.9114567778 |  None  |\n",
      "| word_count | ...dead....cat...bounce... | Bullish | -12.9114567778 |  None  |\n",
      "| word_count |          ...sell           | Bullish | -12.9114567778 |  None  |\n",
      "| word_count |         aggressive         | Bullish | -12.9041993229 |  None  |\n",
      "| word_count |       term...expect        | Bullish | -12.8848433848 |  None  |\n",
      "| word_count |           fakes            | Bullish | -12.8734134121 |  None  |\n",
      "| word_count |           secure           | Bullish | -12.8689168161 |  None  |\n",
      "| word_count |            tall            | Bullish | -12.8070236541 |  None  |\n",
      "| word_count |          tricked.          | Bullish | -12.7990549854 |  None  |\n",
      "| word_count |          disaster          | Bullish | -12.7298414283 |  None  |\n",
      "| word_count |         downgrades         | Bullish | -12.696445876  |  None  |\n",
      "| word_count |           flush            | Bullish | -12.5791444614 |  None  |\n",
      "| word_count |         happening!         | Bullish | -12.5728800337 |  None  |\n",
      "| word_count |           next!!           | Bullish | -12.5289207138 |  None  |\n",
      "+------------+----------------------------+---------+----------------+--------+\n",
      "[9245 rows x 5 columns]\n",
      "\n"
     ]
    }
   ],
   "source": [
    "sentiment_model['coefficients'].sort('value', ascending=True).print_rows(num_rows=100)"
   ]
  },
  {
   "cell_type": "code",
   "execution_count": null,
   "metadata": {
    "collapsed": true
   },
   "outputs": [],
   "source": []
  },
  {
   "cell_type": "code",
   "execution_count": null,
   "metadata": {
    "collapsed": true
   },
   "outputs": [],
   "source": []
  }
 ],
 "metadata": {
  "kernelspec": {
   "display_name": "Python 2",
   "language": "python",
   "name": "python2"
  },
  "language_info": {
   "codemirror_mode": {
    "name": "ipython",
    "version": 2
   },
   "file_extension": ".py",
   "mimetype": "text/x-python",
   "name": "python",
   "nbconvert_exporter": "python",
   "pygments_lexer": "ipython2",
   "version": "2.7.11"
  }
 },
 "nbformat": 4,
 "nbformat_minor": 0
}
